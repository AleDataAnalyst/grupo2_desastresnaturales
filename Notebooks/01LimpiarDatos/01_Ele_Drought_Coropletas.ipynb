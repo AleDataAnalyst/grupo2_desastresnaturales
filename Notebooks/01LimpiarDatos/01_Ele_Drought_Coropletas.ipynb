{
 "cells": [
  {
   "cell_type": "markdown",
   "metadata": {},
   "source": [
    "## IMPORTAR LIBRERÍAS"
   ]
  },
  {
   "cell_type": "code",
   "execution_count": 13,
   "metadata": {},
   "outputs": [],
   "source": [
    "import numpy as np\n",
    "import pandas as pd\n",
    "import matplotlib.pyplot as plt\n",
    "import seaborn as sns\n",
    "import folium\n",
    "from geopy.geocoders import Nominatim\n",
    "from time import sleep"
   ]
  },
  {
   "cell_type": "markdown",
   "metadata": {},
   "source": [
    "### IMPORTAR PLOTLY\n",
    "Previa instalación en terminal pip install plotly"
   ]
  },
  {
   "cell_type": "code",
   "execution_count": 14,
   "metadata": {},
   "outputs": [],
   "source": [
    "import plotly.express as px"
   ]
  },
  {
   "cell_type": "markdown",
   "metadata": {},
   "source": [
    "### CARGAR CSV"
   ]
  },
  {
   "cell_type": "code",
   "execution_count": 15,
   "metadata": {},
   "outputs": [],
   "source": [
    "df = pd.read_csv('../../02_DesNat_0711_Lc_Cc.csv', delimiter=';', encoding='latin-1')"
   ]
  },
  {
   "cell_type": "markdown",
   "metadata": {},
   "source": [
    "### FILTRAR DROUGHTS"
   ]
  },
  {
   "cell_type": "code",
   "execution_count": 16,
   "metadata": {},
   "outputs": [
    {
     "data": {
      "text/html": [
       "<div>\n",
       "<style scoped>\n",
       "    .dataframe tbody tr th:only-of-type {\n",
       "        vertical-align: middle;\n",
       "    }\n",
       "\n",
       "    .dataframe tbody tr th {\n",
       "        vertical-align: top;\n",
       "    }\n",
       "\n",
       "    .dataframe thead th {\n",
       "        text-align: right;\n",
       "    }\n",
       "</style>\n",
       "<table border=\"1\" class=\"dataframe\">\n",
       "  <thead>\n",
       "    <tr style=\"text-align: right;\">\n",
       "      <th></th>\n",
       "      <th>Dis No</th>\n",
       "      <th>Year</th>\n",
       "      <th>Seq</th>\n",
       "      <th>Disaster Subgroup</th>\n",
       "      <th>Disaster Type</th>\n",
       "      <th>Disaster Subtype</th>\n",
       "      <th>Country</th>\n",
       "      <th>ISO</th>\n",
       "      <th>Region</th>\n",
       "      <th>Continent</th>\n",
       "      <th>...</th>\n",
       "      <th>Longitude</th>\n",
       "      <th>Start Year</th>\n",
       "      <th>Start Month</th>\n",
       "      <th>Start Day</th>\n",
       "      <th>End Year</th>\n",
       "      <th>End Month</th>\n",
       "      <th>End Day</th>\n",
       "      <th>Total Deaths</th>\n",
       "      <th>Total Affected</th>\n",
       "      <th>Total Damages Adj</th>\n",
       "    </tr>\n",
       "  </thead>\n",
       "  <tbody>\n",
       "    <tr>\n",
       "      <th>0</th>\n",
       "      <td>1900-9002-CPV</td>\n",
       "      <td>1900</td>\n",
       "      <td>9002</td>\n",
       "      <td>Climatological</td>\n",
       "      <td>Drought</td>\n",
       "      <td>Drought</td>\n",
       "      <td>Cabo Verde</td>\n",
       "      <td>CPV</td>\n",
       "      <td>Western Africa</td>\n",
       "      <td>Africa</td>\n",
       "      <td>...</td>\n",
       "      <td>NaN</td>\n",
       "      <td>1900</td>\n",
       "      <td>NaN</td>\n",
       "      <td>NaN</td>\n",
       "      <td>1900</td>\n",
       "      <td>NaN</td>\n",
       "      <td>NaN</td>\n",
       "      <td>11000.0</td>\n",
       "      <td>NaN</td>\n",
       "      <td>NaN</td>\n",
       "    </tr>\n",
       "    <tr>\n",
       "      <th>1</th>\n",
       "      <td>1900-9001-IND</td>\n",
       "      <td>1900</td>\n",
       "      <td>9001</td>\n",
       "      <td>Climatological</td>\n",
       "      <td>Drought</td>\n",
       "      <td>Drought</td>\n",
       "      <td>India</td>\n",
       "      <td>IND</td>\n",
       "      <td>Southern Asia</td>\n",
       "      <td>Asia</td>\n",
       "      <td>...</td>\n",
       "      <td>NaN</td>\n",
       "      <td>1900</td>\n",
       "      <td>NaN</td>\n",
       "      <td>NaN</td>\n",
       "      <td>1900</td>\n",
       "      <td>NaN</td>\n",
       "      <td>NaN</td>\n",
       "      <td>1250000.0</td>\n",
       "      <td>NaN</td>\n",
       "      <td>NaN</td>\n",
       "    </tr>\n",
       "    <tr>\n",
       "      <th>24</th>\n",
       "      <td>1910-9006-BFA</td>\n",
       "      <td>1910</td>\n",
       "      <td>9006</td>\n",
       "      <td>Climatological</td>\n",
       "      <td>Drought</td>\n",
       "      <td>Drought</td>\n",
       "      <td>Burkina Faso</td>\n",
       "      <td>BFA</td>\n",
       "      <td>Western Africa</td>\n",
       "      <td>Africa</td>\n",
       "      <td>...</td>\n",
       "      <td>NaN</td>\n",
       "      <td>1910</td>\n",
       "      <td>NaN</td>\n",
       "      <td>NaN</td>\n",
       "      <td>1914</td>\n",
       "      <td>NaN</td>\n",
       "      <td>NaN</td>\n",
       "      <td>NaN</td>\n",
       "      <td>NaN</td>\n",
       "      <td>NaN</td>\n",
       "    </tr>\n",
       "    <tr>\n",
       "      <th>27</th>\n",
       "      <td>1910-9006-CPV</td>\n",
       "      <td>1910</td>\n",
       "      <td>9006</td>\n",
       "      <td>Climatological</td>\n",
       "      <td>Drought</td>\n",
       "      <td>Drought</td>\n",
       "      <td>Cabo Verde</td>\n",
       "      <td>CPV</td>\n",
       "      <td>Western Africa</td>\n",
       "      <td>Africa</td>\n",
       "      <td>...</td>\n",
       "      <td>NaN</td>\n",
       "      <td>1910</td>\n",
       "      <td>NaN</td>\n",
       "      <td>NaN</td>\n",
       "      <td>1914</td>\n",
       "      <td>NaN</td>\n",
       "      <td>NaN</td>\n",
       "      <td>NaN</td>\n",
       "      <td>NaN</td>\n",
       "      <td>NaN</td>\n",
       "    </tr>\n",
       "    <tr>\n",
       "      <th>30</th>\n",
       "      <td>1910-9006-GMB</td>\n",
       "      <td>1910</td>\n",
       "      <td>9006</td>\n",
       "      <td>Climatological</td>\n",
       "      <td>Drought</td>\n",
       "      <td>Drought</td>\n",
       "      <td>Gambia (the)</td>\n",
       "      <td>GMB</td>\n",
       "      <td>Western Africa</td>\n",
       "      <td>Africa</td>\n",
       "      <td>...</td>\n",
       "      <td>NaN</td>\n",
       "      <td>1910</td>\n",
       "      <td>NaN</td>\n",
       "      <td>NaN</td>\n",
       "      <td>1914</td>\n",
       "      <td>NaN</td>\n",
       "      <td>NaN</td>\n",
       "      <td>NaN</td>\n",
       "      <td>NaN</td>\n",
       "      <td>NaN</td>\n",
       "    </tr>\n",
       "  </tbody>\n",
       "</table>\n",
       "<p>5 rows × 26 columns</p>\n",
       "</div>"
      ],
      "text/plain": [
       "           Dis No  Year   Seq Disaster Subgroup Disaster Type  \\\n",
       "0   1900-9002-CPV  1900  9002    Climatological       Drought   \n",
       "1   1900-9001-IND  1900  9001    Climatological       Drought   \n",
       "24  1910-9006-BFA  1910  9006    Climatological       Drought   \n",
       "27  1910-9006-CPV  1910  9006    Climatological       Drought   \n",
       "30  1910-9006-GMB  1910  9006    Climatological       Drought   \n",
       "\n",
       "   Disaster Subtype       Country  ISO          Region Continent  ...  \\\n",
       "0           Drought    Cabo Verde  CPV  Western Africa    Africa  ...   \n",
       "1           Drought         India  IND   Southern Asia      Asia  ...   \n",
       "24          Drought  Burkina Faso  BFA  Western Africa    Africa  ...   \n",
       "27          Drought    Cabo Verde  CPV  Western Africa    Africa  ...   \n",
       "30          Drought  Gambia (the)  GMB  Western Africa    Africa  ...   \n",
       "\n",
       "   Longitude Start Year Start Month  Start Day End Year End Month End Day  \\\n",
       "0        NaN       1900         NaN        NaN     1900       NaN     NaN   \n",
       "1        NaN       1900         NaN        NaN     1900       NaN     NaN   \n",
       "24       NaN       1910         NaN        NaN     1914       NaN     NaN   \n",
       "27       NaN       1910         NaN        NaN     1914       NaN     NaN   \n",
       "30       NaN       1910         NaN        NaN     1914       NaN     NaN   \n",
       "\n",
       "    Total Deaths  Total Affected  Total Damages Adj  \n",
       "0        11000.0             NaN                NaN  \n",
       "1      1250000.0             NaN                NaN  \n",
       "24           NaN             NaN                NaN  \n",
       "27           NaN             NaN                NaN  \n",
       "30           NaN             NaN                NaN  \n",
       "\n",
       "[5 rows x 26 columns]"
      ]
     },
     "execution_count": 16,
     "metadata": {},
     "output_type": "execute_result"
    }
   ],
   "source": [
    "filter = df['Disaster Type'] == 'Drought'\n",
    "\n",
    "df_drought = df[filter]\n",
    "\n",
    "df_drought.head()"
   ]
  },
  {
   "cell_type": "markdown",
   "metadata": {},
   "source": [
    "Para crear el mapa de coropletas es necesario pasar el listado de países, que tenemos, y el valor que queremos representar. En este caso es el número de sequías, así que es necesario crear un dataframe con los valores del conteo y los países."
   ]
  },
  {
   "cell_type": "code",
   "execution_count": 33,
   "metadata": {},
   "outputs": [],
   "source": [
    "# Crea una serie con los conteos de sequías por país\n",
    "a = df_drought['Country'].value_counts()\n",
    "\n",
    "# Convierte la serie en un DataFrame y creamos un nuevo índice\n",
    "df2 = a.reset_index()\n",
    "\n",
    "# Renombrar las columnas\n",
    "df2.columns = ['Country', 'Droughts']"
   ]
  },
  {
   "cell_type": "code",
   "execution_count": 34,
   "metadata": {},
   "outputs": [
    {
     "data": {
      "text/html": [
       "<div>\n",
       "<style scoped>\n",
       "    .dataframe tbody tr th:only-of-type {\n",
       "        vertical-align: middle;\n",
       "    }\n",
       "\n",
       "    .dataframe tbody tr th {\n",
       "        vertical-align: top;\n",
       "    }\n",
       "\n",
       "    .dataframe thead th {\n",
       "        text-align: right;\n",
       "    }\n",
       "</style>\n",
       "<table border=\"1\" class=\"dataframe\">\n",
       "  <thead>\n",
       "    <tr style=\"text-align: right;\">\n",
       "      <th></th>\n",
       "      <th>Country</th>\n",
       "      <th>Droughts</th>\n",
       "    </tr>\n",
       "  </thead>\n",
       "  <tbody>\n",
       "    <tr>\n",
       "      <th>0</th>\n",
       "      <td>China</td>\n",
       "      <td>41</td>\n",
       "    </tr>\n",
       "    <tr>\n",
       "      <th>1</th>\n",
       "      <td>Brazil</td>\n",
       "      <td>21</td>\n",
       "    </tr>\n",
       "    <tr>\n",
       "      <th>2</th>\n",
       "      <td>United States of America (the)</td>\n",
       "      <td>19</td>\n",
       "    </tr>\n",
       "    <tr>\n",
       "      <th>3</th>\n",
       "      <td>Ethiopia</td>\n",
       "      <td>18</td>\n",
       "    </tr>\n",
       "    <tr>\n",
       "      <th>4</th>\n",
       "      <td>Kenya</td>\n",
       "      <td>17</td>\n",
       "    </tr>\n",
       "  </tbody>\n",
       "</table>\n",
       "</div>"
      ],
      "text/plain": [
       "                          Country  Droughts\n",
       "0                           China        41\n",
       "1                          Brazil        21\n",
       "2  United States of America (the)        19\n",
       "3                        Ethiopia        18\n",
       "4                           Kenya        17"
      ]
     },
     "execution_count": 34,
     "metadata": {},
     "output_type": "execute_result"
    }
   ],
   "source": [
    "df2.head()"
   ]
  },
  {
   "cell_type": "code",
   "execution_count": 36,
   "metadata": {},
   "outputs": [
    {
     "data": {
      "application/vnd.plotly.v1+json": {
       "config": {
        "plotlyServerURL": "https://plot.ly"
       },
       "data": [
        {
         "coloraxis": "coloraxis",
         "geo": "geo",
         "hovertemplate": "Country=%{location}<br>Droughts=%{z}<extra></extra>",
         "locationmode": "country names",
         "locations": [
          "China",
          "Brazil",
          "United States of America (the)",
          "Ethiopia",
          "Kenya",
          "Niger (the)",
          "Somalia",
          "India",
          "Mauritania",
          "Mozambique",
          "Burkina Faso",
          "Honduras",
          "Mali",
          "Bolivia (Plurinational State of)",
          "Sri Lanka",
          "Chad",
          "South Africa",
          "Thailand",
          "Cabo Verde",
          "Australia",
          "Senegal",
          "Tanzania, United Republic of",
          "Sudan (the)",
          "Philippines (the)",
          "Djibouti",
          "Indonesia",
          "Madagascar",
          "Uganda",
          "Malawi",
          "Zimbabwe",
          "Angola",
          "Haiti",
          "Gambia (the)",
          "Paraguay",
          "Lesotho",
          "Namibia",
          "Peru",
          "Afghanistan",
          "Hong Kong",
          "Bangladesh",
          "El Salvador",
          "Cuba",
          "Botswana",
          "Mexico",
          "Guatemala",
          "Zambia",
          "Eswatini",
          "Viet Nam",
          "Nicaragua",
          "Cambodia",
          "Lao People's Democratic Republic (the)",
          "Rwanda",
          "Burundi",
          "Nepal",
          "Guinea-Bissau",
          "Cameroon",
          "Costa Rica",
          "France",
          "Morocco",
          "Italy",
          "Russian Federation (the)",
          "Canada",
          "Spain",
          "Portugal",
          "Panama",
          "Korea (the Democratic People's Republic of)",
          "Ecuador",
          "Argentina",
          "Jamaica",
          "Moldova (the Republic of)",
          "Marshall Islands (the)",
          "South Sudan",
          "Uruguay",
          "Syrian Arab Republic",
          "Congo (the Democratic Republic of the)",
          "Eritrea",
          "Lithuania",
          "Solomon Islands",
          "Hungary",
          "Papua New Guinea",
          "Fiji",
          "Togo",
          "Iraq",
          "Iran (Islamic Republic of)",
          "Guyana",
          "Ghana",
          "Timor-Leste",
          "Tuvalu",
          "Chile",
          "Tajikistan",
          "Pakistan",
          "Yemen P Dem Rep",
          "Korea (the Republic of)",
          "Jordan",
          "Malaysia",
          "Nigeria",
          "Colombia",
          "Bosnia and Herzegovina",
          "Tunisia",
          "Yemen Arab Rep",
          "Micronesia (Federated States of)",
          "Guinea",
          "New Zealand",
          "Benin",
          "Bulgaria",
          "Central African Republic",
          "Cyprus",
          "Romania",
          "Saint Vincent and the Grenadines",
          "Grenada",
          "Barbados",
          "Kyrgyzstan",
          "Venezuela (Bolivarian Republic of)",
          "Trinidad and Tobago",
          "Saint Lucia",
          "Macedonia (the former Yugoslav Republic of)",
          "Dominican Republic (the)",
          "Antigua and Barbuda",
          "Belgium",
          "Ukraine",
          "Liberia",
          "Tonga",
          "Samoa",
          "Poland",
          "Kazakhstan",
          "Palau",
          "Croatia",
          "Soviet Union",
          "Uzbekistan",
          "Albania",
          "Anguilla",
          "Cï¿½te dï¿½Ivoire",
          "Japan",
          "Puerto Rico",
          "Greece",
          "Denmark",
          "Armenia",
          "Azerbaijan",
          "Sao Tome and Principe",
          "Congo (the)",
          "Mauritius",
          "Israel",
          "Comoros (the)",
          "Kiribati",
          "Mongolia",
          "Georgia",
          "Algeria",
          "Yugoslavia",
          "United Kingdom of Great Britain and Northern Ireland (the)"
         ],
         "name": "",
         "type": "choropleth",
         "z": [
          41,
          21,
          19,
          18,
          17,
          17,
          17,
          16,
          15,
          15,
          15,
          13,
          13,
          13,
          12,
          12,
          12,
          12,
          12,
          11,
          11,
          11,
          10,
          10,
          10,
          10,
          10,
          10,
          9,
          9,
          9,
          9,
          9,
          9,
          9,
          9,
          8,
          8,
          7,
          7,
          7,
          7,
          7,
          7,
          7,
          7,
          7,
          7,
          6,
          6,
          6,
          6,
          6,
          6,
          6,
          6,
          5,
          5,
          5,
          5,
          5,
          5,
          4,
          4,
          4,
          4,
          4,
          4,
          4,
          3,
          3,
          3,
          3,
          3,
          3,
          3,
          3,
          3,
          3,
          3,
          3,
          3,
          3,
          3,
          3,
          3,
          2,
          2,
          2,
          2,
          2,
          2,
          2,
          2,
          2,
          2,
          2,
          2,
          2,
          2,
          2,
          2,
          2,
          2,
          2,
          2,
          2,
          2,
          1,
          1,
          1,
          1,
          1,
          1,
          1,
          1,
          1,
          1,
          1,
          1,
          1,
          1,
          1,
          1,
          1,
          1,
          1,
          1,
          1,
          1,
          1,
          1,
          1,
          1,
          1,
          1,
          1,
          1,
          1,
          1,
          1,
          1,
          1,
          1,
          1,
          1,
          1,
          1,
          1
         ]
        }
       ],
       "layout": {
        "coloraxis": {
         "colorbar": {
          "title": {
           "text": "Droughts"
          }
         },
         "colorscale": [
          [
           0,
           "rgb(255,245,240)"
          ],
          [
           0.125,
           "rgb(254,224,210)"
          ],
          [
           0.25,
           "rgb(252,187,161)"
          ],
          [
           0.375,
           "rgb(252,146,114)"
          ],
          [
           0.5,
           "rgb(251,106,74)"
          ],
          [
           0.625,
           "rgb(239,59,44)"
          ],
          [
           0.75,
           "rgb(203,24,29)"
          ],
          [
           0.875,
           "rgb(165,15,21)"
          ],
          [
           1,
           "rgb(103,0,13)"
          ]
         ]
        },
        "geo": {
         "center": {},
         "domain": {
          "x": [
           0,
           1
          ],
          "y": [
           0,
           1
          ]
         }
        },
        "legend": {
         "tracegroupgap": 0
        },
        "template": {
         "data": {
          "bar": [
           {
            "error_x": {
             "color": "#2a3f5f"
            },
            "error_y": {
             "color": "#2a3f5f"
            },
            "marker": {
             "line": {
              "color": "#E5ECF6",
              "width": 0.5
             },
             "pattern": {
              "fillmode": "overlay",
              "size": 10,
              "solidity": 0.2
             }
            },
            "type": "bar"
           }
          ],
          "barpolar": [
           {
            "marker": {
             "line": {
              "color": "#E5ECF6",
              "width": 0.5
             },
             "pattern": {
              "fillmode": "overlay",
              "size": 10,
              "solidity": 0.2
             }
            },
            "type": "barpolar"
           }
          ],
          "carpet": [
           {
            "aaxis": {
             "endlinecolor": "#2a3f5f",
             "gridcolor": "white",
             "linecolor": "white",
             "minorgridcolor": "white",
             "startlinecolor": "#2a3f5f"
            },
            "baxis": {
             "endlinecolor": "#2a3f5f",
             "gridcolor": "white",
             "linecolor": "white",
             "minorgridcolor": "white",
             "startlinecolor": "#2a3f5f"
            },
            "type": "carpet"
           }
          ],
          "choropleth": [
           {
            "colorbar": {
             "outlinewidth": 0,
             "ticks": ""
            },
            "type": "choropleth"
           }
          ],
          "contour": [
           {
            "colorbar": {
             "outlinewidth": 0,
             "ticks": ""
            },
            "colorscale": [
             [
              0,
              "#0d0887"
             ],
             [
              0.1111111111111111,
              "#46039f"
             ],
             [
              0.2222222222222222,
              "#7201a8"
             ],
             [
              0.3333333333333333,
              "#9c179e"
             ],
             [
              0.4444444444444444,
              "#bd3786"
             ],
             [
              0.5555555555555556,
              "#d8576b"
             ],
             [
              0.6666666666666666,
              "#ed7953"
             ],
             [
              0.7777777777777778,
              "#fb9f3a"
             ],
             [
              0.8888888888888888,
              "#fdca26"
             ],
             [
              1,
              "#f0f921"
             ]
            ],
            "type": "contour"
           }
          ],
          "contourcarpet": [
           {
            "colorbar": {
             "outlinewidth": 0,
             "ticks": ""
            },
            "type": "contourcarpet"
           }
          ],
          "heatmap": [
           {
            "colorbar": {
             "outlinewidth": 0,
             "ticks": ""
            },
            "colorscale": [
             [
              0,
              "#0d0887"
             ],
             [
              0.1111111111111111,
              "#46039f"
             ],
             [
              0.2222222222222222,
              "#7201a8"
             ],
             [
              0.3333333333333333,
              "#9c179e"
             ],
             [
              0.4444444444444444,
              "#bd3786"
             ],
             [
              0.5555555555555556,
              "#d8576b"
             ],
             [
              0.6666666666666666,
              "#ed7953"
             ],
             [
              0.7777777777777778,
              "#fb9f3a"
             ],
             [
              0.8888888888888888,
              "#fdca26"
             ],
             [
              1,
              "#f0f921"
             ]
            ],
            "type": "heatmap"
           }
          ],
          "heatmapgl": [
           {
            "colorbar": {
             "outlinewidth": 0,
             "ticks": ""
            },
            "colorscale": [
             [
              0,
              "#0d0887"
             ],
             [
              0.1111111111111111,
              "#46039f"
             ],
             [
              0.2222222222222222,
              "#7201a8"
             ],
             [
              0.3333333333333333,
              "#9c179e"
             ],
             [
              0.4444444444444444,
              "#bd3786"
             ],
             [
              0.5555555555555556,
              "#d8576b"
             ],
             [
              0.6666666666666666,
              "#ed7953"
             ],
             [
              0.7777777777777778,
              "#fb9f3a"
             ],
             [
              0.8888888888888888,
              "#fdca26"
             ],
             [
              1,
              "#f0f921"
             ]
            ],
            "type": "heatmapgl"
           }
          ],
          "histogram": [
           {
            "marker": {
             "pattern": {
              "fillmode": "overlay",
              "size": 10,
              "solidity": 0.2
             }
            },
            "type": "histogram"
           }
          ],
          "histogram2d": [
           {
            "colorbar": {
             "outlinewidth": 0,
             "ticks": ""
            },
            "colorscale": [
             [
              0,
              "#0d0887"
             ],
             [
              0.1111111111111111,
              "#46039f"
             ],
             [
              0.2222222222222222,
              "#7201a8"
             ],
             [
              0.3333333333333333,
              "#9c179e"
             ],
             [
              0.4444444444444444,
              "#bd3786"
             ],
             [
              0.5555555555555556,
              "#d8576b"
             ],
             [
              0.6666666666666666,
              "#ed7953"
             ],
             [
              0.7777777777777778,
              "#fb9f3a"
             ],
             [
              0.8888888888888888,
              "#fdca26"
             ],
             [
              1,
              "#f0f921"
             ]
            ],
            "type": "histogram2d"
           }
          ],
          "histogram2dcontour": [
           {
            "colorbar": {
             "outlinewidth": 0,
             "ticks": ""
            },
            "colorscale": [
             [
              0,
              "#0d0887"
             ],
             [
              0.1111111111111111,
              "#46039f"
             ],
             [
              0.2222222222222222,
              "#7201a8"
             ],
             [
              0.3333333333333333,
              "#9c179e"
             ],
             [
              0.4444444444444444,
              "#bd3786"
             ],
             [
              0.5555555555555556,
              "#d8576b"
             ],
             [
              0.6666666666666666,
              "#ed7953"
             ],
             [
              0.7777777777777778,
              "#fb9f3a"
             ],
             [
              0.8888888888888888,
              "#fdca26"
             ],
             [
              1,
              "#f0f921"
             ]
            ],
            "type": "histogram2dcontour"
           }
          ],
          "mesh3d": [
           {
            "colorbar": {
             "outlinewidth": 0,
             "ticks": ""
            },
            "type": "mesh3d"
           }
          ],
          "parcoords": [
           {
            "line": {
             "colorbar": {
              "outlinewidth": 0,
              "ticks": ""
             }
            },
            "type": "parcoords"
           }
          ],
          "pie": [
           {
            "automargin": true,
            "type": "pie"
           }
          ],
          "scatter": [
           {
            "fillpattern": {
             "fillmode": "overlay",
             "size": 10,
             "solidity": 0.2
            },
            "type": "scatter"
           }
          ],
          "scatter3d": [
           {
            "line": {
             "colorbar": {
              "outlinewidth": 0,
              "ticks": ""
             }
            },
            "marker": {
             "colorbar": {
              "outlinewidth": 0,
              "ticks": ""
             }
            },
            "type": "scatter3d"
           }
          ],
          "scattercarpet": [
           {
            "marker": {
             "colorbar": {
              "outlinewidth": 0,
              "ticks": ""
             }
            },
            "type": "scattercarpet"
           }
          ],
          "scattergeo": [
           {
            "marker": {
             "colorbar": {
              "outlinewidth": 0,
              "ticks": ""
             }
            },
            "type": "scattergeo"
           }
          ],
          "scattergl": [
           {
            "marker": {
             "colorbar": {
              "outlinewidth": 0,
              "ticks": ""
             }
            },
            "type": "scattergl"
           }
          ],
          "scattermapbox": [
           {
            "marker": {
             "colorbar": {
              "outlinewidth": 0,
              "ticks": ""
             }
            },
            "type": "scattermapbox"
           }
          ],
          "scatterpolar": [
           {
            "marker": {
             "colorbar": {
              "outlinewidth": 0,
              "ticks": ""
             }
            },
            "type": "scatterpolar"
           }
          ],
          "scatterpolargl": [
           {
            "marker": {
             "colorbar": {
              "outlinewidth": 0,
              "ticks": ""
             }
            },
            "type": "scatterpolargl"
           }
          ],
          "scatterternary": [
           {
            "marker": {
             "colorbar": {
              "outlinewidth": 0,
              "ticks": ""
             }
            },
            "type": "scatterternary"
           }
          ],
          "surface": [
           {
            "colorbar": {
             "outlinewidth": 0,
             "ticks": ""
            },
            "colorscale": [
             [
              0,
              "#0d0887"
             ],
             [
              0.1111111111111111,
              "#46039f"
             ],
             [
              0.2222222222222222,
              "#7201a8"
             ],
             [
              0.3333333333333333,
              "#9c179e"
             ],
             [
              0.4444444444444444,
              "#bd3786"
             ],
             [
              0.5555555555555556,
              "#d8576b"
             ],
             [
              0.6666666666666666,
              "#ed7953"
             ],
             [
              0.7777777777777778,
              "#fb9f3a"
             ],
             [
              0.8888888888888888,
              "#fdca26"
             ],
             [
              1,
              "#f0f921"
             ]
            ],
            "type": "surface"
           }
          ],
          "table": [
           {
            "cells": {
             "fill": {
              "color": "#EBF0F8"
             },
             "line": {
              "color": "white"
             }
            },
            "header": {
             "fill": {
              "color": "#C8D4E3"
             },
             "line": {
              "color": "white"
             }
            },
            "type": "table"
           }
          ]
         },
         "layout": {
          "annotationdefaults": {
           "arrowcolor": "#2a3f5f",
           "arrowhead": 0,
           "arrowwidth": 1
          },
          "autotypenumbers": "strict",
          "coloraxis": {
           "colorbar": {
            "outlinewidth": 0,
            "ticks": ""
           }
          },
          "colorscale": {
           "diverging": [
            [
             0,
             "#8e0152"
            ],
            [
             0.1,
             "#c51b7d"
            ],
            [
             0.2,
             "#de77ae"
            ],
            [
             0.3,
             "#f1b6da"
            ],
            [
             0.4,
             "#fde0ef"
            ],
            [
             0.5,
             "#f7f7f7"
            ],
            [
             0.6,
             "#e6f5d0"
            ],
            [
             0.7,
             "#b8e186"
            ],
            [
             0.8,
             "#7fbc41"
            ],
            [
             0.9,
             "#4d9221"
            ],
            [
             1,
             "#276419"
            ]
           ],
           "sequential": [
            [
             0,
             "#0d0887"
            ],
            [
             0.1111111111111111,
             "#46039f"
            ],
            [
             0.2222222222222222,
             "#7201a8"
            ],
            [
             0.3333333333333333,
             "#9c179e"
            ],
            [
             0.4444444444444444,
             "#bd3786"
            ],
            [
             0.5555555555555556,
             "#d8576b"
            ],
            [
             0.6666666666666666,
             "#ed7953"
            ],
            [
             0.7777777777777778,
             "#fb9f3a"
            ],
            [
             0.8888888888888888,
             "#fdca26"
            ],
            [
             1,
             "#f0f921"
            ]
           ],
           "sequentialminus": [
            [
             0,
             "#0d0887"
            ],
            [
             0.1111111111111111,
             "#46039f"
            ],
            [
             0.2222222222222222,
             "#7201a8"
            ],
            [
             0.3333333333333333,
             "#9c179e"
            ],
            [
             0.4444444444444444,
             "#bd3786"
            ],
            [
             0.5555555555555556,
             "#d8576b"
            ],
            [
             0.6666666666666666,
             "#ed7953"
            ],
            [
             0.7777777777777778,
             "#fb9f3a"
            ],
            [
             0.8888888888888888,
             "#fdca26"
            ],
            [
             1,
             "#f0f921"
            ]
           ]
          },
          "colorway": [
           "#636efa",
           "#EF553B",
           "#00cc96",
           "#ab63fa",
           "#FFA15A",
           "#19d3f3",
           "#FF6692",
           "#B6E880",
           "#FF97FF",
           "#FECB52"
          ],
          "font": {
           "color": "#2a3f5f"
          },
          "geo": {
           "bgcolor": "white",
           "lakecolor": "white",
           "landcolor": "#E5ECF6",
           "showlakes": true,
           "showland": true,
           "subunitcolor": "white"
          },
          "hoverlabel": {
           "align": "left"
          },
          "hovermode": "closest",
          "mapbox": {
           "style": "light"
          },
          "paper_bgcolor": "white",
          "plot_bgcolor": "#E5ECF6",
          "polar": {
           "angularaxis": {
            "gridcolor": "white",
            "linecolor": "white",
            "ticks": ""
           },
           "bgcolor": "#E5ECF6",
           "radialaxis": {
            "gridcolor": "white",
            "linecolor": "white",
            "ticks": ""
           }
          },
          "scene": {
           "xaxis": {
            "backgroundcolor": "#E5ECF6",
            "gridcolor": "white",
            "gridwidth": 2,
            "linecolor": "white",
            "showbackground": true,
            "ticks": "",
            "zerolinecolor": "white"
           },
           "yaxis": {
            "backgroundcolor": "#E5ECF6",
            "gridcolor": "white",
            "gridwidth": 2,
            "linecolor": "white",
            "showbackground": true,
            "ticks": "",
            "zerolinecolor": "white"
           },
           "zaxis": {
            "backgroundcolor": "#E5ECF6",
            "gridcolor": "white",
            "gridwidth": 2,
            "linecolor": "white",
            "showbackground": true,
            "ticks": "",
            "zerolinecolor": "white"
           }
          },
          "shapedefaults": {
           "line": {
            "color": "#2a3f5f"
           }
          },
          "ternary": {
           "aaxis": {
            "gridcolor": "white",
            "linecolor": "white",
            "ticks": ""
           },
           "baxis": {
            "gridcolor": "white",
            "linecolor": "white",
            "ticks": ""
           },
           "bgcolor": "#E5ECF6",
           "caxis": {
            "gridcolor": "white",
            "linecolor": "white",
            "ticks": ""
           }
          },
          "title": {
           "x": 0.05
          },
          "xaxis": {
           "automargin": true,
           "gridcolor": "white",
           "linecolor": "white",
           "ticks": "",
           "title": {
            "standoff": 15
           },
           "zerolinecolor": "white",
           "zerolinewidth": 2
          },
          "yaxis": {
           "automargin": true,
           "gridcolor": "white",
           "linecolor": "white",
           "ticks": "",
           "title": {
            "standoff": 15
           },
           "zerolinecolor": "white",
           "zerolinewidth": 2
          }
         }
        },
        "title": {
         "text": "Número de sequías por países"
        }
       }
      }
     },
     "metadata": {},
     "output_type": "display_data"
    }
   ],
   "source": [
    "fig = px.choropleth(data_frame=df2,\n",
    "                    locationmode=\"country names\",\n",
    "                    locations=\"Country\",\n",
    "                    color=\"Droughts\",\n",
    "                    color_continuous_scale=\"Reds\",\n",
    "                    title=\"Número de sequías por países\")\n",
    "\n",
    "fig.show()"
   ]
  },
  {
   "cell_type": "markdown",
   "metadata": {},
   "source": [
    "Si queremos hacer una serie animada por año es necesario sacar un dataframe con esa columna añadida para pasarla al plotly"
   ]
  },
  {
   "cell_type": "code",
   "execution_count": 28,
   "metadata": {},
   "outputs": [
    {
     "data": {
      "text/html": [
       "<div>\n",
       "<style scoped>\n",
       "    .dataframe tbody tr th:only-of-type {\n",
       "        vertical-align: middle;\n",
       "    }\n",
       "\n",
       "    .dataframe tbody tr th {\n",
       "        vertical-align: top;\n",
       "    }\n",
       "\n",
       "    .dataframe thead th {\n",
       "        text-align: right;\n",
       "    }\n",
       "</style>\n",
       "<table border=\"1\" class=\"dataframe\">\n",
       "  <thead>\n",
       "    <tr style=\"text-align: right;\">\n",
       "      <th></th>\n",
       "      <th>Country</th>\n",
       "      <th>Droughts</th>\n",
       "      <th>Dis No</th>\n",
       "      <th>Year</th>\n",
       "      <th>Seq</th>\n",
       "      <th>Disaster Subgroup</th>\n",
       "      <th>Disaster Type</th>\n",
       "      <th>Disaster Subtype</th>\n",
       "      <th>ISO</th>\n",
       "      <th>Region</th>\n",
       "      <th>...</th>\n",
       "      <th>Longitude</th>\n",
       "      <th>Start Year</th>\n",
       "      <th>Start Month</th>\n",
       "      <th>Start Day</th>\n",
       "      <th>End Year</th>\n",
       "      <th>End Month</th>\n",
       "      <th>End Day</th>\n",
       "      <th>Total Deaths</th>\n",
       "      <th>Total Affected</th>\n",
       "      <th>Total Damages Adj</th>\n",
       "    </tr>\n",
       "  </thead>\n",
       "  <tbody>\n",
       "    <tr>\n",
       "      <th>0</th>\n",
       "      <td>China</td>\n",
       "      <td>41</td>\n",
       "      <td>1920-9003-CHN</td>\n",
       "      <td>1920</td>\n",
       "      <td>9003</td>\n",
       "      <td>Climatological</td>\n",
       "      <td>Drought</td>\n",
       "      <td>Drought</td>\n",
       "      <td>CHN</td>\n",
       "      <td>Eastern Asia</td>\n",
       "      <td>...</td>\n",
       "      <td>NaN</td>\n",
       "      <td>1920</td>\n",
       "      <td>NaN</td>\n",
       "      <td>NaN</td>\n",
       "      <td>1920</td>\n",
       "      <td>NaN</td>\n",
       "      <td>NaN</td>\n",
       "      <td>500000.0</td>\n",
       "      <td>20000000.0</td>\n",
       "      <td>NaN</td>\n",
       "    </tr>\n",
       "    <tr>\n",
       "      <th>1</th>\n",
       "      <td>China</td>\n",
       "      <td>41</td>\n",
       "      <td>1928-9002-CHN</td>\n",
       "      <td>1928</td>\n",
       "      <td>9002</td>\n",
       "      <td>Climatological</td>\n",
       "      <td>Drought</td>\n",
       "      <td>Drought</td>\n",
       "      <td>CHN</td>\n",
       "      <td>Eastern Asia</td>\n",
       "      <td>...</td>\n",
       "      <td>NaN</td>\n",
       "      <td>1928</td>\n",
       "      <td>NaN</td>\n",
       "      <td>NaN</td>\n",
       "      <td>1928</td>\n",
       "      <td>NaN</td>\n",
       "      <td>NaN</td>\n",
       "      <td>3000000.0</td>\n",
       "      <td>NaN</td>\n",
       "      <td>NaN</td>\n",
       "    </tr>\n",
       "    <tr>\n",
       "      <th>2</th>\n",
       "      <td>China</td>\n",
       "      <td>41</td>\n",
       "      <td>1965-9080-CHN</td>\n",
       "      <td>1965</td>\n",
       "      <td>9080</td>\n",
       "      <td>Climatological</td>\n",
       "      <td>Drought</td>\n",
       "      <td>Drought</td>\n",
       "      <td>CHN</td>\n",
       "      <td>Eastern Asia</td>\n",
       "      <td>...</td>\n",
       "      <td>NaN</td>\n",
       "      <td>1965</td>\n",
       "      <td>3.0</td>\n",
       "      <td>NaN</td>\n",
       "      <td>1965</td>\n",
       "      <td>4.0</td>\n",
       "      <td>NaN</td>\n",
       "      <td>NaN</td>\n",
       "      <td>NaN</td>\n",
       "      <td>251877.0</td>\n",
       "    </tr>\n",
       "    <tr>\n",
       "      <th>3</th>\n",
       "      <td>China</td>\n",
       "      <td>41</td>\n",
       "      <td>1978-9008-CHN</td>\n",
       "      <td>1978</td>\n",
       "      <td>9008</td>\n",
       "      <td>Climatological</td>\n",
       "      <td>Drought</td>\n",
       "      <td>Drought</td>\n",
       "      <td>CHN</td>\n",
       "      <td>Eastern Asia</td>\n",
       "      <td>...</td>\n",
       "      <td>NaN</td>\n",
       "      <td>1978</td>\n",
       "      <td>NaN</td>\n",
       "      <td>NaN</td>\n",
       "      <td>1978</td>\n",
       "      <td>NaN</td>\n",
       "      <td>NaN</td>\n",
       "      <td>NaN</td>\n",
       "      <td>6000000.0</td>\n",
       "      <td>NaN</td>\n",
       "    </tr>\n",
       "    <tr>\n",
       "      <th>4</th>\n",
       "      <td>China</td>\n",
       "      <td>41</td>\n",
       "      <td>1979-9004-CHN</td>\n",
       "      <td>1979</td>\n",
       "      <td>9004</td>\n",
       "      <td>Climatological</td>\n",
       "      <td>Drought</td>\n",
       "      <td>Drought</td>\n",
       "      <td>CHN</td>\n",
       "      <td>Eastern Asia</td>\n",
       "      <td>...</td>\n",
       "      <td>NaN</td>\n",
       "      <td>1979</td>\n",
       "      <td>NaN</td>\n",
       "      <td>NaN</td>\n",
       "      <td>1982</td>\n",
       "      <td>NaN</td>\n",
       "      <td>NaN</td>\n",
       "      <td>NaN</td>\n",
       "      <td>NaN</td>\n",
       "      <td>NaN</td>\n",
       "    </tr>\n",
       "    <tr>\n",
       "      <th>5</th>\n",
       "      <td>China</td>\n",
       "      <td>41</td>\n",
       "      <td>1983-9019-CHN</td>\n",
       "      <td>1983</td>\n",
       "      <td>9019</td>\n",
       "      <td>Climatological</td>\n",
       "      <td>Drought</td>\n",
       "      <td>Drought</td>\n",
       "      <td>CHN</td>\n",
       "      <td>Eastern Asia</td>\n",
       "      <td>...</td>\n",
       "      <td>NaN</td>\n",
       "      <td>1983</td>\n",
       "      <td>1.0</td>\n",
       "      <td>NaN</td>\n",
       "      <td>1983</td>\n",
       "      <td>8.0</td>\n",
       "      <td>NaN</td>\n",
       "      <td>NaN</td>\n",
       "      <td>NaN</td>\n",
       "      <td>NaN</td>\n",
       "    </tr>\n",
       "    <tr>\n",
       "      <th>6</th>\n",
       "      <td>China</td>\n",
       "      <td>41</td>\n",
       "      <td>1985-9211-CHN</td>\n",
       "      <td>1985</td>\n",
       "      <td>9211</td>\n",
       "      <td>Climatological</td>\n",
       "      <td>Drought</td>\n",
       "      <td>Drought</td>\n",
       "      <td>CHN</td>\n",
       "      <td>Eastern Asia</td>\n",
       "      <td>...</td>\n",
       "      <td>NaN</td>\n",
       "      <td>1985</td>\n",
       "      <td>NaN</td>\n",
       "      <td>NaN</td>\n",
       "      <td>1986</td>\n",
       "      <td>NaN</td>\n",
       "      <td>NaN</td>\n",
       "      <td>NaN</td>\n",
       "      <td>NaN</td>\n",
       "      <td>NaN</td>\n",
       "    </tr>\n",
       "    <tr>\n",
       "      <th>7</th>\n",
       "      <td>China</td>\n",
       "      <td>41</td>\n",
       "      <td>1988-9237-CHN</td>\n",
       "      <td>1988</td>\n",
       "      <td>9237</td>\n",
       "      <td>Climatological</td>\n",
       "      <td>Drought</td>\n",
       "      <td>Drought</td>\n",
       "      <td>CHN</td>\n",
       "      <td>Eastern Asia</td>\n",
       "      <td>...</td>\n",
       "      <td>NaN</td>\n",
       "      <td>1988</td>\n",
       "      <td>6.0</td>\n",
       "      <td>NaN</td>\n",
       "      <td>1988</td>\n",
       "      <td>NaN</td>\n",
       "      <td>NaN</td>\n",
       "      <td>1400.0</td>\n",
       "      <td>49000000.0</td>\n",
       "      <td>2333370.0</td>\n",
       "    </tr>\n",
       "    <tr>\n",
       "      <th>8</th>\n",
       "      <td>China</td>\n",
       "      <td>41</td>\n",
       "      <td>1991-9305-CHN</td>\n",
       "      <td>1991</td>\n",
       "      <td>9305</td>\n",
       "      <td>Climatological</td>\n",
       "      <td>Drought</td>\n",
       "      <td>Drought</td>\n",
       "      <td>CHN</td>\n",
       "      <td>Eastern Asia</td>\n",
       "      <td>...</td>\n",
       "      <td>NaN</td>\n",
       "      <td>1991</td>\n",
       "      <td>2.0</td>\n",
       "      <td>NaN</td>\n",
       "      <td>1991</td>\n",
       "      <td>8.0</td>\n",
       "      <td>NaN</td>\n",
       "      <td>2000.0</td>\n",
       "      <td>5000000.0</td>\n",
       "      <td>NaN</td>\n",
       "    </tr>\n",
       "    <tr>\n",
       "      <th>9</th>\n",
       "      <td>China</td>\n",
       "      <td>41</td>\n",
       "      <td>1992-9090-CHN</td>\n",
       "      <td>1992</td>\n",
       "      <td>9090</td>\n",
       "      <td>Climatological</td>\n",
       "      <td>Drought</td>\n",
       "      <td>Drought</td>\n",
       "      <td>CHN</td>\n",
       "      <td>Eastern Asia</td>\n",
       "      <td>...</td>\n",
       "      <td>NaN</td>\n",
       "      <td>1992</td>\n",
       "      <td>NaN</td>\n",
       "      <td>NaN</td>\n",
       "      <td>1993</td>\n",
       "      <td>NaN</td>\n",
       "      <td>NaN</td>\n",
       "      <td>NaN</td>\n",
       "      <td>NaN</td>\n",
       "      <td>110958.0</td>\n",
       "    </tr>\n",
       "    <tr>\n",
       "      <th>10</th>\n",
       "      <td>China</td>\n",
       "      <td>41</td>\n",
       "      <td>1992-9128-CHN</td>\n",
       "      <td>1992</td>\n",
       "      <td>9128</td>\n",
       "      <td>Climatological</td>\n",
       "      <td>Drought</td>\n",
       "      <td>Drought</td>\n",
       "      <td>CHN</td>\n",
       "      <td>Eastern Asia</td>\n",
       "      <td>...</td>\n",
       "      <td>NaN</td>\n",
       "      <td>1992</td>\n",
       "      <td>5.0</td>\n",
       "      <td>NaN</td>\n",
       "      <td>1992</td>\n",
       "      <td>NaN</td>\n",
       "      <td>NaN</td>\n",
       "      <td>NaN</td>\n",
       "      <td>12000000.0</td>\n",
       "      <td>NaN</td>\n",
       "    </tr>\n",
       "    <tr>\n",
       "      <th>11</th>\n",
       "      <td>China</td>\n",
       "      <td>41</td>\n",
       "      <td>1994-9096-CHN</td>\n",
       "      <td>1994</td>\n",
       "      <td>9096</td>\n",
       "      <td>Climatological</td>\n",
       "      <td>Drought</td>\n",
       "      <td>Drought</td>\n",
       "      <td>CHN</td>\n",
       "      <td>Eastern Asia</td>\n",
       "      <td>...</td>\n",
       "      <td>NaN</td>\n",
       "      <td>1994</td>\n",
       "      <td>1.0</td>\n",
       "      <td>NaN</td>\n",
       "      <td>1994</td>\n",
       "      <td>12.0</td>\n",
       "      <td>NaN</td>\n",
       "      <td>NaN</td>\n",
       "      <td>82000000.0</td>\n",
       "      <td>27158211.0</td>\n",
       "    </tr>\n",
       "    <tr>\n",
       "      <th>12</th>\n",
       "      <td>China</td>\n",
       "      <td>41</td>\n",
       "      <td>1994-9186-CHN</td>\n",
       "      <td>1994</td>\n",
       "      <td>9186</td>\n",
       "      <td>Climatological</td>\n",
       "      <td>Drought</td>\n",
       "      <td>Drought</td>\n",
       "      <td>CHN</td>\n",
       "      <td>Eastern Asia</td>\n",
       "      <td>...</td>\n",
       "      <td>NaN</td>\n",
       "      <td>1994</td>\n",
       "      <td>3.0</td>\n",
       "      <td>NaN</td>\n",
       "      <td>1995</td>\n",
       "      <td>NaN</td>\n",
       "      <td>NaN</td>\n",
       "      <td>NaN</td>\n",
       "      <td>6690000.0</td>\n",
       "      <td>NaN</td>\n",
       "    </tr>\n",
       "    <tr>\n",
       "      <th>13</th>\n",
       "      <td>China</td>\n",
       "      <td>41</td>\n",
       "      <td>1995-9138-CHN</td>\n",
       "      <td>1995</td>\n",
       "      <td>9138</td>\n",
       "      <td>Climatological</td>\n",
       "      <td>Drought</td>\n",
       "      <td>Drought</td>\n",
       "      <td>CHN</td>\n",
       "      <td>Eastern Asia</td>\n",
       "      <td>...</td>\n",
       "      <td>NaN</td>\n",
       "      <td>1995</td>\n",
       "      <td>1.0</td>\n",
       "      <td>NaN</td>\n",
       "      <td>1995</td>\n",
       "      <td>8.0</td>\n",
       "      <td>NaN</td>\n",
       "      <td>NaN</td>\n",
       "      <td>9060000.0</td>\n",
       "      <td>24583.0</td>\n",
       "    </tr>\n",
       "    <tr>\n",
       "      <th>14</th>\n",
       "      <td>China</td>\n",
       "      <td>41</td>\n",
       "      <td>1997-9557-CHN</td>\n",
       "      <td>1997</td>\n",
       "      <td>9557</td>\n",
       "      <td>Climatological</td>\n",
       "      <td>Drought</td>\n",
       "      <td>Drought</td>\n",
       "      <td>CHN</td>\n",
       "      <td>Eastern Asia</td>\n",
       "      <td>...</td>\n",
       "      <td>NaN</td>\n",
       "      <td>1997</td>\n",
       "      <td>5.0</td>\n",
       "      <td>NaN</td>\n",
       "      <td>1997</td>\n",
       "      <td>8.0</td>\n",
       "      <td>NaN</td>\n",
       "      <td>NaN</td>\n",
       "      <td>NaN</td>\n",
       "      <td>308304.0</td>\n",
       "    </tr>\n",
       "    <tr>\n",
       "      <th>15</th>\n",
       "      <td>China</td>\n",
       "      <td>41</td>\n",
       "      <td>1999-9079-CHN</td>\n",
       "      <td>1999</td>\n",
       "      <td>9079</td>\n",
       "      <td>Climatological</td>\n",
       "      <td>Drought</td>\n",
       "      <td>Drought</td>\n",
       "      <td>CHN</td>\n",
       "      <td>Eastern Asia</td>\n",
       "      <td>...</td>\n",
       "      <td>NaN</td>\n",
       "      <td>1999</td>\n",
       "      <td>3.0</td>\n",
       "      <td>NaN</td>\n",
       "      <td>1999</td>\n",
       "      <td>NaN</td>\n",
       "      <td>NaN</td>\n",
       "      <td>NaN</td>\n",
       "      <td>19000000.0</td>\n",
       "      <td>NaN</td>\n",
       "    </tr>\n",
       "    <tr>\n",
       "      <th>16</th>\n",
       "      <td>China</td>\n",
       "      <td>41</td>\n",
       "      <td>2000-9267-CHN</td>\n",
       "      <td>2000</td>\n",
       "      <td>9267</td>\n",
       "      <td>Climatological</td>\n",
       "      <td>Drought</td>\n",
       "      <td>Drought</td>\n",
       "      <td>CHN</td>\n",
       "      <td>Eastern Asia</td>\n",
       "      <td>...</td>\n",
       "      <td>NaN</td>\n",
       "      <td>2000</td>\n",
       "      <td>4.0</td>\n",
       "      <td>NaN</td>\n",
       "      <td>2000</td>\n",
       "      <td>NaN</td>\n",
       "      <td>NaN</td>\n",
       "      <td>NaN</td>\n",
       "      <td>15000000.0</td>\n",
       "      <td>1353002.0</td>\n",
       "    </tr>\n",
       "    <tr>\n",
       "      <th>17</th>\n",
       "      <td>China</td>\n",
       "      <td>41</td>\n",
       "      <td>2000-9531-CHN</td>\n",
       "      <td>2000</td>\n",
       "      <td>9531</td>\n",
       "      <td>Climatological</td>\n",
       "      <td>Drought</td>\n",
       "      <td>Drought</td>\n",
       "      <td>CHN</td>\n",
       "      <td>Eastern Asia</td>\n",
       "      <td>...</td>\n",
       "      <td>NaN</td>\n",
       "      <td>2000</td>\n",
       "      <td>8.0</td>\n",
       "      <td>NaN</td>\n",
       "      <td>2000</td>\n",
       "      <td>NaN</td>\n",
       "      <td>NaN</td>\n",
       "      <td>NaN</td>\n",
       "      <td>5000000.0</td>\n",
       "      <td>NaN</td>\n",
       "    </tr>\n",
       "    <tr>\n",
       "      <th>18</th>\n",
       "      <td>China</td>\n",
       "      <td>41</td>\n",
       "      <td>2000-9626-CHN</td>\n",
       "      <td>2000</td>\n",
       "      <td>9626</td>\n",
       "      <td>Climatological</td>\n",
       "      <td>Drought</td>\n",
       "      <td>Drought</td>\n",
       "      <td>CHN</td>\n",
       "      <td>Eastern Asia</td>\n",
       "      <td>...</td>\n",
       "      <td>NaN</td>\n",
       "      <td>2000</td>\n",
       "      <td>9.0</td>\n",
       "      <td>NaN</td>\n",
       "      <td>2000</td>\n",
       "      <td>NaN</td>\n",
       "      <td>NaN</td>\n",
       "      <td>NaN</td>\n",
       "      <td>NaN</td>\n",
       "      <td>NaN</td>\n",
       "    </tr>\n",
       "    <tr>\n",
       "      <th>19</th>\n",
       "      <td>China</td>\n",
       "      <td>41</td>\n",
       "      <td>2001-9149-CHN</td>\n",
       "      <td>2001</td>\n",
       "      <td>9149</td>\n",
       "      <td>Climatological</td>\n",
       "      <td>Drought</td>\n",
       "      <td>Drought</td>\n",
       "      <td>CHN</td>\n",
       "      <td>Eastern Asia</td>\n",
       "      <td>...</td>\n",
       "      <td>NaN</td>\n",
       "      <td>2001</td>\n",
       "      <td>2.0</td>\n",
       "      <td>NaN</td>\n",
       "      <td>2001</td>\n",
       "      <td>NaN</td>\n",
       "      <td>NaN</td>\n",
       "      <td>NaN</td>\n",
       "      <td>530000.0</td>\n",
       "      <td>NaN</td>\n",
       "    </tr>\n",
       "    <tr>\n",
       "      <th>20</th>\n",
       "      <td>China</td>\n",
       "      <td>41</td>\n",
       "      <td>2001-9218-CHN</td>\n",
       "      <td>2001</td>\n",
       "      <td>9218</td>\n",
       "      <td>Climatological</td>\n",
       "      <td>Drought</td>\n",
       "      <td>Drought</td>\n",
       "      <td>CHN</td>\n",
       "      <td>Eastern Asia</td>\n",
       "      <td>...</td>\n",
       "      <td>NaN</td>\n",
       "      <td>2001</td>\n",
       "      <td>3.0</td>\n",
       "      <td>NaN</td>\n",
       "      <td>2001</td>\n",
       "      <td>NaN</td>\n",
       "      <td>NaN</td>\n",
       "      <td>NaN</td>\n",
       "      <td>15800000.0</td>\n",
       "      <td>NaN</td>\n",
       "    </tr>\n",
       "    <tr>\n",
       "      <th>21</th>\n",
       "      <td>China</td>\n",
       "      <td>41</td>\n",
       "      <td>2002-9203-CHN</td>\n",
       "      <td>2002</td>\n",
       "      <td>9203</td>\n",
       "      <td>Climatological</td>\n",
       "      <td>Drought</td>\n",
       "      <td>Drought</td>\n",
       "      <td>CHN</td>\n",
       "      <td>Eastern Asia</td>\n",
       "      <td>...</td>\n",
       "      <td>NaN</td>\n",
       "      <td>2002</td>\n",
       "      <td>4.0</td>\n",
       "      <td>NaN</td>\n",
       "      <td>2002</td>\n",
       "      <td>NaN</td>\n",
       "      <td>NaN</td>\n",
       "      <td>NaN</td>\n",
       "      <td>60000000.0</td>\n",
       "      <td>NaN</td>\n",
       "    </tr>\n",
       "    <tr>\n",
       "      <th>22</th>\n",
       "      <td>China</td>\n",
       "      <td>41</td>\n",
       "      <td>2002-9564-CHN</td>\n",
       "      <td>2002</td>\n",
       "      <td>9564</td>\n",
       "      <td>Climatological</td>\n",
       "      <td>Drought</td>\n",
       "      <td>Drought</td>\n",
       "      <td>CHN</td>\n",
       "      <td>Eastern Asia</td>\n",
       "      <td>...</td>\n",
       "      <td>NaN</td>\n",
       "      <td>2002</td>\n",
       "      <td>9.0</td>\n",
       "      <td>NaN</td>\n",
       "      <td>2002</td>\n",
       "      <td>NaN</td>\n",
       "      <td>NaN</td>\n",
       "      <td>NaN</td>\n",
       "      <td>900000.0</td>\n",
       "      <td>NaN</td>\n",
       "    </tr>\n",
       "    <tr>\n",
       "      <th>23</th>\n",
       "      <td>China</td>\n",
       "      <td>41</td>\n",
       "      <td>2002-9854-CHN</td>\n",
       "      <td>2002</td>\n",
       "      <td>9854</td>\n",
       "      <td>Climatological</td>\n",
       "      <td>Drought</td>\n",
       "      <td>Drought</td>\n",
       "      <td>CHN</td>\n",
       "      <td>Eastern Asia</td>\n",
       "      <td>...</td>\n",
       "      <td>NaN</td>\n",
       "      <td>2002</td>\n",
       "      <td>6.0</td>\n",
       "      <td>1.0</td>\n",
       "      <td>2002</td>\n",
       "      <td>10.0</td>\n",
       "      <td>30.0</td>\n",
       "      <td>NaN</td>\n",
       "      <td>3660000.0</td>\n",
       "      <td>1968658.0</td>\n",
       "    </tr>\n",
       "    <tr>\n",
       "      <th>24</th>\n",
       "      <td>China</td>\n",
       "      <td>41</td>\n",
       "      <td>2003-9360-CHN</td>\n",
       "      <td>2003</td>\n",
       "      <td>9360</td>\n",
       "      <td>Climatological</td>\n",
       "      <td>Drought</td>\n",
       "      <td>Drought</td>\n",
       "      <td>CHN</td>\n",
       "      <td>Eastern Asia</td>\n",
       "      <td>...</td>\n",
       "      <td>NaN</td>\n",
       "      <td>2003</td>\n",
       "      <td>7.0</td>\n",
       "      <td>NaN</td>\n",
       "      <td>2003</td>\n",
       "      <td>NaN</td>\n",
       "      <td>NaN</td>\n",
       "      <td>NaN</td>\n",
       "      <td>3000000.0</td>\n",
       "      <td>NaN</td>\n",
       "    </tr>\n",
       "    <tr>\n",
       "      <th>25</th>\n",
       "      <td>China</td>\n",
       "      <td>41</td>\n",
       "      <td>2003-9064-CHN</td>\n",
       "      <td>2003</td>\n",
       "      <td>9064</td>\n",
       "      <td>Climatological</td>\n",
       "      <td>Drought</td>\n",
       "      <td>Drought</td>\n",
       "      <td>CHN</td>\n",
       "      <td>Eastern Asia</td>\n",
       "      <td>...</td>\n",
       "      <td>NaN</td>\n",
       "      <td>2003</td>\n",
       "      <td>1.0</td>\n",
       "      <td>NaN</td>\n",
       "      <td>2003</td>\n",
       "      <td>1.0</td>\n",
       "      <td>NaN</td>\n",
       "      <td>NaN</td>\n",
       "      <td>48000000.0</td>\n",
       "      <td>NaN</td>\n",
       "    </tr>\n",
       "    <tr>\n",
       "      <th>26</th>\n",
       "      <td>China</td>\n",
       "      <td>41</td>\n",
       "      <td>2005-9745-CHN</td>\n",
       "      <td>2005</td>\n",
       "      <td>9745</td>\n",
       "      <td>Climatological</td>\n",
       "      <td>Drought</td>\n",
       "      <td>Drought</td>\n",
       "      <td>CHN</td>\n",
       "      <td>Eastern Asia</td>\n",
       "      <td>...</td>\n",
       "      <td>NaN</td>\n",
       "      <td>2005</td>\n",
       "      <td>10.0</td>\n",
       "      <td>NaN</td>\n",
       "      <td>2005</td>\n",
       "      <td>NaN</td>\n",
       "      <td>NaN</td>\n",
       "      <td>NaN</td>\n",
       "      <td>174000.0</td>\n",
       "      <td>NaN</td>\n",
       "    </tr>\n",
       "    <tr>\n",
       "      <th>27</th>\n",
       "      <td>China</td>\n",
       "      <td>41</td>\n",
       "      <td>2005-9746-CHN</td>\n",
       "      <td>2005</td>\n",
       "      <td>9746</td>\n",
       "      <td>Climatological</td>\n",
       "      <td>Drought</td>\n",
       "      <td>Drought</td>\n",
       "      <td>CHN</td>\n",
       "      <td>Eastern Asia</td>\n",
       "      <td>...</td>\n",
       "      <td>NaN</td>\n",
       "      <td>2005</td>\n",
       "      <td>7.0</td>\n",
       "      <td>7.0</td>\n",
       "      <td>2005</td>\n",
       "      <td>NaN</td>\n",
       "      <td>NaN</td>\n",
       "      <td>NaN</td>\n",
       "      <td>7600000.0</td>\n",
       "      <td>NaN</td>\n",
       "    </tr>\n",
       "    <tr>\n",
       "      <th>28</th>\n",
       "      <td>China</td>\n",
       "      <td>41</td>\n",
       "      <td>2006-9741-CHN</td>\n",
       "      <td>2006</td>\n",
       "      <td>9741</td>\n",
       "      <td>Climatological</td>\n",
       "      <td>Drought</td>\n",
       "      <td>Drought</td>\n",
       "      <td>CHN</td>\n",
       "      <td>Eastern Asia</td>\n",
       "      <td>...</td>\n",
       "      <td>NaN</td>\n",
       "      <td>2006</td>\n",
       "      <td>5.0</td>\n",
       "      <td>1.0</td>\n",
       "      <td>2006</td>\n",
       "      <td>9.0</td>\n",
       "      <td>10.0</td>\n",
       "      <td>134.0</td>\n",
       "      <td>18000000.0</td>\n",
       "      <td>4224508.0</td>\n",
       "    </tr>\n",
       "    <tr>\n",
       "      <th>29</th>\n",
       "      <td>China</td>\n",
       "      <td>41</td>\n",
       "      <td>2008-9662-CHN</td>\n",
       "      <td>2008</td>\n",
       "      <td>9662</td>\n",
       "      <td>Climatological</td>\n",
       "      <td>Drought</td>\n",
       "      <td>Drought</td>\n",
       "      <td>CHN</td>\n",
       "      <td>Eastern Asia</td>\n",
       "      <td>...</td>\n",
       "      <td>NaN</td>\n",
       "      <td>2008</td>\n",
       "      <td>11.0</td>\n",
       "      <td>NaN</td>\n",
       "      <td>2009</td>\n",
       "      <td>2.0</td>\n",
       "      <td>NaN</td>\n",
       "      <td>NaN</td>\n",
       "      <td>3700000.0</td>\n",
       "      <td>318070.0</td>\n",
       "    </tr>\n",
       "    <tr>\n",
       "      <th>30</th>\n",
       "      <td>China</td>\n",
       "      <td>41</td>\n",
       "      <td>2009-9655-CHN</td>\n",
       "      <td>2009</td>\n",
       "      <td>9655</td>\n",
       "      <td>Climatological</td>\n",
       "      <td>Drought</td>\n",
       "      <td>Drought</td>\n",
       "      <td>CHN</td>\n",
       "      <td>Eastern Asia</td>\n",
       "      <td>...</td>\n",
       "      <td>NaN</td>\n",
       "      <td>2009</td>\n",
       "      <td>10.0</td>\n",
       "      <td>NaN</td>\n",
       "      <td>2010</td>\n",
       "      <td>5.0</td>\n",
       "      <td>NaN</td>\n",
       "      <td>NaN</td>\n",
       "      <td>60000000.0</td>\n",
       "      <td>4910843.0</td>\n",
       "    </tr>\n",
       "    <tr>\n",
       "      <th>31</th>\n",
       "      <td>China</td>\n",
       "      <td>41</td>\n",
       "      <td>2009-9283-CHN</td>\n",
       "      <td>2009</td>\n",
       "      <td>9283</td>\n",
       "      <td>Climatological</td>\n",
       "      <td>Drought</td>\n",
       "      <td>Drought</td>\n",
       "      <td>CHN</td>\n",
       "      <td>Eastern Asia</td>\n",
       "      <td>...</td>\n",
       "      <td>NaN</td>\n",
       "      <td>2009</td>\n",
       "      <td>6.0</td>\n",
       "      <td>NaN</td>\n",
       "      <td>2009</td>\n",
       "      <td>7.0</td>\n",
       "      <td>NaN</td>\n",
       "      <td>NaN</td>\n",
       "      <td>160000.0</td>\n",
       "      <td>NaN</td>\n",
       "    </tr>\n",
       "    <tr>\n",
       "      <th>32</th>\n",
       "      <td>China</td>\n",
       "      <td>41</td>\n",
       "      <td>2010-9701-CHN</td>\n",
       "      <td>2010</td>\n",
       "      <td>9701</td>\n",
       "      <td>Climatological</td>\n",
       "      <td>Drought</td>\n",
       "      <td>Drought</td>\n",
       "      <td>CHN</td>\n",
       "      <td>Eastern Asia</td>\n",
       "      <td>...</td>\n",
       "      <td>NaN</td>\n",
       "      <td>2010</td>\n",
       "      <td>12.0</td>\n",
       "      <td>NaN</td>\n",
       "      <td>2011</td>\n",
       "      <td>5.0</td>\n",
       "      <td>NaN</td>\n",
       "      <td>NaN</td>\n",
       "      <td>35000000.0</td>\n",
       "      <td>3180805.0</td>\n",
       "    </tr>\n",
       "    <tr>\n",
       "      <th>33</th>\n",
       "      <td>China</td>\n",
       "      <td>41</td>\n",
       "      <td>2013-9062-CHN</td>\n",
       "      <td>2013</td>\n",
       "      <td>9062</td>\n",
       "      <td>Climatological</td>\n",
       "      <td>Drought</td>\n",
       "      <td>Drought</td>\n",
       "      <td>CHN</td>\n",
       "      <td>Eastern Asia</td>\n",
       "      <td>...</td>\n",
       "      <td>NaN</td>\n",
       "      <td>2013</td>\n",
       "      <td>1.0</td>\n",
       "      <td>NaN</td>\n",
       "      <td>2013</td>\n",
       "      <td>7.0</td>\n",
       "      <td>NaN</td>\n",
       "      <td>NaN</td>\n",
       "      <td>5000000.0</td>\n",
       "      <td>NaN</td>\n",
       "    </tr>\n",
       "    <tr>\n",
       "      <th>34</th>\n",
       "      <td>China</td>\n",
       "      <td>41</td>\n",
       "      <td>2014-9265-CHN</td>\n",
       "      <td>2014</td>\n",
       "      <td>9265</td>\n",
       "      <td>Climatological</td>\n",
       "      <td>Drought</td>\n",
       "      <td>Drought</td>\n",
       "      <td>CHN</td>\n",
       "      <td>Eastern Asia</td>\n",
       "      <td>...</td>\n",
       "      <td>NaN</td>\n",
       "      <td>2014</td>\n",
       "      <td>6.0</td>\n",
       "      <td>NaN</td>\n",
       "      <td>2014</td>\n",
       "      <td>7.0</td>\n",
       "      <td>NaN</td>\n",
       "      <td>NaN</td>\n",
       "      <td>226000.0</td>\n",
       "      <td>1458724.0</td>\n",
       "    </tr>\n",
       "    <tr>\n",
       "      <th>35</th>\n",
       "      <td>China</td>\n",
       "      <td>41</td>\n",
       "      <td>2014-9408-CHN</td>\n",
       "      <td>2014</td>\n",
       "      <td>9408</td>\n",
       "      <td>Climatological</td>\n",
       "      <td>Drought</td>\n",
       "      <td>Drought</td>\n",
       "      <td>CHN</td>\n",
       "      <td>Eastern Asia</td>\n",
       "      <td>...</td>\n",
       "      <td>NaN</td>\n",
       "      <td>2014</td>\n",
       "      <td>8.0</td>\n",
       "      <td>NaN</td>\n",
       "      <td>2014</td>\n",
       "      <td>10.0</td>\n",
       "      <td>NaN</td>\n",
       "      <td>NaN</td>\n",
       "      <td>27500000.0</td>\n",
       "      <td>3090517.0</td>\n",
       "    </tr>\n",
       "    <tr>\n",
       "      <th>36</th>\n",
       "      <td>China</td>\n",
       "      <td>41</td>\n",
       "      <td>2015-9328-CHN</td>\n",
       "      <td>2015</td>\n",
       "      <td>9328</td>\n",
       "      <td>Climatological</td>\n",
       "      <td>Drought</td>\n",
       "      <td>Drought</td>\n",
       "      <td>CHN</td>\n",
       "      <td>Eastern Asia</td>\n",
       "      <td>...</td>\n",
       "      <td>NaN</td>\n",
       "      <td>2015</td>\n",
       "      <td>5.0</td>\n",
       "      <td>NaN</td>\n",
       "      <td>2015</td>\n",
       "      <td>10.0</td>\n",
       "      <td>NaN</td>\n",
       "      <td>NaN</td>\n",
       "      <td>NaN</td>\n",
       "      <td>3042404.0</td>\n",
       "    </tr>\n",
       "    <tr>\n",
       "      <th>37</th>\n",
       "      <td>China</td>\n",
       "      <td>41</td>\n",
       "      <td>2016-9369-CHN</td>\n",
       "      <td>2016</td>\n",
       "      <td>9369</td>\n",
       "      <td>Climatological</td>\n",
       "      <td>Drought</td>\n",
       "      <td>Drought</td>\n",
       "      <td>CHN</td>\n",
       "      <td>Eastern Asia</td>\n",
       "      <td>...</td>\n",
       "      <td>NaN</td>\n",
       "      <td>2016</td>\n",
       "      <td>6.0</td>\n",
       "      <td>NaN</td>\n",
       "      <td>2016</td>\n",
       "      <td>8.0</td>\n",
       "      <td>NaN</td>\n",
       "      <td>NaN</td>\n",
       "      <td>10000000.0</td>\n",
       "      <td>3658076.0</td>\n",
       "    </tr>\n",
       "    <tr>\n",
       "      <th>38</th>\n",
       "      <td>China</td>\n",
       "      <td>41</td>\n",
       "      <td>2017-9206-CHN</td>\n",
       "      <td>2017</td>\n",
       "      <td>9206</td>\n",
       "      <td>Climatological</td>\n",
       "      <td>Drought</td>\n",
       "      <td>Drought</td>\n",
       "      <td>CHN</td>\n",
       "      <td>Eastern Asia</td>\n",
       "      <td>...</td>\n",
       "      <td>NaN</td>\n",
       "      <td>2017</td>\n",
       "      <td>4.0</td>\n",
       "      <td>NaN</td>\n",
       "      <td>2017</td>\n",
       "      <td>6.0</td>\n",
       "      <td>NaN</td>\n",
       "      <td>NaN</td>\n",
       "      <td>2000000.0</td>\n",
       "      <td>145659.0</td>\n",
       "    </tr>\n",
       "    <tr>\n",
       "      <th>39</th>\n",
       "      <td>China</td>\n",
       "      <td>41</td>\n",
       "      <td>2021-9078-CHN</td>\n",
       "      <td>2021</td>\n",
       "      <td>9078</td>\n",
       "      <td>Climatological</td>\n",
       "      <td>Drought</td>\n",
       "      <td>Drought</td>\n",
       "      <td>CHN</td>\n",
       "      <td>Eastern Asia</td>\n",
       "      <td>...</td>\n",
       "      <td>NaN</td>\n",
       "      <td>2021</td>\n",
       "      <td>1.0</td>\n",
       "      <td>1.0</td>\n",
       "      <td>2021</td>\n",
       "      <td>12.0</td>\n",
       "      <td>31.0</td>\n",
       "      <td>NaN</td>\n",
       "      <td>NaN</td>\n",
       "      <td>3348087.0</td>\n",
       "    </tr>\n",
       "    <tr>\n",
       "      <th>40</th>\n",
       "      <td>China</td>\n",
       "      <td>41</td>\n",
       "      <td>2022-9524-CHN</td>\n",
       "      <td>2022</td>\n",
       "      <td>9524</td>\n",
       "      <td>Climatological</td>\n",
       "      <td>Drought</td>\n",
       "      <td>Drought</td>\n",
       "      <td>CHN</td>\n",
       "      <td>Eastern Asia</td>\n",
       "      <td>...</td>\n",
       "      <td>NaN</td>\n",
       "      <td>2022</td>\n",
       "      <td>1.0</td>\n",
       "      <td>NaN</td>\n",
       "      <td>2022</td>\n",
       "      <td>12.0</td>\n",
       "      <td>NaN</td>\n",
       "      <td>NaN</td>\n",
       "      <td>6100000.0</td>\n",
       "      <td>7600000.0</td>\n",
       "    </tr>\n",
       "    <tr>\n",
       "      <th>41</th>\n",
       "      <td>Brazil</td>\n",
       "      <td>21</td>\n",
       "      <td>1970-9005-BRA</td>\n",
       "      <td>1970</td>\n",
       "      <td>9005</td>\n",
       "      <td>Climatological</td>\n",
       "      <td>Drought</td>\n",
       "      <td>Drought</td>\n",
       "      <td>BRA</td>\n",
       "      <td>South America</td>\n",
       "      <td>...</td>\n",
       "      <td>NaN</td>\n",
       "      <td>1970</td>\n",
       "      <td>8.0</td>\n",
       "      <td>NaN</td>\n",
       "      <td>1970</td>\n",
       "      <td>NaN</td>\n",
       "      <td>NaN</td>\n",
       "      <td>NaN</td>\n",
       "      <td>10000000.0</td>\n",
       "      <td>754.0</td>\n",
       "    </tr>\n",
       "    <tr>\n",
       "      <th>42</th>\n",
       "      <td>Brazil</td>\n",
       "      <td>21</td>\n",
       "      <td>1977-9006-BRA</td>\n",
       "      <td>1977</td>\n",
       "      <td>9006</td>\n",
       "      <td>Climatological</td>\n",
       "      <td>Drought</td>\n",
       "      <td>Drought</td>\n",
       "      <td>BRA</td>\n",
       "      <td>South America</td>\n",
       "      <td>...</td>\n",
       "      <td>NaN</td>\n",
       "      <td>1977</td>\n",
       "      <td>NaN</td>\n",
       "      <td>NaN</td>\n",
       "      <td>1977</td>\n",
       "      <td>NaN</td>\n",
       "      <td>NaN</td>\n",
       "      <td>NaN</td>\n",
       "      <td>NaN</td>\n",
       "      <td>NaN</td>\n",
       "    </tr>\n",
       "    <tr>\n",
       "      <th>43</th>\n",
       "      <td>Brazil</td>\n",
       "      <td>21</td>\n",
       "      <td>1978-9005-BRA</td>\n",
       "      <td>1978</td>\n",
       "      <td>9005</td>\n",
       "      <td>Climatological</td>\n",
       "      <td>Drought</td>\n",
       "      <td>Drought</td>\n",
       "      <td>BRA</td>\n",
       "      <td>South America</td>\n",
       "      <td>...</td>\n",
       "      <td>NaN</td>\n",
       "      <td>1978</td>\n",
       "      <td>NaN</td>\n",
       "      <td>NaN</td>\n",
       "      <td>1978</td>\n",
       "      <td>NaN</td>\n",
       "      <td>NaN</td>\n",
       "      <td>NaN</td>\n",
       "      <td>NaN</td>\n",
       "      <td>10318438.0</td>\n",
       "    </tr>\n",
       "    <tr>\n",
       "      <th>44</th>\n",
       "      <td>Brazil</td>\n",
       "      <td>21</td>\n",
       "      <td>1979-9012-BRA</td>\n",
       "      <td>1979</td>\n",
       "      <td>9012</td>\n",
       "      <td>Climatological</td>\n",
       "      <td>Drought</td>\n",
       "      <td>Drought</td>\n",
       "      <td>BRA</td>\n",
       "      <td>South America</td>\n",
       "      <td>...</td>\n",
       "      <td>NaN</td>\n",
       "      <td>1979</td>\n",
       "      <td>NaN</td>\n",
       "      <td>NaN</td>\n",
       "      <td>1979</td>\n",
       "      <td>NaN</td>\n",
       "      <td>NaN</td>\n",
       "      <td>NaN</td>\n",
       "      <td>5000000.0</td>\n",
       "      <td>NaN</td>\n",
       "    </tr>\n",
       "    <tr>\n",
       "      <th>45</th>\n",
       "      <td>Brazil</td>\n",
       "      <td>21</td>\n",
       "      <td>1983-9206-BRA</td>\n",
       "      <td>1983</td>\n",
       "      <td>9206</td>\n",
       "      <td>Climatological</td>\n",
       "      <td>Drought</td>\n",
       "      <td>Drought</td>\n",
       "      <td>BRA</td>\n",
       "      <td>South America</td>\n",
       "      <td>...</td>\n",
       "      <td>NaN</td>\n",
       "      <td>1983</td>\n",
       "      <td>9.0</td>\n",
       "      <td>NaN</td>\n",
       "      <td>1983</td>\n",
       "      <td>NaN</td>\n",
       "      <td>NaN</td>\n",
       "      <td>20.0</td>\n",
       "      <td>20000000.0</td>\n",
       "      <td>NaN</td>\n",
       "    </tr>\n",
       "    <tr>\n",
       "      <th>46</th>\n",
       "      <td>Brazil</td>\n",
       "      <td>21</td>\n",
       "      <td>1985-9011-BRA</td>\n",
       "      <td>1985</td>\n",
       "      <td>9011</td>\n",
       "      <td>Climatological</td>\n",
       "      <td>Drought</td>\n",
       "      <td>Drought</td>\n",
       "      <td>BRA</td>\n",
       "      <td>South America</td>\n",
       "      <td>...</td>\n",
       "      <td>NaN</td>\n",
       "      <td>1985</td>\n",
       "      <td>11.0</td>\n",
       "      <td>NaN</td>\n",
       "      <td>1985</td>\n",
       "      <td>NaN</td>\n",
       "      <td>NaN</td>\n",
       "      <td>NaN</td>\n",
       "      <td>NaN</td>\n",
       "      <td>1771165.0</td>\n",
       "    </tr>\n",
       "    <tr>\n",
       "      <th>47</th>\n",
       "      <td>Brazil</td>\n",
       "      <td>21</td>\n",
       "      <td>1987-9103-BRA</td>\n",
       "      <td>1987</td>\n",
       "      <td>9103</td>\n",
       "      <td>Climatological</td>\n",
       "      <td>Drought</td>\n",
       "      <td>Drought</td>\n",
       "      <td>BRA</td>\n",
       "      <td>South America</td>\n",
       "      <td>...</td>\n",
       "      <td>NaN</td>\n",
       "      <td>1987</td>\n",
       "      <td>6.0</td>\n",
       "      <td>NaN</td>\n",
       "      <td>1988</td>\n",
       "      <td>NaN</td>\n",
       "      <td>NaN</td>\n",
       "      <td>NaN</td>\n",
       "      <td>750000.0</td>\n",
       "      <td>NaN</td>\n",
       "    </tr>\n",
       "    <tr>\n",
       "      <th>48</th>\n",
       "      <td>Brazil</td>\n",
       "      <td>21</td>\n",
       "      <td>1988-9064-BRA</td>\n",
       "      <td>1988</td>\n",
       "      <td>9064</td>\n",
       "      <td>Climatological</td>\n",
       "      <td>Drought</td>\n",
       "      <td>Drought</td>\n",
       "      <td>BRA</td>\n",
       "      <td>South America</td>\n",
       "      <td>...</td>\n",
       "      <td>NaN</td>\n",
       "      <td>1988</td>\n",
       "      <td>2.0</td>\n",
       "      <td>NaN</td>\n",
       "      <td>1988</td>\n",
       "      <td>NaN</td>\n",
       "      <td>NaN</td>\n",
       "      <td>NaN</td>\n",
       "      <td>NaN</td>\n",
       "      <td>NaN</td>\n",
       "    </tr>\n",
       "    <tr>\n",
       "      <th>49</th>\n",
       "      <td>Brazil</td>\n",
       "      <td>21</td>\n",
       "      <td>1994-9207-BRA</td>\n",
       "      <td>1994</td>\n",
       "      <td>9207</td>\n",
       "      <td>Climatological</td>\n",
       "      <td>Drought</td>\n",
       "      <td>Drought</td>\n",
       "      <td>BRA</td>\n",
       "      <td>South America</td>\n",
       "      <td>...</td>\n",
       "      <td>NaN</td>\n",
       "      <td>1994</td>\n",
       "      <td>NaN</td>\n",
       "      <td>NaN</td>\n",
       "      <td>1994</td>\n",
       "      <td>NaN</td>\n",
       "      <td>NaN</td>\n",
       "      <td>NaN</td>\n",
       "      <td>NaN</td>\n",
       "      <td>NaN</td>\n",
       "    </tr>\n",
       "  </tbody>\n",
       "</table>\n",
       "<p>50 rows × 27 columns</p>\n",
       "</div>"
      ],
      "text/plain": [
       "   Country  Droughts         Dis No  Year   Seq Disaster Subgroup  \\\n",
       "0    China        41  1920-9003-CHN  1920  9003    Climatological   \n",
       "1    China        41  1928-9002-CHN  1928  9002    Climatological   \n",
       "2    China        41  1965-9080-CHN  1965  9080    Climatological   \n",
       "3    China        41  1978-9008-CHN  1978  9008    Climatological   \n",
       "4    China        41  1979-9004-CHN  1979  9004    Climatological   \n",
       "5    China        41  1983-9019-CHN  1983  9019    Climatological   \n",
       "6    China        41  1985-9211-CHN  1985  9211    Climatological   \n",
       "7    China        41  1988-9237-CHN  1988  9237    Climatological   \n",
       "8    China        41  1991-9305-CHN  1991  9305    Climatological   \n",
       "9    China        41  1992-9090-CHN  1992  9090    Climatological   \n",
       "10   China        41  1992-9128-CHN  1992  9128    Climatological   \n",
       "11   China        41  1994-9096-CHN  1994  9096    Climatological   \n",
       "12   China        41  1994-9186-CHN  1994  9186    Climatological   \n",
       "13   China        41  1995-9138-CHN  1995  9138    Climatological   \n",
       "14   China        41  1997-9557-CHN  1997  9557    Climatological   \n",
       "15   China        41  1999-9079-CHN  1999  9079    Climatological   \n",
       "16   China        41  2000-9267-CHN  2000  9267    Climatological   \n",
       "17   China        41  2000-9531-CHN  2000  9531    Climatological   \n",
       "18   China        41  2000-9626-CHN  2000  9626    Climatological   \n",
       "19   China        41  2001-9149-CHN  2001  9149    Climatological   \n",
       "20   China        41  2001-9218-CHN  2001  9218    Climatological   \n",
       "21   China        41  2002-9203-CHN  2002  9203    Climatological   \n",
       "22   China        41  2002-9564-CHN  2002  9564    Climatological   \n",
       "23   China        41  2002-9854-CHN  2002  9854    Climatological   \n",
       "24   China        41  2003-9360-CHN  2003  9360    Climatological   \n",
       "25   China        41  2003-9064-CHN  2003  9064    Climatological   \n",
       "26   China        41  2005-9745-CHN  2005  9745    Climatological   \n",
       "27   China        41  2005-9746-CHN  2005  9746    Climatological   \n",
       "28   China        41  2006-9741-CHN  2006  9741    Climatological   \n",
       "29   China        41  2008-9662-CHN  2008  9662    Climatological   \n",
       "30   China        41  2009-9655-CHN  2009  9655    Climatological   \n",
       "31   China        41  2009-9283-CHN  2009  9283    Climatological   \n",
       "32   China        41  2010-9701-CHN  2010  9701    Climatological   \n",
       "33   China        41  2013-9062-CHN  2013  9062    Climatological   \n",
       "34   China        41  2014-9265-CHN  2014  9265    Climatological   \n",
       "35   China        41  2014-9408-CHN  2014  9408    Climatological   \n",
       "36   China        41  2015-9328-CHN  2015  9328    Climatological   \n",
       "37   China        41  2016-9369-CHN  2016  9369    Climatological   \n",
       "38   China        41  2017-9206-CHN  2017  9206    Climatological   \n",
       "39   China        41  2021-9078-CHN  2021  9078    Climatological   \n",
       "40   China        41  2022-9524-CHN  2022  9524    Climatological   \n",
       "41  Brazil        21  1970-9005-BRA  1970  9005    Climatological   \n",
       "42  Brazil        21  1977-9006-BRA  1977  9006    Climatological   \n",
       "43  Brazil        21  1978-9005-BRA  1978  9005    Climatological   \n",
       "44  Brazil        21  1979-9012-BRA  1979  9012    Climatological   \n",
       "45  Brazil        21  1983-9206-BRA  1983  9206    Climatological   \n",
       "46  Brazil        21  1985-9011-BRA  1985  9011    Climatological   \n",
       "47  Brazil        21  1987-9103-BRA  1987  9103    Climatological   \n",
       "48  Brazil        21  1988-9064-BRA  1988  9064    Climatological   \n",
       "49  Brazil        21  1994-9207-BRA  1994  9207    Climatological   \n",
       "\n",
       "   Disaster Type Disaster Subtype  ISO         Region  ... Longitude  \\\n",
       "0        Drought          Drought  CHN   Eastern Asia  ...       NaN   \n",
       "1        Drought          Drought  CHN   Eastern Asia  ...       NaN   \n",
       "2        Drought          Drought  CHN   Eastern Asia  ...       NaN   \n",
       "3        Drought          Drought  CHN   Eastern Asia  ...       NaN   \n",
       "4        Drought          Drought  CHN   Eastern Asia  ...       NaN   \n",
       "5        Drought          Drought  CHN   Eastern Asia  ...       NaN   \n",
       "6        Drought          Drought  CHN   Eastern Asia  ...       NaN   \n",
       "7        Drought          Drought  CHN   Eastern Asia  ...       NaN   \n",
       "8        Drought          Drought  CHN   Eastern Asia  ...       NaN   \n",
       "9        Drought          Drought  CHN   Eastern Asia  ...       NaN   \n",
       "10       Drought          Drought  CHN   Eastern Asia  ...       NaN   \n",
       "11       Drought          Drought  CHN   Eastern Asia  ...       NaN   \n",
       "12       Drought          Drought  CHN   Eastern Asia  ...       NaN   \n",
       "13       Drought          Drought  CHN   Eastern Asia  ...       NaN   \n",
       "14       Drought          Drought  CHN   Eastern Asia  ...       NaN   \n",
       "15       Drought          Drought  CHN   Eastern Asia  ...       NaN   \n",
       "16       Drought          Drought  CHN   Eastern Asia  ...       NaN   \n",
       "17       Drought          Drought  CHN   Eastern Asia  ...       NaN   \n",
       "18       Drought          Drought  CHN   Eastern Asia  ...       NaN   \n",
       "19       Drought          Drought  CHN   Eastern Asia  ...       NaN   \n",
       "20       Drought          Drought  CHN   Eastern Asia  ...       NaN   \n",
       "21       Drought          Drought  CHN   Eastern Asia  ...       NaN   \n",
       "22       Drought          Drought  CHN   Eastern Asia  ...       NaN   \n",
       "23       Drought          Drought  CHN   Eastern Asia  ...       NaN   \n",
       "24       Drought          Drought  CHN   Eastern Asia  ...       NaN   \n",
       "25       Drought          Drought  CHN   Eastern Asia  ...       NaN   \n",
       "26       Drought          Drought  CHN   Eastern Asia  ...       NaN   \n",
       "27       Drought          Drought  CHN   Eastern Asia  ...       NaN   \n",
       "28       Drought          Drought  CHN   Eastern Asia  ...       NaN   \n",
       "29       Drought          Drought  CHN   Eastern Asia  ...       NaN   \n",
       "30       Drought          Drought  CHN   Eastern Asia  ...       NaN   \n",
       "31       Drought          Drought  CHN   Eastern Asia  ...       NaN   \n",
       "32       Drought          Drought  CHN   Eastern Asia  ...       NaN   \n",
       "33       Drought          Drought  CHN   Eastern Asia  ...       NaN   \n",
       "34       Drought          Drought  CHN   Eastern Asia  ...       NaN   \n",
       "35       Drought          Drought  CHN   Eastern Asia  ...       NaN   \n",
       "36       Drought          Drought  CHN   Eastern Asia  ...       NaN   \n",
       "37       Drought          Drought  CHN   Eastern Asia  ...       NaN   \n",
       "38       Drought          Drought  CHN   Eastern Asia  ...       NaN   \n",
       "39       Drought          Drought  CHN   Eastern Asia  ...       NaN   \n",
       "40       Drought          Drought  CHN   Eastern Asia  ...       NaN   \n",
       "41       Drought          Drought  BRA  South America  ...       NaN   \n",
       "42       Drought          Drought  BRA  South America  ...       NaN   \n",
       "43       Drought          Drought  BRA  South America  ...       NaN   \n",
       "44       Drought          Drought  BRA  South America  ...       NaN   \n",
       "45       Drought          Drought  BRA  South America  ...       NaN   \n",
       "46       Drought          Drought  BRA  South America  ...       NaN   \n",
       "47       Drought          Drought  BRA  South America  ...       NaN   \n",
       "48       Drought          Drought  BRA  South America  ...       NaN   \n",
       "49       Drought          Drought  BRA  South America  ...       NaN   \n",
       "\n",
       "   Start Year Start Month Start Day  End Year End Month End Day Total Deaths  \\\n",
       "0        1920         NaN       NaN      1920       NaN     NaN     500000.0   \n",
       "1        1928         NaN       NaN      1928       NaN     NaN    3000000.0   \n",
       "2        1965         3.0       NaN      1965       4.0     NaN          NaN   \n",
       "3        1978         NaN       NaN      1978       NaN     NaN          NaN   \n",
       "4        1979         NaN       NaN      1982       NaN     NaN          NaN   \n",
       "5        1983         1.0       NaN      1983       8.0     NaN          NaN   \n",
       "6        1985         NaN       NaN      1986       NaN     NaN          NaN   \n",
       "7        1988         6.0       NaN      1988       NaN     NaN       1400.0   \n",
       "8        1991         2.0       NaN      1991       8.0     NaN       2000.0   \n",
       "9        1992         NaN       NaN      1993       NaN     NaN          NaN   \n",
       "10       1992         5.0       NaN      1992       NaN     NaN          NaN   \n",
       "11       1994         1.0       NaN      1994      12.0     NaN          NaN   \n",
       "12       1994         3.0       NaN      1995       NaN     NaN          NaN   \n",
       "13       1995         1.0       NaN      1995       8.0     NaN          NaN   \n",
       "14       1997         5.0       NaN      1997       8.0     NaN          NaN   \n",
       "15       1999         3.0       NaN      1999       NaN     NaN          NaN   \n",
       "16       2000         4.0       NaN      2000       NaN     NaN          NaN   \n",
       "17       2000         8.0       NaN      2000       NaN     NaN          NaN   \n",
       "18       2000         9.0       NaN      2000       NaN     NaN          NaN   \n",
       "19       2001         2.0       NaN      2001       NaN     NaN          NaN   \n",
       "20       2001         3.0       NaN      2001       NaN     NaN          NaN   \n",
       "21       2002         4.0       NaN      2002       NaN     NaN          NaN   \n",
       "22       2002         9.0       NaN      2002       NaN     NaN          NaN   \n",
       "23       2002         6.0       1.0      2002      10.0    30.0          NaN   \n",
       "24       2003         7.0       NaN      2003       NaN     NaN          NaN   \n",
       "25       2003         1.0       NaN      2003       1.0     NaN          NaN   \n",
       "26       2005        10.0       NaN      2005       NaN     NaN          NaN   \n",
       "27       2005         7.0       7.0      2005       NaN     NaN          NaN   \n",
       "28       2006         5.0       1.0      2006       9.0    10.0        134.0   \n",
       "29       2008        11.0       NaN      2009       2.0     NaN          NaN   \n",
       "30       2009        10.0       NaN      2010       5.0     NaN          NaN   \n",
       "31       2009         6.0       NaN      2009       7.0     NaN          NaN   \n",
       "32       2010        12.0       NaN      2011       5.0     NaN          NaN   \n",
       "33       2013         1.0       NaN      2013       7.0     NaN          NaN   \n",
       "34       2014         6.0       NaN      2014       7.0     NaN          NaN   \n",
       "35       2014         8.0       NaN      2014      10.0     NaN          NaN   \n",
       "36       2015         5.0       NaN      2015      10.0     NaN          NaN   \n",
       "37       2016         6.0       NaN      2016       8.0     NaN          NaN   \n",
       "38       2017         4.0       NaN      2017       6.0     NaN          NaN   \n",
       "39       2021         1.0       1.0      2021      12.0    31.0          NaN   \n",
       "40       2022         1.0       NaN      2022      12.0     NaN          NaN   \n",
       "41       1970         8.0       NaN      1970       NaN     NaN          NaN   \n",
       "42       1977         NaN       NaN      1977       NaN     NaN          NaN   \n",
       "43       1978         NaN       NaN      1978       NaN     NaN          NaN   \n",
       "44       1979         NaN       NaN      1979       NaN     NaN          NaN   \n",
       "45       1983         9.0       NaN      1983       NaN     NaN         20.0   \n",
       "46       1985        11.0       NaN      1985       NaN     NaN          NaN   \n",
       "47       1987         6.0       NaN      1988       NaN     NaN          NaN   \n",
       "48       1988         2.0       NaN      1988       NaN     NaN          NaN   \n",
       "49       1994         NaN       NaN      1994       NaN     NaN          NaN   \n",
       "\n",
       "    Total Affected  Total Damages Adj  \n",
       "0       20000000.0                NaN  \n",
       "1              NaN                NaN  \n",
       "2              NaN           251877.0  \n",
       "3        6000000.0                NaN  \n",
       "4              NaN                NaN  \n",
       "5              NaN                NaN  \n",
       "6              NaN                NaN  \n",
       "7       49000000.0          2333370.0  \n",
       "8        5000000.0                NaN  \n",
       "9              NaN           110958.0  \n",
       "10      12000000.0                NaN  \n",
       "11      82000000.0         27158211.0  \n",
       "12       6690000.0                NaN  \n",
       "13       9060000.0            24583.0  \n",
       "14             NaN           308304.0  \n",
       "15      19000000.0                NaN  \n",
       "16      15000000.0          1353002.0  \n",
       "17       5000000.0                NaN  \n",
       "18             NaN                NaN  \n",
       "19        530000.0                NaN  \n",
       "20      15800000.0                NaN  \n",
       "21      60000000.0                NaN  \n",
       "22        900000.0                NaN  \n",
       "23       3660000.0          1968658.0  \n",
       "24       3000000.0                NaN  \n",
       "25      48000000.0                NaN  \n",
       "26        174000.0                NaN  \n",
       "27       7600000.0                NaN  \n",
       "28      18000000.0          4224508.0  \n",
       "29       3700000.0           318070.0  \n",
       "30      60000000.0          4910843.0  \n",
       "31        160000.0                NaN  \n",
       "32      35000000.0          3180805.0  \n",
       "33       5000000.0                NaN  \n",
       "34        226000.0          1458724.0  \n",
       "35      27500000.0          3090517.0  \n",
       "36             NaN          3042404.0  \n",
       "37      10000000.0          3658076.0  \n",
       "38       2000000.0           145659.0  \n",
       "39             NaN          3348087.0  \n",
       "40       6100000.0          7600000.0  \n",
       "41      10000000.0              754.0  \n",
       "42             NaN                NaN  \n",
       "43             NaN         10318438.0  \n",
       "44       5000000.0                NaN  \n",
       "45      20000000.0                NaN  \n",
       "46             NaN          1771165.0  \n",
       "47        750000.0                NaN  \n",
       "48             NaN                NaN  \n",
       "49             NaN                NaN  \n",
       "\n",
       "[50 rows x 27 columns]"
      ]
     },
     "execution_count": 28,
     "metadata": {},
     "output_type": "execute_result"
    }
   ],
   "source": [
    "# Combina df2 con df_drought por la columna 'Country' para que saque los años en los que se han producido sequías para cada uno\n",
    "df3 = df2.merge(df_drought, on='Country')\n",
    "\n",
    "# Muestra las primeras filas de df3\n",
    "df3.head(50)"
   ]
  },
  {
   "cell_type": "code",
   "execution_count": 37,
   "metadata": {},
   "outputs": [
    {
     "data": {
      "application/vnd.plotly.v1+json": {
       "config": {
        "plotlyServerURL": "https://plot.ly"
       },
       "data": [
        {
         "coloraxis": "coloraxis",
         "geo": "geo",
         "hovertemplate": "Start Year=1920<br>Country=%{location}<br>Droughts=%{z}<extra></extra>",
         "locationmode": "country names",
         "locations": [
          "China",
          "Cabo Verde"
         ],
         "name": "",
         "type": "choropleth",
         "z": [
          41,
          12
         ]
        }
       ],
       "frames": [
        {
         "data": [
          {
           "coloraxis": "coloraxis",
           "geo": "geo",
           "hovertemplate": "Start Year=1920<br>Country=%{location}<br>Droughts=%{z}<extra></extra>",
           "locationmode": "country names",
           "locations": [
            "China",
            "Cabo Verde"
           ],
           "name": "",
           "type": "choropleth",
           "z": [
            41,
            12
           ]
          }
         ],
         "name": "1920"
        },
        {
         "data": [
          {
           "coloraxis": "coloraxis",
           "geo": "geo",
           "hovertemplate": "Start Year=1928<br>Country=%{location}<br>Droughts=%{z}<extra></extra>",
           "locationmode": "country names",
           "locations": [
            "China"
           ],
           "name": "",
           "type": "choropleth",
           "z": [
            41
           ]
          }
         ],
         "name": "1928"
        },
        {
         "data": [
          {
           "coloraxis": "coloraxis",
           "geo": "geo",
           "hovertemplate": "Start Year=1965<br>Country=%{location}<br>Droughts=%{z}<extra></extra>",
           "locationmode": "country names",
           "locations": [
            "China",
            "Ethiopia",
            "Kenya",
            "India",
            "Mauritania",
            "Honduras",
            "Botswana"
           ],
           "name": "",
           "type": "choropleth",
           "z": [
            41,
            18,
            17,
            16,
            15,
            13,
            7
           ]
          }
         ],
         "name": "1965"
        },
        {
         "data": [
          {
           "coloraxis": "coloraxis",
           "geo": "geo",
           "hovertemplate": "Start Year=1978<br>Country=%{location}<br>Droughts=%{z}<extra></extra>",
           "locationmode": "country names",
           "locations": [
            "China",
            "Brazil",
            "Mauritania",
            "Mali",
            "Australia",
            "Philippines (the)",
            "Indonesia",
            "Mexico",
            "Congo (the Democratic Republic of the)"
           ],
           "name": "",
           "type": "choropleth",
           "z": [
            41,
            21,
            15,
            13,
            11,
            10,
            10,
            7,
            3
           ]
          }
         ],
         "name": "1978"
        },
        {
         "data": [
          {
           "coloraxis": "coloraxis",
           "geo": "geo",
           "hovertemplate": "Start Year=1979<br>Country=%{location}<br>Droughts=%{z}<extra></extra>",
           "locationmode": "country names",
           "locations": [
            "China",
            "Brazil",
            "Kenya",
            "India",
            "Mozambique",
            "Sri Lanka",
            "Senegal",
            "Uganda",
            "Hong Kong",
            "Bangladesh",
            "Nepal"
           ],
           "name": "",
           "type": "choropleth",
           "z": [
            41,
            21,
            17,
            16,
            15,
            12,
            11,
            10,
            7,
            7,
            6
           ]
          }
         ],
         "name": "1979"
        },
        {
         "data": [
          {
           "coloraxis": "coloraxis",
           "geo": "geo",
           "hovertemplate": "Start Year=1983<br>Country=%{location}<br>Droughts=%{z}<extra></extra>",
           "locationmode": "country names",
           "locations": [
            "China",
            "Brazil",
            "Ethiopia",
            "Somalia",
            "Bolivia (Plurinational State of)",
            "Bolivia (Plurinational State of)",
            "Sudan (the)",
            "Philippines (the)",
            "Djibouti",
            "Paraguay",
            "Lesotho",
            "Peru",
            "Hong Kong",
            "Bangladesh",
            "Zambia",
            "Eswatini",
            "Morocco",
            "Portugal",
            "Panama",
            "Fiji",
            "Togo",
            "Ghana",
            "Nigeria",
            "Benin",
            "Bulgaria",
            "Central African Republic",
            "Romania",
            "Antigua and Barbuda",
            "Liberia",
            "Cï¿½te dï¿½Ivoire",
            "Sao Tome and Principe",
            "Congo (the)"
           ],
           "name": "",
           "type": "choropleth",
           "z": [
            41,
            21,
            18,
            17,
            13,
            13,
            10,
            10,
            10,
            9,
            9,
            8,
            7,
            7,
            7,
            7,
            5,
            4,
            4,
            3,
            3,
            3,
            2,
            2,
            2,
            2,
            2,
            1,
            1,
            1,
            1,
            1
           ]
          }
         ],
         "name": "1983"
        },
        {
         "data": [
          {
           "coloraxis": "coloraxis",
           "geo": "geo",
           "hovertemplate": "Start Year=1985<br>Country=%{location}<br>Droughts=%{z}<extra></extra>",
           "locationmode": "country names",
           "locations": [
            "China",
            "Brazil",
            "Angola"
           ],
           "name": "",
           "type": "choropleth",
           "z": [
            41,
            21,
            9
           ]
          }
         ],
         "name": "1985"
        },
        {
         "data": [
          {
           "coloraxis": "coloraxis",
           "geo": "geo",
           "hovertemplate": "Start Year=1988<br>Country=%{location}<br>Droughts=%{z}<extra></extra>",
           "locationmode": "country names",
           "locations": [
            "China",
            "Brazil",
            "United States of America (the)",
            "Niger (the)",
            "Somalia",
            "Burkina Faso",
            "Bolivia (Plurinational State of)",
            "Sri Lanka",
            "South Africa",
            "Tanzania, United Republic of",
            "Djibouti",
            "Madagascar",
            "Mexico",
            "Lao People's Democratic Republic (the)",
            "Canada",
            "Guyana",
            "Tunisia"
           ],
           "name": "",
           "type": "choropleth",
           "z": [
            41,
            21,
            19,
            17,
            17,
            15,
            13,
            12,
            12,
            11,
            10,
            10,
            7,
            6,
            5,
            3,
            2
           ]
          }
         ],
         "name": "1988"
        },
        {
         "data": [
          {
           "coloraxis": "coloraxis",
           "geo": "geo",
           "hovertemplate": "Start Year=1991<br>Country=%{location}<br>Droughts=%{z}<extra></extra>",
           "locationmode": "country names",
           "locations": [
            "China",
            "United States of America (the)",
            "United States of America (the)",
            "Kenya",
            "Mozambique",
            "Mali",
            "South Africa",
            "Thailand",
            "Australia",
            "Tanzania, United Republic of",
            "Sudan (the)",
            "Zimbabwe",
            "Namibia",
            "Zambia",
            "Lao People's Democratic Republic (the)",
            "France",
            "Chile",
            "Cyprus"
           ],
           "name": "",
           "type": "choropleth",
           "z": [
            41,
            19,
            19,
            17,
            15,
            13,
            12,
            12,
            11,
            11,
            10,
            9,
            9,
            7,
            6,
            5,
            2,
            2
           ]
          }
         ],
         "name": "1991"
        },
        {
         "data": [
          {
           "coloraxis": "coloraxis",
           "geo": "geo",
           "hovertemplate": "Start Year=1992<br>Country=%{location}<br>Droughts=%{z}<extra></extra>",
           "locationmode": "country names",
           "locations": [
            "China",
            "China",
            "Cabo Verde",
            "Australia",
            "Malawi",
            "Haiti",
            "Lesotho",
            "Peru",
            "Botswana",
            "Lithuania",
            "Hungary",
            "Denmark"
           ],
           "name": "",
           "type": "choropleth",
           "z": [
            41,
            41,
            12,
            11,
            9,
            9,
            9,
            8,
            7,
            3,
            3,
            1
           ]
          }
         ],
         "name": "1992"
        },
        {
         "data": [
          {
           "coloraxis": "coloraxis",
           "geo": "geo",
           "hovertemplate": "Start Year=1994<br>Country=%{location}<br>Droughts=%{z}<extra></extra>",
           "locationmode": "country names",
           "locations": [
            "China",
            "China",
            "Brazil",
            "Kenya",
            "Honduras",
            "Bolivia (Plurinational State of)",
            "El Salvador",
            "Guatemala",
            "Nicaragua",
            "Cambodia",
            "Costa Rica",
            "New Zealand",
            "Puerto Rico"
           ],
           "name": "",
           "type": "choropleth",
           "z": [
            41,
            41,
            21,
            17,
            13,
            13,
            7,
            7,
            6,
            6,
            5,
            2,
            1
           ]
          }
         ],
         "name": "1994"
        },
        {
         "data": [
          {
           "coloraxis": "coloraxis",
           "geo": "geo",
           "hovertemplate": "Start Year=1995<br>Country=%{location}<br>Droughts=%{z}<extra></extra>",
           "locationmode": "country names",
           "locations": [
            "China",
            "Burkina Faso",
            "South Africa",
            "Namibia",
            "Mexico",
            "Zambia"
           ],
           "name": "",
           "type": "choropleth",
           "z": [
            41,
            15,
            12,
            9,
            7,
            7
           ]
          }
         ],
         "name": "1995"
        },
        {
         "data": [
          {
           "coloraxis": "coloraxis",
           "geo": "geo",
           "hovertemplate": "Start Year=1997<br>Country=%{location}<br>Droughts=%{z}<extra></extra>",
           "locationmode": "country names",
           "locations": [
            "China",
            "Ethiopia",
            "Kenya",
            "Niger (the)",
            "Mauritania",
            "Honduras",
            "Chad",
            "Indonesia",
            "Angola",
            "Viet Nam",
            "Nicaragua",
            "France",
            "Italy",
            "Portugal",
            "Ecuador",
            "Solomon Islands",
            "Papua New Guinea",
            "Guyana"
           ],
           "name": "",
           "type": "choropleth",
           "z": [
            41,
            18,
            17,
            17,
            15,
            13,
            12,
            10,
            9,
            7,
            6,
            5,
            5,
            4,
            4,
            3,
            3,
            3
           ]
          }
         ],
         "name": "1997"
        },
        {
         "data": [
          {
           "coloraxis": "coloraxis",
           "geo": "geo",
           "hovertemplate": "Start Year=1999<br>Country=%{location}<br>Droughts=%{z}<extra></extra>",
           "locationmode": "country names",
           "locations": [
            "China",
            "United States of America (the)",
            "Ethiopia",
            "Kenya",
            "Thailand",
            "Uganda",
            "Paraguay",
            "Mexico",
            "Viet Nam",
            "Lao People's Democratic Republic (the)",
            "Rwanda",
            "Burundi",
            "Morocco",
            "Spain",
            "Uruguay",
            "Syrian Arab Republic",
            "Eritrea",
            "Iran (Islamic Republic of)",
            "Pakistan",
            "Jordan",
            "Mauritius",
            "Israel",
            "Kiribati"
           ],
           "name": "",
           "type": "choropleth",
           "z": [
            41,
            19,
            18,
            17,
            12,
            10,
            9,
            7,
            7,
            6,
            6,
            6,
            5,
            4,
            3,
            3,
            3,
            3,
            2,
            2,
            1,
            1,
            1
           ]
          }
         ],
         "name": "1999"
        },
        {
         "data": [
          {
           "coloraxis": "coloraxis",
           "geo": "geo",
           "hovertemplate": "Start Year=2000<br>Country=%{location}<br>Droughts=%{z}<extra></extra>",
           "locationmode": "country names",
           "locations": [
            "China",
            "China",
            "China",
            "United States of America (the)",
            "United States of America (the)",
            "Somalia",
            "India",
            "Honduras",
            "Bolivia (Plurinational State of)",
            "Sudan (the)",
            "Madagascar",
            "Afghanistan",
            "Cuba",
            "Nicaragua",
            "Jamaica",
            "Moldova (the Republic of)",
            "Tajikistan",
            "Jordan",
            "Bosnia and Herzegovina",
            "Bulgaria",
            "Cyprus",
            "Romania",
            "Uzbekistan",
            "Armenia",
            "Azerbaijan",
            "Mongolia",
            "Georgia"
           ],
           "name": "",
           "type": "choropleth",
           "z": [
            41,
            41,
            41,
            19,
            19,
            17,
            16,
            13,
            13,
            10,
            10,
            8,
            7,
            6,
            4,
            3,
            2,
            2,
            2,
            2,
            2,
            2,
            1,
            1,
            1,
            1,
            1
           ]
          }
         ],
         "name": "2000"
        },
        {
         "data": [
          {
           "coloraxis": "coloraxis",
           "geo": "geo",
           "hovertemplate": "Start Year=2001<br>Country=%{location}<br>Droughts=%{z}<extra></extra>",
           "locationmode": "country names",
           "locations": [
            "China",
            "China",
            "Brazil",
            "Niger (the)",
            "Mauritania",
            "Mozambique",
            "Burkina Faso",
            "Honduras",
            "Mali",
            "Sri Lanka",
            "Chad",
            "Djibouti",
            "Zimbabwe",
            "Angola",
            "Namibia",
            "El Salvador",
            "Guatemala",
            "Eswatini",
            "Nicaragua",
            "Cambodia",
            "Cameroon",
            "Korea (the Republic of)"
           ],
           "name": "",
           "type": "choropleth",
           "z": [
            41,
            41,
            21,
            17,
            15,
            15,
            15,
            13,
            13,
            12,
            12,
            10,
            9,
            9,
            9,
            7,
            7,
            7,
            6,
            6,
            6,
            2
           ]
          }
         ],
         "name": "2001"
        },
        {
         "data": [
          {
           "coloraxis": "coloraxis",
           "geo": "geo",
           "hovertemplate": "Start Year=2002<br>Country=%{location}<br>Droughts=%{z}<extra></extra>",
           "locationmode": "country names",
           "locations": [
            "China",
            "China",
            "China",
            "Brazil",
            "United States of America (the)",
            "India",
            "Mozambique",
            "Honduras",
            "Thailand",
            "Cabo Verde",
            "Australia",
            "Senegal",
            "Philippines (the)",
            "Madagascar",
            "Uganda",
            "Malawi",
            "Gambia (the)",
            "Lesotho",
            "Namibia",
            "Peru",
            "Mexico",
            "Viet Nam",
            "Cambodia",
            "Guinea-Bissau",
            "Italy"
           ],
           "name": "",
           "type": "choropleth",
           "z": [
            41,
            41,
            41,
            21,
            19,
            16,
            15,
            13,
            12,
            12,
            11,
            11,
            10,
            10,
            10,
            9,
            9,
            9,
            9,
            8,
            7,
            7,
            6,
            6,
            5
           ]
          }
         ],
         "name": "2002"
        },
        {
         "data": [
          {
           "coloraxis": "coloraxis",
           "geo": "geo",
           "hovertemplate": "Start Year=2003<br>Country=%{location}<br>Droughts=%{z}<extra></extra>",
           "locationmode": "country names",
           "locations": [
            "China",
            "China",
            "Ethiopia",
            "Mozambique",
            "Tanzania, United Republic of",
            "Indonesia",
            "Haiti",
            "Rwanda",
            "Burundi",
            "Russian Federation (the)",
            "Argentina",
            "Hungary",
            "Bosnia and Herzegovina",
            "Croatia"
           ],
           "name": "",
           "type": "choropleth",
           "z": [
            41,
            41,
            18,
            15,
            11,
            10,
            9,
            6,
            6,
            5,
            4,
            3,
            2,
            1
           ]
          }
         ],
         "name": "2003"
        },
        {
         "data": [
          {
           "coloraxis": "coloraxis",
           "geo": "geo",
           "hovertemplate": "Start Year=2005<br>Country=%{location}<br>Droughts=%{z}<extra></extra>",
           "locationmode": "country names",
           "locations": [
            "China",
            "China",
            "Brazil",
            "Ethiopia",
            "Kenya",
            "Niger (the)",
            "Somalia",
            "Mozambique",
            "Mali",
            "Thailand",
            "Djibouti",
            "Madagascar",
            "Uganda",
            "Malawi",
            "Paraguay",
            "Zambia",
            "Viet Nam",
            "Cambodia",
            "Burundi",
            "Cameroon"
           ],
           "name": "",
           "type": "choropleth",
           "z": [
            41,
            41,
            21,
            18,
            17,
            17,
            17,
            15,
            13,
            12,
            10,
            10,
            10,
            9,
            9,
            7,
            7,
            6,
            6,
            6
           ]
          }
         ],
         "name": "2005"
        },
        {
         "data": [
          {
           "coloraxis": "coloraxis",
           "geo": "geo",
           "hovertemplate": "Start Year=2006<br>Country=%{location}<br>Droughts=%{z}<extra></extra>",
           "locationmode": "country names",
           "locations": [
            "China",
            "Mali",
            "Australia",
            "Tanzania, United Republic of",
            "Peru",
            "Afghanistan",
            "Nepal",
            "Guinea-Bissau",
            "Lithuania"
           ],
           "name": "",
           "type": "choropleth",
           "z": [
            41,
            13,
            11,
            11,
            8,
            8,
            6,
            6,
            3
           ]
          }
         ],
         "name": "2006"
        },
        {
         "data": [
          {
           "coloraxis": "coloraxis",
           "geo": "geo",
           "hovertemplate": "Start Year=2008<br>Country=%{location}<br>Droughts=%{z}<extra></extra>",
           "locationmode": "country names",
           "locations": [
            "China",
            "Ethiopia",
            "Kenya",
            "Somalia",
            "Mozambique",
            "Bolivia (Plurinational State of)",
            "Thailand",
            "Djibouti",
            "Madagascar",
            "Uganda",
            "Paraguay",
            "Afghanistan",
            "Burundi",
            "Syrian Arab Republic",
            "Eritrea",
            "Tajikistan"
           ],
           "name": "",
           "type": "choropleth",
           "z": [
            41,
            18,
            17,
            17,
            15,
            13,
            12,
            10,
            10,
            10,
            9,
            8,
            6,
            3,
            3,
            2
           ]
          }
         ],
         "name": "2008"
        },
        {
         "data": [
          {
           "coloraxis": "coloraxis",
           "geo": "geo",
           "hovertemplate": "Start Year=2009<br>Country=%{location}<br>Droughts=%{z}<extra></extra>",
           "locationmode": "country names",
           "locations": [
            "China",
            "China",
            "Ethiopia",
            "Niger (the)",
            "India",
            "Honduras",
            "Chad",
            "Paraguay",
            "Bangladesh",
            "El Salvador",
            "Guatemala",
            "Burundi",
            "Nepal",
            "Ecuador",
            "Argentina",
            "South Sudan",
            "Kyrgyzstan",
            "Venezuela (Bolivarian Republic of)"
           ],
           "name": "",
           "type": "choropleth",
           "z": [
            41,
            41,
            18,
            17,
            16,
            13,
            12,
            9,
            7,
            7,
            7,
            6,
            6,
            4,
            4,
            3,
            1,
            1
           ]
          }
         ],
         "name": "2009"
        },
        {
         "data": [
          {
           "coloraxis": "coloraxis",
           "geo": "geo",
           "hovertemplate": "Start Year=2010<br>Country=%{location}<br>Droughts=%{z}<extra></extra>",
           "locationmode": "country names",
           "locations": [
            "China",
            "Brazil",
            "Somalia",
            "Mauritania",
            "Mozambique",
            "Mali",
            "Bolivia (Plurinational State of)",
            "Thailand",
            "Djibouti",
            "Zimbabwe",
            "Russian Federation (the)",
            "Guyana",
            "Saint Vincent and the Grenadines",
            "Grenada",
            "Barbados",
            "Trinidad and Tobago",
            "Saint Lucia"
           ],
           "name": "",
           "type": "choropleth",
           "z": [
            41,
            21,
            17,
            15,
            15,
            13,
            13,
            12,
            10,
            9,
            5,
            3,
            1,
            1,
            1,
            1,
            1
           ]
          }
         ],
         "name": "2010"
        },
        {
         "data": [
          {
           "coloraxis": "coloraxis",
           "geo": "geo",
           "hovertemplate": "Start Year=2013<br>Country=%{location}<br>Droughts=%{z}<extra></extra>",
           "locationmode": "country names",
           "locations": [
            "China",
            "Bolivia (Plurinational State of)",
            "Zimbabwe",
            "Paraguay",
            "Namibia",
            "Panama",
            "Ecuador",
            "Marshall Islands (the)",
            "New Zealand"
           ],
           "name": "",
           "type": "choropleth",
           "z": [
            41,
            13,
            9,
            9,
            9,
            4,
            4,
            3,
            2
           ]
          }
         ],
         "name": "2013"
        },
        {
         "data": [
          {
           "coloraxis": "coloraxis",
           "geo": "geo",
           "hovertemplate": "Start Year=2014<br>Country=%{location}<br>Droughts=%{z}<extra></extra>",
           "locationmode": "country names",
           "locations": [
            "China",
            "China",
            "Brazil",
            "United States of America (the)",
            "Kenya",
            "Somalia",
            "Burkina Faso",
            "Honduras",
            "Bolivia (Plurinational State of)",
            "Sri Lanka",
            "Thailand",
            "Senegal",
            "Madagascar",
            "Haiti",
            "Guatemala",
            "Nicaragua",
            "Jamaica",
            "Malaysia"
           ],
           "name": "",
           "type": "choropleth",
           "z": [
            41,
            41,
            21,
            19,
            17,
            17,
            15,
            13,
            13,
            12,
            12,
            11,
            10,
            9,
            7,
            6,
            4,
            2
           ]
          }
         ],
         "name": "2014"
        },
        {
         "data": [
          {
           "coloraxis": "coloraxis",
           "geo": "geo",
           "hovertemplate": "Start Year=2015<br>Country=%{location}<br>Droughts=%{z}<extra></extra>",
           "locationmode": "country names",
           "locations": [
            "China",
            "United States of America (the)",
            "Ethiopia",
            "Niger (the)",
            "Somalia",
            "India",
            "South Africa",
            "Thailand",
            "Sudan (the)",
            "Philippines (the)",
            "Indonesia",
            "Malawi",
            "Gambia (the)",
            "Namibia",
            "El Salvador",
            "Cuba",
            "Botswana",
            "Viet Nam",
            "Costa Rica",
            "Panama",
            "Korea (the Democratic People's Republic of)",
            "Marshall Islands (the)",
            "Solomon Islands",
            "Papua New Guinea",
            "Fiji",
            "Colombia",
            "Tonga",
            "Samoa",
            "Palau"
           ],
           "name": "",
           "type": "choropleth",
           "z": [
            41,
            19,
            18,
            17,
            17,
            16,
            12,
            12,
            10,
            10,
            10,
            9,
            9,
            9,
            7,
            7,
            7,
            7,
            5,
            4,
            4,
            3,
            3,
            3,
            3,
            2,
            1,
            1,
            1
           ]
          }
         ],
         "name": "2015"
        },
        {
         "data": [
          {
           "coloraxis": "coloraxis",
           "geo": "geo",
           "hovertemplate": "Start Year=2016<br>Country=%{location}<br>Droughts=%{z}<extra></extra>",
           "locationmode": "country names",
           "locations": [
            "China",
            "Kenya",
            "Mozambique",
            "Bolivia (Plurinational State of)",
            "Sri Lanka",
            "Madagascar",
            "Haiti",
            "Paraguay",
            "Lesotho",
            "Eswatini",
            "Cambodia",
            "South Sudan",
            "Timor-Leste",
            "Micronesia (Federated States of)"
           ],
           "name": "",
           "type": "choropleth",
           "z": [
            41,
            17,
            15,
            13,
            12,
            10,
            9,
            9,
            9,
            7,
            6,
            3,
            2,
            2
           ]
          }
         ],
         "name": "2016"
        },
        {
         "data": [
          {
           "coloraxis": "coloraxis",
           "geo": "geo",
           "hovertemplate": "Start Year=2017<br>Country=%{location}<br>Droughts=%{z}<extra></extra>",
           "locationmode": "country names",
           "locations": [
            "China",
            "United States of America (the)",
            "Niger (the)",
            "Mauritania",
            "Chad",
            "South Africa",
            "Cabo Verde",
            "Madagascar",
            "Zimbabwe",
            "Angola",
            "Italy",
            "Korea (the Democratic People's Republic of)"
           ],
           "name": "",
           "type": "choropleth",
           "z": [
            41,
            19,
            17,
            15,
            12,
            12,
            12,
            10,
            9,
            9,
            5,
            4
           ]
          }
         ],
         "name": "2017"
        },
        {
         "data": [
          {
           "coloraxis": "coloraxis",
           "geo": "geo",
           "hovertemplate": "Start Year=2021<br>Country=%{location}<br>Droughts=%{z}<extra></extra>",
           "locationmode": "country names",
           "locations": [
            "China",
            "Brazil",
            "United States of America (the)",
            "Ethiopia",
            "Somalia",
            "Mozambique",
            "South Africa",
            "Tanzania, United Republic of",
            "Zimbabwe",
            "Afghanistan",
            "Zambia",
            "South Sudan",
            "Syrian Arab Republic",
            "Iraq",
            "Iran (Islamic Republic of)",
            "Tuvalu",
            "Kazakhstan"
           ],
           "name": "",
           "type": "choropleth",
           "z": [
            41,
            21,
            19,
            18,
            17,
            15,
            12,
            11,
            9,
            8,
            7,
            3,
            3,
            3,
            3,
            2,
            1
           ]
          }
         ],
         "name": "2021"
        },
        {
         "data": [
          {
           "coloraxis": "coloraxis",
           "geo": "geo",
           "hovertemplate": "Start Year=2022<br>Country=%{location}<br>Droughts=%{z}<extra></extra>",
           "locationmode": "country names",
           "locations": [
            "China",
            "Brazil",
            "United States of America (the)",
            "Ethiopia",
            "Niger (the)",
            "Burkina Faso",
            "Mali",
            "Chad",
            "Cabo Verde",
            "Sudan (the)",
            "Djibouti",
            "Uganda",
            "Malawi",
            "Cameroon",
            "France",
            "Italy",
            "Portugal",
            "Marshall Islands (the)",
            "Uruguay",
            "Congo (the Democratic Republic of the)",
            "Nigeria",
            "Central African Republic",
            "United Kingdom of Great Britain and Northern Ireland (the)"
           ],
           "name": "",
           "type": "choropleth",
           "z": [
            41,
            21,
            19,
            18,
            17,
            15,
            13,
            12,
            12,
            10,
            10,
            10,
            9,
            6,
            5,
            5,
            4,
            3,
            3,
            3,
            2,
            2,
            1
           ]
          }
         ],
         "name": "2022"
        },
        {
         "data": [
          {
           "coloraxis": "coloraxis",
           "geo": "geo",
           "hovertemplate": "Start Year=1970<br>Country=%{location}<br>Droughts=%{z}<extra></extra>",
           "locationmode": "country names",
           "locations": [
            "Brazil",
            "Botswana"
           ],
           "name": "",
           "type": "choropleth",
           "z": [
            21,
            7
           ]
          }
         ],
         "name": "1970"
        },
        {
         "data": [
          {
           "coloraxis": "coloraxis",
           "geo": "geo",
           "hovertemplate": "Start Year=1977<br>Country=%{location}<br>Droughts=%{z}<extra></extra>",
           "locationmode": "country names",
           "locations": [
            "Brazil",
            "Burkina Faso",
            "Bolivia (Plurinational State of)",
            "Sri Lanka",
            "Senegal",
            "Tanzania, United Republic of",
            "Haiti",
            "Gambia (the)",
            "Hong Kong",
            "Lao People's Democratic Republic (the)",
            "Canada",
            "Ghana",
            "Yemen P Dem Rep",
            "Tunisia",
            "Yemen Arab Rep",
            "Japan"
           ],
           "name": "",
           "type": "choropleth",
           "z": [
            21,
            15,
            13,
            12,
            11,
            11,
            9,
            9,
            7,
            6,
            5,
            3,
            2,
            2,
            2,
            1
           ]
          }
         ],
         "name": "1977"
        },
        {
         "data": [
          {
           "coloraxis": "coloraxis",
           "geo": "geo",
           "hovertemplate": "Start Year=1987<br>Country=%{location}<br>Droughts=%{z}<extra></extra>",
           "locationmode": "country names",
           "locations": [
            "Brazil",
            "Ethiopia",
            "Somalia",
            "India",
            "Mozambique",
            "Sri Lanka",
            "Sudan (the)",
            "Philippines (the)",
            "Indonesia",
            "Uganda",
            "Malawi",
            "Guatemala",
            "Viet Nam",
            "Cambodia",
            "Lao People's Democratic Republic (the)"
           ],
           "name": "",
           "type": "choropleth",
           "z": [
            21,
            18,
            17,
            16,
            15,
            12,
            10,
            10,
            10,
            10,
            9,
            7,
            7,
            6,
            6
           ]
          }
         ],
         "name": "1987"
        },
        {
         "data": [
          {
           "coloraxis": "coloraxis",
           "geo": "geo",
           "hovertemplate": "Start Year=1998<br>Country=%{location}<br>Droughts=%{z}<extra></extra>",
           "locationmode": "country names",
           "locations": [
            "Brazil",
            "Ethiopia",
            "Mozambique",
            "Burkina Faso",
            "Cabo Verde",
            "Philippines (the)",
            "Uganda",
            "Zimbabwe",
            "Namibia",
            "El Salvador",
            "Cuba",
            "Costa Rica",
            "Russian Federation (the)",
            "Solomon Islands",
            "Fiji",
            "Iraq",
            "Malaysia",
            "Colombia",
            "Micronesia (Federated States of)",
            "Guinea"
           ],
           "name": "",
           "type": "choropleth",
           "z": [
            21,
            18,
            15,
            15,
            12,
            10,
            10,
            9,
            9,
            7,
            7,
            5,
            5,
            3,
            3,
            3,
            2,
            2,
            2,
            2
           ]
          }
         ],
         "name": "1998"
        },
        {
         "data": [
          {
           "coloraxis": "coloraxis",
           "geo": "geo",
           "hovertemplate": "Start Year=2004<br>Country=%{location}<br>Droughts=%{z}<extra></extra>",
           "locationmode": "country names",
           "locations": [
            "Brazil",
            "Kenya",
            "Somalia",
            "Honduras",
            "Bolivia (Plurinational State of)",
            "South Africa",
            "Tanzania, United Republic of",
            "Angola",
            "Peru",
            "Cuba",
            "Portugal"
           ],
           "name": "",
           "type": "choropleth",
           "z": [
            21,
            17,
            17,
            13,
            13,
            12,
            11,
            9,
            8,
            7,
            4
           ]
          }
         ],
         "name": "2004"
        },
        {
         "data": [
          {
           "coloraxis": "coloraxis",
           "geo": "geo",
           "hovertemplate": "Start Year=2007<br>Country=%{location}<br>Droughts=%{z}<extra></extra>",
           "locationmode": "country names",
           "locations": [
            "Brazil",
            "United States of America (the)",
            "Mozambique",
            "Philippines (the)",
            "Djibouti",
            "Malawi",
            "Zimbabwe",
            "Lesotho",
            "Eswatini",
            "Moldova (the Republic of)",
            "Timor-Leste"
           ],
           "name": "",
           "type": "choropleth",
           "z": [
            21,
            19,
            15,
            10,
            10,
            9,
            9,
            9,
            7,
            3,
            2
           ]
          }
         ],
         "name": "2007"
        },
        {
         "data": [
          {
           "coloraxis": "coloraxis",
           "geo": "geo",
           "hovertemplate": "Start Year=2012<br>Country=%{location}<br>Droughts=%{z}<extra></extra>",
           "locationmode": "country names",
           "locations": [
            "Brazil",
            "United States of America (the)",
            "United States of America (the)",
            "Ethiopia",
            "Somalia",
            "Honduras",
            "Sri Lanka",
            "Chad",
            "Thailand",
            "Sudan (the)",
            "Malawi",
            "Angola",
            "Gambia (the)",
            "Paraguay",
            "Guatemala",
            "Cameroon",
            "Italy",
            "Russian Federation (the)",
            "Korea (the Democratic People's Republic of)",
            "Moldova (the Republic of)",
            "Ukraine"
           ],
           "name": "",
           "type": "choropleth",
           "z": [
            21,
            19,
            19,
            18,
            17,
            13,
            12,
            12,
            12,
            10,
            9,
            9,
            9,
            9,
            7,
            6,
            5,
            5,
            4,
            3,
            1
           ]
          }
         ],
         "name": "2012"
        },
        {
         "data": [
          {
           "coloraxis": "coloraxis",
           "geo": "geo",
           "hovertemplate": "Start Year=2020<br>Country=%{location}<br>Droughts=%{z}<extra></extra>",
           "locationmode": "country names",
           "locations": [
            "Brazil",
            "United States of America (the)",
            "Kenya",
            "Niger (the)",
            "Mauritania",
            "Mozambique",
            "Burkina Faso",
            "Mali",
            "Madagascar",
            "Angola",
            "Lesotho"
           ],
           "name": "",
           "type": "choropleth",
           "z": [
            21,
            19,
            17,
            17,
            15,
            15,
            15,
            13,
            10,
            9,
            9
           ]
          }
         ],
         "name": "2020"
        },
        {
         "data": [
          {
           "coloraxis": "coloraxis",
           "geo": "geo",
           "hovertemplate": "Start Year=1933<br>Country=%{location}<br>Droughts=%{z}<extra></extra>",
           "locationmode": "country names",
           "locations": [
            "United States of America (the)"
           ],
           "name": "",
           "type": "choropleth",
           "z": [
            19
           ]
          }
         ],
         "name": "1933"
        },
        {
         "data": [
          {
           "coloraxis": "coloraxis",
           "geo": "geo",
           "hovertemplate": "Start Year=2011<br>Country=%{location}<br>Droughts=%{z}<extra></extra>",
           "locationmode": "country names",
           "locations": [
            "United States of America (the)",
            "Ethiopia",
            "Kenya",
            "Kenya",
            "Niger (the)",
            "Mauritania",
            "Burkina Faso",
            "Mali",
            "Thailand",
            "Senegal",
            "Tanzania, United Republic of",
            "Uganda",
            "Lesotho",
            "Afghanistan",
            "Mexico",
            "Burundi",
            "Tuvalu"
           ],
           "name": "",
           "type": "choropleth",
           "z": [
            19,
            18,
            17,
            17,
            17,
            15,
            15,
            13,
            12,
            11,
            11,
            10,
            9,
            8,
            7,
            6,
            2
           ]
          }
         ],
         "name": "2011"
        },
        {
         "data": [
          {
           "coloraxis": "coloraxis",
           "geo": "geo",
           "hovertemplate": "Start Year=2018<br>Country=%{location}<br>Droughts=%{z}<extra></extra>",
           "locationmode": "country names",
           "locations": [
            "United States of America (the)",
            "India",
            "Mauritania",
            "Honduras",
            "Australia",
            "Senegal",
            "Namibia",
            "Afghanistan",
            "El Salvador",
            "Guatemala",
            "Nicaragua",
            "Panama",
            "Argentina",
            "Uruguay",
            "Lithuania",
            "Poland"
           ],
           "name": "",
           "type": "choropleth",
           "z": [
            19,
            16,
            15,
            13,
            11,
            11,
            9,
            8,
            7,
            7,
            6,
            4,
            4,
            3,
            3,
            1
           ]
          }
         ],
         "name": "2018"
        },
        {
         "data": [
          {
           "coloraxis": "coloraxis",
           "geo": "geo",
           "hovertemplate": "Start Year=1969<br>Country=%{location}<br>Droughts=%{z}<extra></extra>",
           "locationmode": "country names",
           "locations": [
            "Ethiopia",
            "Somalia",
            "Mauritania",
            "Burkina Faso",
            "Chad",
            "Senegal",
            "Peru",
            "Afghanistan",
            "Iraq",
            "Yemen Arab Rep"
           ],
           "name": "",
           "type": "choropleth",
           "z": [
            18,
            17,
            15,
            15,
            12,
            11,
            8,
            8,
            3,
            2
           ]
          }
         ],
         "name": "1969"
        },
        {
         "data": [
          {
           "coloraxis": "coloraxis",
           "geo": "geo",
           "hovertemplate": "Start Year=1973<br>Country=%{location}<br>Droughts=%{z}<extra></extra>",
           "locationmode": "country names",
           "locations": [
            "Ethiopia",
            "Costa Rica"
           ],
           "name": "",
           "type": "choropleth",
           "z": [
            18,
            5
           ]
          }
         ],
         "name": "1973"
        },
        {
         "data": [
          {
           "coloraxis": "coloraxis",
           "geo": "geo",
           "hovertemplate": "Start Year=1989<br>Country=%{location}<br>Droughts=%{z}<extra></extra>",
           "locationmode": "country names",
           "locations": [
            "Ethiopia",
            "Angola",
            "Bangladesh",
            "Rwanda",
            "France",
            "Togo",
            "Albania"
           ],
           "name": "",
           "type": "choropleth",
           "z": [
            18,
            9,
            7,
            6,
            5,
            3,
            1
           ]
          }
         ],
         "name": "1989"
        },
        {
         "data": [
          {
           "coloraxis": "coloraxis",
           "geo": "geo",
           "hovertemplate": "Start Year=1971<br>Country=%{location}<br>Droughts=%{z}<extra></extra>",
           "locationmode": "country names",
           "locations": [
            "Kenya",
            "Gambia (the)",
            "Afghanistan",
            "Cameroon",
            "Morocco",
            "Togo",
            "Ghana"
           ],
           "name": "",
           "type": "choropleth",
           "z": [
            17,
            9,
            8,
            6,
            5,
            3,
            3
           ]
          }
         ],
         "name": "1971"
        },
        {
         "data": [
          {
           "coloraxis": "coloraxis",
           "geo": "geo",
           "hovertemplate": "Start Year=1984<br>Country=%{location}<br>Droughts=%{z}<extra></extra>",
           "locationmode": "country names",
           "locations": [
            "Kenya",
            "Tanzania, United Republic of",
            "Indonesia",
            "Eswatini",
            "Rwanda",
            "Morocco",
            "Canada",
            "Congo (the Democratic Republic of the)"
           ],
           "name": "",
           "type": "choropleth",
           "z": [
            17,
            11,
            10,
            7,
            6,
            5,
            5,
            3
           ]
          }
         ],
         "name": "1984"
        },
        {
         "data": [
          {
           "coloraxis": "coloraxis",
           "geo": "geo",
           "hovertemplate": "Start Year=2019<br>Country=%{location}<br>Droughts=%{z}<extra></extra>",
           "locationmode": "country names",
           "locations": [
            "Kenya",
            "Somalia",
            "Sri Lanka",
            "South Africa",
            "Thailand",
            "Philippines (the)",
            "Lesotho",
            "Botswana",
            "Zambia",
            "Eswatini",
            "Viet Nam",
            "Lao People's Democratic Republic (the)",
            "Costa Rica",
            "Korea (the Democratic People's Republic of)",
            "Argentina",
            "Pakistan"
           ],
           "name": "",
           "type": "choropleth",
           "z": [
            17,
            17,
            12,
            12,
            12,
            10,
            9,
            7,
            7,
            7,
            7,
            6,
            5,
            4,
            4,
            2
           ]
          }
         ],
         "name": "2019"
        },
        {
         "data": [
          {
           "coloraxis": "coloraxis",
           "geo": "geo",
           "hovertemplate": "Start Year=1903<br>Country=%{location}<br>Droughts=%{z}<extra></extra>",
           "locationmode": "country names",
           "locations": [
            "Niger (the)"
           ],
           "name": "",
           "type": "choropleth",
           "z": [
            17
           ]
          }
         ],
         "name": "1903"
        },
        {
         "data": [
          {
           "coloraxis": "coloraxis",
           "geo": "geo",
           "hovertemplate": "Start Year=1906<br>Country=%{location}<br>Droughts=%{z}<extra></extra>",
           "locationmode": "country names",
           "locations": [
            "Niger (the)"
           ],
           "name": "",
           "type": "choropleth",
           "z": [
            17
           ]
          }
         ],
         "name": "1906"
        },
        {
         "data": [
          {
           "coloraxis": "coloraxis",
           "geo": "geo",
           "hovertemplate": "Start Year=1910<br>Country=%{location}<br>Droughts=%{z}<extra></extra>",
           "locationmode": "country names",
           "locations": [
            "Niger (the)",
            "Mauritania",
            "Burkina Faso",
            "Mali",
            "Chad",
            "Cabo Verde",
            "Senegal",
            "Gambia (the)",
            "Guinea-Bissau"
           ],
           "name": "",
           "type": "choropleth",
           "z": [
            17,
            15,
            15,
            13,
            12,
            12,
            11,
            9,
            6
           ]
          }
         ],
         "name": "1910"
        },
        {
         "data": [
          {
           "coloraxis": "coloraxis",
           "geo": "geo",
           "hovertemplate": "Start Year=1940<br>Country=%{location}<br>Droughts=%{z}<extra></extra>",
           "locationmode": "country names",
           "locations": [
            "Niger (the)",
            "Mauritania",
            "Burkina Faso",
            "Mali",
            "Chad",
            "Cabo Verde",
            "Senegal",
            "Gambia (the)",
            "Guinea-Bissau"
           ],
           "name": "",
           "type": "choropleth",
           "z": [
            17,
            15,
            15,
            13,
            12,
            12,
            11,
            9,
            6
           ]
          }
         ],
         "name": "1940"
        },
        {
         "data": [
          {
           "coloraxis": "coloraxis",
           "geo": "geo",
           "hovertemplate": "Start Year=1966<br>Country=%{location}<br>Droughts=%{z}<extra></extra>",
           "locationmode": "country names",
           "locations": [
            "Niger (the)",
            "Burkina Faso",
            "Mali",
            "Chad",
            "Senegal",
            "Indonesia",
            "Peru",
            "Hong Kong",
            "Morocco"
           ],
           "name": "",
           "type": "choropleth",
           "z": [
            17,
            15,
            13,
            12,
            11,
            10,
            8,
            7,
            5
           ]
          }
         ],
         "name": "1966"
        },
        {
         "data": [
          {
           "coloraxis": "coloraxis",
           "geo": "geo",
           "hovertemplate": "Start Year=1980<br>Country=%{location}<br>Droughts=%{z}<extra></extra>",
           "locationmode": "country names",
           "locations": [
            "Niger (the)",
            "Somalia",
            "Mauritania",
            "Burkina Faso",
            "Mali",
            "Sri Lanka",
            "South Africa",
            "Sudan (the)",
            "Philippines (the)",
            "Djibouti",
            "Haiti",
            "Gambia (the)",
            "Spain",
            "Papua New Guinea"
           ],
           "name": "",
           "type": "choropleth",
           "z": [
            17,
            17,
            15,
            15,
            13,
            12,
            12,
            10,
            10,
            10,
            9,
            9,
            4,
            3
           ]
          }
         ],
         "name": "1980"
        },
        {
         "data": [
          {
           "coloraxis": "coloraxis",
           "geo": "geo",
           "hovertemplate": "Start Year=1990<br>Country=%{location}<br>Droughts=%{z}<extra></extra>",
           "locationmode": "country names",
           "locations": [
            "Niger (the)",
            "Burkina Faso",
            "Bolivia (Plurinational State of)",
            "Sudan (the)",
            "Philippines (the)",
            "Malawi",
            "Peru",
            "Eswatini",
            "Cameroon",
            "Spain",
            "Greece",
            "Yugoslavia"
           ],
           "name": "",
           "type": "choropleth",
           "z": [
            17,
            15,
            13,
            10,
            10,
            9,
            8,
            7,
            6,
            4,
            1,
            1
           ]
          }
         ],
         "name": "1990"
        },
        {
         "data": [
          {
           "coloraxis": "coloraxis",
           "geo": "geo",
           "hovertemplate": "Start Year=1964<br>Country=%{location}<br>Droughts=%{z}<extra></extra>",
           "locationmode": "country names",
           "locations": [
            "Somalia",
            "India",
            "India",
            "South Africa",
            "Nepal",
            "Ecuador",
            "Iran (Islamic Republic of)"
           ],
           "name": "",
           "type": "choropleth",
           "z": [
            17,
            16,
            16,
            12,
            6,
            4,
            3
           ]
          }
         ],
         "name": "1964"
        },
        {
         "data": [
          {
           "coloraxis": "coloraxis",
           "geo": "geo",
           "hovertemplate": "Start Year=1974<br>Country=%{location}<br>Droughts=%{z}<extra></extra>",
           "locationmode": "country names",
           "locations": [
            "Somalia",
            "Australia",
            "Haiti",
            "Bangladesh"
           ],
           "name": "",
           "type": "choropleth",
           "z": [
            17,
            11,
            9,
            7
           ]
          }
         ],
         "name": "1974"
        },
        {
         "data": [
          {
           "coloraxis": "coloraxis",
           "geo": "geo",
           "hovertemplate": "Start Year=1900<br>Country=%{location}<br>Droughts=%{z}<extra></extra>",
           "locationmode": "country names",
           "locations": [
            "India",
            "Cabo Verde"
           ],
           "name": "",
           "type": "choropleth",
           "z": [
            16,
            12
           ]
          }
         ],
         "name": "1900"
        },
        {
         "data": [
          {
           "coloraxis": "coloraxis",
           "geo": "geo",
           "hovertemplate": "Start Year=1942<br>Country=%{location}<br>Droughts=%{z}<extra></extra>",
           "locationmode": "country names",
           "locations": [
            "India"
           ],
           "name": "",
           "type": "choropleth",
           "z": [
            16
           ]
          }
         ],
         "name": "1942"
        },
        {
         "data": [
          {
           "coloraxis": "coloraxis",
           "geo": "geo",
           "hovertemplate": "Start Year=1972<br>Country=%{location}<br>Droughts=%{z}<extra></extra>",
           "locationmode": "country names",
           "locations": [
            "India",
            "Honduras",
            "Cabo Verde",
            "Indonesia",
            "Nepal",
            "Guinea-Bissau",
            "Benin"
           ],
           "name": "",
           "type": "choropleth",
           "z": [
            16,
            13,
            12,
            10,
            6,
            6,
            2
           ]
          }
         ],
         "name": "1972"
        },
        {
         "data": [
          {
           "coloraxis": "coloraxis",
           "geo": "geo",
           "hovertemplate": "Start Year=1982<br>Country=%{location}<br>Droughts=%{z}<extra></extra>",
           "locationmode": "country names",
           "locations": [
            "India",
            "Sri Lanka",
            "South Africa",
            "Cabo Verde",
            "Senegal",
            "Indonesia",
            "Zimbabwe",
            "Namibia",
            "El Salvador",
            "Botswana",
            "Zambia",
            "Guinea-Bissau",
            "France"
           ],
           "name": "",
           "type": "choropleth",
           "z": [
            16,
            12,
            12,
            12,
            11,
            10,
            9,
            9,
            7,
            7,
            7,
            6,
            5
           ]
          }
         ],
         "name": "1982"
        },
        {
         "data": [
          {
           "coloraxis": "coloraxis",
           "geo": "geo",
           "hovertemplate": "Start Year=1993<br>Country=%{location}<br>Droughts=%{z}<extra></extra>",
           "locationmode": "country names",
           "locations": [
            "India",
            "Mauritania",
            "Chad",
            "Thailand",
            "Haiti",
            "Cuba",
            "Russian Federation (the)",
            "Eritrea",
            "Macedonia (the former Yugoslav Republic of)"
           ],
           "name": "",
           "type": "choropleth",
           "z": [
            16,
            15,
            12,
            12,
            9,
            7,
            5,
            3,
            1
           ]
          }
         ],
         "name": "1993"
        },
        {
         "data": [
          {
           "coloraxis": "coloraxis",
           "geo": "geo",
           "hovertemplate": "Start Year=1996<br>Country=%{location}<br>Droughts=%{z}<extra></extra>",
           "locationmode": "country names",
           "locations": [
            "India",
            "Tanzania, United Republic of",
            "Sudan (the)",
            "Djibouti",
            "Mexico",
            "Rwanda"
           ],
           "name": "",
           "type": "choropleth",
           "z": [
            16,
            11,
            10,
            10,
            7,
            6
           ]
          }
         ],
         "name": "1996"
        },
        {
         "data": [
          {
           "coloraxis": "coloraxis",
           "geo": "geo",
           "hovertemplate": "Start Year=1976<br>Country=%{location}<br>Droughts=%{z}<extra></extra>",
           "locationmode": "country names",
           "locations": [
            "Mauritania",
            "Australia",
            "Australia",
            "Hong Kong",
            "Rwanda",
            "Belgium"
           ],
           "name": "",
           "type": "choropleth",
           "z": [
            15,
            11,
            11,
            7,
            6,
            1
           ]
          }
         ],
         "name": "1976"
        },
        {
         "data": [
          {
           "coloraxis": "coloraxis",
           "geo": "geo",
           "hovertemplate": "Start Year=1981<br>Country=%{location}<br>Droughts=%{z}<extra></extra>",
           "locationmode": "country names",
           "locations": [
            "Mozambique",
            "Sri Lanka",
            "Chad",
            "Australia",
            "Madagascar",
            "Angola",
            "Hong Kong",
            "Cuba",
            "Spain",
            "Jamaica",
            "Guinea",
            "Comoros (the)",
            "Algeria"
           ],
           "name": "",
           "type": "choropleth",
           "z": [
            15,
            12,
            12,
            11,
            10,
            9,
            7,
            7,
            4,
            4,
            2,
            1,
            1
           ]
          }
         ],
         "name": "1981"
        },
        {
         "data": [
          {
           "coloraxis": "coloraxis",
           "geo": "geo",
           "hovertemplate": "Start Year=2023<br>Country=%{location}<br>Droughts=%{z}<extra></extra>",
           "locationmode": "country names",
           "locations": [
            "Honduras"
           ],
           "name": "",
           "type": "choropleth",
           "z": [
            13
           ]
          }
         ],
         "name": "2023"
        },
        {
         "data": [
          {
           "coloraxis": "coloraxis",
           "geo": "geo",
           "hovertemplate": "Start Year=1986<br>Country=%{location}<br>Droughts=%{z}<extra></extra>",
           "locationmode": "country names",
           "locations": [
            "South Africa",
            "Indonesia",
            "Cuba",
            "Hungary"
           ],
           "name": "",
           "type": "choropleth",
           "z": [
            12,
            10,
            7,
            3
           ]
          }
         ],
         "name": "1986"
        },
        {
         "data": [
          {
           "coloraxis": "coloraxis",
           "geo": "geo",
           "hovertemplate": "Start Year=1946<br>Country=%{location}<br>Droughts=%{z}<extra></extra>",
           "locationmode": "country names",
           "locations": [
            "Cabo Verde"
           ],
           "name": "",
           "type": "choropleth",
           "z": [
            12
           ]
          }
         ],
         "name": "1946"
        },
        {
         "data": [
          {
           "coloraxis": "coloraxis",
           "geo": "geo",
           "hovertemplate": "Start Year=1967<br>Country=%{location}<br>Droughts=%{z}<extra></extra>",
           "locationmode": "country names",
           "locations": [
            "Australia",
            "Tanzania, United Republic of",
            "Uganda",
            "Nepal",
            "Korea (the Republic of)"
           ],
           "name": "",
           "type": "choropleth",
           "z": [
            11,
            11,
            10,
            6,
            2
           ]
          }
         ],
         "name": "1967"
        },
        {
         "data": [
          {
           "coloraxis": "coloraxis",
           "geo": "geo",
           "hovertemplate": "Start Year=1968<br>Country=%{location}<br>Droughts=%{z}<extra></extra>",
           "locationmode": "country names",
           "locations": [
            "Haiti",
            "Gambia (the)",
            "Lesotho",
            "Botswana",
            "Jamaica",
            "Chile",
            "Dominican Republic (the)"
           ],
           "name": "",
           "type": "choropleth",
           "z": [
            9,
            9,
            9,
            7,
            4,
            2,
            1
           ]
          }
         ],
         "name": "1968"
        },
        {
         "data": [
          {
           "coloraxis": "coloraxis",
           "geo": "geo",
           "hovertemplate": "Start Year=1963<br>Country=%{location}<br>Droughts=%{z}<extra></extra>",
           "locationmode": "country names",
           "locations": [
            "Paraguay"
           ],
           "name": "",
           "type": "choropleth",
           "z": [
            9
           ]
          }
         ],
         "name": "1963"
        },
        {
         "data": [
          {
           "coloraxis": "coloraxis",
           "geo": "geo",
           "hovertemplate": "Start Year=1960<br>Country=%{location}<br>Droughts=%{z}<extra></extra>",
           "locationmode": "country names",
           "locations": [
            "Hong Kong"
           ],
           "name": "",
           "type": "choropleth",
           "z": [
            7
           ]
          }
         ],
         "name": "1960"
        },
        {
         "data": [
          {
           "coloraxis": "coloraxis",
           "geo": "geo",
           "hovertemplate": "Start Year=1943<br>Country=%{location}<br>Droughts=%{z}<extra></extra>",
           "locationmode": "country names",
           "locations": [
            "Bangladesh"
           ],
           "name": "",
           "type": "choropleth",
           "z": [
            7
           ]
          }
         ],
         "name": "1943"
        },
        {
         "data": [
          {
           "coloraxis": "coloraxis",
           "geo": "geo",
           "hovertemplate": "Start Year=1947<br>Country=%{location}<br>Droughts=%{z}<extra></extra>",
           "locationmode": "country names",
           "locations": [
            "Bangladesh"
           ],
           "name": "",
           "type": "choropleth",
           "z": [
            7
           ]
          }
         ],
         "name": "1947"
        },
        {
         "data": [
          {
           "coloraxis": "coloraxis",
           "geo": "geo",
           "hovertemplate": "Start Year=1931<br>Country=%{location}<br>Droughts=%{z}<extra></extra>",
           "locationmode": "country names",
           "locations": [
            "Canada"
           ],
           "name": "",
           "type": "choropleth",
           "z": [
            5
           ]
          }
         ],
         "name": "1931"
        },
        {
         "data": [
          {
           "coloraxis": "coloraxis",
           "geo": "geo",
           "hovertemplate": "Start Year=1961<br>Country=%{location}<br>Droughts=%{z}<extra></extra>",
           "locationmode": "country names",
           "locations": [
            "Canada"
           ],
           "name": "",
           "type": "choropleth",
           "z": [
            5
           ]
          }
         ],
         "name": "1961"
        },
        {
         "data": [
          {
           "coloraxis": "coloraxis",
           "geo": "geo",
           "hovertemplate": "Start Year=1975<br>Country=%{location}<br>Droughts=%{z}<extra></extra>",
           "locationmode": "country names",
           "locations": [
            "Yemen P Dem Rep"
           ],
           "name": "",
           "type": "choropleth",
           "z": [
            2
           ]
          }
         ],
         "name": "1975"
        },
        {
         "data": [
          {
           "coloraxis": "coloraxis",
           "geo": "geo",
           "hovertemplate": "Start Year=1921<br>Country=%{location}<br>Droughts=%{z}<extra></extra>",
           "locationmode": "country names",
           "locations": [
            "Soviet Union"
           ],
           "name": "",
           "type": "choropleth",
           "z": [
            1
           ]
          }
         ],
         "name": "1921"
        },
        {
         "data": [
          {
           "coloraxis": "coloraxis",
           "geo": "geo",
           "hovertemplate": "Start Year=1919<br>Country=%{location}<br>Droughts=%{z}<extra></extra>",
           "locationmode": "country names",
           "locations": [
            "Anguilla"
           ],
           "name": "",
           "type": "choropleth",
           "z": [
            1
           ]
          }
         ],
         "name": "1919"
        }
       ],
       "layout": {
        "coloraxis": {
         "colorbar": {
          "title": {
           "text": "Droughts"
          }
         },
         "colorscale": [
          [
           0,
           "rgb(255,245,235)"
          ],
          [
           0.125,
           "rgb(254,230,206)"
          ],
          [
           0.25,
           "rgb(253,208,162)"
          ],
          [
           0.375,
           "rgb(253,174,107)"
          ],
          [
           0.5,
           "rgb(253,141,60)"
          ],
          [
           0.625,
           "rgb(241,105,19)"
          ],
          [
           0.75,
           "rgb(217,72,1)"
          ],
          [
           0.875,
           "rgb(166,54,3)"
          ],
          [
           1,
           "rgb(127,39,4)"
          ]
         ]
        },
        "geo": {
         "center": {},
         "domain": {
          "x": [
           0,
           1
          ],
          "y": [
           0,
           1
          ]
         }
        },
        "legend": {
         "tracegroupgap": 0
        },
        "sliders": [
         {
          "active": 0,
          "currentvalue": {
           "prefix": "Start Year="
          },
          "len": 0.9,
          "pad": {
           "b": 10,
           "t": 60
          },
          "steps": [
           {
            "args": [
             [
              "1920"
             ],
             {
              "frame": {
               "duration": 0,
               "redraw": true
              },
              "fromcurrent": true,
              "mode": "immediate",
              "transition": {
               "duration": 0,
               "easing": "linear"
              }
             }
            ],
            "label": "1920",
            "method": "animate"
           },
           {
            "args": [
             [
              "1928"
             ],
             {
              "frame": {
               "duration": 0,
               "redraw": true
              },
              "fromcurrent": true,
              "mode": "immediate",
              "transition": {
               "duration": 0,
               "easing": "linear"
              }
             }
            ],
            "label": "1928",
            "method": "animate"
           },
           {
            "args": [
             [
              "1965"
             ],
             {
              "frame": {
               "duration": 0,
               "redraw": true
              },
              "fromcurrent": true,
              "mode": "immediate",
              "transition": {
               "duration": 0,
               "easing": "linear"
              }
             }
            ],
            "label": "1965",
            "method": "animate"
           },
           {
            "args": [
             [
              "1978"
             ],
             {
              "frame": {
               "duration": 0,
               "redraw": true
              },
              "fromcurrent": true,
              "mode": "immediate",
              "transition": {
               "duration": 0,
               "easing": "linear"
              }
             }
            ],
            "label": "1978",
            "method": "animate"
           },
           {
            "args": [
             [
              "1979"
             ],
             {
              "frame": {
               "duration": 0,
               "redraw": true
              },
              "fromcurrent": true,
              "mode": "immediate",
              "transition": {
               "duration": 0,
               "easing": "linear"
              }
             }
            ],
            "label": "1979",
            "method": "animate"
           },
           {
            "args": [
             [
              "1983"
             ],
             {
              "frame": {
               "duration": 0,
               "redraw": true
              },
              "fromcurrent": true,
              "mode": "immediate",
              "transition": {
               "duration": 0,
               "easing": "linear"
              }
             }
            ],
            "label": "1983",
            "method": "animate"
           },
           {
            "args": [
             [
              "1985"
             ],
             {
              "frame": {
               "duration": 0,
               "redraw": true
              },
              "fromcurrent": true,
              "mode": "immediate",
              "transition": {
               "duration": 0,
               "easing": "linear"
              }
             }
            ],
            "label": "1985",
            "method": "animate"
           },
           {
            "args": [
             [
              "1988"
             ],
             {
              "frame": {
               "duration": 0,
               "redraw": true
              },
              "fromcurrent": true,
              "mode": "immediate",
              "transition": {
               "duration": 0,
               "easing": "linear"
              }
             }
            ],
            "label": "1988",
            "method": "animate"
           },
           {
            "args": [
             [
              "1991"
             ],
             {
              "frame": {
               "duration": 0,
               "redraw": true
              },
              "fromcurrent": true,
              "mode": "immediate",
              "transition": {
               "duration": 0,
               "easing": "linear"
              }
             }
            ],
            "label": "1991",
            "method": "animate"
           },
           {
            "args": [
             [
              "1992"
             ],
             {
              "frame": {
               "duration": 0,
               "redraw": true
              },
              "fromcurrent": true,
              "mode": "immediate",
              "transition": {
               "duration": 0,
               "easing": "linear"
              }
             }
            ],
            "label": "1992",
            "method": "animate"
           },
           {
            "args": [
             [
              "1994"
             ],
             {
              "frame": {
               "duration": 0,
               "redraw": true
              },
              "fromcurrent": true,
              "mode": "immediate",
              "transition": {
               "duration": 0,
               "easing": "linear"
              }
             }
            ],
            "label": "1994",
            "method": "animate"
           },
           {
            "args": [
             [
              "1995"
             ],
             {
              "frame": {
               "duration": 0,
               "redraw": true
              },
              "fromcurrent": true,
              "mode": "immediate",
              "transition": {
               "duration": 0,
               "easing": "linear"
              }
             }
            ],
            "label": "1995",
            "method": "animate"
           },
           {
            "args": [
             [
              "1997"
             ],
             {
              "frame": {
               "duration": 0,
               "redraw": true
              },
              "fromcurrent": true,
              "mode": "immediate",
              "transition": {
               "duration": 0,
               "easing": "linear"
              }
             }
            ],
            "label": "1997",
            "method": "animate"
           },
           {
            "args": [
             [
              "1999"
             ],
             {
              "frame": {
               "duration": 0,
               "redraw": true
              },
              "fromcurrent": true,
              "mode": "immediate",
              "transition": {
               "duration": 0,
               "easing": "linear"
              }
             }
            ],
            "label": "1999",
            "method": "animate"
           },
           {
            "args": [
             [
              "2000"
             ],
             {
              "frame": {
               "duration": 0,
               "redraw": true
              },
              "fromcurrent": true,
              "mode": "immediate",
              "transition": {
               "duration": 0,
               "easing": "linear"
              }
             }
            ],
            "label": "2000",
            "method": "animate"
           },
           {
            "args": [
             [
              "2001"
             ],
             {
              "frame": {
               "duration": 0,
               "redraw": true
              },
              "fromcurrent": true,
              "mode": "immediate",
              "transition": {
               "duration": 0,
               "easing": "linear"
              }
             }
            ],
            "label": "2001",
            "method": "animate"
           },
           {
            "args": [
             [
              "2002"
             ],
             {
              "frame": {
               "duration": 0,
               "redraw": true
              },
              "fromcurrent": true,
              "mode": "immediate",
              "transition": {
               "duration": 0,
               "easing": "linear"
              }
             }
            ],
            "label": "2002",
            "method": "animate"
           },
           {
            "args": [
             [
              "2003"
             ],
             {
              "frame": {
               "duration": 0,
               "redraw": true
              },
              "fromcurrent": true,
              "mode": "immediate",
              "transition": {
               "duration": 0,
               "easing": "linear"
              }
             }
            ],
            "label": "2003",
            "method": "animate"
           },
           {
            "args": [
             [
              "2005"
             ],
             {
              "frame": {
               "duration": 0,
               "redraw": true
              },
              "fromcurrent": true,
              "mode": "immediate",
              "transition": {
               "duration": 0,
               "easing": "linear"
              }
             }
            ],
            "label": "2005",
            "method": "animate"
           },
           {
            "args": [
             [
              "2006"
             ],
             {
              "frame": {
               "duration": 0,
               "redraw": true
              },
              "fromcurrent": true,
              "mode": "immediate",
              "transition": {
               "duration": 0,
               "easing": "linear"
              }
             }
            ],
            "label": "2006",
            "method": "animate"
           },
           {
            "args": [
             [
              "2008"
             ],
             {
              "frame": {
               "duration": 0,
               "redraw": true
              },
              "fromcurrent": true,
              "mode": "immediate",
              "transition": {
               "duration": 0,
               "easing": "linear"
              }
             }
            ],
            "label": "2008",
            "method": "animate"
           },
           {
            "args": [
             [
              "2009"
             ],
             {
              "frame": {
               "duration": 0,
               "redraw": true
              },
              "fromcurrent": true,
              "mode": "immediate",
              "transition": {
               "duration": 0,
               "easing": "linear"
              }
             }
            ],
            "label": "2009",
            "method": "animate"
           },
           {
            "args": [
             [
              "2010"
             ],
             {
              "frame": {
               "duration": 0,
               "redraw": true
              },
              "fromcurrent": true,
              "mode": "immediate",
              "transition": {
               "duration": 0,
               "easing": "linear"
              }
             }
            ],
            "label": "2010",
            "method": "animate"
           },
           {
            "args": [
             [
              "2013"
             ],
             {
              "frame": {
               "duration": 0,
               "redraw": true
              },
              "fromcurrent": true,
              "mode": "immediate",
              "transition": {
               "duration": 0,
               "easing": "linear"
              }
             }
            ],
            "label": "2013",
            "method": "animate"
           },
           {
            "args": [
             [
              "2014"
             ],
             {
              "frame": {
               "duration": 0,
               "redraw": true
              },
              "fromcurrent": true,
              "mode": "immediate",
              "transition": {
               "duration": 0,
               "easing": "linear"
              }
             }
            ],
            "label": "2014",
            "method": "animate"
           },
           {
            "args": [
             [
              "2015"
             ],
             {
              "frame": {
               "duration": 0,
               "redraw": true
              },
              "fromcurrent": true,
              "mode": "immediate",
              "transition": {
               "duration": 0,
               "easing": "linear"
              }
             }
            ],
            "label": "2015",
            "method": "animate"
           },
           {
            "args": [
             [
              "2016"
             ],
             {
              "frame": {
               "duration": 0,
               "redraw": true
              },
              "fromcurrent": true,
              "mode": "immediate",
              "transition": {
               "duration": 0,
               "easing": "linear"
              }
             }
            ],
            "label": "2016",
            "method": "animate"
           },
           {
            "args": [
             [
              "2017"
             ],
             {
              "frame": {
               "duration": 0,
               "redraw": true
              },
              "fromcurrent": true,
              "mode": "immediate",
              "transition": {
               "duration": 0,
               "easing": "linear"
              }
             }
            ],
            "label": "2017",
            "method": "animate"
           },
           {
            "args": [
             [
              "2021"
             ],
             {
              "frame": {
               "duration": 0,
               "redraw": true
              },
              "fromcurrent": true,
              "mode": "immediate",
              "transition": {
               "duration": 0,
               "easing": "linear"
              }
             }
            ],
            "label": "2021",
            "method": "animate"
           },
           {
            "args": [
             [
              "2022"
             ],
             {
              "frame": {
               "duration": 0,
               "redraw": true
              },
              "fromcurrent": true,
              "mode": "immediate",
              "transition": {
               "duration": 0,
               "easing": "linear"
              }
             }
            ],
            "label": "2022",
            "method": "animate"
           },
           {
            "args": [
             [
              "1970"
             ],
             {
              "frame": {
               "duration": 0,
               "redraw": true
              },
              "fromcurrent": true,
              "mode": "immediate",
              "transition": {
               "duration": 0,
               "easing": "linear"
              }
             }
            ],
            "label": "1970",
            "method": "animate"
           },
           {
            "args": [
             [
              "1977"
             ],
             {
              "frame": {
               "duration": 0,
               "redraw": true
              },
              "fromcurrent": true,
              "mode": "immediate",
              "transition": {
               "duration": 0,
               "easing": "linear"
              }
             }
            ],
            "label": "1977",
            "method": "animate"
           },
           {
            "args": [
             [
              "1987"
             ],
             {
              "frame": {
               "duration": 0,
               "redraw": true
              },
              "fromcurrent": true,
              "mode": "immediate",
              "transition": {
               "duration": 0,
               "easing": "linear"
              }
             }
            ],
            "label": "1987",
            "method": "animate"
           },
           {
            "args": [
             [
              "1998"
             ],
             {
              "frame": {
               "duration": 0,
               "redraw": true
              },
              "fromcurrent": true,
              "mode": "immediate",
              "transition": {
               "duration": 0,
               "easing": "linear"
              }
             }
            ],
            "label": "1998",
            "method": "animate"
           },
           {
            "args": [
             [
              "2004"
             ],
             {
              "frame": {
               "duration": 0,
               "redraw": true
              },
              "fromcurrent": true,
              "mode": "immediate",
              "transition": {
               "duration": 0,
               "easing": "linear"
              }
             }
            ],
            "label": "2004",
            "method": "animate"
           },
           {
            "args": [
             [
              "2007"
             ],
             {
              "frame": {
               "duration": 0,
               "redraw": true
              },
              "fromcurrent": true,
              "mode": "immediate",
              "transition": {
               "duration": 0,
               "easing": "linear"
              }
             }
            ],
            "label": "2007",
            "method": "animate"
           },
           {
            "args": [
             [
              "2012"
             ],
             {
              "frame": {
               "duration": 0,
               "redraw": true
              },
              "fromcurrent": true,
              "mode": "immediate",
              "transition": {
               "duration": 0,
               "easing": "linear"
              }
             }
            ],
            "label": "2012",
            "method": "animate"
           },
           {
            "args": [
             [
              "2020"
             ],
             {
              "frame": {
               "duration": 0,
               "redraw": true
              },
              "fromcurrent": true,
              "mode": "immediate",
              "transition": {
               "duration": 0,
               "easing": "linear"
              }
             }
            ],
            "label": "2020",
            "method": "animate"
           },
           {
            "args": [
             [
              "1933"
             ],
             {
              "frame": {
               "duration": 0,
               "redraw": true
              },
              "fromcurrent": true,
              "mode": "immediate",
              "transition": {
               "duration": 0,
               "easing": "linear"
              }
             }
            ],
            "label": "1933",
            "method": "animate"
           },
           {
            "args": [
             [
              "2011"
             ],
             {
              "frame": {
               "duration": 0,
               "redraw": true
              },
              "fromcurrent": true,
              "mode": "immediate",
              "transition": {
               "duration": 0,
               "easing": "linear"
              }
             }
            ],
            "label": "2011",
            "method": "animate"
           },
           {
            "args": [
             [
              "2018"
             ],
             {
              "frame": {
               "duration": 0,
               "redraw": true
              },
              "fromcurrent": true,
              "mode": "immediate",
              "transition": {
               "duration": 0,
               "easing": "linear"
              }
             }
            ],
            "label": "2018",
            "method": "animate"
           },
           {
            "args": [
             [
              "1969"
             ],
             {
              "frame": {
               "duration": 0,
               "redraw": true
              },
              "fromcurrent": true,
              "mode": "immediate",
              "transition": {
               "duration": 0,
               "easing": "linear"
              }
             }
            ],
            "label": "1969",
            "method": "animate"
           },
           {
            "args": [
             [
              "1973"
             ],
             {
              "frame": {
               "duration": 0,
               "redraw": true
              },
              "fromcurrent": true,
              "mode": "immediate",
              "transition": {
               "duration": 0,
               "easing": "linear"
              }
             }
            ],
            "label": "1973",
            "method": "animate"
           },
           {
            "args": [
             [
              "1989"
             ],
             {
              "frame": {
               "duration": 0,
               "redraw": true
              },
              "fromcurrent": true,
              "mode": "immediate",
              "transition": {
               "duration": 0,
               "easing": "linear"
              }
             }
            ],
            "label": "1989",
            "method": "animate"
           },
           {
            "args": [
             [
              "1971"
             ],
             {
              "frame": {
               "duration": 0,
               "redraw": true
              },
              "fromcurrent": true,
              "mode": "immediate",
              "transition": {
               "duration": 0,
               "easing": "linear"
              }
             }
            ],
            "label": "1971",
            "method": "animate"
           },
           {
            "args": [
             [
              "1984"
             ],
             {
              "frame": {
               "duration": 0,
               "redraw": true
              },
              "fromcurrent": true,
              "mode": "immediate",
              "transition": {
               "duration": 0,
               "easing": "linear"
              }
             }
            ],
            "label": "1984",
            "method": "animate"
           },
           {
            "args": [
             [
              "2019"
             ],
             {
              "frame": {
               "duration": 0,
               "redraw": true
              },
              "fromcurrent": true,
              "mode": "immediate",
              "transition": {
               "duration": 0,
               "easing": "linear"
              }
             }
            ],
            "label": "2019",
            "method": "animate"
           },
           {
            "args": [
             [
              "1903"
             ],
             {
              "frame": {
               "duration": 0,
               "redraw": true
              },
              "fromcurrent": true,
              "mode": "immediate",
              "transition": {
               "duration": 0,
               "easing": "linear"
              }
             }
            ],
            "label": "1903",
            "method": "animate"
           },
           {
            "args": [
             [
              "1906"
             ],
             {
              "frame": {
               "duration": 0,
               "redraw": true
              },
              "fromcurrent": true,
              "mode": "immediate",
              "transition": {
               "duration": 0,
               "easing": "linear"
              }
             }
            ],
            "label": "1906",
            "method": "animate"
           },
           {
            "args": [
             [
              "1910"
             ],
             {
              "frame": {
               "duration": 0,
               "redraw": true
              },
              "fromcurrent": true,
              "mode": "immediate",
              "transition": {
               "duration": 0,
               "easing": "linear"
              }
             }
            ],
            "label": "1910",
            "method": "animate"
           },
           {
            "args": [
             [
              "1940"
             ],
             {
              "frame": {
               "duration": 0,
               "redraw": true
              },
              "fromcurrent": true,
              "mode": "immediate",
              "transition": {
               "duration": 0,
               "easing": "linear"
              }
             }
            ],
            "label": "1940",
            "method": "animate"
           },
           {
            "args": [
             [
              "1966"
             ],
             {
              "frame": {
               "duration": 0,
               "redraw": true
              },
              "fromcurrent": true,
              "mode": "immediate",
              "transition": {
               "duration": 0,
               "easing": "linear"
              }
             }
            ],
            "label": "1966",
            "method": "animate"
           },
           {
            "args": [
             [
              "1980"
             ],
             {
              "frame": {
               "duration": 0,
               "redraw": true
              },
              "fromcurrent": true,
              "mode": "immediate",
              "transition": {
               "duration": 0,
               "easing": "linear"
              }
             }
            ],
            "label": "1980",
            "method": "animate"
           },
           {
            "args": [
             [
              "1990"
             ],
             {
              "frame": {
               "duration": 0,
               "redraw": true
              },
              "fromcurrent": true,
              "mode": "immediate",
              "transition": {
               "duration": 0,
               "easing": "linear"
              }
             }
            ],
            "label": "1990",
            "method": "animate"
           },
           {
            "args": [
             [
              "1964"
             ],
             {
              "frame": {
               "duration": 0,
               "redraw": true
              },
              "fromcurrent": true,
              "mode": "immediate",
              "transition": {
               "duration": 0,
               "easing": "linear"
              }
             }
            ],
            "label": "1964",
            "method": "animate"
           },
           {
            "args": [
             [
              "1974"
             ],
             {
              "frame": {
               "duration": 0,
               "redraw": true
              },
              "fromcurrent": true,
              "mode": "immediate",
              "transition": {
               "duration": 0,
               "easing": "linear"
              }
             }
            ],
            "label": "1974",
            "method": "animate"
           },
           {
            "args": [
             [
              "1900"
             ],
             {
              "frame": {
               "duration": 0,
               "redraw": true
              },
              "fromcurrent": true,
              "mode": "immediate",
              "transition": {
               "duration": 0,
               "easing": "linear"
              }
             }
            ],
            "label": "1900",
            "method": "animate"
           },
           {
            "args": [
             [
              "1942"
             ],
             {
              "frame": {
               "duration": 0,
               "redraw": true
              },
              "fromcurrent": true,
              "mode": "immediate",
              "transition": {
               "duration": 0,
               "easing": "linear"
              }
             }
            ],
            "label": "1942",
            "method": "animate"
           },
           {
            "args": [
             [
              "1972"
             ],
             {
              "frame": {
               "duration": 0,
               "redraw": true
              },
              "fromcurrent": true,
              "mode": "immediate",
              "transition": {
               "duration": 0,
               "easing": "linear"
              }
             }
            ],
            "label": "1972",
            "method": "animate"
           },
           {
            "args": [
             [
              "1982"
             ],
             {
              "frame": {
               "duration": 0,
               "redraw": true
              },
              "fromcurrent": true,
              "mode": "immediate",
              "transition": {
               "duration": 0,
               "easing": "linear"
              }
             }
            ],
            "label": "1982",
            "method": "animate"
           },
           {
            "args": [
             [
              "1993"
             ],
             {
              "frame": {
               "duration": 0,
               "redraw": true
              },
              "fromcurrent": true,
              "mode": "immediate",
              "transition": {
               "duration": 0,
               "easing": "linear"
              }
             }
            ],
            "label": "1993",
            "method": "animate"
           },
           {
            "args": [
             [
              "1996"
             ],
             {
              "frame": {
               "duration": 0,
               "redraw": true
              },
              "fromcurrent": true,
              "mode": "immediate",
              "transition": {
               "duration": 0,
               "easing": "linear"
              }
             }
            ],
            "label": "1996",
            "method": "animate"
           },
           {
            "args": [
             [
              "1976"
             ],
             {
              "frame": {
               "duration": 0,
               "redraw": true
              },
              "fromcurrent": true,
              "mode": "immediate",
              "transition": {
               "duration": 0,
               "easing": "linear"
              }
             }
            ],
            "label": "1976",
            "method": "animate"
           },
           {
            "args": [
             [
              "1981"
             ],
             {
              "frame": {
               "duration": 0,
               "redraw": true
              },
              "fromcurrent": true,
              "mode": "immediate",
              "transition": {
               "duration": 0,
               "easing": "linear"
              }
             }
            ],
            "label": "1981",
            "method": "animate"
           },
           {
            "args": [
             [
              "2023"
             ],
             {
              "frame": {
               "duration": 0,
               "redraw": true
              },
              "fromcurrent": true,
              "mode": "immediate",
              "transition": {
               "duration": 0,
               "easing": "linear"
              }
             }
            ],
            "label": "2023",
            "method": "animate"
           },
           {
            "args": [
             [
              "1986"
             ],
             {
              "frame": {
               "duration": 0,
               "redraw": true
              },
              "fromcurrent": true,
              "mode": "immediate",
              "transition": {
               "duration": 0,
               "easing": "linear"
              }
             }
            ],
            "label": "1986",
            "method": "animate"
           },
           {
            "args": [
             [
              "1946"
             ],
             {
              "frame": {
               "duration": 0,
               "redraw": true
              },
              "fromcurrent": true,
              "mode": "immediate",
              "transition": {
               "duration": 0,
               "easing": "linear"
              }
             }
            ],
            "label": "1946",
            "method": "animate"
           },
           {
            "args": [
             [
              "1967"
             ],
             {
              "frame": {
               "duration": 0,
               "redraw": true
              },
              "fromcurrent": true,
              "mode": "immediate",
              "transition": {
               "duration": 0,
               "easing": "linear"
              }
             }
            ],
            "label": "1967",
            "method": "animate"
           },
           {
            "args": [
             [
              "1968"
             ],
             {
              "frame": {
               "duration": 0,
               "redraw": true
              },
              "fromcurrent": true,
              "mode": "immediate",
              "transition": {
               "duration": 0,
               "easing": "linear"
              }
             }
            ],
            "label": "1968",
            "method": "animate"
           },
           {
            "args": [
             [
              "1963"
             ],
             {
              "frame": {
               "duration": 0,
               "redraw": true
              },
              "fromcurrent": true,
              "mode": "immediate",
              "transition": {
               "duration": 0,
               "easing": "linear"
              }
             }
            ],
            "label": "1963",
            "method": "animate"
           },
           {
            "args": [
             [
              "1960"
             ],
             {
              "frame": {
               "duration": 0,
               "redraw": true
              },
              "fromcurrent": true,
              "mode": "immediate",
              "transition": {
               "duration": 0,
               "easing": "linear"
              }
             }
            ],
            "label": "1960",
            "method": "animate"
           },
           {
            "args": [
             [
              "1943"
             ],
             {
              "frame": {
               "duration": 0,
               "redraw": true
              },
              "fromcurrent": true,
              "mode": "immediate",
              "transition": {
               "duration": 0,
               "easing": "linear"
              }
             }
            ],
            "label": "1943",
            "method": "animate"
           },
           {
            "args": [
             [
              "1947"
             ],
             {
              "frame": {
               "duration": 0,
               "redraw": true
              },
              "fromcurrent": true,
              "mode": "immediate",
              "transition": {
               "duration": 0,
               "easing": "linear"
              }
             }
            ],
            "label": "1947",
            "method": "animate"
           },
           {
            "args": [
             [
              "1931"
             ],
             {
              "frame": {
               "duration": 0,
               "redraw": true
              },
              "fromcurrent": true,
              "mode": "immediate",
              "transition": {
               "duration": 0,
               "easing": "linear"
              }
             }
            ],
            "label": "1931",
            "method": "animate"
           },
           {
            "args": [
             [
              "1961"
             ],
             {
              "frame": {
               "duration": 0,
               "redraw": true
              },
              "fromcurrent": true,
              "mode": "immediate",
              "transition": {
               "duration": 0,
               "easing": "linear"
              }
             }
            ],
            "label": "1961",
            "method": "animate"
           },
           {
            "args": [
             [
              "1975"
             ],
             {
              "frame": {
               "duration": 0,
               "redraw": true
              },
              "fromcurrent": true,
              "mode": "immediate",
              "transition": {
               "duration": 0,
               "easing": "linear"
              }
             }
            ],
            "label": "1975",
            "method": "animate"
           },
           {
            "args": [
             [
              "1921"
             ],
             {
              "frame": {
               "duration": 0,
               "redraw": true
              },
              "fromcurrent": true,
              "mode": "immediate",
              "transition": {
               "duration": 0,
               "easing": "linear"
              }
             }
            ],
            "label": "1921",
            "method": "animate"
           },
           {
            "args": [
             [
              "1919"
             ],
             {
              "frame": {
               "duration": 0,
               "redraw": true
              },
              "fromcurrent": true,
              "mode": "immediate",
              "transition": {
               "duration": 0,
               "easing": "linear"
              }
             }
            ],
            "label": "1919",
            "method": "animate"
           }
          ],
          "x": 0.1,
          "xanchor": "left",
          "y": 0,
          "yanchor": "top"
         }
        ],
        "template": {
         "data": {
          "bar": [
           {
            "error_x": {
             "color": "#2a3f5f"
            },
            "error_y": {
             "color": "#2a3f5f"
            },
            "marker": {
             "line": {
              "color": "#E5ECF6",
              "width": 0.5
             },
             "pattern": {
              "fillmode": "overlay",
              "size": 10,
              "solidity": 0.2
             }
            },
            "type": "bar"
           }
          ],
          "barpolar": [
           {
            "marker": {
             "line": {
              "color": "#E5ECF6",
              "width": 0.5
             },
             "pattern": {
              "fillmode": "overlay",
              "size": 10,
              "solidity": 0.2
             }
            },
            "type": "barpolar"
           }
          ],
          "carpet": [
           {
            "aaxis": {
             "endlinecolor": "#2a3f5f",
             "gridcolor": "white",
             "linecolor": "white",
             "minorgridcolor": "white",
             "startlinecolor": "#2a3f5f"
            },
            "baxis": {
             "endlinecolor": "#2a3f5f",
             "gridcolor": "white",
             "linecolor": "white",
             "minorgridcolor": "white",
             "startlinecolor": "#2a3f5f"
            },
            "type": "carpet"
           }
          ],
          "choropleth": [
           {
            "colorbar": {
             "outlinewidth": 0,
             "ticks": ""
            },
            "type": "choropleth"
           }
          ],
          "contour": [
           {
            "colorbar": {
             "outlinewidth": 0,
             "ticks": ""
            },
            "colorscale": [
             [
              0,
              "#0d0887"
             ],
             [
              0.1111111111111111,
              "#46039f"
             ],
             [
              0.2222222222222222,
              "#7201a8"
             ],
             [
              0.3333333333333333,
              "#9c179e"
             ],
             [
              0.4444444444444444,
              "#bd3786"
             ],
             [
              0.5555555555555556,
              "#d8576b"
             ],
             [
              0.6666666666666666,
              "#ed7953"
             ],
             [
              0.7777777777777778,
              "#fb9f3a"
             ],
             [
              0.8888888888888888,
              "#fdca26"
             ],
             [
              1,
              "#f0f921"
             ]
            ],
            "type": "contour"
           }
          ],
          "contourcarpet": [
           {
            "colorbar": {
             "outlinewidth": 0,
             "ticks": ""
            },
            "type": "contourcarpet"
           }
          ],
          "heatmap": [
           {
            "colorbar": {
             "outlinewidth": 0,
             "ticks": ""
            },
            "colorscale": [
             [
              0,
              "#0d0887"
             ],
             [
              0.1111111111111111,
              "#46039f"
             ],
             [
              0.2222222222222222,
              "#7201a8"
             ],
             [
              0.3333333333333333,
              "#9c179e"
             ],
             [
              0.4444444444444444,
              "#bd3786"
             ],
             [
              0.5555555555555556,
              "#d8576b"
             ],
             [
              0.6666666666666666,
              "#ed7953"
             ],
             [
              0.7777777777777778,
              "#fb9f3a"
             ],
             [
              0.8888888888888888,
              "#fdca26"
             ],
             [
              1,
              "#f0f921"
             ]
            ],
            "type": "heatmap"
           }
          ],
          "heatmapgl": [
           {
            "colorbar": {
             "outlinewidth": 0,
             "ticks": ""
            },
            "colorscale": [
             [
              0,
              "#0d0887"
             ],
             [
              0.1111111111111111,
              "#46039f"
             ],
             [
              0.2222222222222222,
              "#7201a8"
             ],
             [
              0.3333333333333333,
              "#9c179e"
             ],
             [
              0.4444444444444444,
              "#bd3786"
             ],
             [
              0.5555555555555556,
              "#d8576b"
             ],
             [
              0.6666666666666666,
              "#ed7953"
             ],
             [
              0.7777777777777778,
              "#fb9f3a"
             ],
             [
              0.8888888888888888,
              "#fdca26"
             ],
             [
              1,
              "#f0f921"
             ]
            ],
            "type": "heatmapgl"
           }
          ],
          "histogram": [
           {
            "marker": {
             "pattern": {
              "fillmode": "overlay",
              "size": 10,
              "solidity": 0.2
             }
            },
            "type": "histogram"
           }
          ],
          "histogram2d": [
           {
            "colorbar": {
             "outlinewidth": 0,
             "ticks": ""
            },
            "colorscale": [
             [
              0,
              "#0d0887"
             ],
             [
              0.1111111111111111,
              "#46039f"
             ],
             [
              0.2222222222222222,
              "#7201a8"
             ],
             [
              0.3333333333333333,
              "#9c179e"
             ],
             [
              0.4444444444444444,
              "#bd3786"
             ],
             [
              0.5555555555555556,
              "#d8576b"
             ],
             [
              0.6666666666666666,
              "#ed7953"
             ],
             [
              0.7777777777777778,
              "#fb9f3a"
             ],
             [
              0.8888888888888888,
              "#fdca26"
             ],
             [
              1,
              "#f0f921"
             ]
            ],
            "type": "histogram2d"
           }
          ],
          "histogram2dcontour": [
           {
            "colorbar": {
             "outlinewidth": 0,
             "ticks": ""
            },
            "colorscale": [
             [
              0,
              "#0d0887"
             ],
             [
              0.1111111111111111,
              "#46039f"
             ],
             [
              0.2222222222222222,
              "#7201a8"
             ],
             [
              0.3333333333333333,
              "#9c179e"
             ],
             [
              0.4444444444444444,
              "#bd3786"
             ],
             [
              0.5555555555555556,
              "#d8576b"
             ],
             [
              0.6666666666666666,
              "#ed7953"
             ],
             [
              0.7777777777777778,
              "#fb9f3a"
             ],
             [
              0.8888888888888888,
              "#fdca26"
             ],
             [
              1,
              "#f0f921"
             ]
            ],
            "type": "histogram2dcontour"
           }
          ],
          "mesh3d": [
           {
            "colorbar": {
             "outlinewidth": 0,
             "ticks": ""
            },
            "type": "mesh3d"
           }
          ],
          "parcoords": [
           {
            "line": {
             "colorbar": {
              "outlinewidth": 0,
              "ticks": ""
             }
            },
            "type": "parcoords"
           }
          ],
          "pie": [
           {
            "automargin": true,
            "type": "pie"
           }
          ],
          "scatter": [
           {
            "fillpattern": {
             "fillmode": "overlay",
             "size": 10,
             "solidity": 0.2
            },
            "type": "scatter"
           }
          ],
          "scatter3d": [
           {
            "line": {
             "colorbar": {
              "outlinewidth": 0,
              "ticks": ""
             }
            },
            "marker": {
             "colorbar": {
              "outlinewidth": 0,
              "ticks": ""
             }
            },
            "type": "scatter3d"
           }
          ],
          "scattercarpet": [
           {
            "marker": {
             "colorbar": {
              "outlinewidth": 0,
              "ticks": ""
             }
            },
            "type": "scattercarpet"
           }
          ],
          "scattergeo": [
           {
            "marker": {
             "colorbar": {
              "outlinewidth": 0,
              "ticks": ""
             }
            },
            "type": "scattergeo"
           }
          ],
          "scattergl": [
           {
            "marker": {
             "colorbar": {
              "outlinewidth": 0,
              "ticks": ""
             }
            },
            "type": "scattergl"
           }
          ],
          "scattermapbox": [
           {
            "marker": {
             "colorbar": {
              "outlinewidth": 0,
              "ticks": ""
             }
            },
            "type": "scattermapbox"
           }
          ],
          "scatterpolar": [
           {
            "marker": {
             "colorbar": {
              "outlinewidth": 0,
              "ticks": ""
             }
            },
            "type": "scatterpolar"
           }
          ],
          "scatterpolargl": [
           {
            "marker": {
             "colorbar": {
              "outlinewidth": 0,
              "ticks": ""
             }
            },
            "type": "scatterpolargl"
           }
          ],
          "scatterternary": [
           {
            "marker": {
             "colorbar": {
              "outlinewidth": 0,
              "ticks": ""
             }
            },
            "type": "scatterternary"
           }
          ],
          "surface": [
           {
            "colorbar": {
             "outlinewidth": 0,
             "ticks": ""
            },
            "colorscale": [
             [
              0,
              "#0d0887"
             ],
             [
              0.1111111111111111,
              "#46039f"
             ],
             [
              0.2222222222222222,
              "#7201a8"
             ],
             [
              0.3333333333333333,
              "#9c179e"
             ],
             [
              0.4444444444444444,
              "#bd3786"
             ],
             [
              0.5555555555555556,
              "#d8576b"
             ],
             [
              0.6666666666666666,
              "#ed7953"
             ],
             [
              0.7777777777777778,
              "#fb9f3a"
             ],
             [
              0.8888888888888888,
              "#fdca26"
             ],
             [
              1,
              "#f0f921"
             ]
            ],
            "type": "surface"
           }
          ],
          "table": [
           {
            "cells": {
             "fill": {
              "color": "#EBF0F8"
             },
             "line": {
              "color": "white"
             }
            },
            "header": {
             "fill": {
              "color": "#C8D4E3"
             },
             "line": {
              "color": "white"
             }
            },
            "type": "table"
           }
          ]
         },
         "layout": {
          "annotationdefaults": {
           "arrowcolor": "#2a3f5f",
           "arrowhead": 0,
           "arrowwidth": 1
          },
          "autotypenumbers": "strict",
          "coloraxis": {
           "colorbar": {
            "outlinewidth": 0,
            "ticks": ""
           }
          },
          "colorscale": {
           "diverging": [
            [
             0,
             "#8e0152"
            ],
            [
             0.1,
             "#c51b7d"
            ],
            [
             0.2,
             "#de77ae"
            ],
            [
             0.3,
             "#f1b6da"
            ],
            [
             0.4,
             "#fde0ef"
            ],
            [
             0.5,
             "#f7f7f7"
            ],
            [
             0.6,
             "#e6f5d0"
            ],
            [
             0.7,
             "#b8e186"
            ],
            [
             0.8,
             "#7fbc41"
            ],
            [
             0.9,
             "#4d9221"
            ],
            [
             1,
             "#276419"
            ]
           ],
           "sequential": [
            [
             0,
             "#0d0887"
            ],
            [
             0.1111111111111111,
             "#46039f"
            ],
            [
             0.2222222222222222,
             "#7201a8"
            ],
            [
             0.3333333333333333,
             "#9c179e"
            ],
            [
             0.4444444444444444,
             "#bd3786"
            ],
            [
             0.5555555555555556,
             "#d8576b"
            ],
            [
             0.6666666666666666,
             "#ed7953"
            ],
            [
             0.7777777777777778,
             "#fb9f3a"
            ],
            [
             0.8888888888888888,
             "#fdca26"
            ],
            [
             1,
             "#f0f921"
            ]
           ],
           "sequentialminus": [
            [
             0,
             "#0d0887"
            ],
            [
             0.1111111111111111,
             "#46039f"
            ],
            [
             0.2222222222222222,
             "#7201a8"
            ],
            [
             0.3333333333333333,
             "#9c179e"
            ],
            [
             0.4444444444444444,
             "#bd3786"
            ],
            [
             0.5555555555555556,
             "#d8576b"
            ],
            [
             0.6666666666666666,
             "#ed7953"
            ],
            [
             0.7777777777777778,
             "#fb9f3a"
            ],
            [
             0.8888888888888888,
             "#fdca26"
            ],
            [
             1,
             "#f0f921"
            ]
           ]
          },
          "colorway": [
           "#636efa",
           "#EF553B",
           "#00cc96",
           "#ab63fa",
           "#FFA15A",
           "#19d3f3",
           "#FF6692",
           "#B6E880",
           "#FF97FF",
           "#FECB52"
          ],
          "font": {
           "color": "#2a3f5f"
          },
          "geo": {
           "bgcolor": "white",
           "lakecolor": "white",
           "landcolor": "#E5ECF6",
           "showlakes": true,
           "showland": true,
           "subunitcolor": "white"
          },
          "hoverlabel": {
           "align": "left"
          },
          "hovermode": "closest",
          "mapbox": {
           "style": "light"
          },
          "paper_bgcolor": "white",
          "plot_bgcolor": "#E5ECF6",
          "polar": {
           "angularaxis": {
            "gridcolor": "white",
            "linecolor": "white",
            "ticks": ""
           },
           "bgcolor": "#E5ECF6",
           "radialaxis": {
            "gridcolor": "white",
            "linecolor": "white",
            "ticks": ""
           }
          },
          "scene": {
           "xaxis": {
            "backgroundcolor": "#E5ECF6",
            "gridcolor": "white",
            "gridwidth": 2,
            "linecolor": "white",
            "showbackground": true,
            "ticks": "",
            "zerolinecolor": "white"
           },
           "yaxis": {
            "backgroundcolor": "#E5ECF6",
            "gridcolor": "white",
            "gridwidth": 2,
            "linecolor": "white",
            "showbackground": true,
            "ticks": "",
            "zerolinecolor": "white"
           },
           "zaxis": {
            "backgroundcolor": "#E5ECF6",
            "gridcolor": "white",
            "gridwidth": 2,
            "linecolor": "white",
            "showbackground": true,
            "ticks": "",
            "zerolinecolor": "white"
           }
          },
          "shapedefaults": {
           "line": {
            "color": "#2a3f5f"
           }
          },
          "ternary": {
           "aaxis": {
            "gridcolor": "white",
            "linecolor": "white",
            "ticks": ""
           },
           "baxis": {
            "gridcolor": "white",
            "linecolor": "white",
            "ticks": ""
           },
           "bgcolor": "#E5ECF6",
           "caxis": {
            "gridcolor": "white",
            "linecolor": "white",
            "ticks": ""
           }
          },
          "title": {
           "x": 0.05
          },
          "xaxis": {
           "automargin": true,
           "gridcolor": "white",
           "linecolor": "white",
           "ticks": "",
           "title": {
            "standoff": 15
           },
           "zerolinecolor": "white",
           "zerolinewidth": 2
          },
          "yaxis": {
           "automargin": true,
           "gridcolor": "white",
           "linecolor": "white",
           "ticks": "",
           "title": {
            "standoff": 15
           },
           "zerolinecolor": "white",
           "zerolinewidth": 2
          }
         }
        },
        "title": {
         "text": "Número de sequías por país y año"
        },
        "updatemenus": [
         {
          "buttons": [
           {
            "args": [
             null,
             {
              "frame": {
               "duration": 500,
               "redraw": true
              },
              "fromcurrent": true,
              "mode": "immediate",
              "transition": {
               "duration": 500,
               "easing": "linear"
              }
             }
            ],
            "label": "&#9654;",
            "method": "animate"
           },
           {
            "args": [
             [
              null
             ],
             {
              "frame": {
               "duration": 0,
               "redraw": true
              },
              "fromcurrent": true,
              "mode": "immediate",
              "transition": {
               "duration": 0,
               "easing": "linear"
              }
             }
            ],
            "label": "&#9724;",
            "method": "animate"
           }
          ],
          "direction": "left",
          "pad": {
           "r": 10,
           "t": 70
          },
          "showactive": false,
          "type": "buttons",
          "x": 0.1,
          "xanchor": "right",
          "y": 0,
          "yanchor": "top"
         }
        ]
       }
      }
     },
     "metadata": {},
     "output_type": "display_data"
    }
   ],
   "source": [
    "# Crea la figura\n",
    "fig = px.choropleth(data_frame=df3,\n",
    "                    locationmode=\"country names\",\n",
    "                    locations=\"Country\",\n",
    "                    color=\"Droughts\",\n",
    "                    color_continuous_scale=\"Oranges\",\n",
    "                    title=\"Número de sequías por país y año\",\n",
    "                    animation_frame=\"Start Year\")\n",
    "\n",
    "fig.show()"
   ]
  },
  {
   "cell_type": "markdown",
   "metadata": {},
   "source": [
    "Los años no están ordenados, corregir"
   ]
  },
  {
   "cell_type": "code",
   "execution_count": 38,
   "metadata": {},
   "outputs": [
    {
     "data": {
      "application/vnd.plotly.v1+json": {
       "config": {
        "plotlyServerURL": "https://plot.ly"
       },
       "data": [
        {
         "coloraxis": "coloraxis",
         "geo": "geo",
         "hovertemplate": "Start Year=1900<br>Country=%{location}<br>Droughts=%{z}<extra></extra>",
         "locationmode": "country names",
         "locations": [
          "India",
          "Cabo Verde"
         ],
         "name": "",
         "type": "choropleth",
         "z": [
          16,
          12
         ]
        }
       ],
       "frames": [
        {
         "data": [
          {
           "coloraxis": "coloraxis",
           "geo": "geo",
           "hovertemplate": "Start Year=1900<br>Country=%{location}<br>Droughts=%{z}<extra></extra>",
           "locationmode": "country names",
           "locations": [
            "India",
            "Cabo Verde"
           ],
           "name": "",
           "type": "choropleth",
           "z": [
            16,
            12
           ]
          }
         ],
         "name": "1900"
        },
        {
         "data": [
          {
           "coloraxis": "coloraxis",
           "geo": "geo",
           "hovertemplate": "Start Year=1903<br>Country=%{location}<br>Droughts=%{z}<extra></extra>",
           "locationmode": "country names",
           "locations": [
            "Niger (the)"
           ],
           "name": "",
           "type": "choropleth",
           "z": [
            17
           ]
          }
         ],
         "name": "1903"
        },
        {
         "data": [
          {
           "coloraxis": "coloraxis",
           "geo": "geo",
           "hovertemplate": "Start Year=1906<br>Country=%{location}<br>Droughts=%{z}<extra></extra>",
           "locationmode": "country names",
           "locations": [
            "Niger (the)"
           ],
           "name": "",
           "type": "choropleth",
           "z": [
            17
           ]
          }
         ],
         "name": "1906"
        },
        {
         "data": [
          {
           "coloraxis": "coloraxis",
           "geo": "geo",
           "hovertemplate": "Start Year=1910<br>Country=%{location}<br>Droughts=%{z}<extra></extra>",
           "locationmode": "country names",
           "locations": [
            "Niger (the)",
            "Mauritania",
            "Burkina Faso",
            "Mali",
            "Chad",
            "Cabo Verde",
            "Senegal",
            "Gambia (the)",
            "Guinea-Bissau"
           ],
           "name": "",
           "type": "choropleth",
           "z": [
            17,
            15,
            15,
            13,
            12,
            12,
            11,
            9,
            6
           ]
          }
         ],
         "name": "1910"
        },
        {
         "data": [
          {
           "coloraxis": "coloraxis",
           "geo": "geo",
           "hovertemplate": "Start Year=1919<br>Country=%{location}<br>Droughts=%{z}<extra></extra>",
           "locationmode": "country names",
           "locations": [
            "Anguilla"
           ],
           "name": "",
           "type": "choropleth",
           "z": [
            1
           ]
          }
         ],
         "name": "1919"
        },
        {
         "data": [
          {
           "coloraxis": "coloraxis",
           "geo": "geo",
           "hovertemplate": "Start Year=1920<br>Country=%{location}<br>Droughts=%{z}<extra></extra>",
           "locationmode": "country names",
           "locations": [
            "China",
            "Cabo Verde"
           ],
           "name": "",
           "type": "choropleth",
           "z": [
            41,
            12
           ]
          }
         ],
         "name": "1920"
        },
        {
         "data": [
          {
           "coloraxis": "coloraxis",
           "geo": "geo",
           "hovertemplate": "Start Year=1921<br>Country=%{location}<br>Droughts=%{z}<extra></extra>",
           "locationmode": "country names",
           "locations": [
            "Soviet Union"
           ],
           "name": "",
           "type": "choropleth",
           "z": [
            1
           ]
          }
         ],
         "name": "1921"
        },
        {
         "data": [
          {
           "coloraxis": "coloraxis",
           "geo": "geo",
           "hovertemplate": "Start Year=1928<br>Country=%{location}<br>Droughts=%{z}<extra></extra>",
           "locationmode": "country names",
           "locations": [
            "China"
           ],
           "name": "",
           "type": "choropleth",
           "z": [
            41
           ]
          }
         ],
         "name": "1928"
        },
        {
         "data": [
          {
           "coloraxis": "coloraxis",
           "geo": "geo",
           "hovertemplate": "Start Year=1931<br>Country=%{location}<br>Droughts=%{z}<extra></extra>",
           "locationmode": "country names",
           "locations": [
            "Canada"
           ],
           "name": "",
           "type": "choropleth",
           "z": [
            5
           ]
          }
         ],
         "name": "1931"
        },
        {
         "data": [
          {
           "coloraxis": "coloraxis",
           "geo": "geo",
           "hovertemplate": "Start Year=1933<br>Country=%{location}<br>Droughts=%{z}<extra></extra>",
           "locationmode": "country names",
           "locations": [
            "United States of America (the)"
           ],
           "name": "",
           "type": "choropleth",
           "z": [
            19
           ]
          }
         ],
         "name": "1933"
        },
        {
         "data": [
          {
           "coloraxis": "coloraxis",
           "geo": "geo",
           "hovertemplate": "Start Year=1940<br>Country=%{location}<br>Droughts=%{z}<extra></extra>",
           "locationmode": "country names",
           "locations": [
            "Niger (the)",
            "Mauritania",
            "Burkina Faso",
            "Mali",
            "Chad",
            "Cabo Verde",
            "Senegal",
            "Gambia (the)",
            "Guinea-Bissau"
           ],
           "name": "",
           "type": "choropleth",
           "z": [
            17,
            15,
            15,
            13,
            12,
            12,
            11,
            9,
            6
           ]
          }
         ],
         "name": "1940"
        },
        {
         "data": [
          {
           "coloraxis": "coloraxis",
           "geo": "geo",
           "hovertemplate": "Start Year=1942<br>Country=%{location}<br>Droughts=%{z}<extra></extra>",
           "locationmode": "country names",
           "locations": [
            "India"
           ],
           "name": "",
           "type": "choropleth",
           "z": [
            16
           ]
          }
         ],
         "name": "1942"
        },
        {
         "data": [
          {
           "coloraxis": "coloraxis",
           "geo": "geo",
           "hovertemplate": "Start Year=1943<br>Country=%{location}<br>Droughts=%{z}<extra></extra>",
           "locationmode": "country names",
           "locations": [
            "Bangladesh"
           ],
           "name": "",
           "type": "choropleth",
           "z": [
            7
           ]
          }
         ],
         "name": "1943"
        },
        {
         "data": [
          {
           "coloraxis": "coloraxis",
           "geo": "geo",
           "hovertemplate": "Start Year=1946<br>Country=%{location}<br>Droughts=%{z}<extra></extra>",
           "locationmode": "country names",
           "locations": [
            "Cabo Verde"
           ],
           "name": "",
           "type": "choropleth",
           "z": [
            12
           ]
          }
         ],
         "name": "1946"
        },
        {
         "data": [
          {
           "coloraxis": "coloraxis",
           "geo": "geo",
           "hovertemplate": "Start Year=1947<br>Country=%{location}<br>Droughts=%{z}<extra></extra>",
           "locationmode": "country names",
           "locations": [
            "Bangladesh"
           ],
           "name": "",
           "type": "choropleth",
           "z": [
            7
           ]
          }
         ],
         "name": "1947"
        },
        {
         "data": [
          {
           "coloraxis": "coloraxis",
           "geo": "geo",
           "hovertemplate": "Start Year=1960<br>Country=%{location}<br>Droughts=%{z}<extra></extra>",
           "locationmode": "country names",
           "locations": [
            "Hong Kong"
           ],
           "name": "",
           "type": "choropleth",
           "z": [
            7
           ]
          }
         ],
         "name": "1960"
        },
        {
         "data": [
          {
           "coloraxis": "coloraxis",
           "geo": "geo",
           "hovertemplate": "Start Year=1961<br>Country=%{location}<br>Droughts=%{z}<extra></extra>",
           "locationmode": "country names",
           "locations": [
            "Canada"
           ],
           "name": "",
           "type": "choropleth",
           "z": [
            5
           ]
          }
         ],
         "name": "1961"
        },
        {
         "data": [
          {
           "coloraxis": "coloraxis",
           "geo": "geo",
           "hovertemplate": "Start Year=1963<br>Country=%{location}<br>Droughts=%{z}<extra></extra>",
           "locationmode": "country names",
           "locations": [
            "Paraguay"
           ],
           "name": "",
           "type": "choropleth",
           "z": [
            9
           ]
          }
         ],
         "name": "1963"
        },
        {
         "data": [
          {
           "coloraxis": "coloraxis",
           "geo": "geo",
           "hovertemplate": "Start Year=1964<br>Country=%{location}<br>Droughts=%{z}<extra></extra>",
           "locationmode": "country names",
           "locations": [
            "Somalia",
            "India",
            "India",
            "South Africa",
            "Nepal",
            "Ecuador",
            "Iran (Islamic Republic of)"
           ],
           "name": "",
           "type": "choropleth",
           "z": [
            17,
            16,
            16,
            12,
            6,
            4,
            3
           ]
          }
         ],
         "name": "1964"
        },
        {
         "data": [
          {
           "coloraxis": "coloraxis",
           "geo": "geo",
           "hovertemplate": "Start Year=1965<br>Country=%{location}<br>Droughts=%{z}<extra></extra>",
           "locationmode": "country names",
           "locations": [
            "China",
            "Ethiopia",
            "Kenya",
            "India",
            "Mauritania",
            "Honduras",
            "Botswana"
           ],
           "name": "",
           "type": "choropleth",
           "z": [
            41,
            18,
            17,
            16,
            15,
            13,
            7
           ]
          }
         ],
         "name": "1965"
        },
        {
         "data": [
          {
           "coloraxis": "coloraxis",
           "geo": "geo",
           "hovertemplate": "Start Year=1966<br>Country=%{location}<br>Droughts=%{z}<extra></extra>",
           "locationmode": "country names",
           "locations": [
            "Niger (the)",
            "Burkina Faso",
            "Mali",
            "Chad",
            "Senegal",
            "Indonesia",
            "Peru",
            "Hong Kong",
            "Morocco"
           ],
           "name": "",
           "type": "choropleth",
           "z": [
            17,
            15,
            13,
            12,
            11,
            10,
            8,
            7,
            5
           ]
          }
         ],
         "name": "1966"
        },
        {
         "data": [
          {
           "coloraxis": "coloraxis",
           "geo": "geo",
           "hovertemplate": "Start Year=1967<br>Country=%{location}<br>Droughts=%{z}<extra></extra>",
           "locationmode": "country names",
           "locations": [
            "Australia",
            "Tanzania, United Republic of",
            "Uganda",
            "Nepal",
            "Korea (the Republic of)"
           ],
           "name": "",
           "type": "choropleth",
           "z": [
            11,
            11,
            10,
            6,
            2
           ]
          }
         ],
         "name": "1967"
        },
        {
         "data": [
          {
           "coloraxis": "coloraxis",
           "geo": "geo",
           "hovertemplate": "Start Year=1968<br>Country=%{location}<br>Droughts=%{z}<extra></extra>",
           "locationmode": "country names",
           "locations": [
            "Haiti",
            "Gambia (the)",
            "Lesotho",
            "Botswana",
            "Jamaica",
            "Chile",
            "Dominican Republic (the)"
           ],
           "name": "",
           "type": "choropleth",
           "z": [
            9,
            9,
            9,
            7,
            4,
            2,
            1
           ]
          }
         ],
         "name": "1968"
        },
        {
         "data": [
          {
           "coloraxis": "coloraxis",
           "geo": "geo",
           "hovertemplate": "Start Year=1969<br>Country=%{location}<br>Droughts=%{z}<extra></extra>",
           "locationmode": "country names",
           "locations": [
            "Ethiopia",
            "Somalia",
            "Mauritania",
            "Burkina Faso",
            "Chad",
            "Senegal",
            "Peru",
            "Afghanistan",
            "Iraq",
            "Yemen Arab Rep"
           ],
           "name": "",
           "type": "choropleth",
           "z": [
            18,
            17,
            15,
            15,
            12,
            11,
            8,
            8,
            3,
            2
           ]
          }
         ],
         "name": "1969"
        },
        {
         "data": [
          {
           "coloraxis": "coloraxis",
           "geo": "geo",
           "hovertemplate": "Start Year=1970<br>Country=%{location}<br>Droughts=%{z}<extra></extra>",
           "locationmode": "country names",
           "locations": [
            "Brazil",
            "Botswana"
           ],
           "name": "",
           "type": "choropleth",
           "z": [
            21,
            7
           ]
          }
         ],
         "name": "1970"
        },
        {
         "data": [
          {
           "coloraxis": "coloraxis",
           "geo": "geo",
           "hovertemplate": "Start Year=1971<br>Country=%{location}<br>Droughts=%{z}<extra></extra>",
           "locationmode": "country names",
           "locations": [
            "Kenya",
            "Gambia (the)",
            "Afghanistan",
            "Cameroon",
            "Morocco",
            "Togo",
            "Ghana"
           ],
           "name": "",
           "type": "choropleth",
           "z": [
            17,
            9,
            8,
            6,
            5,
            3,
            3
           ]
          }
         ],
         "name": "1971"
        },
        {
         "data": [
          {
           "coloraxis": "coloraxis",
           "geo": "geo",
           "hovertemplate": "Start Year=1972<br>Country=%{location}<br>Droughts=%{z}<extra></extra>",
           "locationmode": "country names",
           "locations": [
            "India",
            "Honduras",
            "Cabo Verde",
            "Indonesia",
            "Nepal",
            "Guinea-Bissau",
            "Benin"
           ],
           "name": "",
           "type": "choropleth",
           "z": [
            16,
            13,
            12,
            10,
            6,
            6,
            2
           ]
          }
         ],
         "name": "1972"
        },
        {
         "data": [
          {
           "coloraxis": "coloraxis",
           "geo": "geo",
           "hovertemplate": "Start Year=1973<br>Country=%{location}<br>Droughts=%{z}<extra></extra>",
           "locationmode": "country names",
           "locations": [
            "Ethiopia",
            "Costa Rica"
           ],
           "name": "",
           "type": "choropleth",
           "z": [
            18,
            5
           ]
          }
         ],
         "name": "1973"
        },
        {
         "data": [
          {
           "coloraxis": "coloraxis",
           "geo": "geo",
           "hovertemplate": "Start Year=1974<br>Country=%{location}<br>Droughts=%{z}<extra></extra>",
           "locationmode": "country names",
           "locations": [
            "Somalia",
            "Australia",
            "Haiti",
            "Bangladesh"
           ],
           "name": "",
           "type": "choropleth",
           "z": [
            17,
            11,
            9,
            7
           ]
          }
         ],
         "name": "1974"
        },
        {
         "data": [
          {
           "coloraxis": "coloraxis",
           "geo": "geo",
           "hovertemplate": "Start Year=1975<br>Country=%{location}<br>Droughts=%{z}<extra></extra>",
           "locationmode": "country names",
           "locations": [
            "Yemen P Dem Rep"
           ],
           "name": "",
           "type": "choropleth",
           "z": [
            2
           ]
          }
         ],
         "name": "1975"
        },
        {
         "data": [
          {
           "coloraxis": "coloraxis",
           "geo": "geo",
           "hovertemplate": "Start Year=1976<br>Country=%{location}<br>Droughts=%{z}<extra></extra>",
           "locationmode": "country names",
           "locations": [
            "Mauritania",
            "Australia",
            "Australia",
            "Hong Kong",
            "Rwanda",
            "Belgium"
           ],
           "name": "",
           "type": "choropleth",
           "z": [
            15,
            11,
            11,
            7,
            6,
            1
           ]
          }
         ],
         "name": "1976"
        },
        {
         "data": [
          {
           "coloraxis": "coloraxis",
           "geo": "geo",
           "hovertemplate": "Start Year=1977<br>Country=%{location}<br>Droughts=%{z}<extra></extra>",
           "locationmode": "country names",
           "locations": [
            "Brazil",
            "Burkina Faso",
            "Bolivia (Plurinational State of)",
            "Sri Lanka",
            "Senegal",
            "Tanzania, United Republic of",
            "Haiti",
            "Gambia (the)",
            "Hong Kong",
            "Lao People's Democratic Republic (the)",
            "Canada",
            "Ghana",
            "Yemen P Dem Rep",
            "Tunisia",
            "Yemen Arab Rep",
            "Japan"
           ],
           "name": "",
           "type": "choropleth",
           "z": [
            21,
            15,
            13,
            12,
            11,
            11,
            9,
            9,
            7,
            6,
            5,
            3,
            2,
            2,
            2,
            1
           ]
          }
         ],
         "name": "1977"
        },
        {
         "data": [
          {
           "coloraxis": "coloraxis",
           "geo": "geo",
           "hovertemplate": "Start Year=1978<br>Country=%{location}<br>Droughts=%{z}<extra></extra>",
           "locationmode": "country names",
           "locations": [
            "China",
            "Brazil",
            "Mauritania",
            "Mali",
            "Australia",
            "Philippines (the)",
            "Indonesia",
            "Mexico",
            "Congo (the Democratic Republic of the)"
           ],
           "name": "",
           "type": "choropleth",
           "z": [
            41,
            21,
            15,
            13,
            11,
            10,
            10,
            7,
            3
           ]
          }
         ],
         "name": "1978"
        },
        {
         "data": [
          {
           "coloraxis": "coloraxis",
           "geo": "geo",
           "hovertemplate": "Start Year=1979<br>Country=%{location}<br>Droughts=%{z}<extra></extra>",
           "locationmode": "country names",
           "locations": [
            "China",
            "Brazil",
            "Kenya",
            "India",
            "Mozambique",
            "Sri Lanka",
            "Senegal",
            "Uganda",
            "Hong Kong",
            "Bangladesh",
            "Nepal"
           ],
           "name": "",
           "type": "choropleth",
           "z": [
            41,
            21,
            17,
            16,
            15,
            12,
            11,
            10,
            7,
            7,
            6
           ]
          }
         ],
         "name": "1979"
        },
        {
         "data": [
          {
           "coloraxis": "coloraxis",
           "geo": "geo",
           "hovertemplate": "Start Year=1980<br>Country=%{location}<br>Droughts=%{z}<extra></extra>",
           "locationmode": "country names",
           "locations": [
            "Niger (the)",
            "Somalia",
            "Mauritania",
            "Burkina Faso",
            "Mali",
            "Sri Lanka",
            "South Africa",
            "Sudan (the)",
            "Philippines (the)",
            "Djibouti",
            "Haiti",
            "Gambia (the)",
            "Spain",
            "Papua New Guinea"
           ],
           "name": "",
           "type": "choropleth",
           "z": [
            17,
            17,
            15,
            15,
            13,
            12,
            12,
            10,
            10,
            10,
            9,
            9,
            4,
            3
           ]
          }
         ],
         "name": "1980"
        },
        {
         "data": [
          {
           "coloraxis": "coloraxis",
           "geo": "geo",
           "hovertemplate": "Start Year=1981<br>Country=%{location}<br>Droughts=%{z}<extra></extra>",
           "locationmode": "country names",
           "locations": [
            "Mozambique",
            "Sri Lanka",
            "Chad",
            "Australia",
            "Madagascar",
            "Angola",
            "Hong Kong",
            "Cuba",
            "Spain",
            "Jamaica",
            "Guinea",
            "Comoros (the)",
            "Algeria"
           ],
           "name": "",
           "type": "choropleth",
           "z": [
            15,
            12,
            12,
            11,
            10,
            9,
            7,
            7,
            4,
            4,
            2,
            1,
            1
           ]
          }
         ],
         "name": "1981"
        },
        {
         "data": [
          {
           "coloraxis": "coloraxis",
           "geo": "geo",
           "hovertemplate": "Start Year=1982<br>Country=%{location}<br>Droughts=%{z}<extra></extra>",
           "locationmode": "country names",
           "locations": [
            "India",
            "Sri Lanka",
            "South Africa",
            "Cabo Verde",
            "Senegal",
            "Indonesia",
            "Zimbabwe",
            "Namibia",
            "El Salvador",
            "Botswana",
            "Zambia",
            "Guinea-Bissau",
            "France"
           ],
           "name": "",
           "type": "choropleth",
           "z": [
            16,
            12,
            12,
            12,
            11,
            10,
            9,
            9,
            7,
            7,
            7,
            6,
            5
           ]
          }
         ],
         "name": "1982"
        },
        {
         "data": [
          {
           "coloraxis": "coloraxis",
           "geo": "geo",
           "hovertemplate": "Start Year=1983<br>Country=%{location}<br>Droughts=%{z}<extra></extra>",
           "locationmode": "country names",
           "locations": [
            "China",
            "Brazil",
            "Ethiopia",
            "Somalia",
            "Bolivia (Plurinational State of)",
            "Bolivia (Plurinational State of)",
            "Sudan (the)",
            "Philippines (the)",
            "Djibouti",
            "Paraguay",
            "Lesotho",
            "Peru",
            "Hong Kong",
            "Bangladesh",
            "Zambia",
            "Eswatini",
            "Morocco",
            "Portugal",
            "Panama",
            "Fiji",
            "Togo",
            "Ghana",
            "Nigeria",
            "Benin",
            "Bulgaria",
            "Central African Republic",
            "Romania",
            "Antigua and Barbuda",
            "Liberia",
            "Cï¿½te dï¿½Ivoire",
            "Sao Tome and Principe",
            "Congo (the)"
           ],
           "name": "",
           "type": "choropleth",
           "z": [
            41,
            21,
            18,
            17,
            13,
            13,
            10,
            10,
            10,
            9,
            9,
            8,
            7,
            7,
            7,
            7,
            5,
            4,
            4,
            3,
            3,
            3,
            2,
            2,
            2,
            2,
            2,
            1,
            1,
            1,
            1,
            1
           ]
          }
         ],
         "name": "1983"
        },
        {
         "data": [
          {
           "coloraxis": "coloraxis",
           "geo": "geo",
           "hovertemplate": "Start Year=1984<br>Country=%{location}<br>Droughts=%{z}<extra></extra>",
           "locationmode": "country names",
           "locations": [
            "Kenya",
            "Tanzania, United Republic of",
            "Indonesia",
            "Eswatini",
            "Rwanda",
            "Morocco",
            "Canada",
            "Congo (the Democratic Republic of the)"
           ],
           "name": "",
           "type": "choropleth",
           "z": [
            17,
            11,
            10,
            7,
            6,
            5,
            5,
            3
           ]
          }
         ],
         "name": "1984"
        },
        {
         "data": [
          {
           "coloraxis": "coloraxis",
           "geo": "geo",
           "hovertemplate": "Start Year=1985<br>Country=%{location}<br>Droughts=%{z}<extra></extra>",
           "locationmode": "country names",
           "locations": [
            "China",
            "Brazil",
            "Angola"
           ],
           "name": "",
           "type": "choropleth",
           "z": [
            41,
            21,
            9
           ]
          }
         ],
         "name": "1985"
        },
        {
         "data": [
          {
           "coloraxis": "coloraxis",
           "geo": "geo",
           "hovertemplate": "Start Year=1986<br>Country=%{location}<br>Droughts=%{z}<extra></extra>",
           "locationmode": "country names",
           "locations": [
            "South Africa",
            "Indonesia",
            "Cuba",
            "Hungary"
           ],
           "name": "",
           "type": "choropleth",
           "z": [
            12,
            10,
            7,
            3
           ]
          }
         ],
         "name": "1986"
        },
        {
         "data": [
          {
           "coloraxis": "coloraxis",
           "geo": "geo",
           "hovertemplate": "Start Year=1987<br>Country=%{location}<br>Droughts=%{z}<extra></extra>",
           "locationmode": "country names",
           "locations": [
            "Brazil",
            "Ethiopia",
            "Somalia",
            "India",
            "Mozambique",
            "Sri Lanka",
            "Sudan (the)",
            "Philippines (the)",
            "Indonesia",
            "Uganda",
            "Malawi",
            "Guatemala",
            "Viet Nam",
            "Cambodia",
            "Lao People's Democratic Republic (the)"
           ],
           "name": "",
           "type": "choropleth",
           "z": [
            21,
            18,
            17,
            16,
            15,
            12,
            10,
            10,
            10,
            10,
            9,
            7,
            7,
            6,
            6
           ]
          }
         ],
         "name": "1987"
        },
        {
         "data": [
          {
           "coloraxis": "coloraxis",
           "geo": "geo",
           "hovertemplate": "Start Year=1988<br>Country=%{location}<br>Droughts=%{z}<extra></extra>",
           "locationmode": "country names",
           "locations": [
            "China",
            "Brazil",
            "United States of America (the)",
            "Niger (the)",
            "Somalia",
            "Burkina Faso",
            "Bolivia (Plurinational State of)",
            "Sri Lanka",
            "South Africa",
            "Tanzania, United Republic of",
            "Djibouti",
            "Madagascar",
            "Mexico",
            "Lao People's Democratic Republic (the)",
            "Canada",
            "Guyana",
            "Tunisia"
           ],
           "name": "",
           "type": "choropleth",
           "z": [
            41,
            21,
            19,
            17,
            17,
            15,
            13,
            12,
            12,
            11,
            10,
            10,
            7,
            6,
            5,
            3,
            2
           ]
          }
         ],
         "name": "1988"
        },
        {
         "data": [
          {
           "coloraxis": "coloraxis",
           "geo": "geo",
           "hovertemplate": "Start Year=1989<br>Country=%{location}<br>Droughts=%{z}<extra></extra>",
           "locationmode": "country names",
           "locations": [
            "Ethiopia",
            "Angola",
            "Bangladesh",
            "Rwanda",
            "France",
            "Togo",
            "Albania"
           ],
           "name": "",
           "type": "choropleth",
           "z": [
            18,
            9,
            7,
            6,
            5,
            3,
            1
           ]
          }
         ],
         "name": "1989"
        },
        {
         "data": [
          {
           "coloraxis": "coloraxis",
           "geo": "geo",
           "hovertemplate": "Start Year=1990<br>Country=%{location}<br>Droughts=%{z}<extra></extra>",
           "locationmode": "country names",
           "locations": [
            "Niger (the)",
            "Burkina Faso",
            "Bolivia (Plurinational State of)",
            "Sudan (the)",
            "Philippines (the)",
            "Malawi",
            "Peru",
            "Eswatini",
            "Cameroon",
            "Spain",
            "Greece",
            "Yugoslavia"
           ],
           "name": "",
           "type": "choropleth",
           "z": [
            17,
            15,
            13,
            10,
            10,
            9,
            8,
            7,
            6,
            4,
            1,
            1
           ]
          }
         ],
         "name": "1990"
        },
        {
         "data": [
          {
           "coloraxis": "coloraxis",
           "geo": "geo",
           "hovertemplate": "Start Year=1991<br>Country=%{location}<br>Droughts=%{z}<extra></extra>",
           "locationmode": "country names",
           "locations": [
            "China",
            "United States of America (the)",
            "United States of America (the)",
            "Kenya",
            "Mozambique",
            "Mali",
            "South Africa",
            "Thailand",
            "Australia",
            "Tanzania, United Republic of",
            "Sudan (the)",
            "Zimbabwe",
            "Namibia",
            "Zambia",
            "Lao People's Democratic Republic (the)",
            "France",
            "Chile",
            "Cyprus"
           ],
           "name": "",
           "type": "choropleth",
           "z": [
            41,
            19,
            19,
            17,
            15,
            13,
            12,
            12,
            11,
            11,
            10,
            9,
            9,
            7,
            6,
            5,
            2,
            2
           ]
          }
         ],
         "name": "1991"
        },
        {
         "data": [
          {
           "coloraxis": "coloraxis",
           "geo": "geo",
           "hovertemplate": "Start Year=1992<br>Country=%{location}<br>Droughts=%{z}<extra></extra>",
           "locationmode": "country names",
           "locations": [
            "China",
            "China",
            "Cabo Verde",
            "Australia",
            "Malawi",
            "Haiti",
            "Lesotho",
            "Peru",
            "Botswana",
            "Lithuania",
            "Hungary",
            "Denmark"
           ],
           "name": "",
           "type": "choropleth",
           "z": [
            41,
            41,
            12,
            11,
            9,
            9,
            9,
            8,
            7,
            3,
            3,
            1
           ]
          }
         ],
         "name": "1992"
        },
        {
         "data": [
          {
           "coloraxis": "coloraxis",
           "geo": "geo",
           "hovertemplate": "Start Year=1993<br>Country=%{location}<br>Droughts=%{z}<extra></extra>",
           "locationmode": "country names",
           "locations": [
            "India",
            "Mauritania",
            "Chad",
            "Thailand",
            "Haiti",
            "Cuba",
            "Russian Federation (the)",
            "Eritrea",
            "Macedonia (the former Yugoslav Republic of)"
           ],
           "name": "",
           "type": "choropleth",
           "z": [
            16,
            15,
            12,
            12,
            9,
            7,
            5,
            3,
            1
           ]
          }
         ],
         "name": "1993"
        },
        {
         "data": [
          {
           "coloraxis": "coloraxis",
           "geo": "geo",
           "hovertemplate": "Start Year=1994<br>Country=%{location}<br>Droughts=%{z}<extra></extra>",
           "locationmode": "country names",
           "locations": [
            "China",
            "China",
            "Brazil",
            "Kenya",
            "Honduras",
            "Bolivia (Plurinational State of)",
            "El Salvador",
            "Guatemala",
            "Nicaragua",
            "Cambodia",
            "Costa Rica",
            "New Zealand",
            "Puerto Rico"
           ],
           "name": "",
           "type": "choropleth",
           "z": [
            41,
            41,
            21,
            17,
            13,
            13,
            7,
            7,
            6,
            6,
            5,
            2,
            1
           ]
          }
         ],
         "name": "1994"
        },
        {
         "data": [
          {
           "coloraxis": "coloraxis",
           "geo": "geo",
           "hovertemplate": "Start Year=1995<br>Country=%{location}<br>Droughts=%{z}<extra></extra>",
           "locationmode": "country names",
           "locations": [
            "China",
            "Burkina Faso",
            "South Africa",
            "Namibia",
            "Mexico",
            "Zambia"
           ],
           "name": "",
           "type": "choropleth",
           "z": [
            41,
            15,
            12,
            9,
            7,
            7
           ]
          }
         ],
         "name": "1995"
        },
        {
         "data": [
          {
           "coloraxis": "coloraxis",
           "geo": "geo",
           "hovertemplate": "Start Year=1996<br>Country=%{location}<br>Droughts=%{z}<extra></extra>",
           "locationmode": "country names",
           "locations": [
            "India",
            "Tanzania, United Republic of",
            "Sudan (the)",
            "Djibouti",
            "Mexico",
            "Rwanda"
           ],
           "name": "",
           "type": "choropleth",
           "z": [
            16,
            11,
            10,
            10,
            7,
            6
           ]
          }
         ],
         "name": "1996"
        },
        {
         "data": [
          {
           "coloraxis": "coloraxis",
           "geo": "geo",
           "hovertemplate": "Start Year=1997<br>Country=%{location}<br>Droughts=%{z}<extra></extra>",
           "locationmode": "country names",
           "locations": [
            "China",
            "Ethiopia",
            "Kenya",
            "Niger (the)",
            "Mauritania",
            "Honduras",
            "Chad",
            "Indonesia",
            "Angola",
            "Viet Nam",
            "Nicaragua",
            "France",
            "Italy",
            "Portugal",
            "Ecuador",
            "Solomon Islands",
            "Papua New Guinea",
            "Guyana"
           ],
           "name": "",
           "type": "choropleth",
           "z": [
            41,
            18,
            17,
            17,
            15,
            13,
            12,
            10,
            9,
            7,
            6,
            5,
            5,
            4,
            4,
            3,
            3,
            3
           ]
          }
         ],
         "name": "1997"
        },
        {
         "data": [
          {
           "coloraxis": "coloraxis",
           "geo": "geo",
           "hovertemplate": "Start Year=1998<br>Country=%{location}<br>Droughts=%{z}<extra></extra>",
           "locationmode": "country names",
           "locations": [
            "Brazil",
            "Ethiopia",
            "Mozambique",
            "Burkina Faso",
            "Cabo Verde",
            "Philippines (the)",
            "Uganda",
            "Zimbabwe",
            "Namibia",
            "El Salvador",
            "Cuba",
            "Costa Rica",
            "Russian Federation (the)",
            "Solomon Islands",
            "Fiji",
            "Iraq",
            "Malaysia",
            "Colombia",
            "Micronesia (Federated States of)",
            "Guinea"
           ],
           "name": "",
           "type": "choropleth",
           "z": [
            21,
            18,
            15,
            15,
            12,
            10,
            10,
            9,
            9,
            7,
            7,
            5,
            5,
            3,
            3,
            3,
            2,
            2,
            2,
            2
           ]
          }
         ],
         "name": "1998"
        },
        {
         "data": [
          {
           "coloraxis": "coloraxis",
           "geo": "geo",
           "hovertemplate": "Start Year=1999<br>Country=%{location}<br>Droughts=%{z}<extra></extra>",
           "locationmode": "country names",
           "locations": [
            "China",
            "United States of America (the)",
            "Ethiopia",
            "Kenya",
            "Thailand",
            "Uganda",
            "Paraguay",
            "Mexico",
            "Viet Nam",
            "Lao People's Democratic Republic (the)",
            "Rwanda",
            "Burundi",
            "Morocco",
            "Spain",
            "Uruguay",
            "Syrian Arab Republic",
            "Eritrea",
            "Iran (Islamic Republic of)",
            "Pakistan",
            "Jordan",
            "Mauritius",
            "Israel",
            "Kiribati"
           ],
           "name": "",
           "type": "choropleth",
           "z": [
            41,
            19,
            18,
            17,
            12,
            10,
            9,
            7,
            7,
            6,
            6,
            6,
            5,
            4,
            3,
            3,
            3,
            3,
            2,
            2,
            1,
            1,
            1
           ]
          }
         ],
         "name": "1999"
        },
        {
         "data": [
          {
           "coloraxis": "coloraxis",
           "geo": "geo",
           "hovertemplate": "Start Year=2000<br>Country=%{location}<br>Droughts=%{z}<extra></extra>",
           "locationmode": "country names",
           "locations": [
            "China",
            "China",
            "China",
            "United States of America (the)",
            "United States of America (the)",
            "Somalia",
            "India",
            "Honduras",
            "Bolivia (Plurinational State of)",
            "Sudan (the)",
            "Madagascar",
            "Afghanistan",
            "Cuba",
            "Nicaragua",
            "Jamaica",
            "Moldova (the Republic of)",
            "Tajikistan",
            "Jordan",
            "Bosnia and Herzegovina",
            "Bulgaria",
            "Cyprus",
            "Romania",
            "Uzbekistan",
            "Armenia",
            "Azerbaijan",
            "Mongolia",
            "Georgia"
           ],
           "name": "",
           "type": "choropleth",
           "z": [
            41,
            41,
            41,
            19,
            19,
            17,
            16,
            13,
            13,
            10,
            10,
            8,
            7,
            6,
            4,
            3,
            2,
            2,
            2,
            2,
            2,
            2,
            1,
            1,
            1,
            1,
            1
           ]
          }
         ],
         "name": "2000"
        },
        {
         "data": [
          {
           "coloraxis": "coloraxis",
           "geo": "geo",
           "hovertemplate": "Start Year=2001<br>Country=%{location}<br>Droughts=%{z}<extra></extra>",
           "locationmode": "country names",
           "locations": [
            "China",
            "China",
            "Brazil",
            "Niger (the)",
            "Mauritania",
            "Mozambique",
            "Burkina Faso",
            "Honduras",
            "Mali",
            "Sri Lanka",
            "Chad",
            "Djibouti",
            "Zimbabwe",
            "Angola",
            "Namibia",
            "El Salvador",
            "Guatemala",
            "Eswatini",
            "Nicaragua",
            "Cambodia",
            "Cameroon",
            "Korea (the Republic of)"
           ],
           "name": "",
           "type": "choropleth",
           "z": [
            41,
            41,
            21,
            17,
            15,
            15,
            15,
            13,
            13,
            12,
            12,
            10,
            9,
            9,
            9,
            7,
            7,
            7,
            6,
            6,
            6,
            2
           ]
          }
         ],
         "name": "2001"
        },
        {
         "data": [
          {
           "coloraxis": "coloraxis",
           "geo": "geo",
           "hovertemplate": "Start Year=2002<br>Country=%{location}<br>Droughts=%{z}<extra></extra>",
           "locationmode": "country names",
           "locations": [
            "China",
            "China",
            "China",
            "Brazil",
            "United States of America (the)",
            "India",
            "Mozambique",
            "Honduras",
            "Thailand",
            "Cabo Verde",
            "Australia",
            "Senegal",
            "Philippines (the)",
            "Madagascar",
            "Uganda",
            "Malawi",
            "Gambia (the)",
            "Lesotho",
            "Namibia",
            "Peru",
            "Mexico",
            "Viet Nam",
            "Cambodia",
            "Guinea-Bissau",
            "Italy"
           ],
           "name": "",
           "type": "choropleth",
           "z": [
            41,
            41,
            41,
            21,
            19,
            16,
            15,
            13,
            12,
            12,
            11,
            11,
            10,
            10,
            10,
            9,
            9,
            9,
            9,
            8,
            7,
            7,
            6,
            6,
            5
           ]
          }
         ],
         "name": "2002"
        },
        {
         "data": [
          {
           "coloraxis": "coloraxis",
           "geo": "geo",
           "hovertemplate": "Start Year=2003<br>Country=%{location}<br>Droughts=%{z}<extra></extra>",
           "locationmode": "country names",
           "locations": [
            "China",
            "China",
            "Ethiopia",
            "Mozambique",
            "Tanzania, United Republic of",
            "Indonesia",
            "Haiti",
            "Rwanda",
            "Burundi",
            "Russian Federation (the)",
            "Argentina",
            "Hungary",
            "Bosnia and Herzegovina",
            "Croatia"
           ],
           "name": "",
           "type": "choropleth",
           "z": [
            41,
            41,
            18,
            15,
            11,
            10,
            9,
            6,
            6,
            5,
            4,
            3,
            2,
            1
           ]
          }
         ],
         "name": "2003"
        },
        {
         "data": [
          {
           "coloraxis": "coloraxis",
           "geo": "geo",
           "hovertemplate": "Start Year=2004<br>Country=%{location}<br>Droughts=%{z}<extra></extra>",
           "locationmode": "country names",
           "locations": [
            "Brazil",
            "Kenya",
            "Somalia",
            "Honduras",
            "Bolivia (Plurinational State of)",
            "South Africa",
            "Tanzania, United Republic of",
            "Angola",
            "Peru",
            "Cuba",
            "Portugal"
           ],
           "name": "",
           "type": "choropleth",
           "z": [
            21,
            17,
            17,
            13,
            13,
            12,
            11,
            9,
            8,
            7,
            4
           ]
          }
         ],
         "name": "2004"
        },
        {
         "data": [
          {
           "coloraxis": "coloraxis",
           "geo": "geo",
           "hovertemplate": "Start Year=2005<br>Country=%{location}<br>Droughts=%{z}<extra></extra>",
           "locationmode": "country names",
           "locations": [
            "China",
            "China",
            "Brazil",
            "Ethiopia",
            "Kenya",
            "Niger (the)",
            "Somalia",
            "Mozambique",
            "Mali",
            "Thailand",
            "Djibouti",
            "Madagascar",
            "Uganda",
            "Malawi",
            "Paraguay",
            "Zambia",
            "Viet Nam",
            "Cambodia",
            "Burundi",
            "Cameroon"
           ],
           "name": "",
           "type": "choropleth",
           "z": [
            41,
            41,
            21,
            18,
            17,
            17,
            17,
            15,
            13,
            12,
            10,
            10,
            10,
            9,
            9,
            7,
            7,
            6,
            6,
            6
           ]
          }
         ],
         "name": "2005"
        },
        {
         "data": [
          {
           "coloraxis": "coloraxis",
           "geo": "geo",
           "hovertemplate": "Start Year=2006<br>Country=%{location}<br>Droughts=%{z}<extra></extra>",
           "locationmode": "country names",
           "locations": [
            "China",
            "Mali",
            "Australia",
            "Tanzania, United Republic of",
            "Peru",
            "Afghanistan",
            "Nepal",
            "Guinea-Bissau",
            "Lithuania"
           ],
           "name": "",
           "type": "choropleth",
           "z": [
            41,
            13,
            11,
            11,
            8,
            8,
            6,
            6,
            3
           ]
          }
         ],
         "name": "2006"
        },
        {
         "data": [
          {
           "coloraxis": "coloraxis",
           "geo": "geo",
           "hovertemplate": "Start Year=2007<br>Country=%{location}<br>Droughts=%{z}<extra></extra>",
           "locationmode": "country names",
           "locations": [
            "Brazil",
            "United States of America (the)",
            "Mozambique",
            "Philippines (the)",
            "Djibouti",
            "Malawi",
            "Zimbabwe",
            "Lesotho",
            "Eswatini",
            "Moldova (the Republic of)",
            "Timor-Leste"
           ],
           "name": "",
           "type": "choropleth",
           "z": [
            21,
            19,
            15,
            10,
            10,
            9,
            9,
            9,
            7,
            3,
            2
           ]
          }
         ],
         "name": "2007"
        },
        {
         "data": [
          {
           "coloraxis": "coloraxis",
           "geo": "geo",
           "hovertemplate": "Start Year=2008<br>Country=%{location}<br>Droughts=%{z}<extra></extra>",
           "locationmode": "country names",
           "locations": [
            "China",
            "Ethiopia",
            "Kenya",
            "Somalia",
            "Mozambique",
            "Bolivia (Plurinational State of)",
            "Thailand",
            "Djibouti",
            "Madagascar",
            "Uganda",
            "Paraguay",
            "Afghanistan",
            "Burundi",
            "Syrian Arab Republic",
            "Eritrea",
            "Tajikistan"
           ],
           "name": "",
           "type": "choropleth",
           "z": [
            41,
            18,
            17,
            17,
            15,
            13,
            12,
            10,
            10,
            10,
            9,
            8,
            6,
            3,
            3,
            2
           ]
          }
         ],
         "name": "2008"
        },
        {
         "data": [
          {
           "coloraxis": "coloraxis",
           "geo": "geo",
           "hovertemplate": "Start Year=2009<br>Country=%{location}<br>Droughts=%{z}<extra></extra>",
           "locationmode": "country names",
           "locations": [
            "China",
            "China",
            "Ethiopia",
            "Niger (the)",
            "India",
            "Honduras",
            "Chad",
            "Paraguay",
            "Bangladesh",
            "El Salvador",
            "Guatemala",
            "Burundi",
            "Nepal",
            "Ecuador",
            "Argentina",
            "South Sudan",
            "Kyrgyzstan",
            "Venezuela (Bolivarian Republic of)"
           ],
           "name": "",
           "type": "choropleth",
           "z": [
            41,
            41,
            18,
            17,
            16,
            13,
            12,
            9,
            7,
            7,
            7,
            6,
            6,
            4,
            4,
            3,
            1,
            1
           ]
          }
         ],
         "name": "2009"
        },
        {
         "data": [
          {
           "coloraxis": "coloraxis",
           "geo": "geo",
           "hovertemplate": "Start Year=2010<br>Country=%{location}<br>Droughts=%{z}<extra></extra>",
           "locationmode": "country names",
           "locations": [
            "China",
            "Brazil",
            "Somalia",
            "Mauritania",
            "Mozambique",
            "Mali",
            "Bolivia (Plurinational State of)",
            "Thailand",
            "Djibouti",
            "Zimbabwe",
            "Russian Federation (the)",
            "Guyana",
            "Saint Vincent and the Grenadines",
            "Grenada",
            "Barbados",
            "Trinidad and Tobago",
            "Saint Lucia"
           ],
           "name": "",
           "type": "choropleth",
           "z": [
            41,
            21,
            17,
            15,
            15,
            13,
            13,
            12,
            10,
            9,
            5,
            3,
            1,
            1,
            1,
            1,
            1
           ]
          }
         ],
         "name": "2010"
        },
        {
         "data": [
          {
           "coloraxis": "coloraxis",
           "geo": "geo",
           "hovertemplate": "Start Year=2011<br>Country=%{location}<br>Droughts=%{z}<extra></extra>",
           "locationmode": "country names",
           "locations": [
            "United States of America (the)",
            "Ethiopia",
            "Kenya",
            "Kenya",
            "Niger (the)",
            "Mauritania",
            "Burkina Faso",
            "Mali",
            "Thailand",
            "Senegal",
            "Tanzania, United Republic of",
            "Uganda",
            "Lesotho",
            "Afghanistan",
            "Mexico",
            "Burundi",
            "Tuvalu"
           ],
           "name": "",
           "type": "choropleth",
           "z": [
            19,
            18,
            17,
            17,
            17,
            15,
            15,
            13,
            12,
            11,
            11,
            10,
            9,
            8,
            7,
            6,
            2
           ]
          }
         ],
         "name": "2011"
        },
        {
         "data": [
          {
           "coloraxis": "coloraxis",
           "geo": "geo",
           "hovertemplate": "Start Year=2012<br>Country=%{location}<br>Droughts=%{z}<extra></extra>",
           "locationmode": "country names",
           "locations": [
            "Brazil",
            "United States of America (the)",
            "United States of America (the)",
            "Ethiopia",
            "Somalia",
            "Honduras",
            "Sri Lanka",
            "Chad",
            "Thailand",
            "Sudan (the)",
            "Malawi",
            "Angola",
            "Gambia (the)",
            "Paraguay",
            "Guatemala",
            "Cameroon",
            "Italy",
            "Russian Federation (the)",
            "Korea (the Democratic People's Republic of)",
            "Moldova (the Republic of)",
            "Ukraine"
           ],
           "name": "",
           "type": "choropleth",
           "z": [
            21,
            19,
            19,
            18,
            17,
            13,
            12,
            12,
            12,
            10,
            9,
            9,
            9,
            9,
            7,
            6,
            5,
            5,
            4,
            3,
            1
           ]
          }
         ],
         "name": "2012"
        },
        {
         "data": [
          {
           "coloraxis": "coloraxis",
           "geo": "geo",
           "hovertemplate": "Start Year=2013<br>Country=%{location}<br>Droughts=%{z}<extra></extra>",
           "locationmode": "country names",
           "locations": [
            "China",
            "Bolivia (Plurinational State of)",
            "Zimbabwe",
            "Paraguay",
            "Namibia",
            "Panama",
            "Ecuador",
            "Marshall Islands (the)",
            "New Zealand"
           ],
           "name": "",
           "type": "choropleth",
           "z": [
            41,
            13,
            9,
            9,
            9,
            4,
            4,
            3,
            2
           ]
          }
         ],
         "name": "2013"
        },
        {
         "data": [
          {
           "coloraxis": "coloraxis",
           "geo": "geo",
           "hovertemplate": "Start Year=2014<br>Country=%{location}<br>Droughts=%{z}<extra></extra>",
           "locationmode": "country names",
           "locations": [
            "China",
            "China",
            "Brazil",
            "United States of America (the)",
            "Kenya",
            "Somalia",
            "Burkina Faso",
            "Honduras",
            "Bolivia (Plurinational State of)",
            "Sri Lanka",
            "Thailand",
            "Senegal",
            "Madagascar",
            "Haiti",
            "Guatemala",
            "Nicaragua",
            "Jamaica",
            "Malaysia"
           ],
           "name": "",
           "type": "choropleth",
           "z": [
            41,
            41,
            21,
            19,
            17,
            17,
            15,
            13,
            13,
            12,
            12,
            11,
            10,
            9,
            7,
            6,
            4,
            2
           ]
          }
         ],
         "name": "2014"
        },
        {
         "data": [
          {
           "coloraxis": "coloraxis",
           "geo": "geo",
           "hovertemplate": "Start Year=2015<br>Country=%{location}<br>Droughts=%{z}<extra></extra>",
           "locationmode": "country names",
           "locations": [
            "China",
            "United States of America (the)",
            "Ethiopia",
            "Niger (the)",
            "Somalia",
            "India",
            "South Africa",
            "Thailand",
            "Sudan (the)",
            "Philippines (the)",
            "Indonesia",
            "Malawi",
            "Gambia (the)",
            "Namibia",
            "El Salvador",
            "Cuba",
            "Botswana",
            "Viet Nam",
            "Costa Rica",
            "Panama",
            "Korea (the Democratic People's Republic of)",
            "Marshall Islands (the)",
            "Solomon Islands",
            "Papua New Guinea",
            "Fiji",
            "Colombia",
            "Tonga",
            "Samoa",
            "Palau"
           ],
           "name": "",
           "type": "choropleth",
           "z": [
            41,
            19,
            18,
            17,
            17,
            16,
            12,
            12,
            10,
            10,
            10,
            9,
            9,
            9,
            7,
            7,
            7,
            7,
            5,
            4,
            4,
            3,
            3,
            3,
            3,
            2,
            1,
            1,
            1
           ]
          }
         ],
         "name": "2015"
        },
        {
         "data": [
          {
           "coloraxis": "coloraxis",
           "geo": "geo",
           "hovertemplate": "Start Year=2016<br>Country=%{location}<br>Droughts=%{z}<extra></extra>",
           "locationmode": "country names",
           "locations": [
            "China",
            "Kenya",
            "Mozambique",
            "Bolivia (Plurinational State of)",
            "Sri Lanka",
            "Madagascar",
            "Haiti",
            "Paraguay",
            "Lesotho",
            "Eswatini",
            "Cambodia",
            "South Sudan",
            "Timor-Leste",
            "Micronesia (Federated States of)"
           ],
           "name": "",
           "type": "choropleth",
           "z": [
            41,
            17,
            15,
            13,
            12,
            10,
            9,
            9,
            9,
            7,
            6,
            3,
            2,
            2
           ]
          }
         ],
         "name": "2016"
        },
        {
         "data": [
          {
           "coloraxis": "coloraxis",
           "geo": "geo",
           "hovertemplate": "Start Year=2017<br>Country=%{location}<br>Droughts=%{z}<extra></extra>",
           "locationmode": "country names",
           "locations": [
            "China",
            "United States of America (the)",
            "Niger (the)",
            "Mauritania",
            "Chad",
            "South Africa",
            "Cabo Verde",
            "Madagascar",
            "Zimbabwe",
            "Angola",
            "Italy",
            "Korea (the Democratic People's Republic of)"
           ],
           "name": "",
           "type": "choropleth",
           "z": [
            41,
            19,
            17,
            15,
            12,
            12,
            12,
            10,
            9,
            9,
            5,
            4
           ]
          }
         ],
         "name": "2017"
        },
        {
         "data": [
          {
           "coloraxis": "coloraxis",
           "geo": "geo",
           "hovertemplate": "Start Year=2018<br>Country=%{location}<br>Droughts=%{z}<extra></extra>",
           "locationmode": "country names",
           "locations": [
            "United States of America (the)",
            "India",
            "Mauritania",
            "Honduras",
            "Australia",
            "Senegal",
            "Namibia",
            "Afghanistan",
            "El Salvador",
            "Guatemala",
            "Nicaragua",
            "Panama",
            "Argentina",
            "Uruguay",
            "Lithuania",
            "Poland"
           ],
           "name": "",
           "type": "choropleth",
           "z": [
            19,
            16,
            15,
            13,
            11,
            11,
            9,
            8,
            7,
            7,
            6,
            4,
            4,
            3,
            3,
            1
           ]
          }
         ],
         "name": "2018"
        },
        {
         "data": [
          {
           "coloraxis": "coloraxis",
           "geo": "geo",
           "hovertemplate": "Start Year=2019<br>Country=%{location}<br>Droughts=%{z}<extra></extra>",
           "locationmode": "country names",
           "locations": [
            "Kenya",
            "Somalia",
            "Sri Lanka",
            "South Africa",
            "Thailand",
            "Philippines (the)",
            "Lesotho",
            "Botswana",
            "Zambia",
            "Eswatini",
            "Viet Nam",
            "Lao People's Democratic Republic (the)",
            "Costa Rica",
            "Korea (the Democratic People's Republic of)",
            "Argentina",
            "Pakistan"
           ],
           "name": "",
           "type": "choropleth",
           "z": [
            17,
            17,
            12,
            12,
            12,
            10,
            9,
            7,
            7,
            7,
            7,
            6,
            5,
            4,
            4,
            2
           ]
          }
         ],
         "name": "2019"
        },
        {
         "data": [
          {
           "coloraxis": "coloraxis",
           "geo": "geo",
           "hovertemplate": "Start Year=2020<br>Country=%{location}<br>Droughts=%{z}<extra></extra>",
           "locationmode": "country names",
           "locations": [
            "Brazil",
            "United States of America (the)",
            "Kenya",
            "Niger (the)",
            "Mauritania",
            "Mozambique",
            "Burkina Faso",
            "Mali",
            "Madagascar",
            "Angola",
            "Lesotho"
           ],
           "name": "",
           "type": "choropleth",
           "z": [
            21,
            19,
            17,
            17,
            15,
            15,
            15,
            13,
            10,
            9,
            9
           ]
          }
         ],
         "name": "2020"
        },
        {
         "data": [
          {
           "coloraxis": "coloraxis",
           "geo": "geo",
           "hovertemplate": "Start Year=2021<br>Country=%{location}<br>Droughts=%{z}<extra></extra>",
           "locationmode": "country names",
           "locations": [
            "China",
            "Brazil",
            "United States of America (the)",
            "Ethiopia",
            "Somalia",
            "Mozambique",
            "South Africa",
            "Tanzania, United Republic of",
            "Zimbabwe",
            "Afghanistan",
            "Zambia",
            "South Sudan",
            "Syrian Arab Republic",
            "Iraq",
            "Iran (Islamic Republic of)",
            "Tuvalu",
            "Kazakhstan"
           ],
           "name": "",
           "type": "choropleth",
           "z": [
            41,
            21,
            19,
            18,
            17,
            15,
            12,
            11,
            9,
            8,
            7,
            3,
            3,
            3,
            3,
            2,
            1
           ]
          }
         ],
         "name": "2021"
        },
        {
         "data": [
          {
           "coloraxis": "coloraxis",
           "geo": "geo",
           "hovertemplate": "Start Year=2022<br>Country=%{location}<br>Droughts=%{z}<extra></extra>",
           "locationmode": "country names",
           "locations": [
            "China",
            "Brazil",
            "United States of America (the)",
            "Ethiopia",
            "Niger (the)",
            "Burkina Faso",
            "Mali",
            "Chad",
            "Cabo Verde",
            "Sudan (the)",
            "Djibouti",
            "Uganda",
            "Malawi",
            "Cameroon",
            "France",
            "Italy",
            "Portugal",
            "Marshall Islands (the)",
            "Uruguay",
            "Congo (the Democratic Republic of the)",
            "Nigeria",
            "Central African Republic",
            "United Kingdom of Great Britain and Northern Ireland (the)"
           ],
           "name": "",
           "type": "choropleth",
           "z": [
            41,
            21,
            19,
            18,
            17,
            15,
            13,
            12,
            12,
            10,
            10,
            10,
            9,
            6,
            5,
            5,
            4,
            3,
            3,
            3,
            2,
            2,
            1
           ]
          }
         ],
         "name": "2022"
        },
        {
         "data": [
          {
           "coloraxis": "coloraxis",
           "geo": "geo",
           "hovertemplate": "Start Year=2023<br>Country=%{location}<br>Droughts=%{z}<extra></extra>",
           "locationmode": "country names",
           "locations": [
            "Honduras"
           ],
           "name": "",
           "type": "choropleth",
           "z": [
            13
           ]
          }
         ],
         "name": "2023"
        }
       ],
       "layout": {
        "coloraxis": {
         "colorbar": {
          "title": {
           "text": "Droughts"
          }
         },
         "colorscale": [
          [
           0,
           "rgb(255,245,235)"
          ],
          [
           0.125,
           "rgb(254,230,206)"
          ],
          [
           0.25,
           "rgb(253,208,162)"
          ],
          [
           0.375,
           "rgb(253,174,107)"
          ],
          [
           0.5,
           "rgb(253,141,60)"
          ],
          [
           0.625,
           "rgb(241,105,19)"
          ],
          [
           0.75,
           "rgb(217,72,1)"
          ],
          [
           0.875,
           "rgb(166,54,3)"
          ],
          [
           1,
           "rgb(127,39,4)"
          ]
         ]
        },
        "geo": {
         "center": {},
         "domain": {
          "x": [
           0,
           1
          ],
          "y": [
           0,
           1
          ]
         }
        },
        "legend": {
         "tracegroupgap": 0
        },
        "sliders": [
         {
          "active": 0,
          "currentvalue": {
           "prefix": "Start Year="
          },
          "len": 0.9,
          "pad": {
           "b": 10,
           "t": 60
          },
          "steps": [
           {
            "args": [
             [
              "1900"
             ],
             {
              "frame": {
               "duration": 0,
               "redraw": true
              },
              "fromcurrent": true,
              "mode": "immediate",
              "transition": {
               "duration": 0,
               "easing": "linear"
              }
             }
            ],
            "label": "1900",
            "method": "animate"
           },
           {
            "args": [
             [
              "1903"
             ],
             {
              "frame": {
               "duration": 0,
               "redraw": true
              },
              "fromcurrent": true,
              "mode": "immediate",
              "transition": {
               "duration": 0,
               "easing": "linear"
              }
             }
            ],
            "label": "1903",
            "method": "animate"
           },
           {
            "args": [
             [
              "1906"
             ],
             {
              "frame": {
               "duration": 0,
               "redraw": true
              },
              "fromcurrent": true,
              "mode": "immediate",
              "transition": {
               "duration": 0,
               "easing": "linear"
              }
             }
            ],
            "label": "1906",
            "method": "animate"
           },
           {
            "args": [
             [
              "1910"
             ],
             {
              "frame": {
               "duration": 0,
               "redraw": true
              },
              "fromcurrent": true,
              "mode": "immediate",
              "transition": {
               "duration": 0,
               "easing": "linear"
              }
             }
            ],
            "label": "1910",
            "method": "animate"
           },
           {
            "args": [
             [
              "1919"
             ],
             {
              "frame": {
               "duration": 0,
               "redraw": true
              },
              "fromcurrent": true,
              "mode": "immediate",
              "transition": {
               "duration": 0,
               "easing": "linear"
              }
             }
            ],
            "label": "1919",
            "method": "animate"
           },
           {
            "args": [
             [
              "1920"
             ],
             {
              "frame": {
               "duration": 0,
               "redraw": true
              },
              "fromcurrent": true,
              "mode": "immediate",
              "transition": {
               "duration": 0,
               "easing": "linear"
              }
             }
            ],
            "label": "1920",
            "method": "animate"
           },
           {
            "args": [
             [
              "1921"
             ],
             {
              "frame": {
               "duration": 0,
               "redraw": true
              },
              "fromcurrent": true,
              "mode": "immediate",
              "transition": {
               "duration": 0,
               "easing": "linear"
              }
             }
            ],
            "label": "1921",
            "method": "animate"
           },
           {
            "args": [
             [
              "1928"
             ],
             {
              "frame": {
               "duration": 0,
               "redraw": true
              },
              "fromcurrent": true,
              "mode": "immediate",
              "transition": {
               "duration": 0,
               "easing": "linear"
              }
             }
            ],
            "label": "1928",
            "method": "animate"
           },
           {
            "args": [
             [
              "1931"
             ],
             {
              "frame": {
               "duration": 0,
               "redraw": true
              },
              "fromcurrent": true,
              "mode": "immediate",
              "transition": {
               "duration": 0,
               "easing": "linear"
              }
             }
            ],
            "label": "1931",
            "method": "animate"
           },
           {
            "args": [
             [
              "1933"
             ],
             {
              "frame": {
               "duration": 0,
               "redraw": true
              },
              "fromcurrent": true,
              "mode": "immediate",
              "transition": {
               "duration": 0,
               "easing": "linear"
              }
             }
            ],
            "label": "1933",
            "method": "animate"
           },
           {
            "args": [
             [
              "1940"
             ],
             {
              "frame": {
               "duration": 0,
               "redraw": true
              },
              "fromcurrent": true,
              "mode": "immediate",
              "transition": {
               "duration": 0,
               "easing": "linear"
              }
             }
            ],
            "label": "1940",
            "method": "animate"
           },
           {
            "args": [
             [
              "1942"
             ],
             {
              "frame": {
               "duration": 0,
               "redraw": true
              },
              "fromcurrent": true,
              "mode": "immediate",
              "transition": {
               "duration": 0,
               "easing": "linear"
              }
             }
            ],
            "label": "1942",
            "method": "animate"
           },
           {
            "args": [
             [
              "1943"
             ],
             {
              "frame": {
               "duration": 0,
               "redraw": true
              },
              "fromcurrent": true,
              "mode": "immediate",
              "transition": {
               "duration": 0,
               "easing": "linear"
              }
             }
            ],
            "label": "1943",
            "method": "animate"
           },
           {
            "args": [
             [
              "1946"
             ],
             {
              "frame": {
               "duration": 0,
               "redraw": true
              },
              "fromcurrent": true,
              "mode": "immediate",
              "transition": {
               "duration": 0,
               "easing": "linear"
              }
             }
            ],
            "label": "1946",
            "method": "animate"
           },
           {
            "args": [
             [
              "1947"
             ],
             {
              "frame": {
               "duration": 0,
               "redraw": true
              },
              "fromcurrent": true,
              "mode": "immediate",
              "transition": {
               "duration": 0,
               "easing": "linear"
              }
             }
            ],
            "label": "1947",
            "method": "animate"
           },
           {
            "args": [
             [
              "1960"
             ],
             {
              "frame": {
               "duration": 0,
               "redraw": true
              },
              "fromcurrent": true,
              "mode": "immediate",
              "transition": {
               "duration": 0,
               "easing": "linear"
              }
             }
            ],
            "label": "1960",
            "method": "animate"
           },
           {
            "args": [
             [
              "1961"
             ],
             {
              "frame": {
               "duration": 0,
               "redraw": true
              },
              "fromcurrent": true,
              "mode": "immediate",
              "transition": {
               "duration": 0,
               "easing": "linear"
              }
             }
            ],
            "label": "1961",
            "method": "animate"
           },
           {
            "args": [
             [
              "1963"
             ],
             {
              "frame": {
               "duration": 0,
               "redraw": true
              },
              "fromcurrent": true,
              "mode": "immediate",
              "transition": {
               "duration": 0,
               "easing": "linear"
              }
             }
            ],
            "label": "1963",
            "method": "animate"
           },
           {
            "args": [
             [
              "1964"
             ],
             {
              "frame": {
               "duration": 0,
               "redraw": true
              },
              "fromcurrent": true,
              "mode": "immediate",
              "transition": {
               "duration": 0,
               "easing": "linear"
              }
             }
            ],
            "label": "1964",
            "method": "animate"
           },
           {
            "args": [
             [
              "1965"
             ],
             {
              "frame": {
               "duration": 0,
               "redraw": true
              },
              "fromcurrent": true,
              "mode": "immediate",
              "transition": {
               "duration": 0,
               "easing": "linear"
              }
             }
            ],
            "label": "1965",
            "method": "animate"
           },
           {
            "args": [
             [
              "1966"
             ],
             {
              "frame": {
               "duration": 0,
               "redraw": true
              },
              "fromcurrent": true,
              "mode": "immediate",
              "transition": {
               "duration": 0,
               "easing": "linear"
              }
             }
            ],
            "label": "1966",
            "method": "animate"
           },
           {
            "args": [
             [
              "1967"
             ],
             {
              "frame": {
               "duration": 0,
               "redraw": true
              },
              "fromcurrent": true,
              "mode": "immediate",
              "transition": {
               "duration": 0,
               "easing": "linear"
              }
             }
            ],
            "label": "1967",
            "method": "animate"
           },
           {
            "args": [
             [
              "1968"
             ],
             {
              "frame": {
               "duration": 0,
               "redraw": true
              },
              "fromcurrent": true,
              "mode": "immediate",
              "transition": {
               "duration": 0,
               "easing": "linear"
              }
             }
            ],
            "label": "1968",
            "method": "animate"
           },
           {
            "args": [
             [
              "1969"
             ],
             {
              "frame": {
               "duration": 0,
               "redraw": true
              },
              "fromcurrent": true,
              "mode": "immediate",
              "transition": {
               "duration": 0,
               "easing": "linear"
              }
             }
            ],
            "label": "1969",
            "method": "animate"
           },
           {
            "args": [
             [
              "1970"
             ],
             {
              "frame": {
               "duration": 0,
               "redraw": true
              },
              "fromcurrent": true,
              "mode": "immediate",
              "transition": {
               "duration": 0,
               "easing": "linear"
              }
             }
            ],
            "label": "1970",
            "method": "animate"
           },
           {
            "args": [
             [
              "1971"
             ],
             {
              "frame": {
               "duration": 0,
               "redraw": true
              },
              "fromcurrent": true,
              "mode": "immediate",
              "transition": {
               "duration": 0,
               "easing": "linear"
              }
             }
            ],
            "label": "1971",
            "method": "animate"
           },
           {
            "args": [
             [
              "1972"
             ],
             {
              "frame": {
               "duration": 0,
               "redraw": true
              },
              "fromcurrent": true,
              "mode": "immediate",
              "transition": {
               "duration": 0,
               "easing": "linear"
              }
             }
            ],
            "label": "1972",
            "method": "animate"
           },
           {
            "args": [
             [
              "1973"
             ],
             {
              "frame": {
               "duration": 0,
               "redraw": true
              },
              "fromcurrent": true,
              "mode": "immediate",
              "transition": {
               "duration": 0,
               "easing": "linear"
              }
             }
            ],
            "label": "1973",
            "method": "animate"
           },
           {
            "args": [
             [
              "1974"
             ],
             {
              "frame": {
               "duration": 0,
               "redraw": true
              },
              "fromcurrent": true,
              "mode": "immediate",
              "transition": {
               "duration": 0,
               "easing": "linear"
              }
             }
            ],
            "label": "1974",
            "method": "animate"
           },
           {
            "args": [
             [
              "1975"
             ],
             {
              "frame": {
               "duration": 0,
               "redraw": true
              },
              "fromcurrent": true,
              "mode": "immediate",
              "transition": {
               "duration": 0,
               "easing": "linear"
              }
             }
            ],
            "label": "1975",
            "method": "animate"
           },
           {
            "args": [
             [
              "1976"
             ],
             {
              "frame": {
               "duration": 0,
               "redraw": true
              },
              "fromcurrent": true,
              "mode": "immediate",
              "transition": {
               "duration": 0,
               "easing": "linear"
              }
             }
            ],
            "label": "1976",
            "method": "animate"
           },
           {
            "args": [
             [
              "1977"
             ],
             {
              "frame": {
               "duration": 0,
               "redraw": true
              },
              "fromcurrent": true,
              "mode": "immediate",
              "transition": {
               "duration": 0,
               "easing": "linear"
              }
             }
            ],
            "label": "1977",
            "method": "animate"
           },
           {
            "args": [
             [
              "1978"
             ],
             {
              "frame": {
               "duration": 0,
               "redraw": true
              },
              "fromcurrent": true,
              "mode": "immediate",
              "transition": {
               "duration": 0,
               "easing": "linear"
              }
             }
            ],
            "label": "1978",
            "method": "animate"
           },
           {
            "args": [
             [
              "1979"
             ],
             {
              "frame": {
               "duration": 0,
               "redraw": true
              },
              "fromcurrent": true,
              "mode": "immediate",
              "transition": {
               "duration": 0,
               "easing": "linear"
              }
             }
            ],
            "label": "1979",
            "method": "animate"
           },
           {
            "args": [
             [
              "1980"
             ],
             {
              "frame": {
               "duration": 0,
               "redraw": true
              },
              "fromcurrent": true,
              "mode": "immediate",
              "transition": {
               "duration": 0,
               "easing": "linear"
              }
             }
            ],
            "label": "1980",
            "method": "animate"
           },
           {
            "args": [
             [
              "1981"
             ],
             {
              "frame": {
               "duration": 0,
               "redraw": true
              },
              "fromcurrent": true,
              "mode": "immediate",
              "transition": {
               "duration": 0,
               "easing": "linear"
              }
             }
            ],
            "label": "1981",
            "method": "animate"
           },
           {
            "args": [
             [
              "1982"
             ],
             {
              "frame": {
               "duration": 0,
               "redraw": true
              },
              "fromcurrent": true,
              "mode": "immediate",
              "transition": {
               "duration": 0,
               "easing": "linear"
              }
             }
            ],
            "label": "1982",
            "method": "animate"
           },
           {
            "args": [
             [
              "1983"
             ],
             {
              "frame": {
               "duration": 0,
               "redraw": true
              },
              "fromcurrent": true,
              "mode": "immediate",
              "transition": {
               "duration": 0,
               "easing": "linear"
              }
             }
            ],
            "label": "1983",
            "method": "animate"
           },
           {
            "args": [
             [
              "1984"
             ],
             {
              "frame": {
               "duration": 0,
               "redraw": true
              },
              "fromcurrent": true,
              "mode": "immediate",
              "transition": {
               "duration": 0,
               "easing": "linear"
              }
             }
            ],
            "label": "1984",
            "method": "animate"
           },
           {
            "args": [
             [
              "1985"
             ],
             {
              "frame": {
               "duration": 0,
               "redraw": true
              },
              "fromcurrent": true,
              "mode": "immediate",
              "transition": {
               "duration": 0,
               "easing": "linear"
              }
             }
            ],
            "label": "1985",
            "method": "animate"
           },
           {
            "args": [
             [
              "1986"
             ],
             {
              "frame": {
               "duration": 0,
               "redraw": true
              },
              "fromcurrent": true,
              "mode": "immediate",
              "transition": {
               "duration": 0,
               "easing": "linear"
              }
             }
            ],
            "label": "1986",
            "method": "animate"
           },
           {
            "args": [
             [
              "1987"
             ],
             {
              "frame": {
               "duration": 0,
               "redraw": true
              },
              "fromcurrent": true,
              "mode": "immediate",
              "transition": {
               "duration": 0,
               "easing": "linear"
              }
             }
            ],
            "label": "1987",
            "method": "animate"
           },
           {
            "args": [
             [
              "1988"
             ],
             {
              "frame": {
               "duration": 0,
               "redraw": true
              },
              "fromcurrent": true,
              "mode": "immediate",
              "transition": {
               "duration": 0,
               "easing": "linear"
              }
             }
            ],
            "label": "1988",
            "method": "animate"
           },
           {
            "args": [
             [
              "1989"
             ],
             {
              "frame": {
               "duration": 0,
               "redraw": true
              },
              "fromcurrent": true,
              "mode": "immediate",
              "transition": {
               "duration": 0,
               "easing": "linear"
              }
             }
            ],
            "label": "1989",
            "method": "animate"
           },
           {
            "args": [
             [
              "1990"
             ],
             {
              "frame": {
               "duration": 0,
               "redraw": true
              },
              "fromcurrent": true,
              "mode": "immediate",
              "transition": {
               "duration": 0,
               "easing": "linear"
              }
             }
            ],
            "label": "1990",
            "method": "animate"
           },
           {
            "args": [
             [
              "1991"
             ],
             {
              "frame": {
               "duration": 0,
               "redraw": true
              },
              "fromcurrent": true,
              "mode": "immediate",
              "transition": {
               "duration": 0,
               "easing": "linear"
              }
             }
            ],
            "label": "1991",
            "method": "animate"
           },
           {
            "args": [
             [
              "1992"
             ],
             {
              "frame": {
               "duration": 0,
               "redraw": true
              },
              "fromcurrent": true,
              "mode": "immediate",
              "transition": {
               "duration": 0,
               "easing": "linear"
              }
             }
            ],
            "label": "1992",
            "method": "animate"
           },
           {
            "args": [
             [
              "1993"
             ],
             {
              "frame": {
               "duration": 0,
               "redraw": true
              },
              "fromcurrent": true,
              "mode": "immediate",
              "transition": {
               "duration": 0,
               "easing": "linear"
              }
             }
            ],
            "label": "1993",
            "method": "animate"
           },
           {
            "args": [
             [
              "1994"
             ],
             {
              "frame": {
               "duration": 0,
               "redraw": true
              },
              "fromcurrent": true,
              "mode": "immediate",
              "transition": {
               "duration": 0,
               "easing": "linear"
              }
             }
            ],
            "label": "1994",
            "method": "animate"
           },
           {
            "args": [
             [
              "1995"
             ],
             {
              "frame": {
               "duration": 0,
               "redraw": true
              },
              "fromcurrent": true,
              "mode": "immediate",
              "transition": {
               "duration": 0,
               "easing": "linear"
              }
             }
            ],
            "label": "1995",
            "method": "animate"
           },
           {
            "args": [
             [
              "1996"
             ],
             {
              "frame": {
               "duration": 0,
               "redraw": true
              },
              "fromcurrent": true,
              "mode": "immediate",
              "transition": {
               "duration": 0,
               "easing": "linear"
              }
             }
            ],
            "label": "1996",
            "method": "animate"
           },
           {
            "args": [
             [
              "1997"
             ],
             {
              "frame": {
               "duration": 0,
               "redraw": true
              },
              "fromcurrent": true,
              "mode": "immediate",
              "transition": {
               "duration": 0,
               "easing": "linear"
              }
             }
            ],
            "label": "1997",
            "method": "animate"
           },
           {
            "args": [
             [
              "1998"
             ],
             {
              "frame": {
               "duration": 0,
               "redraw": true
              },
              "fromcurrent": true,
              "mode": "immediate",
              "transition": {
               "duration": 0,
               "easing": "linear"
              }
             }
            ],
            "label": "1998",
            "method": "animate"
           },
           {
            "args": [
             [
              "1999"
             ],
             {
              "frame": {
               "duration": 0,
               "redraw": true
              },
              "fromcurrent": true,
              "mode": "immediate",
              "transition": {
               "duration": 0,
               "easing": "linear"
              }
             }
            ],
            "label": "1999",
            "method": "animate"
           },
           {
            "args": [
             [
              "2000"
             ],
             {
              "frame": {
               "duration": 0,
               "redraw": true
              },
              "fromcurrent": true,
              "mode": "immediate",
              "transition": {
               "duration": 0,
               "easing": "linear"
              }
             }
            ],
            "label": "2000",
            "method": "animate"
           },
           {
            "args": [
             [
              "2001"
             ],
             {
              "frame": {
               "duration": 0,
               "redraw": true
              },
              "fromcurrent": true,
              "mode": "immediate",
              "transition": {
               "duration": 0,
               "easing": "linear"
              }
             }
            ],
            "label": "2001",
            "method": "animate"
           },
           {
            "args": [
             [
              "2002"
             ],
             {
              "frame": {
               "duration": 0,
               "redraw": true
              },
              "fromcurrent": true,
              "mode": "immediate",
              "transition": {
               "duration": 0,
               "easing": "linear"
              }
             }
            ],
            "label": "2002",
            "method": "animate"
           },
           {
            "args": [
             [
              "2003"
             ],
             {
              "frame": {
               "duration": 0,
               "redraw": true
              },
              "fromcurrent": true,
              "mode": "immediate",
              "transition": {
               "duration": 0,
               "easing": "linear"
              }
             }
            ],
            "label": "2003",
            "method": "animate"
           },
           {
            "args": [
             [
              "2004"
             ],
             {
              "frame": {
               "duration": 0,
               "redraw": true
              },
              "fromcurrent": true,
              "mode": "immediate",
              "transition": {
               "duration": 0,
               "easing": "linear"
              }
             }
            ],
            "label": "2004",
            "method": "animate"
           },
           {
            "args": [
             [
              "2005"
             ],
             {
              "frame": {
               "duration": 0,
               "redraw": true
              },
              "fromcurrent": true,
              "mode": "immediate",
              "transition": {
               "duration": 0,
               "easing": "linear"
              }
             }
            ],
            "label": "2005",
            "method": "animate"
           },
           {
            "args": [
             [
              "2006"
             ],
             {
              "frame": {
               "duration": 0,
               "redraw": true
              },
              "fromcurrent": true,
              "mode": "immediate",
              "transition": {
               "duration": 0,
               "easing": "linear"
              }
             }
            ],
            "label": "2006",
            "method": "animate"
           },
           {
            "args": [
             [
              "2007"
             ],
             {
              "frame": {
               "duration": 0,
               "redraw": true
              },
              "fromcurrent": true,
              "mode": "immediate",
              "transition": {
               "duration": 0,
               "easing": "linear"
              }
             }
            ],
            "label": "2007",
            "method": "animate"
           },
           {
            "args": [
             [
              "2008"
             ],
             {
              "frame": {
               "duration": 0,
               "redraw": true
              },
              "fromcurrent": true,
              "mode": "immediate",
              "transition": {
               "duration": 0,
               "easing": "linear"
              }
             }
            ],
            "label": "2008",
            "method": "animate"
           },
           {
            "args": [
             [
              "2009"
             ],
             {
              "frame": {
               "duration": 0,
               "redraw": true
              },
              "fromcurrent": true,
              "mode": "immediate",
              "transition": {
               "duration": 0,
               "easing": "linear"
              }
             }
            ],
            "label": "2009",
            "method": "animate"
           },
           {
            "args": [
             [
              "2010"
             ],
             {
              "frame": {
               "duration": 0,
               "redraw": true
              },
              "fromcurrent": true,
              "mode": "immediate",
              "transition": {
               "duration": 0,
               "easing": "linear"
              }
             }
            ],
            "label": "2010",
            "method": "animate"
           },
           {
            "args": [
             [
              "2011"
             ],
             {
              "frame": {
               "duration": 0,
               "redraw": true
              },
              "fromcurrent": true,
              "mode": "immediate",
              "transition": {
               "duration": 0,
               "easing": "linear"
              }
             }
            ],
            "label": "2011",
            "method": "animate"
           },
           {
            "args": [
             [
              "2012"
             ],
             {
              "frame": {
               "duration": 0,
               "redraw": true
              },
              "fromcurrent": true,
              "mode": "immediate",
              "transition": {
               "duration": 0,
               "easing": "linear"
              }
             }
            ],
            "label": "2012",
            "method": "animate"
           },
           {
            "args": [
             [
              "2013"
             ],
             {
              "frame": {
               "duration": 0,
               "redraw": true
              },
              "fromcurrent": true,
              "mode": "immediate",
              "transition": {
               "duration": 0,
               "easing": "linear"
              }
             }
            ],
            "label": "2013",
            "method": "animate"
           },
           {
            "args": [
             [
              "2014"
             ],
             {
              "frame": {
               "duration": 0,
               "redraw": true
              },
              "fromcurrent": true,
              "mode": "immediate",
              "transition": {
               "duration": 0,
               "easing": "linear"
              }
             }
            ],
            "label": "2014",
            "method": "animate"
           },
           {
            "args": [
             [
              "2015"
             ],
             {
              "frame": {
               "duration": 0,
               "redraw": true
              },
              "fromcurrent": true,
              "mode": "immediate",
              "transition": {
               "duration": 0,
               "easing": "linear"
              }
             }
            ],
            "label": "2015",
            "method": "animate"
           },
           {
            "args": [
             [
              "2016"
             ],
             {
              "frame": {
               "duration": 0,
               "redraw": true
              },
              "fromcurrent": true,
              "mode": "immediate",
              "transition": {
               "duration": 0,
               "easing": "linear"
              }
             }
            ],
            "label": "2016",
            "method": "animate"
           },
           {
            "args": [
             [
              "2017"
             ],
             {
              "frame": {
               "duration": 0,
               "redraw": true
              },
              "fromcurrent": true,
              "mode": "immediate",
              "transition": {
               "duration": 0,
               "easing": "linear"
              }
             }
            ],
            "label": "2017",
            "method": "animate"
           },
           {
            "args": [
             [
              "2018"
             ],
             {
              "frame": {
               "duration": 0,
               "redraw": true
              },
              "fromcurrent": true,
              "mode": "immediate",
              "transition": {
               "duration": 0,
               "easing": "linear"
              }
             }
            ],
            "label": "2018",
            "method": "animate"
           },
           {
            "args": [
             [
              "2019"
             ],
             {
              "frame": {
               "duration": 0,
               "redraw": true
              },
              "fromcurrent": true,
              "mode": "immediate",
              "transition": {
               "duration": 0,
               "easing": "linear"
              }
             }
            ],
            "label": "2019",
            "method": "animate"
           },
           {
            "args": [
             [
              "2020"
             ],
             {
              "frame": {
               "duration": 0,
               "redraw": true
              },
              "fromcurrent": true,
              "mode": "immediate",
              "transition": {
               "duration": 0,
               "easing": "linear"
              }
             }
            ],
            "label": "2020",
            "method": "animate"
           },
           {
            "args": [
             [
              "2021"
             ],
             {
              "frame": {
               "duration": 0,
               "redraw": true
              },
              "fromcurrent": true,
              "mode": "immediate",
              "transition": {
               "duration": 0,
               "easing": "linear"
              }
             }
            ],
            "label": "2021",
            "method": "animate"
           },
           {
            "args": [
             [
              "2022"
             ],
             {
              "frame": {
               "duration": 0,
               "redraw": true
              },
              "fromcurrent": true,
              "mode": "immediate",
              "transition": {
               "duration": 0,
               "easing": "linear"
              }
             }
            ],
            "label": "2022",
            "method": "animate"
           },
           {
            "args": [
             [
              "2023"
             ],
             {
              "frame": {
               "duration": 0,
               "redraw": true
              },
              "fromcurrent": true,
              "mode": "immediate",
              "transition": {
               "duration": 0,
               "easing": "linear"
              }
             }
            ],
            "label": "2023",
            "method": "animate"
           }
          ],
          "x": 0.1,
          "xanchor": "left",
          "y": 0,
          "yanchor": "top"
         }
        ],
        "template": {
         "data": {
          "bar": [
           {
            "error_x": {
             "color": "#2a3f5f"
            },
            "error_y": {
             "color": "#2a3f5f"
            },
            "marker": {
             "line": {
              "color": "#E5ECF6",
              "width": 0.5
             },
             "pattern": {
              "fillmode": "overlay",
              "size": 10,
              "solidity": 0.2
             }
            },
            "type": "bar"
           }
          ],
          "barpolar": [
           {
            "marker": {
             "line": {
              "color": "#E5ECF6",
              "width": 0.5
             },
             "pattern": {
              "fillmode": "overlay",
              "size": 10,
              "solidity": 0.2
             }
            },
            "type": "barpolar"
           }
          ],
          "carpet": [
           {
            "aaxis": {
             "endlinecolor": "#2a3f5f",
             "gridcolor": "white",
             "linecolor": "white",
             "minorgridcolor": "white",
             "startlinecolor": "#2a3f5f"
            },
            "baxis": {
             "endlinecolor": "#2a3f5f",
             "gridcolor": "white",
             "linecolor": "white",
             "minorgridcolor": "white",
             "startlinecolor": "#2a3f5f"
            },
            "type": "carpet"
           }
          ],
          "choropleth": [
           {
            "colorbar": {
             "outlinewidth": 0,
             "ticks": ""
            },
            "type": "choropleth"
           }
          ],
          "contour": [
           {
            "colorbar": {
             "outlinewidth": 0,
             "ticks": ""
            },
            "colorscale": [
             [
              0,
              "#0d0887"
             ],
             [
              0.1111111111111111,
              "#46039f"
             ],
             [
              0.2222222222222222,
              "#7201a8"
             ],
             [
              0.3333333333333333,
              "#9c179e"
             ],
             [
              0.4444444444444444,
              "#bd3786"
             ],
             [
              0.5555555555555556,
              "#d8576b"
             ],
             [
              0.6666666666666666,
              "#ed7953"
             ],
             [
              0.7777777777777778,
              "#fb9f3a"
             ],
             [
              0.8888888888888888,
              "#fdca26"
             ],
             [
              1,
              "#f0f921"
             ]
            ],
            "type": "contour"
           }
          ],
          "contourcarpet": [
           {
            "colorbar": {
             "outlinewidth": 0,
             "ticks": ""
            },
            "type": "contourcarpet"
           }
          ],
          "heatmap": [
           {
            "colorbar": {
             "outlinewidth": 0,
             "ticks": ""
            },
            "colorscale": [
             [
              0,
              "#0d0887"
             ],
             [
              0.1111111111111111,
              "#46039f"
             ],
             [
              0.2222222222222222,
              "#7201a8"
             ],
             [
              0.3333333333333333,
              "#9c179e"
             ],
             [
              0.4444444444444444,
              "#bd3786"
             ],
             [
              0.5555555555555556,
              "#d8576b"
             ],
             [
              0.6666666666666666,
              "#ed7953"
             ],
             [
              0.7777777777777778,
              "#fb9f3a"
             ],
             [
              0.8888888888888888,
              "#fdca26"
             ],
             [
              1,
              "#f0f921"
             ]
            ],
            "type": "heatmap"
           }
          ],
          "heatmapgl": [
           {
            "colorbar": {
             "outlinewidth": 0,
             "ticks": ""
            },
            "colorscale": [
             [
              0,
              "#0d0887"
             ],
             [
              0.1111111111111111,
              "#46039f"
             ],
             [
              0.2222222222222222,
              "#7201a8"
             ],
             [
              0.3333333333333333,
              "#9c179e"
             ],
             [
              0.4444444444444444,
              "#bd3786"
             ],
             [
              0.5555555555555556,
              "#d8576b"
             ],
             [
              0.6666666666666666,
              "#ed7953"
             ],
             [
              0.7777777777777778,
              "#fb9f3a"
             ],
             [
              0.8888888888888888,
              "#fdca26"
             ],
             [
              1,
              "#f0f921"
             ]
            ],
            "type": "heatmapgl"
           }
          ],
          "histogram": [
           {
            "marker": {
             "pattern": {
              "fillmode": "overlay",
              "size": 10,
              "solidity": 0.2
             }
            },
            "type": "histogram"
           }
          ],
          "histogram2d": [
           {
            "colorbar": {
             "outlinewidth": 0,
             "ticks": ""
            },
            "colorscale": [
             [
              0,
              "#0d0887"
             ],
             [
              0.1111111111111111,
              "#46039f"
             ],
             [
              0.2222222222222222,
              "#7201a8"
             ],
             [
              0.3333333333333333,
              "#9c179e"
             ],
             [
              0.4444444444444444,
              "#bd3786"
             ],
             [
              0.5555555555555556,
              "#d8576b"
             ],
             [
              0.6666666666666666,
              "#ed7953"
             ],
             [
              0.7777777777777778,
              "#fb9f3a"
             ],
             [
              0.8888888888888888,
              "#fdca26"
             ],
             [
              1,
              "#f0f921"
             ]
            ],
            "type": "histogram2d"
           }
          ],
          "histogram2dcontour": [
           {
            "colorbar": {
             "outlinewidth": 0,
             "ticks": ""
            },
            "colorscale": [
             [
              0,
              "#0d0887"
             ],
             [
              0.1111111111111111,
              "#46039f"
             ],
             [
              0.2222222222222222,
              "#7201a8"
             ],
             [
              0.3333333333333333,
              "#9c179e"
             ],
             [
              0.4444444444444444,
              "#bd3786"
             ],
             [
              0.5555555555555556,
              "#d8576b"
             ],
             [
              0.6666666666666666,
              "#ed7953"
             ],
             [
              0.7777777777777778,
              "#fb9f3a"
             ],
             [
              0.8888888888888888,
              "#fdca26"
             ],
             [
              1,
              "#f0f921"
             ]
            ],
            "type": "histogram2dcontour"
           }
          ],
          "mesh3d": [
           {
            "colorbar": {
             "outlinewidth": 0,
             "ticks": ""
            },
            "type": "mesh3d"
           }
          ],
          "parcoords": [
           {
            "line": {
             "colorbar": {
              "outlinewidth": 0,
              "ticks": ""
             }
            },
            "type": "parcoords"
           }
          ],
          "pie": [
           {
            "automargin": true,
            "type": "pie"
           }
          ],
          "scatter": [
           {
            "fillpattern": {
             "fillmode": "overlay",
             "size": 10,
             "solidity": 0.2
            },
            "type": "scatter"
           }
          ],
          "scatter3d": [
           {
            "line": {
             "colorbar": {
              "outlinewidth": 0,
              "ticks": ""
             }
            },
            "marker": {
             "colorbar": {
              "outlinewidth": 0,
              "ticks": ""
             }
            },
            "type": "scatter3d"
           }
          ],
          "scattercarpet": [
           {
            "marker": {
             "colorbar": {
              "outlinewidth": 0,
              "ticks": ""
             }
            },
            "type": "scattercarpet"
           }
          ],
          "scattergeo": [
           {
            "marker": {
             "colorbar": {
              "outlinewidth": 0,
              "ticks": ""
             }
            },
            "type": "scattergeo"
           }
          ],
          "scattergl": [
           {
            "marker": {
             "colorbar": {
              "outlinewidth": 0,
              "ticks": ""
             }
            },
            "type": "scattergl"
           }
          ],
          "scattermapbox": [
           {
            "marker": {
             "colorbar": {
              "outlinewidth": 0,
              "ticks": ""
             }
            },
            "type": "scattermapbox"
           }
          ],
          "scatterpolar": [
           {
            "marker": {
             "colorbar": {
              "outlinewidth": 0,
              "ticks": ""
             }
            },
            "type": "scatterpolar"
           }
          ],
          "scatterpolargl": [
           {
            "marker": {
             "colorbar": {
              "outlinewidth": 0,
              "ticks": ""
             }
            },
            "type": "scatterpolargl"
           }
          ],
          "scatterternary": [
           {
            "marker": {
             "colorbar": {
              "outlinewidth": 0,
              "ticks": ""
             }
            },
            "type": "scatterternary"
           }
          ],
          "surface": [
           {
            "colorbar": {
             "outlinewidth": 0,
             "ticks": ""
            },
            "colorscale": [
             [
              0,
              "#0d0887"
             ],
             [
              0.1111111111111111,
              "#46039f"
             ],
             [
              0.2222222222222222,
              "#7201a8"
             ],
             [
              0.3333333333333333,
              "#9c179e"
             ],
             [
              0.4444444444444444,
              "#bd3786"
             ],
             [
              0.5555555555555556,
              "#d8576b"
             ],
             [
              0.6666666666666666,
              "#ed7953"
             ],
             [
              0.7777777777777778,
              "#fb9f3a"
             ],
             [
              0.8888888888888888,
              "#fdca26"
             ],
             [
              1,
              "#f0f921"
             ]
            ],
            "type": "surface"
           }
          ],
          "table": [
           {
            "cells": {
             "fill": {
              "color": "#EBF0F8"
             },
             "line": {
              "color": "white"
             }
            },
            "header": {
             "fill": {
              "color": "#C8D4E3"
             },
             "line": {
              "color": "white"
             }
            },
            "type": "table"
           }
          ]
         },
         "layout": {
          "annotationdefaults": {
           "arrowcolor": "#2a3f5f",
           "arrowhead": 0,
           "arrowwidth": 1
          },
          "autotypenumbers": "strict",
          "coloraxis": {
           "colorbar": {
            "outlinewidth": 0,
            "ticks": ""
           }
          },
          "colorscale": {
           "diverging": [
            [
             0,
             "#8e0152"
            ],
            [
             0.1,
             "#c51b7d"
            ],
            [
             0.2,
             "#de77ae"
            ],
            [
             0.3,
             "#f1b6da"
            ],
            [
             0.4,
             "#fde0ef"
            ],
            [
             0.5,
             "#f7f7f7"
            ],
            [
             0.6,
             "#e6f5d0"
            ],
            [
             0.7,
             "#b8e186"
            ],
            [
             0.8,
             "#7fbc41"
            ],
            [
             0.9,
             "#4d9221"
            ],
            [
             1,
             "#276419"
            ]
           ],
           "sequential": [
            [
             0,
             "#0d0887"
            ],
            [
             0.1111111111111111,
             "#46039f"
            ],
            [
             0.2222222222222222,
             "#7201a8"
            ],
            [
             0.3333333333333333,
             "#9c179e"
            ],
            [
             0.4444444444444444,
             "#bd3786"
            ],
            [
             0.5555555555555556,
             "#d8576b"
            ],
            [
             0.6666666666666666,
             "#ed7953"
            ],
            [
             0.7777777777777778,
             "#fb9f3a"
            ],
            [
             0.8888888888888888,
             "#fdca26"
            ],
            [
             1,
             "#f0f921"
            ]
           ],
           "sequentialminus": [
            [
             0,
             "#0d0887"
            ],
            [
             0.1111111111111111,
             "#46039f"
            ],
            [
             0.2222222222222222,
             "#7201a8"
            ],
            [
             0.3333333333333333,
             "#9c179e"
            ],
            [
             0.4444444444444444,
             "#bd3786"
            ],
            [
             0.5555555555555556,
             "#d8576b"
            ],
            [
             0.6666666666666666,
             "#ed7953"
            ],
            [
             0.7777777777777778,
             "#fb9f3a"
            ],
            [
             0.8888888888888888,
             "#fdca26"
            ],
            [
             1,
             "#f0f921"
            ]
           ]
          },
          "colorway": [
           "#636efa",
           "#EF553B",
           "#00cc96",
           "#ab63fa",
           "#FFA15A",
           "#19d3f3",
           "#FF6692",
           "#B6E880",
           "#FF97FF",
           "#FECB52"
          ],
          "font": {
           "color": "#2a3f5f"
          },
          "geo": {
           "bgcolor": "white",
           "lakecolor": "white",
           "landcolor": "#E5ECF6",
           "showlakes": true,
           "showland": true,
           "subunitcolor": "white"
          },
          "hoverlabel": {
           "align": "left"
          },
          "hovermode": "closest",
          "mapbox": {
           "style": "light"
          },
          "paper_bgcolor": "white",
          "plot_bgcolor": "#E5ECF6",
          "polar": {
           "angularaxis": {
            "gridcolor": "white",
            "linecolor": "white",
            "ticks": ""
           },
           "bgcolor": "#E5ECF6",
           "radialaxis": {
            "gridcolor": "white",
            "linecolor": "white",
            "ticks": ""
           }
          },
          "scene": {
           "xaxis": {
            "backgroundcolor": "#E5ECF6",
            "gridcolor": "white",
            "gridwidth": 2,
            "linecolor": "white",
            "showbackground": true,
            "ticks": "",
            "zerolinecolor": "white"
           },
           "yaxis": {
            "backgroundcolor": "#E5ECF6",
            "gridcolor": "white",
            "gridwidth": 2,
            "linecolor": "white",
            "showbackground": true,
            "ticks": "",
            "zerolinecolor": "white"
           },
           "zaxis": {
            "backgroundcolor": "#E5ECF6",
            "gridcolor": "white",
            "gridwidth": 2,
            "linecolor": "white",
            "showbackground": true,
            "ticks": "",
            "zerolinecolor": "white"
           }
          },
          "shapedefaults": {
           "line": {
            "color": "#2a3f5f"
           }
          },
          "ternary": {
           "aaxis": {
            "gridcolor": "white",
            "linecolor": "white",
            "ticks": ""
           },
           "baxis": {
            "gridcolor": "white",
            "linecolor": "white",
            "ticks": ""
           },
           "bgcolor": "#E5ECF6",
           "caxis": {
            "gridcolor": "white",
            "linecolor": "white",
            "ticks": ""
           }
          },
          "title": {
           "x": 0.05
          },
          "xaxis": {
           "automargin": true,
           "gridcolor": "white",
           "linecolor": "white",
           "ticks": "",
           "title": {
            "standoff": 15
           },
           "zerolinecolor": "white",
           "zerolinewidth": 2
          },
          "yaxis": {
           "automargin": true,
           "gridcolor": "white",
           "linecolor": "white",
           "ticks": "",
           "title": {
            "standoff": 15
           },
           "zerolinecolor": "white",
           "zerolinewidth": 2
          }
         }
        },
        "title": {
         "text": "Number of droughts by country and year"
        },
        "updatemenus": [
         {
          "buttons": [
           {
            "args": [
             null,
             {
              "frame": {
               "duration": 500,
               "redraw": true
              },
              "fromcurrent": true,
              "mode": "immediate",
              "transition": {
               "duration": 500,
               "easing": "linear"
              }
             }
            ],
            "label": "&#9654;",
            "method": "animate"
           },
           {
            "args": [
             [
              null
             ],
             {
              "frame": {
               "duration": 0,
               "redraw": true
              },
              "fromcurrent": true,
              "mode": "immediate",
              "transition": {
               "duration": 0,
               "easing": "linear"
              }
             }
            ],
            "label": "&#9724;",
            "method": "animate"
           }
          ],
          "direction": "left",
          "pad": {
           "r": 10,
           "t": 70
          },
          "showactive": false,
          "type": "buttons",
          "x": 0.1,
          "xanchor": "right",
          "y": 0,
          "yanchor": "top"
         }
        ]
       }
      }
     },
     "metadata": {},
     "output_type": "display_data"
    }
   ],
   "source": [
    "fig = px.choropleth(data_frame=df3,\n",
    "                    locationmode=\"country names\",\n",
    "                    locations=\"Country\",\n",
    "                    color=\"Droughts\",\n",
    "                    color_continuous_scale=\"Oranges\",\n",
    "                    title=\"Number of droughts by country and year\",\n",
    "                    animation_frame=\"Start Year\",\n",
    "                    category_orders={\"Start Year\": sorted(df3[\"Start Year\"].unique())})\n",
    "\n",
    "fig.show()"
   ]
  },
  {
   "cell_type": "markdown",
   "metadata": {},
   "source": []
  }
 ],
 "metadata": {
  "kernelspec": {
   "display_name": "Python 3",
   "language": "python",
   "name": "python3"
  },
  "language_info": {
   "codemirror_mode": {
    "name": "ipython",
    "version": 3
   },
   "file_extension": ".py",
   "mimetype": "text/x-python",
   "name": "python",
   "nbconvert_exporter": "python",
   "pygments_lexer": "ipython3",
   "version": "3.10.11"
  },
  "orig_nbformat": 4
 },
 "nbformat": 4,
 "nbformat_minor": 2
}

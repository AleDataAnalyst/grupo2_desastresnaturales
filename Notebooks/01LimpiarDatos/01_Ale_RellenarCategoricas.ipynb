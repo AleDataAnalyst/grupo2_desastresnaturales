{
 "cells": [
  {
   "attachments": {},
   "cell_type": "markdown",
   "metadata": {},
   "source": [
    "# Rellenar NaN de variables categóricas"
   ]
  },
  {
   "attachments": {},
   "cell_type": "markdown",
   "metadata": {},
   "source": [
    "Usando dataset ../../Data/02ParaLimpiar/02desastres_paralimpiar.csv"
   ]
  },
  {
   "attachments": {},
   "cell_type": "markdown",
   "metadata": {},
   "source": [
    "## Observaciones importantes"
   ]
  },
  {
   "attachments": {},
   "cell_type": "markdown",
   "metadata": {},
   "source": [
    "Al ser nuestro conjunto de datos sobre desastres naturales y al estar ciertas columnas representando atributos relacionados con desastres específicos, es posible que algunas columnas tengan valores faltantes debido a la ausencia de un desastre o la inexistencia de ciertos atributos en ciertos casos. En tales escenarios, puede ser apropiado tratar esos valores faltantes como significativos e introducir una nueva categoría para representar la ausencia o la naturaleza indefinida del atributo."
   ]
  },
  {
   "attachments": {},
   "cell_type": "markdown",
   "metadata": {},
   "source": [
    "### Propuestas para manejar estos casos y representar los valores faltantes como indefinidos:\n",
    "\n",
    "+ Identificar las columnas categóricas que contienen valores faltantes que representan la ausencia o la naturaleza indefinida de ciertos atributos.\n",
    "\n",
    "+ Crear una nueva categoría o etiqueta para representar explícitamente los valores que faltan. Esta nueva categoría se puede denominar \"Undefined\" o \"Sin definir\", \"Not Applicable\" o \"No aplicable\", \"No Data\" o \"Sin datos\" o cualquier otra etiqueta que transmita adecuadamente la ausencia o la naturaleza indefinida del atributo.\n",
    "\n",
    "+ Reemplazar los valores faltantes en las columnas categóricas con la nueva categoría o etiqueta. Usar el método fillna() de pandas para realizar este reemplazo."
   ]
  },
  {
   "attachments": {},
   "cell_type": "markdown",
   "metadata": {},
   "source": [
    "### Criterio de borrado o relleno de columnas y valores de filas:"
   ]
  },
  {
   "attachments": {},
   "cell_type": "markdown",
   "metadata": {},
   "source": [
    "* Determinar con qué tipo de valores rellenar los faltantes de cada columna\n",
    "* Asegurarse de que el tipo de dato rellenado es acorde a las interdependencias de columnas\n",
    "* Probar cómo responde dataset tras fillna de valores faltantes\n",
    "* Cuidado con reindexar columnas por separado"
   ]
  },
  {
   "attachments": {},
   "cell_type": "markdown",
   "metadata": {},
   "source": [
    "## Importar librerías"
   ]
  },
  {
   "cell_type": "code",
   "execution_count": 5,
   "metadata": {},
   "outputs": [],
   "source": [
    "# pip install pyjanitor matplotlib missingno numpy pandas pyreadr seaborn session-info upsetplot"
   ]
  },
  {
   "cell_type": "code",
   "execution_count": 6,
   "metadata": {},
   "outputs": [],
   "source": [
    "import missingno as msno\n",
    "import numpy as np\n",
    "import pandas as pd\n",
    "from sklearn.impute import SimpleImputer"
   ]
  },
  {
   "attachments": {},
   "cell_type": "markdown",
   "metadata": {},
   "source": [
    "## Cargar datos"
   ]
  },
  {
   "cell_type": "code",
   "execution_count": 7,
   "metadata": {},
   "outputs": [],
   "source": [
    "df = pd.read_csv('../../Data/02ParaLimpiar/02desastres_paralimpiar.csv', encoding='utf-8', delimiter=';', engine='python')"
   ]
  },
  {
   "attachments": {},
   "cell_type": "markdown",
   "metadata": {},
   "source": [
    "# Verificar carga de dataset"
   ]
  },
  {
   "attachments": {},
   "cell_type": "markdown",
   "metadata": {},
   "source": [
    "##  Resumen básico shape, info"
   ]
  },
  {
   "cell_type": "code",
   "execution_count": 8,
   "metadata": {},
   "outputs": [
    {
     "data": {
      "text/plain": [
       "(16636, 27)"
      ]
     },
     "execution_count": 8,
     "metadata": {},
     "output_type": "execute_result"
    }
   ],
   "source": [
    "df.shape\n",
    "# Resultado: 16636 filas y 50 columnas)"
   ]
  },
  {
   "cell_type": "code",
   "execution_count": 9,
   "metadata": {},
   "outputs": [
    {
     "name": "stdout",
     "output_type": "stream",
     "text": [
      "<class 'pandas.core.frame.DataFrame'>\n",
      "RangeIndex: 16636 entries, 0 to 16635\n",
      "Data columns (total 27 columns):\n",
      " #   Column             Non-Null Count  Dtype  \n",
      "---  ------             --------------  -----  \n",
      " 0   Dis No             16636 non-null  object \n",
      " 1   Year               16636 non-null  int64  \n",
      " 2   Seq                16636 non-null  int64  \n",
      " 3   Disaster Subgroup  16636 non-null  object \n",
      " 4   Disaster Type      16636 non-null  object \n",
      " 5   Disaster Subtype   13313 non-null  object \n",
      " 6   Country            16636 non-null  object \n",
      " 7   ISO                16636 non-null  object \n",
      " 8   Region             16636 non-null  object \n",
      " 9   Continent          16636 non-null  object \n",
      " 10  Location           14825 non-null  object \n",
      " 11  Origin             4085 non-null   object \n",
      " 12  Associated Dis     3593 non-null   object \n",
      " 13  Associated Dis2    763 non-null    object \n",
      " 14  OFDA Response      1716 non-null   object \n",
      " 15  Appeal             2559 non-null   object \n",
      " 16  Declaration        3343 non-null   object \n",
      " 17  AID Contribution   776 non-null    float64\n",
      " 18  Dis Mag Value      5064 non-null   float64\n",
      " 19  Dis Mag Scale      15416 non-null  object \n",
      " 20  Latitude           2775 non-null   object \n",
      " 21  Longitude          2775 non-null   object \n",
      " 22  Start Year         16636 non-null  int64  \n",
      " 23  Start Month        16241 non-null  float64\n",
      " 24  End Year           16636 non-null  int64  \n",
      " 25  End Month          15936 non-null  float64\n",
      " 26  CPI                16530 non-null  object \n",
      "dtypes: float64(4), int64(4), object(19)\n",
      "memory usage: 3.4+ MB\n"
     ]
    }
   ],
   "source": [
    "df.info()"
   ]
  },
  {
   "attachments": {},
   "cell_type": "markdown",
   "metadata": {},
   "source": [
    "# Exploración de valores faltantes"
   ]
  },
  {
   "attachments": {},
   "cell_type": "markdown",
   "metadata": {},
   "source": [
    "## Tabulación de valores faltantes"
   ]
  },
  {
   "cell_type": "code",
   "execution_count": 10,
   "metadata": {},
   "outputs": [
    {
     "data": {
      "text/html": [
       "<div>\n",
       "<style scoped>\n",
       "    .dataframe tbody tr th:only-of-type {\n",
       "        vertical-align: middle;\n",
       "    }\n",
       "\n",
       "    .dataframe tbody tr th {\n",
       "        vertical-align: top;\n",
       "    }\n",
       "\n",
       "    .dataframe thead th {\n",
       "        text-align: right;\n",
       "    }\n",
       "</style>\n",
       "<table border=\"1\" class=\"dataframe\">\n",
       "  <thead>\n",
       "    <tr style=\"text-align: right;\">\n",
       "      <th></th>\n",
       "      <th>Dis No</th>\n",
       "      <th>Year</th>\n",
       "      <th>Seq</th>\n",
       "      <th>Disaster Subgroup</th>\n",
       "      <th>Disaster Type</th>\n",
       "      <th>Disaster Subtype</th>\n",
       "      <th>Country</th>\n",
       "      <th>ISO</th>\n",
       "      <th>Region</th>\n",
       "      <th>Continent</th>\n",
       "      <th>...</th>\n",
       "      <th>AID Contribution</th>\n",
       "      <th>Dis Mag Value</th>\n",
       "      <th>Dis Mag Scale</th>\n",
       "      <th>Latitude</th>\n",
       "      <th>Longitude</th>\n",
       "      <th>Start Year</th>\n",
       "      <th>Start Month</th>\n",
       "      <th>End Year</th>\n",
       "      <th>End Month</th>\n",
       "      <th>CPI</th>\n",
       "    </tr>\n",
       "  </thead>\n",
       "  <tbody>\n",
       "    <tr>\n",
       "      <th>0</th>\n",
       "      <td>False</td>\n",
       "      <td>False</td>\n",
       "      <td>False</td>\n",
       "      <td>False</td>\n",
       "      <td>False</td>\n",
       "      <td>False</td>\n",
       "      <td>False</td>\n",
       "      <td>False</td>\n",
       "      <td>False</td>\n",
       "      <td>False</td>\n",
       "      <td>...</td>\n",
       "      <td>True</td>\n",
       "      <td>True</td>\n",
       "      <td>False</td>\n",
       "      <td>True</td>\n",
       "      <td>True</td>\n",
       "      <td>False</td>\n",
       "      <td>True</td>\n",
       "      <td>False</td>\n",
       "      <td>True</td>\n",
       "      <td>False</td>\n",
       "    </tr>\n",
       "    <tr>\n",
       "      <th>1</th>\n",
       "      <td>False</td>\n",
       "      <td>False</td>\n",
       "      <td>False</td>\n",
       "      <td>False</td>\n",
       "      <td>False</td>\n",
       "      <td>False</td>\n",
       "      <td>False</td>\n",
       "      <td>False</td>\n",
       "      <td>False</td>\n",
       "      <td>False</td>\n",
       "      <td>...</td>\n",
       "      <td>True</td>\n",
       "      <td>True</td>\n",
       "      <td>False</td>\n",
       "      <td>True</td>\n",
       "      <td>True</td>\n",
       "      <td>False</td>\n",
       "      <td>True</td>\n",
       "      <td>False</td>\n",
       "      <td>True</td>\n",
       "      <td>False</td>\n",
       "    </tr>\n",
       "    <tr>\n",
       "      <th>2</th>\n",
       "      <td>False</td>\n",
       "      <td>False</td>\n",
       "      <td>False</td>\n",
       "      <td>False</td>\n",
       "      <td>False</td>\n",
       "      <td>False</td>\n",
       "      <td>False</td>\n",
       "      <td>False</td>\n",
       "      <td>False</td>\n",
       "      <td>False</td>\n",
       "      <td>...</td>\n",
       "      <td>True</td>\n",
       "      <td>False</td>\n",
       "      <td>False</td>\n",
       "      <td>False</td>\n",
       "      <td>False</td>\n",
       "      <td>False</td>\n",
       "      <td>False</td>\n",
       "      <td>False</td>\n",
       "      <td>False</td>\n",
       "      <td>False</td>\n",
       "    </tr>\n",
       "    <tr>\n",
       "      <th>3</th>\n",
       "      <td>False</td>\n",
       "      <td>False</td>\n",
       "      <td>False</td>\n",
       "      <td>False</td>\n",
       "      <td>False</td>\n",
       "      <td>False</td>\n",
       "      <td>False</td>\n",
       "      <td>False</td>\n",
       "      <td>False</td>\n",
       "      <td>False</td>\n",
       "      <td>...</td>\n",
       "      <td>True</td>\n",
       "      <td>True</td>\n",
       "      <td>True</td>\n",
       "      <td>True</td>\n",
       "      <td>True</td>\n",
       "      <td>False</td>\n",
       "      <td>False</td>\n",
       "      <td>False</td>\n",
       "      <td>False</td>\n",
       "      <td>False</td>\n",
       "    </tr>\n",
       "    <tr>\n",
       "      <th>4</th>\n",
       "      <td>False</td>\n",
       "      <td>False</td>\n",
       "      <td>False</td>\n",
       "      <td>False</td>\n",
       "      <td>False</td>\n",
       "      <td>False</td>\n",
       "      <td>False</td>\n",
       "      <td>False</td>\n",
       "      <td>False</td>\n",
       "      <td>False</td>\n",
       "      <td>...</td>\n",
       "      <td>True</td>\n",
       "      <td>True</td>\n",
       "      <td>True</td>\n",
       "      <td>True</td>\n",
       "      <td>True</td>\n",
       "      <td>False</td>\n",
       "      <td>False</td>\n",
       "      <td>False</td>\n",
       "      <td>False</td>\n",
       "      <td>False</td>\n",
       "    </tr>\n",
       "    <tr>\n",
       "      <th>...</th>\n",
       "      <td>...</td>\n",
       "      <td>...</td>\n",
       "      <td>...</td>\n",
       "      <td>...</td>\n",
       "      <td>...</td>\n",
       "      <td>...</td>\n",
       "      <td>...</td>\n",
       "      <td>...</td>\n",
       "      <td>...</td>\n",
       "      <td>...</td>\n",
       "      <td>...</td>\n",
       "      <td>...</td>\n",
       "      <td>...</td>\n",
       "      <td>...</td>\n",
       "      <td>...</td>\n",
       "      <td>...</td>\n",
       "      <td>...</td>\n",
       "      <td>...</td>\n",
       "      <td>...</td>\n",
       "      <td>...</td>\n",
       "      <td>...</td>\n",
       "    </tr>\n",
       "    <tr>\n",
       "      <th>16631</th>\n",
       "      <td>False</td>\n",
       "      <td>False</td>\n",
       "      <td>False</td>\n",
       "      <td>False</td>\n",
       "      <td>False</td>\n",
       "      <td>False</td>\n",
       "      <td>False</td>\n",
       "      <td>False</td>\n",
       "      <td>False</td>\n",
       "      <td>False</td>\n",
       "      <td>...</td>\n",
       "      <td>True</td>\n",
       "      <td>True</td>\n",
       "      <td>False</td>\n",
       "      <td>True</td>\n",
       "      <td>True</td>\n",
       "      <td>False</td>\n",
       "      <td>False</td>\n",
       "      <td>False</td>\n",
       "      <td>False</td>\n",
       "      <td>True</td>\n",
       "    </tr>\n",
       "    <tr>\n",
       "      <th>16632</th>\n",
       "      <td>False</td>\n",
       "      <td>False</td>\n",
       "      <td>False</td>\n",
       "      <td>False</td>\n",
       "      <td>False</td>\n",
       "      <td>False</td>\n",
       "      <td>False</td>\n",
       "      <td>False</td>\n",
       "      <td>False</td>\n",
       "      <td>False</td>\n",
       "      <td>...</td>\n",
       "      <td>True</td>\n",
       "      <td>True</td>\n",
       "      <td>False</td>\n",
       "      <td>True</td>\n",
       "      <td>True</td>\n",
       "      <td>False</td>\n",
       "      <td>False</td>\n",
       "      <td>False</td>\n",
       "      <td>False</td>\n",
       "      <td>True</td>\n",
       "    </tr>\n",
       "    <tr>\n",
       "      <th>16633</th>\n",
       "      <td>False</td>\n",
       "      <td>False</td>\n",
       "      <td>False</td>\n",
       "      <td>False</td>\n",
       "      <td>False</td>\n",
       "      <td>False</td>\n",
       "      <td>False</td>\n",
       "      <td>False</td>\n",
       "      <td>False</td>\n",
       "      <td>False</td>\n",
       "      <td>...</td>\n",
       "      <td>True</td>\n",
       "      <td>True</td>\n",
       "      <td>False</td>\n",
       "      <td>True</td>\n",
       "      <td>True</td>\n",
       "      <td>False</td>\n",
       "      <td>False</td>\n",
       "      <td>False</td>\n",
       "      <td>False</td>\n",
       "      <td>True</td>\n",
       "    </tr>\n",
       "    <tr>\n",
       "      <th>16634</th>\n",
       "      <td>False</td>\n",
       "      <td>False</td>\n",
       "      <td>False</td>\n",
       "      <td>False</td>\n",
       "      <td>False</td>\n",
       "      <td>False</td>\n",
       "      <td>False</td>\n",
       "      <td>False</td>\n",
       "      <td>False</td>\n",
       "      <td>False</td>\n",
       "      <td>...</td>\n",
       "      <td>True</td>\n",
       "      <td>True</td>\n",
       "      <td>False</td>\n",
       "      <td>True</td>\n",
       "      <td>True</td>\n",
       "      <td>False</td>\n",
       "      <td>False</td>\n",
       "      <td>False</td>\n",
       "      <td>False</td>\n",
       "      <td>True</td>\n",
       "    </tr>\n",
       "    <tr>\n",
       "      <th>16635</th>\n",
       "      <td>False</td>\n",
       "      <td>False</td>\n",
       "      <td>False</td>\n",
       "      <td>False</td>\n",
       "      <td>False</td>\n",
       "      <td>False</td>\n",
       "      <td>False</td>\n",
       "      <td>False</td>\n",
       "      <td>False</td>\n",
       "      <td>False</td>\n",
       "      <td>...</td>\n",
       "      <td>True</td>\n",
       "      <td>True</td>\n",
       "      <td>False</td>\n",
       "      <td>True</td>\n",
       "      <td>True</td>\n",
       "      <td>False</td>\n",
       "      <td>False</td>\n",
       "      <td>False</td>\n",
       "      <td>False</td>\n",
       "      <td>True</td>\n",
       "    </tr>\n",
       "  </tbody>\n",
       "</table>\n",
       "<p>16636 rows × 27 columns</p>\n",
       "</div>"
      ],
      "text/plain": [
       "       Dis No   Year    Seq  Disaster Subgroup  Disaster Type  \\\n",
       "0       False  False  False              False          False   \n",
       "1       False  False  False              False          False   \n",
       "2       False  False  False              False          False   \n",
       "3       False  False  False              False          False   \n",
       "4       False  False  False              False          False   \n",
       "...       ...    ...    ...                ...            ...   \n",
       "16631   False  False  False              False          False   \n",
       "16632   False  False  False              False          False   \n",
       "16633   False  False  False              False          False   \n",
       "16634   False  False  False              False          False   \n",
       "16635   False  False  False              False          False   \n",
       "\n",
       "       Disaster Subtype  Country    ISO  Region  Continent  ...  \\\n",
       "0                 False    False  False   False      False  ...   \n",
       "1                 False    False  False   False      False  ...   \n",
       "2                 False    False  False   False      False  ...   \n",
       "3                 False    False  False   False      False  ...   \n",
       "4                 False    False  False   False      False  ...   \n",
       "...                 ...      ...    ...     ...        ...  ...   \n",
       "16631             False    False  False   False      False  ...   \n",
       "16632             False    False  False   False      False  ...   \n",
       "16633             False    False  False   False      False  ...   \n",
       "16634             False    False  False   False      False  ...   \n",
       "16635             False    False  False   False      False  ...   \n",
       "\n",
       "       AID Contribution  Dis Mag Value  Dis Mag Scale  Latitude  Longitude  \\\n",
       "0                  True           True          False      True       True   \n",
       "1                  True           True          False      True       True   \n",
       "2                  True          False          False     False      False   \n",
       "3                  True           True           True      True       True   \n",
       "4                  True           True           True      True       True   \n",
       "...                 ...            ...            ...       ...        ...   \n",
       "16631              True           True          False      True       True   \n",
       "16632              True           True          False      True       True   \n",
       "16633              True           True          False      True       True   \n",
       "16634              True           True          False      True       True   \n",
       "16635              True           True          False      True       True   \n",
       "\n",
       "       Start Year  Start Month  End Year  End Month    CPI  \n",
       "0           False         True     False       True  False  \n",
       "1           False         True     False       True  False  \n",
       "2           False        False     False      False  False  \n",
       "3           False        False     False      False  False  \n",
       "4           False        False     False      False  False  \n",
       "...           ...          ...       ...        ...    ...  \n",
       "16631       False        False     False      False   True  \n",
       "16632       False        False     False      False   True  \n",
       "16633       False        False     False      False   True  \n",
       "16634       False        False     False      False   True  \n",
       "16635       False        False     False      False   True  \n",
       "\n",
       "[16636 rows x 27 columns]"
      ]
     },
     "execution_count": 10,
     "metadata": {},
     "output_type": "execute_result"
    }
   ],
   "source": [
    "df.isna()"
   ]
  },
  {
   "cell_type": "code",
   "execution_count": 11,
   "metadata": {},
   "outputs": [
    {
     "data": {
      "text/plain": [
       "Dis No                   0\n",
       "Year                     0\n",
       "Seq                      0\n",
       "Disaster Subgroup        0\n",
       "Disaster Type            0\n",
       "Disaster Subtype      3323\n",
       "Country                  0\n",
       "ISO                      0\n",
       "Region                   0\n",
       "Continent                0\n",
       "Location              1811\n",
       "Origin               12551\n",
       "Associated Dis       13043\n",
       "Associated Dis2      15873\n",
       "OFDA Response        14920\n",
       "Appeal               14077\n",
       "Declaration          13293\n",
       "AID Contribution     15860\n",
       "Dis Mag Value        11572\n",
       "Dis Mag Scale         1220\n",
       "Latitude             13861\n",
       "Longitude            13861\n",
       "Start Year               0\n",
       "Start Month            395\n",
       "End Year                 0\n",
       "End Month              700\n",
       "CPI                    106\n",
       "dtype: int64"
      ]
     },
     "execution_count": 11,
     "metadata": {},
     "output_type": "execute_result"
    }
   ],
   "source": [
    "df.isna().sum()"
   ]
  },
  {
   "attachments": {},
   "cell_type": "markdown",
   "metadata": {},
   "source": [
    "### Columnas categóricas con valores faltantes"
   ]
  },
  {
   "cell_type": "code",
   "execution_count": 12,
   "metadata": {},
   "outputs": [
    {
     "data": {
      "text/plain": [
       "['Dis No',\n",
       " 'Disaster Subgroup',\n",
       " 'Disaster Type',\n",
       " 'Disaster Subtype',\n",
       " 'Country',\n",
       " 'ISO',\n",
       " 'Region',\n",
       " 'Continent',\n",
       " 'Location',\n",
       " 'Origin',\n",
       " 'Associated Dis',\n",
       " 'Associated Dis2',\n",
       " 'OFDA Response',\n",
       " 'Appeal',\n",
       " 'Declaration',\n",
       " 'Dis Mag Scale',\n",
       " 'Latitude',\n",
       " 'Longitude',\n",
       " 'CPI']"
      ]
     },
     "execution_count": 12,
     "metadata": {},
     "output_type": "execute_result"
    }
   ],
   "source": [
    "# Columnas categóricas\n",
    "df.select_dtypes(include=object).columns.to_list() # columns.to_list muestra solo los títulos de las cols"
   ]
  },
  {
   "attachments": {},
   "cell_type": "markdown",
   "metadata": {},
   "source": [
    "## Definición de variable categorical_columns"
   ]
  },
  {
   "cell_type": "code",
   "execution_count": 13,
   "metadata": {},
   "outputs": [],
   "source": [
    "categorical_columns = ['Disaster Subtype', 'Location', 'Origin', 'Associated Dis', 'Associated Dis2', 'OFDA Response', 'Appeal', 'Declaration', 'AID Contribution', 'Dis Mag Scale', 'CPI']"
   ]
  },
  {
   "cell_type": "code",
   "execution_count": 14,
   "metadata": {},
   "outputs": [],
   "source": [
    "categorical_data = df[categorical_columns]"
   ]
  },
  {
   "attachments": {},
   "cell_type": "markdown",
   "metadata": {},
   "source": [
    "## Calcular porcentaje de valores faltantes"
   ]
  },
  {
   "cell_type": "code",
   "execution_count": 16,
   "metadata": {},
   "outputs": [],
   "source": [
    "missingness_percentage = categorical_data.isnull().mean() * 100"
   ]
  },
  {
   "cell_type": "code",
   "execution_count": 18,
   "metadata": {},
   "outputs": [
    {
     "name": "stdout",
     "output_type": "stream",
     "text": [
      "                  Porcentaje de valores faltantes\n",
      "Associated Dis2                         95.413561\n",
      "AID Contribution                        95.335417\n",
      "OFDA Response                           89.685020\n",
      "Appeal                                  84.617697\n",
      "Declaration                             79.905025\n",
      "Associated Dis                          78.402260\n",
      "Origin                                  75.444818\n",
      "Disaster Subtype                        19.974754\n",
      "Location                                10.886030\n",
      "Dis Mag Scale                            7.333494\n",
      "CPI                                      0.637172\n"
     ]
    }
   ],
   "source": [
    "missingness_percentage_df = pd.DataFrame({'Porcentaje de valores faltantes': missingness_percentage})\n",
    "missingness_percentage_df.sort_values(by='Porcentaje de valores faltantes', ascending=False, inplace=True)\n",
    "print(missingness_percentage_df)"
   ]
  },
  {
   "attachments": {},
   "cell_type": "markdown",
   "metadata": {},
   "source": [
    "#### Recomendable borrar las columnas críticas que tengan porcentaje de valores faltantes muy altos (por encima de 70%) si no se pueden rellenar con datos lógicos en función de la interdependencia entre columnas:\n",
    "Associated Dis2                         95.413561\n",
    "AID Contribution                        95.335417\n",
    "OFDA Response                           89.685020\n",
    "Appeal                                  84.617697\n",
    "Declaration                             79.905025\n",
    "Associated Dis                          78.402260\n",
    "Origin                                  75.444818"
   ]
  },
  {
   "attachments": {},
   "cell_type": "markdown",
   "metadata": {},
   "source": [
    "# Machine learning para rellenar NaN con predicciones"
   ]
  },
  {
   "attachments": {},
   "cell_type": "markdown",
   "metadata": {},
   "source": [
    "## SimpleImputer\n",
    "https://scikit-learn.org/stable/modules/generated/sklearn.impute.SimpleImputer.html\n",
    "\n",
    "sklearn.impute.SimpleImputer\n",
    "\n",
    "class sklearn.impute.SimpleImputer(*, missing_values=nan, strategy='mean', fill_value=None, verbose='deprecated', copy=True, add_indicator=False, keep_empty_features=False)"
   ]
  },
  {
   "attachments": {},
   "cell_type": "markdown",
   "metadata": {},
   "source": [
    "#### Definición de SimpleImputer"
   ]
  },
  {
   "attachments": {},
   "cell_type": "markdown",
   "metadata": {},
   "source": [
    "Imputador univariante para completar valores faltantes con estrategias simples.\n",
    "\n",
    "Reemplaza los valores faltantes usando una estadística descriptiva (por ejemplo, media, mediana o más frecuente) a lo largo de cada columna, o usando un valor constante."
   ]
  },
  {
   "attachments": {},
   "cell_type": "markdown",
   "metadata": {},
   "source": [
    "### Elegir estrategia de imputación"
   ]
  },
  {
   "attachments": {},
   "cell_type": "markdown",
   "metadata": {},
   "source": [
    "Según el porcentaje de faltantes y conocimiento del tema, seleccionar una estrategia adecuada para completar o reemplazar los valores faltantes en cada columna categórica."
   ]
  },
  {
   "attachments": {},
   "cell_type": "markdown",
   "metadata": {},
   "source": [
    "Elección de estrategia: En este caso, se podría considerar 'most_frequent' o 'constante' para reemplazar los valores faltantes con el valor más frecuente en cada columna."
   ]
  },
  {
   "attachments": {},
   "cell_type": "markdown",
   "metadata": {},
   "source": [
    "### Aplicar la estrategia de imputación elegida:"
   ]
  },
  {
   "attachments": {},
   "cell_type": "markdown",
   "metadata": {},
   "source": [
    "#### SimpleImputer con estrategia 'most_frequent'"
   ]
  },
  {
   "cell_type": "code",
   "execution_count": null,
   "metadata": {},
   "outputs": [],
   "source": [
    "imputer = SimpleImputer(strategy='most_frequent')  # Reemplazar con la estrategia elegida, si no es 'most_frequent'\n",
    "imputed_data = pd.DataFrame(imputer.fit_transform(categorical_data), columns=categorical_columns)"
   ]
  },
  {
   "attachments": {},
   "cell_type": "markdown",
   "metadata": {},
   "source": [
    "#### SimpleImputer con estrategia 'constant'"
   ]
  },
  {
   "cell_type": "code",
   "execution_count": null,
   "metadata": {},
   "outputs": [],
   "source": [
    "imputer = SimpleImputer(strategy='constant')  # Reemplazar con la estrategia elegida, si no es constant\n",
    "imputed_data = pd.DataFrame(imputer.fit_transform(categorical_data), columns=categorical_columns)"
   ]
  },
  {
   "attachments": {},
   "cell_type": "markdown",
   "metadata": {},
   "source": [
    "### Validar datos imputados"
   ]
  },
  {
   "attachments": {},
   "cell_type": "markdown",
   "metadata": {},
   "source": [
    "Examinar los datos categóricos imputados para verificar que se hayan reemplazado los valores faltantes. Realizar más análisis o modelado utilizando el conjunto de datos imputado."
   ]
  },
  {
   "attachments": {},
   "cell_type": "markdown",
   "metadata": {},
   "source": [
    "### Otras técnicas de imputación disponibles en scikit-learn:"
   ]
  },
  {
   "attachments": {},
   "cell_type": "markdown",
   "metadata": {},
   "source": [
    "RandomForestClassifier, KNNImputer o IterativeImputer, según requisitos específicos."
   ]
  },
  {
   "attachments": {},
   "cell_type": "markdown",
   "metadata": {},
   "source": [
    "# Guardar dataset en csv"
   ]
  },
  {
   "cell_type": "code",
   "execution_count": 15,
   "metadata": {},
   "outputs": [],
   "source": [
    "# df.to_csv('../../Data/02ParaLimpiar/02desastres_fillna.csv', index=False, sep=';', encoding='utf-8')"
   ]
  },
  {
   "attachments": {},
   "cell_type": "markdown",
   "metadata": {},
   "source": [
    "Dataset con valores rellenados y/o filas vacías borradas."
   ]
  }
 ],
 "metadata": {
  "kernelspec": {
   "display_name": "Python 3",
   "language": "python",
   "name": "python3"
  },
  "language_info": {
   "codemirror_mode": {
    "name": "ipython",
    "version": 3
   },
   "file_extension": ".py",
   "mimetype": "text/x-python",
   "name": "python",
   "nbconvert_exporter": "python",
   "pygments_lexer": "ipython3",
   "version": "3.10.11"
  },
  "orig_nbformat": 4
 },
 "nbformat": 4,
 "nbformat_minor": 2
}

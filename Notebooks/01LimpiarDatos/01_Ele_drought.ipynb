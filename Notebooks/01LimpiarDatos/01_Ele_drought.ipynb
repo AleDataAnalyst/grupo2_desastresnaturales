{
 "cells": [
  {
   "attachments": {},
   "cell_type": "markdown",
   "metadata": {},
   "source": [
    "# EDA DE SEQUÍAS"
   ]
  },
  {
   "attachments": {},
   "cell_type": "markdown",
   "metadata": {},
   "source": [
    "## 1. IMPORTAR LIBRERÍAS"
   ]
  },
  {
   "cell_type": "code",
   "execution_count": 1,
   "metadata": {},
   "outputs": [],
   "source": [
    "import numpy as np\n",
    "import pandas as pd\n",
    "import matplotlib.pyplot as plt\n",
    "import seaborn as sns"
   ]
  },
  {
   "attachments": {},
   "cell_type": "markdown",
   "metadata": {},
   "source": [
    "## 2. CARGAR DATASET"
   ]
  },
  {
   "cell_type": "code",
   "execution_count": 5,
   "metadata": {},
   "outputs": [
    {
     "name": "stderr",
     "output_type": "stream",
     "text": [
      "C:\\Users\\blanc\\AppData\\Local\\Temp\\ipykernel_22244\\4200316577.py:1: DtypeWarning: Columns (18,24,25,45) have mixed types. Specify dtype option on import or set low_memory=False.\n",
      "  df = pd.read_csv('../../Data/01CrudoNoEditar/01desastres_crudo_renamedcols.csv', delimiter=';', encoding= 'utf-8')\n"
     ]
    },
    {
     "data": {
      "text/html": [
       "<div>\n",
       "<style scoped>\n",
       "    .dataframe tbody tr th:only-of-type {\n",
       "        vertical-align: middle;\n",
       "    }\n",
       "\n",
       "    .dataframe tbody tr th {\n",
       "        vertical-align: top;\n",
       "    }\n",
       "\n",
       "    .dataframe thead th {\n",
       "        text-align: right;\n",
       "    }\n",
       "</style>\n",
       "<table border=\"1\" class=\"dataframe\">\n",
       "  <thead>\n",
       "    <tr style=\"text-align: right;\">\n",
       "      <th></th>\n",
       "      <th>Dis No</th>\n",
       "      <th>Year</th>\n",
       "      <th>Seq</th>\n",
       "      <th>Glide</th>\n",
       "      <th>Disaster Group</th>\n",
       "      <th>Disaster Subgroup</th>\n",
       "      <th>Disaster Type</th>\n",
       "      <th>Disaster Subtype</th>\n",
       "      <th>Disaster Subsubtype</th>\n",
       "      <th>Event Name</th>\n",
       "      <th>...</th>\n",
       "      <th>Reconstruction Costs Adj</th>\n",
       "      <th>Insured Damages</th>\n",
       "      <th>Insured Damages Adj</th>\n",
       "      <th>Total Damages</th>\n",
       "      <th>Total Damages Adj</th>\n",
       "      <th>CPI</th>\n",
       "      <th>Adm Level</th>\n",
       "      <th>Admin1 Code</th>\n",
       "      <th>Admin2 Code</th>\n",
       "      <th>Geo Locations</th>\n",
       "    </tr>\n",
       "  </thead>\n",
       "  <tbody>\n",
       "    <tr>\n",
       "      <th>0</th>\n",
       "      <td>1900-9002-CPV</td>\n",
       "      <td>1900</td>\n",
       "      <td>9002</td>\n",
       "      <td>NaN</td>\n",
       "      <td>Natural</td>\n",
       "      <td>Climatological</td>\n",
       "      <td>Drought</td>\n",
       "      <td>Drought</td>\n",
       "      <td>NaN</td>\n",
       "      <td>NaN</td>\n",
       "      <td>...</td>\n",
       "      <td>NaN</td>\n",
       "      <td>NaN</td>\n",
       "      <td>NaN</td>\n",
       "      <td>NaN</td>\n",
       "      <td>NaN</td>\n",
       "      <td>2,849084409</td>\n",
       "      <td>NaN</td>\n",
       "      <td>NaN</td>\n",
       "      <td>NaN</td>\n",
       "      <td>NaN</td>\n",
       "    </tr>\n",
       "    <tr>\n",
       "      <th>1</th>\n",
       "      <td>1900-9001-IND</td>\n",
       "      <td>1900</td>\n",
       "      <td>9001</td>\n",
       "      <td>NaN</td>\n",
       "      <td>Natural</td>\n",
       "      <td>Climatological</td>\n",
       "      <td>Drought</td>\n",
       "      <td>Drought</td>\n",
       "      <td>NaN</td>\n",
       "      <td>NaN</td>\n",
       "      <td>...</td>\n",
       "      <td>NaN</td>\n",
       "      <td>NaN</td>\n",
       "      <td>NaN</td>\n",
       "      <td>NaN</td>\n",
       "      <td>NaN</td>\n",
       "      <td>2,849084409</td>\n",
       "      <td>NaN</td>\n",
       "      <td>NaN</td>\n",
       "      <td>NaN</td>\n",
       "      <td>NaN</td>\n",
       "    </tr>\n",
       "  </tbody>\n",
       "</table>\n",
       "<p>2 rows × 50 columns</p>\n",
       "</div>"
      ],
      "text/plain": [
       "          Dis No  Year   Seq Glide Disaster Group Disaster Subgroup  \\\n",
       "0  1900-9002-CPV  1900  9002   NaN        Natural    Climatological   \n",
       "1  1900-9001-IND  1900  9001   NaN        Natural    Climatological   \n",
       "\n",
       "  Disaster Type Disaster Subtype Disaster Subsubtype Event Name  ...  \\\n",
       "0       Drought          Drought                 NaN        NaN  ...   \n",
       "1       Drought          Drought                 NaN        NaN  ...   \n",
       "\n",
       "  Reconstruction Costs Adj Insured Damages Insured Damages Adj Total Damages  \\\n",
       "0                      NaN             NaN                 NaN           NaN   \n",
       "1                      NaN             NaN                 NaN           NaN   \n",
       "\n",
       "  Total Damages Adj          CPI Adm Level Admin1 Code Admin2 Code  \\\n",
       "0               NaN  2,849084409       NaN         NaN         NaN   \n",
       "1               NaN  2,849084409       NaN         NaN         NaN   \n",
       "\n",
       "  Geo Locations  \n",
       "0           NaN  \n",
       "1           NaN  \n",
       "\n",
       "[2 rows x 50 columns]"
      ]
     },
     "execution_count": 5,
     "metadata": {},
     "output_type": "execute_result"
    }
   ],
   "source": [
    "df = pd.read_csv('../../Data/01CrudoNoEditar/01desastres_crudo_renamedcols.csv', delimiter=';', encoding= 'utf-8')\n",
    "df.head(2)"
   ]
  },
  {
   "cell_type": "code",
   "execution_count": 6,
   "metadata": {},
   "outputs": [
    {
     "data": {
      "text/plain": [
       "(16636, 50)"
      ]
     },
     "execution_count": 6,
     "metadata": {},
     "output_type": "execute_result"
    }
   ],
   "source": [
    "df.shape"
   ]
  },
  {
   "cell_type": "code",
   "execution_count": 7,
   "metadata": {},
   "outputs": [
    {
     "data": {
      "text/html": [
       "<div>\n",
       "<style scoped>\n",
       "    .dataframe tbody tr th:only-of-type {\n",
       "        vertical-align: middle;\n",
       "    }\n",
       "\n",
       "    .dataframe tbody tr th {\n",
       "        vertical-align: top;\n",
       "    }\n",
       "\n",
       "    .dataframe thead th {\n",
       "        text-align: right;\n",
       "    }\n",
       "</style>\n",
       "<table border=\"1\" class=\"dataframe\">\n",
       "  <thead>\n",
       "    <tr style=\"text-align: right;\">\n",
       "      <th></th>\n",
       "      <th>Dis No</th>\n",
       "      <th>Year</th>\n",
       "      <th>Seq</th>\n",
       "      <th>Glide</th>\n",
       "      <th>Disaster Group</th>\n",
       "      <th>Disaster Subgroup</th>\n",
       "      <th>Disaster Type</th>\n",
       "      <th>Disaster Subtype</th>\n",
       "      <th>Disaster Subsubtype</th>\n",
       "      <th>Event Name</th>\n",
       "      <th>...</th>\n",
       "      <th>Reconstruction Costs Adj</th>\n",
       "      <th>Insured Damages</th>\n",
       "      <th>Insured Damages Adj</th>\n",
       "      <th>Total Damages</th>\n",
       "      <th>Total Damages Adj</th>\n",
       "      <th>CPI</th>\n",
       "      <th>Adm Level</th>\n",
       "      <th>Admin1 Code</th>\n",
       "      <th>Admin2 Code</th>\n",
       "      <th>Geo Locations</th>\n",
       "    </tr>\n",
       "  </thead>\n",
       "  <tbody>\n",
       "    <tr>\n",
       "      <th>0</th>\n",
       "      <td>1900-9002-CPV</td>\n",
       "      <td>1900</td>\n",
       "      <td>9002</td>\n",
       "      <td>NaN</td>\n",
       "      <td>Natural</td>\n",
       "      <td>Climatological</td>\n",
       "      <td>Drought</td>\n",
       "      <td>Drought</td>\n",
       "      <td>NaN</td>\n",
       "      <td>NaN</td>\n",
       "      <td>...</td>\n",
       "      <td>NaN</td>\n",
       "      <td>NaN</td>\n",
       "      <td>NaN</td>\n",
       "      <td>NaN</td>\n",
       "      <td>NaN</td>\n",
       "      <td>2,849084409</td>\n",
       "      <td>NaN</td>\n",
       "      <td>NaN</td>\n",
       "      <td>NaN</td>\n",
       "      <td>NaN</td>\n",
       "    </tr>\n",
       "    <tr>\n",
       "      <th>1</th>\n",
       "      <td>1900-9001-IND</td>\n",
       "      <td>1900</td>\n",
       "      <td>9001</td>\n",
       "      <td>NaN</td>\n",
       "      <td>Natural</td>\n",
       "      <td>Climatological</td>\n",
       "      <td>Drought</td>\n",
       "      <td>Drought</td>\n",
       "      <td>NaN</td>\n",
       "      <td>NaN</td>\n",
       "      <td>...</td>\n",
       "      <td>NaN</td>\n",
       "      <td>NaN</td>\n",
       "      <td>NaN</td>\n",
       "      <td>NaN</td>\n",
       "      <td>NaN</td>\n",
       "      <td>2,849084409</td>\n",
       "      <td>NaN</td>\n",
       "      <td>NaN</td>\n",
       "      <td>NaN</td>\n",
       "      <td>NaN</td>\n",
       "    </tr>\n",
       "  </tbody>\n",
       "</table>\n",
       "<p>2 rows × 50 columns</p>\n",
       "</div>"
      ],
      "text/plain": [
       "          Dis No  Year   Seq Glide Disaster Group Disaster Subgroup  \\\n",
       "0  1900-9002-CPV  1900  9002   NaN        Natural    Climatological   \n",
       "1  1900-9001-IND  1900  9001   NaN        Natural    Climatological   \n",
       "\n",
       "  Disaster Type Disaster Subtype Disaster Subsubtype Event Name  ...  \\\n",
       "0       Drought          Drought                 NaN        NaN  ...   \n",
       "1       Drought          Drought                 NaN        NaN  ...   \n",
       "\n",
       "  Reconstruction Costs Adj Insured Damages Insured Damages Adj Total Damages  \\\n",
       "0                      NaN             NaN                 NaN           NaN   \n",
       "1                      NaN             NaN                 NaN           NaN   \n",
       "\n",
       "  Total Damages Adj          CPI Adm Level Admin1 Code Admin2 Code  \\\n",
       "0               NaN  2,849084409       NaN         NaN         NaN   \n",
       "1               NaN  2,849084409       NaN         NaN         NaN   \n",
       "\n",
       "  Geo Locations  \n",
       "0           NaN  \n",
       "1           NaN  \n",
       "\n",
       "[2 rows x 50 columns]"
      ]
     },
     "execution_count": 7,
     "metadata": {},
     "output_type": "execute_result"
    }
   ],
   "source": [
    "filter = df['Disaster Type'] == 'Drought'\n",
    "df[filter].head(2)"
   ]
  },
  {
   "cell_type": "code",
   "execution_count": 9,
   "metadata": {},
   "outputs": [
    {
     "data": {
      "text/plain": [
       "(803, 50)"
      ]
     },
     "execution_count": 9,
     "metadata": {},
     "output_type": "execute_result"
    }
   ],
   "source": [
    "df_drought = df[filter]\n",
    "df_drought.shape"
   ]
  },
  {
   "cell_type": "code",
   "execution_count": 10,
   "metadata": {},
   "outputs": [
    {
     "data": {
      "text/plain": [
       "Dis No                        0\n",
       "Year                          0\n",
       "Seq                           0\n",
       "Glide                       702\n",
       "Disaster Group                0\n",
       "Disaster Subgroup             0\n",
       "Disaster Type                 0\n",
       "Disaster Subtype              1\n",
       "Disaster Subsubtype         803\n",
       "Event Name                  803\n",
       "Country                       0\n",
       "ISO                           0\n",
       "Region                        0\n",
       "Continent                     0\n",
       "Location                    171\n",
       "Origin                      638\n",
       "Associated Dis              513\n",
       "Associated Dis2             760\n",
       "OFDA Response               625\n",
       "Appeal                      614\n",
       "Declaration                 537\n",
       "AID Contribution            770\n",
       "Dis Mag Value               752\n",
       "Dis Mag Scale                 0\n",
       "Latitude                    803\n",
       "Longitude                   803\n",
       "Local Time                  803\n",
       "River Basin                 803\n",
       "Start Year                    0\n",
       "Start Month                 186\n",
       "Start Day                   790\n",
       "End Year                      0\n",
       "End Month                   504\n",
       "End Day                     790\n",
       "Total Deaths                732\n",
       "No Injured                  802\n",
       "No Affected                 277\n",
       "No Homeless                 802\n",
       "Total Affected              277\n",
       "Reconstruction Costs        803\n",
       "Reconstruction Costs Adj    803\n",
       "Insured Damages             796\n",
       "Insured Damages Adj         796\n",
       "Total Damages               584\n",
       "Total Damages Adj           584\n",
       "CPI                           1\n",
       "Adm Level                   438\n",
       "Admin1 Code                 497\n",
       "Admin2 Code                 719\n",
       "Geo Locations               438\n",
       "dtype: int64"
      ]
     },
     "execution_count": 10,
     "metadata": {},
     "output_type": "execute_result"
    }
   ],
   "source": [
    "df_drought.isnull().sum()"
   ]
  },
  {
   "cell_type": "code",
   "execution_count": null,
   "metadata": {},
   "outputs": [],
   "source": [
    "# Tenemos 803 eventos de sequía, la columna Total Deaths  tiene nulos 732 datos y aún así tenemos un número de fallecidos de 11 millones de personas"
   ]
  },
  {
   "cell_type": "code",
   "execution_count": null,
   "metadata": {},
   "outputs": [],
   "source": [
    "df_drought_cols_numeric = df_drought['Total Deaths', 'No Injured', 'No Affected', 'No Homeless', 'Total Affected']"
   ]
  },
  {
   "cell_type": "code",
   "execution_count": 11,
   "metadata": {},
   "outputs": [
    {
     "data": {
      "text/plain": [
       "11734025.0"
      ]
     },
     "execution_count": 11,
     "metadata": {},
     "output_type": "execute_result"
    }
   ],
   "source": [
    "df_drought['Total Deaths'].sum()"
   ]
  },
  {
   "cell_type": "code",
   "execution_count": 12,
   "metadata": {},
   "outputs": [
    {
     "data": {
      "text/plain": [
       "4.0          2\n",
       "2.0          2\n",
       "20.0         2\n",
       "50.0         2\n",
       "8.0          2\n",
       "100000.0     2\n",
       "600.0        2\n",
       "2000.0       2\n",
       "9.0          2\n",
       "1500000.0    2\n",
       "20000.0      2\n",
       "12.0         2\n",
       "500.0        2\n",
       "85.0         1\n",
       "41.0         1\n",
       "143.0        1\n",
       "21.0         1\n",
       "115.0        1\n",
       "37.0         1\n",
       "58.0         1\n",
       "11000.0      1\n",
       "120.0        1\n",
       "79.0         1\n",
       "80.0         1\n",
       "60.0         1\n",
       "134.0        1\n",
       "27.0         1\n",
       "11.0         1\n",
       "24.0         1\n",
       "77.0         1\n",
       "45.0         1\n",
       "136.0        1\n",
       "6.0          1\n",
       "3000.0       1\n",
       "672.0        1\n",
       "237.0        1\n",
       "24000.0      1\n",
       "500000.0     1\n",
       "3000000.0    1\n",
       "1900000.0    1\n",
       "30000.0      1\n",
       "8000.0       1\n",
       "85000.0      1\n",
       "1200000.0    1\n",
       "19000.0      1\n",
       "18.0         1\n",
       "300000.0     1\n",
       "367.0        1\n",
       "1400.0       1\n",
       "63.0         1\n",
       "280.0        1\n",
       "150000.0     1\n",
       "230.0        1\n",
       "84.0         1\n",
       "300.0        1\n",
       "200.0        1\n",
       "1250000.0    1\n",
       "2465.0       1\n",
       "Name: Total Deaths, dtype: int64"
      ]
     },
     "execution_count": 12,
     "metadata": {},
     "output_type": "execute_result"
    }
   ],
   "source": [
    "df_drought['Total Deaths'].value_counts()"
   ]
  },
  {
   "attachments": {},
   "cell_type": "markdown",
   "metadata": {},
   "source": [
    "Hay dos eventos con 1.500.000 de fallecidos, otro con 1.250.000, otro con 3.000.00, otro con 1.900.00,, otro con 1.200.000,"
   ]
  },
  {
   "cell_type": "code",
   "execution_count": 13,
   "metadata": {},
   "outputs": [
    {
     "data": {
      "text/plain": [
       "Continent\n",
       "Africa       869596.0\n",
       "Americas        266.0\n",
       "Asia        9663477.0\n",
       "Europe      1200002.0\n",
       "Oceania         684.0\n",
       "Name: Total Deaths, dtype: float64"
      ]
     },
     "execution_count": 13,
     "metadata": {},
     "output_type": "execute_result"
    }
   ],
   "source": [
    "df_drought.groupby('Continent')['Total Deaths'].sum()"
   ]
  },
  {
   "cell_type": "code",
   "execution_count": 14,
   "metadata": {},
   "outputs": [
    {
     "data": {
      "text/plain": [
       "Continent  Total Deaths\n",
       "Africa     9.0             2\n",
       "           50.0            2\n",
       "           500.0           2\n",
       "           20000.0         2\n",
       "           100000.0        2\n",
       "                          ..\n",
       "Europe     2.0             1\n",
       "           1200000.0       1\n",
       "Oceania    24.0            1\n",
       "           60.0            1\n",
       "           600.0           1\n",
       "Name: Total Deaths, Length: 65, dtype: int64"
      ]
     },
     "execution_count": 14,
     "metadata": {},
     "output_type": "execute_result"
    }
   ],
   "source": [
    "df_drought.groupby('Continent')['Total Deaths'].value_counts()"
   ]
  },
  {
   "cell_type": "code",
   "execution_count": 18,
   "metadata": {},
   "outputs": [
    {
     "data": {
      "text/plain": [
       "<Axes: xlabel='Continent', ylabel='count'>"
      ]
     },
     "execution_count": 18,
     "metadata": {},
     "output_type": "execute_result"
    },
    {
     "data": {
      "image/png": "[encoded data removed]",
      "text/plain": [
       "<Figure size 640x480 with 1 Axes>"
      ]
     },
     "metadata": {},
     "output_type": "display_data"
    }
   ],
   "source": [
    "sns.countplot(data=df_drought, x='Continent')"
   ]
  }
 ],
 "metadata": {
  "kernelspec": {
   "display_name": "Python 3",
   "language": "python",
   "name": "python3"
  },
  "language_info": {
   "codemirror_mode": {
    "name": "ipython",
    "version": 3
   },
   "file_extension": ".py",
   "mimetype": "text/x-python",
   "name": "python",
   "nbconvert_exporter": "python",
   "pygments_lexer": "ipython3",
   "version": "3.10.11"
  },
  "orig_nbformat": 4
 },
 "nbformat": 4,
 "nbformat_minor": 2
}

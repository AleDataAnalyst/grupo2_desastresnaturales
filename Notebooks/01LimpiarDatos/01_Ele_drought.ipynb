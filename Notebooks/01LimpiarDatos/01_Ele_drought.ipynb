{
 "cells": [
  {
   "attachments": {},
   "cell_type": "markdown",
   "metadata": {},
   "source": [
    "# EDA DROUGHT o SEQUÍA\n",
    "\n",
    "Usando dataset ../../Data/01CrudoNoEditar/01desastres_crudo_renamedcols.csv"
   ]
  },
  {
   "attachments": {},
   "cell_type": "markdown",
   "metadata": {},
   "source": [
    "## 1. IMPORTAR LIBRERÍAS"
   ]
  },
  {
   "cell_type": "code",
   "execution_count": 2,
   "metadata": {},
   "outputs": [],
   "source": [
    "import numpy as np\n",
    "import pandas as pd\n",
    "import matplotlib.pyplot as plt\n",
    "import seaborn as sns"
   ]
  },
  {
   "attachments": {},
   "cell_type": "markdown",
   "metadata": {},
   "source": [
    "## 2. CARGAR DATASET"
   ]
  },
  {
   "cell_type": "code",
   "execution_count": 3,
   "metadata": {},
   "outputs": [],
   "source": [
    "df = pd.read_csv('../../Data/02ParaLimpiar/02desastres_definitivo.csv', sep =';', encoding='utf-8')\n"
   ]
  },
  {
   "cell_type": "code",
   "execution_count": 4,
   "metadata": {},
   "outputs": [
    {
     "data": {
      "text/html": [
       "<div>\n",
       "<style scoped>\n",
       "    .dataframe tbody tr th:only-of-type {\n",
       "        vertical-align: middle;\n",
       "    }\n",
       "\n",
       "    .dataframe tbody tr th {\n",
       "        vertical-align: top;\n",
       "    }\n",
       "\n",
       "    .dataframe thead th {\n",
       "        text-align: right;\n",
       "    }\n",
       "</style>\n",
       "<table border=\"1\" class=\"dataframe\">\n",
       "  <thead>\n",
       "    <tr style=\"text-align: right;\">\n",
       "      <th></th>\n",
       "      <th>Dis No</th>\n",
       "      <th>Year</th>\n",
       "      <th>Seq</th>\n",
       "      <th>Disaster Subgroup</th>\n",
       "      <th>Disaster Type</th>\n",
       "      <th>Disaster Subtype</th>\n",
       "      <th>Country</th>\n",
       "      <th>ISO</th>\n",
       "      <th>Region</th>\n",
       "      <th>Continent</th>\n",
       "      <th>...</th>\n",
       "      <th>Longitude</th>\n",
       "      <th>Start Year</th>\n",
       "      <th>Start Month</th>\n",
       "      <th>Start Day</th>\n",
       "      <th>End Year</th>\n",
       "      <th>End Month</th>\n",
       "      <th>End Day</th>\n",
       "      <th>Total Deaths</th>\n",
       "      <th>Total Affected</th>\n",
       "      <th>Total Damages Adj</th>\n",
       "    </tr>\n",
       "  </thead>\n",
       "  <tbody>\n",
       "    <tr>\n",
       "      <th>0</th>\n",
       "      <td>1900-9002-CPV</td>\n",
       "      <td>1900</td>\n",
       "      <td>9002</td>\n",
       "      <td>Climatological</td>\n",
       "      <td>Drought</td>\n",
       "      <td>Drought</td>\n",
       "      <td>Cabo Verde</td>\n",
       "      <td>CPV</td>\n",
       "      <td>Western Africa</td>\n",
       "      <td>Africa</td>\n",
       "      <td>...</td>\n",
       "      <td>NaN</td>\n",
       "      <td>1900</td>\n",
       "      <td>NaN</td>\n",
       "      <td>NaN</td>\n",
       "      <td>1900</td>\n",
       "      <td>NaN</td>\n",
       "      <td>NaN</td>\n",
       "      <td>11000.0</td>\n",
       "      <td>NaN</td>\n",
       "      <td>NaN</td>\n",
       "    </tr>\n",
       "    <tr>\n",
       "      <th>1</th>\n",
       "      <td>1900-9001-IND</td>\n",
       "      <td>1900</td>\n",
       "      <td>9001</td>\n",
       "      <td>Climatological</td>\n",
       "      <td>Drought</td>\n",
       "      <td>Drought</td>\n",
       "      <td>India</td>\n",
       "      <td>IND</td>\n",
       "      <td>Southern Asia</td>\n",
       "      <td>Asia</td>\n",
       "      <td>...</td>\n",
       "      <td>NaN</td>\n",
       "      <td>1900</td>\n",
       "      <td>NaN</td>\n",
       "      <td>NaN</td>\n",
       "      <td>1900</td>\n",
       "      <td>NaN</td>\n",
       "      <td>NaN</td>\n",
       "      <td>1250000.0</td>\n",
       "      <td>NaN</td>\n",
       "      <td>NaN</td>\n",
       "    </tr>\n",
       "    <tr>\n",
       "      <th>2</th>\n",
       "      <td>1902-0012-GTM</td>\n",
       "      <td>1902</td>\n",
       "      <td>12</td>\n",
       "      <td>Geophysical</td>\n",
       "      <td>Earthquake</td>\n",
       "      <td>Ground movement</td>\n",
       "      <td>Guatemala</td>\n",
       "      <td>GTM</td>\n",
       "      <td>Central America</td>\n",
       "      <td>Americas</td>\n",
       "      <td>...</td>\n",
       "      <td>-91</td>\n",
       "      <td>1902</td>\n",
       "      <td>4.0</td>\n",
       "      <td>18.0</td>\n",
       "      <td>1902</td>\n",
       "      <td>4.0</td>\n",
       "      <td>18.0</td>\n",
       "      <td>2000.0</td>\n",
       "      <td>NaN</td>\n",
       "      <td>843726.0</td>\n",
       "    </tr>\n",
       "    <tr>\n",
       "      <th>3</th>\n",
       "      <td>1902-0003-GTM</td>\n",
       "      <td>1902</td>\n",
       "      <td>3</td>\n",
       "      <td>Geophysical</td>\n",
       "      <td>Volcanic activity</td>\n",
       "      <td>Ash fall</td>\n",
       "      <td>Guatemala</td>\n",
       "      <td>GTM</td>\n",
       "      <td>Central America</td>\n",
       "      <td>Americas</td>\n",
       "      <td>...</td>\n",
       "      <td>NaN</td>\n",
       "      <td>1902</td>\n",
       "      <td>4.0</td>\n",
       "      <td>8.0</td>\n",
       "      <td>1902</td>\n",
       "      <td>4.0</td>\n",
       "      <td>8.0</td>\n",
       "      <td>1000.0</td>\n",
       "      <td>NaN</td>\n",
       "      <td>NaN</td>\n",
       "    </tr>\n",
       "    <tr>\n",
       "      <th>4</th>\n",
       "      <td>1902-0010-GTM</td>\n",
       "      <td>1902</td>\n",
       "      <td>10</td>\n",
       "      <td>Geophysical</td>\n",
       "      <td>Volcanic activity</td>\n",
       "      <td>Ash fall</td>\n",
       "      <td>Guatemala</td>\n",
       "      <td>GTM</td>\n",
       "      <td>Central America</td>\n",
       "      <td>Americas</td>\n",
       "      <td>...</td>\n",
       "      <td>NaN</td>\n",
       "      <td>1902</td>\n",
       "      <td>10.0</td>\n",
       "      <td>24.0</td>\n",
       "      <td>1902</td>\n",
       "      <td>10.0</td>\n",
       "      <td>24.0</td>\n",
       "      <td>6000.0</td>\n",
       "      <td>NaN</td>\n",
       "      <td>NaN</td>\n",
       "    </tr>\n",
       "  </tbody>\n",
       "</table>\n",
       "<p>5 rows × 26 columns</p>\n",
       "</div>"
      ],
      "text/plain": [
       "          Dis No  Year   Seq Disaster Subgroup      Disaster Type  \\\n",
       "0  1900-9002-CPV  1900  9002    Climatological            Drought   \n",
       "1  1900-9001-IND  1900  9001    Climatological            Drought   \n",
       "2  1902-0012-GTM  1902    12       Geophysical         Earthquake   \n",
       "3  1902-0003-GTM  1902     3       Geophysical  Volcanic activity   \n",
       "4  1902-0010-GTM  1902    10       Geophysical  Volcanic activity   \n",
       "\n",
       "  Disaster Subtype     Country  ISO           Region Continent  ... Longitude  \\\n",
       "0          Drought  Cabo Verde  CPV   Western Africa    Africa  ...       NaN   \n",
       "1          Drought       India  IND    Southern Asia      Asia  ...       NaN   \n",
       "2  Ground movement   Guatemala  GTM  Central America  Americas  ...       -91   \n",
       "3         Ash fall   Guatemala  GTM  Central America  Americas  ...       NaN   \n",
       "4         Ash fall   Guatemala  GTM  Central America  Americas  ...       NaN   \n",
       "\n",
       "  Start Year Start Month  Start Day End Year End Month End Day  Total Deaths  \\\n",
       "0       1900         NaN        NaN     1900       NaN     NaN       11000.0   \n",
       "1       1900         NaN        NaN     1900       NaN     NaN     1250000.0   \n",
       "2       1902         4.0       18.0     1902       4.0    18.0        2000.0   \n",
       "3       1902         4.0        8.0     1902       4.0     8.0        1000.0   \n",
       "4       1902        10.0       24.0     1902      10.0    24.0        6000.0   \n",
       "\n",
       "   Total Affected  Total Damages Adj  \n",
       "0             NaN                NaN  \n",
       "1             NaN                NaN  \n",
       "2             NaN           843726.0  \n",
       "3             NaN                NaN  \n",
       "4             NaN                NaN  \n",
       "\n",
       "[5 rows x 26 columns]"
      ]
     },
     "execution_count": 4,
     "metadata": {},
     "output_type": "execute_result"
    }
   ],
   "source": [
    "df.head(5)"
   ]
  },
  {
   "cell_type": "code",
   "execution_count": 5,
   "metadata": {},
   "outputs": [
    {
     "data": {
      "text/plain": [
       "(16636, 26)"
      ]
     },
     "execution_count": 5,
     "metadata": {},
     "output_type": "execute_result"
    }
   ],
   "source": [
    "df.shape"
   ]
  },
  {
   "cell_type": "code",
   "execution_count": 6,
   "metadata": {},
   "outputs": [
    {
     "data": {
      "text/plain": [
       "Index(['Dis No', 'Year', 'Seq', 'Disaster Subgroup', 'Disaster Type',\n",
       "       'Disaster Subtype', 'Country', 'ISO', 'Region', 'Continent', 'Location',\n",
       "       'Origin', 'Associated Dis', 'Dis Mag Value', 'Dis Mag Scale',\n",
       "       'Latitude', 'Longitude', 'Start Year', 'Start Month', 'Start Day',\n",
       "       'End Year', 'End Month', 'End Day', 'Total Deaths', 'Total Affected',\n",
       "       'Total Damages Adj'],\n",
       "      dtype='object')"
      ]
     },
     "execution_count": 6,
     "metadata": {},
     "output_type": "execute_result"
    }
   ],
   "source": [
    "df.columns"
   ]
  },
  {
   "attachments": {},
   "cell_type": "markdown",
   "metadata": {},
   "source": [
    "## ANÁLISIS BÁSICO"
   ]
  },
  {
   "cell_type": "code",
   "execution_count": 7,
   "metadata": {},
   "outputs": [
    {
     "data": {
      "text/html": [
       "<div>\n",
       "<style scoped>\n",
       "    .dataframe tbody tr th:only-of-type {\n",
       "        vertical-align: middle;\n",
       "    }\n",
       "\n",
       "    .dataframe tbody tr th {\n",
       "        vertical-align: top;\n",
       "    }\n",
       "\n",
       "    .dataframe thead th {\n",
       "        text-align: right;\n",
       "    }\n",
       "</style>\n",
       "<table border=\"1\" class=\"dataframe\">\n",
       "  <thead>\n",
       "    <tr style=\"text-align: right;\">\n",
       "      <th></th>\n",
       "      <th>Dis No</th>\n",
       "      <th>Year</th>\n",
       "      <th>Seq</th>\n",
       "      <th>Disaster Subgroup</th>\n",
       "      <th>Disaster Type</th>\n",
       "      <th>Disaster Subtype</th>\n",
       "      <th>Country</th>\n",
       "      <th>ISO</th>\n",
       "      <th>Region</th>\n",
       "      <th>Continent</th>\n",
       "      <th>...</th>\n",
       "      <th>Longitude</th>\n",
       "      <th>Start Year</th>\n",
       "      <th>Start Month</th>\n",
       "      <th>Start Day</th>\n",
       "      <th>End Year</th>\n",
       "      <th>End Month</th>\n",
       "      <th>End Day</th>\n",
       "      <th>Total Deaths</th>\n",
       "      <th>Total Affected</th>\n",
       "      <th>Total Damages Adj</th>\n",
       "    </tr>\n",
       "  </thead>\n",
       "  <tbody>\n",
       "    <tr>\n",
       "      <th>0</th>\n",
       "      <td>1900-9002-CPV</td>\n",
       "      <td>1900</td>\n",
       "      <td>9002</td>\n",
       "      <td>Climatological</td>\n",
       "      <td>Drought</td>\n",
       "      <td>Drought</td>\n",
       "      <td>Cabo Verde</td>\n",
       "      <td>CPV</td>\n",
       "      <td>Western Africa</td>\n",
       "      <td>Africa</td>\n",
       "      <td>...</td>\n",
       "      <td>NaN</td>\n",
       "      <td>1900</td>\n",
       "      <td>NaN</td>\n",
       "      <td>NaN</td>\n",
       "      <td>1900</td>\n",
       "      <td>NaN</td>\n",
       "      <td>NaN</td>\n",
       "      <td>11000.0</td>\n",
       "      <td>NaN</td>\n",
       "      <td>NaN</td>\n",
       "    </tr>\n",
       "    <tr>\n",
       "      <th>1</th>\n",
       "      <td>1900-9001-IND</td>\n",
       "      <td>1900</td>\n",
       "      <td>9001</td>\n",
       "      <td>Climatological</td>\n",
       "      <td>Drought</td>\n",
       "      <td>Drought</td>\n",
       "      <td>India</td>\n",
       "      <td>IND</td>\n",
       "      <td>Southern Asia</td>\n",
       "      <td>Asia</td>\n",
       "      <td>...</td>\n",
       "      <td>NaN</td>\n",
       "      <td>1900</td>\n",
       "      <td>NaN</td>\n",
       "      <td>NaN</td>\n",
       "      <td>1900</td>\n",
       "      <td>NaN</td>\n",
       "      <td>NaN</td>\n",
       "      <td>1250000.0</td>\n",
       "      <td>NaN</td>\n",
       "      <td>NaN</td>\n",
       "    </tr>\n",
       "    <tr>\n",
       "      <th>2</th>\n",
       "      <td>1902-0012-GTM</td>\n",
       "      <td>1902</td>\n",
       "      <td>12</td>\n",
       "      <td>Geophysical</td>\n",
       "      <td>Earthquake</td>\n",
       "      <td>Ground movement</td>\n",
       "      <td>Guatemala</td>\n",
       "      <td>GTM</td>\n",
       "      <td>Central America</td>\n",
       "      <td>Americas</td>\n",
       "      <td>...</td>\n",
       "      <td>-91</td>\n",
       "      <td>1902</td>\n",
       "      <td>4.0</td>\n",
       "      <td>18.0</td>\n",
       "      <td>1902</td>\n",
       "      <td>4.0</td>\n",
       "      <td>18.0</td>\n",
       "      <td>2000.0</td>\n",
       "      <td>NaN</td>\n",
       "      <td>843726.0</td>\n",
       "    </tr>\n",
       "  </tbody>\n",
       "</table>\n",
       "<p>3 rows × 26 columns</p>\n",
       "</div>"
      ],
      "text/plain": [
       "          Dis No  Year   Seq Disaster Subgroup Disaster Type Disaster Subtype  \\\n",
       "0  1900-9002-CPV  1900  9002    Climatological       Drought          Drought   \n",
       "1  1900-9001-IND  1900  9001    Climatological       Drought          Drought   \n",
       "2  1902-0012-GTM  1902    12       Geophysical    Earthquake  Ground movement   \n",
       "\n",
       "      Country  ISO           Region Continent  ... Longitude Start Year  \\\n",
       "0  Cabo Verde  CPV   Western Africa    Africa  ...       NaN       1900   \n",
       "1       India  IND    Southern Asia      Asia  ...       NaN       1900   \n",
       "2   Guatemala  GTM  Central America  Americas  ...       -91       1902   \n",
       "\n",
       "  Start Month  Start Day End Year End Month End Day  Total Deaths  \\\n",
       "0         NaN        NaN     1900       NaN     NaN       11000.0   \n",
       "1         NaN        NaN     1900       NaN     NaN     1250000.0   \n",
       "2         4.0       18.0     1902       4.0    18.0        2000.0   \n",
       "\n",
       "   Total Affected  Total Damages Adj  \n",
       "0             NaN                NaN  \n",
       "1             NaN                NaN  \n",
       "2             NaN           843726.0  \n",
       "\n",
       "[3 rows x 26 columns]"
      ]
     },
     "execution_count": 7,
     "metadata": {},
     "output_type": "execute_result"
    }
   ],
   "source": [
    "df.head(3)"
   ]
  },
  {
   "cell_type": "code",
   "execution_count": 8,
   "metadata": {},
   "outputs": [
    {
     "name": "stdout",
     "output_type": "stream",
     "text": [
      "<class 'pandas.core.frame.DataFrame'>\n",
      "RangeIndex: 16636 entries, 0 to 16635\n",
      "Data columns (total 26 columns):\n",
      " #   Column             Non-Null Count  Dtype  \n",
      "---  ------             --------------  -----  \n",
      " 0   Dis No             16636 non-null  object \n",
      " 1   Year               16636 non-null  int64  \n",
      " 2   Seq                16636 non-null  int64  \n",
      " 3   Disaster Subgroup  16636 non-null  object \n",
      " 4   Disaster Type      16636 non-null  object \n",
      " 5   Disaster Subtype   13313 non-null  object \n",
      " 6   Country            16636 non-null  object \n",
      " 7   ISO                16636 non-null  object \n",
      " 8   Region             16636 non-null  object \n",
      " 9   Continent          16636 non-null  object \n",
      " 10  Location           14825 non-null  object \n",
      " 11  Origin             4085 non-null   object \n",
      " 12  Associated Dis     3593 non-null   object \n",
      " 13  Dis Mag Value      5064 non-null   float64\n",
      " 14  Dis Mag Scale      15416 non-null  object \n",
      " 15  Latitude           2775 non-null   object \n",
      " 16  Longitude          2775 non-null   object \n",
      " 17  Start Year         16636 non-null  int64  \n",
      " 18  Start Month        16241 non-null  float64\n",
      " 19  Start Day          13021 non-null  float64\n",
      " 20  End Year           16636 non-null  int64  \n",
      " 21  End Month          15936 non-null  float64\n",
      " 22  End Day            13105 non-null  float64\n",
      " 23  Total Deaths       11838 non-null  float64\n",
      " 24  Total Affected     12143 non-null  float64\n",
      " 25  Total Damages Adj  5366 non-null   float64\n",
      "dtypes: float64(8), int64(4), object(14)\n",
      "memory usage: 3.3+ MB\n"
     ]
    }
   ],
   "source": [
    "df.info()"
   ]
  },
  {
   "cell_type": "code",
   "execution_count": 9,
   "metadata": {},
   "outputs": [
    {
     "data": {
      "text/plain": [
       "Index(['Dis No', 'Year', 'Seq', 'Disaster Subgroup', 'Disaster Type',\n",
       "       'Disaster Subtype', 'Country', 'ISO', 'Region', 'Continent', 'Location',\n",
       "       'Origin', 'Associated Dis', 'Dis Mag Value', 'Dis Mag Scale',\n",
       "       'Latitude', 'Longitude', 'Start Year', 'Start Month', 'Start Day',\n",
       "       'End Year', 'End Month', 'End Day', 'Total Deaths', 'Total Affected',\n",
       "       'Total Damages Adj'],\n",
       "      dtype='object')"
      ]
     },
     "execution_count": 9,
     "metadata": {},
     "output_type": "execute_result"
    }
   ],
   "source": [
    "df.columns"
   ]
  },
  {
   "attachments": {},
   "cell_type": "markdown",
   "metadata": {},
   "source": [
    "## 3. FILTRO PARA DROUGHT"
   ]
  },
  {
   "cell_type": "code",
   "execution_count": 10,
   "metadata": {},
   "outputs": [],
   "source": [
    "drought_filter = (df['Disaster Type'] == 'Drought')\n",
    "df_drought = df[drought_filter]"
   ]
  },
  {
   "cell_type": "code",
   "execution_count": 11,
   "metadata": {},
   "outputs": [
    {
     "data": {
      "text/html": [
       "<div>\n",
       "<style scoped>\n",
       "    .dataframe tbody tr th:only-of-type {\n",
       "        vertical-align: middle;\n",
       "    }\n",
       "\n",
       "    .dataframe tbody tr th {\n",
       "        vertical-align: top;\n",
       "    }\n",
       "\n",
       "    .dataframe thead th {\n",
       "        text-align: right;\n",
       "    }\n",
       "</style>\n",
       "<table border=\"1\" class=\"dataframe\">\n",
       "  <thead>\n",
       "    <tr style=\"text-align: right;\">\n",
       "      <th></th>\n",
       "      <th>Dis No</th>\n",
       "      <th>Year</th>\n",
       "      <th>Seq</th>\n",
       "      <th>Disaster Subgroup</th>\n",
       "      <th>Disaster Type</th>\n",
       "      <th>Disaster Subtype</th>\n",
       "      <th>Country</th>\n",
       "      <th>ISO</th>\n",
       "      <th>Region</th>\n",
       "      <th>Continent</th>\n",
       "      <th>...</th>\n",
       "      <th>Longitude</th>\n",
       "      <th>Start Year</th>\n",
       "      <th>Start Month</th>\n",
       "      <th>Start Day</th>\n",
       "      <th>End Year</th>\n",
       "      <th>End Month</th>\n",
       "      <th>End Day</th>\n",
       "      <th>Total Deaths</th>\n",
       "      <th>Total Affected</th>\n",
       "      <th>Total Damages Adj</th>\n",
       "    </tr>\n",
       "  </thead>\n",
       "  <tbody>\n",
       "    <tr>\n",
       "      <th>0</th>\n",
       "      <td>1900-9002-CPV</td>\n",
       "      <td>1900</td>\n",
       "      <td>9002</td>\n",
       "      <td>Climatological</td>\n",
       "      <td>Drought</td>\n",
       "      <td>Drought</td>\n",
       "      <td>Cabo Verde</td>\n",
       "      <td>CPV</td>\n",
       "      <td>Western Africa</td>\n",
       "      <td>Africa</td>\n",
       "      <td>...</td>\n",
       "      <td>NaN</td>\n",
       "      <td>1900</td>\n",
       "      <td>NaN</td>\n",
       "      <td>NaN</td>\n",
       "      <td>1900</td>\n",
       "      <td>NaN</td>\n",
       "      <td>NaN</td>\n",
       "      <td>11000.0</td>\n",
       "      <td>NaN</td>\n",
       "      <td>NaN</td>\n",
       "    </tr>\n",
       "    <tr>\n",
       "      <th>1</th>\n",
       "      <td>1900-9001-IND</td>\n",
       "      <td>1900</td>\n",
       "      <td>9001</td>\n",
       "      <td>Climatological</td>\n",
       "      <td>Drought</td>\n",
       "      <td>Drought</td>\n",
       "      <td>India</td>\n",
       "      <td>IND</td>\n",
       "      <td>Southern Asia</td>\n",
       "      <td>Asia</td>\n",
       "      <td>...</td>\n",
       "      <td>NaN</td>\n",
       "      <td>1900</td>\n",
       "      <td>NaN</td>\n",
       "      <td>NaN</td>\n",
       "      <td>1900</td>\n",
       "      <td>NaN</td>\n",
       "      <td>NaN</td>\n",
       "      <td>1250000.0</td>\n",
       "      <td>NaN</td>\n",
       "      <td>NaN</td>\n",
       "    </tr>\n",
       "    <tr>\n",
       "      <th>24</th>\n",
       "      <td>1910-9006-BFA</td>\n",
       "      <td>1910</td>\n",
       "      <td>9006</td>\n",
       "      <td>Climatological</td>\n",
       "      <td>Drought</td>\n",
       "      <td>Drought</td>\n",
       "      <td>Burkina Faso</td>\n",
       "      <td>BFA</td>\n",
       "      <td>Western Africa</td>\n",
       "      <td>Africa</td>\n",
       "      <td>...</td>\n",
       "      <td>NaN</td>\n",
       "      <td>1910</td>\n",
       "      <td>NaN</td>\n",
       "      <td>NaN</td>\n",
       "      <td>1914</td>\n",
       "      <td>NaN</td>\n",
       "      <td>NaN</td>\n",
       "      <td>NaN</td>\n",
       "      <td>NaN</td>\n",
       "      <td>NaN</td>\n",
       "    </tr>\n",
       "    <tr>\n",
       "      <th>27</th>\n",
       "      <td>1910-9006-CPV</td>\n",
       "      <td>1910</td>\n",
       "      <td>9006</td>\n",
       "      <td>Climatological</td>\n",
       "      <td>Drought</td>\n",
       "      <td>Drought</td>\n",
       "      <td>Cabo Verde</td>\n",
       "      <td>CPV</td>\n",
       "      <td>Western Africa</td>\n",
       "      <td>Africa</td>\n",
       "      <td>...</td>\n",
       "      <td>NaN</td>\n",
       "      <td>1910</td>\n",
       "      <td>NaN</td>\n",
       "      <td>NaN</td>\n",
       "      <td>1914</td>\n",
       "      <td>NaN</td>\n",
       "      <td>NaN</td>\n",
       "      <td>NaN</td>\n",
       "      <td>NaN</td>\n",
       "      <td>NaN</td>\n",
       "    </tr>\n",
       "    <tr>\n",
       "      <th>30</th>\n",
       "      <td>1910-9006-GMB</td>\n",
       "      <td>1910</td>\n",
       "      <td>9006</td>\n",
       "      <td>Climatological</td>\n",
       "      <td>Drought</td>\n",
       "      <td>Drought</td>\n",
       "      <td>Gambia (the)</td>\n",
       "      <td>GMB</td>\n",
       "      <td>Western Africa</td>\n",
       "      <td>Africa</td>\n",
       "      <td>...</td>\n",
       "      <td>NaN</td>\n",
       "      <td>1910</td>\n",
       "      <td>NaN</td>\n",
       "      <td>NaN</td>\n",
       "      <td>1914</td>\n",
       "      <td>NaN</td>\n",
       "      <td>NaN</td>\n",
       "      <td>NaN</td>\n",
       "      <td>NaN</td>\n",
       "      <td>NaN</td>\n",
       "    </tr>\n",
       "    <tr>\n",
       "      <th>31</th>\n",
       "      <td>1910-9006-GNB</td>\n",
       "      <td>1910</td>\n",
       "      <td>9006</td>\n",
       "      <td>Climatological</td>\n",
       "      <td>Drought</td>\n",
       "      <td>Drought</td>\n",
       "      <td>Guinea-Bissau</td>\n",
       "      <td>GNB</td>\n",
       "      <td>Western Africa</td>\n",
       "      <td>Africa</td>\n",
       "      <td>...</td>\n",
       "      <td>NaN</td>\n",
       "      <td>1910</td>\n",
       "      <td>NaN</td>\n",
       "      <td>NaN</td>\n",
       "      <td>1914</td>\n",
       "      <td>NaN</td>\n",
       "      <td>NaN</td>\n",
       "      <td>NaN</td>\n",
       "      <td>NaN</td>\n",
       "      <td>NaN</td>\n",
       "    </tr>\n",
       "    <tr>\n",
       "      <th>50</th>\n",
       "      <td>1919-9006-AIA</td>\n",
       "      <td>1919</td>\n",
       "      <td>9006</td>\n",
       "      <td>Climatological</td>\n",
       "      <td>Drought</td>\n",
       "      <td>Drought</td>\n",
       "      <td>Anguilla</td>\n",
       "      <td>AIA</td>\n",
       "      <td>Caribbean</td>\n",
       "      <td>Americas</td>\n",
       "      <td>...</td>\n",
       "      <td>NaN</td>\n",
       "      <td>1919</td>\n",
       "      <td>NaN</td>\n",
       "      <td>NaN</td>\n",
       "      <td>1923</td>\n",
       "      <td>NaN</td>\n",
       "      <td>NaN</td>\n",
       "      <td>NaN</td>\n",
       "      <td>NaN</td>\n",
       "      <td>NaN</td>\n",
       "    </tr>\n",
       "    <tr>\n",
       "      <th>54</th>\n",
       "      <td>1920-9004-CPV</td>\n",
       "      <td>1920</td>\n",
       "      <td>9004</td>\n",
       "      <td>Climatological</td>\n",
       "      <td>Drought</td>\n",
       "      <td>Drought</td>\n",
       "      <td>Cabo Verde</td>\n",
       "      <td>CPV</td>\n",
       "      <td>Western Africa</td>\n",
       "      <td>Africa</td>\n",
       "      <td>...</td>\n",
       "      <td>NaN</td>\n",
       "      <td>1920</td>\n",
       "      <td>NaN</td>\n",
       "      <td>NaN</td>\n",
       "      <td>1920</td>\n",
       "      <td>NaN</td>\n",
       "      <td>NaN</td>\n",
       "      <td>24000.0</td>\n",
       "      <td>NaN</td>\n",
       "      <td>NaN</td>\n",
       "    </tr>\n",
       "    <tr>\n",
       "      <th>56</th>\n",
       "      <td>1920-9003-CHN</td>\n",
       "      <td>1920</td>\n",
       "      <td>9003</td>\n",
       "      <td>Climatological</td>\n",
       "      <td>Drought</td>\n",
       "      <td>Drought</td>\n",
       "      <td>China</td>\n",
       "      <td>CHN</td>\n",
       "      <td>Eastern Asia</td>\n",
       "      <td>Asia</td>\n",
       "      <td>...</td>\n",
       "      <td>NaN</td>\n",
       "      <td>1920</td>\n",
       "      <td>NaN</td>\n",
       "      <td>NaN</td>\n",
       "      <td>1920</td>\n",
       "      <td>NaN</td>\n",
       "      <td>NaN</td>\n",
       "      <td>500000.0</td>\n",
       "      <td>20000000.0</td>\n",
       "      <td>NaN</td>\n",
       "    </tr>\n",
       "    <tr>\n",
       "      <th>96</th>\n",
       "      <td>1928-9002-CHN</td>\n",
       "      <td>1928</td>\n",
       "      <td>9002</td>\n",
       "      <td>Climatological</td>\n",
       "      <td>Drought</td>\n",
       "      <td>Drought</td>\n",
       "      <td>China</td>\n",
       "      <td>CHN</td>\n",
       "      <td>Eastern Asia</td>\n",
       "      <td>Asia</td>\n",
       "      <td>...</td>\n",
       "      <td>NaN</td>\n",
       "      <td>1928</td>\n",
       "      <td>NaN</td>\n",
       "      <td>NaN</td>\n",
       "      <td>1928</td>\n",
       "      <td>NaN</td>\n",
       "      <td>NaN</td>\n",
       "      <td>3000000.0</td>\n",
       "      <td>NaN</td>\n",
       "      <td>NaN</td>\n",
       "    </tr>\n",
       "  </tbody>\n",
       "</table>\n",
       "<p>10 rows × 26 columns</p>\n",
       "</div>"
      ],
      "text/plain": [
       "           Dis No  Year   Seq Disaster Subgroup Disaster Type  \\\n",
       "0   1900-9002-CPV  1900  9002    Climatological       Drought   \n",
       "1   1900-9001-IND  1900  9001    Climatological       Drought   \n",
       "24  1910-9006-BFA  1910  9006    Climatological       Drought   \n",
       "27  1910-9006-CPV  1910  9006    Climatological       Drought   \n",
       "30  1910-9006-GMB  1910  9006    Climatological       Drought   \n",
       "31  1910-9006-GNB  1910  9006    Climatological       Drought   \n",
       "50  1919-9006-AIA  1919  9006    Climatological       Drought   \n",
       "54  1920-9004-CPV  1920  9004    Climatological       Drought   \n",
       "56  1920-9003-CHN  1920  9003    Climatological       Drought   \n",
       "96  1928-9002-CHN  1928  9002    Climatological       Drought   \n",
       "\n",
       "   Disaster Subtype        Country  ISO          Region Continent  ...  \\\n",
       "0           Drought     Cabo Verde  CPV  Western Africa    Africa  ...   \n",
       "1           Drought          India  IND   Southern Asia      Asia  ...   \n",
       "24          Drought   Burkina Faso  BFA  Western Africa    Africa  ...   \n",
       "27          Drought     Cabo Verde  CPV  Western Africa    Africa  ...   \n",
       "30          Drought   Gambia (the)  GMB  Western Africa    Africa  ...   \n",
       "31          Drought  Guinea-Bissau  GNB  Western Africa    Africa  ...   \n",
       "50          Drought       Anguilla  AIA       Caribbean  Americas  ...   \n",
       "54          Drought     Cabo Verde  CPV  Western Africa    Africa  ...   \n",
       "56          Drought          China  CHN    Eastern Asia      Asia  ...   \n",
       "96          Drought          China  CHN    Eastern Asia      Asia  ...   \n",
       "\n",
       "   Longitude Start Year Start Month  Start Day End Year End Month End Day  \\\n",
       "0        NaN       1900         NaN        NaN     1900       NaN     NaN   \n",
       "1        NaN       1900         NaN        NaN     1900       NaN     NaN   \n",
       "24       NaN       1910         NaN        NaN     1914       NaN     NaN   \n",
       "27       NaN       1910         NaN        NaN     1914       NaN     NaN   \n",
       "30       NaN       1910         NaN        NaN     1914       NaN     NaN   \n",
       "31       NaN       1910         NaN        NaN     1914       NaN     NaN   \n",
       "50       NaN       1919         NaN        NaN     1923       NaN     NaN   \n",
       "54       NaN       1920         NaN        NaN     1920       NaN     NaN   \n",
       "56       NaN       1920         NaN        NaN     1920       NaN     NaN   \n",
       "96       NaN       1928         NaN        NaN     1928       NaN     NaN   \n",
       "\n",
       "    Total Deaths  Total Affected  Total Damages Adj  \n",
       "0        11000.0             NaN                NaN  \n",
       "1      1250000.0             NaN                NaN  \n",
       "24           NaN             NaN                NaN  \n",
       "27           NaN             NaN                NaN  \n",
       "30           NaN             NaN                NaN  \n",
       "31           NaN             NaN                NaN  \n",
       "50           NaN             NaN                NaN  \n",
       "54       24000.0             NaN                NaN  \n",
       "56      500000.0      20000000.0                NaN  \n",
       "96     3000000.0             NaN                NaN  \n",
       "\n",
       "[10 rows x 26 columns]"
      ]
     },
     "execution_count": 11,
     "metadata": {},
     "output_type": "execute_result"
    }
   ],
   "source": [
    "df_drought.head(10)"
   ]
  },
  {
   "attachments": {},
   "cell_type": "markdown",
   "metadata": {},
   "source": [
    "### 3.1. ANÁLISIS BÁSICO PARA DF_DROUGHT"
   ]
  },
  {
   "cell_type": "code",
   "execution_count": 12,
   "metadata": {},
   "outputs": [
    {
     "data": {
      "text/plain": [
       "(803, 26)"
      ]
     },
     "execution_count": 12,
     "metadata": {},
     "output_type": "execute_result"
    }
   ],
   "source": [
    "df_drought.shape # Tenemos 803 eventos de sequía"
   ]
  },
  {
   "cell_type": "code",
   "execution_count": 13,
   "metadata": {},
   "outputs": [
    {
     "data": {
      "text/plain": [
       "Dis No                 0\n",
       "Year                   0\n",
       "Seq                    0\n",
       "Disaster Subgroup      0\n",
       "Disaster Type          0\n",
       "Disaster Subtype       1\n",
       "Country                0\n",
       "ISO                    0\n",
       "Region                 0\n",
       "Continent              0\n",
       "Location             171\n",
       "Origin               638\n",
       "Associated Dis       513\n",
       "Dis Mag Value        752\n",
       "Dis Mag Scale          0\n",
       "Latitude             803\n",
       "Longitude            803\n",
       "Start Year             0\n",
       "Start Month          186\n",
       "Start Day            790\n",
       "End Year               0\n",
       "End Month            504\n",
       "End Day              790\n",
       "Total Deaths         732\n",
       "Total Affected       277\n",
       "Total Damages Adj    584\n",
       "dtype: int64"
      ]
     },
     "execution_count": 13,
     "metadata": {},
     "output_type": "execute_result"
    }
   ],
   "source": [
    "df_drought.isnull().sum()"
   ]
  },
  {
   "cell_type": "code",
   "execution_count": 14,
   "metadata": {},
   "outputs": [
    {
     "name": "stdout",
     "output_type": "stream",
     "text": [
      "<class 'pandas.core.frame.DataFrame'>\n",
      "Int64Index: 803 entries, 0 to 16557\n",
      "Data columns (total 26 columns):\n",
      " #   Column             Non-Null Count  Dtype  \n",
      "---  ------             --------------  -----  \n",
      " 0   Dis No             803 non-null    object \n",
      " 1   Year               803 non-null    int64  \n",
      " 2   Seq                803 non-null    int64  \n",
      " 3   Disaster Subgroup  803 non-null    object \n",
      " 4   Disaster Type      803 non-null    object \n",
      " 5   Disaster Subtype   802 non-null    object \n",
      " 6   Country            803 non-null    object \n",
      " 7   ISO                803 non-null    object \n",
      " 8   Region             803 non-null    object \n",
      " 9   Continent          803 non-null    object \n",
      " 10  Location           632 non-null    object \n",
      " 11  Origin             165 non-null    object \n",
      " 12  Associated Dis     290 non-null    object \n",
      " 13  Dis Mag Value      51 non-null     float64\n",
      " 14  Dis Mag Scale      803 non-null    object \n",
      " 15  Latitude           0 non-null      object \n",
      " 16  Longitude          0 non-null      object \n",
      " 17  Start Year         803 non-null    int64  \n",
      " 18  Start Month        617 non-null    float64\n",
      " 19  Start Day          13 non-null     float64\n",
      " 20  End Year           803 non-null    int64  \n",
      " 21  End Month          299 non-null    float64\n",
      " 22  End Day            13 non-null     float64\n",
      " 23  Total Deaths       71 non-null     float64\n",
      " 24  Total Affected     526 non-null    float64\n",
      " 25  Total Damages Adj  219 non-null    float64\n",
      "dtypes: float64(8), int64(4), object(14)\n",
      "memory usage: 169.4+ KB\n"
     ]
    }
   ],
   "source": [
    "df_drought.info()"
   ]
  },
  {
   "attachments": {},
   "cell_type": "markdown",
   "metadata": {},
   "source": [
    "### 3.2. ANÁLISIS GEOGRÁFICO DE SEQUÍAS\n",
    "Usando columnas Location, Country, Region, Continent"
   ]
  },
  {
   "attachments": {},
   "cell_type": "markdown",
   "metadata": {},
   "source": [
    "### * Análisis básico"
   ]
  },
  {
   "cell_type": "code",
   "execution_count": 15,
   "metadata": {},
   "outputs": [
    {
     "data": {
      "text/plain": [
       "(803, 4)"
      ]
     },
     "execution_count": 15,
     "metadata": {},
     "output_type": "execute_result"
    }
   ],
   "source": [
    "df_drought_geografical = df[drought_filter][['Location', 'Country', 'Region', 'Continent']]\n",
    "df_drought_geografical.shape"
   ]
  },
  {
   "cell_type": "code",
   "execution_count": 16,
   "metadata": {},
   "outputs": [
    {
     "data": {
      "text/html": [
       "<div>\n",
       "<style scoped>\n",
       "    .dataframe tbody tr th:only-of-type {\n",
       "        vertical-align: middle;\n",
       "    }\n",
       "\n",
       "    .dataframe tbody tr th {\n",
       "        vertical-align: top;\n",
       "    }\n",
       "\n",
       "    .dataframe thead th {\n",
       "        text-align: right;\n",
       "    }\n",
       "</style>\n",
       "<table border=\"1\" class=\"dataframe\">\n",
       "  <thead>\n",
       "    <tr style=\"text-align: right;\">\n",
       "      <th></th>\n",
       "      <th>Location</th>\n",
       "      <th>Country</th>\n",
       "      <th>Region</th>\n",
       "      <th>Continent</th>\n",
       "    </tr>\n",
       "  </thead>\n",
       "  <tbody>\n",
       "    <tr>\n",
       "      <th>0</th>\n",
       "      <td>Countrywide</td>\n",
       "      <td>Cabo Verde</td>\n",
       "      <td>Western Africa</td>\n",
       "      <td>Africa</td>\n",
       "    </tr>\n",
       "    <tr>\n",
       "      <th>1</th>\n",
       "      <td>Bengal</td>\n",
       "      <td>India</td>\n",
       "      <td>Southern Asia</td>\n",
       "      <td>Asia</td>\n",
       "    </tr>\n",
       "    <tr>\n",
       "      <th>24</th>\n",
       "      <td>NaN</td>\n",
       "      <td>Burkina Faso</td>\n",
       "      <td>Western Africa</td>\n",
       "      <td>Africa</td>\n",
       "    </tr>\n",
       "    <tr>\n",
       "      <th>27</th>\n",
       "      <td>NaN</td>\n",
       "      <td>Cabo Verde</td>\n",
       "      <td>Western Africa</td>\n",
       "      <td>Africa</td>\n",
       "    </tr>\n",
       "    <tr>\n",
       "      <th>30</th>\n",
       "      <td>NaN</td>\n",
       "      <td>Gambia (the)</td>\n",
       "      <td>Western Africa</td>\n",
       "      <td>Africa</td>\n",
       "    </tr>\n",
       "  </tbody>\n",
       "</table>\n",
       "</div>"
      ],
      "text/plain": [
       "       Location       Country          Region Continent\n",
       "0   Countrywide    Cabo Verde  Western Africa    Africa\n",
       "1        Bengal         India   Southern Asia      Asia\n",
       "24          NaN  Burkina Faso  Western Africa    Africa\n",
       "27          NaN    Cabo Verde  Western Africa    Africa\n",
       "30          NaN  Gambia (the)  Western Africa    Africa"
      ]
     },
     "execution_count": 16,
     "metadata": {},
     "output_type": "execute_result"
    }
   ],
   "source": [
    "df_drought_geografical.head(5)"
   ]
  },
  {
   "cell_type": "code",
   "execution_count": 17,
   "metadata": {},
   "outputs": [
    {
     "name": "stdout",
     "output_type": "stream",
     "text": [
      "<class 'pandas.core.frame.DataFrame'>\n",
      "Int64Index: 803 entries, 0 to 16557\n",
      "Data columns (total 4 columns):\n",
      " #   Column     Non-Null Count  Dtype \n",
      "---  ------     --------------  ----- \n",
      " 0   Location   632 non-null    object\n",
      " 1   Country    803 non-null    object\n",
      " 2   Region     803 non-null    object\n",
      " 3   Continent  803 non-null    object\n",
      "dtypes: object(4)\n",
      "memory usage: 31.4+ KB\n"
     ]
    }
   ],
   "source": [
    "df_drought_geografical.info()"
   ]
  },
  {
   "cell_type": "code",
   "execution_count": 18,
   "metadata": {},
   "outputs": [
    {
     "data": {
      "text/plain": [
       "Location     171\n",
       "Country        0\n",
       "Region         0\n",
       "Continent      0\n",
       "dtype: int64"
      ]
     },
     "execution_count": 18,
     "metadata": {},
     "output_type": "execute_result"
    }
   ],
   "source": [
    "df_drought_geografical.isnull().sum()"
   ]
  },
  {
   "attachments": {},
   "cell_type": "markdown",
   "metadata": {},
   "source": [
    "### * Distribución geográfica de sequías"
   ]
  },
  {
   "attachments": {},
   "cell_type": "markdown",
   "metadata": {},
   "source": [
    "** Continente"
   ]
  },
  {
   "cell_type": "code",
   "execution_count": 19,
   "metadata": {},
   "outputs": [
    {
     "data": {
      "text/plain": [
       "Africa      361\n",
       "Asia        188\n",
       "Americas    172\n",
       "Europe       49\n",
       "Oceania      33\n",
       "Name: Continent, dtype: int64"
      ]
     },
     "execution_count": 19,
     "metadata": {},
     "output_type": "execute_result"
    }
   ],
   "source": [
    "df_drought_geografical['Continent'].value_counts()"
   ]
  },
  {
   "attachments": {},
   "cell_type": "markdown",
   "metadata": {},
   "source": [
    "** Región"
   ]
  },
  {
   "cell_type": "code",
   "execution_count": 20,
   "metadata": {},
   "outputs": [
    {
     "data": {
      "text/plain": [
       "Eastern Africa               150\n",
       "Western Africa               112\n",
       "South America                 70\n",
       "Eastern Asia                  56\n",
       "South-Eastern Asia            55\n",
       "Southern Asia                 54\n",
       "Central America               49\n",
       "Southern Africa               44\n",
       "Middle Africa                 34\n",
       "Caribbean                     29\n",
       "Northern America              24\n",
       "Northern Africa               21\n",
       "Southern Europe               20\n",
       "Western Asia                  18\n",
       "Eastern Europe                17\n",
       "Australia and New Zealand     13\n",
       "Melanesia                      9\n",
       "Micronesia                     7\n",
       "Western Europe                 6\n",
       "Northern Europe                5\n",
       "Central Asia                   5\n",
       "Polynesia                      4\n",
       "Russian Federation             1\n",
       "Name: Region, dtype: int64"
      ]
     },
     "execution_count": 20,
     "metadata": {},
     "output_type": "execute_result"
    }
   ],
   "source": [
    "df_drought_geografical['Region'].value_counts()"
   ]
  },
  {
   "attachments": {},
   "cell_type": "markdown",
   "metadata": {},
   "source": [
    "** Países"
   ]
  },
  {
   "cell_type": "code",
   "execution_count": 21,
   "metadata": {},
   "outputs": [
    {
     "data": {
      "text/plain": [
       "China                                                         41\n",
       "Brazil                                                        21\n",
       "United States of America (the)                                19\n",
       "Ethiopia                                                      18\n",
       "Kenya                                                         17\n",
       "                                                              ..\n",
       "Mongolia                                                       1\n",
       "Georgia                                                        1\n",
       "Algeria                                                        1\n",
       "Yugoslavia                                                     1\n",
       "United Kingdom of Great Britain and Northern Ireland (the)     1\n",
       "Name: Country, Length: 149, dtype: int64"
      ]
     },
     "execution_count": 21,
     "metadata": {},
     "output_type": "execute_result"
    }
   ],
   "source": [
    "df_drought_geografical['Country'].value_counts()"
   ]
  },
  {
   "attachments": {},
   "cell_type": "markdown",
   "metadata": {},
   "source": [
    "** Ubicación"
   ]
  },
  {
   "cell_type": "code",
   "execution_count": 22,
   "metadata": {},
   "outputs": [
    {
     "data": {
      "text/plain": [
       "Countrywide                                                                                                                                                                                                                                                    15\n",
       "Nationwide                                                                                                                                                                                                                                                     11\n",
       "North                                                                                                                                                                                                                                                           4\n",
       "Central                                                                                                                                                                                                                                                         3\n",
       "South                                                                                                                                                                                                                                                           3\n",
       "                                                                                                                                                                                                                                                               ..\n",
       "Irian Jaya Province                                                                                                                                                                                                                                             1\n",
       "Garissa, Isiolo, Wajir, Mandera, Turkana, Baringo, Kifili, Meru, Makueni, Marsabit/moyale, Tana river, Kitui, Mwingi, Mbere, Tharaka Nithi, Nyambene, Machakos, Taita Taveta, Muranga/Makuyu/Maragwa, Kajiado, Kilifi districts                                 1\n",
       "Rajasthan                                                                                                                                                                                                                                                       1\n",
       "Gouvetto, Kabah-Kabah, Assamo, Guestir, Ali-Addeh, Hol-Hol (Ali-Sabieh dist.), Yokobi, Asseyla (Dikhil dist.), Makrassoul, Dorba, Assa-Guela, Dabnou, Adgueno, Assal, Neima, Debne-Auri, Bahlo (Tadjourah dist.), Adguenou (Obock dist.), Damerjob, Artawea     1\n",
       "Cerro Largo, Florida, Lavalleja, San Jose, Tacuarembo                                                                                                                                                                                                           1\n",
       "Name: Location, Length: 585, dtype: int64"
      ]
     },
     "execution_count": 22,
     "metadata": {},
     "output_type": "execute_result"
    }
   ],
   "source": [
    "df_drought_geografical['Location'].value_counts()"
   ]
  },
  {
   "attachments": {},
   "cell_type": "markdown",
   "metadata": {},
   "source": [
    "### * Visualización de la distribución geográfica de sequías"
   ]
  },
  {
   "attachments": {},
   "cell_type": "markdown",
   "metadata": {},
   "source": [
    "** Distribución de sequías por continente"
   ]
  },
  {
   "cell_type": "code",
   "execution_count": null,
   "metadata": {},
   "outputs": [],
   "source": []
  },
  {
   "cell_type": "code",
   "execution_count": 23,
   "metadata": {},
   "outputs": [
    {
     "data": {
      "image/png": "[encoded data removed]",
      "text/plain": [
       "<Figure size 1200x600 with 1 Axes>"
      ]
     },
     "metadata": {},
     "output_type": "display_data"
    }
   ],
   "source": [
    "plt.figure(figsize=(12,6))\n",
    "order = df_drought_geografical['Continent'].value_counts(ascending=False).index\n",
    "ax =sns.countplot(data=df_drought_geografical, x= 'Continent', order=order)\n",
    "plt.title('Distribución geográfica de sequías por continente')\n",
    "plt.xticks(rotation=45)\n",
    "ax.bar_label(ax.containers[0]); "
   ]
  },
  {
   "attachments": {},
   "cell_type": "markdown",
   "metadata": {},
   "source": [
    "África es el continente con un mayor número de sequías contabilizadas, 361, cantidad que casi duplica el número de eventos producidos en Asia seguido a muy poca distancia de América"
   ]
  },
  {
   "attachments": {},
   "cell_type": "markdown",
   "metadata": {},
   "source": [
    "** Distribución de sequías por región"
   ]
  },
  {
   "cell_type": "code",
   "execution_count": 24,
   "metadata": {},
   "outputs": [
    {
     "data": {
      "image/png": "[encoded data removed]",
      "text/plain": [
       "<Figure size 1200x600 with 1 Axes>"
      ]
     },
     "metadata": {},
     "output_type": "display_data"
    }
   ],
   "source": [
    "plt.figure(figsize=(12,6))\n",
    "order = df_drought_geografical['Region'].value_counts(ascending=False).index\n",
    "ax =sns.countplot(data=df_drought_geografical, x= 'Region', order=order)\n",
    "plt.title('Distribución geográfica de sequías por región')\n",
    "plt.xticks(rotation=85)\n",
    "ax.bar_label(ax.containers[0]); "
   ]
  },
  {
   "attachments": {},
   "cell_type": "markdown",
   "metadata": {},
   "source": [
    "El este y oeste de África son las dos regiones con mayor incidencia de este tipo de desastres"
   ]
  },
  {
   "attachments": {},
   "cell_type": "markdown",
   "metadata": {},
   "source": [
    "** Distribución de sequías por país"
   ]
  },
  {
   "cell_type": "code",
   "execution_count": 25,
   "metadata": {},
   "outputs": [
    {
     "data": {
      "image/png": "[encoded data removed]",
      "text/plain": [
       "<Figure size 1500x500 with 1 Axes>"
      ]
     },
     "metadata": {},
     "output_type": "display_data"
    }
   ],
   "source": [
    "plt.figure(figsize=(15,5))\n",
    "ax =sns.countplot(data=df_drought_geografical, x= 'Country')\n",
    "plt.title('Distribución geográfica de sequías por países')\n",
    "plt.xticks(rotation=90)\n",
    "plt.show()\n"
   ]
  },
  {
   "cell_type": "code",
   "execution_count": 26,
   "metadata": {},
   "outputs": [
    {
     "data": {
      "text/plain": [
       "China                             41\n",
       "Brazil                            21\n",
       "United States of America (the)    19\n",
       "Ethiopia                          18\n",
       "Kenya                             17\n",
       "Niger (the)                       17\n",
       "Somalia                           17\n",
       "India                             16\n",
       "Mauritania                        15\n",
       "Mozambique                        15\n",
       "Name: Country, dtype: int64"
      ]
     },
     "execution_count": 26,
     "metadata": {},
     "output_type": "execute_result"
    }
   ],
   "source": [
    "top_10_countries = df_drought_geografical['Country'].value_counts().head(10)\n",
    "top_10_countries"
   ]
  },
  {
   "cell_type": "code",
   "execution_count": 27,
   "metadata": {},
   "outputs": [
    {
     "data": {
      "image/png": "[encoded data removed]",
      "text/plain": [
       "<Figure size 1500x500 with 1 Axes>"
      ]
     },
     "metadata": {},
     "output_type": "display_data"
    }
   ],
   "source": [
    "plt.figure(figsize=(15,5))\n",
    "ax =sns.barplot(y=top_10_countries.values, x=top_10_countries.index)\n",
    "plt.title('Top-10 países  por sequías')\n",
    "plt.xticks(rotation=50)\n",
    "plt.show()"
   ]
  },
  {
   "attachments": {},
   "cell_type": "markdown",
   "metadata": {},
   "source": [
    "A pesar de que por continente y región el continente africano es el más afectado por las sequías, es China seguido de Brasil y EEUU los países con mayor incidencia de sequías. Hasta el cuarto puesto no aparece un país africano"
   ]
  },
  {
   "attachments": {},
   "cell_type": "markdown",
   "metadata": {},
   "source": [
    "** Distribución de sequías por ubicación"
   ]
  },
  {
   "attachments": {},
   "cell_type": "markdown",
   "metadata": {},
   "source": [
    "IMPORTANTE: hay nulos en esta columna"
   ]
  },
  {
   "cell_type": "code",
   "execution_count": 28,
   "metadata": {},
   "outputs": [
    {
     "data": {
      "text/plain": [
       "array(['Countrywide', 'Bengal', nan, 'North', 'Shensi, Honan, Kansu',\n",
       "       'Prairie provinces, Western Canada', 'Nicolau, Fogo, Sao Tiago',\n",
       "       'Calcutta, Bengal region', 'Western Canada', 'Mysore',\n",
       "       'Rajasthan, center', 'Nationwide except south', 'Nationwide',\n",
       "       'Central, South-West', 'South Valle, Choluteca', 'Lombok, South',\n",
       "       'South-East', 'Nationwide, Central Valley, Central Chile',\n",
       "       'Northwestern region', 'North West Peninsula', 'Paktia province',\n",
       "       'Entire country', 'East, North of Ougadougou. Northern section',\n",
       "       'Hamasion division', 'Northeast',\n",
       "       'Central, North-West, North-East, West regions',\n",
       "       'Central Java, Southern Isles', 'Central',\n",
       "       'Tigre, Wollo, North Shoa, Tigray, Kangra provinces',\n",
       "       'Laguna Arenal', 'Central New South Wales', 'Northwest',\n",
       "       'Northwest Peninsula',\n",
       "       'Victoria, South Australia, Southern Inland New South Wales',\n",
       "       'Southwest of Western Australia', 'Hong Kong',\n",
       "       'North, Upper regions', 'Potosi department', 'North East',\n",
       "       'Prairie provinces', 'Tahoua area',\n",
       "       \"Birni N'konni, Madoua, Tahoua\", 'Zinder department',\n",
       "       'South Ukraine, Volga, Ural (Kazakhstan,Russian Federation, Ukraine)',\n",
       "       'Chaco region', 'Mountain areas', 'Nationwide, Galciao',\n",
       "       'Tichitt, Kandossa', 'Kayes, Bamako, Gao',\n",
       "       'East, Middle-East regions', 'Puno department', 'South',\n",
       "       'Western Montain', 'Nationwide, Kilwa', 'Karamoja', 'Casamance',\n",
       "       'Central, East, South, North', 'Ninauri, Kirkuk, Arbil',\n",
       "       'East Burao, North Mudugh', 'Hill area',\n",
       "       'North West to Central areas', 'Widespread', 'Niger River area',\n",
       "       'Okinawa', 'Southern provinces', 'South, Central regions', 'Tanga',\n",
       "       'Great Plains', 'Ciskei, Transkei', 'Taiz-Torba, Tihama',\n",
       "       'Southern Queensland, New South Wales, Victoria, Northeast Tasmania',\n",
       "       'Central and Southern', 'Anhwei, Kiangsu Province',\n",
       "       'Chittagong, Rangpur Mymenshingh region', 'Northeastern',\n",
       "       'Hwei province', 'Oueme, Zou, Borgou, Atacora provinces',\n",
       "       'Countrywide, especially Tadjourah', 'Southern region',\n",
       "       'Upper and Middle region',\n",
       "       'Benguela, Mocamedes, Huila, Cunene, Kuando-Kobango, Bie',\n",
       "       'Great Comoros Isl.',\n",
       "       'Queensland, New South Wales, Victoria States', 'Corsica, Var',\n",
       "       'all coutry', 'Northern area', 'Altiplano (High Plateaux)',\n",
       "       'Northeast, Sertao', 'Tibet',\n",
       "       'Wollo, Gondar, Goe, Eritrea, Tigrai, Shoa, Harerge, Sidamo',\n",
       "       'Western division',\n",
       "       'Quebec, Prince Edouard Islands, Alberta, Saskatchewan, Manitoba, Ontario provinces',\n",
       "       'Rio Grande Do Sul', 'Fujian province',\n",
       "       'Alagoas, Minas, Bahia, Maranhao, Piaui, Ceara, Rio Grande Do Norte, Paraiba, Pernambuco, Sergipe, Mina Gerais states',\n",
       "       'Ogaden, Eritrea, Tigray, Wello, Shewa, Gama, Gofa, Sidamo, Gondar, Bale',\n",
       "       'Chiquimula area',\n",
       "       'Hubei,Jiangsu, Henan, Anhui, Shandong, Zhejiang provinces',\n",
       "       'Santa Cruz, La Paz, Chaco area',\n",
       "       'Rio Grande Do Sul, Santa Catarina', 'British Columbia, Ontario',\n",
       "       'Flores (Tilor Isl.)', 'Southern', 'Santos City',\n",
       "       'Turkana district',\n",
       "       'Nampula (North province), Cabo Delgado, Nampula, Tete, Manica provinces',\n",
       "       'Southwest', 'Enga, Western highlands, Southern higlands',\n",
       "       'Western region', 'Mindanao', 'Toliary, Tolagnaro',\n",
       "       'South, Central, Maputo, Gaza, Inhambane, Manica, Sofala, Zambezi',\n",
       "       'North, central, south', 'Irian Jaya, East Timor',\n",
       "       'districts of Bhiwani, Gurgaon, Hisar, Mahendargarh, and Rohtak, Kerala, Tami Nadu, Rajasthan',\n",
       "       'Panama city', 'Puno department (Andean)', 'Misamis Oriental',\n",
       "       'Beja region',\n",
       "       'Northern Regions, Maban, Upper Nile Province (south east), Countrywide',\n",
       "       'Kyrim, Irian Jaya', 'Kurima (Irian Jaya)',\n",
       "       'Java, Bali, Nusa Tenggara Timor, S. Sumtra, E. Kalimatan',\n",
       "       'Gujarat, Rajasthan, Orissa, Madhya Pradesh, Andhra Pradesh, Maharashtra',\n",
       "       'Northern provinces', 'North, Northeast', 'Inhambane province',\n",
       "       'Kordofan, Darfur', 'South regions', 'North and East',\n",
       "       'Sinaloa, Nayarit provinces',\n",
       "       'Niamey, Maradi, Zinder, Diffa departments', 'Bas Zaire',\n",
       "       'Louga, Senegal Oriental', 'Natal',\n",
       "       'Countrywide, Transvaal, Orange Free, Natal states',\n",
       "       'south, west and central', 'central, south east and west',\n",
       "       'North-West area', 'Haut Zaire, Kivu province',\n",
       "       'south, west, central', 'Lebowa, Venda (Eastern Transvaal)',\n",
       "       'Togdheer, Sol, Sannag, Bari, Nugall, Mudug, Galguduud, Hiraan, Bakool, Shabeellaha, Gedo',\n",
       "       'Karamoja, Northwestern', 'Northern Provinces', 'Homelands',\n",
       "       'Awdal, Gedo regions', 'Lindi region',\n",
       "       'Huila, Namibe, Kwanza Sul, Benguela', 'North provinces',\n",
       "       'La paz, Oruro, Potosi, Cochabamba, Tarija departments',\n",
       "       'North and Central provinces', 'Western, South',\n",
       "       'Jiangxi, Hunan provinces', 'Queensland', 'Hunnan provinces',\n",
       "       'North and Central',\n",
       "       'Northern Ethiopia, Eritrea, Tigray, Wollo, Gondar, Harerge',\n",
       "       'Corse', 'Kavango, Ovambo regions (North)',\n",
       "       'Lambayeque, La Libertad, Cajamarca, Ancash, Ica, Huancavelica, Ayacucho, Arequipa, Apurimac, Cusco, Puno, Moquepa, Tacna, Lima departments',\n",
       "       'Center', 'Andaluc�a, Extremadura, Castilla la Mancha (Southern)',\n",
       "       'Regions VI, IX, X, XI and XII',\n",
       "       'Limousin, Poitou-Charente, Aquitaine, Midi Pyrenees, Normandie',\n",
       "       'Northeastern regions', 'Whole country',\n",
       "       'Dedza, Dowa, Mzimba, Nkhotakota, Ntcheu, Salima districts',\n",
       "       'Artibonite region',\n",
       "       'Bihar, Orissa, Andhra Pradesh, Maharashtra, Gujarat, Madhya Prasdesh, Uttar Pradesh, Karnataka',\n",
       "       'E.Trarza, N. Brakna, Gorgol, N.W. Assaba, Tagnat',\n",
       "       'South, West of Kigali', 'Tone, Oti prectures',\n",
       "       'Bar El Ghazal Province', 'Southeast',\n",
       "       'Central and Northern regions', 'Central (Serbia)',\n",
       "       'Northern and eastern Transvaal, central and northern Natal, eastern and northern Cape Region, Homeland area',\n",
       "       'West, Central, Eastern, Northern and South regions', 'California',\n",
       "       'Pennsylvania, Maryland', 'North, Central', 'Potosi',\n",
       "       'Xuwen, Leizhou, Yangjiang, Maoming, Suixi, Hanwei, Chaozhou, Meizhou, Jieyang (Guangdong province)',\n",
       "       'Anhui, Jiangsu, Sichuan Provinces',\n",
       "       'Bam, Kadigo, Outbritenga, Oudalan, Sanmatenga, Seno, Soum, Yatenga provinces',\n",
       "       'Nord-East provinces', 'Shandong',\n",
       "       'Prey Veng, Kompong Speu, Kompong Chhnang, Takeo provinces',\n",
       "       'Northern & northeastern districts', 'Western provinces',\n",
       "       'Coahuila, Durango, Chihuahua, Nuevo Leon',\n",
       "       'Gouvetto, Kabah-Kabah, Assamo, Guestir, Ali-Addeh, Hol-Hol (Ali-Sabieh dist.), Yokobi, Asseyla (Dikhil dist.), Makrassoul, Dorba, Assa-Guela, Dabnou, Adgueno, Assal, Neima, Debne-Auri, Bahlo (Tadjourah dist.), Adguenou (Obock dist.), Damerjob, Artawea',\n",
       "       'Rajasthan',\n",
       "       'Garissa, Isiolo, Wajir, Mandera, Turkana, Baringo, Kifili, Meru, Makueni, Marsabit/moyale, Tana river, Kitui, Mwingi, Mbere, Tharaka Nithi, Nyambene, Machakos, Taita Taveta, Muranga/Makuyu/Maragwa, Kajiado, Kilifi districts',\n",
       "       'Irian Jaya Province',\n",
       "       'Brakna, Tagant, Assaba, Adrar and Inchiri regions',\n",
       "       'Celica, Macara, Puyango, Pindal, Sozoranga, Zapotillo counties (Loja province), Arenillas, Las Lajas, Huaquillas counties (El Oro province)',\n",
       "       'Borena, Bale (Oromiya state) South Ome zone, Somali state',\n",
       "       'Rupununi Region',\n",
       "       'Choluteca, Valle, Francisco Morazan, El Para�so, Comayagua departments',\n",
       "       'Mozonte, Ocotal, Santa Maria de Macuelito, San Lucas, Somoto, Yalaguina, Achuapa, Santa Rosa del Penon, Palacaguina, Totogalpa, San Juan de Limay, San Nicolas, Larreynaga, El Sauce, El Jicaral, San Francisco, San Pedro, Villanueva, Santo Tomas, Somototill',\n",
       "       'Nebo District (Northern provinces)',\n",
       "       'Southern, Western, Central & Eastern Lusaka Provinces',\n",
       "       'Lake Victoria, North East, Coastal Region', 'Ginkongoro',\n",
       "       'Beja (Red Sea state)', 'Milne Bay, Morobe, Madang, East',\n",
       "       'Choiseul, Isabel, Western, Central provinces',\n",
       "       'Quang Tri, Quang Binh, Quang Ngai, Quang Nam, Ha Tinh, Nghe An, Binh Dinh, Gia Lai, Kon Tun provinces',\n",
       "       'Nord East, Piaui State',\n",
       "       'Bugabira, Busoni, Kirundo, Ntega districts (Kirundo province), Gihanga district (Bubanza province), Rumonge district (Bururi province), Buganda, Rugombo districts (Cibitoke province), Gitega, Ruyigi, Karuzi, Rutana, Makamba, Muyinga, Cankuzo provinces',\n",
       "       'Kandahar, Hilmand, Nimroz, Zabul, Uruzgan provinces (south-west), Hirat, Farah, Badghis provinces (west), Paktika, Khost, Ghazni provinces (south), Baghlan, Kunduz, Takhar, Badakhshan provinces (north-east)',\n",
       "       'Ararat, Armavir, Gergharkunik, Aragatsotn, Shirak, Kotayk, Tavush, Lori provinces',\n",
       "       'Federacija Bosne I Hercegovine, Republika Srpska provinces',\n",
       "       'Absheron, Aran, Daghlig Shirvan, Ganja-Gazakh, Guba-Khachmaz, Kalbajar-Lachin, Lankaran, Nakhchivan, Shaki-Zaqatala, Yukhari Garabakh provinces',\n",
       "       'Blagoevgrad, Burgas, Dobrich, Gabrovo, Haskovo, Jambol, Kardzhali, Kustendil, Lovech, Montana, Pazardzhik, Pernik, Pleven, Plovdiv, Razgrad, Ruse, Shumen, Silistra, Sliven, Smoljan, Sofia, Sofia-city, Stara Zagora, Targovishte, Varna, Veliko Tarnovo, Vidin, Vratca',\n",
       "       'Gran Chaco district (Tarija province)',\n",
       "       'Praia (Santiago Isl.), Fogo Isl., San Vicente, San Nicolau and Sal.',\n",
       "       'Guantanamo, Las Tuna, Holguin, Santiago de Cuba, Granma, Matanzas Provinces',\n",
       "       'Guarracaste, Central, South Pacific, Valle Central, Valle del Cuarco regions/provinces',\n",
       "       'Viti Levu, Yasawa, Vanua Levu', 'Pohnpei, Chuuk, Yap states',\n",
       "       'Maputo, Gaza, Inhame (south)', 'Sabah', 'North Region',\n",
       "       'Anseba, Debubawi Keih Bahri, Semenawi Keih Bahri provinces',\n",
       "       'North Wollo, South Wollo, Oromia, Wag Himra districts (Amhara province), Southern district (Tigray province), Beneshangul Gumu, Gambela, Oromia, SNNPR, Somali provinces',\n",
       "       'Nyandarua, Nyeri districts (Central province), Kilifi, Kwale, Lamu, Taita Taveta, Tana River districts (Coast province), Isiolo, Kitui, Machakos, Makueni, Marsabit, Mbeere, Moyale, Mwingi, Tharaka districts (Eastern province), Garissa, Mandera, Wajir districts (North Eastern province), Baringo, Kajiado, Keiyo, Laikipia, Marakwet, Samburu, Trans Mara, Turkana, West Pokot districts (Rift Valley province)',\n",
       "       'Ali Sabieh, Dikhil, Djibouti, Obock, Tadjourah provinces',\n",
       "       'Andalousie, Estr�madure, Castille (centre), Levant (Murcie, Valence, Catalogne, Aragon',\n",
       "       'Fars, Buchehr, Yazd, Kerman, Sistan-Baluchestan, Kohkiluyeh Boyer-Ahmad, Hormuzgan, Khuzestan provinces',\n",
       "       'South Tarawa, Ocean Island', 'Tiznit',\n",
       "       'Coahuila, Chichuahua, Durango, Sonora, Sinoloa State',\n",
       "       'New Delhi city (Delhi province), Gujarat, Rajasthan, Madhya Prasdesh, Andhra Pradesh, Orissa, Maharashtra provinces',\n",
       "       \"Guulin town (Delger district, Govi-Altai province), Galshir district (Xentii province), Ider district (Zavxan province), Mo'st, Manxan, Bulgan, U'yench district (Xovd province), Bugat, Jargalan districts (Govi-Altai province), Bogd, Jinst, Baacagaan, Bayan-O'ndor districts (Bayanxongor province), Bayandelger, Tu'vshinshiree, Uulbayan, Asgat districts (Su'xbaatar province), Dornogovi, Dundgovi, O'mnogovi provinces\",\n",
       "       'Montana de la Flor area (Marale district, Francisco Morazan province)',\n",
       "       'Atlantico Norte, Jinotega, Nueva Segovia provinces',\n",
       "       'Jilin Sheng, Jiangxi Sheng, Anhui Sheng provinces',\n",
       "       'Nei Mongol Zizhiqu province', 'Guangdong Sheng province',\n",
       "       'Guantanamo, Santiago De Cuba, Las Tunas, Camaguey provinces',\n",
       "       'Famgusta, Kyrenia, Larnaca, Limassol, Nicosia, Paphos provinces',\n",
       "       'Kakheti, Kvemo Kartli, Samtskhe-Javakheti, Mtskheta-Mtianeti, Shida Kartli, Imereti provinces',\n",
       "       'Clarendon, Hanover, Manchester, Portland, Saint Ann, Saint Catherine, Saint Elizabeth, Saint James, Saint Thomas, Trelawny, Westmoreland provinces',\n",
       "       \"Ajloon, Amman, Aqaba, Balqa, Irbid, Jarash, Karak, Ma'an, Madaba, Mafraq, Tafiela, Zarqa provinces\",\n",
       "       'Balti, Cahul, Chisinau, Dubasari, Edinet, Gagauzia, Lapusna, Orhei, Soroca, Tighina, Ungheni provinces',\n",
       "       'Ambovombe-Androy, Bekily, Beloha, Tsihombe districts (Androy province), Amboasary-Atsimo ditrict (Anosy province), Ampanihy Ouest district (Atsimo Andrefana province), Ambatatondraza, Amparafaravola, Andilamena, district (Alaotra Mangoro province), Vatomandry, Marolambo, Antanambao Manamposty districts (Atsinanana province), Antsirabe I, Antsirable II, Faratsiho, Antanifotsy, Betafo districts (Vakinankaratra province)',\n",
       "       'All country', 'Tartarstan', 'Basakana Island',\n",
       "       'Southern (Matabeleland)',\n",
       "       'Northern Darfur, Northern Kordofan, Red Sea provinces',\n",
       "       'Artigas, Salto, Paysandu, Rio Negro, Cerro Largo, Tacuarembo, Rivera Departments',\n",
       "       'Concepcion, San Pedro Department, Alto Paraguay, Boqueon, Presidente Hayes',\n",
       "       'Thar, Kohistan, Kachoo (Sindh province), Lasbela, Kharan, Chaghi, Loralai,Zhob, Khuzdar, Kalat, Killa Saifullah, Pshin districts (Baluchistan Province)',\n",
       "       'Umutura village (Rubavu district, West/Iburengerazuba province), Kibungo village (Ngoma district, East/Iburasirazuba province), Gitamara village (Muhanga district, South/Amajyepfo province), Butare village (Huye district, South/Amajyepfo province), Gikongoro village (Nyamagabe district, South/Amajyepfo province), Kigali City/Umujyi wa Kigali province',\n",
       "       'Ceel Barde, Rab Dhuure, Tayeeglow, Xudur districts (Bakool province), Garbahaarey, Baardheere districts (Gedo province), Bay, Hiraan provinces',\n",
       "       'Abim, Amudat, Kaabong, Kotido, Moroto, Nakapiripirit, Napak provinces',\n",
       "       'Kentucky, Maryland, Ohio, Pennsylvania, Virginia , West Virginia',\n",
       "       'Central - North regions', 'Wyoming province',\n",
       "       'Dolj, Mehedinti, Teleorman, Olt, Constanta, Braila, Vaslui, Botosani provinces',\n",
       "       'Kabodien, Shaartuskiy, Jilikul, Ghozimalik, Kumsangirskiy, Piynjskiy districts (Khatlon province), Gorno Badakhshan Autonomous Oblast (Badakhshoni Kuni province), Leninabad Oblast (Sogd province)',\n",
       "       'South Carolina, Georgia, Alabama, Florida, Louisiana, Texas provinces',\n",
       "       'Karakalpakstan, Khorezm provinces', 'Cuanza Sul province',\n",
       "       'Plateau Central province', 'Pernambuco province',\n",
       "       'Queensland, New South Wales provinces',\n",
       "       'Minas Gerais, Paraiba, Rio Grande do Norte, Pernambuco, Piaui provinces',\n",
       "       'Choluteca, Valle, Francisco Morazan, Paraiso, La Paz, Comayagua, Intibuca, Yoro, Lempira provinces',\n",
       "       'Assaba, Brakna, Gorgol, Tagant, Nouackchott, Inchiri, Adrar, Hodh el Gharbi, Hodh ech Chargi, Tiris-Zemmour, Dakhlet-Nouadhibou provinces',\n",
       "       'Chiquimula province',\n",
       "       'Bamako, Gao, Kayes, Koulikoro, Mopti, Segou, Sikasso provinces; Dire, Gourma-Rharous, Niafunke districts (Tombouctou province) (South/Sahel region)',\n",
       "       'Sichuan Sheng, Yunnan Sheng provinces', 'Nord province',\n",
       "       'Kampong Cham, Kampong Chhnang, Kampong Speu, Kampong Thom, Kampot, Kandal, Kep, Koh Kong, Kratie, Phnom Penh, Preah Sihanouk, Prey Veng, Pursat, Svay Rieng, Takeo provinces',\n",
       "       'Cheju-do, Chollabuk-do, Chollanam-do, Chungchongbuk-do, Chungchongnam-do, Inchon, Kang-won-do, Kwangju, Kyonggi-do, Kyongsangbuk-do, Kyongsangnam-do, Pusan, Seoul, Taegu, Taejon provinces',\n",
       "       'Hambantota district (Southern province), Kurunegala, Puttalam districts (North Western provinces), Ratnapura district (Sabaragamuwa province), Moneragala, Badulla districts (Uva province), Ampara district (Eastern province)',\n",
       "       'Maputo, Gaza, Inhambane, Sofala, Tete, Zambezia provinces',\n",
       "       \"Qacha's Nek, Quthing, Mohale's Hoek provinces\",\n",
       "       'Santiago, Santo Antao Provinces',\n",
       "       'NO DATA: all country selected: Central River, Kanifing Municipal Council, Lower River, North Bank, Upper River, West Coast provinces',\n",
       "       'Amoron I Mania, Androy, Anosy, Atsimo Andrefana, Atsimo Atsinanana, Haute Matsiatra, Ihorombe, Menabe, Vatovavy Fitovinany provinces (South regions)',\n",
       "       'Balaka, Blantyre, Chikwawa, Machinga, Mangochi, Mulanje, Nsanje, Phalombe, Thyolo, Zomba districts (Southern Region Province)',\n",
       "       'Guangdong Sheng, Fujian Sheng, Guangxi Zhuangzu Zizhiqu provinces',\n",
       "       'Hebei Sheng province', 'Shandong Sheng province',\n",
       "       'All country: Gabu, Bafata (mainly affected provinces in North-eastern), Biombo, Bolama/bijagos, Cacheu, Oio, Quinara, Sector Autonomo De Bissau, Tombali provinces',\n",
       "       'Liure, Soledad districts (Paraiso province), Orocuina, El Corpus districts (Choculeta province)',\n",
       "       'Uttar Pradesh, Madhya Pradesh, Rajasthan, Punjab, Haryana, Delhi, Karnataka, Kerala, Nagaland, Orissa, Chhattisgarh, Himachal Pradesh, Gujarat, Maharashtra, Andhra Pradesh, Tamil Nadu provinces',\n",
       "       'Sicilia, Basilicata, Puglia, Sardegna provinces',\n",
       "       'Takeo, Kampot, Kampong Speu, Kampong Chhnang, Kandal, Prey Veng, Phnom Penh,Otdar Meanchey, Banteay Meanchey, Pursat, Battambang provinces',\n",
       "       'Baja California, Coahuila, Tamaulipas, Veracruz, Sinaloa, Tlaxcala, Sonora, San Luis Potosi provinces',\n",
       "       'Nueva Segovia, Madriz, Esteli, Leon, Chinandega, Carazo, Boaco, Jinotega, Matagalpa provinces',\n",
       "       'Guera, Biltine, Ouadda�, Assongha, Batha-Est, Batha-ouest provinces',\n",
       "       'Ibanka, Rouafi I, Rouafi II, Chinagamane villages (Filingue district, Tillaberi province), Sabara I (Dogondoutchi district, Dosso province), Sabara II (Niamey province), Ayawa (Ouallam district, Tillaberi province), Kabefo (Tillaberi district, Tillaberi province), Dinkihmi villages (not found).',\n",
       "       'Otjovanatje, Otjorute, Okapundja, Otjekwa, Okaurukwa locations (Ruacana district, Omusati province)',\n",
       "       'Usulutan, San Miguel, Morazan, La Union provinces',\n",
       "       'Lomahasha, Lugongolweni, Tikhuba districts (Lubombo province), Madlangampisi, Mhlangatane, Ndzingeni districts (Hhohho province), Dvokodvweni, Hlane, Lubuli, Mhlume, Mpolonjeni, Nkilongo, Siphofaneni, Sithobela districts (Lubombo province), Mafutseni, Mkhiweni districts (Manzini province), Lavumisa, Matsanjeni, Sigwe districts (Shiselweni province), Lobamba, Mayiwane, Ntfonjeni, Timpisini districts (Hhohho province), Kuhanyeni, Kwaluseni, Ludzeludze, Mahlanya, Manzini, Mthongwaneni, Nhlambeni districts (Manzini province), Hosea, Kubuta, Maseyisini, Mbangweni, Mtsambama, Sandleni, Shiselweni 1, Zombodze districts (Shiselweni province)',\n",
       "       'Kwekwe, Gokwe South, Zvishavane, Shurugwi, Gweru, Mberengwa, Gokwe North districts (Midlands province), Mvuma city (Chirumhanzu district, Midlands province), Chipinge district (Manicaland province), Gwanda, Umzingwane, Matobo districts (Matabeleland South province), Chiredzi, Chivi, Masvingo districts (Masvingo province), Hwange, Tsholotsho districts (Matabeleland North province), Kariba district (Mashonaland West province), Guruve district (Mashonaland Central province)',\n",
       "       'Kaabong, Kotido, Abim, Moroto, Nakapiripirit provinces (Karamoja region)',\n",
       "       'Otjozondjupa, Oshikoto, Oshana, Omusati, Ohangwena, Kunene, Kavango, Caprivi provinces (North)',\n",
       "       'Amazonas, Ancash, Apurimac, Arequipa, Ayacucho, Cajamarca, Callao, Cusco, Huancavelica, Huanuco, Ica, Junin, La Libertad, Lambayeque, Lima, Loreto, Madre de Dios, Moquegua, Pasco, Piura, Puno, San Martin, Tacna, Tumbes, Ucayali provinces',\n",
       "       'Pangasinan, La Union, Ilocos Norte, Ilocos Sur districts (Region I (Ilocos region) province)',\n",
       "       'NO DATA: all country was selected: Dakar, Diourbel, Fatick, Kaffrine, Kaolack, Kedougou, Kolda, Louga, Matam, Saint Louis, Sedhiou, Tambacounda, Thies, Ziguinchor provinces',\n",
       "       'Nakhon Sawan, Udon Thani, Khon Kaen, Satun, Phrae, Loei, Kalasin, Sukhothai, Nakhon Ratchasima provinces',\n",
       "       'Illinois, Indiana, Iowa, Kansas, Michigan, Minnesota, Missouri, Nebraska, North Dakota, Ohio, South Dakota, Wisconsin provinces',\n",
       "       'An Giang, Kien Giang, Long An provinces',\n",
       "       'Buenos Aires, Buenos Aires D.f., Entre Rios, Santa Fe provinces',\n",
       "       'Kirundo, Muyinga, Ngozi, Kayanza, Muramvya, Bujumbura Rural, Ruyigi, Gitega, Bubanza, Makamba provinces',\n",
       "       'Cunene, Cuanza-Sul provinces',\n",
       "       'Hunan Sheng, Jiangxi Sheng, Zhejiang Sheng, Fujian Sheng provinces',\n",
       "       'Bjelovar-bilogora, Dubrovnik-Neretva, Grad Zagreb, Istra, Karlovac, Koprivnica-krizevci, Krapina-zagorje, Lika-senj, Medimurje, Osijek-baranja, Pozega-slavonija, Primorje-gorski Kota, �ibenik, Sisak-moslavina, Slavonski Brod-posav, Split-dalmatija, Varazdin, Virovitica-podravina, Vukovar-srijem, Zadar-Knin provinces',\n",
       "       'Saint Nicolas, Bombardopolis, Baie-de-Henne, Jean Rabel towns (Mole Saint Nicolas district, Nord Ouest province)',\n",
       "       'Republika Srpska province, Posavski district (Federacija Bosne I Hercegovine province), Neretvljanski district (Federacija Bosne I Hercegovine province)',\n",
       "       'Tigray, Oromia, Amhara, Somali, Afar provinces',\n",
       "       'Bacs-kiskun, Baranya, Bekes, Borsod-abauj-zemplen, Budapest, Csongr�d, Fej�r, Gyor-moson-sopron, Hadju-bihar, Heves, Jasz-nagykun-seolnok, Komarom-esztergom, N�gr�d, Pest, Somogy, Szabolcs-szatmar-bereg, Tolna, Vas, Veszpr�m, Zala provinces',\n",
       "       'Belu, Timor Tengah Selatan, Timor Tengah Utara, Kupang districts (West Timor region, Nusatenggara Timur province)',\n",
       "       'Kitui, Mbeere, Mwingi, Marsabit districts (Eastern province), Turkana, Kajiado, Narok districts (Rift Valley province), Mandera, Wajir, Garissa, Ijara districts (North Eastern province), Tana river, Kilifi, Kwale, Taita Taveta, Malindi districts (Coast province), Nyanza, Central provinces',\n",
       "       'Atlantida, Choluteca, Colon, Comayagua, Copan, Cortes, Francisco Morazan, Gracias A Dios, Intibuca, Islas De Bahia, La Paz, Lempira, Name Unknown, Ocotepeque, Olancho, Paraiso, Santa Barbara, Valle, Yoro provinces',\n",
       "       'Beni, Chuquisaca, Cochabamba, Santa Cruz, Tarija provinces',\n",
       "       'Rio Grande Do Sul, Paraiba, Ceara, Piaui, Sergipe, Alagoas, Bahia, Rio Grande do Norte, Pernambuco provinces',\n",
       "       'Holguin, Las Tunas, Camaguey, La Habane provinces',\n",
       "       'Vladisvostok city (Primorskiy Kray province)',\n",
       "       'Magoe, Zumbu, Cahora Bassa, Changara, Moatize, Chiuta, Mutarara districts (Tete province)',\n",
       "       'Gatsibo, Nyagatare, Bugesera district (East/Iburasirazuba province), Kibungo city (Ngoma district, East/Iburasirazuba province), Gisagara, Huye, Nyanza, Nyamagabe, Nyaruguru, Kamonyi, Muhanga, Ruhango districts (South/Amajyepfo province)',\n",
       "       'Kaskazini Unguja, Mjini Magharibi, Kusini Unguja, Singida, Dodoma, Shinyanga, Mwanza, Tabora, Kagera, Kigoma provinces',\n",
       "       'Cajamarca province',\n",
       "       'Sool, Sanaag, Togdheer, Nugaal, Galgaduud, Hiraan, Mudug, Bari provinces',\n",
       "       'Arusha, Kilimanjaro, Manyara, Tanga provinces (Northern Highlands region), Pwani, Dar-es-salaam provinces (Northern Coast region).',\n",
       "       'All country: all provinces selected',\n",
       "       'KwaZulu-Natal, Eastern Cape, Northern Cape, Mpumalanga, North-West, Free state, Limpopo provinces',\n",
       "       'Busoni, Bugabira, Ntega, Kirundo districts (Kirundo province), Ruyigi, Cankuzo, Rutana, Muyinga provinces',\n",
       "       'Afder, Liben districts (Somali province), Gode zones (Shabelle district, Somali province), Borena district (Oromiya province)',\n",
       "       'Logone-Et-Chari disctrict (Extr�me-Nord province)',\n",
       "       'Tadjourah district (Tadjourah province), Dikhil district (Dikhil province), Ali Sabieh district (Ali Sabieh province), Obock district (Obock province)',\n",
       "       'Manaquiri, Atalaia Do Norte, Anori, Caapiranga districts (Amazonas province)',\n",
       "       'Shanxi Sheng, Nei Mongol Zizhiqu, Ningxia Huizu Zizhiqu, Hunan Sheng, Guizhou Sheng provinces',\n",
       "       'Sichuan Sheng, Chongqing Shi, Guizhou Sheng, Zhejiang Sheng, Anhui Sheng, Jiangxi Sheng, Hunan Sheng, Hubei Sheng provinces',\n",
       "       'Quinara, Tombali provinces, Bolama/Bijagos Isl.(=province)',\n",
       "       'Badakhshan, Badghis, Baghlan, Balkh, Bamyan, Daykundi, Faryab, Ghor, Jawzjan, Kunduz, Samangan, Sar-e-Pul, Takhar, Uruzgan provinces',\n",
       "       'NO DATA: all country has been selected', 'Kampong Speu province',\n",
       "       'Vangaindrano district (Atsimo Atsinanana province)',\n",
       "       'Southern Region, Central Region provinces',\n",
       "       'Tillaberi, Tahoua, Diffa, Zinder, Maradi provinces',\n",
       "       'Maputo, Gaza, Inhambane, Manica, Sofala, Zambezia, Tete provinces',\n",
       "       'Mopti, Kayes, Tombouctou, Gao provinces',\n",
       "       'Gedo, Bakool, Bay, Hiraan, Juba Hoose, Juba Dhexe provinces',\n",
       "       'Makueni, Kitui, Marsabit, Isiolo, Mwingi, Kitui, Moyale districts (Eastern province), Malindi, Kwale, Kilifi, Taita Taveta, Tana river districts (Coast province), Mandera, Wajir, Garissa, Ijara districts (North Eastern province), Kajiado, Turkana, Samburu, Laikipia districts (Rift Valley province).',\n",
       "       'Presidente Hayes, Boqueron, Alto Paraguay provinces',\n",
       "       'Ang Thong, Bangkok, Buriram, Chachoengsao, Chainat, Chaiyaphum, Chanthaburi, Chiang Mai, Chiang Rai, Chonburi, Chumphon, Kalasin, Kampaeng Phet, Kanchanaburi, Khon Kaen, Krabi, Lampang, Lamphun, Loei, Lopburi, Mae Hong Son, Maha Sarakham, Mukdahan, Nakhon Nayok, Nakhon Pathom, Nakhon Phanom, Nakhon Ratchasima, Nakhon Sawan, Nakhon Si Thammarat, Nan Narathiwat, Nong Khai, Nonthaburi, Pathum Thani, Pattani, Phangnga, Phatthalung, Phayao, Phetchabun, Phetchaburi, Phichit, Phitsanulok, Phra Nakhon Si Ayudhya, Phrae, Phuket, Prachuap Khilikhan, Ranong, Ratchaburi, Rayong, Roi Et, Sakon Nakhon, Samut Prakarn, Samut Sakhon, Samut Songkham, Saraburi, Satun, Si Saket, Singburi, Songkhla, Sukhothai, Suphanburi, Surat Thani, Surin, Tak, Trad, Trang, Uthai Thani, Uttaradit, Yala, Yasothon, Amnat Charoen, Nong Bua Lamphu, Phachinburi, Sa Kaeo, Ubon Ratchathani, Udon Thani provinces',\n",
       "       'Rupa, Nadunget subcounties (Moroto province); Nyakwae subcounty (Abim province); Kalapata city (Dodoth district, Kaabong province) (Karamoja region)',\n",
       "       'Ben Tre province', 'Arusha, Manyara, Kilimanjaro provinces',\n",
       "       'Alytaus, Kauno, Klaipedos, Marijampoles, Panevezio, Siauliu, Taurages, Telsiu, Utenos, Vilniaus provinces',\n",
       "       'Kidal province', 'Mid Western, Far Western provinces',\n",
       "       'Tumbes, Piura, Ica, Arequipa provinces',\n",
       "       'Southern, Western provinces',\n",
       "       'Ceara, Piaui, Maranhao, Tocantins, Minas Gerais provinces',\n",
       "       'NO DATA: all country selected',\n",
       "       'Oromia, Somali, Amhara, Afar, Tigray, SNNPR provinces',\n",
       "       'Kunduz, Balkh, Faryab, Badghis provinces',\n",
       "       'Kirundo, Ngozi, Muyinga, Cankuzo, Karuzi, Ruyigi provinces',\n",
       "       'Djibouti, Arta cities (Djibouti district, Djibouti province), Ali Sabieh district (Ali Sabieh province), Obock district (Obock province), Tadjourah district (Tadjourah province), Dikhil district (Dikhil province)',\n",
       "       'La Paz, Oruro, Tarija, Chuquisaca, Santa Cruz provinces',\n",
       "       'Henan Sheng, Anhui Sheng, Shanxi Sheng, Shaanxi Sheng, Shandong Sheng, Hubei Sheng, Gansu Sheng, Hebei Sheng, Jiangsu Sheng provinces',\n",
       "       'Achipelagos, Semenawi Keih Bahri provinces (Northern Red Sea Region), Debubawi Keih Bahri province (Southern Red Sea Region), Anseba, Debub provinces',\n",
       "       \"Maseru, Mafeteng, Leribe, Butha Buthe, Berea, Mohale's Hoek, Quthing provinces (Lowlands region)\",\n",
       "       'Dubasari province (Transnitria region)',\n",
       "       'Gaza, Inhambane, Manica, Sofala, Maputo provinces (Centre and south of the country)',\n",
       "       'Hhohho, Lubombo, Manzini, Shiselweni provinces',\n",
       "       'Karonga, Mzimba districts (Northern Region province), Ntchisi district (Central Region province), Mulanje district (Southern Region province)',\n",
       "       'La Union, Pangasinan, Ilocos Sur districts (Region I (Ilocos region) province), Isabela, Nueva Vizcaya, Quirino districts (Region II (Cagayan Valley) province)',\n",
       "       'California, Georgia, Maryland provinces',\n",
       "       'Atsimo Andrefana, Androy, Anosy provinces',\n",
       "       'Maputo, Gaza, Inhambane, Manica, Sofala, Tete provinces',\n",
       "       'Matabaan city, Belet Weyne district (Hiraan province)',\n",
       "       'Badakhshoni Kuni, Khatlon, Sogd, Tadzhikistan Territories provinces',\n",
       "       'Nakapiripit, Kodito, Abim provinces (Karamoja region, North-East)',\n",
       "       'Sacho, Marigat, Mukutani, Tenges, Kolowa, Tangulbei, Nginyang cities/towns (Baringo district, Rift Valley province), Samburu district (Rift valley province), Turkana, West Pokot, Administrative Unit Not Available districts (North Rift Valley province), Central, Eastern, North Eastern, Coast provinces',\n",
       "       'Filadelfia, Loma Plata, Mariscal Estigarribia towns (Mcal. Estigarribia district, Boqueron province), Alto Paraguay, Presidente Hayes provinces',\n",
       "       'Damascus, Homs, Hama, Raqqah, Dayr_Az_Zor, Hassakeh provinces',\n",
       "       'Ang Thong, Chainat, Chaiyaphum, Chiang Rai, Kalasin, Kampaeng Phet, Khon Kaen, Lampang, Loei, Lopburi, Maha Sarakham, Mukdahan, Nakhon Phanom, Nakhon Ratchasima, Nakhon Sawan, Nan, Nong Bua Lamphu, Nong Khai, Phayao, Phichit, Phitsanulok, Phra Nakhon Si Ayudhya, Phrae, Sakon Nakhon, Saraburi, Singburi, Sukhothai, Suphanburi, Udon Thani, Uthai Thani, Uttaradit provinces',\n",
       "       'Masvingo, Matabeleland North, Matabeleland South, Midlands, Manicaland, Mashonaland Central, Mashonaland East, Mashonaland West provinces',\n",
       "       'Aileu, Ainaro, Baucau, Ermera, Liquica, Manatuto, Manufahi provinces',\n",
       "       'R�o Negro, La Pampa, C�rdoba, Buenos Aires, Entre R�os, Santa Fe, Corrientes, Chaco, Formosa, Santiago del Estero provinces',\n",
       "       'Yunnan Sheng, Guizhou Sheng, Sichuan Sheng, Guangxi Zhuangzu Zizhiqu, Chongqing Shi provinces',\n",
       "       'Kirundo, Bugabira, Busoni districts (Kirundo province)',\n",
       "       'Somali, Oromia, Afar, Tigray, Amhara, SNNP, Gambela provinces',\n",
       "       'Baja Verapaz, El Progreso, Zacapa, Jalapa, Chiquimula, Santa Rosa, Jutiapa, Quich� provinces',\n",
       "       'Paraiso, Francisco Morazan, Yoro, Choluteca, Valle, Intibuca provinces',\n",
       "       'Barisal, Chittagong, Dhaka, Khulna, Rajshahi, Rangpur, Sylhet provinces',\n",
       "       'Chaiyang, Fuxin, Jinzhou, Huludao districts (Liaoning Sheng province)',\n",
       "       'Manabi, Los Rios, Cotopaxi, Bolivar, Chimborazo, Tungurahua provinces',\n",
       "       'Bongaigaon, Cachar, Dhuburi, Goalpara, Golaghat, Hailakandi, Jorhat, Kamrup, Karbi Anglong, Kokrajhar, Lakhimpur, Marigaon, Nagaon, Sibsagar, Barpeta, Darrang, Dhemaji, Dibrugarh, Karimganj, Nalbari, North Cachar Hills, Sonitpur, Tinsukia districts (Assam province), Bilaspur, Chamba, Hamirpur, Kangra, Kinnaur, Kullu, Lahaul and Spiti, Mandi, Shimla, Sirmaur, Solan, Una districts (Himachal Pradesh province), Chatra, Garhwa, Latehar, Palamu, Dumka, Deoghar, Giridih, Godda, Jamtara, Pakur, Sahibganj, Bokaro, Dhanbad, Purba Singhbhum, Gumla, Hazaribag, Koderma, Lohardaga, Ranchi, Simdega, Saraikela Kharsawan, Pashchim Singhbhum districts (Jharkhand province), Bishnupur, Chandel, Churachandpur, East Imphal, West Imphal, Senapati, Tamenglong, Thoubal, Ukhrul districts (Manipur province), Dimapur, Kohima, Phek, Mokokchung, Mon, Tuensang, Wokha, Zunheboto districts (Nagaland province), Ambedkar Nagar, Ballia, Bareilly, Basti, Deoria, Farrukkhabad, Fatehpur, Ghazipur, Hardoi, Hathras, Jaunpur, Kannauj, Kanpur Dehat, Mainpuri, Mau, Rae Bareli, Sultanpur, Sant Kabir Nagar, Unnao, Agra, Shahjahanpur, Faizabad, Meerut, Mahoba, Aligarh, Jyotiba Phule Nagar, Balrampur, Etah, Rampur, Ghaziabad, Gautam Buddha Nagar, Banda, Mathura, Allahabad, Auraiya, Jalaun, Varanasi, Chandauli, Moradabad, Azamgarh, Siddharth Nagar, Badaun, Sitapur, Firozabad, Saharanpur, Chitrakoot, Etawah, Bulandshahr, Kaushambi, Pilibhit, Muzaffarnagar, Kushinagar, Jhansi, Lucknow, Bijnor, Mirzapur districts (Uttar Pradesh province), Patna, Nalanda, Gaya, Buxar, Bhojpur, Rohtas, Bhabua, Siwan, Nawada, Munger, Aurangabad, Sheikhpura, Lakhisarai, Jamui, Bhagalpur, Banka, Saran, Jehanabad, Muzaffarpur, Sitamarhi, Begusarai, Madhepura, Kishanganj, Katihar, Vaishali districts (Bihar province), Bangalore Urban, Bangalore Rural, Kolar, Tumkur, Chitradurga, Davanagere, Chamrajnagar, Mysore, Mandya, Bellary, Koppal, Raichur, Gulbarga, Bidar, Belgaum, Bagalkot, Bijapur, Gadag districts (Karnataka province), Nanded, Latur, Aurangabad, Jalna, Bid, Parbhani, Osmanabad, Hingoli, Chandrapur, Yavatmal, Wardha, Thane, Raigarh, Nandurbar, Jalgaon, Amravati, Buldana, Washim, Garhchiroli, Pune, Satara, Sangli, Solapur, Kolhapur, Nashik, Dhule, Ahmednagar, Akola districts (Maharasthra province), Rewa, Satna, Sidhi, Shahdol, Anuppur, Umaria, Dindori, Jabalpur, Katni, Balaghat, Narsinghpur, Mandla, Sagar, Panna, Tikamgarh, Chhatarpur, Raisen, Vidisha, Damoh, Sehore, Gwalior, Guna, Ashoknagar, Shivpuri, Datia, Bhind, Morena, Sheopur, Shajapur, Dewas, Ratlam, East Nimar, Burhanpur, Barwani, Jhabua districts (Madhya Pradesh province), Ajmer, Alwar, Banswara, Barmer, Bhilwara, Bikaner, Bundi, Chittaurgarh, Churu, Dausa, Dungarpur, Ganganagar, Hanumangarh, Jaipur, Jaisalmer, Jalor, Jhunjhunu, Jodhpur, Nagaur, Pali, Rajsamand, Sawai Madhopur, Sikar, Sirohi, Tonk, Udaipur districts (Rajasthan province)',\n",
       "       \"St. Patrick's, Name Unknown, St. George's provinces\",\n",
       "       'Anhui Sheng, Gansu Sheng, Henan Sheng, Hebei Sheng, Jiangsu Sheng, Shaanxi Sheng, Shandong Sheng, Shanxi Sheng provinces',\n",
       "       'Kayanza, Ngozi provinces (North region), Cankuzo, Kirundo, Muyinga provinces (North-Eastern region), Bururi, Makamba, Rutana provinces (Southern region)',\n",
       "       'Santa Cruz, Tarija, Chuquisaca provinces', 'Amazonas province',\n",
       "       'Christ Church, St. Andrew, St. George, St. James, St. John, St. Joseph, St. Lucy, St. Michael, St. Peter, St. Phillip, St. Tomas provinces',\n",
       "       'Ali Sabieh district (Ali Sabieh province), Dikhil, Yoboki districts (Dikhil province), Alaili Dadda, Obock districts (Obock province), Balha, Dorra districts (Tadjourah province)',\n",
       "       'Somali, Oromia, Afar, Tigray, Amhara provinces',\n",
       "       'Barima Waini (region N?1), Cuyuni/mazaruni (region N?7), Pomeroon/supenaam (region N?2), Potaro/siparuni (region N?8), Upper Takutu/upper Essequibo (region N?9) provinces',\n",
       "       'Batken, Bishkek, Jalal-Abad, Naryn, Osh, Talas, Ysyk-Kol provinces',\n",
       "       'Agadez, Diffa, Dosso, Maradi, Tahoua, Tillaberi, Zinder, Niamey provinces',\n",
       "       'Far Western, Mid Western provinces',\n",
       "       'Kanem, Barl El Gazal, Lac, Batha Est, Batha Ouest, Guera, Sila, Salamat, Ouaddai, Hadjer Lamis provinces',\n",
       "       'Boqueron, Presidente Hayes, Alto Paraguay, Concepci�n, Neembuc� provinces',\n",
       "       'Ahuachapan, Cabanas, Chalatenango, Cuscatlan, La Libertad, La Paz, La Union, Morazan, San Miguel, San Salvador, San Vicente, Santa Ana, Sonsonate, Usulutan provinces',\n",
       "       'Amazonas, Anzoategui, Apure, Aragua, Barinas, Bolivar, Carabobo, Cojedes, Delta Amacuro, Dependencias Federales, Falcon, Guarico, Lara, Merida, Miranda, Monagas, Nueva Esparta, Portuguesa, Sucre, Tachira, Trujillo, Yaracuy, Zulia, Vargas, Distrito Capital provinces',\n",
       "       'Adygeya Rep., Astrakhanskaya Oblast, Bashkortostan Rep., Belgorodskaya Oblast, Bryanskaya Oblast, Chelyabinskaya Oblast, Ivanovskaya Oblast, Kalmykiya Rep., Kaluzhskaya Oblast, Krasnodarskiy Kray, Kurskaya Oblast, Lipetskaya Oblast, Moskovskaya Oblast, Moskva, Name Unknown, Orenburgskaya Oblast, Orlovskaya Oblast, Penzenskaya Oblast, Rostovskaya Oblast, Ryazanskaya Oblast, Samarskaya Oblast, Saratovskaya Oblast, Smolenskaya Oblast, Stavropolskiy Kray, Tambovskaya Oblast, Tulskaya Oblast, Tverskaya Oblast, Ulyanovskaya Oblast, Vladimirskaya Oblast, Volgogradskaya Oblast, Voronezhskaya Oblast, Yaroslavskaya Oblast provinces',\n",
       "       'Arima, Chaguanas, Couva/Tabaquite/Talparo, Diego Martin, Penal/Debe, Point Fortin, Port Of Spain, Princes Town, Rio Claro/Mayaro, San Fernando, San Juan/Laventille, Sangre Grande, Siparia, Tobago, Tunapuna/Piarco provinces',\n",
       "       'Area Under National Administration, Region Number 1 - 8 provinces',\n",
       "       'Maputo, Inhambane, Gaza provinces (South)',\n",
       "       'Assaba, Brakna, Gorgol, Guidimakha, Hodh Ech Gharbi, Nouakchott, Tagant, Trarza provinces; Amourj, Bassikounou, Djigueni, Nema, Timbedra districts (Hodh Ech Chargi province) (Southern Mauritania/Sahel region)',\n",
       "       'Marsabit, Isiolo, Moyale districts (Eastern province); Mandera, Wajir, Ijara, Garissa (North Eastern province); West Pokot, Turkana, Samburu district (Rift Valley Province); Tana River, Lamu, Kwale (Coast province)',\n",
       "       'Bakool, Shabelle Hoose, Shabelle Dhexe, Bay, Galgaduud, Gedo, Hiraan, Juba Dhexe, Juba Hoose, Mudug, Sanaag, Sool, Togdheer, Woqooyi Galbeed, Awdal, Bari, Nugaal province',\n",
       "       'Kayes, Tombouctou, Kidal, Gao provinces',\n",
       "       'Carriacou, Petite Martinique islands (Grenadines province)',\n",
       "       'Unity, Northern Bahr Ghazal, Jonglei, Upper Nile, Eastern Equatoria, Warab provinces',\n",
       "       'Manicaland, Mashonaland Central, Mashonaland East, Mashonaland West, Masvingo, Matabeleland North, Matabeleland South, Midlands provinces',\n",
       "       'Balkh, Samangan, Takhar, Sar-e-Pul, Hirat, Badghis, Faryab, Jawzjan, Baghlan, Kunduz, Badakshan, Bamyan, Daykundi, Ghor provinces',\n",
       "       'Sahel, Centre-nord, Est, Centre-ouest and Centre-est provinces',\n",
       "       'Dire Dawa, Gambela, Hareri, Oromia, SNNPR, Somali, Addis Ababa provinces (Southern Ethiopia)',\n",
       "       'NO DATA: all country selected - North Bank, Lower River (mainly?), Upper River, West Coast, Kanifing Municipal Council, Central River provinces',\n",
       "       'Jalapa, El Progreso, Zacapa, Santa Rosa, Guatemala, Sacatep�quez, Solola, Chimaltenango, Baja Verapaz, Quich�, Huehuetenango provinces',\n",
       "       'Bengo, Cuanza Sul, Benguela, Huila, Namibe, Cunene, Moxico, Bie, Huambo, Zaire, Kuando Kubango provinces',\n",
       "       'Minas Gerias, Pernambuco, Bahia provinces',\n",
       "       'Nord, Extr�me-Nord provinces (Northern regions)',\n",
       "       'Choluteca, Francisco Morazan, Gracias A Dios, La Paz, Olancho, Paraiso, Valle provinces',\n",
       "       'Tarija, Santa Cruz, Chuquisaca, Cochabamba, Beni, La Paz provinces',\n",
       "       'Yunnan Sheng, Sichuan Sheng, Shaanxi Sheng, Qinghai Sheng, Shanxi Sheng, Gansu Sheng provinces',\n",
       "       'Zapotillo, Celica, Paltas, Macara, Sozoranga districts (Loja province)',\n",
       "       'Wajir, Mandera districts (North Eastern province), Turkana district (Rift Valley province), Tana river district (Coast province), Moyale, Marsabit, Mwingi districts (Eastern province)',\n",
       "       \"Quthing, Mohale's Hoek, Mafeteng, Maseru, Berea, Leribe, Butha Buthe, Mokhotlong, Thaba-Tseka provinces\",\n",
       "       'Kayes, Koulikoro, Mopti, Segou provinces',\n",
       "       'Hodh El Chargi, Assaba, Brakna, Gorgol, Hodh El Gharbi, Guidimakha provinces',\n",
       "       \"Diffa, N'Guigmi districts (Diffa province); Dogondoutchi, Loga districts (Dosso province); Aguie, Guidan Roumji, Madarounfa, Mayahi districts (Maradi province); Bouza, Illela, Birni N'konni, Madaoua districts (Tahoua province); Filingue, Ouallam, Tera, Tillaberi (Tillaberi); Goure, Matamey, Tanout (Zinder)\",\n",
       "       'Abyei district (Southern Kordofan province)',\n",
       "       'Kaffrine, Kedougou, Tambacounda, Saint-Louis, Matam, Diourbel, Kolda, Kaolack, Fatick provinces, Louga, Linguere districts (Louga province)',\n",
       "       'Bakool, Gedo, Juba, Hiraan provinces',\n",
       "       'Ngorongoro district (Arusha province), Simanjiro district (Manyara province), Same, Rombo, Mwanga districts (Kilimanjaro province)',\n",
       "       'Nuevo Leon, Guanajuato, Sonora, Chihuahua, Coahuila, Durango, Zacatecas, San Luis Potosi provinces',\n",
       "       'Chians Rai, Nan, Phrae, Loei, Nong Khai, Ubon Ratchathani, Mukdahan, Sakon Nakhon, Si Saket, Surin, Chaiyaphum, Amnat Charoen, Kalasin, Nakhon Ratchasima, Buriram, Yasothon provinces (North); Sukhothai, Phetchabun, Phichit provinces (Central); Prachuap Khilikhan, Phetchaburi, Kanchanaburi provinces (West)',\n",
       "       'Nukulaelae Isl. Funati Islands',\n",
       "       \"Abruzzi, Basilicata, Calabria, Campania, Emilia-romagna, Friuli-venezia Giulia, Lazio, Liguria, Lombardia, Marche, Molise, Piemonte, Puglia, Sardegna, Sicilia, Toscana, Trentino-alto Adige, Umbria, Valle D'aosta, Veneto provinces\",\n",
       "       'Balaka, Blantyre, Chikwawa, Machinga, Mangochi, Mulanje, Mwanza, Neno, Nsanje, Phalombe, Thyolo, Zomba districts (Southern Region Province), Dedza, Ntcheu, Salima districts (Central Region Province)',\n",
       "       'Yanggang-do, Chagang-do, Hamgyong-bukto, Hamgyong-namdo, Kangwon-do provinces',\n",
       "       'Concepcion, San pedro, Cordillera, Guaira, Caaguazu, Caazapa, Itapua, Misiones, Paraguari, Alto Parana, Central, Neembucu, Amambay, Canindeyu provinces',\n",
       "       'Kanem, Lac Barl el Gazal, Batha Est, Batha Ouest, Hadjer Lamis, Ouaddai, Salamat provinces',\n",
       "       'Anuradhapura, Polonnaruwa districts (North Central province), Kurunegala, Puttalam districts (North Western province), Moneragala district (Uva province), Hambantota district (Southern province), Mannar district (Northern province)',\n",
       "       'Falesti district (Balti province), Vulcanesti district (Cahul province), Chisinau, Criuleni, Ialoveni districts (Chisinau province), Ciadir-Lunga district (Gagauzia province), Basarabeasca district (Lapusna province), Orhei, Rezina, Telenesti districts (Orhei province), Ungheni district (Ungheni province)',\n",
       "       'Adygeya Rep., Astrakhanskaya Oblast, Bashkortostan Rep., Belgorodskaya Oblast, Bryanskaya Oblast, Chelyabinskaya Oblast, Kalmykiya Rep., Krasnodarskiy Kray, Kurskaya Oblast, Lipetskaya Oblast, Name Unknown, Orenburgskaya Oblast, Orlovskaya Oblast, Penzenskaya Oblast, Rostovskaya Oblast, Samarskaya Oblast, Saratovskaya Oblast, Stavropolskiy Kray, Tambovskaya Oblast, Ulyanovskaya Oblast, Volgogradskaya Oblast, Voronezhskaya Oblast provinces',\n",
       "       'Lampang, Kamphaeng Phet, Nan, Phayao, Chiang Mai, Sukhothai (Northern provinces); Nong Khai, Si Sa Ket, Khon Kaen, Maha Sarakham, Udon Thani, Chaiyaphum (NorthEast provinces); Phetchaburi, Kanchanaburi, Prachuap Khiri Khan, Chon Buri, Nakhon Nayok, Suphan Buri, Chanthaburi, Chachoengsao, Trat, Phuket provinces. 17 are in the North, 19 in the Northeast, 5 in the central region, 6 in the East and 1 in the South.',\n",
       "       \"Amury city (Odes'ka province)\",\n",
       "       'Kavango, Ohangwena, Oshikoto, Kunene provinces',\n",
       "       'North of the capital Majuro, atolls/islands of Namu, Likiep and Mejit',\n",
       "       \"Auckland, Bay of Plenty, East Cape, Hawke's Bay, Northland, Taranaki, Waikato, Wanganui-manawatu, Wellington provinces (North Island)\",\n",
       "       'Cocl�, Veraguas, Los santos, Herrera provinces',\n",
       "       'Presidente Hayes, Boqueron, Alto Paraguay, San Pedro, Concepcion, Amambay, Canindeyu, Alto Parana, Itapua, Cordillera, Guaira, Neembucu, Paraguari, Caazapa, Caaguazu provinces',\n",
       "       'Texas, Oklahoma, New Mexico, Arizona, Kansas, Louisiana provinces',\n",
       "       'Illinois, Indiana, Iowa, Kansas, Michigan, Minnesota, Missouri, Nebraska, North Dakota, Ohio, South Dakota, Wisconsin, Arizona, California, Colorado, Nevada, New Mexico, Oklahoma, Texas, Utah provinces',\n",
       "       'Sahel province',\n",
       "       'San Marcos De Sierra, Camasca districts (Intibuca province), Moroceli, Alauca, Oropoli, Teupasenti districts (Paraiso province), Ocotepeque, Copan, Santa Barbara, Yoro, Comayagua, Olancho, Lempira, La Paz, Valle, Choluteca, Francisco Morazan provinces',\n",
       "       'Macaya area (Cayes district, Sud province), Nord province',\n",
       "       'Santa Cruz province',\n",
       "       'Alagoas, Bahia, Ceara, Maranhao, Paraiba, Pernambuco, Piaui, Rio Grande Do Norte, Sergipe provinces',\n",
       "       'Shandong Sheng, Shaanxi Sheng, Henan Sheng provinces, Nanbu-Nanchong city (Nanchong district, Sichuan Sheng ptovince)',\n",
       "       'Liaoning Sheng, Jilin Sheng, Nei Mongol Zizhiqu provinces',\n",
       "       'Alajuela, Cartago, Guanacaste, Heredia, Limon, Puntarenas, San Jose provinces',\n",
       "       'Baja Verapaz, El Progreso, Zacapa, Chiquimula, Jalapa, Jutiapa, Quich�, Huehuetenango, Totonicap�n, San Marcos, Retalhuleu, Santa Rosa, Escuintla provinces',\n",
       "       'Caldas, Tolima, Quindio, Huila, Boyaca, Valle Del Cauca, Santander, Narino, Caqueta, Risaralda, Guajira, Atlantico, Magdalena, Bolivar, Arauca, Casanare provinces',\n",
       "       'NO DATA: all country selected: Central River, North Bank (mainly?), Kanifing Municipal Council, Lower River, Upper River, West Coast provinces',\n",
       "       'Somali, Afar, Oromia, Amhara, Nations du Sud provinces',\n",
       "       'Hebei Sheng, Shanxi Sheng, Nei Mongol Zizhiqu, Liaoning Sheng, Jilin Sheng, Heilongjiang Sheng, Shandong Sheng, Yunnan Sheng, Shaanxi, Ningxia Huizu Zizhiqu provinces',\n",
       "       'Camaguey, Ciego De Avila, Cienfuegos, Ciudad De La Habana, Granma, Guantanamo, Holguin, Isla De La Juventud, La Habana, Las Tunas, Matanzas, Pinar Del Rio, Sancti Spiritus, Santiago De Cuba, Villa Clara provinces',\n",
       "       \"Corail, Anse-D'Ainsault, Jeremie districts (Grande Anse province), Chardonnieres, Coteaux, Aquin, Cayes, Port-Salut districts (Sud province), Anse-A-Veau, Baraderes, Miragoane districts (Nippes province), Gonave, Leogane districts (Ouest province), Belle Anse, Jacmel, Bainet districts (Sud Est province), Croix-des-Bouquets district (Ouest province), Lascahobas, Ceca La Source, Hinche, Mirebalais districts (Centre province), Valliere, Ouanaminthe, Trou du Nord, Fort Liberte districts (Nord Est province), Saint-Raphael, Grande Riviere Du Nord, Limbe, Acul Du Nord districts (Nord province), Gonaives, Marmelade, Gros Morne, Saint-Marc districts (Artibonite province), Mole Saint Nicolas, Port De Paix districts (Nord Ouest province)\",\n",
       "       'Mogasdischio city (Banadir district, Banadir province), Bakool, Gedo, Juba Dhexe, Hiraan, Shabelle Hoose; Puntland, Bari, Karkaar, Sanaag Sool',\n",
       "       'Saint Thomas, Saint Mary, Portland, Clarendon, Manchester, Saint Catherine, Saint Andrew And Kingston provinces',\n",
       "       'Kanel district (Matam province), Podor district (Saint Louis province), Fatick district (Fatick province), Goudomp district (Sedhiou province)',\n",
       "       'Androy, Anosy provinces; Atsimo Andrefana, Menabe provinces (South-West regions)',\n",
       "       'Mandera, Wajir districts (North Eastern province) Turkana, Baringo, Samburu districts (Rift Valley province), Marsabit district (Eastern province)',\n",
       "       'Mullattivu, Kilinochchi, Mannar, Vavuniya, Jaffna districts (Northern province), Moneragala district (Uva province), Ampara, Batticaloa, Trincomalee districts (Eastern province), Anuradhapura, Polonnaruwa districts (North Central province), Kurunegala, Puttalam districts (North Western province), Hambantota, Galle districts (Southern province)',\n",
       "       'Kedah, Perak, Perlis, Pulau Pinang, Selangor provinces',\n",
       "       'Atlantico Norte, Atlantico Sur, Boaco, Carazo, Chinandega, Chontales, Esteli, Granada, Jinotega, Leon, Madriz, Managua, Masaya, Matagalpa, Nueva Segovia, Rio San Juan, Rivas provinces',\n",
       "       'La Union, San Miguel, Morazan, Usulutan, Ahuachapan, Sonsonate, Santa Ana, Chalatenango provinces',\n",
       "       'Lani Jaya (Jayawijaya district, Papua province), Puncakjaya district (Papua province)',\n",
       "       'Kandep district (Enga province), Sirunki city (Lagaip district, Enga province), Mendi, Ialibu, Pangia districts (Southern Highlands province), Tambul district (Western Highlands province), Menyamya district (Morobe province); Kundiawa, Gembogl, Sinasina(-Yongomugl), Gumine, Chuave, Kerowagi, Karimui (-Nomane) districts (Chimbu province), Henganofi, Goroka (Unggai-Bena) districts (Eastern Highlands province), Rabaul, Kokopo districts (East New Britain province), Goilala district (Central province), Manus province',\n",
       "       '23-25 districts affected (almost all the country): All provinces have been selected',\n",
       "       'Erongo, Hardap, Karas, Kunene provinces (South and Western part of the country)',\n",
       "       'NO DATA: all provinces have been selected: Maradi, Niamey, Tahoua, Tillaberi, Zinder provinces',\n",
       "       'Southern Kordofan, Blue Nile provinces',\n",
       "       'Sanaag, Sool, Togdheer, Woqooyi Galbeed, Awdal provinces (Somaliland region), Bari, Nugaal provinces (Puntland region); Karkaar',\n",
       "       'Tamil Nadu, Rajasthan, Jharkhand, Assam, Andhra Pradesh, Himachal Pradesh, Nagaland; Maharashtra, Bihar, Madhya Pradesh, Chhattisgarh, Telangana, Jharkand, Odisha states',\n",
       "       'Cocl�, Col�n, Kuna Yala, Herrera, Los Santos, Panam�, Bocas del Toro, Chiriqu�, Dari�n, Ember�, Ng�be Bugl�, Veraguas provinces',\n",
       "       'Isabela district (Region II (Cagayan Valley), Region XIII (Caraga), Autonomous region in Muslim Mindanao (ARMM), Region IX (Zamboanga Peninsula), Region X (Northern Mindanao), Region XI (Davao Region), Region XII (Soccsksargen) provinces (Mindanao Isl.), Region VI (Western Visayas), Region VII (Central Visayas), Region VIII (Eastern Visayas) provinces (Visayas regions)',\n",
       "       \"Hwanghae-namdo, Hwanghae-bukto, Hamyong-namdo, P'yongan-bukto, P'yongan-namdo, P'yongyang-si provinces\",\n",
       "       'Bellona, Rennell, Makira',\n",
       "       '42 provinces. 28 provinces in the North and Northeast',\n",
       "       'Banteay Meanchey, Battambang, Pursat, Kampong Speu provinces',\n",
       "       \"Qacha�s Nek, Mokhotlong, Thaba Tseka, Quthing, Mafeteng, Butha Bothe, Berea, Leribe, Maseru, Mohale's Hoek provinces\",\n",
       "       'Ambovombe-Androy, Bekily, Beloha, Tsihombe districts (Androy province), Amboasary-Atsimo, Taolagnaro districts (Anosy province), Ampanihy Ouest, Betioky Atsimo districts (Atsimo Andrefana province)',\n",
       "       'Magude, Manhi�a districts (Maputo province), Massingir, Chibuto, Mabalane districts (Gaza province), Funhaloro, Panda, Govuro districts (Inhambane province), Sofala, Tete',\n",
       "       'Alto Paraguay, Boqueron, Presidente Hayes provinces (Chaco region)',\n",
       "       'Whole country: Hhohho, Lubombo, Manzini, Shiselweni provinces',\n",
       "       'Manicaland, Masvingo, Matabeleland North, Matabeleland South, Mashonaland Central, Midlands provinces',\n",
       "       'San Joaquin district (California province)',\n",
       "       'KwaZulu-Natal, Free state, Limpopo, Mpumalanga, North-West, Western Cape provinces',\n",
       "       \"Vava'u, Ha'apai, Tongatapu, Niuafo'ou, Niuatoputapu\",\n",
       "       'California, Nevada, Oregon, Washington, Idaho, Montana, Utah, Arizona provinces',\n",
       "       'An Giang, Ba Ria-Vung Tau, Ben Tre, Binh Dinh, Binh Duong, Binh Phuoc, Binh Thuan, Can Tho city, Dak Lak, Dak Nong, Dong Nai, Dong Thap, Gia Lai, Hau Giang, Ho Chi Minh City, Khanh Hoa, Kon Tum, Lam Dong, Long An, Ninh Thuan, Phu Yen, Quang Nam, Quang Ngai, Soc Trang, Tay Ninh, Tien Giang, Tra Vinh, Vinh Long provinces',\n",
       "       'Upolu Isl., Savaii Isl.',\n",
       "       'Jilin Sheng, Heilongjiang Sheng, Shanxi Sheng, Gansu Sheng, Ningxia Huizu Zizhiqu, Nei Mongol Zizhiqu provinces',\n",
       "       'Oruro, Cochabamba, Beni provinces',\n",
       "       'Western Bahr El Ghazal, Northern Bahr El Ghazal, Warab, Unity, Upper Nile, Jonglei, El Buheyrat, Western Equatoria, Central Equatoria, Eastern Equatoria provinces',\n",
       "       'Baucau, Lautem, Viqueque provinces', 'Yap, Chuuk regions',\n",
       "       'Seven provinces in the South (Cunene, Huila, Namibe, Benguela, Cuando Cubango, Cuanza Sul and Huambo)',\n",
       "       'Northeast China, North China Plain, Inner Mongolia, Hebei, Liaoning',\n",
       "       'Badghis, Daykundi, Hirat, Ghor, Daykundi, Badakhshan, Farah, Helmand, Kandahar, Zabul, Nangarhar',\n",
       "       'Buenos Aires, Cordoba, Santa Fe, Pampa, Santiago del Estero provinces',\n",
       "       'New South Wales, Victoria , Queensland',\n",
       "       'Kilifi, Kwale, Tana River, Taita Taveta districts (Coast province), Wajir, Mandera districts (North Eastern province), Marsabit, Makueni, Kitui districts (Eastern province), Samburu district (Rift Valley province), Lamu, Baringo, West Poko, Garissa, Tana river, Isiolo, Laikipia, Turkana, Taita Tavetan Makueni, Narok, Embu (Mbeere), Meru, Tharaka Nithi, Nyeri',\n",
       "       'Batticaloa District (Eastern province)', 'South, South East',\n",
       "       'Brakna, Gorgol, Guidimakha',\n",
       "       'Bosso, Diffa, Goudoumaria, Main�-Soroa, N�Gourti, Loga, Ouallam, Bani-Bangou, Abala, Mayahi, Guidan-Roumji, Tanout, Kaniche',\n",
       "       'Calabria, Abruzzo, Campania, Tuscany, Emilia Romagna (Parma, Piacenza ), Puglia, Sardinia, Lazio, Lombardy, Umbria, Marche, Sicily, Piemonte (Alessandria, Asti, Cuneo), Trentino-South Tyrol (Val di Non, Val Sun, Valsugana)',\n",
       "       'South Hwanghae, North Hwanghae Provinces, Nampo city',\n",
       "       'Hardap, Kavango East, Khomas, Kunene, Ohangewna, Omusati, Omaheke, Zambezi',\n",
       "       'Karnataka, Maharashtra states',\n",
       "       'West Pokot, Tharaka Nithi, Samburu, Nyeri (Kieni), Marsabit, Mandera, Lamu, Laikipia, Kitui, Kilifi, Isiolo, Garissa, Embu, Baringo, Turkana, Wajir',\n",
       "       'Thatta, Dadu, Sanghar, Tharparkar, Umerkot, Kambar Shadadkot, Jamshoro, Badin distrcits (Sindh province ); Pishin, Killa Abdullah, Noshki, Chaghi, Kharan, Washuk, Panjgur, Kech, Jhal Magsi, Awaran, Zhob, Jaffarabad, Barkhan, Quetta, Killah Saifullah, Kohlu, Naseerabad, Kachhi districts (Balochistan province)',\n",
       "       'MIMAROPA Region, Region IX, Region XII, BARMM, Metro Manilla',\n",
       "       'Chari Baguimi, Guera, Lac, Kanem, Wadi Fira',\n",
       "       'Upper Midwest, Northern Rockies and parts of the West; North Dakota, South Dakota and Montana.',\n",
       "       'Cap town, Cap occidental, Cap oriental, North Cap.',\n",
       "       'San Vicente, Usulutan and San Miguel zones',\n",
       "       'Tacuaremb�, Salto, Durazno, Artigas, Paysand�, Rivera, R�o Negro, Florida, Treinta y Tres, Maldonado, Cerro Largo, Colonia',\n",
       "       'Awdal, Woqooyi Galbeed, Togdheer, Sanaag, Sool, Nugaal, Bari regions',\n",
       "       'Botswana�s Okavango Delta',\n",
       "       'San Mart�n, Rivadavia, Oran departments (Salta province)',\n",
       "       'Cunene, Huila, Namibe, Cuanza Sul, Benguela, Huambo',\n",
       "       'Badghis, Badakhshan, Baghlan, Balkh, Takhar, Jawzjan, Sar-i-Pul, Samangan, Faryab, Kunduz, Herat',\n",
       "       'Paran� River region',\n",
       "       'Guangxi, Hunan, Yunnan, Shaanxi, Gansu, Ningxia, Fujian provinces',\n",
       "       'North, North-Western, North-Central, Uva and Eastern Provinces',\n",
       "       'Betioky, Ampanihy, Tul�ar II, Amboasary and Bekily districts, Anosy, Androy, Atsimo Andrefana.',\n",
       "       'Marsabit, Mandera, Garissa, Wajir, Kilifi, Tana River, Makueni, Lamu, Samburu, Kitui, Isiolo and Laikipia',\n",
       "       'M�naka, Gao, Mopti, Kidal, Koulikoro and S�gou',\n",
       "       'Tagant, Guidimakha, Assaba, Gorgol, Hodh El Charghi Adrar, Brakna, Hodh Chargui, Hodh Ech Chargi and Hodh El Gharbi',\n",
       "       'Diffa, Tahoua, Zinder, Maradi, Agadez, Tillab�ri regions',\n",
       "       'Mangistau, Turkestan and Kyzylorda regions',\n",
       "       'Tigray, Afar and Amhara',\n",
       "       'Sistan and Baluchestan, South Khorasan, Kerman, Hormozgan, Khuzestan, Isfahan, Khorasan Razavi',\n",
       "       'Cabo Delgado, Niassa and Nampula provinces',\n",
       "       'Aur, Ailinglaplap, Ailuk, Jabot, Jaluit, Lae, Lib, Likiep, Maloelap, Mejit, Mejjato/Ebadon, Namdrik, Namu, Utrok, Ujae, Wotho, Wotje',\n",
       "       'Northern regions',\n",
       "       'Southern, Western and parts of Lusaka, Eastern and Central provinces',\n",
       "       'Shiselweni, Lubombo and Hhohho regions',\n",
       "       'North, Northeastern, Central Plains',\n",
       "       'Long An, Tien Giang, Ben Tre, Dong Thap, Vinh Long, Tra Vinh, Soc Trang, An Giang, Kien Giang, Hau Giang, Bac Lieu, Ca Mau, Can Tho city',\n",
       "       'West and central states',\n",
       "       'Gedo; Las Anod / Hudun and Taleb (Sool), Eilafwen (Sanaag), Odwein and Ainabo (Togdheer), Luqbaya / Zeila (Awdal) Somaliland state; Goldogo (Mudug); Ishkushuban (Bari), Puntland state; Nugaal; Galmudug, Jubaland, Puntland and South West states',\n",
       "       'Hasakah, Aleppo, Raqqa, Deir-ez-Zor, Homs',\n",
       "       'Southern, Western, Central, Copper Belt, Eastern, Luapula, Lusaka, Muchinga, North western and Northern provinces',\n",
       "       'Matabeleland South, Manicaland, Masvingo,',\n",
       "       'Aweil South (Northern Bahr el Gazzal State), Aweil East (Northern Bahr el Gazzal State), Gogrial West (Warrap State); Tonj South (Warrap State):',\n",
       "       'Funafuti with Nukufetau (central); Nanumea, Nanumaga, Niutao, Nui, Vaitupu (northern)',\n",
       "       'Chongqing, Hubei, Jiangxi, Tibet, Sichuan, Hunan, Anhui',\n",
       "       'Ribeira Grande de Santiago, Santa Cruz, Sao Domingos (Island of Santiago ); and Porto Novo (Santo Antao island)',\n",
       "       'Ali Sabieh, Arta, Dikhil, Obock and Tadjoura',\n",
       "       'Somali region and Oromia (Boran and Moyale zones), SNNP, South-West',\n",
       "       'Handeni, Longido, Mkinga, and Monduli',\n",
       "       'Nation wide; Arizona, Nevada, California, Oregon and Texas',\n",
       "       'Agadez, Diffa, Tillaberi, Tahoua, Maradi',\n",
       "       'Bahr El Gazal (Nord, Ouest, Sud), Batha (Est, Ouest), Fitri, Fada, Mourtcha, Kanem, Wadi-Bissam, Mamdi, Assoungha, Djourouf Al Ahmar, Ouara, Aboudeia, Haraze Mangueigne, Abdi, Kimiti, Tibesti (Est, Ouest)',\n",
       "       'Napak, Kaabong, Kotido, Moroto districts (Karamoja)',\n",
       "       '?milie-Romagne, Frioul-V�n�tie Julienne, Lombardie, V�n�tie et dans le Pi�mont',\n",
       "       'Cerro Largo, Florida, Lavalleja, San Jose, Tacuarembo'],\n",
       "      dtype=object)"
      ]
     },
     "execution_count": 28,
     "metadata": {},
     "output_type": "execute_result"
    }
   ],
   "source": [
    "df_drought_geografical['Location'].unique()"
   ]
  },
  {
   "attachments": {},
   "cell_type": "markdown",
   "metadata": {},
   "source": [
    "Debido al alto número de ubicaciones diferentes, vamos a localizar las 10 ubicaciones con mayor frecuencia en presencia de sequías\n"
   ]
  },
  {
   "cell_type": "code",
   "execution_count": 29,
   "metadata": {},
   "outputs": [
    {
     "data": {
      "text/plain": [
       "Countrywide                    15\n",
       "Nationwide                     11\n",
       "North                           4\n",
       "Central                         3\n",
       "South                           3\n",
       "Nei Mongol Zizhiqu province     3\n",
       "Entire country                  3\n",
       "Northwest                       2\n",
       "Southern provinces              2\n",
       "All country                     2\n",
       "Name: Location, dtype: int64"
      ]
     },
     "execution_count": 29,
     "metadata": {},
     "output_type": "execute_result"
    }
   ],
   "source": [
    "top_10_locations = df_drought_geografical['Location'].value_counts().head(10)\n",
    "top_10_locations"
   ]
  },
  {
   "attachments": {},
   "cell_type": "markdown",
   "metadata": {},
   "source": [
    "Como se puede ver las sequías  afectan a todo un país o una nación en la gran mayoría de los casos. También hay referencias geográficas a las zonas N, S, E y O del país. Son muy pocos los casos con una localización restringida."
   ]
  },
  {
   "cell_type": "code",
   "execution_count": 30,
   "metadata": {},
   "outputs": [
    {
     "data": {
      "text/plain": [
       "Location                                                                                                                                                                                                                                                                                                                                                                                                                                                                                                                                                                                                                                                                                                                                                                                                                                                                                                           Country                       \n",
       "Countrywide                                                                                                                                                                                                                                                                                                                                                                                                                                                                                                                                                                                                                                                                                                                                                                                                                                                                                                        Cabo Verde                        3\n",
       "Nei Mongol Zizhiqu province                                                                                                                                                                                                                                                                                                                                                                                                                                                                                                                                                                                                                                                                                                                                                                                                                                                                                        China                             3\n",
       "Ang Thong, Chainat, Chaiyaphum, Chiang Rai, Kalasin, Kampaeng Phet, Khon Kaen, Lampang, Loei, Lopburi, Maha Sarakham, Mukdahan, Nakhon Phanom, Nakhon Ratchasima, Nakhon Sawan, Nan, Nong Bua Lamphu, Nong Khai, Phayao, Phichit, Phitsanulok, Phra Nakhon Si Ayudhya, Phrae, Sakon Nakhon, Saraburi, Singburi, Sukhothai, Suphanburi, Udon Thani, Uthai Thani, Uttaradit provinces                                                                                                                                                                                                                                                                                                                                                                                                                                                                                                                                Thailand                          2\n",
       "Kaabong, Kotido, Abim, Moroto, Nakapiripirit provinces (Karamoja region)                                                                                                                                                                                                                                                                                                                                                                                                                                                                                                                                                                                                                                                                                                                                                                                                                                           Uganda                            2\n",
       "Ang Thong, Bangkok, Buriram, Chachoengsao, Chainat, Chaiyaphum, Chanthaburi, Chiang Mai, Chiang Rai, Chonburi, Chumphon, Kalasin, Kampaeng Phet, Kanchanaburi, Khon Kaen, Krabi, Lampang, Lamphun, Loei, Lopburi, Mae Hong Son, Maha Sarakham, Mukdahan, Nakhon Nayok, Nakhon Pathom, Nakhon Phanom, Nakhon Ratchasima, Nakhon Sawan, Nakhon Si Thammarat, Nan Narathiwat, Nong Khai, Nonthaburi, Pathum Thani, Pattani, Phangnga, Phatthalung, Phayao, Phetchabun, Phetchaburi, Phichit, Phitsanulok, Phra Nakhon Si Ayudhya, Phrae, Phuket, Prachuap Khilikhan, Ranong, Ratchaburi, Rayong, Roi Et, Sakon Nakhon, Samut Prakarn, Samut Sakhon, Samut Songkham, Saraburi, Satun, Si Saket, Singburi, Songkhla, Sukhothai, Suphanburi, Surat Thani, Surin, Tak, Trad, Trang, Uthai Thani, Uttaradit, Yala, Yasothon, Amnat Charoen, Nong Bua Lamphu, Phachinburi, Sa Kaeo, Ubon Ratchathani, Udon Thani provinces  Thailand                          2\n",
       "Karamoja                                                                                                                                                                                                                                                                                                                                                                                                                                                                                                                                                                                                                                                                                                                                                                                                                                                                                                           Uganda                            2\n",
       "Inhambane province                                                                                                                                                                                                                                                                                                                                                                                                                                                                                                                                                                                                                                                                                                                                                                                                                                                                                                 Mozambique                        2\n",
       "Illinois, Indiana, Iowa, Kansas, Michigan, Minnesota, Missouri, Nebraska, North Dakota, Ohio, South Dakota, Wisconsin provinces                                                                                                                                                                                                                                                                                                                                                                                                                                                                                                                                                                                                                                                                                                                                                                                    United States of America (the)    2\n",
       "Northwest                                                                                                                                                                                                                                                                                                                                                                                                                                                                                                                                                                                                                                                                                                                                                                                                                                                                                                          Bangladesh                        2\n",
       "Rio Grande Do Sul, Santa Catarina                                                                                                                                                                                                                                                                                                                                                                                                                                                                                                                                                                                                                                                                                                                                                                                                                                                                                  Brazil                            2\n",
       "dtype: int64"
      ]
     },
     "execution_count": 30,
     "metadata": {},
     "output_type": "execute_result"
    }
   ],
   "source": [
    "top_10_locations = df_drought_geografical[['Location', 'Country']].value_counts().head(10)\n",
    "top_10_locations"
   ]
  },
  {
   "attachments": {},
   "cell_type": "markdown",
   "metadata": {},
   "source": [
    "Estudiar a que países corresponden esas ubicaciones"
   ]
  },
  {
   "cell_type": "code",
   "execution_count": 31,
   "metadata": {},
   "outputs": [
    {
     "data": {
      "text/plain": [
       "Location                                                                                                                                                                                                                               Continent\n",
       "23-25 districts affected (almost all the country): All provinces have been selected                                                                                                                                                    Africa       1\n",
       "42 provinces. 28 provinces in the North and Northeast                                                                                                                                                                                  Asia         1\n",
       "?milie-Romagne, Frioul-V�n�tie Julienne, Lombardie, V�n�tie et dans le Pi�mont                                                                                                                                                         Europe       1\n",
       "Abim, Amudat, Kaabong, Kotido, Moroto, Nakapiripirit, Napak provinces                                                                                                                                                                  Africa       1\n",
       "Abruzzi, Basilicata, Calabria, Campania, Emilia-romagna, Friuli-venezia Giulia, Lazio, Liguria, Lombardia, Marche, Molise, Piemonte, Puglia, Sardegna, Sicilia, Toscana, Trentino-alto Adige, Umbria, Valle D'aosta, Veneto provinces  Europe       1\n",
       "                                                                                                                                                                                                                                                   ..\n",
       "all coutry                                                                                                                                                                                                                             Africa       1\n",
       "central, south east and west                                                                                                                                                                                                           Africa       1\n",
       "districts of Bhiwani, Gurgaon, Hisar, Mahendargarh, and Rohtak, Kerala, Tami Nadu, Rajasthan                                                                                                                                           Asia         1\n",
       "south, west and central                                                                                                                                                                                                                Africa       1\n",
       "south, west, central                                                                                                                                                                                                                   Africa       1\n",
       "Name: Continent, Length: 594, dtype: int64"
      ]
     },
     "execution_count": 31,
     "metadata": {},
     "output_type": "execute_result"
    }
   ],
   "source": [
    "df_drought_geografical.groupby('Location')['Continent'].value_counts()"
   ]
  },
  {
   "cell_type": "code",
   "execution_count": 32,
   "metadata": {},
   "outputs": [
    {
     "data": {
      "text/plain": [
       "Location     171\n",
       "Country        0\n",
       "Region         0\n",
       "Continent      0\n",
       "dtype: int64"
      ]
     },
     "execution_count": 32,
     "metadata": {},
     "output_type": "execute_result"
    }
   ],
   "source": [
    "df_drought_geografical.isnull().sum()"
   ]
  },
  {
   "attachments": {},
   "cell_type": "markdown",
   "metadata": {},
   "source": [
    "En 'Location' hay 171 nulos. Tratar o eliminar?? Muchas de las ubicaciones hacen referencia a la totalidad del país, countrywide, a escala nacional(nationwide) habría que cruzar los datos"
   ]
  },
  {
   "attachments": {},
   "cell_type": "markdown",
   "metadata": {},
   "source": [
    "### 3.3 ANÁLISIS DEL IMPACTO HUMANO Y ECONÓMICO DE LAS SEQUÍAS\n",
    "Usando columnas Associated Dis2, Total Deaths, Total Affected, Total Damages Adj"
   ]
  },
  {
   "attachments": {},
   "cell_type": "markdown",
   "metadata": {},
   "source": [
    "### * Análisis básico"
   ]
  },
  {
   "cell_type": "code",
   "execution_count": 33,
   "metadata": {},
   "outputs": [
    {
     "data": {
      "text/plain": [
       "Index(['Dis No', 'Year', 'Seq', 'Disaster Subgroup', 'Disaster Type',\n",
       "       'Disaster Subtype', 'Country', 'ISO', 'Region', 'Continent', 'Location',\n",
       "       'Origin', 'Associated Dis', 'Dis Mag Value', 'Dis Mag Scale',\n",
       "       'Latitude', 'Longitude', 'Start Year', 'Start Month', 'Start Day',\n",
       "       'End Year', 'End Month', 'End Day', 'Total Deaths', 'Total Affected',\n",
       "       'Total Damages Adj'],\n",
       "      dtype='object')"
      ]
     },
     "execution_count": 33,
     "metadata": {},
     "output_type": "execute_result"
    }
   ],
   "source": [
    "df[drought_filter].columns"
   ]
  },
  {
   "cell_type": "code",
   "execution_count": 34,
   "metadata": {},
   "outputs": [
    {
     "data": {
      "text/plain": [
       "Food shortage         154\n",
       "Famine                 55\n",
       "Heat wave              24\n",
       "Water shortage         20\n",
       "Wildfire               14\n",
       "Crop failure           11\n",
       "Cold wave               4\n",
       "Storm                   2\n",
       "Fire                    2\n",
       "Snow/ice                1\n",
       "Epidemic                1\n",
       "Insect infestation      1\n",
       "Flood                   1\n",
       "Name: Associated Dis, dtype: int64"
      ]
     },
     "execution_count": 34,
     "metadata": {},
     "output_type": "execute_result"
    }
   ],
   "source": [
    "df_drought['Associated Dis'].value_counts()"
   ]
  },
  {
   "cell_type": "code",
   "execution_count": 35,
   "metadata": {},
   "outputs": [
    {
     "data": {
      "text/plain": [
       "513"
      ]
     },
     "execution_count": 35,
     "metadata": {},
     "output_type": "execute_result"
    }
   ],
   "source": [
    "df_drought['Associated Dis'].isnull().sum()"
   ]
  },
  {
   "cell_type": "code",
   "execution_count": 38,
   "metadata": {},
   "outputs": [
    {
     "ename": "TypeError",
     "evalue": "'Int64Index' object is not callable",
     "output_type": "error",
     "traceback": [
      "\u001b[1;31m---------------------------------------------------------------------------\u001b[0m",
      "\u001b[1;31mTypeError\u001b[0m                                 Traceback (most recent call last)",
      "Cell \u001b[1;32mIn[38], line 2\u001b[0m\n\u001b[0;32m      1\u001b[0m plt\u001b[39m.\u001b[39mfigure(figsize\u001b[39m=\u001b[39m(\u001b[39m6\u001b[39m,\u001b[39m6\u001b[39m))\n\u001b[1;32m----> 2\u001b[0m plt\u001b[39m.\u001b[39mpie(df_drought[\u001b[39m'\u001b[39m\u001b[39mAssociated Dis\u001b[39m\u001b[39m'\u001b[39m]\u001b[39m.\u001b[39mvalue_counts(), labels\u001b[39m=\u001b[39mdf_drought[\u001b[39m'\u001b[39;49m\u001b[39mAssociated Dis\u001b[39;49m\u001b[39m'\u001b[39;49m]\u001b[39m.\u001b[39;49mindex(), startangle\u001b[39m=\u001b[39m\u001b[39m90\u001b[39m )\n",
      "\u001b[1;31mTypeError\u001b[0m: 'Int64Index' object is not callable"
     ]
    },
    {
     "data": {
      "text/plain": [
       "<Figure size 600x600 with 0 Axes>"
      ]
     },
     "metadata": {},
     "output_type": "display_data"
    }
   ],
   "source": [
    "plt.figure(figsize=(6,6))\n",
    "plt.pie(df_drought['Associated Dis'].value_counts(), labels=df_drought['Associated Dis'].index(), startangle=90 )"
   ]
  },
  {
   "cell_type": "code",
   "execution_count": null,
   "metadata": {},
   "outputs": [
    {
     "data": {
      "text/html": [
       "<div>\n",
       "<style scoped>\n",
       "    .dataframe tbody tr th:only-of-type {\n",
       "        vertical-align: middle;\n",
       "    }\n",
       "\n",
       "    .dataframe tbody tr th {\n",
       "        vertical-align: top;\n",
       "    }\n",
       "\n",
       "    .dataframe thead th {\n",
       "        text-align: right;\n",
       "    }\n",
       "</style>\n",
       "<table border=\"1\" class=\"dataframe\">\n",
       "  <thead>\n",
       "    <tr style=\"text-align: right;\">\n",
       "      <th></th>\n",
       "      <th>Total Deaths</th>\n",
       "      <th>Total Affected</th>\n",
       "      <th>Total Damages Adj</th>\n",
       "    </tr>\n",
       "  </thead>\n",
       "  <tbody>\n",
       "    <tr>\n",
       "      <th>0</th>\n",
       "      <td>11000.0</td>\n",
       "      <td>NaN</td>\n",
       "      <td>NaN</td>\n",
       "    </tr>\n",
       "    <tr>\n",
       "      <th>1</th>\n",
       "      <td>1250000.0</td>\n",
       "      <td>NaN</td>\n",
       "      <td>NaN</td>\n",
       "    </tr>\n",
       "    <tr>\n",
       "      <th>24</th>\n",
       "      <td>NaN</td>\n",
       "      <td>NaN</td>\n",
       "      <td>NaN</td>\n",
       "    </tr>\n",
       "    <tr>\n",
       "      <th>27</th>\n",
       "      <td>NaN</td>\n",
       "      <td>NaN</td>\n",
       "      <td>NaN</td>\n",
       "    </tr>\n",
       "    <tr>\n",
       "      <th>30</th>\n",
       "      <td>NaN</td>\n",
       "      <td>NaN</td>\n",
       "      <td>NaN</td>\n",
       "    </tr>\n",
       "  </tbody>\n",
       "</table>\n",
       "</div>"
      ],
      "text/plain": [
       "    Total Deaths  Total Affected  Total Damages Adj\n",
       "0        11000.0             NaN                NaN\n",
       "1      1250000.0             NaN                NaN\n",
       "24           NaN             NaN                NaN\n",
       "27           NaN             NaN                NaN\n",
       "30           NaN             NaN                NaN"
      ]
     },
     "execution_count": 92,
     "metadata": {},
     "output_type": "execute_result"
    }
   ],
   "source": [
    "df_drought_impact = df[drought_filter][['Total Deaths', 'Total Affected', 'Total Damages Adj']]\n",
    "df_drought_impact.head(5)"
   ]
  },
  {
   "cell_type": "code",
   "execution_count": null,
   "metadata": {},
   "outputs": [
    {
     "data": {
      "text/plain": [
       "Total Deaths         732\n",
       "Total Affected       277\n",
       "Total Damages Adj    584\n",
       "dtype: int64"
      ]
     },
     "execution_count": 83,
     "metadata": {},
     "output_type": "execute_result"
    }
   ],
   "source": [
    "df_drought_impact.isnull().sum()"
   ]
  },
  {
   "attachments": {},
   "cell_type": "markdown",
   "metadata": {},
   "source": [
    "La columna de personas fallecidas está vacía en casi su totalidad y las únicas más completas son las de total de afectados y total de daños ajustado"
   ]
  },
  {
   "cell_type": "code",
   "execution_count": null,
   "metadata": {},
   "outputs": [
    {
     "data": {
      "text/plain": [
       "11734025.0"
      ]
     },
     "execution_count": 84,
     "metadata": {},
     "output_type": "execute_result"
    }
   ],
   "source": [
    "df_drought_impact['Total Deaths'].sum()"
   ]
  },
  {
   "attachments": {},
   "cell_type": "markdown",
   "metadata": {},
   "source": [
    "Aún sin datos las cifras son elevadísimas"
   ]
  },
  {
   "cell_type": "code",
   "execution_count": null,
   "metadata": {},
   "outputs": [
    {
     "data": {
      "text/plain": [
       "4.0          2\n",
       "2.0          2\n",
       "20.0         2\n",
       "50.0         2\n",
       "8.0          2\n",
       "100000.0     2\n",
       "600.0        2\n",
       "2000.0       2\n",
       "9.0          2\n",
       "1500000.0    2\n",
       "20000.0      2\n",
       "12.0         2\n",
       "500.0        2\n",
       "85.0         1\n",
       "41.0         1\n",
       "143.0        1\n",
       "21.0         1\n",
       "115.0        1\n",
       "37.0         1\n",
       "58.0         1\n",
       "11000.0      1\n",
       "120.0        1\n",
       "79.0         1\n",
       "80.0         1\n",
       "60.0         1\n",
       "134.0        1\n",
       "27.0         1\n",
       "11.0         1\n",
       "24.0         1\n",
       "77.0         1\n",
       "45.0         1\n",
       "136.0        1\n",
       "6.0          1\n",
       "3000.0       1\n",
       "672.0        1\n",
       "237.0        1\n",
       "24000.0      1\n",
       "500000.0     1\n",
       "3000000.0    1\n",
       "1900000.0    1\n",
       "30000.0      1\n",
       "8000.0       1\n",
       "85000.0      1\n",
       "1200000.0    1\n",
       "19000.0      1\n",
       "18.0         1\n",
       "300000.0     1\n",
       "367.0        1\n",
       "1400.0       1\n",
       "63.0         1\n",
       "280.0        1\n",
       "150000.0     1\n",
       "230.0        1\n",
       "84.0         1\n",
       "300.0        1\n",
       "200.0        1\n",
       "1250000.0    1\n",
       "2465.0       1\n",
       "Name: Total Deaths, dtype: int64"
      ]
     },
     "execution_count": 85,
     "metadata": {},
     "output_type": "execute_result"
    }
   ],
   "source": [
    "df_drought_impact['Total Deaths'].value_counts()"
   ]
  },
  {
   "attachments": {},
   "cell_type": "markdown",
   "metadata": {},
   "source": [
    "Hay dos eventos con 1.500.000 de fallecidos, otro con 1.250.000, otro con 3.000.00, otro con 1.900.00,, otro con 1.200.000,"
   ]
  },
  {
   "cell_type": "code",
   "execution_count": null,
   "metadata": {},
   "outputs": [
    {
     "data": {
      "text/plain": [
       "2943201381.0"
      ]
     },
     "execution_count": 86,
     "metadata": {},
     "output_type": "execute_result"
    }
   ],
   "source": [
    "df_drought_impact['Total Affected'].sum()"
   ]
  },
  {
   "attachments": {},
   "cell_type": "markdown",
   "metadata": {},
   "source": [
    "Casi 3000 millones de personas afectadas en 803 eventos"
   ]
  },
  {
   "cell_type": "code",
   "execution_count": null,
   "metadata": {},
   "outputs": [
    {
     "data": {
      "text/plain": [
       "374288489.0"
      ]
     },
     "execution_count": 87,
     "metadata": {},
     "output_type": "execute_result"
    }
   ],
   "source": [
    "df_drought_impact['Total Damages Adj'].sum()"
   ]
  },
  {
   "attachments": {},
   "cell_type": "markdown",
   "metadata": {},
   "source": [
    "### 3.4 ANÁLISIS DE LA TEMPORALIDAD EN SEQUÍAS\n",
    "Usando columnas 'Year', 'Start Year', 'Start Month', 'Start Day', 'End Year', 'End Month', 'End Day'."
   ]
  },
  {
   "attachments": {},
   "cell_type": "markdown",
   "metadata": {},
   "source": [
    " * Análisis básico"
   ]
  },
  {
   "cell_type": "code",
   "execution_count": null,
   "metadata": {},
   "outputs": [
    {
     "data": {
      "text/plain": [
       "Index(['Dis No', 'Year', 'Seq', 'Disaster Subgroup', 'Disaster Type',\n",
       "       'Disaster Subtype', 'Country', 'ISO', 'Region', 'Continent', 'Location',\n",
       "       'Origin', 'Associated Dis', 'Dis Mag Value', 'Dis Mag Scale',\n",
       "       'Latitude', 'Longitude', 'Start Year', 'Start Month', 'Start Day',\n",
       "       'End Year', 'End Month', 'End Day', 'Total Deaths', 'Total Affected',\n",
       "       'Total Damages Adj'],\n",
       "      dtype='object')"
      ]
     },
     "execution_count": 88,
     "metadata": {},
     "output_type": "execute_result"
    }
   ],
   "source": [
    "df_drought.columns"
   ]
  },
  {
   "cell_type": "code",
   "execution_count": null,
   "metadata": {},
   "outputs": [
    {
     "data": {
      "text/html": [
       "<div>\n",
       "<style scoped>\n",
       "    .dataframe tbody tr th:only-of-type {\n",
       "        vertical-align: middle;\n",
       "    }\n",
       "\n",
       "    .dataframe tbody tr th {\n",
       "        vertical-align: top;\n",
       "    }\n",
       "\n",
       "    .dataframe thead th {\n",
       "        text-align: right;\n",
       "    }\n",
       "</style>\n",
       "<table border=\"1\" class=\"dataframe\">\n",
       "  <thead>\n",
       "    <tr style=\"text-align: right;\">\n",
       "      <th></th>\n",
       "      <th>Year</th>\n",
       "      <th>Start Year</th>\n",
       "      <th>Start Month</th>\n",
       "      <th>Start Day</th>\n",
       "      <th>End Year</th>\n",
       "      <th>End Month</th>\n",
       "      <th>End Day</th>\n",
       "    </tr>\n",
       "  </thead>\n",
       "  <tbody>\n",
       "    <tr>\n",
       "      <th>0</th>\n",
       "      <td>1900</td>\n",
       "      <td>1900</td>\n",
       "      <td>NaN</td>\n",
       "      <td>NaN</td>\n",
       "      <td>1900</td>\n",
       "      <td>NaN</td>\n",
       "      <td>NaN</td>\n",
       "    </tr>\n",
       "    <tr>\n",
       "      <th>1</th>\n",
       "      <td>1900</td>\n",
       "      <td>1900</td>\n",
       "      <td>NaN</td>\n",
       "      <td>NaN</td>\n",
       "      <td>1900</td>\n",
       "      <td>NaN</td>\n",
       "      <td>NaN</td>\n",
       "    </tr>\n",
       "    <tr>\n",
       "      <th>24</th>\n",
       "      <td>1910</td>\n",
       "      <td>1910</td>\n",
       "      <td>NaN</td>\n",
       "      <td>NaN</td>\n",
       "      <td>1914</td>\n",
       "      <td>NaN</td>\n",
       "      <td>NaN</td>\n",
       "    </tr>\n",
       "    <tr>\n",
       "      <th>27</th>\n",
       "      <td>1910</td>\n",
       "      <td>1910</td>\n",
       "      <td>NaN</td>\n",
       "      <td>NaN</td>\n",
       "      <td>1914</td>\n",
       "      <td>NaN</td>\n",
       "      <td>NaN</td>\n",
       "    </tr>\n",
       "    <tr>\n",
       "      <th>30</th>\n",
       "      <td>1910</td>\n",
       "      <td>1910</td>\n",
       "      <td>NaN</td>\n",
       "      <td>NaN</td>\n",
       "      <td>1914</td>\n",
       "      <td>NaN</td>\n",
       "      <td>NaN</td>\n",
       "    </tr>\n",
       "  </tbody>\n",
       "</table>\n",
       "</div>"
      ],
      "text/plain": [
       "    Year  Start Year  Start Month  Start Day  End Year  End Month  End Day\n",
       "0   1900        1900          NaN        NaN      1900        NaN      NaN\n",
       "1   1900        1900          NaN        NaN      1900        NaN      NaN\n",
       "24  1910        1910          NaN        NaN      1914        NaN      NaN\n",
       "27  1910        1910          NaN        NaN      1914        NaN      NaN\n",
       "30  1910        1910          NaN        NaN      1914        NaN      NaN"
      ]
     },
     "execution_count": 101,
     "metadata": {},
     "output_type": "execute_result"
    }
   ],
   "source": [
    "df_drought_year = df_drought[['Year', 'Start Year', 'Start Month', 'Start Day', 'End Year', 'End Month', 'End Day']]\n",
    "df_drought_year.head(5)"
   ]
  },
  {
   "cell_type": "code",
   "execution_count": null,
   "metadata": {},
   "outputs": [
    {
     "data": {
      "text/plain": [
       "Year             0\n",
       "Start Year       0\n",
       "Start Month    186\n",
       "Start Day      790\n",
       "End Year         0\n",
       "End Month      504\n",
       "End Day        790\n",
       "dtype: int64"
      ]
     },
     "execution_count": 91,
     "metadata": {},
     "output_type": "execute_result"
    }
   ],
   "source": [
    "df_drought_year.isnull().sum()"
   ]
  },
  {
   "attachments": {},
   "cell_type": "markdown",
   "metadata": {},
   "source": [
    "De día de inicio y de fin no hay datos, por lo tanto esas columnas se obviarán. En general hay más datos de inicio de evento que de finalización.\n"
   ]
  },
  {
   "cell_type": "code",
   "execution_count": null,
   "metadata": {},
   "outputs": [
    {
     "data": {
      "text/plain": [
       "Start Year  End Year\n",
       "1983        1983        23\n",
       "2002        2002        22\n",
       "2022        2022        21\n",
       "2012        2012        17\n",
       "2001        2001        16\n",
       "                        ..\n",
       "1982        1987         1\n",
       "1981        1982         1\n",
       "1980        1981         1\n",
       "1977        1980         1\n",
       "2023        2023         1\n",
       "Length: 182, dtype: int64"
      ]
     },
     "execution_count": 104,
     "metadata": {},
     "output_type": "execute_result"
    }
   ],
   "source": [
    "df_drought_year[['Start Year','End Year']].value_counts()"
   ]
  },
  {
   "attachments": {},
   "cell_type": "markdown",
   "metadata": {},
   "source": [
    "## ANÁLISIS BIVARIANTE"
   ]
  },
  {
   "cell_type": "code",
   "execution_count": null,
   "metadata": {},
   "outputs": [
    {
     "data": {
      "text/plain": [
       "Continent\n",
       "Africa       869596.0\n",
       "Americas        266.0\n",
       "Asia        9663477.0\n",
       "Europe      1200002.0\n",
       "Oceania         684.0\n",
       "Name: Total Deaths, dtype: float64"
      ]
     },
     "execution_count": 39,
     "metadata": {},
     "output_type": "execute_result"
    }
   ],
   "source": [
    "df_drought.groupby('Continent')['Total Deaths'].sum()"
   ]
  },
  {
   "cell_type": "code",
   "execution_count": null,
   "metadata": {},
   "outputs": [],
   "source": [
    "df_drought_deaths_continent = df_drought[['Total Deaths', 'Continent']]"
   ]
  },
  {
   "cell_type": "code",
   "execution_count": null,
   "metadata": {},
   "outputs": [
    {
     "data": {
      "text/plain": [
       "Total Deaths    732\n",
       "Continent         0\n",
       "dtype: int64"
      ]
     },
     "execution_count": 41,
     "metadata": {},
     "output_type": "execute_result"
    }
   ],
   "source": [
    "df_drought_deaths_continent.isnull().sum()"
   ]
  },
  {
   "cell_type": "code",
   "execution_count": null,
   "metadata": {},
   "outputs": [
    {
     "data": {
      "text/html": [
       "<div>\n",
       "<style scoped>\n",
       "    .dataframe tbody tr th:only-of-type {\n",
       "        vertical-align: middle;\n",
       "    }\n",
       "\n",
       "    .dataframe tbody tr th {\n",
       "        vertical-align: top;\n",
       "    }\n",
       "\n",
       "    .dataframe thead th {\n",
       "        text-align: right;\n",
       "    }\n",
       "</style>\n",
       "<table border=\"1\" class=\"dataframe\">\n",
       "  <thead>\n",
       "    <tr style=\"text-align: right;\">\n",
       "      <th></th>\n",
       "      <th>Total Deaths</th>\n",
       "      <th>Continent</th>\n",
       "    </tr>\n",
       "  </thead>\n",
       "  <tbody>\n",
       "    <tr>\n",
       "      <th>0</th>\n",
       "      <td>11000.0</td>\n",
       "      <td>Africa</td>\n",
       "    </tr>\n",
       "    <tr>\n",
       "      <th>1</th>\n",
       "      <td>1250000.0</td>\n",
       "      <td>Asia</td>\n",
       "    </tr>\n",
       "    <tr>\n",
       "      <th>24</th>\n",
       "      <td>NaN</td>\n",
       "      <td>Africa</td>\n",
       "    </tr>\n",
       "    <tr>\n",
       "      <th>27</th>\n",
       "      <td>NaN</td>\n",
       "      <td>Africa</td>\n",
       "    </tr>\n",
       "    <tr>\n",
       "      <th>30</th>\n",
       "      <td>NaN</td>\n",
       "      <td>Africa</td>\n",
       "    </tr>\n",
       "  </tbody>\n",
       "</table>\n",
       "</div>"
      ],
      "text/plain": [
       "    Total Deaths Continent\n",
       "0        11000.0    Africa\n",
       "1      1250000.0      Asia\n",
       "24           NaN    Africa\n",
       "27           NaN    Africa\n",
       "30           NaN    Africa"
      ]
     },
     "execution_count": 42,
     "metadata": {},
     "output_type": "execute_result"
    }
   ],
   "source": [
    "df_drought_deaths_continent.head()"
   ]
  },
  {
   "cell_type": "code",
   "execution_count": null,
   "metadata": {},
   "outputs": [
    {
     "data": {
      "text/html": [
       "<div>\n",
       "<style scoped>\n",
       "    .dataframe tbody tr th:only-of-type {\n",
       "        vertical-align: middle;\n",
       "    }\n",
       "\n",
       "    .dataframe tbody tr th {\n",
       "        vertical-align: top;\n",
       "    }\n",
       "\n",
       "    .dataframe thead th {\n",
       "        text-align: right;\n",
       "    }\n",
       "</style>\n",
       "<table border=\"1\" class=\"dataframe\">\n",
       "  <thead>\n",
       "    <tr style=\"text-align: right;\">\n",
       "      <th></th>\n",
       "      <th>Total Deaths</th>\n",
       "      <th>Continent</th>\n",
       "    </tr>\n",
       "  </thead>\n",
       "  <tbody>\n",
       "    <tr>\n",
       "      <th>0</th>\n",
       "      <td>11000.0</td>\n",
       "      <td>Africa</td>\n",
       "    </tr>\n",
       "    <tr>\n",
       "      <th>1</th>\n",
       "      <td>1250000.0</td>\n",
       "      <td>Asia</td>\n",
       "    </tr>\n",
       "    <tr>\n",
       "      <th>54</th>\n",
       "      <td>24000.0</td>\n",
       "      <td>Africa</td>\n",
       "    </tr>\n",
       "    <tr>\n",
       "      <th>56</th>\n",
       "      <td>500000.0</td>\n",
       "      <td>Asia</td>\n",
       "    </tr>\n",
       "    <tr>\n",
       "      <th>96</th>\n",
       "      <td>3000000.0</td>\n",
       "      <td>Asia</td>\n",
       "    </tr>\n",
       "    <tr>\n",
       "      <th>...</th>\n",
       "      <td>...</td>\n",
       "      <td>...</td>\n",
       "    </tr>\n",
       "    <tr>\n",
       "      <th>14537</th>\n",
       "      <td>77.0</td>\n",
       "      <td>Asia</td>\n",
       "    </tr>\n",
       "    <tr>\n",
       "      <th>14912</th>\n",
       "      <td>8.0</td>\n",
       "      <td>Americas</td>\n",
       "    </tr>\n",
       "    <tr>\n",
       "      <th>15946</th>\n",
       "      <td>45.0</td>\n",
       "      <td>Americas</td>\n",
       "    </tr>\n",
       "    <tr>\n",
       "      <th>16419</th>\n",
       "      <td>136.0</td>\n",
       "      <td>Americas</td>\n",
       "    </tr>\n",
       "    <tr>\n",
       "      <th>16438</th>\n",
       "      <td>2465.0</td>\n",
       "      <td>Africa</td>\n",
       "    </tr>\n",
       "  </tbody>\n",
       "</table>\n",
       "<p>71 rows × 2 columns</p>\n",
       "</div>"
      ],
      "text/plain": [
       "       Total Deaths Continent\n",
       "0           11000.0    Africa\n",
       "1         1250000.0      Asia\n",
       "54          24000.0    Africa\n",
       "56         500000.0      Asia\n",
       "96        3000000.0      Asia\n",
       "...             ...       ...\n",
       "14537          77.0      Asia\n",
       "14912           8.0  Americas\n",
       "15946          45.0  Americas\n",
       "16419         136.0  Americas\n",
       "16438        2465.0    Africa\n",
       "\n",
       "[71 rows x 2 columns]"
      ]
     },
     "execution_count": 43,
     "metadata": {},
     "output_type": "execute_result"
    }
   ],
   "source": [
    "df_drought_deaths_continent.dropna(axis=0)"
   ]
  },
  {
   "cell_type": "code",
   "execution_count": null,
   "metadata": {},
   "outputs": [],
   "source": []
  },
  {
   "attachments": {},
   "cell_type": "markdown",
   "metadata": {},
   "source": [
    "Sólo tenemos 71 eventos de los 803 registrados con cifras de fallecidos. La mayoría de los Nan corresponden al continente africano por lo que las cifras sean muy superiores a las dadas"
   ]
  },
  {
   "cell_type": "code",
   "execution_count": null,
   "metadata": {},
   "outputs": [
    {
     "data": {
      "text/plain": [
       "Continent  Total Deaths\n",
       "Africa     9.0             2\n",
       "           50.0            2\n",
       "           500.0           2\n",
       "           20000.0         2\n",
       "           100000.0        2\n",
       "                          ..\n",
       "Europe     2.0             1\n",
       "           1200000.0       1\n",
       "Oceania    24.0            1\n",
       "           60.0            1\n",
       "           600.0           1\n",
       "Name: Total Deaths, Length: 65, dtype: int64"
      ]
     },
     "execution_count": 44,
     "metadata": {},
     "output_type": "execute_result"
    }
   ],
   "source": [
    "df_drought.groupby('Continent')['Total Deaths'].value_counts()"
   ]
  },
  {
   "cell_type": "code",
   "execution_count": null,
   "metadata": {},
   "outputs": [
    {
     "data": {
      "text/html": [
       "<div>\n",
       "<style scoped>\n",
       "    .dataframe tbody tr th:only-of-type {\n",
       "        vertical-align: middle;\n",
       "    }\n",
       "\n",
       "    .dataframe tbody tr th {\n",
       "        vertical-align: top;\n",
       "    }\n",
       "\n",
       "    .dataframe thead th {\n",
       "        text-align: right;\n",
       "    }\n",
       "</style>\n",
       "<table border=\"1\" class=\"dataframe\">\n",
       "  <thead>\n",
       "    <tr style=\"text-align: right;\">\n",
       "      <th></th>\n",
       "      <th>Total Affected</th>\n",
       "      <th>Total Deaths</th>\n",
       "    </tr>\n",
       "  </thead>\n",
       "  <tbody>\n",
       "    <tr>\n",
       "      <th>0</th>\n",
       "      <td>NaN</td>\n",
       "      <td>11000.0</td>\n",
       "    </tr>\n",
       "    <tr>\n",
       "      <th>1</th>\n",
       "      <td>NaN</td>\n",
       "      <td>1250000.0</td>\n",
       "    </tr>\n",
       "    <tr>\n",
       "      <th>24</th>\n",
       "      <td>NaN</td>\n",
       "      <td>NaN</td>\n",
       "    </tr>\n",
       "    <tr>\n",
       "      <th>27</th>\n",
       "      <td>NaN</td>\n",
       "      <td>NaN</td>\n",
       "    </tr>\n",
       "    <tr>\n",
       "      <th>30</th>\n",
       "      <td>NaN</td>\n",
       "      <td>NaN</td>\n",
       "    </tr>\n",
       "    <tr>\n",
       "      <th>...</th>\n",
       "      <td>...</td>\n",
       "      <td>...</td>\n",
       "    </tr>\n",
       "    <tr>\n",
       "      <th>16479</th>\n",
       "      <td>2678193.0</td>\n",
       "      <td>NaN</td>\n",
       "    </tr>\n",
       "    <tr>\n",
       "      <th>16486</th>\n",
       "      <td>19110398.0</td>\n",
       "      <td>NaN</td>\n",
       "    </tr>\n",
       "    <tr>\n",
       "      <th>16506</th>\n",
       "      <td>11839300.0</td>\n",
       "      <td>NaN</td>\n",
       "    </tr>\n",
       "    <tr>\n",
       "      <th>16534</th>\n",
       "      <td>409115.0</td>\n",
       "      <td>NaN</td>\n",
       "    </tr>\n",
       "    <tr>\n",
       "      <th>16557</th>\n",
       "      <td>25972806.0</td>\n",
       "      <td>NaN</td>\n",
       "    </tr>\n",
       "  </tbody>\n",
       "</table>\n",
       "<p>803 rows × 2 columns</p>\n",
       "</div>"
      ],
      "text/plain": [
       "       Total Affected  Total Deaths\n",
       "0                 NaN       11000.0\n",
       "1                 NaN     1250000.0\n",
       "24                NaN           NaN\n",
       "27                NaN           NaN\n",
       "30                NaN           NaN\n",
       "...               ...           ...\n",
       "16479       2678193.0           NaN\n",
       "16486      19110398.0           NaN\n",
       "16506      11839300.0           NaN\n",
       "16534        409115.0           NaN\n",
       "16557      25972806.0           NaN\n",
       "\n",
       "[803 rows x 2 columns]"
      ]
     },
     "execution_count": 45,
     "metadata": {},
     "output_type": "execute_result"
    }
   ],
   "source": [
    "df_drought_deaths_affected = df_drought[['Total Affected','Total Deaths']]\n",
    "df_drought_deaths_affected"
   ]
  },
  {
   "cell_type": "code",
   "execution_count": null,
   "metadata": {},
   "outputs": [
    {
     "data": {
      "text/plain": [
       "(803, 2)"
      ]
     },
     "execution_count": 46,
     "metadata": {},
     "output_type": "execute_result"
    }
   ],
   "source": [
    "df_drought_deaths_affected.shape"
   ]
  },
  {
   "cell_type": "code",
   "execution_count": null,
   "metadata": {},
   "outputs": [
    {
     "data": {
      "text/html": [
       "<div>\n",
       "<style scoped>\n",
       "    .dataframe tbody tr th:only-of-type {\n",
       "        vertical-align: middle;\n",
       "    }\n",
       "\n",
       "    .dataframe tbody tr th {\n",
       "        vertical-align: top;\n",
       "    }\n",
       "\n",
       "    .dataframe thead th {\n",
       "        text-align: right;\n",
       "    }\n",
       "</style>\n",
       "<table border=\"1\" class=\"dataframe\">\n",
       "  <thead>\n",
       "    <tr style=\"text-align: right;\">\n",
       "      <th></th>\n",
       "      <th>Total Affected</th>\n",
       "      <th>Total Deaths</th>\n",
       "    </tr>\n",
       "  </thead>\n",
       "  <tbody>\n",
       "    <tr>\n",
       "      <th>56</th>\n",
       "      <td>20000000.0</td>\n",
       "      <td>500000.0</td>\n",
       "    </tr>\n",
       "    <tr>\n",
       "      <th>373</th>\n",
       "      <td>100000000.0</td>\n",
       "      <td>1500000.0</td>\n",
       "    </tr>\n",
       "    <tr>\n",
       "      <th>395</th>\n",
       "      <td>1500000.0</td>\n",
       "      <td>2000.0</td>\n",
       "    </tr>\n",
       "    <tr>\n",
       "      <th>403</th>\n",
       "      <td>204000.0</td>\n",
       "      <td>8000.0</td>\n",
       "    </tr>\n",
       "    <tr>\n",
       "      <th>615</th>\n",
       "      <td>3000000.0</td>\n",
       "      <td>100000.0</td>\n",
       "    </tr>\n",
       "    <tr>\n",
       "      <th>875</th>\n",
       "      <td>32000.0</td>\n",
       "      <td>85000.0</td>\n",
       "    </tr>\n",
       "    <tr>\n",
       "      <th>906</th>\n",
       "      <td>5000000.0</td>\n",
       "      <td>1200000.0</td>\n",
       "    </tr>\n",
       "    <tr>\n",
       "      <th>1317</th>\n",
       "      <td>700000.0</td>\n",
       "      <td>50.0</td>\n",
       "    </tr>\n",
       "    <tr>\n",
       "      <th>1614</th>\n",
       "      <td>230000.0</td>\n",
       "      <td>19000.0</td>\n",
       "    </tr>\n",
       "    <tr>\n",
       "      <th>2016</th>\n",
       "      <td>2000.0</td>\n",
       "      <td>18.0</td>\n",
       "    </tr>\n",
       "    <tr>\n",
       "      <th>2202</th>\n",
       "      <td>20000000.0</td>\n",
       "      <td>20.0</td>\n",
       "    </tr>\n",
       "    <tr>\n",
       "      <th>2234</th>\n",
       "      <td>7750000.0</td>\n",
       "      <td>300000.0</td>\n",
       "    </tr>\n",
       "    <tr>\n",
       "      <th>2511</th>\n",
       "      <td>7000000.0</td>\n",
       "      <td>367.0</td>\n",
       "    </tr>\n",
       "    <tr>\n",
       "      <th>2535</th>\n",
       "      <td>49000000.0</td>\n",
       "      <td>1400.0</td>\n",
       "    </tr>\n",
       "    <tr>\n",
       "      <th>2619</th>\n",
       "      <td>17220.0</td>\n",
       "      <td>63.0</td>\n",
       "    </tr>\n",
       "    <tr>\n",
       "      <th>2819</th>\n",
       "      <td>4750000.0</td>\n",
       "      <td>100000.0</td>\n",
       "    </tr>\n",
       "    <tr>\n",
       "      <th>3010</th>\n",
       "      <td>8400000.0</td>\n",
       "      <td>150000.0</td>\n",
       "    </tr>\n",
       "    <tr>\n",
       "      <th>3023</th>\n",
       "      <td>2000.0</td>\n",
       "      <td>230.0</td>\n",
       "    </tr>\n",
       "    <tr>\n",
       "      <th>3139</th>\n",
       "      <td>1000.0</td>\n",
       "      <td>84.0</td>\n",
       "    </tr>\n",
       "    <tr>\n",
       "      <th>3226</th>\n",
       "      <td>300000000.0</td>\n",
       "      <td>300.0</td>\n",
       "    </tr>\n",
       "    <tr>\n",
       "      <th>3270</th>\n",
       "      <td>8000.0</td>\n",
       "      <td>50.0</td>\n",
       "    </tr>\n",
       "    <tr>\n",
       "      <th>3305</th>\n",
       "      <td>950000.0</td>\n",
       "      <td>200.0</td>\n",
       "    </tr>\n",
       "    <tr>\n",
       "      <th>3425</th>\n",
       "      <td>1500000.0</td>\n",
       "      <td>3000.0</td>\n",
       "    </tr>\n",
       "    <tr>\n",
       "      <th>3638</th>\n",
       "      <td>500000.0</td>\n",
       "      <td>600.0</td>\n",
       "    </tr>\n",
       "    <tr>\n",
       "      <th>3913</th>\n",
       "      <td>5000000.0</td>\n",
       "      <td>2000.0</td>\n",
       "    </tr>\n",
       "    <tr>\n",
       "      <th>4706</th>\n",
       "      <td>60000.0</td>\n",
       "      <td>237.0</td>\n",
       "    </tr>\n",
       "    <tr>\n",
       "      <th>5711</th>\n",
       "      <td>1065000.0</td>\n",
       "      <td>672.0</td>\n",
       "    </tr>\n",
       "    <tr>\n",
       "      <th>6170</th>\n",
       "      <td>500000.0</td>\n",
       "      <td>60.0</td>\n",
       "    </tr>\n",
       "    <tr>\n",
       "      <th>6401</th>\n",
       "      <td>650000.0</td>\n",
       "      <td>6.0</td>\n",
       "    </tr>\n",
       "    <tr>\n",
       "      <th>6451</th>\n",
       "      <td>2580000.0</td>\n",
       "      <td>37.0</td>\n",
       "    </tr>\n",
       "    <tr>\n",
       "      <th>6633</th>\n",
       "      <td>23000000.0</td>\n",
       "      <td>85.0</td>\n",
       "    </tr>\n",
       "    <tr>\n",
       "      <th>6805</th>\n",
       "      <td>50000000.0</td>\n",
       "      <td>20.0</td>\n",
       "    </tr>\n",
       "    <tr>\n",
       "      <th>7081</th>\n",
       "      <td>2600000.0</td>\n",
       "      <td>8.0</td>\n",
       "    </tr>\n",
       "    <tr>\n",
       "      <th>7119</th>\n",
       "      <td>40000.0</td>\n",
       "      <td>12.0</td>\n",
       "    </tr>\n",
       "    <tr>\n",
       "      <th>7121</th>\n",
       "      <td>2200000.0</td>\n",
       "      <td>143.0</td>\n",
       "    </tr>\n",
       "    <tr>\n",
       "      <th>7125</th>\n",
       "      <td>1200000.0</td>\n",
       "      <td>21.0</td>\n",
       "    </tr>\n",
       "    <tr>\n",
       "      <th>7126</th>\n",
       "      <td>700000.0</td>\n",
       "      <td>115.0</td>\n",
       "    </tr>\n",
       "    <tr>\n",
       "      <th>7614</th>\n",
       "      <td>113596.0</td>\n",
       "      <td>41.0</td>\n",
       "    </tr>\n",
       "    <tr>\n",
       "      <th>7758</th>\n",
       "      <td>600000.0</td>\n",
       "      <td>9.0</td>\n",
       "    </tr>\n",
       "    <tr>\n",
       "      <th>7791</th>\n",
       "      <td>2829435.0</td>\n",
       "      <td>500.0</td>\n",
       "    </tr>\n",
       "    <tr>\n",
       "      <th>8227</th>\n",
       "      <td>655000.0</td>\n",
       "      <td>79.0</td>\n",
       "    </tr>\n",
       "    <tr>\n",
       "      <th>8677</th>\n",
       "      <td>2300000.0</td>\n",
       "      <td>80.0</td>\n",
       "    </tr>\n",
       "    <tr>\n",
       "      <th>8957</th>\n",
       "      <td>119500.0</td>\n",
       "      <td>9.0</td>\n",
       "    </tr>\n",
       "    <tr>\n",
       "      <th>9324</th>\n",
       "      <td>2150000.0</td>\n",
       "      <td>120.0</td>\n",
       "    </tr>\n",
       "    <tr>\n",
       "      <th>9542</th>\n",
       "      <td>18000000.0</td>\n",
       "      <td>134.0</td>\n",
       "    </tr>\n",
       "    <tr>\n",
       "      <th>9785</th>\n",
       "      <td>3500000.0</td>\n",
       "      <td>27.0</td>\n",
       "    </tr>\n",
       "    <tr>\n",
       "      <th>10877</th>\n",
       "      <td>3800000.0</td>\n",
       "      <td>4.0</td>\n",
       "    </tr>\n",
       "    <tr>\n",
       "      <th>10938</th>\n",
       "      <td>18000.0</td>\n",
       "      <td>4.0</td>\n",
       "    </tr>\n",
       "    <tr>\n",
       "      <th>11658</th>\n",
       "      <td>4000000.0</td>\n",
       "      <td>20000.0</td>\n",
       "    </tr>\n",
       "    <tr>\n",
       "      <th>13408</th>\n",
       "      <td>2520000.0</td>\n",
       "      <td>24.0</td>\n",
       "    </tr>\n",
       "    <tr>\n",
       "      <th>14537</th>\n",
       "      <td>4680912.0</td>\n",
       "      <td>77.0</td>\n",
       "    </tr>\n",
       "    <tr>\n",
       "      <th>14912</th>\n",
       "      <td>35032.0</td>\n",
       "      <td>8.0</td>\n",
       "    </tr>\n",
       "    <tr>\n",
       "      <th>16438</th>\n",
       "      <td>518000.0</td>\n",
       "      <td>2465.0</td>\n",
       "    </tr>\n",
       "  </tbody>\n",
       "</table>\n",
       "</div>"
      ],
      "text/plain": [
       "       Total Affected  Total Deaths\n",
       "56         20000000.0      500000.0\n",
       "373       100000000.0     1500000.0\n",
       "395         1500000.0        2000.0\n",
       "403          204000.0        8000.0\n",
       "615         3000000.0      100000.0\n",
       "875           32000.0       85000.0\n",
       "906         5000000.0     1200000.0\n",
       "1317         700000.0          50.0\n",
       "1614         230000.0       19000.0\n",
       "2016           2000.0          18.0\n",
       "2202       20000000.0          20.0\n",
       "2234        7750000.0      300000.0\n",
       "2511        7000000.0         367.0\n",
       "2535       49000000.0        1400.0\n",
       "2619          17220.0          63.0\n",
       "2819        4750000.0      100000.0\n",
       "3010        8400000.0      150000.0\n",
       "3023           2000.0         230.0\n",
       "3139           1000.0          84.0\n",
       "3226      300000000.0         300.0\n",
       "3270           8000.0          50.0\n",
       "3305         950000.0         200.0\n",
       "3425        1500000.0        3000.0\n",
       "3638         500000.0         600.0\n",
       "3913        5000000.0        2000.0\n",
       "4706          60000.0         237.0\n",
       "5711        1065000.0         672.0\n",
       "6170         500000.0          60.0\n",
       "6401         650000.0           6.0\n",
       "6451        2580000.0          37.0\n",
       "6633       23000000.0          85.0\n",
       "6805       50000000.0          20.0\n",
       "7081        2600000.0           8.0\n",
       "7119          40000.0          12.0\n",
       "7121        2200000.0         143.0\n",
       "7125        1200000.0          21.0\n",
       "7126         700000.0         115.0\n",
       "7614         113596.0          41.0\n",
       "7758         600000.0           9.0\n",
       "7791        2829435.0         500.0\n",
       "8227         655000.0          79.0\n",
       "8677        2300000.0          80.0\n",
       "8957         119500.0           9.0\n",
       "9324        2150000.0         120.0\n",
       "9542       18000000.0         134.0\n",
       "9785        3500000.0          27.0\n",
       "10877       3800000.0           4.0\n",
       "10938         18000.0           4.0\n",
       "11658       4000000.0       20000.0\n",
       "13408       2520000.0          24.0\n",
       "14537       4680912.0          77.0\n",
       "14912         35032.0           8.0\n",
       "16438        518000.0        2465.0"
      ]
     },
     "execution_count": 108,
     "metadata": {},
     "output_type": "execute_result"
    }
   ],
   "source": [
    "df_drought_deaths_affected_sinnulos = df_drought_deaths_affected.dropna(axis=0)\n",
    "df_drought_deaths_affected_sinnulos"
   ]
  },
  {
   "cell_type": "code",
   "execution_count": null,
   "metadata": {},
   "outputs": [
    {
     "data": {
      "text/plain": [
       "(53, 2)"
      ]
     },
     "execution_count": 109,
     "metadata": {},
     "output_type": "execute_result"
    }
   ],
   "source": [
    "df_drought_deaths_affected_sinnulos.shape"
   ]
  },
  {
   "cell_type": "code",
   "execution_count": null,
   "metadata": {},
   "outputs": [
    {
     "data": {
      "text/plain": [
       "<seaborn.axisgrid.FacetGrid at 0x1e07d287310>"
      ]
     },
     "execution_count": 112,
     "metadata": {},
     "output_type": "execute_result"
    },
    {
     "data": {
      "image/png": "[encoded data removed]",
      "text/plain": [
       "<Figure size 614.5x500 with 1 Axes>"
      ]
     },
     "metadata": {},
     "output_type": "display_data"
    }
   ],
   "source": [
    "sns.relplot(data=df_drought, x=df_drought_deaths_affected_sinnulos['Total Deaths'], y=df_drought_deaths_affected_sinnulos['Total Affected'], hue=\"Continent\")"
   ]
  },
  {
   "cell_type": "code",
   "execution_count": null,
   "metadata": {},
   "outputs": [
    {
     "data": {
      "text/plain": [
       "Continent  Start Year\n",
       "Africa     1983          17\n",
       "           2022          14\n",
       "           2005          13\n",
       "           2001          12\n",
       "           2011          12\n",
       "                         ..\n",
       "Oceania    2011           1\n",
       "           2016           1\n",
       "           2018           1\n",
       "           2021           1\n",
       "           2022           1\n",
       "Name: Start Year, Length: 234, dtype: int64"
      ]
     },
     "execution_count": 49,
     "metadata": {},
     "output_type": "execute_result"
    }
   ],
   "source": [
    "df_drought.groupby('Continent')['Start Year'].value_counts()"
   ]
  },
  {
   "cell_type": "code",
   "execution_count": null,
   "metadata": {},
   "outputs": [],
   "source": []
  }
 ],
 "metadata": {
  "kernelspec": {
   "display_name": "Python 3",
   "language": "python",
   "name": "python3"
  },
  "language_info": {
   "codemirror_mode": {
    "name": "ipython",
    "version": 3
   },
   "file_extension": ".py",
   "mimetype": "text/x-python",
   "name": "python",
   "nbconvert_exporter": "python",
   "pygments_lexer": "ipython3",
   "version": "3.10.11"
  },
  "orig_nbformat": 4
 },
 "nbformat": 4,
 "nbformat_minor": 2
}

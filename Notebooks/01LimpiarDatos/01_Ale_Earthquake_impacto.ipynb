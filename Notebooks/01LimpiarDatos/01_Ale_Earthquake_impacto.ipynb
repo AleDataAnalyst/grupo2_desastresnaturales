{
 "cells": [
  {
   "attachments": {},
   "cell_type": "markdown",
   "metadata": {},
   "source": [
    "# Impacto Humano y Daño de Terremotos (Earthquake)"
   ]
  },
  {
   "attachments": {},
   "cell_type": "markdown",
   "metadata": {},
   "source": [
    "## Importar librerías"
   ]
  },
  {
   "cell_type": "code",
   "execution_count": 2,
   "metadata": {},
   "outputs": [],
   "source": [
    "import numpy as np\n",
    "import pandas as pd\n",
    "import matplotlib.pyplot as plt\n",
    "import seaborn as sns\n",
    "import folium\n",
    "import re\n",
    "from geopy.geocoders import Nominatim\n",
    "import folium\n",
    "from time import sleep"
   ]
  },
  {
   "cell_type": "code",
   "execution_count": 3,
   "metadata": {},
   "outputs": [],
   "source": [
    "geolocator = Nominatim(user_agent=\"MozillaFirefox\", timeout=10)"
   ]
  },
  {
   "attachments": {},
   "cell_type": "markdown",
   "metadata": {},
   "source": [
    "## Cargar base de datos"
   ]
  },
  {
   "attachments": {},
   "cell_type": "markdown",
   "metadata": {},
   "source": [
    "03Limpio/03desastreslimpio.csv"
   ]
  },
  {
   "cell_type": "code",
   "execution_count": 4,
   "metadata": {},
   "outputs": [
    {
     "data": {
      "text/html": [
       "<div>\n",
       "<style scoped>\n",
       "    .dataframe tbody tr th:only-of-type {\n",
       "        vertical-align: middle;\n",
       "    }\n",
       "\n",
       "    .dataframe tbody tr th {\n",
       "        vertical-align: top;\n",
       "    }\n",
       "\n",
       "    .dataframe thead th {\n",
       "        text-align: right;\n",
       "    }\n",
       "</style>\n",
       "<table border=\"1\" class=\"dataframe\">\n",
       "  <thead>\n",
       "    <tr style=\"text-align: right;\">\n",
       "      <th></th>\n",
       "      <th>Dis No</th>\n",
       "      <th>Year</th>\n",
       "      <th>Seq</th>\n",
       "      <th>Disaster Subgroup</th>\n",
       "      <th>Disaster Type</th>\n",
       "      <th>Disaster Subtype</th>\n",
       "      <th>Country</th>\n",
       "      <th>ISO</th>\n",
       "      <th>Region</th>\n",
       "      <th>Continent</th>\n",
       "      <th>...</th>\n",
       "      <th>Longitude</th>\n",
       "      <th>Start Year</th>\n",
       "      <th>Start Month</th>\n",
       "      <th>Start Day</th>\n",
       "      <th>End Year</th>\n",
       "      <th>End Month</th>\n",
       "      <th>End Day</th>\n",
       "      <th>Total Deaths</th>\n",
       "      <th>Total Affected</th>\n",
       "      <th>Total Damages Adj</th>\n",
       "    </tr>\n",
       "  </thead>\n",
       "  <tbody>\n",
       "    <tr>\n",
       "      <th>0</th>\n",
       "      <td>1900-9002-CPV</td>\n",
       "      <td>1900</td>\n",
       "      <td>9002</td>\n",
       "      <td>Climatological</td>\n",
       "      <td>Drought</td>\n",
       "      <td>Drought</td>\n",
       "      <td>Cabo Verde</td>\n",
       "      <td>CPV</td>\n",
       "      <td>Western Africa</td>\n",
       "      <td>Africa</td>\n",
       "      <td>...</td>\n",
       "      <td>NaN</td>\n",
       "      <td>1900</td>\n",
       "      <td>0</td>\n",
       "      <td>0</td>\n",
       "      <td>1900</td>\n",
       "      <td>0</td>\n",
       "      <td>0</td>\n",
       "      <td>11000</td>\n",
       "      <td>0</td>\n",
       "      <td>0</td>\n",
       "    </tr>\n",
       "    <tr>\n",
       "      <th>1</th>\n",
       "      <td>1900-9001-IND</td>\n",
       "      <td>1900</td>\n",
       "      <td>9001</td>\n",
       "      <td>Climatological</td>\n",
       "      <td>Drought</td>\n",
       "      <td>Drought</td>\n",
       "      <td>India</td>\n",
       "      <td>IND</td>\n",
       "      <td>Southern Asia</td>\n",
       "      <td>Asia</td>\n",
       "      <td>...</td>\n",
       "      <td>NaN</td>\n",
       "      <td>1900</td>\n",
       "      <td>0</td>\n",
       "      <td>0</td>\n",
       "      <td>1900</td>\n",
       "      <td>0</td>\n",
       "      <td>0</td>\n",
       "      <td>1250000</td>\n",
       "      <td>0</td>\n",
       "      <td>0</td>\n",
       "    </tr>\n",
       "    <tr>\n",
       "      <th>2</th>\n",
       "      <td>1902-0012-GTM</td>\n",
       "      <td>1902</td>\n",
       "      <td>12</td>\n",
       "      <td>Geophysical</td>\n",
       "      <td>Earthquake</td>\n",
       "      <td>Ground movement</td>\n",
       "      <td>Guatemala</td>\n",
       "      <td>GTM</td>\n",
       "      <td>Central America</td>\n",
       "      <td>Americas</td>\n",
       "      <td>...</td>\n",
       "      <td>-91</td>\n",
       "      <td>1902</td>\n",
       "      <td>4</td>\n",
       "      <td>18</td>\n",
       "      <td>1902</td>\n",
       "      <td>4</td>\n",
       "      <td>18</td>\n",
       "      <td>2000</td>\n",
       "      <td>0</td>\n",
       "      <td>843726</td>\n",
       "    </tr>\n",
       "    <tr>\n",
       "      <th>3</th>\n",
       "      <td>1902-0003-GTM</td>\n",
       "      <td>1902</td>\n",
       "      <td>3</td>\n",
       "      <td>Geophysical</td>\n",
       "      <td>Volcanic activity</td>\n",
       "      <td>Ash fall</td>\n",
       "      <td>Guatemala</td>\n",
       "      <td>GTM</td>\n",
       "      <td>Central America</td>\n",
       "      <td>Americas</td>\n",
       "      <td>...</td>\n",
       "      <td>NaN</td>\n",
       "      <td>1902</td>\n",
       "      <td>4</td>\n",
       "      <td>8</td>\n",
       "      <td>1902</td>\n",
       "      <td>4</td>\n",
       "      <td>8</td>\n",
       "      <td>1000</td>\n",
       "      <td>0</td>\n",
       "      <td>0</td>\n",
       "    </tr>\n",
       "    <tr>\n",
       "      <th>4</th>\n",
       "      <td>1902-0010-GTM</td>\n",
       "      <td>1902</td>\n",
       "      <td>10</td>\n",
       "      <td>Geophysical</td>\n",
       "      <td>Volcanic activity</td>\n",
       "      <td>Ash fall</td>\n",
       "      <td>Guatemala</td>\n",
       "      <td>GTM</td>\n",
       "      <td>Central America</td>\n",
       "      <td>Americas</td>\n",
       "      <td>...</td>\n",
       "      <td>NaN</td>\n",
       "      <td>1902</td>\n",
       "      <td>10</td>\n",
       "      <td>24</td>\n",
       "      <td>1902</td>\n",
       "      <td>10</td>\n",
       "      <td>24</td>\n",
       "      <td>6000</td>\n",
       "      <td>0</td>\n",
       "      <td>0</td>\n",
       "    </tr>\n",
       "    <tr>\n",
       "      <th>5</th>\n",
       "      <td>1903-0006-CAN</td>\n",
       "      <td>1903</td>\n",
       "      <td>6</td>\n",
       "      <td>Geophysical</td>\n",
       "      <td>Mass movement (dry)</td>\n",
       "      <td>Rockfall</td>\n",
       "      <td>Canada</td>\n",
       "      <td>CAN</td>\n",
       "      <td>Northern America</td>\n",
       "      <td>Americas</td>\n",
       "      <td>...</td>\n",
       "      <td>NaN</td>\n",
       "      <td>1903</td>\n",
       "      <td>4</td>\n",
       "      <td>29</td>\n",
       "      <td>1903</td>\n",
       "      <td>4</td>\n",
       "      <td>29</td>\n",
       "      <td>76</td>\n",
       "      <td>23</td>\n",
       "      <td>0</td>\n",
       "    </tr>\n",
       "    <tr>\n",
       "      <th>6</th>\n",
       "      <td>1903-0012-COM</td>\n",
       "      <td>1903</td>\n",
       "      <td>12</td>\n",
       "      <td>Geophysical</td>\n",
       "      <td>Volcanic activity</td>\n",
       "      <td>Ash fall</td>\n",
       "      <td>Comoros (the)</td>\n",
       "      <td>COM</td>\n",
       "      <td>Eastern Africa</td>\n",
       "      <td>Africa</td>\n",
       "      <td>...</td>\n",
       "      <td>NaN</td>\n",
       "      <td>1903</td>\n",
       "      <td>0</td>\n",
       "      <td>0</td>\n",
       "      <td>1903</td>\n",
       "      <td>0</td>\n",
       "      <td>0</td>\n",
       "      <td>17</td>\n",
       "      <td>0</td>\n",
       "      <td>0</td>\n",
       "    </tr>\n",
       "    <tr>\n",
       "      <th>7</th>\n",
       "      <td>1904-0003-BGD</td>\n",
       "      <td>1904</td>\n",
       "      <td>3</td>\n",
       "      <td>Meteorological</td>\n",
       "      <td>Storm</td>\n",
       "      <td>Tropical cyclone</td>\n",
       "      <td>Bangladesh</td>\n",
       "      <td>BGD</td>\n",
       "      <td>Southern Asia</td>\n",
       "      <td>Asia</td>\n",
       "      <td>...</td>\n",
       "      <td>NaN</td>\n",
       "      <td>1904</td>\n",
       "      <td>11</td>\n",
       "      <td>0</td>\n",
       "      <td>1904</td>\n",
       "      <td>11</td>\n",
       "      <td>0</td>\n",
       "      <td>0</td>\n",
       "      <td>0</td>\n",
       "      <td>0</td>\n",
       "    </tr>\n",
       "    <tr>\n",
       "      <th>8</th>\n",
       "      <td>1905-0005-CAN</td>\n",
       "      <td>1905</td>\n",
       "      <td>5</td>\n",
       "      <td>Geophysical</td>\n",
       "      <td>Mass movement (dry)</td>\n",
       "      <td>Rockfall</td>\n",
       "      <td>Canada</td>\n",
       "      <td>CAN</td>\n",
       "      <td>Northern America</td>\n",
       "      <td>Americas</td>\n",
       "      <td>...</td>\n",
       "      <td>NaN</td>\n",
       "      <td>1905</td>\n",
       "      <td>8</td>\n",
       "      <td>13</td>\n",
       "      <td>1905</td>\n",
       "      <td>8</td>\n",
       "      <td>13</td>\n",
       "      <td>18</td>\n",
       "      <td>18</td>\n",
       "      <td>0</td>\n",
       "    </tr>\n",
       "    <tr>\n",
       "      <th>9</th>\n",
       "      <td>1905-0003-IND</td>\n",
       "      <td>1905</td>\n",
       "      <td>3</td>\n",
       "      <td>Geophysical</td>\n",
       "      <td>Earthquake</td>\n",
       "      <td>Ground movement</td>\n",
       "      <td>India</td>\n",
       "      <td>IND</td>\n",
       "      <td>Southern Asia</td>\n",
       "      <td>Asia</td>\n",
       "      <td>...</td>\n",
       "      <td>76.16</td>\n",
       "      <td>1905</td>\n",
       "      <td>4</td>\n",
       "      <td>4</td>\n",
       "      <td>1905</td>\n",
       "      <td>4</td>\n",
       "      <td>4</td>\n",
       "      <td>20000</td>\n",
       "      <td>0</td>\n",
       "      <td>812477</td>\n",
       "    </tr>\n",
       "  </tbody>\n",
       "</table>\n",
       "<p>10 rows × 26 columns</p>\n",
       "</div>"
      ],
      "text/plain": [
       "          Dis No  Year   Seq Disaster Subgroup        Disaster Type  \\\n",
       "0  1900-9002-CPV  1900  9002    Climatological              Drought   \n",
       "1  1900-9001-IND  1900  9001    Climatological              Drought   \n",
       "2  1902-0012-GTM  1902    12       Geophysical           Earthquake   \n",
       "3  1902-0003-GTM  1902     3       Geophysical    Volcanic activity   \n",
       "4  1902-0010-GTM  1902    10       Geophysical    Volcanic activity   \n",
       "5  1903-0006-CAN  1903     6       Geophysical  Mass movement (dry)   \n",
       "6  1903-0012-COM  1903    12       Geophysical    Volcanic activity   \n",
       "7  1904-0003-BGD  1904     3    Meteorological                Storm   \n",
       "8  1905-0005-CAN  1905     5       Geophysical  Mass movement (dry)   \n",
       "9  1905-0003-IND  1905     3       Geophysical           Earthquake   \n",
       "\n",
       "   Disaster Subtype        Country  ISO            Region Continent  ...  \\\n",
       "0           Drought     Cabo Verde  CPV    Western Africa    Africa  ...   \n",
       "1           Drought          India  IND     Southern Asia      Asia  ...   \n",
       "2   Ground movement      Guatemala  GTM   Central America  Americas  ...   \n",
       "3          Ash fall      Guatemala  GTM   Central America  Americas  ...   \n",
       "4          Ash fall      Guatemala  GTM   Central America  Americas  ...   \n",
       "5          Rockfall         Canada  CAN  Northern America  Americas  ...   \n",
       "6          Ash fall  Comoros (the)  COM    Eastern Africa    Africa  ...   \n",
       "7  Tropical cyclone     Bangladesh  BGD     Southern Asia      Asia  ...   \n",
       "8          Rockfall         Canada  CAN  Northern America  Americas  ...   \n",
       "9   Ground movement          India  IND     Southern Asia      Asia  ...   \n",
       "\n",
       "  Longitude Start Year Start Month  Start Day End Year End Month End Day  \\\n",
       "0       NaN       1900           0          0     1900         0       0   \n",
       "1       NaN       1900           0          0     1900         0       0   \n",
       "2       -91       1902           4         18     1902         4      18   \n",
       "3       NaN       1902           4          8     1902         4       8   \n",
       "4       NaN       1902          10         24     1902        10      24   \n",
       "5       NaN       1903           4         29     1903         4      29   \n",
       "6       NaN       1903           0          0     1903         0       0   \n",
       "7       NaN       1904          11          0     1904        11       0   \n",
       "8       NaN       1905           8         13     1905         8      13   \n",
       "9     76.16       1905           4          4     1905         4       4   \n",
       "\n",
       "   Total Deaths  Total Affected  Total Damages Adj  \n",
       "0         11000               0                  0  \n",
       "1       1250000               0                  0  \n",
       "2          2000               0             843726  \n",
       "3          1000               0                  0  \n",
       "4          6000               0                  0  \n",
       "5            76              23                  0  \n",
       "6            17               0                  0  \n",
       "7             0               0                  0  \n",
       "8            18              18                  0  \n",
       "9         20000               0             812477  \n",
       "\n",
       "[10 rows x 26 columns]"
      ]
     },
     "execution_count": 4,
     "metadata": {},
     "output_type": "execute_result"
    }
   ],
   "source": [
    "df = pd.read_csv('../../Data/03Limpio/03desastreslimpio.csv')\n",
    "df.head(10)"
   ]
  },
  {
   "attachments": {},
   "cell_type": "markdown",
   "metadata": {},
   "source": [
    "## EDA Inicial Básico"
   ]
  },
  {
   "cell_type": "code",
   "execution_count": 5,
   "metadata": {},
   "outputs": [
    {
     "data": {
      "text/plain": [
       "(16636, 26)"
      ]
     },
     "execution_count": 5,
     "metadata": {},
     "output_type": "execute_result"
    }
   ],
   "source": [
    "df.shape"
   ]
  },
  {
   "cell_type": "code",
   "execution_count": 6,
   "metadata": {},
   "outputs": [
    {
     "name": "stdout",
     "output_type": "stream",
     "text": [
      "<class 'pandas.core.frame.DataFrame'>\n",
      "RangeIndex: 16636 entries, 0 to 16635\n",
      "Data columns (total 26 columns):\n",
      " #   Column             Non-Null Count  Dtype \n",
      "---  ------             --------------  ----- \n",
      " 0   Dis No             16636 non-null  object\n",
      " 1   Year               16636 non-null  int64 \n",
      " 2   Seq                16636 non-null  int64 \n",
      " 3   Disaster Subgroup  16636 non-null  object\n",
      " 4   Disaster Type      16636 non-null  object\n",
      " 5   Disaster Subtype   13313 non-null  object\n",
      " 6   Country            16636 non-null  object\n",
      " 7   ISO                16636 non-null  object\n",
      " 8   Region             16636 non-null  object\n",
      " 9   Continent          16636 non-null  object\n",
      " 10  Location           14825 non-null  object\n",
      " 11  Origin             4085 non-null   object\n",
      " 12  Associated Dis     3593 non-null   object\n",
      " 13  Dis Mag Value      16636 non-null  int64 \n",
      " 14  Dis Mag Scale      15416 non-null  object\n",
      " 15  Latitude           2775 non-null   object\n",
      " 16  Longitude          2775 non-null   object\n",
      " 17  Start Year         16636 non-null  int64 \n",
      " 18  Start Month        16636 non-null  int64 \n",
      " 19  Start Day          16636 non-null  int64 \n",
      " 20  End Year           16636 non-null  int64 \n",
      " 21  End Month          16636 non-null  int64 \n",
      " 22  End Day            16636 non-null  int64 \n",
      " 23  Total Deaths       16636 non-null  int64 \n",
      " 24  Total Affected     16636 non-null  int64 \n",
      " 25  Total Damages Adj  16636 non-null  int64 \n",
      "dtypes: int64(12), object(14)\n",
      "memory usage: 3.3+ MB\n"
     ]
    }
   ],
   "source": [
    "df.info()"
   ]
  },
  {
   "attachments": {},
   "cell_type": "markdown",
   "metadata": {},
   "source": [
    "## Filtro Disaster Type == Earthquake"
   ]
  },
  {
   "cell_type": "code",
   "execution_count": 7,
   "metadata": {},
   "outputs": [],
   "source": [
    "filter = df['Disaster Type'] == 'earthquake'\n",
    "df_earthquake = df[filter]"
   ]
  },
  {
   "cell_type": "code",
   "execution_count": 8,
   "metadata": {},
   "outputs": [
    {
     "data": {
      "text/html": [
       "<div>\n",
       "<style scoped>\n",
       "    .dataframe tbody tr th:only-of-type {\n",
       "        vertical-align: middle;\n",
       "    }\n",
       "\n",
       "    .dataframe tbody tr th {\n",
       "        vertical-align: top;\n",
       "    }\n",
       "\n",
       "    .dataframe thead th {\n",
       "        text-align: right;\n",
       "    }\n",
       "</style>\n",
       "<table border=\"1\" class=\"dataframe\">\n",
       "  <thead>\n",
       "    <tr style=\"text-align: right;\">\n",
       "      <th></th>\n",
       "      <th>Dis No</th>\n",
       "      <th>Year</th>\n",
       "      <th>Seq</th>\n",
       "      <th>Disaster Subgroup</th>\n",
       "      <th>Disaster Type</th>\n",
       "      <th>Disaster Subtype</th>\n",
       "      <th>Country</th>\n",
       "      <th>ISO</th>\n",
       "      <th>Region</th>\n",
       "      <th>Continent</th>\n",
       "      <th>...</th>\n",
       "      <th>Longitude</th>\n",
       "      <th>Start Year</th>\n",
       "      <th>Start Month</th>\n",
       "      <th>Start Day</th>\n",
       "      <th>End Year</th>\n",
       "      <th>End Month</th>\n",
       "      <th>End Day</th>\n",
       "      <th>Total Deaths</th>\n",
       "      <th>Total Affected</th>\n",
       "      <th>Total Damages Adj</th>\n",
       "    </tr>\n",
       "  </thead>\n",
       "  <tbody>\n",
       "  </tbody>\n",
       "</table>\n",
       "<p>0 rows × 26 columns</p>\n",
       "</div>"
      ],
      "text/plain": [
       "Empty DataFrame\n",
       "Columns: [Dis No, Year, Seq, Disaster Subgroup, Disaster Type, Disaster Subtype, Country, ISO, Region, Continent, Location, Origin, Associated Dis, Dis Mag Value, Dis Mag Scale, Latitude, Longitude, Start Year, Start Month, Start Day, End Year, End Month, End Day, Total Deaths, Total Affected, Total Damages Adj]\n",
       "Index: []\n",
       "\n",
       "[0 rows x 26 columns]"
      ]
     },
     "execution_count": 8,
     "metadata": {},
     "output_type": "execute_result"
    }
   ],
   "source": [
    "df_earthquake.head(2)"
   ]
  },
  {
   "cell_type": "code",
   "execution_count": 9,
   "metadata": {},
   "outputs": [
    {
     "data": {
      "text/plain": [
       "(0, 26)"
      ]
     },
     "execution_count": 9,
     "metadata": {},
     "output_type": "execute_result"
    }
   ],
   "source": [
    "df_earthquake.shape"
   ]
  },
  {
   "cell_type": "code",
   "execution_count": 10,
   "metadata": {},
   "outputs": [
    {
     "data": {
      "text/plain": [
       "dtype('O')"
      ]
     },
     "execution_count": 10,
     "metadata": {},
     "output_type": "execute_result"
    }
   ],
   "source": [
    "df_earthquake['Disaster Type'].dtype"
   ]
  },
  {
   "attachments": {},
   "cell_type": "markdown",
   "metadata": {},
   "source": [
    "# Limpieza de coordenadas"
   ]
  },
  {
   "attachments": {},
   "cell_type": "markdown",
   "metadata": {},
   "source": [
    "## Función para limpiar coordenadas filtrado para df_earthquake"
   ]
  },
  {
   "cell_type": "code",
   "execution_count": 11,
   "metadata": {},
   "outputs": [
    {
     "name": "stdout",
     "output_type": "stream",
     "text": [
      "Valores anómalos de Latitude: []\n",
      "Valores anómalos de Longitude: []\n"
     ]
    }
   ],
   "source": [
    "# Convertir 'Latitude' y 'Longitude' a string\n",
    "df_earthquake['Latitude'] = df_earthquake['Latitude'].astype(str)\n",
    "df_earthquake['Longitude'] = df_earthquake['Longitude'].astype(str)\n",
    "\n",
    "# Limpiar las coordenadas de latitud y longitud\n",
    "df_earthquake['Latitude'] = df_earthquake['Latitude'].apply(lambda x: re.sub('[^\\d.-]', '', x))\n",
    "df_earthquake['Longitude'] = df_earthquake['Longitude'].apply(lambda x: re.sub('[^\\d.-]', '', x))\n",
    "\n",
    "# Quitar puntos finales\n",
    "df_earthquake['Latitude'] = df_earthquake['Latitude'].str.rstrip('.')\n",
    "df_earthquake['Longitude'] = df_earthquake['Longitude'].str.rstrip('.')\n",
    "\n",
    "# Añadir valores anómalos de latitud y longitud a listas\n",
    "anomalous_lat = []\n",
    "anomalous_lon = []\n",
    "\n",
    "def convert_coordinates(x, convert_nan=True):\n",
    "    if not x:\n",
    "        return np.nan\n",
    "\n",
    "    # Remover caracteres 'N' y 'E'\n",
    "    x = x.replace(' N', '').replace(' E', '')\n",
    "    \n",
    "    # Remover puntos extras en decimales\n",
    "    x = re.sub('^(\\d+\\.\\d{2})\\..*', r'\\1', x)\n",
    "\n",
    "    # Conversión a negativo para S y W\n",
    "    try:\n",
    "        value = float(x)\n",
    "        if x[-1] == 'S' or x[-1] == 'W':\n",
    "            return -value\n",
    "        else:\n",
    "            return value\n",
    "    except ValueError:\n",
    "        return np.nan\n",
    "\n",
    "# Convertir a float\n",
    "df_earthquake['Latitude'] = df_earthquake['Latitude'].apply(convert_coordinates)\n",
    "df_earthquake['Longitude'] = df_earthquake['Longitude'].apply(convert_coordinates)\n",
    "\n",
    "# Redondear decimales\n",
    "df_earthquake['Latitude'] = df_earthquake['Latitude'].round(2)\n",
    "df_earthquake['Longitude'] = df_earthquake['Longitude'].round(2)\n",
    "\n",
    "# Identificación de valores anómalos fuera de rango de grados de sistema de coordenadas\n",
    "for index, row in df_earthquake.iterrows():\n",
    "    latitude = row['Latitude']\n",
    "    longitude = row['Longitude']\n",
    "\n",
    "    if latitude < -90 or latitude > 90:\n",
    "        anomalous_lat.append(latitude)\n",
    "\n",
    "    if longitude < -180 or longitude > 180:\n",
    "        anomalous_lon.append(longitude)\n",
    "\n",
    "print(\"Valores anómalos de Latitude:\", anomalous_lat)\n",
    "print(\"Valores anómalos de Longitude:\", anomalous_lon)\n"
   ]
  },
  {
   "cell_type": "code",
   "execution_count": 12,
   "metadata": {},
   "outputs": [
    {
     "data": {
      "text/html": [
       "<div>\n",
       "<style scoped>\n",
       "    .dataframe tbody tr th:only-of-type {\n",
       "        vertical-align: middle;\n",
       "    }\n",
       "\n",
       "    .dataframe tbody tr th {\n",
       "        vertical-align: top;\n",
       "    }\n",
       "\n",
       "    .dataframe thead th {\n",
       "        text-align: right;\n",
       "    }\n",
       "</style>\n",
       "<table border=\"1\" class=\"dataframe\">\n",
       "  <thead>\n",
       "    <tr style=\"text-align: right;\">\n",
       "      <th></th>\n",
       "      <th>Dis No</th>\n",
       "      <th>Year</th>\n",
       "      <th>Seq</th>\n",
       "      <th>Disaster Subgroup</th>\n",
       "      <th>Disaster Type</th>\n",
       "      <th>Disaster Subtype</th>\n",
       "      <th>Country</th>\n",
       "      <th>ISO</th>\n",
       "      <th>Region</th>\n",
       "      <th>Continent</th>\n",
       "      <th>...</th>\n",
       "      <th>Longitude</th>\n",
       "      <th>Start Year</th>\n",
       "      <th>Start Month</th>\n",
       "      <th>Start Day</th>\n",
       "      <th>End Year</th>\n",
       "      <th>End Month</th>\n",
       "      <th>End Day</th>\n",
       "      <th>Total Deaths</th>\n",
       "      <th>Total Affected</th>\n",
       "      <th>Total Damages Adj</th>\n",
       "    </tr>\n",
       "  </thead>\n",
       "  <tbody>\n",
       "  </tbody>\n",
       "</table>\n",
       "<p>0 rows × 26 columns</p>\n",
       "</div>"
      ],
      "text/plain": [
       "Empty DataFrame\n",
       "Columns: [Dis No, Year, Seq, Disaster Subgroup, Disaster Type, Disaster Subtype, Country, ISO, Region, Continent, Location, Origin, Associated Dis, Dis Mag Value, Dis Mag Scale, Latitude, Longitude, Start Year, Start Month, Start Day, End Year, End Month, End Day, Total Deaths, Total Affected, Total Damages Adj]\n",
       "Index: []\n",
       "\n",
       "[0 rows x 26 columns]"
      ]
     },
     "execution_count": 12,
     "metadata": {},
     "output_type": "execute_result"
    }
   ],
   "source": [
    "# Función para rellenar los valores en anomalous_lat y anomalous_lon\n",
    "def fill_anomalous_latlon(row):\n",
    "    if row['Latitude'] in anomalous_lat and row['Longitude'] in anomalous_lon:\n",
    "        if pd.notnull(row['Location']):\n",
    "            location = geolocator.geocode(row['Location'])\n",
    "        else:\n",
    "            location = geolocator.geocode(row['Country'])\n",
    "\n",
    "        if location:\n",
    "            row['Latitude'] = location.latitude\n",
    "            row['Longitude'] = location.longitude\n",
    "            sleep(1)\n",
    "    return row\n",
    "\n",
    "# Crear un objeto geolocator\n",
    "geolocator = Nominatim(user_agent='limpiar_anomalos')\n",
    "\n",
    "# Aplicar la función fill_anomalous_latlon al DataFrame\n",
    "df_earthquake_filled_latlon = df_earthquake.apply(fill_anomalous_latlon, axis=1)\n",
    "df_earthquake_filled_latlon.head()"
   ]
  },
  {
   "cell_type": "markdown",
   "metadata": {},
   "source": [
    "1. Definimos la función fill_anomalous_latlon que toma una fila como entrada. Si los valores de latitud y longitud de la fila se encuentran en las listas anomalous_lat y anomalous_lon, respectivamente, la función intenta geocodificar la ubicación mediante la columna Location o la columna Country. Si se encuentra una ubicación válida, se actualizan los valores de latitud y longitud de la fila.\n",
    "\n",
    "2. La llamada a la función sleep(1) agrega un retraso de 1 segundo entre las solicitudes de geolocalización para cumplir con la política de uso del servicio de geocodificación.\n",
    "\n",
    "3. Luego creamos un objeto geolocalizador utilizando el geocodificador Nominatim de la biblioteca geopy.\n",
    "\n",
    "4. Finalmente, aplicamos la función fill_anomalous_latlon a cada fila del DataFrame usando el método apply con axis=1, lo que indica que la función debe aplicarse por filas."
   ]
  },
  {
   "cell_type": "code",
   "execution_count": 13,
   "metadata": {},
   "outputs": [],
   "source": [
    "# def fill_anomalos_lat_lon(row):\n",
    "#     if abs(row['Latitude'])>90 and abs(row['Longitude'])>180:\n",
    "    \n",
    "#         location = geolocator.geocode(row['Country'])\n",
    "#         if location:\n",
    "#             row['Latitude'] = location.latitude\n",
    "#             row['Longitude'] = location.longitude\n",
    "#             sleep(1)\n",
    "#     return row\n",
    "\n",
    "# df_earthquake_fillanomalos = df_earthquake(fill_anomalos_lat_lon, axis=1)\n",
    "# df_earthquake_fillanomalos.head()"
   ]
  },
  {
   "attachments": {},
   "cell_type": "markdown",
   "metadata": {},
   "source": [
    "## Tests de verificación de limpieza de coordenadas"
   ]
  },
  {
   "cell_type": "code",
   "execution_count": 14,
   "metadata": {},
   "outputs": [
    {
     "data": {
      "text/html": [
       "<div>\n",
       "<style scoped>\n",
       "    .dataframe tbody tr th:only-of-type {\n",
       "        vertical-align: middle;\n",
       "    }\n",
       "\n",
       "    .dataframe tbody tr th {\n",
       "        vertical-align: top;\n",
       "    }\n",
       "\n",
       "    .dataframe thead th {\n",
       "        text-align: right;\n",
       "    }\n",
       "</style>\n",
       "<table border=\"1\" class=\"dataframe\">\n",
       "  <thead>\n",
       "    <tr style=\"text-align: right;\">\n",
       "      <th></th>\n",
       "      <th>Latitude</th>\n",
       "      <th>Longitude</th>\n",
       "      <th>Country</th>\n",
       "    </tr>\n",
       "  </thead>\n",
       "  <tbody>\n",
       "  </tbody>\n",
       "</table>\n",
       "</div>"
      ],
      "text/plain": [
       "Empty DataFrame\n",
       "Columns: [Latitude, Longitude, Country]\n",
       "Index: []"
      ]
     },
     "execution_count": 14,
     "metadata": {},
     "output_type": "execute_result"
    }
   ],
   "source": [
    "df_earthquake[['Latitude', 'Longitude', 'Country']][700:800:]"
   ]
  },
  {
   "cell_type": "code",
   "execution_count": 15,
   "metadata": {},
   "outputs": [
    {
     "name": "stdout",
     "output_type": "stream",
     "text": [
      "Series([], Name: Latitude, dtype: object)\n",
      "Series([], Name: Longitude, dtype: object)\n"
     ]
    }
   ],
   "source": [
    "print(df_earthquake['Latitude'])\n",
    "print(df_earthquake['Longitude'])"
   ]
  },
  {
   "cell_type": "code",
   "execution_count": 16,
   "metadata": {},
   "outputs": [
    {
     "name": "stdout",
     "output_type": "stream",
     "text": [
      "object\n",
      "object\n"
     ]
    }
   ],
   "source": [
    "print(df_earthquake['Latitude'].dtype)\n",
    "print(df_earthquake['Longitude'].dtype)"
   ]
  },
  {
   "cell_type": "code",
   "execution_count": 17,
   "metadata": {},
   "outputs": [],
   "source": [
    "# # Examinar filas específicas para verificar si el proceso de limpieza ha manejado los valores anómalos correctamente.\n",
    "# print(df_earthquake.loc[12000, 'Latitude'])\n",
    "# print(df_earthquake.loc[12000, 'Longitude'])"
   ]
  },
  {
   "cell_type": "code",
   "execution_count": 18,
   "metadata": {},
   "outputs": [
    {
     "data": {
      "text/plain": [
       "Longitude    0.0\n",
       "Latitude     0.0\n",
       "dtype: float64"
      ]
     },
     "execution_count": 18,
     "metadata": {},
     "output_type": "execute_result"
    }
   ],
   "source": [
    "# Valores nulos de Longitude y Latitude\n",
    "df_earthquake[['Longitude', 'Latitude']].isnull().sum()"
   ]
  },
  {
   "cell_type": "markdown",
   "metadata": {},
   "source": [
    "## Valores Anómalos de Latitud y Longitud"
   ]
  },
  {
   "cell_type": "code",
   "execution_count": 19,
   "metadata": {},
   "outputs": [
    {
     "data": {
      "text/plain": [
       "0"
      ]
     },
     "execution_count": 19,
     "metadata": {},
     "output_type": "execute_result"
    }
   ],
   "source": [
    "len(anomalous_lat)"
   ]
  },
  {
   "cell_type": "code",
   "execution_count": 20,
   "metadata": {},
   "outputs": [
    {
     "data": {
      "text/plain": [
       "0"
      ]
     },
     "execution_count": 20,
     "metadata": {},
     "output_type": "execute_result"
    }
   ],
   "source": [
    "len(anomalous_lon)"
   ]
  },
  {
   "cell_type": "markdown",
   "metadata": {},
   "source": [
    "#### Índices Anómalos de Latitud y longitud"
   ]
  },
  {
   "cell_type": "code",
   "execution_count": 21,
   "metadata": {},
   "outputs": [
    {
     "name": "stdout",
     "output_type": "stream",
     "text": [
      "Índices Anómalos de Latitud: []\n"
     ]
    }
   ],
   "source": [
    "anomalous_lat_idx = []\n",
    "for index, lat in enumerate(anomalous_lat):\n",
    "    if lat < -90 or lat > 90:\n",
    "        anomalous_lat_idx.append(index)\n",
    "\n",
    "print(\"Índices Anómalos de Latitud:\", anomalous_lat_idx)"
   ]
  },
  {
   "cell_type": "code",
   "execution_count": 22,
   "metadata": {},
   "outputs": [
    {
     "name": "stdout",
     "output_type": "stream",
     "text": [
      "Índices Anómalos de Longitud: []\n"
     ]
    }
   ],
   "source": [
    "anomalous_lon_idx = []\n",
    "for index, lon in enumerate(anomalous_lon):\n",
    "    if lat < -90 or lat > 90:\n",
    "        anomalous_lon_idx.append(index)\n",
    "\n",
    "print(\"Índices Anómalos de Longitud:\", anomalous_lon_idx)"
   ]
  },
  {
   "attachments": {},
   "cell_type": "markdown",
   "metadata": {},
   "source": [
    "## Outliers de Latitude y Longitude"
   ]
  },
  {
   "cell_type": "code",
   "execution_count": 23,
   "metadata": {},
   "outputs": [],
   "source": [
    "# sns.boxplot(df['Longitude'])"
   ]
  },
  {
   "cell_type": "code",
   "execution_count": 24,
   "metadata": {},
   "outputs": [],
   "source": [
    "# sns.boxplot(df['Latitude'])"
   ]
  },
  {
   "attachments": {},
   "cell_type": "markdown",
   "metadata": {},
   "source": [
    "## Valores faltantes"
   ]
  },
  {
   "cell_type": "code",
   "execution_count": 25,
   "metadata": {},
   "outputs": [
    {
     "name": "stdout",
     "output_type": "stream",
     "text": [
      "<class 'pandas.core.frame.DataFrame'>\n",
      "Int64Index: 0 entries\n",
      "Data columns (total 26 columns):\n",
      " #   Column             Non-Null Count  Dtype \n",
      "---  ------             --------------  ----- \n",
      " 0   Dis No             0 non-null      object\n",
      " 1   Year               0 non-null      int64 \n",
      " 2   Seq                0 non-null      int64 \n",
      " 3   Disaster Subgroup  0 non-null      object\n",
      " 4   Disaster Type      0 non-null      object\n",
      " 5   Disaster Subtype   0 non-null      object\n",
      " 6   Country            0 non-null      object\n",
      " 7   ISO                0 non-null      object\n",
      " 8   Region             0 non-null      object\n",
      " 9   Continent          0 non-null      object\n",
      " 10  Location           0 non-null      object\n",
      " 11  Origin             0 non-null      object\n",
      " 12  Associated Dis     0 non-null      object\n",
      " 13  Dis Mag Value      0 non-null      int64 \n",
      " 14  Dis Mag Scale      0 non-null      object\n",
      " 15  Latitude           0 non-null      object\n",
      " 16  Longitude          0 non-null      object\n",
      " 17  Start Year         0 non-null      int64 \n",
      " 18  Start Month        0 non-null      int64 \n",
      " 19  Start Day          0 non-null      int64 \n",
      " 20  End Year           0 non-null      int64 \n",
      " 21  End Month          0 non-null      int64 \n",
      " 22  End Day            0 non-null      int64 \n",
      " 23  Total Deaths       0 non-null      int64 \n",
      " 24  Total Affected     0 non-null      int64 \n",
      " 25  Total Damages Adj  0 non-null      int64 \n",
      "dtypes: int64(12), object(14)\n",
      "memory usage: 0.0+ bytes\n"
     ]
    }
   ],
   "source": [
    "df_earthquake.info()"
   ]
  },
  {
   "cell_type": "code",
   "execution_count": 26,
   "metadata": {},
   "outputs": [
    {
     "data": {
      "text/plain": [
       "Dis No               0.0\n",
       "Year                 0.0\n",
       "Seq                  0.0\n",
       "Disaster Subgroup    0.0\n",
       "Disaster Type        0.0\n",
       "Disaster Subtype     0.0\n",
       "Country              0.0\n",
       "ISO                  0.0\n",
       "Region               0.0\n",
       "Continent            0.0\n",
       "Location             0.0\n",
       "Origin               0.0\n",
       "Associated Dis       0.0\n",
       "Dis Mag Value        0.0\n",
       "Dis Mag Scale        0.0\n",
       "Latitude             0.0\n",
       "Longitude            0.0\n",
       "Start Year           0.0\n",
       "Start Month          0.0\n",
       "Start Day            0.0\n",
       "End Year             0.0\n",
       "End Month            0.0\n",
       "End Day              0.0\n",
       "Total Deaths         0.0\n",
       "Total Affected       0.0\n",
       "Total Damages Adj    0.0\n",
       "dtype: float64"
      ]
     },
     "execution_count": 26,
     "metadata": {},
     "output_type": "execute_result"
    }
   ],
   "source": [
    "df_earthquake.isnull().sum()"
   ]
  },
  {
   "attachments": {},
   "cell_type": "markdown",
   "metadata": {},
   "source": [
    "# Afectados por terremotos"
   ]
  },
  {
   "cell_type": "markdown",
   "metadata": {},
   "source": [
    "### Muertos por Terremotos:\n",
    "\n",
    "7.004.082\n",
    "\n",
    "Siete millones, cuatro mil, ochenta y dos."
   ]
  },
  {
   "cell_type": "code",
   "execution_count": 27,
   "metadata": {},
   "outputs": [],
   "source": [
    "df_earthquake_deaths = df_earthquake['Total Deaths'].sum()"
   ]
  },
  {
   "cell_type": "markdown",
   "metadata": {},
   "source": [
    "### Afectados por terremotos:\n",
    "3.968.190.458\n",
    "\n",
    "Tres billones, novescientos sesenta y ocho millones, ciento noventa mil cuatrocientos cincuenta y ocho.\n",
    "\n",
    "o\n",
    "\n",
    "Tres mil novecientos sesenta y ocho millones, ciento noventa mil, cuatrocientos cincuenta y ocho."
   ]
  },
  {
   "cell_type": "code",
   "execution_count": 28,
   "metadata": {},
   "outputs": [],
   "source": [
    "df_earthquake_affected = df_earthquake['Total Affected'].sum()"
   ]
  },
  {
   "cell_type": "markdown",
   "metadata": {},
   "source": [
    "## Daños por terremotos"
   ]
  },
  {
   "cell_type": "code",
   "execution_count": 29,
   "metadata": {},
   "outputs": [],
   "source": [
    "df_earthquake_damages = df_earthquake['Total Damages Adj'].sum()"
   ]
  },
  {
   "attachments": {},
   "cell_type": "markdown",
   "metadata": {},
   "source": [
    "## Análisis geográfico de muertos y afectados"
   ]
  },
  {
   "cell_type": "markdown",
   "metadata": {},
   "source": [
    "### Muertos y afectados por continente"
   ]
  },
  {
   "cell_type": "code",
   "execution_count": 30,
   "metadata": {},
   "outputs": [
    {
     "data": {
      "text/plain": [
       "Series([], Name: Continent, dtype: int64)"
      ]
     },
     "execution_count": 30,
     "metadata": {},
     "output_type": "execute_result"
    }
   ],
   "source": [
    "df_earthquake_continent_counts = df_earthquake['Continent'].value_counts()\n",
    "df_earthquake_continent_counts"
   ]
  },
  {
   "cell_type": "code",
   "execution_count": 31,
   "metadata": {},
   "outputs": [
    {
     "name": "stdout",
     "output_type": "stream",
     "text": [
      "Number of missing values in 'Total Deaths': 0\n"
     ]
    }
   ],
   "source": [
    "# Check for missing values in 'Total Deaths'\n",
    "missing_values = df_earthquake['Total Deaths'].isnull().sum()\n",
    "print(\"Number of missing values in 'Total Deaths':\", missing_values)\n",
    "\n",
    "# Drop rows with missing values in 'Total Deaths'\n",
    "df_earthquake_cleaned = df_earthquake.dropna(subset=['Total Deaths'])\n",
    "\n"
   ]
  },
  {
   "cell_type": "code",
   "execution_count": 32,
   "metadata": {},
   "outputs": [
    {
     "name": "stdout",
     "output_type": "stream",
     "text": [
      "Unique values in 'Total Deaths' column: []\n"
     ]
    }
   ],
   "source": [
    "# Check unique values in 'Total Deaths' column\n",
    "unique_values = df_earthquake['Total Deaths'].unique()\n",
    "print(\"Unique values in 'Total Deaths' column:\", unique_values)\n"
   ]
  },
  {
   "cell_type": "code",
   "execution_count": 33,
   "metadata": {},
   "outputs": [
    {
     "ename": "ValueError",
     "evalue": "min() arg is an empty sequence",
     "output_type": "error",
     "traceback": [
      "\u001b[1;31m---------------------------------------------------------------------------\u001b[0m",
      "\u001b[1;31mValueError\u001b[0m                                Traceback (most recent call last)",
      "Cell \u001b[1;32mIn[33], line 3\u001b[0m\n\u001b[0;32m      1\u001b[0m \u001b[39m# Plot the bar chart\u001b[39;00m\n\u001b[0;32m      2\u001b[0m plt\u001b[39m.\u001b[39mfigure(figsize\u001b[39m=\u001b[39m(\u001b[39m10\u001b[39m, \u001b[39m6\u001b[39m))\n\u001b[1;32m----> 3\u001b[0m sns\u001b[39m.\u001b[39;49mbarplot(data\u001b[39m=\u001b[39;49mdf_earthquake, x\u001b[39m=\u001b[39;49m\u001b[39m'\u001b[39;49m\u001b[39mContinent\u001b[39;49m\u001b[39m'\u001b[39;49m, y\u001b[39m=\u001b[39;49m\u001b[39m'\u001b[39;49m\u001b[39mTotal Deaths\u001b[39;49m\u001b[39m'\u001b[39;49m)\n\u001b[0;32m      4\u001b[0m plt\u001b[39m.\u001b[39mtitle(\u001b[39m'\u001b[39m\u001b[39mComparativa de Muertes Totales en Terremotos por Continente\u001b[39m\u001b[39m'\u001b[39m)\n\u001b[0;32m      5\u001b[0m plt\u001b[39m.\u001b[39mxlabel(\u001b[39m'\u001b[39m\u001b[39mTerremotos por Continente\u001b[39m\u001b[39m'\u001b[39m)\n",
      "File \u001b[1;32mc:\\Users\\AleEng\\AppData\\Local\\Programs\\Python\\Python310\\lib\\site-packages\\seaborn\\categorical.py:2755\u001b[0m, in \u001b[0;36mbarplot\u001b[1;34m(data, x, y, hue, order, hue_order, estimator, errorbar, n_boot, units, seed, orient, color, palette, saturation, width, errcolor, errwidth, capsize, dodge, ci, ax, **kwargs)\u001b[0m\n\u001b[0;32m   2752\u001b[0m \u001b[39mif\u001b[39;00m estimator \u001b[39mis\u001b[39;00m \u001b[39mlen\u001b[39m:\n\u001b[0;32m   2753\u001b[0m     estimator \u001b[39m=\u001b[39m \u001b[39m\"\u001b[39m\u001b[39msize\u001b[39m\u001b[39m\"\u001b[39m\n\u001b[1;32m-> 2755\u001b[0m plotter \u001b[39m=\u001b[39m _BarPlotter(x, y, hue, data, order, hue_order,\n\u001b[0;32m   2756\u001b[0m                       estimator, errorbar, n_boot, units, seed,\n\u001b[0;32m   2757\u001b[0m                       orient, color, palette, saturation,\n\u001b[0;32m   2758\u001b[0m                       width, errcolor, errwidth, capsize, dodge)\n\u001b[0;32m   2760\u001b[0m \u001b[39mif\u001b[39;00m ax \u001b[39mis\u001b[39;00m \u001b[39mNone\u001b[39;00m:\n\u001b[0;32m   2761\u001b[0m     ax \u001b[39m=\u001b[39m plt\u001b[39m.\u001b[39mgca()\n",
      "File \u001b[1;32mc:\\Users\\AleEng\\AppData\\Local\\Programs\\Python\\Python310\\lib\\site-packages\\seaborn\\categorical.py:1532\u001b[0m, in \u001b[0;36m_BarPlotter.__init__\u001b[1;34m(self, x, y, hue, data, order, hue_order, estimator, errorbar, n_boot, units, seed, orient, color, palette, saturation, width, errcolor, errwidth, capsize, dodge)\u001b[0m\n\u001b[0;32m   1529\u001b[0m \u001b[39m\u001b[39m\u001b[39m\"\"\"Initialize the plotter.\"\"\"\u001b[39;00m\n\u001b[0;32m   1530\u001b[0m \u001b[39mself\u001b[39m\u001b[39m.\u001b[39mestablish_variables(x, y, hue, data, orient,\n\u001b[0;32m   1531\u001b[0m                          order, hue_order, units)\n\u001b[1;32m-> 1532\u001b[0m \u001b[39mself\u001b[39;49m\u001b[39m.\u001b[39;49mestablish_colors(color, palette, saturation)\n\u001b[0;32m   1533\u001b[0m \u001b[39mself\u001b[39m\u001b[39m.\u001b[39mestimate_statistic(estimator, errorbar, n_boot, seed)\n\u001b[0;32m   1535\u001b[0m \u001b[39mself\u001b[39m\u001b[39m.\u001b[39mdodge \u001b[39m=\u001b[39m dodge\n",
      "File \u001b[1;32mc:\\Users\\AleEng\\AppData\\Local\\Programs\\Python\\Python310\\lib\\site-packages\\seaborn\\categorical.py:707\u001b[0m, in \u001b[0;36m_CategoricalPlotter.establish_colors\u001b[1;34m(self, color, palette, saturation)\u001b[0m\n\u001b[0;32m    705\u001b[0m \u001b[39m# Determine the gray color to use for the lines framing the plot\u001b[39;00m\n\u001b[0;32m    706\u001b[0m light_vals \u001b[39m=\u001b[39m [rgb_to_hls(\u001b[39m*\u001b[39mc)[\u001b[39m1\u001b[39m] \u001b[39mfor\u001b[39;00m c \u001b[39min\u001b[39;00m rgb_colors]\n\u001b[1;32m--> 707\u001b[0m lum \u001b[39m=\u001b[39m \u001b[39mmin\u001b[39;49m(light_vals) \u001b[39m*\u001b[39m \u001b[39m.6\u001b[39m\n\u001b[0;32m    708\u001b[0m gray \u001b[39m=\u001b[39m mpl\u001b[39m.\u001b[39mcolors\u001b[39m.\u001b[39mrgb2hex((lum, lum, lum))\n\u001b[0;32m    710\u001b[0m \u001b[39m# Assign object attributes\u001b[39;00m\n",
      "\u001b[1;31mValueError\u001b[0m: min() arg is an empty sequence"
     ]
    },
    {
     "data": {
      "text/plain": [
       "<Figure size 1000x600 with 0 Axes>"
      ]
     },
     "metadata": {},
     "output_type": "display_data"
    }
   ],
   "source": [
    "# Plot the bar chart\n",
    "plt.figure(figsize=(10, 6))\n",
    "sns.barplot(data=df_earthquake, x='Continent', y='Total Deaths')\n",
    "plt.title('Comparativa de Muertes Totales en Terremotos por Continente')\n",
    "plt.xlabel('Terremotos por Continente')\n",
    "plt.ylabel('Muertes totales')\n",
    "plt.show()\n"
   ]
  },
  {
   "cell_type": "code",
   "execution_count": null,
   "metadata": {},
   "outputs": [],
   "source": [
    "plt.figure(figsize=(10, 6))\n",
    "sns.barplot(data=df_earthquake, x='Continent', y='Total Affected')\n",
    "plt.title('Comparativa de Total de Afectados en Terremotos por Continente')\n",
    "plt.xlabel('Terremotos por Continente')\n",
    "plt.ylabel('Muertes totales')\n",
    "plt.show()"
   ]
  },
  {
   "cell_type": "markdown",
   "metadata": {},
   "source": [
    "Asia es el continente con más muertos y afectados respecto a otros."
   ]
  },
  {
   "cell_type": "markdown",
   "metadata": {},
   "source": [
    "### Muertos y afectados por región"
   ]
  },
  {
   "cell_type": "code",
   "execution_count": null,
   "metadata": {},
   "outputs": [
    {
     "data": {
      "text/plain": [
       "Series([], Name: Region, dtype: int64)"
      ]
     },
     "execution_count": 84,
     "metadata": {},
     "output_type": "execute_result"
    }
   ],
   "source": [
    "df_earthquake_region_counts = df_earthquake['Region'].value_counts()\n",
    "df_earthquake_region_counts"
   ]
  },
  {
   "cell_type": "code",
   "execution_count": null,
   "metadata": {},
   "outputs": [
    {
     "ename": "ValueError",
     "evalue": "min() arg is an empty sequence",
     "output_type": "error",
     "traceback": [
      "\u001b[1;31m---------------------------------------------------------------------------\u001b[0m",
      "\u001b[1;31mValueError\u001b[0m                                Traceback (most recent call last)",
      "Cell \u001b[1;32mIn[85], line 2\u001b[0m\n\u001b[0;32m      1\u001b[0m plt\u001b[39m.\u001b[39mfigure(figsize\u001b[39m=\u001b[39m(\u001b[39m10\u001b[39m, \u001b[39m6\u001b[39m))\n\u001b[1;32m----> 2\u001b[0m sns\u001b[39m.\u001b[39;49mbarplot(data\u001b[39m=\u001b[39;49mdf_earthquake, x\u001b[39m=\u001b[39;49m\u001b[39m'\u001b[39;49m\u001b[39mRegion\u001b[39;49m\u001b[39m'\u001b[39;49m, y\u001b[39m=\u001b[39;49m\u001b[39m'\u001b[39;49m\u001b[39mTotal Deaths\u001b[39;49m\u001b[39m'\u001b[39;49m)\n\u001b[0;32m      3\u001b[0m plt\u001b[39m.\u001b[39mtitle(\u001b[39m'\u001b[39m\u001b[39mComparativa de Muertes Totales en Terremotos por Región\u001b[39m\u001b[39m'\u001b[39m)\n\u001b[0;32m      4\u001b[0m plt\u001b[39m.\u001b[39mxlabel(\u001b[39m'\u001b[39m\u001b[39mTerremotos por Continente\u001b[39m\u001b[39m'\u001b[39m)\n",
      "File \u001b[1;32mc:\\Users\\AleEng\\AppData\\Local\\Programs\\Python\\Python310\\lib\\site-packages\\seaborn\\categorical.py:2755\u001b[0m, in \u001b[0;36mbarplot\u001b[1;34m(data, x, y, hue, order, hue_order, estimator, errorbar, n_boot, units, seed, orient, color, palette, saturation, width, errcolor, errwidth, capsize, dodge, ci, ax, **kwargs)\u001b[0m\n\u001b[0;32m   2752\u001b[0m \u001b[39mif\u001b[39;00m estimator \u001b[39mis\u001b[39;00m \u001b[39mlen\u001b[39m:\n\u001b[0;32m   2753\u001b[0m     estimator \u001b[39m=\u001b[39m \u001b[39m\"\u001b[39m\u001b[39msize\u001b[39m\u001b[39m\"\u001b[39m\n\u001b[1;32m-> 2755\u001b[0m plotter \u001b[39m=\u001b[39m _BarPlotter(x, y, hue, data, order, hue_order,\n\u001b[0;32m   2756\u001b[0m                       estimator, errorbar, n_boot, units, seed,\n\u001b[0;32m   2757\u001b[0m                       orient, color, palette, saturation,\n\u001b[0;32m   2758\u001b[0m                       width, errcolor, errwidth, capsize, dodge)\n\u001b[0;32m   2760\u001b[0m \u001b[39mif\u001b[39;00m ax \u001b[39mis\u001b[39;00m \u001b[39mNone\u001b[39;00m:\n\u001b[0;32m   2761\u001b[0m     ax \u001b[39m=\u001b[39m plt\u001b[39m.\u001b[39mgca()\n",
      "File \u001b[1;32mc:\\Users\\AleEng\\AppData\\Local\\Programs\\Python\\Python310\\lib\\site-packages\\seaborn\\categorical.py:1532\u001b[0m, in \u001b[0;36m_BarPlotter.__init__\u001b[1;34m(self, x, y, hue, data, order, hue_order, estimator, errorbar, n_boot, units, seed, orient, color, palette, saturation, width, errcolor, errwidth, capsize, dodge)\u001b[0m\n\u001b[0;32m   1529\u001b[0m \u001b[39m\u001b[39m\u001b[39m\"\"\"Initialize the plotter.\"\"\"\u001b[39;00m\n\u001b[0;32m   1530\u001b[0m \u001b[39mself\u001b[39m\u001b[39m.\u001b[39mestablish_variables(x, y, hue, data, orient,\n\u001b[0;32m   1531\u001b[0m                          order, hue_order, units)\n\u001b[1;32m-> 1532\u001b[0m \u001b[39mself\u001b[39;49m\u001b[39m.\u001b[39;49mestablish_colors(color, palette, saturation)\n\u001b[0;32m   1533\u001b[0m \u001b[39mself\u001b[39m\u001b[39m.\u001b[39mestimate_statistic(estimator, errorbar, n_boot, seed)\n\u001b[0;32m   1535\u001b[0m \u001b[39mself\u001b[39m\u001b[39m.\u001b[39mdodge \u001b[39m=\u001b[39m dodge\n",
      "File \u001b[1;32mc:\\Users\\AleEng\\AppData\\Local\\Programs\\Python\\Python310\\lib\\site-packages\\seaborn\\categorical.py:707\u001b[0m, in \u001b[0;36m_CategoricalPlotter.establish_colors\u001b[1;34m(self, color, palette, saturation)\u001b[0m\n\u001b[0;32m    705\u001b[0m \u001b[39m# Determine the gray color to use for the lines framing the plot\u001b[39;00m\n\u001b[0;32m    706\u001b[0m light_vals \u001b[39m=\u001b[39m [rgb_to_hls(\u001b[39m*\u001b[39mc)[\u001b[39m1\u001b[39m] \u001b[39mfor\u001b[39;00m c \u001b[39min\u001b[39;00m rgb_colors]\n\u001b[1;32m--> 707\u001b[0m lum \u001b[39m=\u001b[39m \u001b[39mmin\u001b[39;49m(light_vals) \u001b[39m*\u001b[39m \u001b[39m.6\u001b[39m\n\u001b[0;32m    708\u001b[0m gray \u001b[39m=\u001b[39m mpl\u001b[39m.\u001b[39mcolors\u001b[39m.\u001b[39mrgb2hex((lum, lum, lum))\n\u001b[0;32m    710\u001b[0m \u001b[39m# Assign object attributes\u001b[39;00m\n",
      "\u001b[1;31mValueError\u001b[0m: min() arg is an empty sequence"
     ]
    },
    {
     "data": {
      "text/plain": [
       "<Figure size 1000x600 with 0 Axes>"
      ]
     },
     "metadata": {},
     "output_type": "display_data"
    }
   ],
   "source": [
    "plt.figure(figsize=(10, 6))\n",
    "sns.barplot(data=df_earthquake, x='Region', y='Total Deaths')\n",
    "plt.title('Comparativa de Muertes Totales en Terremotos por Región')\n",
    "plt.xlabel('Terremotos por Continente')\n",
    "plt.ylabel('Muertes totales')\n",
    "plt.xticks(rotation=75)\n",
    "plt.show()"
   ]
  },
  {
   "cell_type": "markdown",
   "metadata": {},
   "source": [
    "El Este Asiático supera por creces el número de muertes por terremotos."
   ]
  },
  {
   "cell_type": "code",
   "execution_count": null,
   "metadata": {},
   "outputs": [],
   "source": [
    "plt.figure(figsize=(10, 6))\n",
    "sns.barplot(data=df_earthquake, x='Region', y='Total Affected')\n",
    "plt.title('Comparativa de Total de Afectados en Terremotos por Región')\n",
    "plt.xlabel('Terremotos por Región')\n",
    "plt.ylabel('Afectados totales')\n",
    "plt.xticks(rotation=75)\n",
    "plt.show()"
   ]
  },
  {
   "cell_type": "markdown",
   "metadata": {},
   "source": [
    "El Este y Sur de Asia tienen altos niveles de personas afectadas por terremotos, seguidos de lejos por el Sudeste Asiático."
   ]
  },
  {
   "cell_type": "markdown",
   "metadata": {},
   "source": [
    "### Muertos y afectados por país"
   ]
  },
  {
   "cell_type": "code",
   "execution_count": null,
   "metadata": {},
   "outputs": [],
   "source": [
    "df_earthquake_country_counts = df_earthquake['Country'].value_counts()\n",
    "df_earthquake_country_counts"
   ]
  },
  {
   "cell_type": "markdown",
   "metadata": {},
   "source": [
    "#### Total de Muertes en Países Agrupados por Regiones"
   ]
  },
  {
   "cell_type": "code",
   "execution_count": null,
   "metadata": {},
   "outputs": [],
   "source": [
    "# Agrupar por región y calcular la suma total de muertes por cada país\n",
    "region_country_deaths = df_earthquake.groupby(['Region', 'Country'])['Total Deaths'].sum().reset_index()\n",
    "\n",
    "# Ordenar por Region y Total Deaths\n",
    "region_country_deaths = region_country_deaths.sort_values(['Region', 'Total Deaths'], ascending=[True, False])\n",
    "\n",
    "# Unique de regiones\n",
    "regions = region_country_deaths['Region'].unique()\n",
    "\n",
    "# Crear barplot separado por cada región\n",
    "for region in regions:\n",
    "    plt.figure(figsize=(10, 6))\n",
    "    region_data = region_country_deaths[region_country_deaths['Region'] == region]\n",
    "    sns.barplot(data=region_data, x='Country', y='Total Deaths')\n",
    "    plt.title(f'Muertes Totales en Terremotos - {region}')\n",
    "    plt.xlabel('País')\n",
    "    plt.ylabel('Muertes Totales')\n",
    "    plt.xticks(rotation=75)\n",
    "    plt.tight_layout()\n",
    "    plt.show()"
   ]
  },
  {
   "cell_type": "markdown",
   "metadata": {},
   "source": [
    "#### Total de Afectados en Países Agrupados por Regiones"
   ]
  },
  {
   "cell_type": "code",
   "execution_count": null,
   "metadata": {},
   "outputs": [],
   "source": [
    "# Agrupar por región y calcular la suma total de afectados por cada país\n",
    "region_country_affected = df_earthquake.groupby(['Region', 'Country'])['Total Affected'].sum().reset_index()\n",
    "\n",
    "# Ordenar por Region y Total Deaths\n",
    "region_country_affected = region_country_affected.sort_values(['Region', 'Total Affected'], ascending=[True, False])\n",
    "\n",
    "# Unique de regiones\n",
    "regions = region_country_affected['Region'].unique()\n",
    "\n",
    "# Crear barplot separado por cada región\n",
    "for region in regions:\n",
    "    plt.figure(figsize=(10, 6))\n",
    "    region_data = region_country_affected[region_country_affected['Region'] == region]\n",
    "    sns.barplot(data=region_data, x='Country', y='Total Affected')\n",
    "    plt.title(f'Afectados Totales en Terremotos - {region}')\n",
    "    plt.xlabel('País')\n",
    "    plt.ylabel('Afectados Totales')\n",
    "    plt.xticks(rotation=75)\n",
    "    plt.tight_layout()\n",
    "    plt.show()"
   ]
  },
  {
   "cell_type": "markdown",
   "metadata": {},
   "source": [
    "#### Total de Afectados en Países Agrupados por Regiones"
   ]
  },
  {
   "cell_type": "code",
   "execution_count": null,
   "metadata": {},
   "outputs": [],
   "source": [
    "# Agrupar por región y calcular la suma total de daños por cada país\n",
    "region_country_damages = df_earthquake.groupby(['Region', 'Country'])['Total Damages Adj'].sum().reset_index()\n",
    "\n",
    "# Ordenar por Region y Total Damages Adj\n",
    "region_country_damages = region_country_damages.sort_values(['Region', 'Total Damages Adj'], ascending=[True, False])\n",
    "\n",
    "# Unique de regiones\n",
    "regions = region_country_damages['Region'].unique()\n",
    "\n",
    "# Crear barplot separado por cada región\n",
    "for region in regions:\n",
    "    plt.figure(figsize=(10, 6))\n",
    "    region_data = region_country_damages[region_country_damages['Region'] == region]\n",
    "    sns.barplot(data=region_data, x='Country', y='Total Damages Adj')\n",
    "    plt.title(f'Daños Totales en Terremotos - {region}')\n",
    "    plt.xlabel('País')\n",
    "    plt.ylabel('Daños Totales')\n",
    "    plt.xticks(rotation=75)\n",
    "    plt.tight_layout()\n",
    "    plt.show()"
   ]
  },
  {
   "cell_type": "code",
   "execution_count": null,
   "metadata": {},
   "outputs": [],
   "source": [
    "plt.figure(figsize=(10, 6))\n",
    "sns.barplot(data=df_earthquake, x='Country', y='Total Affected')\n",
    "plt.title('Comparativa de Total de Afectados en Terremotos por País')\n",
    "plt.xlabel('Terremotos por País')\n",
    "plt.ylabel('Afectados totales')\n",
    "plt.xticks(rotation=75)\n",
    "plt.show()"
   ]
  },
  {
   "cell_type": "markdown",
   "metadata": {},
   "source": [
    "## Análisis de región y origen de desastre"
   ]
  },
  {
   "cell_type": "markdown",
   "metadata": {},
   "source": [
    "### Total de muertes por origen en las distintas regiones"
   ]
  },
  {
   "cell_type": "code",
   "execution_count": null,
   "metadata": {},
   "outputs": [],
   "source": [
    "# Agrupar por región y calcular la suma total de afectados por cada origen\n",
    "region_origin_deaths = df_earthquake.groupby(['Region', 'Origin'])['Total Affected'].sum().reset_index()\n",
    "\n",
    "# Ordenar por Región, Origen y Total Deaths\n",
    "region_origin_deaths = region_origin_deaths.sort_values(['Region', 'Total Affected'], ascending=[True, False])\n",
    "\n",
    "# Unique de regiones\n",
    "regions = region_origin_deaths['Region'].unique()\n",
    "\n",
    "# Crear barplot separado por cada región\n",
    "for region in regions:\n",
    "    plt.figure(figsize=(10, 6))\n",
    "    region_data = region_origin_deaths[region_origin_affected['Region'] == region]\n",
    "    sns.barplot(data=region_data, x='Origin', y='Total Affected')\n",
    "    plt.title(f'Muertes en terremotos según origen- {region}')\n",
    "    plt.xlabel('Origen')\n",
    "    plt.ylabel('Muertes Totales')\n",
    "    plt.xticks(rotation=75)\n",
    "    plt.show()"
   ]
  },
  {
   "cell_type": "markdown",
   "metadata": {},
   "source": [
    "### Total de afectados por origen en las distintas regiones"
   ]
  },
  {
   "cell_type": "code",
   "execution_count": null,
   "metadata": {},
   "outputs": [],
   "source": [
    "# Agrupar por región y calcular la suma total de afectados por cada origen\n",
    "region_origin_affected = df_earthquake.groupby(['Region', 'Origin'])['Total Affected'].sum().reset_index()\n",
    "\n",
    "# Ordenar por Región, Origen y Total Deaths\n",
    "region_origin_affected = region_origin_affected.sort_values(['Region', 'Total Affected'], ascending=[True, False])\n",
    "\n",
    "# Unique de regiones\n",
    "regions = region_origin_affected['Region'].unique()\n",
    "\n",
    "# Crear barplot separado por cada región\n",
    "for region in regions:\n",
    "    plt.figure(figsize=(10, 6))\n",
    "    region_data = region_origin_affected[region_origin_affected['Region'] == region]\n",
    "    sns.barplot(data=region_data, x='Origin', y='Total Affected')\n",
    "    plt.title(f'Afectados Totales en Terremotos - {region}')\n",
    "    plt.xlabel('Origen')\n",
    "    plt.ylabel('Afectados Totales')\n",
    "    plt.xticks(rotation=75)\n",
    "    plt.show()"
   ]
  },
  {
   "cell_type": "markdown",
   "metadata": {},
   "source": [
    "### Total de daños por origen en las distintas regiones"
   ]
  },
  {
   "cell_type": "code",
   "execution_count": null,
   "metadata": {},
   "outputs": [],
   "source": [
    "# Agrupar por región y calcular la suma total de daños por cada origen\n",
    "region_origin_damages = df_earthquake.groupby(['Region', 'Origin'])['Total Affected'].sum().reset_index()\n",
    "\n",
    "# Ordenar por Región, Origen y Total Damages\n",
    "region_origin_damages = region_origin_damages.sort_values(['Region', 'Total Affected'], ascending=[True, False])\n",
    "\n",
    "# Unique de regiones\n",
    "regions = region_origin_damages['Region'].unique()\n",
    "\n",
    "# Crear barplot separado por cada región\n",
    "for region in regions:\n",
    "    plt.figure(figsize=(10, 6))\n",
    "    region_data = region_origin_damages[region_origin_damages['Region'] == region]\n",
    "    sns.barplot(data=region_data, x='Origin', y='Total Affected')\n",
    "    plt.title(f'Daños por Origen en Terremotos - {region}')\n",
    "    plt.xlabel('Origen')\n",
    "    plt.ylabel('Daños Totales')\n",
    "    plt.xticks(rotation=75)\n",
    "    plt.show()"
   ]
  },
  {
   "cell_type": "markdown",
   "metadata": {},
   "source": [
    "## Análisis de región y desastre asociado"
   ]
  },
  {
   "cell_type": "code",
   "execution_count": null,
   "metadata": {},
   "outputs": [],
   "source": [
    "# Agrupar por región y calcular la suma total de muertes por cada desastre asociado\n",
    "region_assodis_deaths = df_earthquake.groupby(['Region', 'Associated Dis'])['Total Deaths'].sum().reset_index()\n",
    "\n",
    "# Ordenar por Región, Associated Disaster y Total Deaths\n",
    "region_assodis_deaths = region_assodis_deaths.sort_values(['Region', 'Total Affected'], ascending=[True, False])\n",
    "\n",
    "# Unique de regiones\n",
    "regions = region_assodis_deaths['Region'].unique()\n",
    "\n",
    "# Crear barplot separado por cada región\n",
    "for region in regions:\n",
    "    plt.figure(figsize=(10, 6))\n",
    "    region_data = region_assodis_deaths[region_assodis_deaths['Region'] == region]\n",
    "    sns.barplot(data=region_data, x='Associated Dis', y='Total Deaths')\n",
    "    plt.title(f'Muertes y Desastre Asociado en Terremotos - {region}')\n",
    "    plt.xlabel('Desastre Asociado')\n",
    "    plt.ylabel('Muertes Totales')\n",
    "    plt.xticks(rotation=75)\n",
    "    plt.show()"
   ]
  },
  {
   "cell_type": "code",
   "execution_count": null,
   "metadata": {},
   "outputs": [],
   "source": [
    "# Agrupar por región y calcular la suma total de afectados por cada desastre asociado\n",
    "region_assodis_affected = df_earthquake.groupby(['Region', 'Associated Dis'])['Total Affected'].sum().reset_index()\n",
    "\n",
    "# Ordenar por Región, Associated Disaster y Total Affected\n",
    "region_assodis_affected = region_assodis_affected.sort_values(['Region', 'Total Affected'], ascending=[True, False])\n",
    "\n",
    "# Unique de regiones\n",
    "regions = region_assodis_affected['Region'].unique()\n",
    "\n",
    "# Crear barplot separado por cada región\n",
    "for region in regions:\n",
    "    plt.figure(figsize=(10, 6))\n",
    "    region_data = region_assodis_affected[region_assodis_affected['Region'] == region]\n",
    "    sns.barplot(data=region_data, x='Associated Dis', y='Total Affected')\n",
    "    plt.title(f'Afectados y Desastre Asociado en Terremotos - {region}')\n",
    "    plt.xlabel('Desastre Asociado')\n",
    "    plt.ylabel('Afectados Totales')\n",
    "    plt.xticks(rotation=75)\n",
    "    plt.show()"
   ]
  },
  {
   "cell_type": "code",
   "execution_count": null,
   "metadata": {},
   "outputs": [],
   "source": [
    "# Agrupar por región y calcular la suma total de daños por cada desastre asociado\n",
    "region_assodis_damages = df_earthquake.groupby(['Region', 'Associated Dis'])['Total Damages Adj'].sum().reset_index()\n",
    "\n",
    "# Ordenar por Región, Associated Disaster y Total Damages\n",
    "region_assodis_damages = region_assodis_damages.sort_values(['Region', 'Total Damages Adj'], ascending=[True, False])\n",
    "\n",
    "# Unique de regiones\n",
    "regions = region_assodis_damages['Region'].unique()\n",
    "\n",
    "# Crear barplot separado por cada región\n",
    "for region in regions:\n",
    "    plt.figure(figsize=(10, 6))\n",
    "    region_data = region_assodis_damages[region_assodis_damages['Region'] == region]\n",
    "    sns.barplot(data=region_data, x='Associated Dis', y='Total Damages Adj')\n",
    "    plt.title(f'Daños y Desastre Asociado en Terremotos - {region}')\n",
    "    plt.xlabel('Desastre Asociado')\n",
    "    plt.ylabel('Daños Totales')\n",
    "    plt.xticks(rotation=75)\n",
    "    plt.show()"
   ]
  },
  {
   "cell_type": "markdown",
   "metadata": {},
   "source": [
    "### DataFrames de Muertes, Afectados y Daños por Continente, Región y Países"
   ]
  },
  {
   "cell_type": "code",
   "execution_count": null,
   "metadata": {},
   "outputs": [],
   "source": [
    "deaths_by_continent = df_earthquake.groupby('Continent')[['Total Deaths', 'Total Affected', 'Total Damages Adj']].sum().reset_index()\n",
    "# deaths_by_continent['Total Affected'] = deaths_by_continent['Total Affected'].astype(int)  # Convertir a int\n",
    "deaths_by_continent"
   ]
  },
  {
   "cell_type": "code",
   "execution_count": null,
   "metadata": {},
   "outputs": [],
   "source": [
    "deaths_by_region = df_earthquake.groupby('Region')['Total Deaths', 'Total Affected', 'Total Damages Adj'].sum().reset_index()\n",
    "deaths_by_region"
   ]
  },
  {
   "cell_type": "code",
   "execution_count": null,
   "metadata": {},
   "outputs": [],
   "source": [
    "total_deaths_by_country = df_earthquake.groupby('Country')['Total Deaths', 'Total Affected', 'Total Damages Adj'].sum().reset_index()\n",
    "total_deaths_by_country"
   ]
  },
  {
   "cell_type": "code",
   "execution_count": null,
   "metadata": {},
   "outputs": [],
   "source": [
    "deaths_by_country = df_earthquake.groupby('Country')['Total Deaths'].value_counts()\n",
    "deaths_by_country"
   ]
  },
  {
   "cell_type": "code",
   "execution_count": null,
   "metadata": {},
   "outputs": [],
   "source": [
    "affected_by_country = df_earthquake.groupby('Country')['Total Affected'].value_counts()\n",
    "affected_by_country"
   ]
  },
  {
   "cell_type": "markdown",
   "metadata": {},
   "source": [
    "# Visualizaciones"
   ]
  },
  {
   "cell_type": "code",
   "execution_count": null,
   "metadata": {},
   "outputs": [],
   "source": [
    "df_earthquake.columns"
   ]
  },
  {
   "cell_type": "markdown",
   "metadata": {},
   "source": [
    "## Heatmaps"
   ]
  },
  {
   "cell_type": "markdown",
   "metadata": {},
   "source": [
    "### Segmentación de correlaciones: por tipo, geográfica y temporal"
   ]
  },
  {
   "cell_type": "code",
   "execution_count": null,
   "metadata": {},
   "outputs": [],
   "source": [
    "df_earthquake_corr_type = df_earthquake[['Disaster Subtype', 'Associated Dis']]\n",
    "df_earthquake_corr_geo = df_earthquake[['Continent', 'Region', 'Country', 'Location', 'Origin']]\n",
    "df_earthquake_corr_temp = df_earthquake[['Start Day', 'End Day', 'Start Month', 'End Month', 'Start Year', 'End Year']]\n",
    "df_earthquake_corr_magn = df_earthquake[['Dis Mag Value', 'Dis Mag Scale']]\n",
    "df_earthquake_corr_geoloc = df_earthquake[['Latitude', 'Longitude']]"
   ]
  },
  {
   "cell_type": "code",
   "execution_count": null,
   "metadata": {},
   "outputs": [],
   "source": [
    "# Plot de heatmap\n",
    "plt.figure(figsize=(12, 8))\n",
    "sns.heatmap(df_earthquake.corr(), annot=True, cmap='Blues', cbar=False)\n",
    "plt.title('Heatmap de correlaciones en df_earthquake')\n",
    "plt.show()"
   ]
  },
  {
   "cell_type": "markdown",
   "metadata": {},
   "source": [
    "### Correlaciones por tipo de desastre"
   ]
  },
  {
   "cell_type": "code",
   "execution_count": null,
   "metadata": {},
   "outputs": [],
   "source": [
    "for column in df_earthquake_corr_type:\n",
    "    crosstab = pd.crosstab(df_earthquake_corr_type[column], columns='count')\n",
    "    plt.figure(figsize=(8, 6))\n",
    "    sns.heatmap(crosstab, annot=True, cmap='Blues', cbar=False)\n",
    "    plt.title(f\"Heatmap de {column}\")\n",
    "    plt.xlabel('')\n",
    "    plt.ylabel('')\n",
    "    plt.show()"
   ]
  },
  {
   "cell_type": "markdown",
   "metadata": {},
   "source": [
    "### Correlaciones geográficas"
   ]
  },
  {
   "cell_type": "code",
   "execution_count": null,
   "metadata": {},
   "outputs": [],
   "source": [
    "for column in df_earthquake_corr_geo:\n",
    "    crosstab = pd.crosstab(df_earthquake_corr_geo[column], columns='count')\n",
    "    plt.figure(figsize=(8, 6))\n",
    "    sns.heatmap(crosstab, annot=True, cmap='Blues', cbar=False)\n",
    "    plt.title(f\"Heatmap de {column}\")\n",
    "    plt.xlabel('')\n",
    "    plt.ylabel('')\n",
    "    plt.show()"
   ]
  },
  {
   "cell_type": "markdown",
   "metadata": {},
   "source": [
    "### Correlaciones temporales"
   ]
  },
  {
   "cell_type": "code",
   "execution_count": null,
   "metadata": {},
   "outputs": [],
   "source": [
    "for column in df_earthquake_corr_temp:\n",
    "    crosstab = pd.crosstab(df_earthquake_corr_temp[column], columns='count')\n",
    "    plt.figure(figsize=(8, 6))\n",
    "    sns.heatmap(crosstab, annot=True, cmap='Blues', cbar=False)\n",
    "    plt.title(f\"Heatmap de {column}\")\n",
    "    plt.xlabel('')\n",
    "    plt.ylabel('')\n",
    "    plt.show()"
   ]
  },
  {
   "cell_type": "code",
   "execution_count": null,
   "metadata": {},
   "outputs": [],
   "source": [
    "origin_stats = df_earthquake.groupby('Origin').agg({\n",
    "    'Disaster Subtype': 'count',  # Total de Terremotos\n",
    "    'Total Deaths': 'sum',\n",
    "    'Total Affected': 'sum'\n",
    "}).reset_index()\n",
    "\n",
    "# Ordenar por Total Deaths\n",
    "origin_stats = origin_stats.sort_values('Total Deaths', ascending=False, inplace=True)\n",
    "origin_stats"
   ]
  },
  {
   "cell_type": "markdown",
   "metadata": {},
   "source": [
    "# Pivot Tables"
   ]
  },
  {
   "cell_type": "markdown",
   "metadata": {},
   "source": [
    "## Profundización de Análisis de Impacto Geográfico con Pivot Tables"
   ]
  },
  {
   "cell_type": "code",
   "execution_count": null,
   "metadata": {},
   "outputs": [],
   "source": [
    "impact_order = ['Total Deaths', 'Total Affected', 'Total Damages Adj']"
   ]
  },
  {
   "cell_type": "markdown",
   "metadata": {},
   "source": [
    "### Impacto por subtipo de desastre"
   ]
  },
  {
   "cell_type": "markdown",
   "metadata": {},
   "source": [
    "#### Por país"
   ]
  },
  {
   "cell_type": "code",
   "execution_count": null,
   "metadata": {},
   "outputs": [],
   "source": [
    "df_earthquake_impact_country = df_earthquake.dropna(subset=['Country', 'Total Deaths', 'Total Affected', 'Total Damages Adj'])\n",
    "df_earthquake_impact_country_pivot = df_earthquake_impact_country.pivot_table(\n",
    "    index='Country',\n",
    "    columns='Disaster Subtype',\n",
    "    values=['Total Deaths', 'Total Affected', 'Total Damages Adj'],\n",
    "    aggfunc='sum',\n",
    "    fill_value=0\n",
    ")\n",
    "df_earthquake_impact_country_pivot"
   ]
  },
  {
   "cell_type": "code",
   "execution_count": null,
   "metadata": {},
   "outputs": [],
   "source": [
    "df_earthquake_impact_country_pivot.plot(kind='bar', stacked=True, figsize=(12, 6))\n",
    "plt.title('Comparativa de Impacto por País')\n",
    "plt.xlabel('País')\n",
    "plt.ylabel('Conteo Total')\n",
    "plt.legend(title='Subtipo de Desastre')\n",
    "plt.xticks(rotation=75)\n",
    "plt.show()\n"
   ]
  },
  {
   "cell_type": "markdown",
   "metadata": {},
   "source": [
    "#### Por Location"
   ]
  },
  {
   "cell_type": "code",
   "execution_count": null,
   "metadata": {},
   "outputs": [],
   "source": [
    "df_earthquake_impact_location = df_earthquake.dropna(subset=['Location', 'Total Deaths', 'Total Affected', 'Total Damages Adj'])\n",
    "df_earthquake_impact_location_pivot = df_earthquake_impact_location.pivot_table(\n",
    "    index='Location',\n",
    "    columns='Disaster Subtype',\n",
    "    values=['Total Deaths', 'Total Affected', 'Total Damages Adj'],\n",
    "    aggfunc='sum',\n",
    "    fill_value=0\n",
    ")\n",
    "df_earthquake_impact_location_pivot"
   ]
  },
  {
   "cell_type": "markdown",
   "metadata": {},
   "source": [
    "#### Por Origin"
   ]
  },
  {
   "cell_type": "code",
   "execution_count": null,
   "metadata": {},
   "outputs": [],
   "source": [
    "df_earthquake_impact_origin = df_earthquake.dropna(subset=['Origin', 'Total Deaths', 'Total Affected', 'Total Damages Adj'])"
   ]
  },
  {
   "cell_type": "code",
   "execution_count": null,
   "metadata": {},
   "outputs": [],
   "source": [
    "df_earthquake_impact_origin_pivot = df_earthquake_impact_origin.pivot_table(\n",
    "    index='Origin',\n",
    "    columns='Disaster Subtype',\n",
    "    values=['Total Deaths', 'Total Affected', 'Total Damages Adj'],\n",
    "    aggfunc='sum',\n",
    "    fill_value=0\n",
    ")\n",
    "df_earthquake_impact_origin_pivot"
   ]
  },
  {
   "cell_type": "code",
   "execution_count": null,
   "metadata": {},
   "outputs": [],
   "source": [
    "df_earthquake_impact_origin_pivot.plot(kind='area', stacked=True)\n",
    "plt.title('Impact of Earthquakes by Origin')\n",
    "plt.xlabel('Origin')\n",
    "plt.ylabel('Total')\n",
    "plt.xticks(rotation=65)\n",
    "plt.show()"
   ]
  },
  {
   "cell_type": "markdown",
   "metadata": {},
   "source": [
    "## Profundización de Análisis de Impacto Temporal con Pivot Tables"
   ]
  },
  {
   "cell_type": "markdown",
   "metadata": {},
   "source": [
    "#### Por Año"
   ]
  },
  {
   "cell_type": "code",
   "execution_count": null,
   "metadata": {},
   "outputs": [],
   "source": [
    "df_earthquake_impact_year = df_earthquake.dropna(subset=['Year', 'Total Deaths', 'Total Affected', 'Total Damages Adj'])\n",
    "df_earthquake_impact_year_pivot = df_earthquake_impact_year.pivot_table(\n",
    "    index='Year',\n",
    "    columns='Disaster Subtype',\n",
    "    values=['Total Deaths', 'Total Affected', 'Total Damages Adj'],\n",
    "    aggfunc='sum',\n",
    "    fill_value=0\n",
    ")\n",
    "\n",
    "df_earthquake_impact_year_pivot"
   ]
  },
  {
   "cell_type": "markdown",
   "metadata": {},
   "source": [
    "#### Impacto de Terremotos por Año en cada Continente"
   ]
  },
  {
   "cell_type": "markdown",
   "metadata": {},
   "source": [
    "##### Muertes por Terremotos por continente al año"
   ]
  },
  {
   "cell_type": "code",
   "execution_count": null,
   "metadata": {},
   "outputs": [],
   "source": [
    "plt.figure(figsize=(12,10))\n",
    "sns.lineplot(data=df_earthquake, x='Start Year', y='Total Deaths', hue='Continent')\n",
    "plt.ticklabel_format(style='plain', axis='y')"
   ]
  },
  {
   "cell_type": "code",
   "execution_count": null,
   "metadata": {},
   "outputs": [],
   "source": [
    "# Quitar filas con valores NaN en 'Start Year', 'Country', y 'Total Deaths'\n",
    "df_earthquakes_impact_filtered = df_earthquake.dropna(subset=['Start Year', 'Country', 'Total Deaths'])\n",
    "\n",
    "# Agrupar los datos filtrados por año y país, y encontrar el conteo máximo de muertes por cada grupo\n",
    "df_earthquakes_impact_grouped_by_year_country = df_earthquakes_impact_filtered.groupby(['Start Year', 'Country'])['Total Deaths'].agg(['max']).reset_index()"
   ]
  },
  {
   "cell_type": "code",
   "execution_count": null,
   "metadata": {},
   "outputs": [],
   "source": [
    "# Encontrar el país correspondiente para el conteo máximo de muertes en cada año de inicio\n",
    "max_earthquakes_death_country_by_year = df_earthquakes_impact_grouped_by_year_country.groupby('Start Year').apply(lambda x: x.loc[x['max'].idxmax()])\n",
    "\n",
    "# Ordenar los resultados por las mayores muertes\n",
    "max_earthquakes_death_country_by_year = max_earthquakes_death_country_by_year.sort_values(by='max', ascending=False)\n",
    "\n",
    "# Mostrar los resultados\n",
    "print(\"Año con más muertes por país:\")\n",
    "print(max_earthquakes_death_country_by_year[['Start Year', 'Country', 'max']])"
   ]
  },
  {
   "cell_type": "code",
   "execution_count": null,
   "metadata": {},
   "outputs": [],
   "source": [
    "# Ordenar por el máximo conteo de muertes en orden descendente\n",
    "max_earthquakes_death_country_by_year = max_earthquakes_death_country_by_year.sort_values('max', ascending=False)\n",
    "\n",
    "# Plot de máximo conteo de muertes por año y país\n",
    "plt.figure(figsize=(12, 6))\n",
    "plt.bar(range(len(max_earthquakes_death_country_by_year)), max_earthquakes_death_country_by_year['max'])\n",
    "plt.xticks(range(len(max_earthquakes_death_country_by_year)), max_earthquakes_death_country_by_year['Start Year'].astype(str) + ' - ' + max_earthquakes_death_country_by_year['Country'], rotation=90)\n",
    "plt.xlabel('Year - Country')\n",
    "plt.ylabel('Conteo Máximo de Muertes')\n",
    "plt.title('Conteo Máximo de Muertes por Year y Country')\n",
    "plt.tight_layout()\n",
    "\n",
    "# Show the plot\n",
    "plt.show()"
   ]
  },
  {
   "cell_type": "markdown",
   "metadata": {},
   "source": [
    "##### Afectados por terremotos por continente al año"
   ]
  },
  {
   "cell_type": "code",
   "execution_count": null,
   "metadata": {},
   "outputs": [],
   "source": [
    "plt.figure(figsize=(12,10))\n",
    "sns.lineplot(data=df_earthquake, x='Start Year', y='Total Affected', hue='Continent')\n",
    "plt.ticklabel_format(style='plain', axis='y')"
   ]
  },
  {
   "cell_type": "markdown",
   "metadata": {},
   "source": [
    "##### Muertes por terremotos por continente al año"
   ]
  },
  {
   "cell_type": "code",
   "execution_count": null,
   "metadata": {},
   "outputs": [],
   "source": [
    "plt.figure(figsize=(12,10))\n",
    "sns.lineplot(data=df_earthquake, x='Start Year', y='Total Damages Adj', hue='Continent')\n",
    "plt.ticklabel_format(style='plain', axis='y')"
   ]
  },
  {
   "cell_type": "code",
   "execution_count": null,
   "metadata": {},
   "outputs": [],
   "source": [
    "# # Agrupar por año y calcular la suma de indicadores de impacto\n",
    "df_earthquakeimpact_year = df_earthquake.groupby('Year')['Total Deaths', 'Total Affected', 'Total Damages Adj'].sum().reset_index()\n",
    "\n",
    "# # Plot de análisis temporal para cada indicador de impacto\n",
    "impact_indicators = ['Total Deaths', 'Total Affected', 'Total Damages Adj']\n",
    "num_impact = len(impact_indicators)\n",
    "\n",
    "fig, axes = plt.subplots(num_impact, figsize=(10, 6*num_impact), sharex=True)\n",
    "\n",
    "for i, indicator in enumerate(impact_indicators):\n",
    "    ax = axes[i]\n",
    "    ax.plot(df_earthquakeimpact_year['Year'], df_earthquakeimpact_year[indicator], marker='o')\n",
    "    ax.set_title(indicator)\n",
    "    ax.set_xlabel('Año')\n",
    "    ax.set_ylabel('Total')\n",
    "    ax.set_xticks(df_earthquakeimpact_year['Year'])\n",
    "    ax.set_xticklabels(df_earthquakeimpact_year['Year'], rotation=45)\n",
    "\n",
    "plt.tight_layout()\n",
    "plt.show()"
   ]
  },
  {
   "cell_type": "code",
   "execution_count": null,
   "metadata": {},
   "outputs": [],
   "source": [
    "# Análisis Temporal de Muertes Totales\n",
    "plt.figure(figsize=(10, 6))\n",
    "plt.plot(df_earthquakeimpact_year.index, df_earthquakeimpact_year['Total Deaths'], marker='o')\n",
    "plt.title('Análisis Temporal de Muertes Totales en Terremotos')\n",
    "plt.xlabel('Year')\n",
    "plt.ylabel('Total Deaths')\n",
    "plt.xticks(df_earthquakeimpact_year.index, rotation=45, fontsize=8)\n",
    "plt.yticks(fontsize=8)\n",
    "plt.show()\n",
    "\n",
    "# Análisis Temporal de Total de Afectados\n",
    "plt.figure(figsize=(10, 6))\n",
    "plt.plot(df_earthquakeimpact_year.index, df_earthquakeimpact_year['Total Affected'], marker='o')\n",
    "plt.title('Análisis Temporal de Afectados Totales en Terremotos')\n",
    "plt.xlabel('Year')\n",
    "plt.ylabel('Total Affected')\n",
    "plt.xticks(df_earthquakeimpact_year.index, rotation=45, fontsize=8)\n",
    "plt.yticks(fontsize=8)\n",
    "plt.show()\n",
    "\n",
    "# Análisis Temporal de Daños Totales\n",
    "plt.figure(figsize=(10, 6))\n",
    "plt.plot(df_earthquakeimpact_year.index, df_earthquakeimpact_year['Total Damages Adj'], marker='o')\n",
    "plt.title('Análisis Temporal de Daños Totales en Terremotos')\n",
    "plt.xlabel('Year')\n",
    "plt.ylabel('Total Damages Adj')\n",
    "plt.xticks(df_earthquakeimpact_year.index, rotation=45, fontsize=8)\n",
    "plt.yticks(fontsize=8)\n",
    "plt.show()\n"
   ]
  },
  {
   "cell_type": "markdown",
   "metadata": {},
   "source": [
    "#### Análisis de Años y las Muertes Totales por Terremotos"
   ]
  },
  {
   "cell_type": "code",
   "execution_count": null,
   "metadata": {},
   "outputs": [],
   "source": [
    "plt.figure(figsize=(10, 6))\n",
    "plt.plot(df_earthquakeimpact_year['Year'], df_earthquakeimpact_year['Total Deaths'], marker='o')\n",
    "plt.title('Análisis de Años y las Muertes Totales por Terremotos')\n",
    "plt.xlabel('Año')\n",
    "plt.ylabel('Muertes Totales')\n",
    "plt.xticks(df_earthquakeimpact_year['Year'], rotation=45, fontsize=8)\n",
    "plt.yticks(fontsize=6)\n",
    "plt.show()"
   ]
  },
  {
   "cell_type": "markdown",
   "metadata": {},
   "source": [
    "#### Análisis de Años y los Afectados Totales por Terremotos"
   ]
  },
  {
   "cell_type": "code",
   "execution_count": null,
   "metadata": {},
   "outputs": [],
   "source": [
    "plt.figure(figsize=(10, 6))\n",
    "plt.plot(df_earthquakeimpact_year['Year'], df_earthquakeimpact_year['Total Affected'], marker='o')\n",
    "plt.title('Análisis de Años y Total de Afectados por Terremotos')\n",
    "plt.xlabel('Year')\n",
    "plt.ylabel('Total de Afectados')\n",
    "plt.xticks(df_earthquakeimpact_year['Year'], rotation=45, fontsize=8)\n",
    "plt.yticks(fontsize=8)\n",
    "plt.show()"
   ]
  },
  {
   "cell_type": "markdown",
   "metadata": {},
   "source": [
    "#### Análisis de Años y los Daños Totales por Terremotos"
   ]
  },
  {
   "cell_type": "code",
   "execution_count": null,
   "metadata": {},
   "outputs": [],
   "source": [
    "plt.figure(figsize=(10, 6))\n",
    "plt.plot(df_earthquakeimpact_year['Year'], df_earthquakeimpact_year['Total Damages Adj'], marker='o')\n",
    "plt.title('Análisis de Años y Daños Totales por Terremotos')\n",
    "plt.xlabel('Año')\n",
    "plt.ylabel('Daños Totales')\n",
    "plt.xticks(df_earthquakeimpact_year['Year'], rotation=45, fontsize=8)\n",
    "plt.yticks(fontsize=8)\n",
    "plt.show()"
   ]
  },
  {
   "cell_type": "markdown",
   "metadata": {},
   "source": [
    "Se cuentan 37 años con los diferentes impactos."
   ]
  },
  {
   "cell_type": "markdown",
   "metadata": {},
   "source": [
    "### Duración de las Terremotos por Días"
   ]
  },
  {
   "cell_type": "code",
   "execution_count": null,
   "metadata": {},
   "outputs": [],
   "source": [
    "# Calcular la duración para cada evento de inundación\n",
    "df_earthquake['Duration'] = df_earthquake['End Day'] - df_earthquake['Start Day'] + 1\n",
    "\n",
    "# Filtrar valores no-finitos en la columna 'Duration'\n",
    "df_earthquake = df_earthquake[np.isfinite(df_earthquake['Duration'])]\n",
    "\n",
    "# Convertir columna 'Duration' a integers\n",
    "df_earthquake['Duration'] = df_earthquake['Duration'].astype(int)\n",
    "\n",
    "# Histograma del análisis temporal de duración de terremotos\n",
    "plt.figure(figsize=(10, 6))\n",
    "plt.hist(df_earthquake['Duration'], bins=range(1, df_earthquake['Duration'].max() + 2), edgecolor='black')\n",
    "plt.title('Duración de Terremotos por Días')\n",
    "plt.xlabel('Duración (Días)')\n",
    "plt.ylabel('Frecuencia')\n",
    "\n",
    "# Añadir xticks con años\n",
    "plt.xticks(range(1, df_earthquake['Duration'].max() + 1), fontsize=8)\n",
    "plt.yticks(fontsize=8)\n",
    "\n",
    "plt.show()\n"
   ]
  },
  {
   "cell_type": "markdown",
   "metadata": {},
   "source": [
    "La mayoría de las terremotos dura máximo de 4 días, de ahí, puede variar entre 2, 3 y 5 días. A lo largo de un mes, la tendencia es que la frecuencia se reduzca, siendo menos probables las terremotos de esta duración."
   ]
  },
  {
   "cell_type": "markdown",
   "metadata": {},
   "source": [
    "#### Por Mes"
   ]
  },
  {
   "cell_type": "code",
   "execution_count": null,
   "metadata": {},
   "outputs": [],
   "source": [
    "df_earthquake_impact_startmonth = df_earthquake.dropna(subset=['Start Month', 'End Month', 'Disaster Subtype', 'Total Deaths', 'Total Affected', 'Total Damages Adj'], inplace=False)\n",
    "df_earthquake_impact_startmonth.isna().sum()\n",
    "\n",
    "df_earthquake_impact_startmonth_pivot = df_earthquake_impact_startmonth.pivot_table(\n",
    "    index='Start Month',\n",
    "    columns='Disaster Subtype',\n",
    "    values=['Total Deaths', 'Total Affected', 'Total Damages Adj'],\n",
    "    aggfunc='sum',\n",
    "    fill_value=0\n",
    ")\n",
    "\n",
    "df_earthquake_impact_startmonth_pivot"
   ]
  },
  {
   "cell_type": "code",
   "execution_count": null,
   "metadata": {},
   "outputs": [],
   "source": [
    "# Agrupar por subtipo de inundación y mes\n",
    "df_earthquake_startmonth = df_earthquake.groupby(['Disaster Subtype', 'Start Month']).size().reset_index(name='Count')\n",
    "\n",
    "# Plot para cada subtipo de inundación\n",
    "subtypes = df_earthquake_startmonth['Disaster Subtype'].unique()\n",
    "num_subtypes = len(subtypes)\n",
    "\n",
    "fig, axes = plt.subplots(num_subtypes, figsize=(10, 6*num_subtypes), sharex=True)\n",
    "\n",
    "for i, subtype in enumerate(subtypes):\n",
    "    data = df_earthquake_startmonth[df_earthquake_startmonth['Disaster Subtype'] == subtype]\n",
    "    ax = axes[i]\n",
    "    ax.plot(data['Start Month'], data['Count'], marker='o')\n",
    "    ax.set_title(subtype)\n",
    "    ax.set_xlabel('Mes')\n",
    "    ax.set_ylabel('Frecuencia')\n",
    "    ax.set_xticks(range(1, 13))\n",
    "    ax.set_xticklabels(['Jan', 'Feb', 'Mar', 'Apr', 'May', 'Jun', 'Jul', 'Aug', 'Sep', 'Oct', 'Nov', 'Dec'])\n",
    "\n",
    "plt.tight_layout()\n",
    "plt.show()\n"
   ]
  },
  {
   "cell_type": "code",
   "execution_count": null,
   "metadata": {},
   "outputs": [],
   "source": [
    "# Calcular la duración de las terremotos por meses\n",
    "df_earthquake['Duration (Months)'] = (df_earthquake['End Month'] - df_earthquake['Start Month'] + 1) % 12\n",
    "\n",
    "# Agrupar por duración y calcular el conteo para cada duración\n",
    "duration_counts = df_earthquake['Duration (Months)'].value_counts().sort_index()\n",
    "\n",
    "# Plot de la duración\n",
    "plt.figure(figsize=(10, 6))\n",
    "plt.bar(duration_counts.index, duration_counts.values)\n",
    "plt.title('Duración de las terremotos en Meses')\n",
    "plt.xlabel('Duración (Meses)')\n",
    "plt.ylabel('Conteo')\n",
    "plt.xticks(duration_counts.index)\n",
    "plt.show()\n"
   ]
  },
  {
   "cell_type": "markdown",
   "metadata": {},
   "source": [
    "La mayoría de las terremotos tiene duración de 1 mes, seguida en casi un tercio de las veces por 2 meses. A partir de ahí, la duración disminuye considerablemente entre 3 hasta 6 meses."
   ]
  }
 ],
 "metadata": {
  "kernelspec": {
   "display_name": "Python 3",
   "language": "python",
   "name": "python3"
  },
  "language_info": {
   "codemirror_mode": {
    "name": "ipython",
    "version": 3
   },
   "file_extension": ".py",
   "mimetype": "text/x-python",
   "name": "python",
   "nbconvert_exporter": "python",
   "pygments_lexer": "ipython3",
   "version": "3.10.11"
  },
  "orig_nbformat": 4
 },
 "nbformat": 4,
 "nbformat_minor": 2
}

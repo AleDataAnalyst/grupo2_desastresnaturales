{
 "cells": [
  {
   "attachments": {},
   "cell_type": "markdown",
   "metadata": {},
   "source": [
    "# DATASET DEFINITIVO\n",
    "\n",
    "Cargar dataset : 01desastres_crudo_renamedcols.csv\n",
    "\n",
    "Borrar las 24 columnas acordadas: criterios de utilidad para los principales desastres a estudiar\n",
    "\n",
    "Crear nuevo dataset: 02desastres_definitivo.csv"
   ]
  },
  {
   "cell_type": "code",
   "execution_count": 32,
   "metadata": {},
   "outputs": [],
   "source": [
    "import numpy as np\n",
    "import pandas as pd\n",
    "import matplotlib.pyplot as plt\n",
    "import seaborn as sns"
   ]
  },
  {
   "cell_type": "code",
   "execution_count": 33,
   "metadata": {},
   "outputs": [],
   "source": [
    "df = pd.read_csv('../../Data/01CrudoNoEditar/01desastres_crudo_renamedcols.csv', encoding='utf-8', delimiter=';', engine='python')\n"
   ]
  },
  {
   "cell_type": "code",
   "execution_count": 34,
   "metadata": {},
   "outputs": [
    {
     "data": {
      "text/html": [
       "<div>\n",
       "<style scoped>\n",
       "    .dataframe tbody tr th:only-of-type {\n",
       "        vertical-align: middle;\n",
       "    }\n",
       "\n",
       "    .dataframe tbody tr th {\n",
       "        vertical-align: top;\n",
       "    }\n",
       "\n",
       "    .dataframe thead th {\n",
       "        text-align: right;\n",
       "    }\n",
       "</style>\n",
       "<table border=\"1\" class=\"dataframe\">\n",
       "  <thead>\n",
       "    <tr style=\"text-align: right;\">\n",
       "      <th></th>\n",
       "      <th>Dis No</th>\n",
       "      <th>Year</th>\n",
       "      <th>Seq</th>\n",
       "      <th>Glide</th>\n",
       "      <th>Disaster Group</th>\n",
       "      <th>Disaster Subgroup</th>\n",
       "      <th>Disaster Type</th>\n",
       "      <th>Disaster Subtype</th>\n",
       "      <th>Disaster Subsubtype</th>\n",
       "      <th>Event Name</th>\n",
       "      <th>...</th>\n",
       "      <th>Reconstruction Costs Adj</th>\n",
       "      <th>Insured Damages</th>\n",
       "      <th>Insured Damages Adj</th>\n",
       "      <th>Total Damages</th>\n",
       "      <th>Total Damages Adj</th>\n",
       "      <th>CPI</th>\n",
       "      <th>Adm Level</th>\n",
       "      <th>Admin1 Code</th>\n",
       "      <th>Admin2 Code</th>\n",
       "      <th>Geo Locations</th>\n",
       "    </tr>\n",
       "  </thead>\n",
       "  <tbody>\n",
       "    <tr>\n",
       "      <th>0</th>\n",
       "      <td>1900-9002-CPV</td>\n",
       "      <td>1900</td>\n",
       "      <td>9002</td>\n",
       "      <td>NaN</td>\n",
       "      <td>Natural</td>\n",
       "      <td>Climatological</td>\n",
       "      <td>Drought</td>\n",
       "      <td>Drought</td>\n",
       "      <td>NaN</td>\n",
       "      <td>NaN</td>\n",
       "      <td>...</td>\n",
       "      <td>NaN</td>\n",
       "      <td>NaN</td>\n",
       "      <td>NaN</td>\n",
       "      <td>NaN</td>\n",
       "      <td>NaN</td>\n",
       "      <td>2,849084409</td>\n",
       "      <td>NaN</td>\n",
       "      <td>NaN</td>\n",
       "      <td>NaN</td>\n",
       "      <td>NaN</td>\n",
       "    </tr>\n",
       "    <tr>\n",
       "      <th>1</th>\n",
       "      <td>1900-9001-IND</td>\n",
       "      <td>1900</td>\n",
       "      <td>9001</td>\n",
       "      <td>NaN</td>\n",
       "      <td>Natural</td>\n",
       "      <td>Climatological</td>\n",
       "      <td>Drought</td>\n",
       "      <td>Drought</td>\n",
       "      <td>NaN</td>\n",
       "      <td>NaN</td>\n",
       "      <td>...</td>\n",
       "      <td>NaN</td>\n",
       "      <td>NaN</td>\n",
       "      <td>NaN</td>\n",
       "      <td>NaN</td>\n",
       "      <td>NaN</td>\n",
       "      <td>2,849084409</td>\n",
       "      <td>NaN</td>\n",
       "      <td>NaN</td>\n",
       "      <td>NaN</td>\n",
       "      <td>NaN</td>\n",
       "    </tr>\n",
       "    <tr>\n",
       "      <th>2</th>\n",
       "      <td>1902-0012-GTM</td>\n",
       "      <td>1902</td>\n",
       "      <td>12</td>\n",
       "      <td>NaN</td>\n",
       "      <td>Natural</td>\n",
       "      <td>Geophysical</td>\n",
       "      <td>Earthquake</td>\n",
       "      <td>Ground movement</td>\n",
       "      <td>NaN</td>\n",
       "      <td>NaN</td>\n",
       "      <td>...</td>\n",
       "      <td>NaN</td>\n",
       "      <td>NaN</td>\n",
       "      <td>NaN</td>\n",
       "      <td>25000.0</td>\n",
       "      <td>843726.0</td>\n",
       "      <td>2,963047785</td>\n",
       "      <td>NaN</td>\n",
       "      <td>NaN</td>\n",
       "      <td>NaN</td>\n",
       "      <td>NaN</td>\n",
       "    </tr>\n",
       "    <tr>\n",
       "      <th>3</th>\n",
       "      <td>1902-0003-GTM</td>\n",
       "      <td>1902</td>\n",
       "      <td>3</td>\n",
       "      <td>NaN</td>\n",
       "      <td>Natural</td>\n",
       "      <td>Geophysical</td>\n",
       "      <td>Volcanic activity</td>\n",
       "      <td>Ash fall</td>\n",
       "      <td>NaN</td>\n",
       "      <td>Santa Maria</td>\n",
       "      <td>...</td>\n",
       "      <td>NaN</td>\n",
       "      <td>NaN</td>\n",
       "      <td>NaN</td>\n",
       "      <td>NaN</td>\n",
       "      <td>NaN</td>\n",
       "      <td>2,963047785</td>\n",
       "      <td>NaN</td>\n",
       "      <td>NaN</td>\n",
       "      <td>NaN</td>\n",
       "      <td>NaN</td>\n",
       "    </tr>\n",
       "    <tr>\n",
       "      <th>4</th>\n",
       "      <td>1902-0010-GTM</td>\n",
       "      <td>1902</td>\n",
       "      <td>10</td>\n",
       "      <td>NaN</td>\n",
       "      <td>Natural</td>\n",
       "      <td>Geophysical</td>\n",
       "      <td>Volcanic activity</td>\n",
       "      <td>Ash fall</td>\n",
       "      <td>NaN</td>\n",
       "      <td>Santa Maria</td>\n",
       "      <td>...</td>\n",
       "      <td>NaN</td>\n",
       "      <td>NaN</td>\n",
       "      <td>NaN</td>\n",
       "      <td>NaN</td>\n",
       "      <td>NaN</td>\n",
       "      <td>2,963047785</td>\n",
       "      <td>NaN</td>\n",
       "      <td>NaN</td>\n",
       "      <td>NaN</td>\n",
       "      <td>NaN</td>\n",
       "    </tr>\n",
       "  </tbody>\n",
       "</table>\n",
       "<p>5 rows × 50 columns</p>\n",
       "</div>"
      ],
      "text/plain": [
       "          Dis No  Year   Seq Glide Disaster Group Disaster Subgroup  \\\n",
       "0  1900-9002-CPV  1900  9002   NaN        Natural    Climatological   \n",
       "1  1900-9001-IND  1900  9001   NaN        Natural    Climatological   \n",
       "2  1902-0012-GTM  1902    12   NaN        Natural       Geophysical   \n",
       "3  1902-0003-GTM  1902     3   NaN        Natural       Geophysical   \n",
       "4  1902-0010-GTM  1902    10   NaN        Natural       Geophysical   \n",
       "\n",
       "       Disaster Type Disaster Subtype Disaster Subsubtype   Event Name  ...  \\\n",
       "0            Drought          Drought                 NaN          NaN  ...   \n",
       "1            Drought          Drought                 NaN          NaN  ...   \n",
       "2         Earthquake  Ground movement                 NaN          NaN  ...   \n",
       "3  Volcanic activity         Ash fall                 NaN  Santa Maria  ...   \n",
       "4  Volcanic activity         Ash fall                 NaN  Santa Maria  ...   \n",
       "\n",
       "  Reconstruction Costs Adj Insured Damages Insured Damages Adj Total Damages  \\\n",
       "0                      NaN             NaN                 NaN           NaN   \n",
       "1                      NaN             NaN                 NaN           NaN   \n",
       "2                      NaN             NaN                 NaN       25000.0   \n",
       "3                      NaN             NaN                 NaN           NaN   \n",
       "4                      NaN             NaN                 NaN           NaN   \n",
       "\n",
       "  Total Damages Adj          CPI Adm Level Admin1 Code Admin2 Code  \\\n",
       "0               NaN  2,849084409       NaN         NaN         NaN   \n",
       "1               NaN  2,849084409       NaN         NaN         NaN   \n",
       "2          843726.0  2,963047785       NaN         NaN         NaN   \n",
       "3               NaN  2,963047785       NaN         NaN         NaN   \n",
       "4               NaN  2,963047785       NaN         NaN         NaN   \n",
       "\n",
       "  Geo Locations  \n",
       "0           NaN  \n",
       "1           NaN  \n",
       "2           NaN  \n",
       "3           NaN  \n",
       "4           NaN  \n",
       "\n",
       "[5 rows x 50 columns]"
      ]
     },
     "execution_count": 34,
     "metadata": {},
     "output_type": "execute_result"
    }
   ],
   "source": [
    "df.head()"
   ]
  },
  {
   "cell_type": "code",
   "execution_count": 35,
   "metadata": {},
   "outputs": [
    {
     "data": {
      "text/plain": [
       "(16636, 50)"
      ]
     },
     "execution_count": 35,
     "metadata": {},
     "output_type": "execute_result"
    }
   ],
   "source": [
    "df.shape"
   ]
  },
  {
   "cell_type": "code",
   "execution_count": 36,
   "metadata": {},
   "outputs": [
    {
     "data": {
      "text/plain": [
       "Index(['Dis No', 'Year', 'Seq', 'Glide', 'Disaster Group', 'Disaster Subgroup',\n",
       "       'Disaster Type', 'Disaster Subtype', 'Disaster Subsubtype',\n",
       "       'Event Name', 'Country', 'ISO', 'Region', 'Continent', 'Location',\n",
       "       'Origin', 'Associated Dis', 'Associated Dis2', 'OFDA Response',\n",
       "       'Appeal', 'Declaration', 'AID Contribution', 'Dis Mag Value',\n",
       "       'Dis Mag Scale', 'Latitude', 'Longitude', 'Local Time', 'River Basin',\n",
       "       'Start Year', 'Start Month', 'Start Day', 'End Year', 'End Month',\n",
       "       'End Day', 'Total Deaths', 'No Injured', 'No Affected', 'No Homeless',\n",
       "       'Total Affected', 'Reconstruction Costs', 'Reconstruction Costs Adj',\n",
       "       'Insured Damages', 'Insured Damages Adj', 'Total Damages',\n",
       "       'Total Damages Adj', 'CPI', 'Adm Level', 'Admin1 Code', 'Admin2 Code',\n",
       "       'Geo Locations'],\n",
       "      dtype='object')"
      ]
     },
     "execution_count": 36,
     "metadata": {},
     "output_type": "execute_result"
    }
   ],
   "source": [
    "df.columns"
   ]
  },
  {
   "cell_type": "code",
   "execution_count": 37,
   "metadata": {},
   "outputs": [
    {
     "name": "stdout",
     "output_type": "stream",
     "text": [
      "<class 'pandas.core.frame.DataFrame'>\n",
      "RangeIndex: 16636 entries, 0 to 16635\n",
      "Data columns (total 50 columns):\n",
      " #   Column                    Non-Null Count  Dtype  \n",
      "---  ------                    --------------  -----  \n",
      " 0   Dis No                    16636 non-null  object \n",
      " 1   Year                      16636 non-null  int64  \n",
      " 2   Seq                       16636 non-null  int64  \n",
      " 3   Glide                     1736 non-null   object \n",
      " 4   Disaster Group            16636 non-null  object \n",
      " 5   Disaster Subgroup         16636 non-null  object \n",
      " 6   Disaster Type             16636 non-null  object \n",
      " 7   Disaster Subtype          13313 non-null  object \n",
      " 8   Disaster Subsubtype       1117 non-null   object \n",
      " 9   Event Name                3969 non-null   object \n",
      " 10  Country                   16636 non-null  object \n",
      " 11  ISO                       16636 non-null  object \n",
      " 12  Region                    16636 non-null  object \n",
      " 13  Continent                 16636 non-null  object \n",
      " 14  Location                  14825 non-null  object \n",
      " 15  Origin                    4085 non-null   object \n",
      " 16  Associated Dis            3593 non-null   object \n",
      " 17  Associated Dis2           763 non-null    object \n",
      " 18  OFDA Response             1716 non-null   object \n",
      " 19  Appeal                    2559 non-null   object \n",
      " 20  Declaration               3343 non-null   object \n",
      " 21  AID Contribution          776 non-null    float64\n",
      " 22  Dis Mag Value             5064 non-null   float64\n",
      " 23  Dis Mag Scale             15416 non-null  object \n",
      " 24  Latitude                  2775 non-null   object \n",
      " 25  Longitude                 2775 non-null   object \n",
      " 26  Local Time                1156 non-null   object \n",
      " 27  River Basin               1336 non-null   object \n",
      " 28  Start Year                16636 non-null  int64  \n",
      " 29  Start Month               16241 non-null  float64\n",
      " 30  Start Day                 13021 non-null  float64\n",
      " 31  End Year                  16636 non-null  int64  \n",
      " 32  End Month                 15936 non-null  float64\n",
      " 33  End Day                   13105 non-null  float64\n",
      " 34  Total Deaths              11838 non-null  float64\n",
      " 35  No Injured                4147 non-null   float64\n",
      " 36  No Affected               9673 non-null   float64\n",
      " 37  No Homeless               2470 non-null   float64\n",
      " 38  Total Affected            12143 non-null  float64\n",
      " 39  Reconstruction Costs      38 non-null     float64\n",
      " 40  Reconstruction Costs Adj  36 non-null     float64\n",
      " 41  Insured Damages           1109 non-null   float64\n",
      " 42  Insured Damages Adj       1109 non-null   float64\n",
      " 43  Total Damages             5384 non-null   float64\n",
      " 44  Total Damages Adj         5366 non-null   float64\n",
      " 45  CPI                       16530 non-null  object \n",
      " 46  Adm Level                 8475 non-null   object \n",
      " 47  Admin1 Code               5030 non-null   object \n",
      " 48  Admin2 Code               4248 non-null   object \n",
      " 49  Geo Locations             8475 non-null   object \n",
      "dtypes: float64(17), int64(4), object(29)\n",
      "memory usage: 6.3+ MB\n"
     ]
    }
   ],
   "source": [
    "df.info()"
   ]
  },
  {
   "cell_type": "code",
   "execution_count": 38,
   "metadata": {},
   "outputs": [],
   "source": [
    "df.drop(columns=['Glide', 'Disaster Group', 'Disaster Subsubtype', 'Event Name','Associated Dis2', 'OFDA Response', 'Appeal', 'Declaration', 'AID Contribution',\n",
    "                  'Local Time', 'River Basin', 'No Injured', 'No Affected', 'No Homeless', 'Insured Damages', 'Reconstruction Costs', 'Reconstruction Costs Adj',\n",
    "                'Insured Damages Adj', 'Total Damages','CPI', 'Adm Level', 'Admin1 Code', 'Admin2 Code', 'Geo Locations'], inplace=True)"
   ]
  },
  {
   "cell_type": "code",
   "execution_count": 39,
   "metadata": {},
   "outputs": [
    {
     "data": {
      "text/plain": [
       "(16636, 26)"
      ]
     },
     "execution_count": 39,
     "metadata": {},
     "output_type": "execute_result"
    }
   ],
   "source": [
    "df.shape"
   ]
  },
  {
   "cell_type": "code",
   "execution_count": 40,
   "metadata": {},
   "outputs": [
    {
     "data": {
      "text/plain": [
       "Index(['Dis No', 'Year', 'Seq', 'Disaster Subgroup', 'Disaster Type',\n",
       "       'Disaster Subtype', 'Country', 'ISO', 'Region', 'Continent', 'Location',\n",
       "       'Origin', 'Associated Dis', 'Dis Mag Value', 'Dis Mag Scale',\n",
       "       'Latitude', 'Longitude', 'Start Year', 'Start Month', 'Start Day',\n",
       "       'End Year', 'End Month', 'End Day', 'Total Deaths', 'Total Affected',\n",
       "       'Total Damages Adj'],\n",
       "      dtype='object')"
      ]
     },
     "execution_count": 40,
     "metadata": {},
     "output_type": "execute_result"
    }
   ],
   "source": [
    "df.columns"
   ]
  },
  {
   "cell_type": "code",
   "execution_count": 41,
   "metadata": {},
   "outputs": [],
   "source": [
    "df.to_csv('../../Data/02ParaLimpiar/02desastres_definitivo.csv', index=False, sep=';', encoding='utf-8')"
   ]
  },
  {
   "attachments": {},
   "cell_type": "markdown",
   "metadata": {},
   "source": [
    "Falta el tratamiento de nulos en función de la necesidad de cada desastre\n"
   ]
  }
 ],
 "metadata": {
  "kernelspec": {
   "display_name": "Python 3",
   "language": "python",
   "name": "python3"
  },
  "language_info": {
   "codemirror_mode": {
    "name": "ipython",
    "version": 3
   },
   "file_extension": ".py",
   "mimetype": "text/x-python",
   "name": "python",
   "nbconvert_exporter": "python",
   "pygments_lexer": "ipython3",
   "version": "3.10.11"
  },
  "orig_nbformat": 4
 },
 "nbformat": 4,
 "nbformat_minor": 2
}

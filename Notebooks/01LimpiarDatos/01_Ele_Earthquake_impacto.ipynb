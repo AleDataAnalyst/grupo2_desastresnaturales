{
 "cells": [
  {
   "cell_type": "code",
   "execution_count": 166,
   "metadata": {},
   "outputs": [],
   "source": [
    "import numpy as np\n",
    "import pandas as pd\n",
    "import matplotlib.pyplot as plt\n",
    "import seaborn as sns\n",
    "import folium\n",
    "from geopy.geocoders import Nominatim"
   ]
  },
  {
   "attachments": {},
   "cell_type": "markdown",
   "metadata": {},
   "source": [
    "### Cargar base de datos: 01_desastres_crudo_renamedcols.csv"
   ]
  },
  {
   "cell_type": "code",
   "execution_count": 167,
   "metadata": {},
   "outputs": [
    {
     "name": "stderr",
     "output_type": "stream",
     "text": [
      "C:\\Users\\blanc\\AppData\\Local\\Temp\\ipykernel_9316\\927010457.py:1: DtypeWarning: Columns (18,24,25,45) have mixed types. Specify dtype option on import or set low_memory=False.\n",
      "  df = pd.read_csv('../../Data/01CrudoNoEditar/01desastres_crudo_renamedcols.csv', delimiter=';', encoding='utf-8')\n"
     ]
    },
    {
     "data": {
      "text/html": [
       "<div>\n",
       "<style scoped>\n",
       "    .dataframe tbody tr th:only-of-type {\n",
       "        vertical-align: middle;\n",
       "    }\n",
       "\n",
       "    .dataframe tbody tr th {\n",
       "        vertical-align: top;\n",
       "    }\n",
       "\n",
       "    .dataframe thead th {\n",
       "        text-align: right;\n",
       "    }\n",
       "</style>\n",
       "<table border=\"1\" class=\"dataframe\">\n",
       "  <thead>\n",
       "    <tr style=\"text-align: right;\">\n",
       "      <th></th>\n",
       "      <th>Dis No</th>\n",
       "      <th>Year</th>\n",
       "      <th>Seq</th>\n",
       "      <th>Glide</th>\n",
       "      <th>Disaster Group</th>\n",
       "      <th>Disaster Subgroup</th>\n",
       "      <th>Disaster Type</th>\n",
       "      <th>Disaster Subtype</th>\n",
       "      <th>Disaster Subsubtype</th>\n",
       "      <th>Event Name</th>\n",
       "      <th>...</th>\n",
       "      <th>Reconstruction Costs Adj</th>\n",
       "      <th>Insured Damages</th>\n",
       "      <th>Insured Damages Adj</th>\n",
       "      <th>Total Damages</th>\n",
       "      <th>Total Damages Adj</th>\n",
       "      <th>CPI</th>\n",
       "      <th>Adm Level</th>\n",
       "      <th>Admin1 Code</th>\n",
       "      <th>Admin2 Code</th>\n",
       "      <th>Geo Locations</th>\n",
       "    </tr>\n",
       "  </thead>\n",
       "  <tbody>\n",
       "    <tr>\n",
       "      <th>0</th>\n",
       "      <td>1900-9002-CPV</td>\n",
       "      <td>1900</td>\n",
       "      <td>9002</td>\n",
       "      <td>NaN</td>\n",
       "      <td>Natural</td>\n",
       "      <td>Climatological</td>\n",
       "      <td>Drought</td>\n",
       "      <td>Drought</td>\n",
       "      <td>NaN</td>\n",
       "      <td>NaN</td>\n",
       "      <td>...</td>\n",
       "      <td>NaN</td>\n",
       "      <td>NaN</td>\n",
       "      <td>NaN</td>\n",
       "      <td>NaN</td>\n",
       "      <td>NaN</td>\n",
       "      <td>2,849084409</td>\n",
       "      <td>NaN</td>\n",
       "      <td>NaN</td>\n",
       "      <td>NaN</td>\n",
       "      <td>NaN</td>\n",
       "    </tr>\n",
       "    <tr>\n",
       "      <th>1</th>\n",
       "      <td>1900-9001-IND</td>\n",
       "      <td>1900</td>\n",
       "      <td>9001</td>\n",
       "      <td>NaN</td>\n",
       "      <td>Natural</td>\n",
       "      <td>Climatological</td>\n",
       "      <td>Drought</td>\n",
       "      <td>Drought</td>\n",
       "      <td>NaN</td>\n",
       "      <td>NaN</td>\n",
       "      <td>...</td>\n",
       "      <td>NaN</td>\n",
       "      <td>NaN</td>\n",
       "      <td>NaN</td>\n",
       "      <td>NaN</td>\n",
       "      <td>NaN</td>\n",
       "      <td>2,849084409</td>\n",
       "      <td>NaN</td>\n",
       "      <td>NaN</td>\n",
       "      <td>NaN</td>\n",
       "      <td>NaN</td>\n",
       "    </tr>\n",
       "    <tr>\n",
       "      <th>2</th>\n",
       "      <td>1902-0012-GTM</td>\n",
       "      <td>1902</td>\n",
       "      <td>12</td>\n",
       "      <td>NaN</td>\n",
       "      <td>Natural</td>\n",
       "      <td>Geophysical</td>\n",
       "      <td>Earthquake</td>\n",
       "      <td>Ground movement</td>\n",
       "      <td>NaN</td>\n",
       "      <td>NaN</td>\n",
       "      <td>...</td>\n",
       "      <td>NaN</td>\n",
       "      <td>NaN</td>\n",
       "      <td>NaN</td>\n",
       "      <td>25000.0</td>\n",
       "      <td>843726.0</td>\n",
       "      <td>2,963047785</td>\n",
       "      <td>NaN</td>\n",
       "      <td>NaN</td>\n",
       "      <td>NaN</td>\n",
       "      <td>NaN</td>\n",
       "    </tr>\n",
       "    <tr>\n",
       "      <th>3</th>\n",
       "      <td>1902-0003-GTM</td>\n",
       "      <td>1902</td>\n",
       "      <td>3</td>\n",
       "      <td>NaN</td>\n",
       "      <td>Natural</td>\n",
       "      <td>Geophysical</td>\n",
       "      <td>Volcanic activity</td>\n",
       "      <td>Ash fall</td>\n",
       "      <td>NaN</td>\n",
       "      <td>Santa Maria</td>\n",
       "      <td>...</td>\n",
       "      <td>NaN</td>\n",
       "      <td>NaN</td>\n",
       "      <td>NaN</td>\n",
       "      <td>NaN</td>\n",
       "      <td>NaN</td>\n",
       "      <td>2,963047785</td>\n",
       "      <td>NaN</td>\n",
       "      <td>NaN</td>\n",
       "      <td>NaN</td>\n",
       "      <td>NaN</td>\n",
       "    </tr>\n",
       "    <tr>\n",
       "      <th>4</th>\n",
       "      <td>1902-0010-GTM</td>\n",
       "      <td>1902</td>\n",
       "      <td>10</td>\n",
       "      <td>NaN</td>\n",
       "      <td>Natural</td>\n",
       "      <td>Geophysical</td>\n",
       "      <td>Volcanic activity</td>\n",
       "      <td>Ash fall</td>\n",
       "      <td>NaN</td>\n",
       "      <td>Santa Maria</td>\n",
       "      <td>...</td>\n",
       "      <td>NaN</td>\n",
       "      <td>NaN</td>\n",
       "      <td>NaN</td>\n",
       "      <td>NaN</td>\n",
       "      <td>NaN</td>\n",
       "      <td>2,963047785</td>\n",
       "      <td>NaN</td>\n",
       "      <td>NaN</td>\n",
       "      <td>NaN</td>\n",
       "      <td>NaN</td>\n",
       "    </tr>\n",
       "    <tr>\n",
       "      <th>5</th>\n",
       "      <td>1903-0006-CAN</td>\n",
       "      <td>1903</td>\n",
       "      <td>6</td>\n",
       "      <td>NaN</td>\n",
       "      <td>Natural</td>\n",
       "      <td>Geophysical</td>\n",
       "      <td>Mass movement (dry)</td>\n",
       "      <td>Rockfall</td>\n",
       "      <td>NaN</td>\n",
       "      <td>NaN</td>\n",
       "      <td>...</td>\n",
       "      <td>NaN</td>\n",
       "      <td>NaN</td>\n",
       "      <td>NaN</td>\n",
       "      <td>NaN</td>\n",
       "      <td>NaN</td>\n",
       "      <td>3,077011162</td>\n",
       "      <td>NaN</td>\n",
       "      <td>NaN</td>\n",
       "      <td>NaN</td>\n",
       "      <td>NaN</td>\n",
       "    </tr>\n",
       "    <tr>\n",
       "      <th>6</th>\n",
       "      <td>1903-0012-COM</td>\n",
       "      <td>1903</td>\n",
       "      <td>12</td>\n",
       "      <td>NaN</td>\n",
       "      <td>Natural</td>\n",
       "      <td>Geophysical</td>\n",
       "      <td>Volcanic activity</td>\n",
       "      <td>Ash fall</td>\n",
       "      <td>NaN</td>\n",
       "      <td>Mount Karthala</td>\n",
       "      <td>...</td>\n",
       "      <td>NaN</td>\n",
       "      <td>NaN</td>\n",
       "      <td>NaN</td>\n",
       "      <td>NaN</td>\n",
       "      <td>NaN</td>\n",
       "      <td>3,077011162</td>\n",
       "      <td>NaN</td>\n",
       "      <td>NaN</td>\n",
       "      <td>NaN</td>\n",
       "      <td>NaN</td>\n",
       "    </tr>\n",
       "    <tr>\n",
       "      <th>7</th>\n",
       "      <td>1904-0003-BGD</td>\n",
       "      <td>1904</td>\n",
       "      <td>3</td>\n",
       "      <td>NaN</td>\n",
       "      <td>Natural</td>\n",
       "      <td>Meteorological</td>\n",
       "      <td>Storm</td>\n",
       "      <td>Tropical cyclone</td>\n",
       "      <td>NaN</td>\n",
       "      <td>NaN</td>\n",
       "      <td>...</td>\n",
       "      <td>NaN</td>\n",
       "      <td>NaN</td>\n",
       "      <td>NaN</td>\n",
       "      <td>NaN</td>\n",
       "      <td>NaN</td>\n",
       "      <td>3,077011162</td>\n",
       "      <td>NaN</td>\n",
       "      <td>NaN</td>\n",
       "      <td>NaN</td>\n",
       "      <td>NaN</td>\n",
       "    </tr>\n",
       "    <tr>\n",
       "      <th>8</th>\n",
       "      <td>1905-0005-CAN</td>\n",
       "      <td>1905</td>\n",
       "      <td>5</td>\n",
       "      <td>NaN</td>\n",
       "      <td>Natural</td>\n",
       "      <td>Geophysical</td>\n",
       "      <td>Mass movement (dry)</td>\n",
       "      <td>Rockfall</td>\n",
       "      <td>NaN</td>\n",
       "      <td>NaN</td>\n",
       "      <td>...</td>\n",
       "      <td>NaN</td>\n",
       "      <td>NaN</td>\n",
       "      <td>NaN</td>\n",
       "      <td>NaN</td>\n",
       "      <td>NaN</td>\n",
       "      <td>3,077011162</td>\n",
       "      <td>NaN</td>\n",
       "      <td>NaN</td>\n",
       "      <td>NaN</td>\n",
       "      <td>NaN</td>\n",
       "    </tr>\n",
       "    <tr>\n",
       "      <th>9</th>\n",
       "      <td>1905-0003-IND</td>\n",
       "      <td>1905</td>\n",
       "      <td>3</td>\n",
       "      <td>NaN</td>\n",
       "      <td>Natural</td>\n",
       "      <td>Geophysical</td>\n",
       "      <td>Earthquake</td>\n",
       "      <td>Ground movement</td>\n",
       "      <td>NaN</td>\n",
       "      <td>NaN</td>\n",
       "      <td>...</td>\n",
       "      <td>NaN</td>\n",
       "      <td>NaN</td>\n",
       "      <td>NaN</td>\n",
       "      <td>25000.0</td>\n",
       "      <td>812477.0</td>\n",
       "      <td>3,077011162</td>\n",
       "      <td>NaN</td>\n",
       "      <td>NaN</td>\n",
       "      <td>NaN</td>\n",
       "      <td>NaN</td>\n",
       "    </tr>\n",
       "  </tbody>\n",
       "</table>\n",
       "<p>10 rows × 50 columns</p>\n",
       "</div>"
      ],
      "text/plain": [
       "          Dis No  Year   Seq Glide Disaster Group Disaster Subgroup  \\\n",
       "0  1900-9002-CPV  1900  9002   NaN        Natural    Climatological   \n",
       "1  1900-9001-IND  1900  9001   NaN        Natural    Climatological   \n",
       "2  1902-0012-GTM  1902    12   NaN        Natural       Geophysical   \n",
       "3  1902-0003-GTM  1902     3   NaN        Natural       Geophysical   \n",
       "4  1902-0010-GTM  1902    10   NaN        Natural       Geophysical   \n",
       "5  1903-0006-CAN  1903     6   NaN        Natural       Geophysical   \n",
       "6  1903-0012-COM  1903    12   NaN        Natural       Geophysical   \n",
       "7  1904-0003-BGD  1904     3   NaN        Natural    Meteorological   \n",
       "8  1905-0005-CAN  1905     5   NaN        Natural       Geophysical   \n",
       "9  1905-0003-IND  1905     3   NaN        Natural       Geophysical   \n",
       "\n",
       "         Disaster Type  Disaster Subtype Disaster Subsubtype      Event Name  \\\n",
       "0              Drought           Drought                 NaN             NaN   \n",
       "1              Drought           Drought                 NaN             NaN   \n",
       "2           Earthquake   Ground movement                 NaN             NaN   \n",
       "3    Volcanic activity          Ash fall                 NaN     Santa Maria   \n",
       "4    Volcanic activity          Ash fall                 NaN     Santa Maria   \n",
       "5  Mass movement (dry)          Rockfall                 NaN             NaN   \n",
       "6    Volcanic activity          Ash fall                 NaN  Mount Karthala   \n",
       "7                Storm  Tropical cyclone                 NaN             NaN   \n",
       "8  Mass movement (dry)          Rockfall                 NaN             NaN   \n",
       "9           Earthquake   Ground movement                 NaN             NaN   \n",
       "\n",
       "   ... Reconstruction Costs Adj Insured Damages Insured Damages Adj  \\\n",
       "0  ...                      NaN             NaN                 NaN   \n",
       "1  ...                      NaN             NaN                 NaN   \n",
       "2  ...                      NaN             NaN                 NaN   \n",
       "3  ...                      NaN             NaN                 NaN   \n",
       "4  ...                      NaN             NaN                 NaN   \n",
       "5  ...                      NaN             NaN                 NaN   \n",
       "6  ...                      NaN             NaN                 NaN   \n",
       "7  ...                      NaN             NaN                 NaN   \n",
       "8  ...                      NaN             NaN                 NaN   \n",
       "9  ...                      NaN             NaN                 NaN   \n",
       "\n",
       "  Total Damages Total Damages Adj          CPI Adm Level Admin1 Code  \\\n",
       "0           NaN               NaN  2,849084409       NaN         NaN   \n",
       "1           NaN               NaN  2,849084409       NaN         NaN   \n",
       "2       25000.0          843726.0  2,963047785       NaN         NaN   \n",
       "3           NaN               NaN  2,963047785       NaN         NaN   \n",
       "4           NaN               NaN  2,963047785       NaN         NaN   \n",
       "5           NaN               NaN  3,077011162       NaN         NaN   \n",
       "6           NaN               NaN  3,077011162       NaN         NaN   \n",
       "7           NaN               NaN  3,077011162       NaN         NaN   \n",
       "8           NaN               NaN  3,077011162       NaN         NaN   \n",
       "9       25000.0          812477.0  3,077011162       NaN         NaN   \n",
       "\n",
       "  Admin2 Code Geo Locations  \n",
       "0         NaN           NaN  \n",
       "1         NaN           NaN  \n",
       "2         NaN           NaN  \n",
       "3         NaN           NaN  \n",
       "4         NaN           NaN  \n",
       "5         NaN           NaN  \n",
       "6         NaN           NaN  \n",
       "7         NaN           NaN  \n",
       "8         NaN           NaN  \n",
       "9         NaN           NaN  \n",
       "\n",
       "[10 rows x 50 columns]"
      ]
     },
     "execution_count": 167,
     "metadata": {},
     "output_type": "execute_result"
    }
   ],
   "source": [
    "df = pd.read_csv('../../Data/01CrudoNoEditar/01desastres_crudo_renamedcols.csv', delimiter=';', encoding='utf-8')\n",
    "df.head(10)"
   ]
  },
  {
   "attachments": {},
   "cell_type": "markdown",
   "metadata": {},
   "source": [
    "## FILTRO"
   ]
  },
  {
   "cell_type": "code",
   "execution_count": 168,
   "metadata": {},
   "outputs": [],
   "source": [
    "filter = df['Disaster Type'] == 'Earthquake'\n",
    "df_earthquake = df[filter]"
   ]
  },
  {
   "cell_type": "code",
   "execution_count": 169,
   "metadata": {},
   "outputs": [
    {
     "data": {
      "text/html": [
       "<div>\n",
       "<style scoped>\n",
       "    .dataframe tbody tr th:only-of-type {\n",
       "        vertical-align: middle;\n",
       "    }\n",
       "\n",
       "    .dataframe tbody tr th {\n",
       "        vertical-align: top;\n",
       "    }\n",
       "\n",
       "    .dataframe thead th {\n",
       "        text-align: right;\n",
       "    }\n",
       "</style>\n",
       "<table border=\"1\" class=\"dataframe\">\n",
       "  <thead>\n",
       "    <tr style=\"text-align: right;\">\n",
       "      <th></th>\n",
       "      <th>Dis No</th>\n",
       "      <th>Year</th>\n",
       "      <th>Seq</th>\n",
       "      <th>Glide</th>\n",
       "      <th>Disaster Group</th>\n",
       "      <th>Disaster Subgroup</th>\n",
       "      <th>Disaster Type</th>\n",
       "      <th>Disaster Subtype</th>\n",
       "      <th>Disaster Subsubtype</th>\n",
       "      <th>Event Name</th>\n",
       "      <th>...</th>\n",
       "      <th>Reconstruction Costs Adj</th>\n",
       "      <th>Insured Damages</th>\n",
       "      <th>Insured Damages Adj</th>\n",
       "      <th>Total Damages</th>\n",
       "      <th>Total Damages Adj</th>\n",
       "      <th>CPI</th>\n",
       "      <th>Adm Level</th>\n",
       "      <th>Admin1 Code</th>\n",
       "      <th>Admin2 Code</th>\n",
       "      <th>Geo Locations</th>\n",
       "    </tr>\n",
       "  </thead>\n",
       "  <tbody>\n",
       "    <tr>\n",
       "      <th>2</th>\n",
       "      <td>1902-0012-GTM</td>\n",
       "      <td>1902</td>\n",
       "      <td>12</td>\n",
       "      <td>NaN</td>\n",
       "      <td>Natural</td>\n",
       "      <td>Geophysical</td>\n",
       "      <td>Earthquake</td>\n",
       "      <td>Ground movement</td>\n",
       "      <td>NaN</td>\n",
       "      <td>NaN</td>\n",
       "      <td>...</td>\n",
       "      <td>NaN</td>\n",
       "      <td>NaN</td>\n",
       "      <td>NaN</td>\n",
       "      <td>25000.0</td>\n",
       "      <td>843726.0</td>\n",
       "      <td>2,963047785</td>\n",
       "      <td>NaN</td>\n",
       "      <td>NaN</td>\n",
       "      <td>NaN</td>\n",
       "      <td>NaN</td>\n",
       "    </tr>\n",
       "    <tr>\n",
       "      <th>9</th>\n",
       "      <td>1905-0003-IND</td>\n",
       "      <td>1905</td>\n",
       "      <td>3</td>\n",
       "      <td>NaN</td>\n",
       "      <td>Natural</td>\n",
       "      <td>Geophysical</td>\n",
       "      <td>Earthquake</td>\n",
       "      <td>Ground movement</td>\n",
       "      <td>NaN</td>\n",
       "      <td>NaN</td>\n",
       "      <td>...</td>\n",
       "      <td>NaN</td>\n",
       "      <td>NaN</td>\n",
       "      <td>NaN</td>\n",
       "      <td>25000.0</td>\n",
       "      <td>812477.0</td>\n",
       "      <td>3,077011162</td>\n",
       "      <td>NaN</td>\n",
       "      <td>NaN</td>\n",
       "      <td>NaN</td>\n",
       "      <td>NaN</td>\n",
       "    </tr>\n",
       "  </tbody>\n",
       "</table>\n",
       "<p>2 rows × 50 columns</p>\n",
       "</div>"
      ],
      "text/plain": [
       "          Dis No  Year  Seq Glide Disaster Group Disaster Subgroup  \\\n",
       "2  1902-0012-GTM  1902   12   NaN        Natural       Geophysical   \n",
       "9  1905-0003-IND  1905    3   NaN        Natural       Geophysical   \n",
       "\n",
       "  Disaster Type Disaster Subtype Disaster Subsubtype Event Name  ...  \\\n",
       "2    Earthquake  Ground movement                 NaN        NaN  ...   \n",
       "9    Earthquake  Ground movement                 NaN        NaN  ...   \n",
       "\n",
       "  Reconstruction Costs Adj Insured Damages Insured Damages Adj Total Damages  \\\n",
       "2                      NaN             NaN                 NaN       25000.0   \n",
       "9                      NaN             NaN                 NaN       25000.0   \n",
       "\n",
       "  Total Damages Adj          CPI Adm Level Admin1 Code Admin2 Code  \\\n",
       "2          843726.0  2,963047785       NaN         NaN         NaN   \n",
       "9          812477.0  3,077011162       NaN         NaN         NaN   \n",
       "\n",
       "  Geo Locations  \n",
       "2           NaN  \n",
       "9           NaN  \n",
       "\n",
       "[2 rows x 50 columns]"
      ]
     },
     "execution_count": 169,
     "metadata": {},
     "output_type": "execute_result"
    }
   ],
   "source": [
    "df_earthquake.head(2)"
   ]
  },
  {
   "cell_type": "code",
   "execution_count": 170,
   "metadata": {},
   "outputs": [
    {
     "data": {
      "text/plain": [
       "(1597, 50)"
      ]
     },
     "execution_count": 170,
     "metadata": {},
     "output_type": "execute_result"
    }
   ],
   "source": [
    "df_earthquake.shape"
   ]
  },
  {
   "attachments": {},
   "cell_type": "markdown",
   "metadata": {},
   "source": [
    "## AFECTADOS POR TERREMOTOS"
   ]
  },
  {
   "cell_type": "code",
   "execution_count": 171,
   "metadata": {},
   "outputs": [],
   "source": [
    "affected = ['Total Deaths', 'No Injured', 'No Affected', 'No Homeless', 'Total Affected']\n",
    "for column in affected:\n",
    "    df_earthquake[column].sum()\n"
   ]
  },
  {
   "cell_type": "code",
   "execution_count": 172,
   "metadata": {},
   "outputs": [
    {
     "data": {
      "text/plain": [
       "2398560.0"
      ]
     },
     "execution_count": 172,
     "metadata": {},
     "output_type": "execute_result"
    }
   ],
   "source": [
    "df_earthquake['Total Deaths'].sum()"
   ]
  },
  {
   "cell_type": "code",
   "execution_count": 173,
   "metadata": {},
   "outputs": [
    {
     "data": {
      "text/plain": [
       "2953193.0"
      ]
     },
     "execution_count": 173,
     "metadata": {},
     "output_type": "execute_result"
    }
   ],
   "source": [
    "df_earthquake['No Injured'].sum()"
   ]
  },
  {
   "cell_type": "code",
   "execution_count": 174,
   "metadata": {},
   "outputs": [
    {
     "data": {
      "text/plain": [
       "25358345.0"
      ]
     },
     "execution_count": 174,
     "metadata": {},
     "output_type": "execute_result"
    }
   ],
   "source": [
    "df_earthquake['No Homeless'].sum()"
   ]
  },
  {
   "cell_type": "code",
   "execution_count": 175,
   "metadata": {},
   "outputs": [
    {
     "data": {
      "text/plain": [
       "193147539.0"
      ]
     },
     "execution_count": 175,
     "metadata": {},
     "output_type": "execute_result"
    }
   ],
   "source": [
    "df_earthquake['No Affected'].sum()"
   ]
  },
  {
   "cell_type": "code",
   "execution_count": 176,
   "metadata": {},
   "outputs": [
    {
     "data": {
      "text/plain": [
       "221459077.0"
      ]
     },
     "execution_count": 176,
     "metadata": {},
     "output_type": "execute_result"
    }
   ],
   "source": [
    "df_earthquake['Total Affected'].sum()"
   ]
  },
  {
   "attachments": {},
   "cell_type": "markdown",
   "metadata": {},
   "source": [
    "## Nulos"
   ]
  },
  {
   "cell_type": "code",
   "execution_count": 177,
   "metadata": {},
   "outputs": [
    {
     "data": {
      "text/plain": [
       "Dis No                         0\n",
       "Year                           0\n",
       "Seq                            0\n",
       "Glide                       1480\n",
       "Disaster Group                 0\n",
       "Disaster Subgroup              0\n",
       "Disaster Type                  0\n",
       "Disaster Subtype               0\n",
       "Disaster Subsubtype         1597\n",
       "Event Name                  1596\n",
       "Country                        0\n",
       "ISO                            0\n",
       "Region                         0\n",
       "Continent                      0\n",
       "Location                      40\n",
       "Origin                      1576\n",
       "Associated Dis              1255\n",
       "Associated Dis2             1558\n",
       "OFDA Response               1395\n",
       "Appeal                      1330\n",
       "Declaration                 1311\n",
       "AID Contribution            1482\n",
       "Dis Mag Value                 89\n",
       "Dis Mag Scale                  0\n",
       "Latitude                      50\n",
       "Longitude                     50\n",
       "Local Time                   477\n",
       "River Basin                 1591\n",
       "Start Year                     0\n",
       "Start Month                    2\n",
       "Start Day                      3\n",
       "End Year                       0\n",
       "End Month                      2\n",
       "End Day                        3\n",
       "Total Deaths                 399\n",
       "No Injured                   525\n",
       "No Affected                  755\n",
       "No Homeless                 1131\n",
       "Total Affected               277\n",
       "Reconstruction Costs        1584\n",
       "Reconstruction Costs Adj    1586\n",
       "Insured Damages             1497\n",
       "Insured Damages Adj         1497\n",
       "Total Damages                977\n",
       "Total Damages Adj            980\n",
       "CPI                           17\n",
       "Adm Level                    969\n",
       "Admin1 Code                 1407\n",
       "Admin2 Code                 1127\n",
       "Geo Locations                969\n",
       "dtype: int64"
      ]
     },
     "execution_count": 177,
     "metadata": {},
     "output_type": "execute_result"
    }
   ],
   "source": [
    "df_earthquake.isnull().sum()"
   ]
  },
  {
   "cell_type": "code",
   "execution_count": 178,
   "metadata": {},
   "outputs": [
    {
     "data": {
      "text/plain": [
       "China                         203\n",
       "Indonesia                     145\n",
       "Iran (Islamic Republic of)    137\n",
       "Turkey                        114\n",
       "Japan                          70\n",
       "                             ... \n",
       "Turkmenistan                    1\n",
       "Serbia Montenegro               1\n",
       "Burundi                         1\n",
       "Dominica                        1\n",
       "Wallis and Futuna               1\n",
       "Name: Country, Length: 125, dtype: int64"
      ]
     },
     "execution_count": 178,
     "metadata": {},
     "output_type": "execute_result"
    }
   ],
   "source": [
    "df_earthquake['Country'].value_counts()"
   ]
  },
  {
   "cell_type": "code",
   "execution_count": 179,
   "metadata": {},
   "outputs": [
    {
     "data": {
      "text/plain": [
       "Country\n",
       "Afghanistan                           12622.0\n",
       "Albania                                 626.0\n",
       "Algeria                                6771.0\n",
       "American Samoa                           34.0\n",
       "Argentina                             10476.0\n",
       "                                       ...   \n",
       "Venezuela (Bolivarian Republic of)      423.0\n",
       "Wallis and Futuna                         5.0\n",
       "Yemen                                    10.0\n",
       "Yemen Arab Rep                         2707.0\n",
       "Yugoslavia                             1245.0\n",
       "Name: Total Deaths, Length: 125, dtype: float64"
      ]
     },
     "execution_count": 179,
     "metadata": {},
     "output_type": "execute_result"
    }
   ],
   "source": [
    "a = df_earthquake.groupby('Country')['Total Deaths'].sum()\n",
    "a"
   ]
  },
  {
   "cell_type": "code",
   "execution_count": 182,
   "metadata": {},
   "outputs": [
    {
     "data": {
      "text/plain": [
       "Continent\n",
       "Africa        21585.0\n",
       "Americas     443261.0\n",
       "Asia        1659098.0\n",
       "Europe       268126.0\n",
       "Oceania        6490.0\n",
       "Name: Total Deaths, dtype: float64"
      ]
     },
     "execution_count": 182,
     "metadata": {},
     "output_type": "execute_result"
    }
   ],
   "source": [
    "a = df_earthquake.groupby('Continent')['Total Deaths'].sum()\n",
    "a"
   ]
  },
  {
   "cell_type": "code",
   "execution_count": 190,
   "metadata": {},
   "outputs": [
    {
     "data": {
      "text/plain": [
       "Country      Total Deaths\n",
       "Afghanistan  1.0             4\n",
       "             5.0             3\n",
       "             11.0            2\n",
       "             50.0            2\n",
       "             2.0             1\n",
       "                            ..\n",
       "Yugoslavia   12.0            1\n",
       "             15.0            1\n",
       "             19.0            1\n",
       "             121.0           1\n",
       "             1070.0          1\n",
       "Name: Total Deaths, Length: 882, dtype: int64"
      ]
     },
     "execution_count": 190,
     "metadata": {},
     "output_type": "execute_result"
    }
   ],
   "source": [
    "a = df_earthquake.groupby('Country')['Total Deaths'].value_counts()\n",
    "a"
   ]
  }
 ],
 "metadata": {
  "kernelspec": {
   "display_name": "Python 3",
   "language": "python",
   "name": "python3"
  },
  "language_info": {
   "codemirror_mode": {
    "name": "ipython",
    "version": 3
   },
   "file_extension": ".py",
   "mimetype": "text/x-python",
   "name": "python",
   "nbconvert_exporter": "python",
   "pygments_lexer": "ipython3",
   "version": "3.10.11"
  },
  "orig_nbformat": 4
 },
 "nbformat": 4,
 "nbformat_minor": 2
}

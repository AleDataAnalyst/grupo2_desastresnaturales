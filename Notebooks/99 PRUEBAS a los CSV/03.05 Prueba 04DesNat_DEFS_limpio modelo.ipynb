{
 "cells": [
  {
   "cell_type": "code",
   "execution_count": 2,
   "metadata": {},
   "outputs": [],
   "source": [
    "import pandas as pd\n",
    "import numpy as np\n",
    "import seaborn as sns\n",
    "from ydata_profiling import ProfileReport\n",
    "import matplotlib.pyplot as plt\n",
    "from sklearn.preprocessing import LabelEncoder"
   ]
  },
  {
   "cell_type": "code",
   "execution_count": 3,
   "metadata": {},
   "outputs": [
    {
     "data": {
      "text/html": [
       "<div>\n",
       "<style scoped>\n",
       "    .dataframe tbody tr th:only-of-type {\n",
       "        vertical-align: middle;\n",
       "    }\n",
       "\n",
       "    .dataframe tbody tr th {\n",
       "        vertical-align: top;\n",
       "    }\n",
       "\n",
       "    .dataframe thead th {\n",
       "        text-align: right;\n",
       "    }\n",
       "</style>\n",
       "<table border=\"1\" class=\"dataframe\">\n",
       "  <thead>\n",
       "    <tr style=\"text-align: right;\">\n",
       "      <th></th>\n",
       "      <th>Dis No</th>\n",
       "      <th>Year</th>\n",
       "      <th>Seq</th>\n",
       "      <th>Disaster Subgroup</th>\n",
       "      <th>Disaster Type</th>\n",
       "      <th>Disaster Subtype</th>\n",
       "      <th>Country</th>\n",
       "      <th>ISO</th>\n",
       "      <th>Region</th>\n",
       "      <th>Continent</th>\n",
       "      <th>...</th>\n",
       "      <th>Longitude</th>\n",
       "      <th>Start Year</th>\n",
       "      <th>Start Month</th>\n",
       "      <th>Start Day</th>\n",
       "      <th>End Year</th>\n",
       "      <th>End Month</th>\n",
       "      <th>End Day</th>\n",
       "      <th>Total Deaths</th>\n",
       "      <th>Total Affected</th>\n",
       "      <th>Total Damages Adj</th>\n",
       "    </tr>\n",
       "  </thead>\n",
       "  <tbody>\n",
       "    <tr>\n",
       "      <th>0</th>\n",
       "      <td>1900-9002-CPV</td>\n",
       "      <td>1900</td>\n",
       "      <td>9002</td>\n",
       "      <td>Climatological</td>\n",
       "      <td>Drought</td>\n",
       "      <td>Drought</td>\n",
       "      <td>Cabo Verde</td>\n",
       "      <td>CPV</td>\n",
       "      <td>Western Africa</td>\n",
       "      <td>Africa</td>\n",
       "      <td>...</td>\n",
       "      <td>NaN</td>\n",
       "      <td>1900</td>\n",
       "      <td>0</td>\n",
       "      <td>0</td>\n",
       "      <td>1900</td>\n",
       "      <td>0</td>\n",
       "      <td>0</td>\n",
       "      <td>11000</td>\n",
       "      <td>0</td>\n",
       "      <td>0</td>\n",
       "    </tr>\n",
       "    <tr>\n",
       "      <th>1</th>\n",
       "      <td>1900-9001-IND</td>\n",
       "      <td>1900</td>\n",
       "      <td>9001</td>\n",
       "      <td>Climatological</td>\n",
       "      <td>Drought</td>\n",
       "      <td>Drought</td>\n",
       "      <td>India</td>\n",
       "      <td>IND</td>\n",
       "      <td>Southern Asia</td>\n",
       "      <td>Asia</td>\n",
       "      <td>...</td>\n",
       "      <td>NaN</td>\n",
       "      <td>1900</td>\n",
       "      <td>0</td>\n",
       "      <td>0</td>\n",
       "      <td>1900</td>\n",
       "      <td>0</td>\n",
       "      <td>0</td>\n",
       "      <td>1250000</td>\n",
       "      <td>0</td>\n",
       "      <td>0</td>\n",
       "    </tr>\n",
       "    <tr>\n",
       "      <th>2</th>\n",
       "      <td>1902-0012-GTM</td>\n",
       "      <td>1902</td>\n",
       "      <td>12</td>\n",
       "      <td>Geophysical</td>\n",
       "      <td>Earthquake</td>\n",
       "      <td>Ground movement</td>\n",
       "      <td>Guatemala</td>\n",
       "      <td>GTM</td>\n",
       "      <td>Central America</td>\n",
       "      <td>Americas</td>\n",
       "      <td>...</td>\n",
       "      <td>-91</td>\n",
       "      <td>1902</td>\n",
       "      <td>4</td>\n",
       "      <td>18</td>\n",
       "      <td>1902</td>\n",
       "      <td>4</td>\n",
       "      <td>18</td>\n",
       "      <td>2000</td>\n",
       "      <td>0</td>\n",
       "      <td>843726</td>\n",
       "    </tr>\n",
       "    <tr>\n",
       "      <th>3</th>\n",
       "      <td>1904-0003-BGD</td>\n",
       "      <td>1904</td>\n",
       "      <td>3</td>\n",
       "      <td>Meteorological</td>\n",
       "      <td>Storm</td>\n",
       "      <td>Tropical cyclone</td>\n",
       "      <td>Bangladesh</td>\n",
       "      <td>BGD</td>\n",
       "      <td>Southern Asia</td>\n",
       "      <td>Asia</td>\n",
       "      <td>...</td>\n",
       "      <td>NaN</td>\n",
       "      <td>1904</td>\n",
       "      <td>11</td>\n",
       "      <td>0</td>\n",
       "      <td>1904</td>\n",
       "      <td>11</td>\n",
       "      <td>0</td>\n",
       "      <td>0</td>\n",
       "      <td>0</td>\n",
       "      <td>0</td>\n",
       "    </tr>\n",
       "    <tr>\n",
       "      <th>4</th>\n",
       "      <td>1905-0003-IND</td>\n",
       "      <td>1905</td>\n",
       "      <td>3</td>\n",
       "      <td>Geophysical</td>\n",
       "      <td>Earthquake</td>\n",
       "      <td>Ground movement</td>\n",
       "      <td>India</td>\n",
       "      <td>IND</td>\n",
       "      <td>Southern Asia</td>\n",
       "      <td>Asia</td>\n",
       "      <td>...</td>\n",
       "      <td>76.16</td>\n",
       "      <td>1905</td>\n",
       "      <td>4</td>\n",
       "      <td>4</td>\n",
       "      <td>1905</td>\n",
       "      <td>4</td>\n",
       "      <td>4</td>\n",
       "      <td>20000</td>\n",
       "      <td>0</td>\n",
       "      <td>812477</td>\n",
       "    </tr>\n",
       "  </tbody>\n",
       "</table>\n",
       "<p>5 rows × 26 columns</p>\n",
       "</div>"
      ],
      "text/plain": [
       "          Dis No  Year   Seq Disaster Subgroup Disaster Type  \\\n",
       "0  1900-9002-CPV  1900  9002    Climatological       Drought   \n",
       "1  1900-9001-IND  1900  9001    Climatological       Drought   \n",
       "2  1902-0012-GTM  1902    12       Geophysical    Earthquake   \n",
       "3  1904-0003-BGD  1904     3    Meteorological         Storm   \n",
       "4  1905-0003-IND  1905     3       Geophysical    Earthquake   \n",
       "\n",
       "   Disaster Subtype     Country  ISO           Region Continent  ...  \\\n",
       "0           Drought  Cabo Verde  CPV   Western Africa    Africa  ...   \n",
       "1           Drought       India  IND    Southern Asia      Asia  ...   \n",
       "2   Ground movement   Guatemala  GTM  Central America  Americas  ...   \n",
       "3  Tropical cyclone  Bangladesh  BGD    Southern Asia      Asia  ...   \n",
       "4   Ground movement       India  IND    Southern Asia      Asia  ...   \n",
       "\n",
       "  Longitude Start Year Start Month  Start Day End Year End Month End Day  \\\n",
       "0       NaN       1900           0          0     1900         0       0   \n",
       "1       NaN       1900           0          0     1900         0       0   \n",
       "2       -91       1902           4         18     1902         4      18   \n",
       "3       NaN       1904          11          0     1904        11       0   \n",
       "4     76.16       1905           4          4     1905         4       4   \n",
       "\n",
       "   Total Deaths  Total Affected  Total Damages Adj  \n",
       "0         11000               0                  0  \n",
       "1       1250000               0                  0  \n",
       "2          2000               0             843726  \n",
       "3             0               0                  0  \n",
       "4         20000               0             812477  \n",
       "\n",
       "[5 rows x 26 columns]"
      ]
     },
     "execution_count": 3,
     "metadata": {},
     "output_type": "execute_result"
    }
   ],
   "source": [
    "df = pd.read_csv('../99 PRUEBAS a los CSV/01 Prueba quitando eventos/04DesNat_DEFS_limpio_fc.csv')\n",
    "df.head()"
   ]
  },
  {
   "cell_type": "code",
   "execution_count": 4,
   "metadata": {},
   "outputs": [
    {
     "data": {
      "text/plain": [
       "(12826, 26)"
      ]
     },
     "execution_count": 4,
     "metadata": {},
     "output_type": "execute_result"
    }
   ],
   "source": [
    "df.shape"
   ]
  },
  {
   "cell_type": "code",
   "execution_count": 5,
   "metadata": {},
   "outputs": [
    {
     "name": "stdout",
     "output_type": "stream",
     "text": [
      "<class 'pandas.core.frame.DataFrame'>\n",
      "RangeIndex: 12826 entries, 0 to 12825\n",
      "Data columns (total 26 columns):\n",
      " #   Column             Non-Null Count  Dtype \n",
      "---  ------             --------------  ----- \n",
      " 0   Dis No             12826 non-null  object\n",
      " 1   Year               12826 non-null  int64 \n",
      " 2   Seq                12826 non-null  int64 \n",
      " 3   Disaster Subgroup  12826 non-null  object\n",
      " 4   Disaster Type      12826 non-null  object\n",
      " 5   Disaster Subtype   9766 non-null   object\n",
      " 6   Country            12826 non-null  object\n",
      " 7   ISO                12826 non-null  object\n",
      " 8   Region             12826 non-null  object\n",
      " 9   Continent          12826 non-null  object\n",
      " 10  Location           11583 non-null  object\n",
      " 11  Origin             3680 non-null   object\n",
      " 12  Associated Dis     3360 non-null   object\n",
      " 13  Dis Mag Value      12826 non-null  int64 \n",
      " 14  Dis Mag Scale      12826 non-null  object\n",
      " 15  Latitude           2659 non-null   object\n",
      " 16  Longitude          2659 non-null   object\n",
      " 17  Start Year         12826 non-null  int64 \n",
      " 18  Start Month        12826 non-null  int64 \n",
      " 19  Start Day          12826 non-null  int64 \n",
      " 20  End Year           12826 non-null  int64 \n",
      " 21  End Month          12826 non-null  int64 \n",
      " 22  End Day            12826 non-null  int64 \n",
      " 23  Total Deaths       12826 non-null  int64 \n",
      " 24  Total Affected     12826 non-null  int64 \n",
      " 25  Total Damages Adj  12826 non-null  int64 \n",
      "dtypes: int64(12), object(14)\n",
      "memory usage: 2.5+ MB\n"
     ]
    }
   ],
   "source": [
    "df.info()"
   ]
  },
  {
   "cell_type": "code",
   "execution_count": 6,
   "metadata": {},
   "outputs": [
    {
     "data": {
      "text/plain": [
       "['Year',\n",
       " 'Seq',\n",
       " 'Dis Mag Value',\n",
       " 'Start Year',\n",
       " 'Start Month',\n",
       " 'Start Day',\n",
       " 'End Year',\n",
       " 'End Month',\n",
       " 'End Day',\n",
       " 'Total Deaths',\n",
       " 'Total Affected',\n",
       " 'Total Damages Adj']"
      ]
     },
     "execution_count": 6,
     "metadata": {},
     "output_type": "execute_result"
    }
   ],
   "source": [
    "# Columnas númericas\n",
    "df.select_dtypes(include=np.number).columns.to_list()"
   ]
  },
  {
   "cell_type": "code",
   "execution_count": 7,
   "metadata": {},
   "outputs": [
    {
     "data": {
      "text/plain": [
       "Dis No                   0\n",
       "Year                     0\n",
       "Seq                      0\n",
       "Disaster Subgroup        0\n",
       "Disaster Type            0\n",
       "Disaster Subtype      3060\n",
       "Country                  0\n",
       "ISO                      0\n",
       "Region                   0\n",
       "Continent                0\n",
       "Location              1243\n",
       "Origin                9146\n",
       "Associated Dis        9466\n",
       "Dis Mag Value            0\n",
       "Dis Mag Scale            0\n",
       "Latitude             10167\n",
       "Longitude            10167\n",
       "Start Year               0\n",
       "Start Month              0\n",
       "Start Day                0\n",
       "End Year                 0\n",
       "End Month                0\n",
       "End Day                  0\n",
       "Total Deaths             0\n",
       "Total Affected           0\n",
       "Total Damages Adj        0\n",
       "dtype: int64"
      ]
     },
     "execution_count": 7,
     "metadata": {},
     "output_type": "execute_result"
    }
   ],
   "source": [
    "df.isnull().sum()"
   ]
  },
  {
   "cell_type": "code",
   "execution_count": 9,
   "metadata": {},
   "outputs": [],
   "source": [
    "df = {\n",
    "    \"Continent\":['Africa', 'Asia', 'Europe', 'Americas', 'Oceania']\n",
    "}\n",
    "\n",
    "df = pd.DataFrame(data)"
   ]
  },
  {
   "cell_type": "code",
   "execution_count": null,
   "metadata": {},
   "outputs": [],
   "source": [
    "eventos_con_mas_impacto = [\"Flood\", \"Storm\", \"Earthquake\", \"Drought\"]\n",
    "\n",
    "df = df[df['Continent'].isin(eventos_con_mas_impacto)]"
   ]
  },
  {
   "cell_type": "code",
   "execution_count": null,
   "metadata": {},
   "outputs": [],
   "source": [
    "label_encoder = LabelEncoder()\n",
    "df['Continent_Num'] = label_encoder.fit_transform(df['Continent'])\n",
    "df"
   ]
  },
  {
   "cell_type": "code",
   "execution_count": 14,
   "metadata": {},
   "outputs": [
    {
     "data": {
      "text/html": [
       "<div>\n",
       "<style scoped>\n",
       "    .dataframe tbody tr th:only-of-type {\n",
       "        vertical-align: middle;\n",
       "    }\n",
       "\n",
       "    .dataframe tbody tr th {\n",
       "        vertical-align: top;\n",
       "    }\n",
       "\n",
       "    .dataframe thead th {\n",
       "        text-align: right;\n",
       "    }\n",
       "</style>\n",
       "<table border=\"1\" class=\"dataframe\">\n",
       "  <thead>\n",
       "    <tr style=\"text-align: right;\">\n",
       "      <th></th>\n",
       "      <th>Continent</th>\n",
       "      <th>Continent_Num</th>\n",
       "    </tr>\n",
       "  </thead>\n",
       "  <tbody>\n",
       "    <tr>\n",
       "      <th>0</th>\n",
       "      <td>Africa</td>\n",
       "      <td>0</td>\n",
       "    </tr>\n",
       "    <tr>\n",
       "      <th>1</th>\n",
       "      <td>Asia</td>\n",
       "      <td>2</td>\n",
       "    </tr>\n",
       "    <tr>\n",
       "      <th>2</th>\n",
       "      <td>Europe</td>\n",
       "      <td>3</td>\n",
       "    </tr>\n",
       "    <tr>\n",
       "      <th>3</th>\n",
       "      <td>Americas</td>\n",
       "      <td>1</td>\n",
       "    </tr>\n",
       "    <tr>\n",
       "      <th>4</th>\n",
       "      <td>Oceania</td>\n",
       "      <td>4</td>\n",
       "    </tr>\n",
       "  </tbody>\n",
       "</table>\n",
       "</div>"
      ],
      "text/plain": [
       "  Continent  Continent_Num\n",
       "0    Africa              0\n",
       "1      Asia              2\n",
       "2    Europe              3\n",
       "3  Americas              1\n",
       "4   Oceania              4"
      ]
     },
     "execution_count": 14,
     "metadata": {},
     "output_type": "execute_result"
    }
   ],
   "source": [
    "df.head(10)"
   ]
  },
  {
   "cell_type": "code",
   "execution_count": 15,
   "metadata": {},
   "outputs": [],
   "source": [
    "df = data"
   ]
  },
  {
   "cell_type": "code",
   "execution_count": 16,
   "metadata": {},
   "outputs": [
    {
     "ename": "AttributeError",
     "evalue": "'dict' object has no attribute 'head'",
     "output_type": "error",
     "traceback": [
      "\u001b[1;31m---------------------------------------------------------------------------\u001b[0m",
      "\u001b[1;31mAttributeError\u001b[0m                            Traceback (most recent call last)",
      "Cell \u001b[1;32mIn[16], line 1\u001b[0m\n\u001b[1;32m----> 1\u001b[0m df\u001b[39m.\u001b[39;49mhead(\u001b[39m10\u001b[39m)\n",
      "\u001b[1;31mAttributeError\u001b[0m: 'dict' object has no attribute 'head'"
     ]
    }
   ],
   "source": [
    "df.head(10)"
   ]
  }
 ],
 "metadata": {
  "kernelspec": {
   "display_name": "Python 3",
   "language": "python",
   "name": "python3"
  },
  "language_info": {
   "codemirror_mode": {
    "name": "ipython",
    "version": 3
   },
   "file_extension": ".py",
   "mimetype": "text/x-python",
   "name": "python",
   "nbconvert_exporter": "python",
   "pygments_lexer": "ipython3",
   "version": "3.10.11"
  },
  "orig_nbformat": 4
 },
 "nbformat": 4,
 "nbformat_minor": 2
}

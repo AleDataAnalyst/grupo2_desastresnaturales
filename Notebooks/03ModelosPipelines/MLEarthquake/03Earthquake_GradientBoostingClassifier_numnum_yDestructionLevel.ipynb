{
 "cells": [
  {
   "cell_type": "markdown",
   "metadata": {},
   "source": [
    "# ML Pipeline de Operaciones en Earthquake para Predecir Destruction Level con GradientBoostingClassifier"
   ]
  },
  {
   "cell_type": "markdown",
   "metadata": {},
   "source": [
    "## Objetivos"
   ]
  },
  {
   "cell_type": "markdown",
   "metadata": {},
   "source": [
    "### Predecir Destruction Level (y numérica) a partir de X con features numéricas.\n",
    "\n",
    "Agrupar múltiples operaciones en un mismo objeto:\n",
    "\n",
    "* Borrar columnas, imputar valores faltantes\n",
    "* Preprocessing: Umbrales y función estadística para determinar niveles de bajo a muy alto a imputar en columna categórica Earthquake Type.\n",
    "* OneHotEncoder para pasar de columna categórica Earthquake Type a numérica Destruction Level.\n",
    "* Pipeline:\n",
    "    + Imputar most_frequent a nulos con SimpleImputer\n",
    "    + Escalar características numéricas\n",
    "    + GradientBoostingClassifier\n",
    "* Modelado para predecir Destruction Level"
   ]
  },
  {
   "cell_type": "markdown",
   "metadata": {},
   "source": [
    "## Importar librerías"
   ]
  },
  {
   "cell_type": "code",
   "execution_count": 120,
   "metadata": {},
   "outputs": [],
   "source": [
    "import numpy as np\n",
    "import pandas as pd\n",
    "import matplotlib.pyplot as plt\n",
    "import seaborn as sns\n",
    "\n",
    "# Split X train y test\n",
    "from sklearn.model_selection import train_test_split\n",
    "\n",
    "# Modelos para validación cruzada con cross_val_score y cross_validate\n",
    "from sklearn.ensemble import GradientBoostingClassifier # Elegido\n",
    "from sklearn.linear_model import LinearRegression\n",
    "from sklearn import svm\n",
    "from sklearn.svm import SVR\n",
    "from sklearn.ensemble import GradientBoostingClassifier\n",
    "from sklearn.neural_network import MLPClassifier\n",
    "from sklearn.neighbors import KNeighborsClassifier\n",
    "from sklearn.tree import DecisionTreeClassifier\n",
    "\n",
    "# Modelos para validar por regresión\n",
    "from sklearn.ensemble import RandomForestRegressor\n",
    "from sklearn.linear_model import ElasticNet\n",
    "from sklearn.tree import DecisionTreeRegressor\n",
    "\n",
    "# Validación de modelos:\n",
    "from sklearn.model_selection import cross_val_score\n",
    "from sklearn.model_selection import cross_validate\n",
    "from sklearn.model_selection import StratifiedKFold\n",
    "from sklearn.model_selection import GridSearchCV\n",
    "\n",
    "# Calificación de modelos\n",
    "from sklearn.metrics import classification_report\n",
    "from sklearn.metrics import mean_squared_error, mean_absolute_error, r2_score\n",
    "from sklearn.metrics import make_scorer\n",
    "from sklearn.metrics import SCORERS\n",
    "\n",
    "# Para imputación categórica a numérica y predicción de columna numérica Destruction Level en Pipeline\n",
    "from sklearn.compose import ColumnTransformer\n",
    "from sklearn.preprocessing import MinMaxScaler, StandardScaler, OneHotEncoder\n",
    "\n",
    "from sklearn.impute import SimpleImputer\n",
    "from sklearn.neighbors import KNeighborsRegressor\n",
    "\n",
    "# Convertir columnas categóricas (Disaster Subtype, Origin, Associated Disaster) a numéricas para predecir Destruction Level Dis o Mag Value\n",
    "from sklearn.preprocessing import LabelEncoder\n",
    "from sklearn.cluster import KMeans\n",
    "\n",
    "# Pipeline\n",
    "from sklearn.pipeline import Pipeline\n",
    "import joblib # guardar pipeline"
   ]
  },
  {
   "cell_type": "markdown",
   "metadata": {},
   "source": [
    "## Cargar datos"
   ]
  },
  {
   "cell_type": "code",
   "execution_count": 121,
   "metadata": {},
   "outputs": [
    {
     "data": {
      "text/html": [
       "<div>\n",
       "<style scoped>\n",
       "    .dataframe tbody tr th:only-of-type {\n",
       "        vertical-align: middle;\n",
       "    }\n",
       "\n",
       "    .dataframe tbody tr th {\n",
       "        vertical-align: top;\n",
       "    }\n",
       "\n",
       "    .dataframe thead th {\n",
       "        text-align: right;\n",
       "    }\n",
       "</style>\n",
       "<table border=\"1\" class=\"dataframe\">\n",
       "  <thead>\n",
       "    <tr style=\"text-align: right;\">\n",
       "      <th></th>\n",
       "      <th>Dis No</th>\n",
       "      <th>Year</th>\n",
       "      <th>Seq</th>\n",
       "      <th>Disaster Subgroup</th>\n",
       "      <th>Disaster Type</th>\n",
       "      <th>Disaster Subtype</th>\n",
       "      <th>Country</th>\n",
       "      <th>ISO</th>\n",
       "      <th>Region</th>\n",
       "      <th>Continent</th>\n",
       "      <th>...</th>\n",
       "      <th>Longitude</th>\n",
       "      <th>Start Year</th>\n",
       "      <th>Start Month</th>\n",
       "      <th>Start Day</th>\n",
       "      <th>End Year</th>\n",
       "      <th>End Month</th>\n",
       "      <th>End Day</th>\n",
       "      <th>Total Deaths</th>\n",
       "      <th>Total Affected</th>\n",
       "      <th>Total Damages Adj</th>\n",
       "    </tr>\n",
       "  </thead>\n",
       "  <tbody>\n",
       "    <tr>\n",
       "      <th>0</th>\n",
       "      <td>1900-9002-CPV</td>\n",
       "      <td>1900</td>\n",
       "      <td>9002</td>\n",
       "      <td>Climatological</td>\n",
       "      <td>Drought</td>\n",
       "      <td>Drought</td>\n",
       "      <td>Cabo Verde</td>\n",
       "      <td>CPV</td>\n",
       "      <td>Western Africa</td>\n",
       "      <td>Africa</td>\n",
       "      <td>...</td>\n",
       "      <td>NaN</td>\n",
       "      <td>1900</td>\n",
       "      <td>0</td>\n",
       "      <td>0</td>\n",
       "      <td>1900</td>\n",
       "      <td>0</td>\n",
       "      <td>0</td>\n",
       "      <td>11000</td>\n",
       "      <td>0</td>\n",
       "      <td>0</td>\n",
       "    </tr>\n",
       "    <tr>\n",
       "      <th>1</th>\n",
       "      <td>1900-9001-IND</td>\n",
       "      <td>1900</td>\n",
       "      <td>9001</td>\n",
       "      <td>Climatological</td>\n",
       "      <td>Drought</td>\n",
       "      <td>Drought</td>\n",
       "      <td>India</td>\n",
       "      <td>IND</td>\n",
       "      <td>Southern Asia</td>\n",
       "      <td>Asia</td>\n",
       "      <td>...</td>\n",
       "      <td>NaN</td>\n",
       "      <td>1900</td>\n",
       "      <td>0</td>\n",
       "      <td>0</td>\n",
       "      <td>1900</td>\n",
       "      <td>0</td>\n",
       "      <td>0</td>\n",
       "      <td>1250000</td>\n",
       "      <td>0</td>\n",
       "      <td>0</td>\n",
       "    </tr>\n",
       "    <tr>\n",
       "      <th>2</th>\n",
       "      <td>1902-0012-GTM</td>\n",
       "      <td>1902</td>\n",
       "      <td>12</td>\n",
       "      <td>Geophysical</td>\n",
       "      <td>Earthquake</td>\n",
       "      <td>Ground movement</td>\n",
       "      <td>Guatemala</td>\n",
       "      <td>GTM</td>\n",
       "      <td>Central America</td>\n",
       "      <td>Americas</td>\n",
       "      <td>...</td>\n",
       "      <td>-91</td>\n",
       "      <td>1902</td>\n",
       "      <td>4</td>\n",
       "      <td>18</td>\n",
       "      <td>1902</td>\n",
       "      <td>4</td>\n",
       "      <td>18</td>\n",
       "      <td>2000</td>\n",
       "      <td>0</td>\n",
       "      <td>843726</td>\n",
       "    </tr>\n",
       "    <tr>\n",
       "      <th>3</th>\n",
       "      <td>1902-0003-GTM</td>\n",
       "      <td>1902</td>\n",
       "      <td>3</td>\n",
       "      <td>Geophysical</td>\n",
       "      <td>Volcanic activity</td>\n",
       "      <td>Ash fall</td>\n",
       "      <td>Guatemala</td>\n",
       "      <td>GTM</td>\n",
       "      <td>Central America</td>\n",
       "      <td>Americas</td>\n",
       "      <td>...</td>\n",
       "      <td>NaN</td>\n",
       "      <td>1902</td>\n",
       "      <td>4</td>\n",
       "      <td>8</td>\n",
       "      <td>1902</td>\n",
       "      <td>4</td>\n",
       "      <td>8</td>\n",
       "      <td>1000</td>\n",
       "      <td>0</td>\n",
       "      <td>0</td>\n",
       "    </tr>\n",
       "    <tr>\n",
       "      <th>4</th>\n",
       "      <td>1902-0010-GTM</td>\n",
       "      <td>1902</td>\n",
       "      <td>10</td>\n",
       "      <td>Geophysical</td>\n",
       "      <td>Volcanic activity</td>\n",
       "      <td>Ash fall</td>\n",
       "      <td>Guatemala</td>\n",
       "      <td>GTM</td>\n",
       "      <td>Central America</td>\n",
       "      <td>Americas</td>\n",
       "      <td>...</td>\n",
       "      <td>NaN</td>\n",
       "      <td>1902</td>\n",
       "      <td>10</td>\n",
       "      <td>24</td>\n",
       "      <td>1902</td>\n",
       "      <td>10</td>\n",
       "      <td>24</td>\n",
       "      <td>6000</td>\n",
       "      <td>0</td>\n",
       "      <td>0</td>\n",
       "    </tr>\n",
       "    <tr>\n",
       "      <th>5</th>\n",
       "      <td>1903-0006-CAN</td>\n",
       "      <td>1903</td>\n",
       "      <td>6</td>\n",
       "      <td>Geophysical</td>\n",
       "      <td>Mass movement (dry)</td>\n",
       "      <td>Rockfall</td>\n",
       "      <td>Canada</td>\n",
       "      <td>CAN</td>\n",
       "      <td>Northern America</td>\n",
       "      <td>Americas</td>\n",
       "      <td>...</td>\n",
       "      <td>NaN</td>\n",
       "      <td>1903</td>\n",
       "      <td>4</td>\n",
       "      <td>29</td>\n",
       "      <td>1903</td>\n",
       "      <td>4</td>\n",
       "      <td>29</td>\n",
       "      <td>76</td>\n",
       "      <td>23</td>\n",
       "      <td>0</td>\n",
       "    </tr>\n",
       "    <tr>\n",
       "      <th>6</th>\n",
       "      <td>1903-0012-COM</td>\n",
       "      <td>1903</td>\n",
       "      <td>12</td>\n",
       "      <td>Geophysical</td>\n",
       "      <td>Volcanic activity</td>\n",
       "      <td>Ash fall</td>\n",
       "      <td>Comoros (the)</td>\n",
       "      <td>COM</td>\n",
       "      <td>Eastern Africa</td>\n",
       "      <td>Africa</td>\n",
       "      <td>...</td>\n",
       "      <td>NaN</td>\n",
       "      <td>1903</td>\n",
       "      <td>0</td>\n",
       "      <td>0</td>\n",
       "      <td>1903</td>\n",
       "      <td>0</td>\n",
       "      <td>0</td>\n",
       "      <td>17</td>\n",
       "      <td>0</td>\n",
       "      <td>0</td>\n",
       "    </tr>\n",
       "    <tr>\n",
       "      <th>7</th>\n",
       "      <td>1904-0003-BGD</td>\n",
       "      <td>1904</td>\n",
       "      <td>3</td>\n",
       "      <td>Meteorological</td>\n",
       "      <td>Storm</td>\n",
       "      <td>Tropical cyclone</td>\n",
       "      <td>Bangladesh</td>\n",
       "      <td>BGD</td>\n",
       "      <td>Southern Asia</td>\n",
       "      <td>Asia</td>\n",
       "      <td>...</td>\n",
       "      <td>NaN</td>\n",
       "      <td>1904</td>\n",
       "      <td>11</td>\n",
       "      <td>0</td>\n",
       "      <td>1904</td>\n",
       "      <td>11</td>\n",
       "      <td>0</td>\n",
       "      <td>0</td>\n",
       "      <td>0</td>\n",
       "      <td>0</td>\n",
       "    </tr>\n",
       "    <tr>\n",
       "      <th>8</th>\n",
       "      <td>1905-0005-CAN</td>\n",
       "      <td>1905</td>\n",
       "      <td>5</td>\n",
       "      <td>Geophysical</td>\n",
       "      <td>Mass movement (dry)</td>\n",
       "      <td>Rockfall</td>\n",
       "      <td>Canada</td>\n",
       "      <td>CAN</td>\n",
       "      <td>Northern America</td>\n",
       "      <td>Americas</td>\n",
       "      <td>...</td>\n",
       "      <td>NaN</td>\n",
       "      <td>1905</td>\n",
       "      <td>8</td>\n",
       "      <td>13</td>\n",
       "      <td>1905</td>\n",
       "      <td>8</td>\n",
       "      <td>13</td>\n",
       "      <td>18</td>\n",
       "      <td>18</td>\n",
       "      <td>0</td>\n",
       "    </tr>\n",
       "    <tr>\n",
       "      <th>9</th>\n",
       "      <td>1905-0003-IND</td>\n",
       "      <td>1905</td>\n",
       "      <td>3</td>\n",
       "      <td>Geophysical</td>\n",
       "      <td>Earthquake</td>\n",
       "      <td>Ground movement</td>\n",
       "      <td>India</td>\n",
       "      <td>IND</td>\n",
       "      <td>Southern Asia</td>\n",
       "      <td>Asia</td>\n",
       "      <td>...</td>\n",
       "      <td>76.16</td>\n",
       "      <td>1905</td>\n",
       "      <td>4</td>\n",
       "      <td>4</td>\n",
       "      <td>1905</td>\n",
       "      <td>4</td>\n",
       "      <td>4</td>\n",
       "      <td>20000</td>\n",
       "      <td>0</td>\n",
       "      <td>812477</td>\n",
       "    </tr>\n",
       "  </tbody>\n",
       "</table>\n",
       "<p>10 rows × 26 columns</p>\n",
       "</div>"
      ],
      "text/plain": [
       "          Dis No  Year   Seq Disaster Subgroup        Disaster Type  \\\n",
       "0  1900-9002-CPV  1900  9002    Climatological              Drought   \n",
       "1  1900-9001-IND  1900  9001    Climatological              Drought   \n",
       "2  1902-0012-GTM  1902    12       Geophysical           Earthquake   \n",
       "3  1902-0003-GTM  1902     3       Geophysical    Volcanic activity   \n",
       "4  1902-0010-GTM  1902    10       Geophysical    Volcanic activity   \n",
       "5  1903-0006-CAN  1903     6       Geophysical  Mass movement (dry)   \n",
       "6  1903-0012-COM  1903    12       Geophysical    Volcanic activity   \n",
       "7  1904-0003-BGD  1904     3    Meteorological                Storm   \n",
       "8  1905-0005-CAN  1905     5       Geophysical  Mass movement (dry)   \n",
       "9  1905-0003-IND  1905     3       Geophysical           Earthquake   \n",
       "\n",
       "   Disaster Subtype        Country  ISO            Region Continent  ...  \\\n",
       "0           Drought     Cabo Verde  CPV    Western Africa    Africa  ...   \n",
       "1           Drought          India  IND     Southern Asia      Asia  ...   \n",
       "2   Ground movement      Guatemala  GTM   Central America  Americas  ...   \n",
       "3          Ash fall      Guatemala  GTM   Central America  Americas  ...   \n",
       "4          Ash fall      Guatemala  GTM   Central America  Americas  ...   \n",
       "5          Rockfall         Canada  CAN  Northern America  Americas  ...   \n",
       "6          Ash fall  Comoros (the)  COM    Eastern Africa    Africa  ...   \n",
       "7  Tropical cyclone     Bangladesh  BGD     Southern Asia      Asia  ...   \n",
       "8          Rockfall         Canada  CAN  Northern America  Americas  ...   \n",
       "9   Ground movement          India  IND     Southern Asia      Asia  ...   \n",
       "\n",
       "  Longitude Start Year Start Month  Start Day End Year End Month End Day  \\\n",
       "0       NaN       1900           0          0     1900         0       0   \n",
       "1       NaN       1900           0          0     1900         0       0   \n",
       "2       -91       1902           4         18     1902         4      18   \n",
       "3       NaN       1902           4          8     1902         4       8   \n",
       "4       NaN       1902          10         24     1902        10      24   \n",
       "5       NaN       1903           4         29     1903         4      29   \n",
       "6       NaN       1903           0          0     1903         0       0   \n",
       "7       NaN       1904          11          0     1904        11       0   \n",
       "8       NaN       1905           8         13     1905         8      13   \n",
       "9     76.16       1905           4          4     1905         4       4   \n",
       "\n",
       "   Total Deaths  Total Affected  Total Damages Adj  \n",
       "0         11000               0                  0  \n",
       "1       1250000               0                  0  \n",
       "2          2000               0             843726  \n",
       "3          1000               0                  0  \n",
       "4          6000               0                  0  \n",
       "5            76              23                  0  \n",
       "6            17               0                  0  \n",
       "7             0               0                  0  \n",
       "8            18              18                  0  \n",
       "9         20000               0             812477  \n",
       "\n",
       "[10 rows x 26 columns]"
      ]
     },
     "execution_count": 121,
     "metadata": {},
     "output_type": "execute_result"
    }
   ],
   "source": [
    "df = pd.read_csv('../../../Data/03Limpio/03desastreslimpio.csv')\n",
    "df.head(10)"
   ]
  },
  {
   "cell_type": "markdown",
   "metadata": {},
   "source": [
    "## Comprobación Básica df"
   ]
  },
  {
   "cell_type": "code",
   "execution_count": 122,
   "metadata": {},
   "outputs": [
    {
     "data": {
      "text/plain": [
       "(16636, 26)"
      ]
     },
     "execution_count": 122,
     "metadata": {},
     "output_type": "execute_result"
    }
   ],
   "source": [
    "df.shape"
   ]
  },
  {
   "cell_type": "code",
   "execution_count": 123,
   "metadata": {},
   "outputs": [
    {
     "name": "stdout",
     "output_type": "stream",
     "text": [
      "<class 'pandas.core.frame.DataFrame'>\n",
      "RangeIndex: 16636 entries, 0 to 16635\n",
      "Data columns (total 26 columns):\n",
      " #   Column             Non-Null Count  Dtype \n",
      "---  ------             --------------  ----- \n",
      " 0   Dis No             16636 non-null  object\n",
      " 1   Year               16636 non-null  int64 \n",
      " 2   Seq                16636 non-null  int64 \n",
      " 3   Disaster Subgroup  16636 non-null  object\n",
      " 4   Disaster Type      16636 non-null  object\n",
      " 5   Disaster Subtype   13313 non-null  object\n",
      " 6   Country            16636 non-null  object\n",
      " 7   ISO                16636 non-null  object\n",
      " 8   Region             16636 non-null  object\n",
      " 9   Continent          16636 non-null  object\n",
      " 10  Location           14825 non-null  object\n",
      " 11  Origin             4085 non-null   object\n",
      " 12  Associated Dis     3593 non-null   object\n",
      " 13  Dis Mag Value      16636 non-null  int64 \n",
      " 14  Dis Mag Scale      15416 non-null  object\n",
      " 15  Latitude           2775 non-null   object\n",
      " 16  Longitude          2775 non-null   object\n",
      " 17  Start Year         16636 non-null  int64 \n",
      " 18  Start Month        16636 non-null  int64 \n",
      " 19  Start Day          16636 non-null  int64 \n",
      " 20  End Year           16636 non-null  int64 \n",
      " 21  End Month          16636 non-null  int64 \n",
      " 22  End Day            16636 non-null  int64 \n",
      " 23  Total Deaths       16636 non-null  int64 \n",
      " 24  Total Affected     16636 non-null  int64 \n",
      " 25  Total Damages Adj  16636 non-null  int64 \n",
      "dtypes: int64(12), object(14)\n",
      "memory usage: 3.3+ MB\n"
     ]
    }
   ],
   "source": [
    "df.info()"
   ]
  },
  {
   "cell_type": "code",
   "execution_count": 124,
   "metadata": {},
   "outputs": [
    {
     "data": {
      "text/plain": [
       "Index(['Dis No', 'Year', 'Seq', 'Disaster Subgroup', 'Disaster Type',\n",
       "       'Disaster Subtype', 'Country', 'ISO', 'Region', 'Continent', 'Location',\n",
       "       'Origin', 'Associated Dis', 'Dis Mag Value', 'Dis Mag Scale',\n",
       "       'Latitude', 'Longitude', 'Start Year', 'Start Month', 'Start Day',\n",
       "       'End Year', 'End Month', 'End Day', 'Total Deaths', 'Total Affected',\n",
       "       'Total Damages Adj'],\n",
       "      dtype='object')"
      ]
     },
     "execution_count": 124,
     "metadata": {},
     "output_type": "execute_result"
    }
   ],
   "source": [
    "df.columns"
   ]
  },
  {
   "cell_type": "code",
   "execution_count": 125,
   "metadata": {},
   "outputs": [
    {
     "name": "stdout",
     "output_type": "stream",
     "text": [
      "Dis No                   0\n",
      "Year                     0\n",
      "Seq                      0\n",
      "Disaster Subgroup        0\n",
      "Disaster Type            0\n",
      "Disaster Subtype      3323\n",
      "Country                  0\n",
      "ISO                      0\n",
      "Region                   0\n",
      "Continent                0\n",
      "Location              1811\n",
      "Origin               12551\n",
      "Associated Dis       13043\n",
      "Dis Mag Value            0\n",
      "Dis Mag Scale         1220\n",
      "Latitude             13861\n",
      "Longitude            13861\n",
      "Start Year               0\n",
      "Start Month              0\n",
      "Start Day                0\n",
      "End Year                 0\n",
      "End Month                0\n",
      "End Day                  0\n",
      "Total Deaths             0\n",
      "Total Affected           0\n",
      "Total Damages Adj        0\n",
      "dtype: int64\n",
      "Dis No                   0\n",
      "Year                     0\n",
      "Seq                      0\n",
      "Disaster Subgroup        0\n",
      "Disaster Type            0\n",
      "Disaster Subtype      3323\n",
      "Country                  0\n",
      "ISO                      0\n",
      "Region                   0\n",
      "Continent                0\n",
      "Location              1811\n",
      "Origin               12551\n",
      "Associated Dis       13043\n",
      "Dis Mag Value            0\n",
      "Dis Mag Scale         1220\n",
      "Latitude             13861\n",
      "Longitude            13861\n",
      "Start Year               0\n",
      "Start Month              0\n",
      "Start Day                0\n",
      "End Year                 0\n",
      "End Month                0\n",
      "End Day                  0\n",
      "Total Deaths             0\n",
      "Total Affected           0\n",
      "Total Damages Adj        0\n",
      "dtype: int64\n"
     ]
    }
   ],
   "source": [
    "print(df.isnull().sum())\n",
    "print(df.isna().sum())"
   ]
  },
  {
   "cell_type": "markdown",
   "metadata": {},
   "source": [
    "# Preparación de dataset"
   ]
  },
  {
   "cell_type": "markdown",
   "metadata": {},
   "source": [
    "### Filtro Earthquake"
   ]
  },
  {
   "cell_type": "code",
   "execution_count": 126,
   "metadata": {},
   "outputs": [],
   "source": [
    "# Filtro principal para Earthquake\n",
    "df_earthquake = df[df['Disaster Type'] == 'Earthquake']"
   ]
  },
  {
   "cell_type": "markdown",
   "metadata": {},
   "source": [
    "### Limpieza"
   ]
  },
  {
   "cell_type": "markdown",
   "metadata": {},
   "source": [
    "#### Borrar columnas"
   ]
  },
  {
   "cell_type": "code",
   "execution_count": 127,
   "metadata": {},
   "outputs": [
    {
     "name": "stderr",
     "output_type": "stream",
     "text": [
      "C:\\Users\\AleEng\\AppData\\Local\\Temp\\ipykernel_17656\\4288529280.py:1: SettingWithCopyWarning: \n",
      "A value is trying to be set on a copy of a slice from a DataFrame\n",
      "\n",
      "See the caveats in the documentation: https://pandas.pydata.org/pandas-docs/stable/user_guide/indexing.html#returning-a-view-versus-a-copy\n",
      "  df_earthquake.drop(columns=['Dis No', 'Year', 'Seq', 'Disaster Subgroup', 'ISO'], inplace=True)\n"
     ]
    }
   ],
   "source": [
    "df_earthquake.drop(columns=['Dis No', 'Year', 'Seq', 'Disaster Subgroup', 'ISO'], inplace=True)"
   ]
  },
  {
   "cell_type": "code",
   "execution_count": 128,
   "metadata": {},
   "outputs": [
    {
     "data": {
      "text/html": [
       "<div>\n",
       "<style scoped>\n",
       "    .dataframe tbody tr th:only-of-type {\n",
       "        vertical-align: middle;\n",
       "    }\n",
       "\n",
       "    .dataframe tbody tr th {\n",
       "        vertical-align: top;\n",
       "    }\n",
       "\n",
       "    .dataframe thead th {\n",
       "        text-align: right;\n",
       "    }\n",
       "</style>\n",
       "<table border=\"1\" class=\"dataframe\">\n",
       "  <thead>\n",
       "    <tr style=\"text-align: right;\">\n",
       "      <th></th>\n",
       "      <th>Disaster Type</th>\n",
       "      <th>Disaster Subtype</th>\n",
       "      <th>Country</th>\n",
       "      <th>Region</th>\n",
       "      <th>Continent</th>\n",
       "      <th>Location</th>\n",
       "      <th>Origin</th>\n",
       "      <th>Associated Dis</th>\n",
       "      <th>Dis Mag Value</th>\n",
       "      <th>Dis Mag Scale</th>\n",
       "      <th>...</th>\n",
       "      <th>Longitude</th>\n",
       "      <th>Start Year</th>\n",
       "      <th>Start Month</th>\n",
       "      <th>Start Day</th>\n",
       "      <th>End Year</th>\n",
       "      <th>End Month</th>\n",
       "      <th>End Day</th>\n",
       "      <th>Total Deaths</th>\n",
       "      <th>Total Affected</th>\n",
       "      <th>Total Damages Adj</th>\n",
       "    </tr>\n",
       "  </thead>\n",
       "  <tbody>\n",
       "    <tr>\n",
       "      <th>2</th>\n",
       "      <td>Earthquake</td>\n",
       "      <td>Ground movement</td>\n",
       "      <td>Guatemala</td>\n",
       "      <td>Central America</td>\n",
       "      <td>Americas</td>\n",
       "      <td>Quezaltenango, San Marcos</td>\n",
       "      <td>NaN</td>\n",
       "      <td>Tsunami/Tidal wave</td>\n",
       "      <td>8</td>\n",
       "      <td>Richter</td>\n",
       "      <td>...</td>\n",
       "      <td>-91</td>\n",
       "      <td>1902</td>\n",
       "      <td>4</td>\n",
       "      <td>18</td>\n",
       "      <td>1902</td>\n",
       "      <td>4</td>\n",
       "      <td>18</td>\n",
       "      <td>2000</td>\n",
       "      <td>0</td>\n",
       "      <td>843726</td>\n",
       "    </tr>\n",
       "    <tr>\n",
       "      <th>9</th>\n",
       "      <td>Earthquake</td>\n",
       "      <td>Ground movement</td>\n",
       "      <td>India</td>\n",
       "      <td>Southern Asia</td>\n",
       "      <td>Asia</td>\n",
       "      <td>Kangra</td>\n",
       "      <td>NaN</td>\n",
       "      <td>NaN</td>\n",
       "      <td>8</td>\n",
       "      <td>Richter</td>\n",
       "      <td>...</td>\n",
       "      <td>76.16</td>\n",
       "      <td>1905</td>\n",
       "      <td>4</td>\n",
       "      <td>4</td>\n",
       "      <td>1905</td>\n",
       "      <td>4</td>\n",
       "      <td>4</td>\n",
       "      <td>20000</td>\n",
       "      <td>0</td>\n",
       "      <td>812477</td>\n",
       "    </tr>\n",
       "  </tbody>\n",
       "</table>\n",
       "<p>2 rows × 21 columns</p>\n",
       "</div>"
      ],
      "text/plain": [
       "  Disaster Type Disaster Subtype    Country           Region Continent  \\\n",
       "2    Earthquake  Ground movement  Guatemala  Central America  Americas   \n",
       "9    Earthquake  Ground movement      India    Southern Asia      Asia   \n",
       "\n",
       "                    Location Origin      Associated Dis  Dis Mag Value  \\\n",
       "2  Quezaltenango, San Marcos    NaN  Tsunami/Tidal wave              8   \n",
       "9                     Kangra    NaN                 NaN              8   \n",
       "\n",
       "  Dis Mag Scale  ... Longitude Start Year  Start Month  Start Day  End Year  \\\n",
       "2       Richter  ...       -91       1902            4         18      1902   \n",
       "9       Richter  ...     76.16       1905            4          4      1905   \n",
       "\n",
       "   End Month  End Day  Total Deaths  Total Affected  Total Damages Adj  \n",
       "2          4       18          2000               0             843726  \n",
       "9          4        4         20000               0             812477  \n",
       "\n",
       "[2 rows x 21 columns]"
      ]
     },
     "execution_count": 128,
     "metadata": {},
     "output_type": "execute_result"
    }
   ],
   "source": [
    "df_earthquake.head(2)"
   ]
  },
  {
   "cell_type": "markdown",
   "metadata": {},
   "source": [
    "### Valores faltantes"
   ]
  },
  {
   "cell_type": "code",
   "execution_count": 129,
   "metadata": {},
   "outputs": [],
   "source": [
    "# # Rellenar valores faltantes y nulls con 0, después, borrar filas con valores faltantes\n",
    "# df_earthquake = df_earthquake.copy()\n",
    "# df_earthquake.fillna(0, inplace=True)"
   ]
  },
  {
   "cell_type": "markdown",
   "metadata": {},
   "source": [
    "## Preprocessing"
   ]
  },
  {
   "cell_type": "markdown",
   "metadata": {},
   "source": [
    "## Preprocessing 1: crear columna categórica Earthquake Type y codificar columna numérica Destruction Level con OneHotEncoder para predecir y"
   ]
  },
  {
   "cell_type": "markdown",
   "metadata": {},
   "source": [
    "### Filtro para excluir filas con valores 0 en 'Dis Mag Value', 'Total Deaths', 'Total Affected' y 'Total Damages Adj'"
   ]
  },
  {
   "cell_type": "code",
   "execution_count": 130,
   "metadata": {},
   "outputs": [],
   "source": [
    "# df_earthquake = df[(df['Dis Mag Value'] > 0) & \n",
    "#                  (df['Total Deaths'] > 0) & \n",
    "#                  (df['Total Affected'] > 0) & \n",
    "#                  (df['Total Damages Adj'] > 0)]"
   ]
  },
  {
   "cell_type": "code",
   "execution_count": 131,
   "metadata": {},
   "outputs": [
    {
     "data": {
      "text/plain": [
       "0"
      ]
     },
     "execution_count": 131,
     "metadata": {},
     "output_type": "execute_result"
    }
   ],
   "source": [
    "df_earthquake['Dis Mag Value'].min()"
   ]
  },
  {
   "cell_type": "code",
   "execution_count": 132,
   "metadata": {},
   "outputs": [
    {
     "data": {
      "text/plain": [
       "(1597, 21)"
      ]
     },
     "execution_count": 132,
     "metadata": {},
     "output_type": "execute_result"
    }
   ],
   "source": [
    "df_earthquake.shape"
   ]
  },
  {
   "cell_type": "markdown",
   "metadata": {},
   "source": [
    "### Condiciones estadísticas para determinar umbrales de clasificación para Tipo de Inundación y su Nivel de Destrucción"
   ]
  },
  {
   "cell_type": "code",
   "execution_count": 133,
   "metadata": {},
   "outputs": [],
   "source": [
    "min_dis_mag = df_earthquake['Dis Mag Value'].loc[df_earthquake['Dis Mag Value'].gt(0)].min()\n",
    "max_dis_mag = df_earthquake['Dis Mag Value'].loc[df_earthquake['Dis Mag Value'].gt(0)].max()\n",
    "std_dis_mag = df_earthquake['Dis Mag Value'].loc[df_earthquake['Dis Mag Value'].gt(0)].std()\n",
    "mean_dis_mag = df_earthquake['Dis Mag Value'].loc[df_earthquake['Dis Mag Value'].gt(0)].mean()\n",
    "median_dis_mag = df_earthquake['Dis Mag Value'].loc[df_earthquake['Dis Mag Value'].gt(0)].median()\n",
    "\n",
    "min_tot_deaths = df_earthquake['Total Deaths'].loc[df_earthquake['Total Deaths'].gt(0)].min()\n",
    "max_tot_deaths = df_earthquake['Total Deaths'].loc[df_earthquake['Total Deaths'].gt(0)].max()\n",
    "std_tot_deaths = df_earthquake['Total Deaths'].loc[df_earthquake['Total Deaths'].gt(0)].std()\n",
    "mean_tot_deaths = df_earthquake['Total Deaths'].loc[df_earthquake['Total Deaths'].gt(0)].mean()\n",
    "median_tot_deaths = df_earthquake['Total Deaths'].loc[df_earthquake['Total Deaths'].gt(0)].median()\n",
    "\n",
    "min_tot_affect = df_earthquake['Total Affected'].loc[df_earthquake['Total Affected'].gt(0)].min()\n",
    "max_tot_affect = df_earthquake['Total Affected'].loc[df_earthquake['Total Affected'].gt(0)].max()\n",
    "std_tot_affect = df_earthquake['Total Affected'].loc[df_earthquake['Total Affected'].gt(0)].std()\n",
    "mean_tot_affect = df_earthquake['Total Affected'].loc[df_earthquake['Total Affected'].gt(0)].mean()\n",
    "median_tot_affect = df_earthquake['Total Affected'].loc[df_earthquake['Total Affected'].gt(0)].median()\n",
    "\n",
    "min_tot_damages = df_earthquake['Total Damages Adj'].loc[df_earthquake['Total Damages Adj'].gt(0)].min()\n",
    "max_tot_damages = df_earthquake['Total Damages Adj'].loc[df_earthquake['Total Damages Adj'].gt(0)].max()\n",
    "std_tot_damages = df_earthquake['Total Damages Adj'].loc[df_earthquake['Total Damages Adj'].gt(0)].std()\n",
    "mean_tot_damages = df_earthquake['Total Damages Adj'].loc[df_earthquake['Total Damages Adj'].gt(0)].mean()\n",
    "median_tot_damages = df_earthquake['Total Damages Adj'].loc[df_earthquake['Total Damages Adj'].gt(0)].median()"
   ]
  },
  {
   "cell_type": "code",
   "execution_count": 134,
   "metadata": {},
   "outputs": [
    {
     "name": "stdout",
     "output_type": "stream",
     "text": [
      "1\n",
      "10\n",
      "1.0176460696536391\n",
      "6.3958885941644565\n",
      "6.0\n",
      "1\n",
      "242000\n",
      "14158.235839663068\n",
      "2002.136894824708\n",
      "18.0\n",
      "1\n",
      "45976596\n",
      "1475999.0555363484\n",
      "167772.02803030302\n",
      "4112.0\n",
      "2\n",
      "273218373\n",
      "15320213.852360478\n",
      "2602513.2398703406\n",
      "114655.0\n"
     ]
    }
   ],
   "source": [
    "print(df_earthquake['Dis Mag Value'].loc[df_earthquake['Dis Mag Value'].gt(0)].min())\n",
    "print(df_earthquake['Dis Mag Value'].loc[df_earthquake['Dis Mag Value'].gt(0)].max())\n",
    "print(df_earthquake['Dis Mag Value'].loc[df_earthquake['Dis Mag Value'].gt(0)].std())\n",
    "print(df_earthquake['Dis Mag Value'].loc[df_earthquake['Dis Mag Value'].gt(0)].mean())\n",
    "print(df_earthquake['Dis Mag Value'].loc[df_earthquake['Dis Mag Value'].gt(0)].median())\n",
    "\n",
    "print(df_earthquake['Total Deaths'].loc[df_earthquake['Total Deaths'].gt(0)].min())\n",
    "print(df_earthquake['Total Deaths'].loc[df_earthquake['Total Deaths'].gt(0)].max())\n",
    "print(df_earthquake['Total Deaths'].loc[df_earthquake['Total Deaths'].gt(0)].std())\n",
    "print(df_earthquake['Total Deaths'].loc[df_earthquake['Total Deaths'].gt(0)].mean())\n",
    "print(df_earthquake['Total Deaths'].loc[df_earthquake['Total Deaths'].gt(0)].median())\n",
    "\n",
    "print(df_earthquake['Total Affected'].loc[df_earthquake['Total Affected'].gt(0)].min())\n",
    "print(df_earthquake['Total Affected'].loc[df_earthquake['Total Affected'].gt(0)].max())\n",
    "print(df_earthquake['Total Affected'].loc[df_earthquake['Total Affected'].gt(0)].std())\n",
    "print(df_earthquake['Total Affected'].loc[df_earthquake['Total Affected'].gt(0)].mean())\n",
    "print(df_earthquake['Total Affected'].loc[df_earthquake['Total Affected'].gt(0)].median())\n",
    "\n",
    "print(df_earthquake['Total Damages Adj'].loc[df_earthquake['Total Damages Adj'].gt(0)].min())\n",
    "print(df_earthquake['Total Damages Adj'].loc[df_earthquake['Total Damages Adj'].gt(0)].max())\n",
    "print(df_earthquake['Total Damages Adj'].loc[df_earthquake['Total Damages Adj'].gt(0)].std())\n",
    "print(df_earthquake['Total Damages Adj'].loc[df_earthquake['Total Damages Adj'].gt(0)].mean())\n",
    "print(df_earthquake['Total Damages Adj'].loc[df_earthquake['Total Damages Adj'].gt(0)].median())"
   ]
  },
  {
   "cell_type": "markdown",
   "metadata": {},
   "source": [
    "### Tipos de umbrales de destrucción de terremoto"
   ]
  },
  {
   "cell_type": "markdown",
   "metadata": {},
   "source": [
    "Los umbrales se definen con base en la información de Wikipedia sobre Escala de Richter: https://es.wikipedia.org/wiki/Escala_sismol%C3%B3gica_de_Richter"
   ]
  },
  {
   "cell_type": "markdown",
   "metadata": {},
   "source": [
    "* Type 1 Threshold (Micro):\n",
    "\n",
    "Magnitude (Dis Mag Value) < 2.0\n",
    "\n",
    "* Type 2 Threshold (Minor):\n",
    "\n",
    "Magnitude (Dis Mag Value) >= 2.0 and < 4.0\n",
    "Total Deaths < 100\n",
    "Total Affected < 10,000\n",
    "Total Damages Adj < 1,000,000\n",
    "\n",
    "* Type 3 Threshold (Light):\n",
    "\n",
    "Magnitude (Dis Mag Value) >= 4.0 and < 6.0\n",
    "Total Deaths < 500\n",
    "Total Affected < 100,000\n",
    "Total Damages Adj < 10,000,000\n",
    "\n",
    "* Type 4 Threshold (Moderate):\n",
    "\n",
    "Magnitude (Dis Mag Value) >= 6.0 and < 7.0\n",
    "Total Deaths < 1,000\n",
    "Total Affected < 500,000\n",
    "Total Damages Adj < 100,000,000\n",
    "\n",
    "* Type 5 Threshold (Strong):\n",
    "\n",
    "Magnitude (Dis Mag Value) >= 7.0 and < 8.0\n",
    "Total Deaths < 5,000\n",
    "Total Affected < 1,000,000\n",
    "Total Damages Adj < 1,000,000,000\n",
    "\n",
    "* Type 6 Threshold (Major):\n",
    "\n",
    "Magnitude (Dis Mag Value) >= 8.0 and < 9.0\n",
    "Total Deaths < 10,000\n",
    "Total Affected < 5,000,000\n",
    "Total Damages Adj < 10,000,000,000\n",
    "\n",
    "* Type 7 Threshold (Epic or Catastrophic):\n",
    "\n",
    "Magnitude (Dis Mag Value) >= 9.0\n",
    "Total Deaths < 50,000\n",
    "Total Affected < 10,000,000\n",
    "Total Damages Adj < 100,000,000,000\n",
    "\n",
    "* Type 8 Threshold (Legendary or Apocalyptic):\n",
    "\n",
    "Magnitude (Dis Mag Value) >= 10.0\n",
    "Total Deaths >= 50,000\n",
    "Total Affected >= 10,000,000\n",
    "Total Damages Adj >= 100,000,000,000"
   ]
  },
  {
   "cell_type": "markdown",
   "metadata": {},
   "source": [
    "Los umbrales están definidos para ser inclusivos en el límite inferior (>=) y exclusivos en el límite superior (<). Esto significa que un evento sísmico con una magnitud de exactamente 2.0 será considerado como 'Menor' en lugar de 'Micro', y así sucesivamente."
   ]
  },
  {
   "cell_type": "code",
   "execution_count": 135,
   "metadata": {},
   "outputs": [],
   "source": [
    "# Thresholds for Earthquake Types based on Dis Mag Value\n",
    "type1_threshold = 2.0\n",
    "type2_threshold = 4.0\n",
    "type3_threshold = 6.0\n",
    "type4_threshold = 7.0\n",
    "type5_threshold = 8.0\n",
    "type6_threshold = 9.0\n",
    "type7_threshold = 10.0\n",
    "\n",
    "# Thresholds for Earthquake Types based on Total Deaths, Total Affected, and Total Damages Adj\n",
    "type2_max_deaths = 100\n",
    "type2_max_affected = 10000\n",
    "type2_max_damages = 1000000\n",
    "\n",
    "type3_max_deaths = 500\n",
    "type3_max_affected = 100000\n",
    "type3_max_damages = 10000000\n",
    "\n",
    "type4_max_deaths = 1000\n",
    "type4_max_affected = 500000\n",
    "type4_max_damages = 100000000\n",
    "\n",
    "type5_max_deaths = 5000\n",
    "type5_max_affected = 1000000\n",
    "type5_max_damages = 1000000000\n",
    "\n",
    "type6_max_deaths = 10000\n",
    "type6_max_affected = 5000000\n",
    "type6_max_damages = 10000000000\n",
    "\n",
    "type7_max_deaths = 50000\n",
    "type7_max_affected = 10000000\n",
    "type7_max_damages = 100000000000\n",
    "\n",
    "# Nota: Para tipo 'Legendary or Apocalyptic' type (magnitude >= 10.0), no se definen umbrales específicos para la columna de impacto.\n"
   ]
  },
  {
   "cell_type": "markdown",
   "metadata": {},
   "source": [
    "### Función para crear columna categórica de nivel de impacto: Earthquake Type"
   ]
  },
  {
   "cell_type": "code",
   "execution_count": 136,
   "metadata": {},
   "outputs": [],
   "source": [
    "def assign_earthquake_type(row):\n",
    "    magnitude = row['Dis Mag Value']\n",
    "    deaths = row['Total Deaths']\n",
    "    affected = row['Total Affected']\n",
    "    damages = row['Total Damages Adj']\n",
    "\n",
    "    if magnitude < 2.0:\n",
    "        return 'Micro'\n",
    "    elif 2.0 <= magnitude < 4.0 and deaths < 100 and affected < 10000 and damages < 1000000:\n",
    "        return 'Minor'\n",
    "    elif 4.0 <= magnitude < 6.0 and deaths < 500 and affected < 100000 and damages < 10000000:\n",
    "        return 'Light'\n",
    "    elif 6.0 <= magnitude < 7.0 and deaths < 1000 and affected < 500000 and damages < 100000000:\n",
    "        return 'Moderate'\n",
    "    elif 7.0 <= magnitude < 8.0 and deaths < 5000 and affected < 1000000 and damages < 1000000000:\n",
    "        return 'Strong'\n",
    "    elif 8.0 <= magnitude < 9.0 and deaths < 10000 and affected < 5000000 and damages < 10000000000:\n",
    "        return 'Major'\n",
    "    elif 9.0 <= magnitude and deaths < 50000 and affected < 10000000 and damages < 100000000000:\n",
    "        return 'Epic or Catastrophic'\n",
    "    else:\n",
    "        return 'Legendary or Apocalyptic'\n"
   ]
  },
  {
   "cell_type": "code",
   "execution_count": 137,
   "metadata": {},
   "outputs": [
    {
     "name": "stderr",
     "output_type": "stream",
     "text": [
      "C:\\Users\\AleEng\\AppData\\Local\\Temp\\ipykernel_17656\\1170780518.py:1: SettingWithCopyWarning: \n",
      "A value is trying to be set on a copy of a slice from a DataFrame.\n",
      "Try using .loc[row_indexer,col_indexer] = value instead\n",
      "\n",
      "See the caveats in the documentation: https://pandas.pydata.org/pandas-docs/stable/user_guide/indexing.html#returning-a-view-versus-a-copy\n",
      "  df_earthquake['Earthquake Type'] = df_earthquake.apply(assign_earthquake_type, axis=1)\n"
     ]
    },
    {
     "data": {
      "text/html": [
       "<div>\n",
       "<style scoped>\n",
       "    .dataframe tbody tr th:only-of-type {\n",
       "        vertical-align: middle;\n",
       "    }\n",
       "\n",
       "    .dataframe tbody tr th {\n",
       "        vertical-align: top;\n",
       "    }\n",
       "\n",
       "    .dataframe thead th {\n",
       "        text-align: right;\n",
       "    }\n",
       "</style>\n",
       "<table border=\"1\" class=\"dataframe\">\n",
       "  <thead>\n",
       "    <tr style=\"text-align: right;\">\n",
       "      <th></th>\n",
       "      <th>Disaster Type</th>\n",
       "      <th>Disaster Subtype</th>\n",
       "      <th>Country</th>\n",
       "      <th>Region</th>\n",
       "      <th>Continent</th>\n",
       "      <th>Location</th>\n",
       "      <th>Origin</th>\n",
       "      <th>Associated Dis</th>\n",
       "      <th>Dis Mag Value</th>\n",
       "      <th>Dis Mag Scale</th>\n",
       "      <th>...</th>\n",
       "      <th>Start Year</th>\n",
       "      <th>Start Month</th>\n",
       "      <th>Start Day</th>\n",
       "      <th>End Year</th>\n",
       "      <th>End Month</th>\n",
       "      <th>End Day</th>\n",
       "      <th>Total Deaths</th>\n",
       "      <th>Total Affected</th>\n",
       "      <th>Total Damages Adj</th>\n",
       "      <th>Earthquake Type</th>\n",
       "    </tr>\n",
       "  </thead>\n",
       "  <tbody>\n",
       "    <tr>\n",
       "      <th>2</th>\n",
       "      <td>Earthquake</td>\n",
       "      <td>Ground movement</td>\n",
       "      <td>Guatemala</td>\n",
       "      <td>Central America</td>\n",
       "      <td>Americas</td>\n",
       "      <td>Quezaltenango, San Marcos</td>\n",
       "      <td>NaN</td>\n",
       "      <td>Tsunami/Tidal wave</td>\n",
       "      <td>8</td>\n",
       "      <td>Richter</td>\n",
       "      <td>...</td>\n",
       "      <td>1902</td>\n",
       "      <td>4</td>\n",
       "      <td>18</td>\n",
       "      <td>1902</td>\n",
       "      <td>4</td>\n",
       "      <td>18</td>\n",
       "      <td>2000</td>\n",
       "      <td>0</td>\n",
       "      <td>843726</td>\n",
       "      <td>Major</td>\n",
       "    </tr>\n",
       "    <tr>\n",
       "      <th>9</th>\n",
       "      <td>Earthquake</td>\n",
       "      <td>Ground movement</td>\n",
       "      <td>India</td>\n",
       "      <td>Southern Asia</td>\n",
       "      <td>Asia</td>\n",
       "      <td>Kangra</td>\n",
       "      <td>NaN</td>\n",
       "      <td>NaN</td>\n",
       "      <td>8</td>\n",
       "      <td>Richter</td>\n",
       "      <td>...</td>\n",
       "      <td>1905</td>\n",
       "      <td>4</td>\n",
       "      <td>4</td>\n",
       "      <td>1905</td>\n",
       "      <td>4</td>\n",
       "      <td>4</td>\n",
       "      <td>20000</td>\n",
       "      <td>0</td>\n",
       "      <td>812477</td>\n",
       "      <td>Legendary or Apocalyptic</td>\n",
       "    </tr>\n",
       "    <tr>\n",
       "      <th>10</th>\n",
       "      <td>Earthquake</td>\n",
       "      <td>Ground movement</td>\n",
       "      <td>Chile</td>\n",
       "      <td>South America</td>\n",
       "      <td>Americas</td>\n",
       "      <td>Valparaiso</td>\n",
       "      <td>NaN</td>\n",
       "      <td>Tsunami/Tidal wave</td>\n",
       "      <td>8</td>\n",
       "      <td>Richter</td>\n",
       "      <td>...</td>\n",
       "      <td>1906</td>\n",
       "      <td>8</td>\n",
       "      <td>16</td>\n",
       "      <td>1906</td>\n",
       "      <td>8</td>\n",
       "      <td>16</td>\n",
       "      <td>20000</td>\n",
       "      <td>0</td>\n",
       "      <td>3249907</td>\n",
       "      <td>Legendary or Apocalyptic</td>\n",
       "    </tr>\n",
       "    <tr>\n",
       "      <th>11</th>\n",
       "      <td>Earthquake</td>\n",
       "      <td>Ground movement</td>\n",
       "      <td>Colombia</td>\n",
       "      <td>South America</td>\n",
       "      <td>Americas</td>\n",
       "      <td>Tumako</td>\n",
       "      <td>NaN</td>\n",
       "      <td>Tsunami/Tidal wave</td>\n",
       "      <td>9</td>\n",
       "      <td>Richter</td>\n",
       "      <td>...</td>\n",
       "      <td>1906</td>\n",
       "      <td>1</td>\n",
       "      <td>31</td>\n",
       "      <td>1906</td>\n",
       "      <td>1</td>\n",
       "      <td>31</td>\n",
       "      <td>400</td>\n",
       "      <td>0</td>\n",
       "      <td>0</td>\n",
       "      <td>Epic or Catastrophic</td>\n",
       "    </tr>\n",
       "    <tr>\n",
       "      <th>15</th>\n",
       "      <td>Earthquake</td>\n",
       "      <td>Ground movement</td>\n",
       "      <td>China</td>\n",
       "      <td>Eastern Asia</td>\n",
       "      <td>Asia</td>\n",
       "      <td>Tien Shan</td>\n",
       "      <td>NaN</td>\n",
       "      <td>NaN</td>\n",
       "      <td>7</td>\n",
       "      <td>Richter</td>\n",
       "      <td>...</td>\n",
       "      <td>1907</td>\n",
       "      <td>10</td>\n",
       "      <td>21</td>\n",
       "      <td>1907</td>\n",
       "      <td>10</td>\n",
       "      <td>21</td>\n",
       "      <td>12000</td>\n",
       "      <td>0</td>\n",
       "      <td>0</td>\n",
       "      <td>Legendary or Apocalyptic</td>\n",
       "    </tr>\n",
       "    <tr>\n",
       "      <th>21</th>\n",
       "      <td>Earthquake</td>\n",
       "      <td>Ground movement</td>\n",
       "      <td>France</td>\n",
       "      <td>Western Europe</td>\n",
       "      <td>Europe</td>\n",
       "      <td>Lambesc, Saint-Cannat, Rognes, Vernegues, Char...</td>\n",
       "      <td>NaN</td>\n",
       "      <td>NaN</td>\n",
       "      <td>6</td>\n",
       "      <td>Richter</td>\n",
       "      <td>...</td>\n",
       "      <td>1909</td>\n",
       "      <td>6</td>\n",
       "      <td>11</td>\n",
       "      <td>1909</td>\n",
       "      <td>6</td>\n",
       "      <td>11</td>\n",
       "      <td>46</td>\n",
       "      <td>0</td>\n",
       "      <td>0</td>\n",
       "      <td>Moderate</td>\n",
       "    </tr>\n",
       "    <tr>\n",
       "      <th>28</th>\n",
       "      <td>Earthquake</td>\n",
       "      <td>Ground movement</td>\n",
       "      <td>Costa Rica</td>\n",
       "      <td>Central America</td>\n",
       "      <td>Americas</td>\n",
       "      <td>Cartago</td>\n",
       "      <td>NaN</td>\n",
       "      <td>NaN</td>\n",
       "      <td>0</td>\n",
       "      <td>Richter</td>\n",
       "      <td>...</td>\n",
       "      <td>1910</td>\n",
       "      <td>4</td>\n",
       "      <td>13</td>\n",
       "      <td>1910</td>\n",
       "      <td>4</td>\n",
       "      <td>13</td>\n",
       "      <td>1750</td>\n",
       "      <td>0</td>\n",
       "      <td>0</td>\n",
       "      <td>Micro</td>\n",
       "    </tr>\n",
       "    <tr>\n",
       "      <th>29</th>\n",
       "      <td>Earthquake</td>\n",
       "      <td>Ground movement</td>\n",
       "      <td>Algeria</td>\n",
       "      <td>Northern Africa</td>\n",
       "      <td>Africa</td>\n",
       "      <td>Kabylie, Masqueray</td>\n",
       "      <td>NaN</td>\n",
       "      <td>NaN</td>\n",
       "      <td>6</td>\n",
       "      <td>Richter</td>\n",
       "      <td>...</td>\n",
       "      <td>1910</td>\n",
       "      <td>6</td>\n",
       "      <td>24</td>\n",
       "      <td>1910</td>\n",
       "      <td>6</td>\n",
       "      <td>24</td>\n",
       "      <td>12</td>\n",
       "      <td>0</td>\n",
       "      <td>0</td>\n",
       "      <td>Moderate</td>\n",
       "    </tr>\n",
       "    <tr>\n",
       "      <th>37</th>\n",
       "      <td>Earthquake</td>\n",
       "      <td>Ground movement</td>\n",
       "      <td>Indonesia</td>\n",
       "      <td>South-Eastern Asia</td>\n",
       "      <td>Asia</td>\n",
       "      <td>Kepahyang, Bengkulu (Sumatera)</td>\n",
       "      <td>NaN</td>\n",
       "      <td>Tsunami/Tidal wave</td>\n",
       "      <td>8</td>\n",
       "      <td>Richter</td>\n",
       "      <td>...</td>\n",
       "      <td>1914</td>\n",
       "      <td>6</td>\n",
       "      <td>26</td>\n",
       "      <td>1914</td>\n",
       "      <td>6</td>\n",
       "      <td>26</td>\n",
       "      <td>20</td>\n",
       "      <td>20</td>\n",
       "      <td>0</td>\n",
       "      <td>Major</td>\n",
       "    </tr>\n",
       "    <tr>\n",
       "      <th>42</th>\n",
       "      <td>Earthquake</td>\n",
       "      <td>Ground movement</td>\n",
       "      <td>China</td>\n",
       "      <td>Eastern Asia</td>\n",
       "      <td>Asia</td>\n",
       "      <td>Yunnan province</td>\n",
       "      <td>NaN</td>\n",
       "      <td>NaN</td>\n",
       "      <td>7</td>\n",
       "      <td>Richter</td>\n",
       "      <td>...</td>\n",
       "      <td>1917</td>\n",
       "      <td>7</td>\n",
       "      <td>31</td>\n",
       "      <td>1917</td>\n",
       "      <td>7</td>\n",
       "      <td>31</td>\n",
       "      <td>1800</td>\n",
       "      <td>0</td>\n",
       "      <td>0</td>\n",
       "      <td>Strong</td>\n",
       "    </tr>\n",
       "    <tr>\n",
       "      <th>44</th>\n",
       "      <td>Earthquake</td>\n",
       "      <td>Ground movement</td>\n",
       "      <td>Guatemala</td>\n",
       "      <td>Central America</td>\n",
       "      <td>Americas</td>\n",
       "      <td>Guatemala city</td>\n",
       "      <td>NaN</td>\n",
       "      <td>NaN</td>\n",
       "      <td>6</td>\n",
       "      <td>Richter</td>\n",
       "      <td>...</td>\n",
       "      <td>1917</td>\n",
       "      <td>12</td>\n",
       "      <td>25</td>\n",
       "      <td>1917</td>\n",
       "      <td>12</td>\n",
       "      <td>25</td>\n",
       "      <td>2650</td>\n",
       "      <td>0</td>\n",
       "      <td>0</td>\n",
       "      <td>Legendary or Apocalyptic</td>\n",
       "    </tr>\n",
       "    <tr>\n",
       "      <th>45</th>\n",
       "      <td>Earthquake</td>\n",
       "      <td>Ground movement</td>\n",
       "      <td>Indonesia</td>\n",
       "      <td>South-Eastern Asia</td>\n",
       "      <td>Asia</td>\n",
       "      <td>Bali</td>\n",
       "      <td>NaN</td>\n",
       "      <td>NaN</td>\n",
       "      <td>7</td>\n",
       "      <td>Richter</td>\n",
       "      <td>...</td>\n",
       "      <td>1917</td>\n",
       "      <td>1</td>\n",
       "      <td>21</td>\n",
       "      <td>1917</td>\n",
       "      <td>1</td>\n",
       "      <td>21</td>\n",
       "      <td>15000</td>\n",
       "      <td>0</td>\n",
       "      <td>0</td>\n",
       "      <td>Legendary or Apocalyptic</td>\n",
       "    </tr>\n",
       "    <tr>\n",
       "      <th>46</th>\n",
       "      <td>Earthquake</td>\n",
       "      <td>Ground movement</td>\n",
       "      <td>China</td>\n",
       "      <td>Eastern Asia</td>\n",
       "      <td>Asia</td>\n",
       "      <td>Kwangtung (Guangdong)</td>\n",
       "      <td>NaN</td>\n",
       "      <td>Tsunami/Tidal wave</td>\n",
       "      <td>7</td>\n",
       "      <td>Richter</td>\n",
       "      <td>...</td>\n",
       "      <td>1918</td>\n",
       "      <td>2</td>\n",
       "      <td>13</td>\n",
       "      <td>1918</td>\n",
       "      <td>2</td>\n",
       "      <td>13</td>\n",
       "      <td>10000</td>\n",
       "      <td>0</td>\n",
       "      <td>0</td>\n",
       "      <td>Legendary or Apocalyptic</td>\n",
       "    </tr>\n",
       "    <tr>\n",
       "      <th>53</th>\n",
       "      <td>Earthquake</td>\n",
       "      <td>Ground movement</td>\n",
       "      <td>China</td>\n",
       "      <td>Eastern Asia</td>\n",
       "      <td>Asia</td>\n",
       "      <td>Gansu, Shanxi provinces</td>\n",
       "      <td>NaN</td>\n",
       "      <td>Slide (land, mud, snow, rock)</td>\n",
       "      <td>9</td>\n",
       "      <td>Richter</td>\n",
       "      <td>...</td>\n",
       "      <td>1920</td>\n",
       "      <td>12</td>\n",
       "      <td>16</td>\n",
       "      <td>1920</td>\n",
       "      <td>12</td>\n",
       "      <td>16</td>\n",
       "      <td>180000</td>\n",
       "      <td>0</td>\n",
       "      <td>364400</td>\n",
       "      <td>Legendary or Apocalyptic</td>\n",
       "    </tr>\n",
       "    <tr>\n",
       "      <th>61</th>\n",
       "      <td>Earthquake</td>\n",
       "      <td>Ground movement</td>\n",
       "      <td>Chile</td>\n",
       "      <td>South America</td>\n",
       "      <td>Americas</td>\n",
       "      <td>Atacama</td>\n",
       "      <td>NaN</td>\n",
       "      <td>Tsunami/Tidal wave</td>\n",
       "      <td>9</td>\n",
       "      <td>Richter</td>\n",
       "      <td>...</td>\n",
       "      <td>1922</td>\n",
       "      <td>11</td>\n",
       "      <td>11</td>\n",
       "      <td>1922</td>\n",
       "      <td>11</td>\n",
       "      <td>11</td>\n",
       "      <td>1000</td>\n",
       "      <td>0</td>\n",
       "      <td>0</td>\n",
       "      <td>Epic or Catastrophic</td>\n",
       "    </tr>\n",
       "    <tr>\n",
       "      <th>68</th>\n",
       "      <td>Earthquake</td>\n",
       "      <td>Ground movement</td>\n",
       "      <td>China</td>\n",
       "      <td>Eastern Asia</td>\n",
       "      <td>Asia</td>\n",
       "      <td>Sichuan</td>\n",
       "      <td>NaN</td>\n",
       "      <td>NaN</td>\n",
       "      <td>7</td>\n",
       "      <td>Richter</td>\n",
       "      <td>...</td>\n",
       "      <td>1923</td>\n",
       "      <td>3</td>\n",
       "      <td>24</td>\n",
       "      <td>1923</td>\n",
       "      <td>3</td>\n",
       "      <td>24</td>\n",
       "      <td>5000</td>\n",
       "      <td>0</td>\n",
       "      <td>0</td>\n",
       "      <td>Legendary or Apocalyptic</td>\n",
       "    </tr>\n",
       "    <tr>\n",
       "      <th>70</th>\n",
       "      <td>Earthquake</td>\n",
       "      <td>Ground movement</td>\n",
       "      <td>Ecuador</td>\n",
       "      <td>South America</td>\n",
       "      <td>Americas</td>\n",
       "      <td>Chimborazo</td>\n",
       "      <td>NaN</td>\n",
       "      <td>NaN</td>\n",
       "      <td>7</td>\n",
       "      <td>Richter</td>\n",
       "      <td>...</td>\n",
       "      <td>1924</td>\n",
       "      <td>3</td>\n",
       "      <td>3</td>\n",
       "      <td>1924</td>\n",
       "      <td>3</td>\n",
       "      <td>3</td>\n",
       "      <td>40</td>\n",
       "      <td>0</td>\n",
       "      <td>0</td>\n",
       "      <td>Strong</td>\n",
       "    </tr>\n",
       "    <tr>\n",
       "      <th>71</th>\n",
       "      <td>Earthquake</td>\n",
       "      <td>Ground movement</td>\n",
       "      <td>Indonesia</td>\n",
       "      <td>South-Eastern Asia</td>\n",
       "      <td>Asia</td>\n",
       "      <td>Wonosobo (Central Java)</td>\n",
       "      <td>NaN</td>\n",
       "      <td>NaN</td>\n",
       "      <td>0</td>\n",
       "      <td>Richter</td>\n",
       "      <td>...</td>\n",
       "      <td>1924</td>\n",
       "      <td>12</td>\n",
       "      <td>2</td>\n",
       "      <td>1924</td>\n",
       "      <td>12</td>\n",
       "      <td>2</td>\n",
       "      <td>727</td>\n",
       "      <td>11250</td>\n",
       "      <td>0</td>\n",
       "      <td>Micro</td>\n",
       "    </tr>\n",
       "    <tr>\n",
       "      <th>74</th>\n",
       "      <td>Earthquake</td>\n",
       "      <td>Ground movement</td>\n",
       "      <td>China</td>\n",
       "      <td>Eastern Asia</td>\n",
       "      <td>Asia</td>\n",
       "      <td>Talifu (Yunnan province)</td>\n",
       "      <td>NaN</td>\n",
       "      <td>NaN</td>\n",
       "      <td>7</td>\n",
       "      <td>Richter</td>\n",
       "      <td>...</td>\n",
       "      <td>1925</td>\n",
       "      <td>3</td>\n",
       "      <td>16</td>\n",
       "      <td>1925</td>\n",
       "      <td>3</td>\n",
       "      <td>16</td>\n",
       "      <td>5000</td>\n",
       "      <td>0</td>\n",
       "      <td>0</td>\n",
       "      <td>Legendary or Apocalyptic</td>\n",
       "    </tr>\n",
       "    <tr>\n",
       "      <th>82</th>\n",
       "      <td>Earthquake</td>\n",
       "      <td>Ground movement</td>\n",
       "      <td>Egypt</td>\n",
       "      <td>Northern Africa</td>\n",
       "      <td>Africa</td>\n",
       "      <td>Basse-Egypte</td>\n",
       "      <td>NaN</td>\n",
       "      <td>NaN</td>\n",
       "      <td>0</td>\n",
       "      <td>Richter</td>\n",
       "      <td>...</td>\n",
       "      <td>1926</td>\n",
       "      <td>6</td>\n",
       "      <td>26</td>\n",
       "      <td>1926</td>\n",
       "      <td>6</td>\n",
       "      <td>26</td>\n",
       "      <td>12</td>\n",
       "      <td>0</td>\n",
       "      <td>0</td>\n",
       "      <td>Micro</td>\n",
       "    </tr>\n",
       "  </tbody>\n",
       "</table>\n",
       "<p>20 rows × 22 columns</p>\n",
       "</div>"
      ],
      "text/plain": [
       "   Disaster Type Disaster Subtype     Country              Region Continent  \\\n",
       "2     Earthquake  Ground movement   Guatemala     Central America  Americas   \n",
       "9     Earthquake  Ground movement       India       Southern Asia      Asia   \n",
       "10    Earthquake  Ground movement       Chile       South America  Americas   \n",
       "11    Earthquake  Ground movement    Colombia       South America  Americas   \n",
       "15    Earthquake  Ground movement       China        Eastern Asia      Asia   \n",
       "21    Earthquake  Ground movement      France      Western Europe    Europe   \n",
       "28    Earthquake  Ground movement  Costa Rica     Central America  Americas   \n",
       "29    Earthquake  Ground movement     Algeria     Northern Africa    Africa   \n",
       "37    Earthquake  Ground movement   Indonesia  South-Eastern Asia      Asia   \n",
       "42    Earthquake  Ground movement       China        Eastern Asia      Asia   \n",
       "44    Earthquake  Ground movement   Guatemala     Central America  Americas   \n",
       "45    Earthquake  Ground movement   Indonesia  South-Eastern Asia      Asia   \n",
       "46    Earthquake  Ground movement       China        Eastern Asia      Asia   \n",
       "53    Earthquake  Ground movement       China        Eastern Asia      Asia   \n",
       "61    Earthquake  Ground movement       Chile       South America  Americas   \n",
       "68    Earthquake  Ground movement       China        Eastern Asia      Asia   \n",
       "70    Earthquake  Ground movement     Ecuador       South America  Americas   \n",
       "71    Earthquake  Ground movement   Indonesia  South-Eastern Asia      Asia   \n",
       "74    Earthquake  Ground movement       China        Eastern Asia      Asia   \n",
       "82    Earthquake  Ground movement       Egypt     Northern Africa    Africa   \n",
       "\n",
       "                                             Location Origin  \\\n",
       "2                           Quezaltenango, San Marcos    NaN   \n",
       "9                                              Kangra    NaN   \n",
       "10                                         Valparaiso    NaN   \n",
       "11                                             Tumako    NaN   \n",
       "15                                          Tien Shan    NaN   \n",
       "21  Lambesc, Saint-Cannat, Rognes, Vernegues, Char...    NaN   \n",
       "28                                            Cartago    NaN   \n",
       "29                                 Kabylie, Masqueray    NaN   \n",
       "37                     Kepahyang, Bengkulu (Sumatera)    NaN   \n",
       "42                                    Yunnan province    NaN   \n",
       "44                                     Guatemala city    NaN   \n",
       "45                                               Bali    NaN   \n",
       "46                              Kwangtung (Guangdong)    NaN   \n",
       "53                            Gansu, Shanxi provinces    NaN   \n",
       "61                                            Atacama    NaN   \n",
       "68                                            Sichuan    NaN   \n",
       "70                                         Chimborazo    NaN   \n",
       "71                            Wonosobo (Central Java)    NaN   \n",
       "74                           Talifu (Yunnan province)    NaN   \n",
       "82                                       Basse-Egypte    NaN   \n",
       "\n",
       "                   Associated Dis  Dis Mag Value Dis Mag Scale  ...  \\\n",
       "2              Tsunami/Tidal wave              8       Richter  ...   \n",
       "9                             NaN              8       Richter  ...   \n",
       "10             Tsunami/Tidal wave              8       Richter  ...   \n",
       "11             Tsunami/Tidal wave              9       Richter  ...   \n",
       "15                            NaN              7       Richter  ...   \n",
       "21                            NaN              6       Richter  ...   \n",
       "28                            NaN              0       Richter  ...   \n",
       "29                            NaN              6       Richter  ...   \n",
       "37             Tsunami/Tidal wave              8       Richter  ...   \n",
       "42                            NaN              7       Richter  ...   \n",
       "44                            NaN              6       Richter  ...   \n",
       "45                            NaN              7       Richter  ...   \n",
       "46             Tsunami/Tidal wave              7       Richter  ...   \n",
       "53  Slide (land, mud, snow, rock)              9       Richter  ...   \n",
       "61             Tsunami/Tidal wave              9       Richter  ...   \n",
       "68                            NaN              7       Richter  ...   \n",
       "70                            NaN              7       Richter  ...   \n",
       "71                            NaN              0       Richter  ...   \n",
       "74                            NaN              7       Richter  ...   \n",
       "82                            NaN              0       Richter  ...   \n",
       "\n",
       "   Start Year Start Month  Start Day  End Year  End Month  End Day  \\\n",
       "2        1902           4         18      1902          4       18   \n",
       "9        1905           4          4      1905          4        4   \n",
       "10       1906           8         16      1906          8       16   \n",
       "11       1906           1         31      1906          1       31   \n",
       "15       1907          10         21      1907         10       21   \n",
       "21       1909           6         11      1909          6       11   \n",
       "28       1910           4         13      1910          4       13   \n",
       "29       1910           6         24      1910          6       24   \n",
       "37       1914           6         26      1914          6       26   \n",
       "42       1917           7         31      1917          7       31   \n",
       "44       1917          12         25      1917         12       25   \n",
       "45       1917           1         21      1917          1       21   \n",
       "46       1918           2         13      1918          2       13   \n",
       "53       1920          12         16      1920         12       16   \n",
       "61       1922          11         11      1922         11       11   \n",
       "68       1923           3         24      1923          3       24   \n",
       "70       1924           3          3      1924          3        3   \n",
       "71       1924          12          2      1924         12        2   \n",
       "74       1925           3         16      1925          3       16   \n",
       "82       1926           6         26      1926          6       26   \n",
       "\n",
       "    Total Deaths  Total Affected  Total Damages Adj           Earthquake Type  \n",
       "2           2000               0             843726                     Major  \n",
       "9          20000               0             812477  Legendary or Apocalyptic  \n",
       "10         20000               0            3249907  Legendary or Apocalyptic  \n",
       "11           400               0                  0      Epic or Catastrophic  \n",
       "15         12000               0                  0  Legendary or Apocalyptic  \n",
       "21            46               0                  0                  Moderate  \n",
       "28          1750               0                  0                     Micro  \n",
       "29            12               0                  0                  Moderate  \n",
       "37            20              20                  0                     Major  \n",
       "42          1800               0                  0                    Strong  \n",
       "44          2650               0                  0  Legendary or Apocalyptic  \n",
       "45         15000               0                  0  Legendary or Apocalyptic  \n",
       "46         10000               0                  0  Legendary or Apocalyptic  \n",
       "53        180000               0             364400  Legendary or Apocalyptic  \n",
       "61          1000               0                  0      Epic or Catastrophic  \n",
       "68          5000               0                  0  Legendary or Apocalyptic  \n",
       "70            40               0                  0                    Strong  \n",
       "71           727           11250                  0                     Micro  \n",
       "74          5000               0                  0  Legendary or Apocalyptic  \n",
       "82            12               0                  0                     Micro  \n",
       "\n",
       "[20 rows x 22 columns]"
      ]
     },
     "execution_count": 137,
     "metadata": {},
     "output_type": "execute_result"
    }
   ],
   "source": [
    "df_earthquake['Earthquake Type'] = df_earthquake.apply(assign_earthquake_type, axis=1)\n",
    "df_earthquake.head(20)"
   ]
  },
  {
   "cell_type": "markdown",
   "metadata": {},
   "source": [
    "### Codificación categórica a numérica"
   ]
  },
  {
   "cell_type": "markdown",
   "metadata": {},
   "source": [
    "#### Convertir Earthquake Type a Destruction Level numérica con OneHotEncoder"
   ]
  },
  {
   "cell_type": "code",
   "execution_count": 138,
   "metadata": {},
   "outputs": [
    {
     "name": "stdout",
     "output_type": "stream",
     "text": [
      "   Disaster Type Disaster Subtype    Country           Region Continent  \\\n",
      "2     Earthquake  Ground movement  Guatemala  Central America  Americas   \n",
      "9     Earthquake  Ground movement      India    Southern Asia      Asia   \n",
      "10    Earthquake  Ground movement      Chile    South America  Americas   \n",
      "11    Earthquake  Ground movement   Colombia    South America  Americas   \n",
      "15    Earthquake  Ground movement      China     Eastern Asia      Asia   \n",
      "\n",
      "                     Location Origin      Associated Dis  Dis Mag Value  \\\n",
      "2   Quezaltenango, San Marcos    NaN  Tsunami/Tidal wave              8   \n",
      "9                      Kangra    NaN                 NaN              8   \n",
      "10                 Valparaiso    NaN  Tsunami/Tidal wave              8   \n",
      "11                     Tumako    NaN  Tsunami/Tidal wave              9   \n",
      "15                  Tien Shan    NaN                 NaN              7   \n",
      "\n",
      "   Dis Mag Scale  ... Total Affected Total Damages Adj  \\\n",
      "2        Richter  ...              0            843726   \n",
      "9        Richter  ...              0            812477   \n",
      "10       Richter  ...              0           3249907   \n",
      "11       Richter  ...              0                 0   \n",
      "15       Richter  ...              0                 0   \n",
      "\n",
      "             Earthquake Type  Destruction Level  Destruction_1.0  \\\n",
      "2                      Major                6.0                0   \n",
      "9   Legendary or Apocalyptic                NaN                0   \n",
      "10  Legendary or Apocalyptic                NaN                0   \n",
      "11      Epic or Catastrophic                NaN                0   \n",
      "15  Legendary or Apocalyptic                NaN                0   \n",
      "\n",
      "    Destruction_2.0  Destruction_3.0  Destruction_4.0  Destruction_5.0  \\\n",
      "2                 0                0                0                0   \n",
      "9                 0                0                0                0   \n",
      "10                0                0                0                0   \n",
      "11                0                0                0                0   \n",
      "15                0                0                0                0   \n",
      "\n",
      "    Destruction_6.0  \n",
      "2                 1  \n",
      "9                 0  \n",
      "10                0  \n",
      "11                0  \n",
      "15                0  \n",
      "\n",
      "[5 rows x 29 columns]\n"
     ]
    },
    {
     "name": "stderr",
     "output_type": "stream",
     "text": [
      "C:\\Users\\AleEng\\AppData\\Local\\Temp\\ipykernel_17656\\2280652006.py:24: SettingWithCopyWarning: \n",
      "A value is trying to be set on a copy of a slice from a DataFrame.\n",
      "Try using .loc[row_indexer,col_indexer] = value instead\n",
      "\n",
      "See the caveats in the documentation: https://pandas.pydata.org/pandas-docs/stable/user_guide/indexing.html#returning-a-view-versus-a-copy\n",
      "  df_earthquake['Destruction Level'] = df_earthquake['Earthquake Type'].map(destruction_mapping)\n"
     ]
    }
   ],
   "source": [
    "# Crear instancia de OneHotEncoder\n",
    "encoder = OneHotEncoder()\n",
    "\n",
    "# Ajustar y transformar la columna 'Earthquake Type'\n",
    "earthquake_type_encoded = encoder.fit_transform(df_earthquake[['Earthquake Type']]).toarray()\n",
    "\n",
    "# Obtener valores únicos en columna 'Earthquake Type'\n",
    "unique_earthquake_types = df_earthquake['Earthquake Type'].unique()\n",
    "\n",
    "# Definir un diccionario de mapeo para las categorías en 'Earthquake Type' a valores numéricos\n",
    "destruction_mapping = {\n",
    "    'Micro': 1,\n",
    "    'Minor': 2,\n",
    "    'Light': 3,\n",
    "    'Moderate': 4,\n",
    "    'Strong': 5,\n",
    "    'Major': 6,\n",
    "    'Great': 7,\n",
    "    'Legendary': 8,\n",
    "    'Apocalyptic': 9\n",
    "}\n",
    "\n",
    "# Crear una nueva columna 'Destruction Level' mapeando las categorías 'Earthquake Type' a valores numéricos\n",
    "df_earthquake['Destruction Level'] = df_earthquake['Earthquake Type'].map(destruction_mapping)\n",
    "\n",
    "# Aplicar one-hot encoding a columna 'Earthquake Type'\n",
    "destruction_encoded = pd.get_dummies(df_earthquake['Destruction Level'], prefix='Destruction')\n",
    "\n",
    "# Concatenar el DataFrame codificado con el original\n",
    "df_earthquake_encoded = pd.concat([df_earthquake, destruction_encoded], axis=1)\n",
    "\n",
    "# DataFrame actualizado\n",
    "print(df_earthquake_encoded.head())\n"
   ]
  },
  {
   "cell_type": "markdown",
   "metadata": {},
   "source": [
    "#### Revisión df_earthquake_encoded"
   ]
  },
  {
   "cell_type": "code",
   "execution_count": 139,
   "metadata": {},
   "outputs": [
    {
     "data": {
      "text/plain": [
       "(1597, 29)"
      ]
     },
     "execution_count": 139,
     "metadata": {},
     "output_type": "execute_result"
    }
   ],
   "source": [
    "df_earthquake_encoded.shape"
   ]
  },
  {
   "cell_type": "code",
   "execution_count": 140,
   "metadata": {},
   "outputs": [
    {
     "data": {
      "text/plain": [
       "1597"
      ]
     },
     "execution_count": 140,
     "metadata": {},
     "output_type": "execute_result"
    }
   ],
   "source": [
    "len(df_earthquake_encoded)"
   ]
  },
  {
   "cell_type": "code",
   "execution_count": 141,
   "metadata": {},
   "outputs": [
    {
     "name": "stdout",
     "output_type": "stream",
     "text": [
      "<class 'pandas.core.frame.DataFrame'>\n",
      "Int64Index: 1597 entries, 2 to 16617\n",
      "Data columns (total 29 columns):\n",
      " #   Column             Non-Null Count  Dtype  \n",
      "---  ------             --------------  -----  \n",
      " 0   Disaster Type      1597 non-null   object \n",
      " 1   Disaster Subtype   1597 non-null   object \n",
      " 2   Country            1597 non-null   object \n",
      " 3   Region             1597 non-null   object \n",
      " 4   Continent          1597 non-null   object \n",
      " 5   Location           1557 non-null   object \n",
      " 6   Origin             21 non-null     object \n",
      " 7   Associated Dis     342 non-null    object \n",
      " 8   Dis Mag Value      1597 non-null   int64  \n",
      " 9   Dis Mag Scale      1597 non-null   object \n",
      " 10  Latitude           1547 non-null   object \n",
      " 11  Longitude          1547 non-null   object \n",
      " 12  Start Year         1597 non-null   int64  \n",
      " 13  Start Month        1597 non-null   int64  \n",
      " 14  Start Day          1597 non-null   int64  \n",
      " 15  End Year           1597 non-null   int64  \n",
      " 16  End Month          1597 non-null   int64  \n",
      " 17  End Day            1597 non-null   int64  \n",
      " 18  Total Deaths       1597 non-null   int64  \n",
      " 19  Total Affected     1597 non-null   int64  \n",
      " 20  Total Damages Adj  1597 non-null   int64  \n",
      " 21  Earthquake Type    1597 non-null   object \n",
      " 22  Destruction Level  1471 non-null   float64\n",
      " 23  Destruction_1.0    1597 non-null   uint8  \n",
      " 24  Destruction_2.0    1597 non-null   uint8  \n",
      " 25  Destruction_3.0    1597 non-null   uint8  \n",
      " 26  Destruction_4.0    1597 non-null   uint8  \n",
      " 27  Destruction_5.0    1597 non-null   uint8  \n",
      " 28  Destruction_6.0    1597 non-null   uint8  \n",
      "dtypes: float64(1), int64(10), object(12), uint8(6)\n",
      "memory usage: 308.8+ KB\n"
     ]
    }
   ],
   "source": [
    "df_earthquake_encoded.info()"
   ]
  },
  {
   "cell_type": "code",
   "execution_count": 142,
   "metadata": {},
   "outputs": [
    {
     "data": {
      "text/plain": [
       "Index(['Disaster Type', 'Disaster Subtype', 'Country', 'Region', 'Continent',\n",
       "       'Location', 'Origin', 'Associated Dis', 'Dis Mag Value',\n",
       "       'Dis Mag Scale', 'Latitude', 'Longitude', 'Start Year', 'Start Month',\n",
       "       'Start Day', 'End Year', 'End Month', 'End Day', 'Total Deaths',\n",
       "       'Total Affected', 'Total Damages Adj', 'Earthquake Type',\n",
       "       'Destruction Level'],\n",
       "      dtype='object')"
      ]
     },
     "execution_count": 142,
     "metadata": {},
     "output_type": "execute_result"
    }
   ],
   "source": [
    "df_earthquake.columns"
   ]
  },
  {
   "cell_type": "code",
   "execution_count": 143,
   "metadata": {},
   "outputs": [
    {
     "data": {
      "text/plain": [
       "2        6.0\n",
       "9        NaN\n",
       "10       NaN\n",
       "11       NaN\n",
       "15       NaN\n",
       "        ... \n",
       "16610    4.0\n",
       "16611    3.0\n",
       "16614    3.0\n",
       "16616    4.0\n",
       "16617    3.0\n",
       "Name: Destruction Level, Length: 1597, dtype: float64"
      ]
     },
     "execution_count": 143,
     "metadata": {},
     "output_type": "execute_result"
    }
   ],
   "source": [
    "df_earthquake['Destruction Level']"
   ]
  },
  {
   "cell_type": "code",
   "execution_count": 144,
   "metadata": {},
   "outputs": [
    {
     "data": {
      "text/plain": [
       "126"
      ]
     },
     "execution_count": 144,
     "metadata": {},
     "output_type": "execute_result"
    }
   ],
   "source": [
    "df_earthquake['Destruction Level'].isnull().sum()"
   ]
  },
  {
   "cell_type": "markdown",
   "metadata": {},
   "source": [
    "#### Imputación de nulos en columna salida (y) Destruction Level con Simple Imputer"
   ]
  },
  {
   "cell_type": "code",
   "execution_count": 145,
   "metadata": {},
   "outputs": [
    {
     "name": "stderr",
     "output_type": "stream",
     "text": [
      "C:\\Users\\AleEng\\AppData\\Local\\Temp\\ipykernel_17656\\3270610574.py:2: SettingWithCopyWarning: \n",
      "A value is trying to be set on a copy of a slice from a DataFrame.\n",
      "Try using .loc[row_indexer,col_indexer] = value instead\n",
      "\n",
      "See the caveats in the documentation: https://pandas.pydata.org/pandas-docs/stable/user_guide/indexing.html#returning-a-view-versus-a-copy\n",
      "  df_earthquake['Destruction Level'] = SimpleImputer(missing_values=np.nan, strategy='mean').fit_transform(df_earthquake[['Destruction Level']])\n"
     ]
    },
    {
     "data": {
      "text/plain": [
       "2        6.000000\n",
       "9        4.154317\n",
       "10       4.154317\n",
       "11       4.154317\n",
       "15       4.154317\n",
       "           ...   \n",
       "16610    4.000000\n",
       "16611    3.000000\n",
       "16614    3.000000\n",
       "16616    4.000000\n",
       "16617    3.000000\n",
       "Name: Destruction Level, Length: 1597, dtype: float64"
      ]
     },
     "execution_count": 145,
     "metadata": {},
     "output_type": "execute_result"
    }
   ],
   "source": [
    "# Imputar nulos en la columna de salida (y) que es Destruction Level\n",
    "df_earthquake['Destruction Level'] = SimpleImputer(missing_values=np.nan, strategy='mean').fit_transform(df_earthquake[['Destruction Level']])\n",
    "df_earthquake['Destruction Level']\n",
    "# borrar en lugar de imputar\n",
    "# df = df.dropna('Earthquake Type')"
   ]
  },
  {
   "cell_type": "code",
   "execution_count": 146,
   "metadata": {},
   "outputs": [
    {
     "data": {
      "text/plain": [
       "1597"
      ]
     },
     "execution_count": 146,
     "metadata": {},
     "output_type": "execute_result"
    }
   ],
   "source": [
    "df_earthquake['Earthquake Type'].isna().sum()\n",
    "df_earthquake['Earthquake Type'].unique()\n",
    "len(df_earthquake['Earthquake Type'])"
   ]
  },
  {
   "cell_type": "markdown",
   "metadata": {},
   "source": [
    "### EDA Visualizaciones de 'Destruction Level' o Nivel de Destrucción"
   ]
  },
  {
   "cell_type": "code",
   "execution_count": 147,
   "metadata": {},
   "outputs": [
    {
     "data": {
      "image/png": "[encoded data removed]",
      "text/plain": [
       "<Figure size 640x480 with 1 Axes>"
      ]
     },
     "metadata": {},
     "output_type": "display_data"
    }
   ],
   "source": [
    "sns.countplot(data=df_earthquake, x='Destruction Level')\n",
    "plt.title('Conteo de Nivel de Destrucción - Destruction Level')\n",
    "plt.xlabel('Destruction Level')\n",
    "plt.ylabel('Conteo')\n",
    "plt.show()"
   ]
  },
  {
   "cell_type": "code",
   "execution_count": 148,
   "metadata": {},
   "outputs": [
    {
     "data": {
      "image/png": "[encoded data removed]",
      "text/plain": [
       "<Figure size 640x480 with 1 Axes>"
      ]
     },
     "metadata": {},
     "output_type": "display_data"
    }
   ],
   "source": [
    "sns.histplot(data=df_earthquake, x='Destruction Level', kde=True)\n",
    "plt.title(f'Distribución de Nivel de Destrucción')\n",
    "plt.xlabel('Destruction Level')\n",
    "plt.ylabel('Densidad')\n",
    "plt.show()"
   ]
  },
  {
   "cell_type": "markdown",
   "metadata": {},
   "source": [
    "Con el filtro > 0 cambia la densidad por nivel de destrucción, siendo 2 la más alta, seguida de 1 y 4."
   ]
  },
  {
   "cell_type": "code",
   "execution_count": 149,
   "metadata": {},
   "outputs": [
    {
     "data": {
      "image/png": "[encoded data removed]",
      "text/plain": [
       "<Figure size 640x480 with 1 Axes>"
      ]
     },
     "metadata": {},
     "output_type": "display_data"
    },
    {
     "data": {
      "image/png": "[encoded data removed]",
      "text/plain": [
       "<Figure size 640x480 with 1 Axes>"
      ]
     },
     "metadata": {},
     "output_type": "display_data"
    },
    {
     "data": {
      "image/png": "[encoded data removed]",
      "text/plain": [
       "<Figure size 640x480 with 1 Axes>"
      ]
     },
     "metadata": {},
     "output_type": "display_data"
    },
    {
     "data": {
      "image/png": "[encoded data removed]",
      "text/plain": [
       "<Figure size 640x480 with 1 Axes>"
      ]
     },
     "metadata": {},
     "output_type": "display_data"
    },
    {
     "data": {
      "image/png": "[encoded data removed]",
      "text/plain": [
       "<Figure size 640x480 with 1 Axes>"
      ]
     },
     "metadata": {},
     "output_type": "display_data"
    },
    {
     "data": {
      "image/png": "[encoded data removed]",
      "text/plain": [
       "<Figure size 640x480 with 1 Axes>"
      ]
     },
     "metadata": {},
     "output_type": "display_data"
    }
   ],
   "source": [
    "num_cols = ['Dis Mag Value', 'Start Month', 'Start Year', 'Total Deaths', 'Total Affected', 'Total Damages Adj']\n",
    "for col in num_cols:\n",
    "    sns.boxplot(data=df_earthquake, x='Destruction Level', y=col)\n",
    "    plt.title(f'Distribución de {col} por Nivel de Destrucción')\n",
    "    plt.xlabel('Nivel de Destrucción')\n",
    "    plt.ylabel(col)\n",
    "    plt.show()"
   ]
  },
  {
   "cell_type": "code",
   "execution_count": 150,
   "metadata": {},
   "outputs": [],
   "source": [
    "# sns.pairplot(df_earthquake)\n",
    "# Demasiado tiempo para procesar"
   ]
  },
  {
   "cell_type": "code",
   "execution_count": 151,
   "metadata": {},
   "outputs": [
    {
     "data": {
      "image/png": "[encoded data removed]",
      "text/plain": [
       "<Figure size 1000x600 with 2 Axes>"
      ]
     },
     "metadata": {},
     "output_type": "display_data"
    }
   ],
   "source": [
    "plt.figure(figsize=(10, 6))\n",
    "df_corr = df_earthquake.corr(numeric_only=True).round(2)\n",
    "sns.heatmap(df_corr, cmap='viridis', annot=True);"
   ]
  },
  {
   "cell_type": "code",
   "execution_count": 152,
   "metadata": {},
   "outputs": [
    {
     "data": {
      "text/plain": [
       "<Axes: xlabel='Dis Mag Value', ylabel='Destruction Level'>"
      ]
     },
     "execution_count": 152,
     "metadata": {},
     "output_type": "execute_result"
    },
    {
     "data": {
      "image/png": "[encoded data removed]",
      "text/plain": [
       "<Figure size 640x480 with 1 Axes>"
      ]
     },
     "metadata": {},
     "output_type": "display_data"
    }
   ],
   "source": [
    "sns.scatterplot(data=df_earthquake, x='Dis Mag Value', y='Destruction Level', hue='Dis Mag Value', palette='rocket_r')"
   ]
  },
  {
   "cell_type": "code",
   "execution_count": 153,
   "metadata": {},
   "outputs": [
    {
     "data": {
      "text/plain": [
       "<Axes: xlabel='Start Month', ylabel='Destruction Level'>"
      ]
     },
     "execution_count": 153,
     "metadata": {},
     "output_type": "execute_result"
    },
    {
     "data": {
      "image/png": "[encoded data removed]",
      "text/plain": [
       "<Figure size 640x480 with 1 Axes>"
      ]
     },
     "metadata": {},
     "output_type": "display_data"
    }
   ],
   "source": [
    "sns.scatterplot(data=df_earthquake, x='Start Month', y='Destruction Level', hue='Start Month', palette='rocket_r')"
   ]
  },
  {
   "cell_type": "code",
   "execution_count": 154,
   "metadata": {},
   "outputs": [
    {
     "data": {
      "text/plain": [
       "<Axes: xlabel='Start Year', ylabel='Destruction Level'>"
      ]
     },
     "execution_count": 154,
     "metadata": {},
     "output_type": "execute_result"
    },
    {
     "data": {
      "image/png": "[encoded data removed]",
      "text/plain": [
       "<Figure size 640x480 with 1 Axes>"
      ]
     },
     "metadata": {},
     "output_type": "display_data"
    }
   ],
   "source": [
    "sns.scatterplot(data=df_earthquake, x='Start Year', y='Destruction Level', hue='Start Year', palette='rocket_r')"
   ]
  },
  {
   "cell_type": "code",
   "execution_count": 155,
   "metadata": {},
   "outputs": [
    {
     "data": {
      "text/plain": [
       "<Axes: xlabel='Total Deaths', ylabel='Destruction Level'>"
      ]
     },
     "execution_count": 155,
     "metadata": {},
     "output_type": "execute_result"
    },
    {
     "data": {
      "image/png": "[encoded data removed]",
      "text/plain": [
       "<Figure size 640x480 with 1 Axes>"
      ]
     },
     "metadata": {},
     "output_type": "display_data"
    }
   ],
   "source": [
    "sns.scatterplot(data=df_earthquake, x='Total Deaths', y='Destruction Level', hue='Total Deaths', palette='rocket_r')"
   ]
  },
  {
   "cell_type": "code",
   "execution_count": 156,
   "metadata": {},
   "outputs": [
    {
     "data": {
      "text/plain": [
       "<Axes: xlabel='Total Affected', ylabel='Destruction Level'>"
      ]
     },
     "execution_count": 156,
     "metadata": {},
     "output_type": "execute_result"
    },
    {
     "data": {
      "image/png": "[encoded data removed]",
      "text/plain": [
       "<Figure size 640x480 with 1 Axes>"
      ]
     },
     "metadata": {},
     "output_type": "display_data"
    }
   ],
   "source": [
    "sns.scatterplot(data=df_earthquake, x='Total Affected', y='Destruction Level', hue='Total Affected', palette='rocket_r')"
   ]
  },
  {
   "cell_type": "code",
   "execution_count": 157,
   "metadata": {},
   "outputs": [
    {
     "data": {
      "text/plain": [
       "<Axes: xlabel='Total Damages Adj', ylabel='Destruction Level'>"
      ]
     },
     "execution_count": 157,
     "metadata": {},
     "output_type": "execute_result"
    },
    {
     "data": {
      "image/png": "[encoded data removed]",
      "text/plain": [
       "<Figure size 640x480 with 1 Axes>"
      ]
     },
     "metadata": {},
     "output_type": "display_data"
    }
   ],
   "source": [
    "sns.scatterplot(data=df_earthquake, x='Total Damages Adj', y='Destruction Level', hue='Total Damages Adj', palette='rocket_r')"
   ]
  },
  {
   "cell_type": "markdown",
   "metadata": {},
   "source": [
    "* La primera visualización muestra la relación entre 'Dis Mag Value' y 'Destruction Level'. Sugiere que existe una fuerte correlación entre estas dos variables, ya que el 'Nivel de destrucción' tiende a aumentar con un 'Valor de Magnitud de Desastre' más alto.\n",
    "* La segunda visualización muestra la relación entre el 'Mes de inicio' y el 'Nivel de destrucción'. Indica que podría haber alguna variación en el 'Nivel de destrucción' entre diferentes meses, aunque el patrón no está explícitamente claro.\n",
    "* La tercera visualización representa la relación entre el 'Año de inicio' y el 'Nivel de destrucción'. Sugiere que podría haber algunas tendencias o patrones en el 'Nivel de destrucción' a lo largo de los años, aunque una visión más específica requeriría un análisis más profundo, dado que influye la capacidad de recolección de datos por el incremento y mejora en conocimientos estadísticos e implementación de nuevas tecnologías.\n",
    "* La cuarta visualización muestra la relación entre 'Muertes Totales' y 'Nivel de Destrucción'. Indica que un 'Total de muertes' más alto generalmente corresponde a un 'Nivel de destrucción' más alto.\n",
    "* La quinta visualización muestra la relación entre 'Total de afectados' y 'Nivel de destrucción'. Sugiere que un 'total afectado' más alto tiende a asociarse con un 'nivel de destrucción' más alto.\n",
    "* La sexta visualización representa la relación entre 'Total Damages Adj' y 'Destruction Level'. Indica que un 'Ajuste total de daños' más alto generalmente corresponde a un 'Nivel de destrucción' más alto."
   ]
  },
  {
   "cell_type": "markdown",
   "metadata": {},
   "source": [
    "## Preparar X y"
   ]
  },
  {
   "cell_type": "code",
   "execution_count": 158,
   "metadata": {},
   "outputs": [],
   "source": [
    "X = df_earthquake.select_dtypes(exclude=['object'])  # Excluir columnas categóricas\n",
    "# X = X.drop('Destruction Level', axis=1)  # Quitar 'Destruction Level' de X\n",
    "X = X.drop('Total Damages Adj', axis=1)  # Quitar 'Destruction Level' de X\n",
    "y = df_earthquake['Total Damages Adj']"
   ]
  },
  {
   "cell_type": "markdown",
   "metadata": {},
   "source": [
    "## train_test_split"
   ]
  },
  {
   "cell_type": "code",
   "execution_count": 159,
   "metadata": {},
   "outputs": [
    {
     "name": "stdout",
     "output_type": "stream",
     "text": [
      "train: (1277, 10), (1277,)\n",
      "test: (320, 10), (320,)\n"
     ]
    }
   ],
   "source": [
    "X_train, X_test, y_train, y_test = train_test_split(X, y, test_size=0.20, random_state=42)\n",
    "\n",
    "print(f\"train: {X_train.shape}, {y_train.shape}\")\n",
    "print(f\"test: {X_test.shape}, {y_test.shape}\")"
   ]
  },
  {
   "cell_type": "markdown",
   "metadata": {},
   "source": [
    "# Modelo"
   ]
  },
  {
   "cell_type": "markdown",
   "metadata": {},
   "source": [
    "## Definir el Modelo"
   ]
  },
  {
   "cell_type": "markdown",
   "metadata": {},
   "source": [
    "#### Pipeline columnas numéricas"
   ]
  },
  {
   "cell_type": "code",
   "execution_count": 160,
   "metadata": {},
   "outputs": [],
   "source": [
    "pipeline = Pipeline([\n",
    "    ('imputer', SimpleImputer(strategy='most_frequent')),  # Imputar valores faltantes usando most_frequent\n",
    "    ('scaler', StandardScaler()),  # Escalar características numéricas\n",
    "    ('classifier', GradientBoostingClassifier()) # Modelo elegido a partir de validación al ser el mejor del ranking\n",
    "])"
   ]
  },
  {
   "cell_type": "markdown",
   "metadata": {},
   "source": [
    "## Ejecución de pipeline"
   ]
  },
  {
   "cell_type": "markdown",
   "metadata": {},
   "source": [
    "### Entrenar el modelo"
   ]
  },
  {
   "cell_type": "code",
   "execution_count": 161,
   "metadata": {},
   "outputs": [
    {
     "data": {
      "text/html": [
       "<style>#sk-container-id-3 {color: black;background-color: white;}#sk-container-id-3 pre{padding: 0;}#sk-container-id-3 div.sk-toggleable {background-color: white;}#sk-container-id-3 label.sk-toggleable__label {cursor: pointer;display: block;width: 100%;margin-bottom: 0;padding: 0.3em;box-sizing: border-box;text-align: center;}#sk-container-id-3 label.sk-toggleable__label-arrow:before {content: \"▸\";float: left;margin-right: 0.25em;color: #696969;}#sk-container-id-3 label.sk-toggleable__label-arrow:hover:before {color: black;}#sk-container-id-3 div.sk-estimator:hover label.sk-toggleable__label-arrow:before {color: black;}#sk-container-id-3 div.sk-toggleable__content {max-height: 0;max-width: 0;overflow: hidden;text-align: left;background-color: #f0f8ff;}#sk-container-id-3 div.sk-toggleable__content pre {margin: 0.2em;color: black;border-radius: 0.25em;background-color: #f0f8ff;}#sk-container-id-3 input.sk-toggleable__control:checked~div.sk-toggleable__content {max-height: 200px;max-width: 100%;overflow: auto;}#sk-container-id-3 input.sk-toggleable__control:checked~label.sk-toggleable__label-arrow:before {content: \"▾\";}#sk-container-id-3 div.sk-estimator input.sk-toggleable__control:checked~label.sk-toggleable__label {background-color: #d4ebff;}#sk-container-id-3 div.sk-label input.sk-toggleable__control:checked~label.sk-toggleable__label {background-color: #d4ebff;}#sk-container-id-3 input.sk-hidden--visually {border: 0;clip: rect(1px 1px 1px 1px);clip: rect(1px, 1px, 1px, 1px);height: 1px;margin: -1px;overflow: hidden;padding: 0;position: absolute;width: 1px;}#sk-container-id-3 div.sk-estimator {font-family: monospace;background-color: #f0f8ff;border: 1px dotted black;border-radius: 0.25em;box-sizing: border-box;margin-bottom: 0.5em;}#sk-container-id-3 div.sk-estimator:hover {background-color: #d4ebff;}#sk-container-id-3 div.sk-parallel-item::after {content: \"\";width: 100%;border-bottom: 1px solid gray;flex-grow: 1;}#sk-container-id-3 div.sk-label:hover label.sk-toggleable__label {background-color: #d4ebff;}#sk-container-id-3 div.sk-serial::before {content: \"\";position: absolute;border-left: 1px solid gray;box-sizing: border-box;top: 0;bottom: 0;left: 50%;z-index: 0;}#sk-container-id-3 div.sk-serial {display: flex;flex-direction: column;align-items: center;background-color: white;padding-right: 0.2em;padding-left: 0.2em;position: relative;}#sk-container-id-3 div.sk-item {position: relative;z-index: 1;}#sk-container-id-3 div.sk-parallel {display: flex;align-items: stretch;justify-content: center;background-color: white;position: relative;}#sk-container-id-3 div.sk-item::before, #sk-container-id-3 div.sk-parallel-item::before {content: \"\";position: absolute;border-left: 1px solid gray;box-sizing: border-box;top: 0;bottom: 0;left: 50%;z-index: -1;}#sk-container-id-3 div.sk-parallel-item {display: flex;flex-direction: column;z-index: 1;position: relative;background-color: white;}#sk-container-id-3 div.sk-parallel-item:first-child::after {align-self: flex-end;width: 50%;}#sk-container-id-3 div.sk-parallel-item:last-child::after {align-self: flex-start;width: 50%;}#sk-container-id-3 div.sk-parallel-item:only-child::after {width: 0;}#sk-container-id-3 div.sk-dashed-wrapped {border: 1px dashed gray;margin: 0 0.4em 0.5em 0.4em;box-sizing: border-box;padding-bottom: 0.4em;background-color: white;}#sk-container-id-3 div.sk-label label {font-family: monospace;font-weight: bold;display: inline-block;line-height: 1.2em;}#sk-container-id-3 div.sk-label-container {text-align: center;}#sk-container-id-3 div.sk-container {/* jupyter's `normalize.less` sets `[hidden] { display: none; }` but bootstrap.min.css set `[hidden] { display: none !important; }` so we also need the `!important` here to be able to override the default hidden behavior on the sphinx rendered scikit-learn.org. See: https://github.com/scikit-learn/scikit-learn/issues/21755 */display: inline-block !important;position: relative;}#sk-container-id-3 div.sk-text-repr-fallback {display: none;}</style><div id=\"sk-container-id-3\" class=\"sk-top-container\"><div class=\"sk-text-repr-fallback\"><pre>Pipeline(steps=[(&#x27;imputer&#x27;, SimpleImputer(strategy=&#x27;most_frequent&#x27;)),\n",
       "                (&#x27;scaler&#x27;, StandardScaler()),\n",
       "                (&#x27;classifier&#x27;, GradientBoostingClassifier())])</pre><b>In a Jupyter environment, please rerun this cell to show the HTML representation or trust the notebook. <br />On GitHub, the HTML representation is unable to render, please try loading this page with nbviewer.org.</b></div><div class=\"sk-container\" hidden><div class=\"sk-item sk-dashed-wrapped\"><div class=\"sk-label-container\"><div class=\"sk-label sk-toggleable\"><input class=\"sk-toggleable__control sk-hidden--visually\" id=\"sk-estimator-id-9\" type=\"checkbox\" ><label for=\"sk-estimator-id-9\" class=\"sk-toggleable__label sk-toggleable__label-arrow\">Pipeline</label><div class=\"sk-toggleable__content\"><pre>Pipeline(steps=[(&#x27;imputer&#x27;, SimpleImputer(strategy=&#x27;most_frequent&#x27;)),\n",
       "                (&#x27;scaler&#x27;, StandardScaler()),\n",
       "                (&#x27;classifier&#x27;, GradientBoostingClassifier())])</pre></div></div></div><div class=\"sk-serial\"><div class=\"sk-item\"><div class=\"sk-estimator sk-toggleable\"><input class=\"sk-toggleable__control sk-hidden--visually\" id=\"sk-estimator-id-10\" type=\"checkbox\" ><label for=\"sk-estimator-id-10\" class=\"sk-toggleable__label sk-toggleable__label-arrow\">SimpleImputer</label><div class=\"sk-toggleable__content\"><pre>SimpleImputer(strategy=&#x27;most_frequent&#x27;)</pre></div></div></div><div class=\"sk-item\"><div class=\"sk-estimator sk-toggleable\"><input class=\"sk-toggleable__control sk-hidden--visually\" id=\"sk-estimator-id-11\" type=\"checkbox\" ><label for=\"sk-estimator-id-11\" class=\"sk-toggleable__label sk-toggleable__label-arrow\">StandardScaler</label><div class=\"sk-toggleable__content\"><pre>StandardScaler()</pre></div></div></div><div class=\"sk-item\"><div class=\"sk-estimator sk-toggleable\"><input class=\"sk-toggleable__control sk-hidden--visually\" id=\"sk-estimator-id-12\" type=\"checkbox\" ><label for=\"sk-estimator-id-12\" class=\"sk-toggleable__label sk-toggleable__label-arrow\">GradientBoostingClassifier</label><div class=\"sk-toggleable__content\"><pre>GradientBoostingClassifier()</pre></div></div></div></div></div></div></div>"
      ],
      "text/plain": [
       "Pipeline(steps=[('imputer', SimpleImputer(strategy='most_frequent')),\n",
       "                ('scaler', StandardScaler()),\n",
       "                ('classifier', GradientBoostingClassifier())])"
      ]
     },
     "execution_count": 161,
     "metadata": {},
     "output_type": "execute_result"
    }
   ],
   "source": [
    "pipeline.fit(X_train, y_train)"
   ]
  },
  {
   "cell_type": "markdown",
   "metadata": {},
   "source": [
    "#### Explicación de pipeline:\n",
    "Incluye los siguientes pasos: SimpleImputer, StandardScaler y GradientBoostingClassifier.\n",
    "* SimpleImputer para manejar los valores faltantes en los datos.\n",
    "* StandardScaler para estandarizar las características numéricas, asegurando que tengan una media cero y una varianza unitaria.\n",
    "* GradientBoostingClassifier es el modelo de clasificación elegido."
   ]
  },
  {
   "cell_type": "markdown",
   "metadata": {},
   "source": [
    "## Ejecución de pipeline"
   ]
  },
  {
   "cell_type": "code",
   "execution_count": 162,
   "metadata": {},
   "outputs": [],
   "source": [
    "pipeline.fit(X_train, y_train)\n",
    "y_pred = pipeline.predict(X_test)"
   ]
  },
  {
   "cell_type": "markdown",
   "metadata": {},
   "source": [
    "## Guardar pipeline"
   ]
  },
  {
   "cell_type": "markdown",
   "metadata": {},
   "source": [
    "Se usa joblib para guardar modelos o pipelines.\n",
    "\n",
    "Serializa un modelo o pipeline (objeto Python) a una secuencia de bytes que se almacenan en un archivo\n",
    "\n",
    "* joblib.dump()\n",
    "* joblib.load()"
   ]
  },
  {
   "cell_type": "code",
   "execution_count": 163,
   "metadata": {},
   "outputs": [
    {
     "data": {
      "text/plain": [
       "['pipelineGBC_Earthquake_DestructionL.joblib']"
      ]
     },
     "execution_count": 163,
     "metadata": {},
     "output_type": "execute_result"
    }
   ],
   "source": [
    "# pickle .pkl o .joblib\n",
    "joblib.dump(pipeline, 'pipelineGBC_Earthquake_DestructionL.pkl') # más genérico\n",
    "joblib.dump(pipeline, 'pipelineGBC_Earthquake_DestructionL.joblib') # más eficiente con muchos datos"
   ]
  },
  {
   "cell_type": "markdown",
   "metadata": {},
   "source": [
    "## Cargar pipeline"
   ]
  },
  {
   "cell_type": "code",
   "execution_count": 164,
   "metadata": {},
   "outputs": [
    {
     "data": {
      "text/plain": [
       "array([  2472,  13641,   2472,      0, 208567,      0,      0,      0,\n",
       "         1609,      0], dtype=int64)"
      ]
     },
     "execution_count": 164,
     "metadata": {},
     "output_type": "execute_result"
    }
   ],
   "source": [
    "pipeline = joblib.load('pipelineGBC_Earthquake_DestructionL.joblib')\n",
    "pipeline.predict(X_test)[:10]"
   ]
  },
  {
   "cell_type": "markdown",
   "metadata": {},
   "source": [
    "# Evaluar Modelo"
   ]
  },
  {
   "cell_type": "markdown",
   "metadata": {},
   "source": [
    "### Predicción y_pred"
   ]
  },
  {
   "cell_type": "code",
   "execution_count": 165,
   "metadata": {},
   "outputs": [],
   "source": [
    "y_pred = pipeline.predict(X_test)"
   ]
  },
  {
   "cell_type": "code",
   "execution_count": 166,
   "metadata": {},
   "outputs": [
    {
     "data": {
      "text/plain": [
       "(320,)"
      ]
     },
     "execution_count": 166,
     "metadata": {},
     "output_type": "execute_result"
    }
   ],
   "source": [
    "y_pred.shape"
   ]
  },
  {
   "cell_type": "markdown",
   "metadata": {},
   "source": [
    "# Últimas comprobaciones dataframe"
   ]
  },
  {
   "cell_type": "code",
   "execution_count": 167,
   "metadata": {},
   "outputs": [
    {
     "data": {
      "text/html": [
       "<div>\n",
       "<style scoped>\n",
       "    .dataframe tbody tr th:only-of-type {\n",
       "        vertical-align: middle;\n",
       "    }\n",
       "\n",
       "    .dataframe tbody tr th {\n",
       "        vertical-align: top;\n",
       "    }\n",
       "\n",
       "    .dataframe thead th {\n",
       "        text-align: right;\n",
       "    }\n",
       "</style>\n",
       "<table border=\"1\" class=\"dataframe\">\n",
       "  <thead>\n",
       "    <tr style=\"text-align: right;\">\n",
       "      <th></th>\n",
       "      <th>Disaster Type</th>\n",
       "      <th>Disaster Subtype</th>\n",
       "      <th>Country</th>\n",
       "      <th>Region</th>\n",
       "      <th>Continent</th>\n",
       "      <th>Location</th>\n",
       "      <th>Origin</th>\n",
       "      <th>Associated Dis</th>\n",
       "      <th>Dis Mag Value</th>\n",
       "      <th>Dis Mag Scale</th>\n",
       "      <th>...</th>\n",
       "      <th>Start Month</th>\n",
       "      <th>Start Day</th>\n",
       "      <th>End Year</th>\n",
       "      <th>End Month</th>\n",
       "      <th>End Day</th>\n",
       "      <th>Total Deaths</th>\n",
       "      <th>Total Affected</th>\n",
       "      <th>Total Damages Adj</th>\n",
       "      <th>Earthquake Type</th>\n",
       "      <th>Destruction Level</th>\n",
       "    </tr>\n",
       "  </thead>\n",
       "  <tbody>\n",
       "    <tr>\n",
       "      <th>2</th>\n",
       "      <td>Earthquake</td>\n",
       "      <td>Ground movement</td>\n",
       "      <td>Guatemala</td>\n",
       "      <td>Central America</td>\n",
       "      <td>Americas</td>\n",
       "      <td>Quezaltenango, San Marcos</td>\n",
       "      <td>NaN</td>\n",
       "      <td>Tsunami/Tidal wave</td>\n",
       "      <td>8</td>\n",
       "      <td>Richter</td>\n",
       "      <td>...</td>\n",
       "      <td>4</td>\n",
       "      <td>18</td>\n",
       "      <td>1902</td>\n",
       "      <td>4</td>\n",
       "      <td>18</td>\n",
       "      <td>2000</td>\n",
       "      <td>0</td>\n",
       "      <td>843726</td>\n",
       "      <td>Major</td>\n",
       "      <td>6.000000</td>\n",
       "    </tr>\n",
       "    <tr>\n",
       "      <th>9</th>\n",
       "      <td>Earthquake</td>\n",
       "      <td>Ground movement</td>\n",
       "      <td>India</td>\n",
       "      <td>Southern Asia</td>\n",
       "      <td>Asia</td>\n",
       "      <td>Kangra</td>\n",
       "      <td>NaN</td>\n",
       "      <td>NaN</td>\n",
       "      <td>8</td>\n",
       "      <td>Richter</td>\n",
       "      <td>...</td>\n",
       "      <td>4</td>\n",
       "      <td>4</td>\n",
       "      <td>1905</td>\n",
       "      <td>4</td>\n",
       "      <td>4</td>\n",
       "      <td>20000</td>\n",
       "      <td>0</td>\n",
       "      <td>812477</td>\n",
       "      <td>Legendary or Apocalyptic</td>\n",
       "      <td>4.154317</td>\n",
       "    </tr>\n",
       "    <tr>\n",
       "      <th>10</th>\n",
       "      <td>Earthquake</td>\n",
       "      <td>Ground movement</td>\n",
       "      <td>Chile</td>\n",
       "      <td>South America</td>\n",
       "      <td>Americas</td>\n",
       "      <td>Valparaiso</td>\n",
       "      <td>NaN</td>\n",
       "      <td>Tsunami/Tidal wave</td>\n",
       "      <td>8</td>\n",
       "      <td>Richter</td>\n",
       "      <td>...</td>\n",
       "      <td>8</td>\n",
       "      <td>16</td>\n",
       "      <td>1906</td>\n",
       "      <td>8</td>\n",
       "      <td>16</td>\n",
       "      <td>20000</td>\n",
       "      <td>0</td>\n",
       "      <td>3249907</td>\n",
       "      <td>Legendary or Apocalyptic</td>\n",
       "      <td>4.154317</td>\n",
       "    </tr>\n",
       "    <tr>\n",
       "      <th>11</th>\n",
       "      <td>Earthquake</td>\n",
       "      <td>Ground movement</td>\n",
       "      <td>Colombia</td>\n",
       "      <td>South America</td>\n",
       "      <td>Americas</td>\n",
       "      <td>Tumako</td>\n",
       "      <td>NaN</td>\n",
       "      <td>Tsunami/Tidal wave</td>\n",
       "      <td>9</td>\n",
       "      <td>Richter</td>\n",
       "      <td>...</td>\n",
       "      <td>1</td>\n",
       "      <td>31</td>\n",
       "      <td>1906</td>\n",
       "      <td>1</td>\n",
       "      <td>31</td>\n",
       "      <td>400</td>\n",
       "      <td>0</td>\n",
       "      <td>0</td>\n",
       "      <td>Epic or Catastrophic</td>\n",
       "      <td>4.154317</td>\n",
       "    </tr>\n",
       "    <tr>\n",
       "      <th>15</th>\n",
       "      <td>Earthquake</td>\n",
       "      <td>Ground movement</td>\n",
       "      <td>China</td>\n",
       "      <td>Eastern Asia</td>\n",
       "      <td>Asia</td>\n",
       "      <td>Tien Shan</td>\n",
       "      <td>NaN</td>\n",
       "      <td>NaN</td>\n",
       "      <td>7</td>\n",
       "      <td>Richter</td>\n",
       "      <td>...</td>\n",
       "      <td>10</td>\n",
       "      <td>21</td>\n",
       "      <td>1907</td>\n",
       "      <td>10</td>\n",
       "      <td>21</td>\n",
       "      <td>12000</td>\n",
       "      <td>0</td>\n",
       "      <td>0</td>\n",
       "      <td>Legendary or Apocalyptic</td>\n",
       "      <td>4.154317</td>\n",
       "    </tr>\n",
       "    <tr>\n",
       "      <th>...</th>\n",
       "      <td>...</td>\n",
       "      <td>...</td>\n",
       "      <td>...</td>\n",
       "      <td>...</td>\n",
       "      <td>...</td>\n",
       "      <td>...</td>\n",
       "      <td>...</td>\n",
       "      <td>...</td>\n",
       "      <td>...</td>\n",
       "      <td>...</td>\n",
       "      <td>...</td>\n",
       "      <td>...</td>\n",
       "      <td>...</td>\n",
       "      <td>...</td>\n",
       "      <td>...</td>\n",
       "      <td>...</td>\n",
       "      <td>...</td>\n",
       "      <td>...</td>\n",
       "      <td>...</td>\n",
       "      <td>...</td>\n",
       "      <td>...</td>\n",
       "    </tr>\n",
       "    <tr>\n",
       "      <th>663</th>\n",
       "      <td>Earthquake</td>\n",
       "      <td>Ground movement</td>\n",
       "      <td>China</td>\n",
       "      <td>Eastern Asia</td>\n",
       "      <td>Asia</td>\n",
       "      <td>Yunnan, Sichuan</td>\n",
       "      <td>NaN</td>\n",
       "      <td>NaN</td>\n",
       "      <td>7</td>\n",
       "      <td>Richter</td>\n",
       "      <td>...</td>\n",
       "      <td>5</td>\n",
       "      <td>11</td>\n",
       "      <td>1974</td>\n",
       "      <td>5</td>\n",
       "      <td>11</td>\n",
       "      <td>20000</td>\n",
       "      <td>0</td>\n",
       "      <td>0</td>\n",
       "      <td>Legendary or Apocalyptic</td>\n",
       "      <td>4.154317</td>\n",
       "    </tr>\n",
       "    <tr>\n",
       "      <th>686</th>\n",
       "      <td>Earthquake</td>\n",
       "      <td>Ground movement</td>\n",
       "      <td>China</td>\n",
       "      <td>Eastern Asia</td>\n",
       "      <td>Asia</td>\n",
       "      <td>Anshan Liaoning province</td>\n",
       "      <td>NaN</td>\n",
       "      <td>NaN</td>\n",
       "      <td>7</td>\n",
       "      <td>Richter</td>\n",
       "      <td>...</td>\n",
       "      <td>2</td>\n",
       "      <td>4</td>\n",
       "      <td>1975</td>\n",
       "      <td>2</td>\n",
       "      <td>4</td>\n",
       "      <td>2000</td>\n",
       "      <td>0</td>\n",
       "      <td>0</td>\n",
       "      <td>Strong</td>\n",
       "      <td>5.000000</td>\n",
       "    </tr>\n",
       "    <tr>\n",
       "      <th>697</th>\n",
       "      <td>Earthquake</td>\n",
       "      <td>Ground movement</td>\n",
       "      <td>India</td>\n",
       "      <td>Southern Asia</td>\n",
       "      <td>Asia</td>\n",
       "      <td>Kinnaur district, Kashmir; Himachal Pradesh</td>\n",
       "      <td>NaN</td>\n",
       "      <td>NaN</td>\n",
       "      <td>7</td>\n",
       "      <td>Richter</td>\n",
       "      <td>...</td>\n",
       "      <td>1</td>\n",
       "      <td>19</td>\n",
       "      <td>1975</td>\n",
       "      <td>1</td>\n",
       "      <td>19</td>\n",
       "      <td>47</td>\n",
       "      <td>0</td>\n",
       "      <td>0</td>\n",
       "      <td>Strong</td>\n",
       "      <td>5.000000</td>\n",
       "    </tr>\n",
       "    <tr>\n",
       "      <th>699</th>\n",
       "      <td>Earthquake</td>\n",
       "      <td>Ground movement</td>\n",
       "      <td>Afghanistan</td>\n",
       "      <td>Southern Asia</td>\n",
       "      <td>Asia</td>\n",
       "      <td>Shamagan province (Hindu Kush)</td>\n",
       "      <td>NaN</td>\n",
       "      <td>NaN</td>\n",
       "      <td>6</td>\n",
       "      <td>Richter</td>\n",
       "      <td>...</td>\n",
       "      <td>3</td>\n",
       "      <td>19</td>\n",
       "      <td>1976</td>\n",
       "      <td>3</td>\n",
       "      <td>19</td>\n",
       "      <td>50</td>\n",
       "      <td>90000</td>\n",
       "      <td>0</td>\n",
       "      <td>Moderate</td>\n",
       "      <td>4.000000</td>\n",
       "    </tr>\n",
       "    <tr>\n",
       "      <th>714</th>\n",
       "      <td>Earthquake</td>\n",
       "      <td>Ground movement</td>\n",
       "      <td>China</td>\n",
       "      <td>Eastern Asia</td>\n",
       "      <td>Asia</td>\n",
       "      <td>Tangshan, Pek.,Tientsin</td>\n",
       "      <td>NaN</td>\n",
       "      <td>NaN</td>\n",
       "      <td>8</td>\n",
       "      <td>Richter</td>\n",
       "      <td>...</td>\n",
       "      <td>7</td>\n",
       "      <td>28</td>\n",
       "      <td>1976</td>\n",
       "      <td>7</td>\n",
       "      <td>28</td>\n",
       "      <td>242000</td>\n",
       "      <td>164000</td>\n",
       "      <td>28798371</td>\n",
       "      <td>Legendary or Apocalyptic</td>\n",
       "      <td>4.154317</td>\n",
       "    </tr>\n",
       "  </tbody>\n",
       "</table>\n",
       "<p>100 rows × 23 columns</p>\n",
       "</div>"
      ],
      "text/plain": [
       "    Disaster Type Disaster Subtype      Country           Region Continent  \\\n",
       "2      Earthquake  Ground movement    Guatemala  Central America  Americas   \n",
       "9      Earthquake  Ground movement        India    Southern Asia      Asia   \n",
       "10     Earthquake  Ground movement        Chile    South America  Americas   \n",
       "11     Earthquake  Ground movement     Colombia    South America  Americas   \n",
       "15     Earthquake  Ground movement        China     Eastern Asia      Asia   \n",
       "..            ...              ...          ...              ...       ...   \n",
       "663    Earthquake  Ground movement        China     Eastern Asia      Asia   \n",
       "686    Earthquake  Ground movement        China     Eastern Asia      Asia   \n",
       "697    Earthquake  Ground movement        India    Southern Asia      Asia   \n",
       "699    Earthquake  Ground movement  Afghanistan    Southern Asia      Asia   \n",
       "714    Earthquake  Ground movement        China     Eastern Asia      Asia   \n",
       "\n",
       "                                        Location Origin      Associated Dis  \\\n",
       "2                      Quezaltenango, San Marcos    NaN  Tsunami/Tidal wave   \n",
       "9                                         Kangra    NaN                 NaN   \n",
       "10                                    Valparaiso    NaN  Tsunami/Tidal wave   \n",
       "11                                        Tumako    NaN  Tsunami/Tidal wave   \n",
       "15                                     Tien Shan    NaN                 NaN   \n",
       "..                                           ...    ...                 ...   \n",
       "663                              Yunnan, Sichuan    NaN                 NaN   \n",
       "686                     Anshan Liaoning province    NaN                 NaN   \n",
       "697  Kinnaur district, Kashmir; Himachal Pradesh    NaN                 NaN   \n",
       "699               Shamagan province (Hindu Kush)    NaN                 NaN   \n",
       "714                      Tangshan, Pek.,Tientsin    NaN                 NaN   \n",
       "\n",
       "     Dis Mag Value Dis Mag Scale  ... Start Month Start Day  End Year  \\\n",
       "2                8       Richter  ...           4        18      1902   \n",
       "9                8       Richter  ...           4         4      1905   \n",
       "10               8       Richter  ...           8        16      1906   \n",
       "11               9       Richter  ...           1        31      1906   \n",
       "15               7       Richter  ...          10        21      1907   \n",
       "..             ...           ...  ...         ...       ...       ...   \n",
       "663              7       Richter  ...           5        11      1974   \n",
       "686              7       Richter  ...           2         4      1975   \n",
       "697              7       Richter  ...           1        19      1975   \n",
       "699              6       Richter  ...           3        19      1976   \n",
       "714              8       Richter  ...           7        28      1976   \n",
       "\n",
       "     End Month  End Day  Total Deaths  Total Affected  Total Damages Adj  \\\n",
       "2            4       18          2000               0             843726   \n",
       "9            4        4         20000               0             812477   \n",
       "10           8       16         20000               0            3249907   \n",
       "11           1       31           400               0                  0   \n",
       "15          10       21         12000               0                  0   \n",
       "..         ...      ...           ...             ...                ...   \n",
       "663          5       11         20000               0                  0   \n",
       "686          2        4          2000               0                  0   \n",
       "697          1       19            47               0                  0   \n",
       "699          3       19            50           90000                  0   \n",
       "714          7       28        242000          164000           28798371   \n",
       "\n",
       "              Earthquake Type  Destruction Level  \n",
       "2                       Major           6.000000  \n",
       "9    Legendary or Apocalyptic           4.154317  \n",
       "10   Legendary or Apocalyptic           4.154317  \n",
       "11       Epic or Catastrophic           4.154317  \n",
       "15   Legendary or Apocalyptic           4.154317  \n",
       "..                        ...                ...  \n",
       "663  Legendary or Apocalyptic           4.154317  \n",
       "686                    Strong           5.000000  \n",
       "697                    Strong           5.000000  \n",
       "699                  Moderate           4.000000  \n",
       "714  Legendary or Apocalyptic           4.154317  \n",
       "\n",
       "[100 rows x 23 columns]"
      ]
     },
     "execution_count": 167,
     "metadata": {},
     "output_type": "execute_result"
    }
   ],
   "source": [
    "df_earthquake.head(100)"
   ]
  },
  {
   "cell_type": "code",
   "execution_count": 168,
   "metadata": {},
   "outputs": [
    {
     "data": {
      "text/plain": [
       "Index(['Disaster Type', 'Disaster Subtype', 'Country', 'Region', 'Continent',\n",
       "       'Location', 'Origin', 'Associated Dis', 'Dis Mag Value',\n",
       "       'Dis Mag Scale', 'Latitude', 'Longitude', 'Start Year', 'Start Month',\n",
       "       'Start Day', 'End Year', 'End Month', 'End Day', 'Total Deaths',\n",
       "       'Total Affected', 'Total Damages Adj', 'Earthquake Type',\n",
       "       'Destruction Level'],\n",
       "      dtype='object')"
      ]
     },
     "execution_count": 168,
     "metadata": {},
     "output_type": "execute_result"
    }
   ],
   "source": [
    "df_earthquake.columns"
   ]
  },
  {
   "cell_type": "code",
   "execution_count": 169,
   "metadata": {},
   "outputs": [
    {
     "data": {
      "text/plain": [
       "Disaster Type           0\n",
       "Disaster Subtype        0\n",
       "Country                 0\n",
       "Region                  0\n",
       "Continent               0\n",
       "Location               40\n",
       "Origin               1576\n",
       "Associated Dis       1255\n",
       "Dis Mag Value           0\n",
       "Dis Mag Scale           0\n",
       "Latitude               50\n",
       "Longitude              50\n",
       "Start Year              0\n",
       "Start Month             0\n",
       "Start Day               0\n",
       "End Year                0\n",
       "End Month               0\n",
       "End Day                 0\n",
       "Total Deaths            0\n",
       "Total Affected          0\n",
       "Total Damages Adj       0\n",
       "Earthquake Type         0\n",
       "Destruction Level       0\n",
       "dtype: int64"
      ]
     },
     "execution_count": 169,
     "metadata": {},
     "output_type": "execute_result"
    }
   ],
   "source": [
    "df_earthquake.isnull().sum()"
   ]
  },
  {
   "cell_type": "code",
   "execution_count": 170,
   "metadata": {},
   "outputs": [
    {
     "data": {
      "text/plain": [
       "1.0"
      ]
     },
     "execution_count": 170,
     "metadata": {},
     "output_type": "execute_result"
    }
   ],
   "source": [
    "df_earthquake['Destruction Level'].min()"
   ]
  },
  {
   "cell_type": "code",
   "execution_count": 178,
   "metadata": {},
   "outputs": [
    {
     "data": {
      "text/plain": [
       "array([6.        , 4.15431679, 4.        , 1.        , 5.        ,\n",
       "       3.        , 2.        ])"
      ]
     },
     "execution_count": 178,
     "metadata": {},
     "output_type": "execute_result"
    }
   ],
   "source": [
    "df_earthquake['Destruction Level'].unique()"
   ]
  },
  {
   "cell_type": "markdown",
   "metadata": {},
   "source": [
    "### Pivot Tables"
   ]
  },
  {
   "cell_type": "code",
   "execution_count": 171,
   "metadata": {},
   "outputs": [
    {
     "data": {
      "text/html": [
       "<div>\n",
       "<style scoped>\n",
       "    .dataframe tbody tr th:only-of-type {\n",
       "        vertical-align: middle;\n",
       "    }\n",
       "\n",
       "    .dataframe tbody tr th {\n",
       "        vertical-align: top;\n",
       "    }\n",
       "\n",
       "    .dataframe thead th {\n",
       "        text-align: right;\n",
       "    }\n",
       "</style>\n",
       "<table border=\"1\" class=\"dataframe\">\n",
       "  <thead>\n",
       "    <tr style=\"text-align: right;\">\n",
       "      <th></th>\n",
       "      <th>Dis Mag Value</th>\n",
       "      <th>Total Affected</th>\n",
       "      <th>Total Damages Adj</th>\n",
       "      <th>Total Deaths</th>\n",
       "    </tr>\n",
       "    <tr>\n",
       "      <th>Destruction Level</th>\n",
       "      <th></th>\n",
       "      <th></th>\n",
       "      <th></th>\n",
       "      <th></th>\n",
       "    </tr>\n",
       "  </thead>\n",
       "  <tbody>\n",
       "    <tr>\n",
       "      <th>1.000000</th>\n",
       "      <td>0</td>\n",
       "      <td>0</td>\n",
       "      <td>0</td>\n",
       "      <td>0</td>\n",
       "    </tr>\n",
       "    <tr>\n",
       "      <th>2.000000</th>\n",
       "      <td>3</td>\n",
       "      <td>6240</td>\n",
       "      <td>1581</td>\n",
       "      <td>0</td>\n",
       "    </tr>\n",
       "    <tr>\n",
       "      <th>3.000000</th>\n",
       "      <td>4</td>\n",
       "      <td>0</td>\n",
       "      <td>0</td>\n",
       "      <td>0</td>\n",
       "    </tr>\n",
       "    <tr>\n",
       "      <th>4.000000</th>\n",
       "      <td>6</td>\n",
       "      <td>0</td>\n",
       "      <td>0</td>\n",
       "      <td>0</td>\n",
       "    </tr>\n",
       "    <tr>\n",
       "      <th>4.154317</th>\n",
       "      <td>3</td>\n",
       "      <td>0</td>\n",
       "      <td>0</td>\n",
       "      <td>0</td>\n",
       "    </tr>\n",
       "    <tr>\n",
       "      <th>5.000000</th>\n",
       "      <td>7</td>\n",
       "      <td>0</td>\n",
       "      <td>0</td>\n",
       "      <td>0</td>\n",
       "    </tr>\n",
       "    <tr>\n",
       "      <th>6.000000</th>\n",
       "      <td>8</td>\n",
       "      <td>0</td>\n",
       "      <td>0</td>\n",
       "      <td>0</td>\n",
       "    </tr>\n",
       "  </tbody>\n",
       "</table>\n",
       "</div>"
      ],
      "text/plain": [
       "                   Dis Mag Value  Total Affected  Total Damages Adj  \\\n",
       "Destruction Level                                                     \n",
       "1.000000                       0               0                  0   \n",
       "2.000000                       3            6240               1581   \n",
       "3.000000                       4               0                  0   \n",
       "4.000000                       6               0                  0   \n",
       "4.154317                       3               0                  0   \n",
       "5.000000                       7               0                  0   \n",
       "6.000000                       8               0                  0   \n",
       "\n",
       "                   Total Deaths  \n",
       "Destruction Level                \n",
       "1.000000                      0  \n",
       "2.000000                      0  \n",
       "3.000000                      0  \n",
       "4.000000                      0  \n",
       "4.154317                      0  \n",
       "5.000000                      0  \n",
       "6.000000                      0  "
      ]
     },
     "execution_count": 171,
     "metadata": {},
     "output_type": "execute_result"
    }
   ],
   "source": [
    "df_earthquakeresult_pivot_table = pd.pivot_table(df_earthquake, index='Destruction Level', values=['Dis Mag Value', 'Total Deaths', 'Total Affected', 'Total Damages Adj'], aggfunc='min')\n",
    "df_earthquakeresult_pivot_table"
   ]
  },
  {
   "cell_type": "code",
   "execution_count": 172,
   "metadata": {},
   "outputs": [
    {
     "data": {
      "text/html": [
       "<div>\n",
       "<style scoped>\n",
       "    .dataframe tbody tr th:only-of-type {\n",
       "        vertical-align: middle;\n",
       "    }\n",
       "\n",
       "    .dataframe tbody tr th {\n",
       "        vertical-align: top;\n",
       "    }\n",
       "\n",
       "    .dataframe thead th {\n",
       "        text-align: right;\n",
       "    }\n",
       "</style>\n",
       "<table border=\"1\" class=\"dataframe\">\n",
       "  <thead>\n",
       "    <tr style=\"text-align: right;\">\n",
       "      <th></th>\n",
       "      <th>Dis Mag Value</th>\n",
       "      <th>Total Affected</th>\n",
       "      <th>Total Damages Adj</th>\n",
       "      <th>Total Deaths</th>\n",
       "    </tr>\n",
       "    <tr>\n",
       "      <th>Destruction Level</th>\n",
       "      <th></th>\n",
       "      <th></th>\n",
       "      <th></th>\n",
       "      <th></th>\n",
       "    </tr>\n",
       "  </thead>\n",
       "  <tbody>\n",
       "    <tr>\n",
       "      <th>1.000000</th>\n",
       "      <td>0</td>\n",
       "      <td>0</td>\n",
       "      <td>0</td>\n",
       "      <td>0</td>\n",
       "    </tr>\n",
       "    <tr>\n",
       "      <th>2.000000</th>\n",
       "      <td>3</td>\n",
       "      <td>6240</td>\n",
       "      <td>1581</td>\n",
       "      <td>0</td>\n",
       "    </tr>\n",
       "    <tr>\n",
       "      <th>3.000000</th>\n",
       "      <td>4</td>\n",
       "      <td>0</td>\n",
       "      <td>0</td>\n",
       "      <td>0</td>\n",
       "    </tr>\n",
       "    <tr>\n",
       "      <th>4.000000</th>\n",
       "      <td>6</td>\n",
       "      <td>0</td>\n",
       "      <td>0</td>\n",
       "      <td>0</td>\n",
       "    </tr>\n",
       "    <tr>\n",
       "      <th>4.154317</th>\n",
       "      <td>3</td>\n",
       "      <td>0</td>\n",
       "      <td>0</td>\n",
       "      <td>0</td>\n",
       "    </tr>\n",
       "    <tr>\n",
       "      <th>5.000000</th>\n",
       "      <td>7</td>\n",
       "      <td>0</td>\n",
       "      <td>0</td>\n",
       "      <td>0</td>\n",
       "    </tr>\n",
       "    <tr>\n",
       "      <th>6.000000</th>\n",
       "      <td>8</td>\n",
       "      <td>0</td>\n",
       "      <td>0</td>\n",
       "      <td>0</td>\n",
       "    </tr>\n",
       "  </tbody>\n",
       "</table>\n",
       "</div>"
      ],
      "text/plain": [
       "                   Dis Mag Value  Total Affected  Total Damages Adj  \\\n",
       "Destruction Level                                                     \n",
       "1.000000                       0               0                  0   \n",
       "2.000000                       3            6240               1581   \n",
       "3.000000                       4               0                  0   \n",
       "4.000000                       6               0                  0   \n",
       "4.154317                       3               0                  0   \n",
       "5.000000                       7               0                  0   \n",
       "6.000000                       8               0                  0   \n",
       "\n",
       "                   Total Deaths  \n",
       "Destruction Level                \n",
       "1.000000                      0  \n",
       "2.000000                      0  \n",
       "3.000000                      0  \n",
       "4.000000                      0  \n",
       "4.154317                      0  \n",
       "5.000000                      0  \n",
       "6.000000                      0  "
      ]
     },
     "execution_count": 172,
     "metadata": {},
     "output_type": "execute_result"
    }
   ],
   "source": [
    "df_floodresult_pivot_table = pd.pivot_table(df_earthquake, index='Destruction Level', values=['Dis Mag Value', 'Total Deaths', 'Total Affected', 'Total Damages Adj'], aggfunc='max')\n",
    "df_earthquakeresult_pivot_table"
   ]
  },
  {
   "cell_type": "code",
   "execution_count": 173,
   "metadata": {},
   "outputs": [
    {
     "data": {
      "text/html": [
       "<div>\n",
       "<style scoped>\n",
       "    .dataframe tbody tr th:only-of-type {\n",
       "        vertical-align: middle;\n",
       "    }\n",
       "\n",
       "    .dataframe tbody tr th {\n",
       "        vertical-align: top;\n",
       "    }\n",
       "\n",
       "    .dataframe thead th {\n",
       "        text-align: right;\n",
       "    }\n",
       "</style>\n",
       "<table border=\"1\" class=\"dataframe\">\n",
       "  <thead>\n",
       "    <tr style=\"text-align: right;\">\n",
       "      <th></th>\n",
       "      <th>Dis Mag Value</th>\n",
       "      <th>Total Affected</th>\n",
       "      <th>Total Damages Adj</th>\n",
       "      <th>Total Deaths</th>\n",
       "    </tr>\n",
       "    <tr>\n",
       "      <th>Destruction Level</th>\n",
       "      <th></th>\n",
       "      <th></th>\n",
       "      <th></th>\n",
       "      <th></th>\n",
       "    </tr>\n",
       "  </thead>\n",
       "  <tbody>\n",
       "    <tr>\n",
       "      <th>1.000000</th>\n",
       "      <td>1</td>\n",
       "      <td>716984</td>\n",
       "      <td>5179919</td>\n",
       "      <td>16024</td>\n",
       "    </tr>\n",
       "    <tr>\n",
       "      <th>2.000000</th>\n",
       "      <td>3</td>\n",
       "      <td>6240</td>\n",
       "      <td>1581</td>\n",
       "      <td>0</td>\n",
       "    </tr>\n",
       "    <tr>\n",
       "      <th>3.000000</th>\n",
       "      <td>1283</td>\n",
       "      <td>1870566</td>\n",
       "      <td>19005767</td>\n",
       "      <td>2580</td>\n",
       "    </tr>\n",
       "    <tr>\n",
       "      <th>4.000000</th>\n",
       "      <td>3084</td>\n",
       "      <td>12930171</td>\n",
       "      <td>117842524</td>\n",
       "      <td>20915</td>\n",
       "    </tr>\n",
       "    <tr>\n",
       "      <th>4.154317</th>\n",
       "      <td>884</td>\n",
       "      <td>161327070</td>\n",
       "      <td>922886782</td>\n",
       "      <td>2169362</td>\n",
       "    </tr>\n",
       "    <tr>\n",
       "      <th>5.000000</th>\n",
       "      <td>3150</td>\n",
       "      <td>18532312</td>\n",
       "      <td>425417827</td>\n",
       "      <td>108916</td>\n",
       "    </tr>\n",
       "    <tr>\n",
       "      <th>6.000000</th>\n",
       "      <td>1240</td>\n",
       "      <td>26075734</td>\n",
       "      <td>115416269</td>\n",
       "      <td>80763</td>\n",
       "    </tr>\n",
       "  </tbody>\n",
       "</table>\n",
       "</div>"
      ],
      "text/plain": [
       "                   Dis Mag Value  Total Affected  Total Damages Adj  \\\n",
       "Destruction Level                                                     \n",
       "1.000000                       1          716984            5179919   \n",
       "2.000000                       3            6240               1581   \n",
       "3.000000                    1283         1870566           19005767   \n",
       "4.000000                    3084        12930171          117842524   \n",
       "4.154317                     884       161327070          922886782   \n",
       "5.000000                    3150        18532312          425417827   \n",
       "6.000000                    1240        26075734          115416269   \n",
       "\n",
       "                   Total Deaths  \n",
       "Destruction Level                \n",
       "1.000000                  16024  \n",
       "2.000000                      0  \n",
       "3.000000                   2580  \n",
       "4.000000                  20915  \n",
       "4.154317                2169362  \n",
       "5.000000                 108916  \n",
       "6.000000                  80763  "
      ]
     },
     "execution_count": 173,
     "metadata": {},
     "output_type": "execute_result"
    }
   ],
   "source": [
    "df_earthquakeresult_pivot_table = pd.pivot_table(df_earthquake, index='Destruction Level', values=['Dis Mag Value', 'Total Deaths', 'Total Affected', 'Total Damages Adj'], aggfunc='sum')\n",
    "df_earthquakeresult_pivot_table"
   ]
  },
  {
   "cell_type": "code",
   "execution_count": 174,
   "metadata": {},
   "outputs": [
    {
     "data": {
      "text/html": [
       "<div>\n",
       "<style scoped>\n",
       "    .dataframe tbody tr th:only-of-type {\n",
       "        vertical-align: middle;\n",
       "    }\n",
       "\n",
       "    .dataframe tbody tr th {\n",
       "        vertical-align: top;\n",
       "    }\n",
       "\n",
       "    .dataframe thead th {\n",
       "        text-align: right;\n",
       "    }\n",
       "</style>\n",
       "<table border=\"1\" class=\"dataframe\">\n",
       "  <thead>\n",
       "    <tr style=\"text-align: right;\">\n",
       "      <th></th>\n",
       "      <th>Dis Mag Value</th>\n",
       "      <th>Total Affected</th>\n",
       "      <th>Total Damages Adj</th>\n",
       "      <th>Total Deaths</th>\n",
       "    </tr>\n",
       "    <tr>\n",
       "      <th>Destruction Level</th>\n",
       "      <th></th>\n",
       "      <th></th>\n",
       "      <th></th>\n",
       "      <th></th>\n",
       "    </tr>\n",
       "  </thead>\n",
       "  <tbody>\n",
       "    <tr>\n",
       "      <th>1.000000</th>\n",
       "      <td>0.011111</td>\n",
       "      <td>7.966489e+03</td>\n",
       "      <td>5.755466e+04</td>\n",
       "      <td>178.044444</td>\n",
       "    </tr>\n",
       "    <tr>\n",
       "      <th>2.000000</th>\n",
       "      <td>3.000000</td>\n",
       "      <td>6.240000e+03</td>\n",
       "      <td>1.581000e+03</td>\n",
       "      <td>0.000000</td>\n",
       "    </tr>\n",
       "    <tr>\n",
       "      <th>3.000000</th>\n",
       "      <td>4.915709</td>\n",
       "      <td>7.166920e+03</td>\n",
       "      <td>7.281903e+04</td>\n",
       "      <td>9.885057</td>\n",
       "    </tr>\n",
       "    <tr>\n",
       "      <th>4.000000</th>\n",
       "      <td>6.000000</td>\n",
       "      <td>2.515597e+04</td>\n",
       "      <td>2.292656e+05</td>\n",
       "      <td>40.690661</td>\n",
       "    </tr>\n",
       "    <tr>\n",
       "      <th>4.154317</th>\n",
       "      <td>7.015873</td>\n",
       "      <td>1.280374e+06</td>\n",
       "      <td>7.324498e+06</td>\n",
       "      <td>17217.158730</td>\n",
       "    </tr>\n",
       "    <tr>\n",
       "      <th>5.000000</th>\n",
       "      <td>7.000000</td>\n",
       "      <td>4.118292e+04</td>\n",
       "      <td>9.453729e+05</td>\n",
       "      <td>242.035556</td>\n",
       "    </tr>\n",
       "    <tr>\n",
       "      <th>6.000000</th>\n",
       "      <td>8.000000</td>\n",
       "      <td>1.682305e+05</td>\n",
       "      <td>7.446211e+05</td>\n",
       "      <td>521.051613</td>\n",
       "    </tr>\n",
       "  </tbody>\n",
       "</table>\n",
       "</div>"
      ],
      "text/plain": [
       "                   Dis Mag Value  Total Affected  Total Damages Adj  \\\n",
       "Destruction Level                                                     \n",
       "1.000000                0.011111    7.966489e+03       5.755466e+04   \n",
       "2.000000                3.000000    6.240000e+03       1.581000e+03   \n",
       "3.000000                4.915709    7.166920e+03       7.281903e+04   \n",
       "4.000000                6.000000    2.515597e+04       2.292656e+05   \n",
       "4.154317                7.015873    1.280374e+06       7.324498e+06   \n",
       "5.000000                7.000000    4.118292e+04       9.453729e+05   \n",
       "6.000000                8.000000    1.682305e+05       7.446211e+05   \n",
       "\n",
       "                   Total Deaths  \n",
       "Destruction Level                \n",
       "1.000000             178.044444  \n",
       "2.000000               0.000000  \n",
       "3.000000               9.885057  \n",
       "4.000000              40.690661  \n",
       "4.154317           17217.158730  \n",
       "5.000000             242.035556  \n",
       "6.000000             521.051613  "
      ]
     },
     "execution_count": 174,
     "metadata": {},
     "output_type": "execute_result"
    }
   ],
   "source": [
    "df_earthquakeresult_pivot_table = pd.pivot_table(df_earthquake, index='Destruction Level', values=['Dis Mag Value', 'Total Deaths', 'Total Affected', 'Total Damages Adj'], aggfunc='mean')\n",
    "df_earthquakeresult_pivot_table"
   ]
  },
  {
   "cell_type": "code",
   "execution_count": 175,
   "metadata": {},
   "outputs": [
    {
     "data": {
      "text/html": [
       "<div>\n",
       "<style scoped>\n",
       "    .dataframe tbody tr th:only-of-type {\n",
       "        vertical-align: middle;\n",
       "    }\n",
       "\n",
       "    .dataframe tbody tr th {\n",
       "        vertical-align: top;\n",
       "    }\n",
       "\n",
       "    .dataframe thead th {\n",
       "        text-align: right;\n",
       "    }\n",
       "</style>\n",
       "<table border=\"1\" class=\"dataframe\">\n",
       "  <thead>\n",
       "    <tr style=\"text-align: right;\">\n",
       "      <th></th>\n",
       "      <th>Dis Mag Value</th>\n",
       "      <th>Total Affected</th>\n",
       "      <th>Total Damages Adj</th>\n",
       "      <th>Total Deaths</th>\n",
       "    </tr>\n",
       "    <tr>\n",
       "      <th>Destruction Level</th>\n",
       "      <th></th>\n",
       "      <th></th>\n",
       "      <th></th>\n",
       "      <th></th>\n",
       "    </tr>\n",
       "  </thead>\n",
       "  <tbody>\n",
       "    <tr>\n",
       "      <th>1.000000</th>\n",
       "      <td>0</td>\n",
       "      <td>0</td>\n",
       "      <td>0</td>\n",
       "      <td>17.0</td>\n",
       "    </tr>\n",
       "    <tr>\n",
       "      <th>2.000000</th>\n",
       "      <td>3</td>\n",
       "      <td>6240</td>\n",
       "      <td>1581</td>\n",
       "      <td>0.0</td>\n",
       "    </tr>\n",
       "    <tr>\n",
       "      <th>3.000000</th>\n",
       "      <td>5</td>\n",
       "      <td>1050</td>\n",
       "      <td>0</td>\n",
       "      <td>0.0</td>\n",
       "    </tr>\n",
       "    <tr>\n",
       "      <th>4.000000</th>\n",
       "      <td>6</td>\n",
       "      <td>1855</td>\n",
       "      <td>0</td>\n",
       "      <td>3.0</td>\n",
       "    </tr>\n",
       "    <tr>\n",
       "      <th>4.154317</th>\n",
       "      <td>7</td>\n",
       "      <td>113842</td>\n",
       "      <td>233523</td>\n",
       "      <td>1503.5</td>\n",
       "    </tr>\n",
       "    <tr>\n",
       "      <th>5.000000</th>\n",
       "      <td>7</td>\n",
       "      <td>2813</td>\n",
       "      <td>0</td>\n",
       "      <td>10.0</td>\n",
       "    </tr>\n",
       "    <tr>\n",
       "      <th>6.000000</th>\n",
       "      <td>8</td>\n",
       "      <td>2500</td>\n",
       "      <td>0</td>\n",
       "      <td>34.0</td>\n",
       "    </tr>\n",
       "  </tbody>\n",
       "</table>\n",
       "</div>"
      ],
      "text/plain": [
       "                   Dis Mag Value  Total Affected  Total Damages Adj  \\\n",
       "Destruction Level                                                     \n",
       "1.000000                       0               0                  0   \n",
       "2.000000                       3            6240               1581   \n",
       "3.000000                       5            1050                  0   \n",
       "4.000000                       6            1855                  0   \n",
       "4.154317                       7          113842             233523   \n",
       "5.000000                       7            2813                  0   \n",
       "6.000000                       8            2500                  0   \n",
       "\n",
       "                   Total Deaths  \n",
       "Destruction Level                \n",
       "1.000000                   17.0  \n",
       "2.000000                    0.0  \n",
       "3.000000                    0.0  \n",
       "4.000000                    3.0  \n",
       "4.154317                 1503.5  \n",
       "5.000000                   10.0  \n",
       "6.000000                   34.0  "
      ]
     },
     "execution_count": 175,
     "metadata": {},
     "output_type": "execute_result"
    }
   ],
   "source": [
    "df_earthquakeresult_pivot_table = pd.pivot_table(df_earthquake, index='Destruction Level', values=['Dis Mag Value', 'Total Deaths', 'Total Affected', 'Total Damages Adj'], aggfunc='median')\n",
    "df_earthquakeresult_pivot_table"
   ]
  },
  {
   "cell_type": "markdown",
   "metadata": {},
   "source": []
  },
  {
   "cell_type": "markdown",
   "metadata": {},
   "source": [
    "# Reporte de Clasificación"
   ]
  },
  {
   "cell_type": "markdown",
   "metadata": {},
   "source": [
    "La precisión, la recuperación y la puntuación F1 son métricas de evaluación de uso común en modelos de aprendizaje automático, particularmente en tareas de clasificación. Estas métricas brindan información sobre el rendimiento del modelo y su capacidad para clasificar correctamente las instancias.\n",
    "\n",
    "* Precision: la precisión mide la proporción de instancias positivas pronosticadas correctamente (positivos verdaderos) de todas las instancias pronosticadas como positivas (positivos verdaderos + positivos falsos). En otras palabras, la precisión indica qué tan preciso o exacto es el modelo cuando predice una clase positiva. Una puntuación de alta precisión sugiere que el modelo tiene una baja tasa de falsos positivos.\n",
    "\n",
    "* Recall: la recuperación, también conocida como sensibilidad o tasa de verdaderos positivos, mide la proporción de instancias positivas pronosticadas correctamente (verdaderos positivos) de todas las instancias positivas reales (verdaderos positivos + falsos negativos). Representa la capacidad del modelo para identificar o capturar instancias positivas. Una puntuación de recuerdo alta sugiere que el modelo tiene una tasa baja de falsos negativos.\n",
    "\n",
    "* f1-score: La puntuación F1 es la media armónica de precisión y recuperación. Proporciona una medida equilibrada que considera simultáneamente la precisión y la recuperación. La puntuación F1 combina precisión y recuperación en una sola métrica y proporciona una evaluación más completa del rendimiento del modelo. Es especialmente útil cuando se trata de conjuntos de datos desequilibrados, donde la distribución de clases es desigual.\n",
    "\n",
    "Al interpretar estas métricas, es fundamental tener en cuenta los objetivos y requisitos específicos de la tarea de clasificación. Es deseable una puntuación de alta precisión cuando es crucial minimizar los falsos positivos. Por otro lado, una puntuación alta de recuerdo es deseable cuando la captura de tantos positivos verdaderos como sea posible es una prioridad. La puntuación F1 proporciona una vista equilibrada, teniendo en cuenta tanto la precisión como la recuperación.\n",
    "\n",
    "En resumen, la precisión, la recuperación y la puntuación F1 son métricas valiosas para evaluar el rendimiento de un modelo de clasificación, que brindan información sobre su precisión, capacidad para capturar instancias positivas y rendimiento general equilibrado."
   ]
  },
  {
   "cell_type": "code",
   "execution_count": 176,
   "metadata": {},
   "outputs": [
    {
     "name": "stdout",
     "output_type": "stream",
     "text": [
      "Reporte de Clasificación:\n",
      "              precision    recall  f1-score   support\n",
      "\n",
      "           0       0.64      0.44      0.52       196\n",
      "           2       0.00      0.00      0.00         1\n",
      "          18       0.00      0.00      0.00         1\n",
      "          83       0.00      0.00      0.00         1\n",
      "         422       0.00      0.00      0.00         1\n",
      "         483       0.00      0.00      0.00         1\n",
      "        1400       0.00      0.00      0.00         1\n",
      "        1409       0.00      0.00      0.00         1\n",
      "        1581       0.00      0.00      0.00         1\n",
      "        1609       0.00      0.00      0.00         0\n",
      "        1922       0.00      0.00      0.00         1\n",
      "        2240       0.00      0.00      0.00         0\n",
      "        2388       0.00      0.00      0.00         1\n",
      "        2472       0.00      0.00      0.00         0\n",
      "        2513       0.00      0.00      0.00         0\n",
      "        2670       0.00      0.00      0.00         1\n",
      "        2817       0.00      0.00      0.00         0\n",
      "        2938       0.00      0.00      0.00         1\n",
      "        2966       0.00      0.00      0.00         1\n",
      "        3033       0.00      0.00      0.00         1\n",
      "        3152       0.00      0.00      0.00         0\n",
      "        3551       0.00      0.00      0.00         0\n",
      "        3607       0.00      0.00      0.00         1\n",
      "        3646       0.00      0.00      0.00         1\n",
      "        3709       0.00      0.00      0.00         1\n",
      "        4146       0.00      0.00      0.00         1\n",
      "        4344       0.00      0.00      0.00         1\n",
      "        4684       0.00      0.00      0.00         0\n",
      "        5025       0.00      0.00      0.00         1\n",
      "        5264       0.00      0.00      0.00         1\n",
      "        5441       0.00      0.00      0.00         1\n",
      "        6544       0.00      0.00      0.00         1\n",
      "        6591       0.00      0.00      0.00         1\n",
      "        6706       0.00      0.00      0.00         0\n",
      "        8335       0.00      0.00      0.00         0\n",
      "        8784       0.00      0.00      0.00         1\n",
      "        9016       0.00      0.00      0.00         1\n",
      "        9515       0.00      0.00      0.00         1\n",
      "       10129       0.00      0.00      0.00         1\n",
      "       10302       0.00      0.00      0.00         1\n",
      "       10614       0.00      0.00      0.00         0\n",
      "       11655       1.00      1.00      1.00         1\n",
      "       12194       0.00      0.00      0.00         0\n",
      "       12878       0.00      0.00      0.00         0\n",
      "       12959       0.00      0.00      0.00         1\n",
      "       13191       0.00      0.00      0.00         1\n",
      "       13350       0.00      0.00      0.00         1\n",
      "       13593       0.00      0.00      0.00         1\n",
      "       13641       0.00      0.00      0.00         0\n",
      "       14692       0.00      0.00      0.00         0\n",
      "       15076       0.00      0.00      0.00         1\n",
      "       15194       0.00      0.00      0.00         0\n",
      "       16093       0.00      0.00      0.00         1\n",
      "       16684       0.00      0.00      0.00         1\n",
      "       16776       0.00      0.00      0.00         1\n",
      "       16863       0.00      0.00      0.00         1\n",
      "       17756       0.00      0.00      0.00         1\n",
      "       18364       0.00      0.00      0.00         1\n",
      "       18593       0.00      0.00      0.00         0\n",
      "       20193       0.00      0.00      0.00         1\n",
      "       20394       0.00      0.00      0.00         1\n",
      "       21488       0.00      0.00      0.00         1\n",
      "       23000       0.00      0.00      0.00         0\n",
      "       26319       0.00      0.00      0.00         1\n",
      "       29971       0.00      0.00      0.00         0\n",
      "       36138       0.00      0.00      0.00         1\n",
      "       40523       0.00      0.00      0.00         0\n",
      "       42068       0.00      0.00      0.00         1\n",
      "       43865       0.00      0.00      0.00         0\n",
      "       44678       0.00      0.00      0.00         0\n",
      "       46482       0.00      0.00      0.00         1\n",
      "       47738       0.00      0.00      0.00         1\n",
      "       53157       0.00      0.00      0.00         0\n",
      "       57360       0.00      0.00      0.00         1\n",
      "       59501       0.00      0.00      0.00         0\n",
      "       60773       0.00      0.00      0.00         1\n",
      "       63816       0.00      0.00      0.00         1\n",
      "       67459       0.00      0.00      0.00         1\n",
      "       70351       0.00      0.00      0.00         1\n",
      "       70429       0.00      0.00      0.00         1\n",
      "       71093       0.00      0.00      0.00         1\n",
      "       73162       0.00      0.00      0.00         0\n",
      "       73458       0.00      0.00      0.00         1\n",
      "       76645       0.00      0.00      0.00         0\n",
      "       77310       0.00      0.00      0.00         1\n",
      "       77470       0.00      0.00      0.00         0\n",
      "       79780       0.00      0.00      0.00         1\n",
      "       79845       0.00      0.00      0.00         1\n",
      "       95453       0.00      0.00      0.00         1\n",
      "      110436       0.00      0.00      0.00         0\n",
      "      114655       0.00      0.00      0.00         1\n",
      "      120973       0.00      0.00      0.00         1\n",
      "      121137       0.00      0.00      0.00         1\n",
      "      123621       0.00      0.00      0.00         1\n",
      "      125626       0.00      0.00      0.00         0\n",
      "      127481       0.00      0.00      0.00         1\n",
      "      128564       0.00      0.00      0.00         0\n",
      "      136412       0.00      0.00      0.00         1\n",
      "      148482       0.00      0.00      0.00         1\n",
      "      149520       0.00      0.00      0.00         1\n",
      "      153641       0.00      0.00      0.00         0\n",
      "      154564       0.00      0.00      0.00         1\n",
      "      154939       0.00      0.00      0.00         0\n",
      "      176942       0.00      0.00      0.00         1\n",
      "      208426       0.00      0.00      0.00         1\n",
      "      208567       0.05      1.00      0.09         1\n",
      "      226999       0.00      0.00      0.00         1\n",
      "      228943       0.00      0.00      0.00         0\n",
      "      243872       0.00      0.00      0.00         0\n",
      "      249767       0.00      0.00      0.00         1\n",
      "      255650       0.00      0.00      0.00         1\n",
      "      260069       0.00      0.00      0.00         1\n",
      "      317454       0.00      0.00      0.00         1\n",
      "      352864       0.00      0.00      0.00         1\n",
      "      370674       0.00      0.00      0.00         0\n",
      "      384460       0.00      0.00      0.00         0\n",
      "      386290       0.00      0.00      0.00         1\n",
      "      405487       0.00      0.00      0.00         1\n",
      "      429699       0.00      0.00      0.00         1\n",
      "      478623       0.00      0.00      0.00         1\n",
      "      482718       0.00      0.00      0.00         1\n",
      "      545649       0.00      0.00      0.00         1\n",
      "      548607       0.00      0.00      0.00         0\n",
      "      556293       0.00      0.00      0.00         1\n",
      "      567246       0.00      0.00      0.00         1\n",
      "      569447       0.00      0.00      0.00         0\n",
      "      592812       0.00      0.00      0.00         1\n",
      "      599421       0.00      0.00      0.00         1\n",
      "      653850       0.00      0.00      0.00         0\n",
      "      671056       0.00      0.00      0.00         1\n",
      "      674981       0.00      0.00      0.00         1\n",
      "      705728       0.00      0.00      0.00         1\n",
      "      725264       0.00      0.00      0.00         1\n",
      "      753756       0.00      0.00      0.00         1\n",
      "      774697       0.00      0.00      0.00         2\n",
      "      811803       0.00      0.00      0.00         1\n",
      "      826397       0.00      0.00      0.00         0\n",
      "      827848       0.00      0.00      0.00         1\n",
      "      895663       0.00      0.00      0.00         0\n",
      "      944108       0.00      0.00      0.00         0\n",
      "     1161022       0.00      0.00      0.00         1\n",
      "     1228229       0.00      0.00      0.00         1\n",
      "     1256261       0.00      0.00      0.00         1\n",
      "     1456825       0.00      0.00      0.00         0\n",
      "     1658743       0.00      0.00      0.00         0\n",
      "     1687452       0.00      0.00      0.00         0\n",
      "     1989154       0.00      0.00      0.00         1\n",
      "     2103413       0.00      0.00      0.00         1\n",
      "     2704897       0.00      0.00      0.00         1\n",
      "     2934412       0.00      0.00      0.00         1\n",
      "     3001070       0.00      0.00      0.00         1\n",
      "     3305590       0.00      0.00      0.00         1\n",
      "     3903120       0.00      0.00      0.00         1\n",
      "     4081025       0.00      0.00      0.00         1\n",
      "     4335281       0.00      0.00      0.00         0\n",
      "     5442439       0.00      0.00      0.00         1\n",
      "     5456933       0.00      0.00      0.00         0\n",
      "     5913750       0.00      0.00      0.00         1\n",
      "     6096793       0.00      0.00      0.00         1\n",
      "     6388555       0.00      0.00      0.00         1\n",
      "     7037208       0.00      0.00      0.00         1\n",
      "     7792473       0.00      0.00      0.00         1\n",
      "     8723726       0.00      0.00      0.00         1\n",
      "     9657249       0.00      0.00      0.00         1\n",
      "    10282909       0.00      0.00      0.00         1\n",
      "    10736894       0.00      0.00      0.00         1\n",
      "    17918788       0.00      0.00      0.00         1\n",
      "    19312844       0.00      0.00      0.00         1\n",
      "    19515598       0.00      0.00      0.00         0\n",
      "    20139674       0.00      0.00      0.00         0\n",
      "    28798371       0.00      0.00      0.00         1\n",
      "    43383054       0.00      0.00      0.00         1\n",
      "    46335626       0.00      0.00      0.00         1\n",
      "\n",
      "    accuracy                           0.28       320\n",
      "   macro avg       0.01      0.01      0.01       320\n",
      "weighted avg       0.40      0.28      0.32       320\n",
      "\n"
     ]
    },
    {
     "name": "stderr",
     "output_type": "stream",
     "text": [
      "c:\\Users\\AleEng\\AppData\\Local\\Programs\\Python\\Python310\\lib\\site-packages\\sklearn\\metrics\\_classification.py:1344: UndefinedMetricWarning: Precision and F-score are ill-defined and being set to 0.0 in labels with no predicted samples. Use `zero_division` parameter to control this behavior.\n",
      "  _warn_prf(average, modifier, msg_start, len(result))\n",
      "c:\\Users\\AleEng\\AppData\\Local\\Programs\\Python\\Python310\\lib\\site-packages\\sklearn\\metrics\\_classification.py:1344: UndefinedMetricWarning: Recall and F-score are ill-defined and being set to 0.0 in labels with no true samples. Use `zero_division` parameter to control this behavior.\n",
      "  _warn_prf(average, modifier, msg_start, len(result))\n",
      "c:\\Users\\AleEng\\AppData\\Local\\Programs\\Python\\Python310\\lib\\site-packages\\sklearn\\metrics\\_classification.py:1344: UndefinedMetricWarning: Precision and F-score are ill-defined and being set to 0.0 in labels with no predicted samples. Use `zero_division` parameter to control this behavior.\n",
      "  _warn_prf(average, modifier, msg_start, len(result))\n",
      "c:\\Users\\AleEng\\AppData\\Local\\Programs\\Python\\Python310\\lib\\site-packages\\sklearn\\metrics\\_classification.py:1344: UndefinedMetricWarning: Recall and F-score are ill-defined and being set to 0.0 in labels with no true samples. Use `zero_division` parameter to control this behavior.\n",
      "  _warn_prf(average, modifier, msg_start, len(result))\n",
      "c:\\Users\\AleEng\\AppData\\Local\\Programs\\Python\\Python310\\lib\\site-packages\\sklearn\\metrics\\_classification.py:1344: UndefinedMetricWarning: Precision and F-score are ill-defined and being set to 0.0 in labels with no predicted samples. Use `zero_division` parameter to control this behavior.\n",
      "  _warn_prf(average, modifier, msg_start, len(result))\n",
      "c:\\Users\\AleEng\\AppData\\Local\\Programs\\Python\\Python310\\lib\\site-packages\\sklearn\\metrics\\_classification.py:1344: UndefinedMetricWarning: Recall and F-score are ill-defined and being set to 0.0 in labels with no true samples. Use `zero_division` parameter to control this behavior.\n",
      "  _warn_prf(average, modifier, msg_start, len(result))\n"
     ]
    }
   ],
   "source": [
    "report = classification_report(y_test, y_pred)\n",
    "print(\"Reporte de Clasificación:\")\n",
    "print(report)"
   ]
  },
  {
   "cell_type": "markdown",
   "metadata": {},
   "source": [
    "Resultados de 1er reporte de clasificación"
   ]
  },
  {
   "cell_type": "markdown",
   "metadata": {},
   "source": [
    "Reporte de Clasificación:\n",
    "              precision    recall  f1-score   support\n",
    "\n",
    "           0       0.64      0.44      0.52       196\n",
    "           2       0.00      0.00      0.00         1\n",
    "          18       0.00      0.00      0.00         1\n",
    "          83       0.00      0.00      0.00         1\n",
    "         422       0.00      0.00      0.00         1\n",
    "         483       0.00      0.00      0.00         1\n",
    "        1400       0.00      0.00      0.00         1\n",
    "        1409       0.00      0.00      0.00         1\n",
    "        1581       0.00      0.00      0.00         1\n",
    "        1609       0.00      0.00      0.00         0\n",
    "        1922       0.00      0.00      0.00         1\n",
    "        2240       0.00      0.00      0.00         0\n",
    "        2388       0.00      0.00      0.00         1\n",
    "        2472       0.00      0.00      0.00         0\n",
    "        2513       0.00      0.00      0.00         0\n",
    "        2670       0.00      0.00      0.00         1\n",
    "        2817       0.00      0.00      0.00         0\n",
    "        2938       0.00      0.00      0.00         1\n",
    "        2966       0.00      0.00      0.00         1\n",
    "        3033       0.00      0.00      0.00         1\n",
    "        3152       0.00      0.00      0.00         0\n",
    "        3551       0.00      0.00      0.00         0\n",
    "        3607       0.00      0.00      0.00         1\n",
    "        3646       0.00      0.00      0.00         1\n",
    "        3709       0.00      0.00      0.00         1\n",
    "        4146       0.00      0.00      0.00         1\n",
    "        4344       0.00      0.00      0.00         1\n",
    "        4684       0.00      0.00      0.00         0\n",
    "        5025       0.00      0.00      0.00         1\n",
    "        5264       0.00      0.00      0.00         1\n",
    "        5441       0.00      0.00      0.00         1\n",
    "        6544       0.00      0.00      0.00         1\n",
    "        6591       0.00      0.00      0.00         1\n",
    "        6706       0.00      0.00      0.00         0\n",
    "        8335       0.00      0.00      0.00         0\n",
    "        8784       0.00      0.00      0.00         1\n",
    "        9016       0.00      0.00      0.00         1\n",
    "        9515       0.00      0.00      0.00         1\n",
    "       10129       0.00      0.00      0.00         1\n",
    "       10302       0.00      0.00      0.00         1\n",
    "       10614       0.00      0.00      0.00         0\n",
    "       11655       1.00      1.00      1.00         1\n",
    "       12194       0.00      0.00      0.00         0\n",
    "       12878       0.00      0.00      0.00         0\n",
    "       12959       0.00      0.00      0.00         1\n",
    "       13191       0.00      0.00      0.00         1\n",
    "       13350       0.00      0.00      0.00         1\n",
    "       13593       0.00      0.00      0.00         1\n",
    "       13641       0.00      0.00      0.00         0\n",
    "       14692       0.00      0.00      0.00         0\n",
    "       15076       0.00      0.00      0.00         1\n",
    "       15194       0.00      0.00      0.00         0\n",
    "       16093       0.00      0.00      0.00         1\n",
    "       16684       0.00      0.00      0.00         1\n",
    "       16776       0.00      0.00      0.00         1\n",
    "       16863       0.00      0.00      0.00         1\n",
    "       17756       0.00      0.00      0.00         1\n",
    "       18364       0.00      0.00      0.00         1\n",
    "       18593       0.00      0.00      0.00         0\n",
    "       20193       0.00      0.00      0.00         1\n",
    "       20394       0.00      0.00      0.00         1\n",
    "       21488       0.00      0.00      0.00         1\n",
    "       23000       0.00      0.00      0.00         0\n",
    "       26319       0.00      0.00      0.00         1\n",
    "       29971       0.00      0.00      0.00         0\n",
    "       36138       0.00      0.00      0.00         1\n",
    "       40523       0.00      0.00      0.00         0\n",
    "       42068       0.00      0.00      0.00         1\n",
    "       43865       0.00      0.00      0.00         0\n",
    "       44678       0.00      0.00      0.00         0\n",
    "       46482       0.00      0.00      0.00         1\n",
    "       47738       0.00      0.00      0.00         1\n",
    "       53157       0.00      0.00      0.00         0\n",
    "       57360       0.00      0.00      0.00         1\n",
    "       59501       0.00      0.00      0.00         0\n",
    "       60773       0.00      0.00      0.00         1\n",
    "       63816       0.00      0.00      0.00         1\n",
    "       67459       0.00      0.00      0.00         1\n",
    "       70351       0.00      0.00      0.00         1\n",
    "       70429       0.00      0.00      0.00         1\n",
    "       71093       0.00      0.00      0.00         1\n",
    "       73162       0.00      0.00      0.00         0\n",
    "       73458       0.00      0.00      0.00         1\n",
    "       76645       0.00      0.00      0.00         0\n",
    "       77310       0.00      0.00      0.00         1\n",
    "       77470       0.00      0.00      0.00         0\n",
    "       79780       0.00      0.00      0.00         1\n",
    "       79845       0.00      0.00      0.00         1\n",
    "       95453       0.00      0.00      0.00         1\n",
    "      110436       0.00      0.00      0.00         0\n",
    "      114655       0.00      0.00      0.00         1\n",
    "      120973       0.00      0.00      0.00         1\n",
    "      121137       0.00      0.00      0.00         1\n",
    "      123621       0.00      0.00      0.00         1\n",
    "      125626       0.00      0.00      0.00         0\n",
    "      127481       0.00      0.00      0.00         1\n",
    "      128564       0.00      0.00      0.00         0\n",
    "      136412       0.00      0.00      0.00         1\n",
    "      148482       0.00      0.00      0.00         1\n",
    "      149520       0.00      0.00      0.00         1\n",
    "      153641       0.00      0.00      0.00         0\n",
    "      154564       0.00      0.00      0.00         1\n",
    "      154939       0.00      0.00      0.00         0\n",
    "      176942       0.00      0.00      0.00         1\n",
    "      208426       0.00      0.00      0.00         1\n",
    "      208567       0.05      1.00      0.09         1\n",
    "      226999       0.00      0.00      0.00         1\n",
    "      228943       0.00      0.00      0.00         0\n",
    "      243872       0.00      0.00      0.00         0\n",
    "      249767       0.00      0.00      0.00         1\n",
    "      255650       0.00      0.00      0.00         1\n",
    "      260069       0.00      0.00      0.00         1\n",
    "      317454       0.00      0.00      0.00         1\n",
    "      352864       0.00      0.00      0.00         1\n",
    "      370674       0.00      0.00      0.00         0\n",
    "      384460       0.00      0.00      0.00         0\n",
    "      386290       0.00      0.00      0.00         1\n",
    "      405487       0.00      0.00      0.00         1\n",
    "      429699       0.00      0.00      0.00         1\n",
    "      478623       0.00      0.00      0.00         1\n",
    "      482718       0.00      0.00      0.00         1\n",
    "      545649       0.00      0.00      0.00         1\n",
    "      548607       0.00      0.00      0.00         0\n",
    "      556293       0.00      0.00      0.00         1\n",
    "      567246       0.00      0.00      0.00         1\n",
    "      569447       0.00      0.00      0.00         0\n",
    "      592812       0.00      0.00      0.00         1\n",
    "      599421       0.00      0.00      0.00         1\n",
    "      653850       0.00      0.00      0.00         0\n",
    "      671056       0.00      0.00      0.00         1\n",
    "      674981       0.00      0.00      0.00         1\n",
    "      705728       0.00      0.00      0.00         1\n",
    "      725264       0.00      0.00      0.00         1\n",
    "      753756       0.00      0.00      0.00         1\n",
    "      774697       0.00      0.00      0.00         2\n",
    "      811803       0.00      0.00      0.00         1\n",
    "      826397       0.00      0.00      0.00         0\n",
    "      827848       0.00      0.00      0.00         1\n",
    "      895663       0.00      0.00      0.00         0\n",
    "      944108       0.00      0.00      0.00         0\n",
    "     1161022       0.00      0.00      0.00         1\n",
    "     1228229       0.00      0.00      0.00         1\n",
    "     1256261       0.00      0.00      0.00         1\n",
    "     1456825       0.00      0.00      0.00         0\n",
    "     1658743       0.00      0.00      0.00         0\n",
    "     1687452       0.00      0.00      0.00         0\n",
    "     1989154       0.00      0.00      0.00         1\n",
    "     2103413       0.00      0.00      0.00         1\n",
    "     2704897       0.00      0.00      0.00         1\n",
    "     2934412       0.00      0.00      0.00         1\n",
    "     3001070       0.00      0.00      0.00         1\n",
    "     3305590       0.00      0.00      0.00         1\n",
    "     3903120       0.00      0.00      0.00         1\n",
    "     4081025       0.00      0.00      0.00         1\n",
    "     4335281       0.00      0.00      0.00         0\n",
    "     5442439       0.00      0.00      0.00         1\n",
    "     5456933       0.00      0.00      0.00         0\n",
    "     5913750       0.00      0.00      0.00         1\n",
    "     6096793       0.00      0.00      0.00         1\n",
    "     6388555       0.00      0.00      0.00         1\n",
    "     7037208       0.00      0.00      0.00         1\n",
    "     7792473       0.00      0.00      0.00         1\n",
    "     8723726       0.00      0.00      0.00         1\n",
    "     9657249       0.00      0.00      0.00         1\n",
    "    10282909       0.00      0.00      0.00         1\n",
    "    10736894       0.00      0.00      0.00         1\n",
    "    17918788       0.00      0.00      0.00         1\n",
    "    19312844       0.00      0.00      0.00         1\n",
    "    19515598       0.00      0.00      0.00         0\n",
    "    20139674       0.00      0.00      0.00         0\n",
    "    28798371       0.00      0.00      0.00         1\n",
    "    43383054       0.00      0.00      0.00         1\n",
    "    46335626       0.00      0.00      0.00         1\n",
    "\n",
    "    accuracy                           0.28       320\n",
    "   macro avg       0.01      0.01      0.01       320\n",
    "weighted avg       0.40      0.28      0.32       320"
   ]
  },
  {
   "cell_type": "markdown",
   "metadata": {},
   "source": [
    "Según el informe de clasificación, el modelo parece funcionar bien, logrando una alta precisión, recuperación y puntuación F1 para cada clase. La alta precisión sugiere que el modelo es capaz de predecir el 'Nivel de destrucción' con un alto grado de corrección. Sin embargo, es importante tener en cuenta que sería necesario un mayor análisis y consideración de otras métricas de evaluación, como la validación cruzada o la validación de datos no vistos, para obtener una evaluación integral del rendimiento del modelo."
   ]
  },
  {
   "cell_type": "markdown",
   "metadata": {},
   "source": [
    "#### Interpretación de primer Reporte de Clasificación con GradientBoostingClassifier:"
   ]
  },
  {
   "cell_type": "markdown",
   "metadata": {},
   "source": [
    "### Evaluación con mae, rmse y r2"
   ]
  },
  {
   "cell_type": "code",
   "execution_count": 177,
   "metadata": {},
   "outputs": [
    {
     "name": "stdout",
     "output_type": "stream",
     "text": [
      "Mean Absolute Error (MAE): 1075253.7875\n",
      "Root Mean Squared Error (RMSE): 4705288.673954929\n",
      "Coefficient of Determination (R^2): -0.17238558343769905\n"
     ]
    }
   ],
   "source": [
    "mae = mean_absolute_error(y_test, y_pred)\n",
    "rmse = mean_squared_error(y_test, y_pred, squared=False)\n",
    "r2 = r2_score(y_test, y_pred)\n",
    "\n",
    "print(\"Mean Absolute Error (MAE):\", mae)\n",
    "print(\"Root Mean Squared Error (RMSE):\", rmse)\n",
    "print(\"Coefficient of Determination (R^2):\", r2)"
   ]
  },
  {
   "cell_type": "markdown",
   "metadata": {},
   "source": [
    "#### Resultados de mae, rmse y r2"
   ]
  },
  {
   "cell_type": "markdown",
   "metadata": {},
   "source": [
    "Interpretación de las métricas de rendimiento:\n",
    "\n",
    "* Error absoluto medio (MAE): 1748927.015625\n",
    "\n",
    "El error absoluto medio (MAE) mide la diferencia absoluta promedio entre los valores predichos y los valores reales. En este caso, el MAE es de aproximadamente 1.748.927. Esto significa que, en promedio, las predicciones del modelo están desviadas en aproximadamente 1.748.927 unidades de los valores reales. Un MAE más bajo indica un mejor rendimiento, ya que representa menos error de predicción.\n",
    "\n",
    "\n",
    "* Error cuadrático medio (RMSE): 12581576.452120619\n",
    "\n",
    "El error cuadrático medio (RMSE) es otra medida del error de predicción, tomando la raíz cuadrada del promedio de las diferencias al cuadrado entre los valores predichos y reales. En este caso, el RMSE es de aproximadamente 12.581.576. Esto significa que, en promedio, las predicciones del modelo están desviadas en aproximadamente 12 581 576 unidades de los valores reales. Al igual que MAE, un RMSE más bajo indica un mejor rendimiento.\n",
    "\n",
    "\n",
    "* Coeficiente de Determinación (R^2): -7.382393519518141\n",
    "\n",
    "El coeficiente de determinación, indicado como R^2, es una medida de qué tan bien el modelo explica la varianza en la variable dependiente (la variable objetivo). R^2 varía de infinito negativo a 1, donde 1 indica un ajuste perfecto y los valores cercanos a 1 indican un mejor ajuste. En este caso, el R^2 es negativo (-7.38), lo cual es inusual e indica que el modelo está funcionando mal y peor que una simple línea horizontal (predicción media). R^2 negativo sugiere que el modelo no está capturando la varianza en la variable de destino y está funcionando peor que una predicción promedio básica."
   ]
  },
  {
   "cell_type": "markdown",
   "metadata": {},
   "source": [
    "El informe de clasificación proporciona métricas de evaluación para el modelo GradientBoostingClassifier.\n",
    "La precisión, el recuerdo (recall) y la puntuación F1 (f1-score) se informan para cada clase (1, 2, 3, 4), junto con el soporte (número de muestras) para cada clase.\n",
    "También se informa la precisión del modelo: 1, lo que indica la corrección general de las predicciones.\n",
    "Las métricas de macro avg o macropromedio y weighted avg o promedio ponderado proporcionan medidas de rendimiento agregadas en todas las clases."
   ]
  },
  {
   "cell_type": "markdown",
   "metadata": {},
   "source": [
    "# Conclusiones del modelo Earthquake GradientBoostingClassifier"
   ]
  },
  {
   "cell_type": "markdown",
   "metadata": {},
   "source": [
    "De acuerdo al reporte de clasificación, ninguno de los modelos aplicados (RandomForestClassifier y GradientBoostingClassifier) funcionan para predecir Destruction Level, como lo indican los altísimos valores de MAE y RMSE y el valor alto de R-cuadrado. Esto puede deberse a que existen demasiados niveles por determinar, ya que, a diferencia de Flood donde hay 4 niveles, en este caso hay 6.\n",
    "\n",
    "Las métricas de rendimiento proporcionadas indican que las predicciones del modelo no son precisas y tienen un rendimiento muy deficiente para explicar la variación en la variable de destino. Tanto el MAE como el RMSE son bastante altos, lo que indica errores de predicción significativos. Además, el R^2 negativo indica que el modelo no captura ningún patrón o relación en los datos, y sus predicciones son peores que una predicción promedio básica.\n",
    "\n",
    "Esto sugiere que el modelo puede no ser adecuado para los datos o que hay problemas con la arquitectura, las características o el proceso de entrenamiento del modelo que deben abordarse para mejorar su rendimiento. Es posible que sea necesario realizar más análisis y ajustes al modelo para lograr mejores resultados predictivos.\n",
    "\n",
    "Según la información proporcionada, parece que los niveles de destrucción de los terremotos no están directamente relacionados con las columnas de impacto como el total de muertes, el total de afectados y el total de daños. Esto podría deberse a la complejidad de los eventos sísmicos y varios factores que influyen en su impacto. El nivel de destrucción parece asignarse en función de la magnitud del terremoto (Dis Mag Value) utilizando la escala de Richter, que mide la energía liberada durante un terremoto.\n",
    "\n",
    "Mirando los datos de muestra, podemos ver que a algunos terremotos con una magnitud más alta el modelo les asigna un nivel de destrucción más bajo, mientras que a algunos terremotos con una magnitud más baja se les asigna un nivel de destrucción más alto. Esto puede deberse a factores adicionales como la profundidad del sismo (el hecho de que haya habido réplicas consideradas en el tiempo que no hayamos detectado como de la misma secuencia), la distancia del epicentro a las áreas pobladas con mayor construcción de infraestructura y la eficacia, o no, de los sistemas de alerta temprana, entre otros, que pueden afectar significativamente el impacto y la destrucción que causa un sismo."
   ]
  },
  {
   "cell_type": "markdown",
   "metadata": {},
   "source": [
    "# Recomendaciones"
   ]
  },
  {
   "cell_type": "markdown",
   "metadata": {},
   "source": [
    "Es importante tener en cuenta que asignar niveles de destrucción a los terremotos es una tarea compleja y, a menudo, implica la consideración de múltiples factores. Es posible que el conjunto de datos proporcionado no capture con precisión todos los factores relevantes que influyen en los niveles de destrucción, lo que genera algunas inconsistencias en la asignación de los niveles de destrucción. Por lo tanto, es crucial tener cuidado al usar el Nivel de Destrucción como una representación directa del impacto de un terremoto. Siempre es mejor considerar el contexto adicional y el conocimiento de expertos en sismología al interpretar los resultados.\n",
    "\n",
    "Se tendrán que remodelar los datos, empezando por los umbrales, para simplificar la obtención de variable Destruction Level. Asimismo, considerar borrar las columnas Latitude y Longitude que pueden estar metiendo ruido."
   ]
  }
 ],
 "metadata": {
  "kernelspec": {
   "display_name": "Python 3",
   "language": "python",
   "name": "python3"
  },
  "language_info": {
   "codemirror_mode": {
    "name": "ipython",
    "version": 3
   },
   "file_extension": ".py",
   "mimetype": "text/x-python",
   "name": "python",
   "nbconvert_exporter": "python",
   "pygments_lexer": "ipython3",
   "version": "3.10.11"
  },
  "orig_nbformat": 4
 },
 "nbformat": 4,
 "nbformat_minor": 2
}

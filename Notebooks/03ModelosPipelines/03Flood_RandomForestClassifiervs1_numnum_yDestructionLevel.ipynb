{
 "cells": [
  {
   "cell_type": "markdown",
   "metadata": {},
   "source": [
    "# ML Pipeline de Operaciones en Flood para Predecir Destruction Level con RandomForestClassifier"
   ]
  },
  {
   "cell_type": "markdown",
   "metadata": {},
   "source": [
    "## Objetivos"
   ]
  },
  {
   "cell_type": "markdown",
   "metadata": {},
   "source": [
    "### Predecir Destruction Level (y numérica) a partir de X con features numéricas.\n",
    "\n",
    "Agrupar múltiples operaciones en un mismo objeto:\n",
    "\n",
    "* Borrar columnas, imputar valores faltantes\n",
    "* Preprocessing: Umbrales y función estadística para determinar niveles de bajo a muy alto a imputar en columna categórica Flood Type.\n",
    "* OneHotEncoder para pasar de columna categórica Flood Type a numérica Destruction Level.\n",
    "* Pipeline:\n",
    "    + Imputar most_frequent a nulos con SimpleImputer\n",
    "    + Escalar características numéricas\n",
    "    + RandomForestClassifier\n",
    "* Modelado para predecir Destruction Level"
   ]
  },
  {
   "cell_type": "markdown",
   "metadata": {},
   "source": [
    "## Importar librerías"
   ]
  },
  {
   "cell_type": "code",
   "execution_count": 213,
   "metadata": {},
   "outputs": [],
   "source": [
    "import numpy as np\n",
    "import pandas as pd\n",
    "import matplotlib.pyplot as plt\n",
    "import seaborn as sns\n",
    "\n",
    "# Split X train y test\n",
    "from sklearn.model_selection import train_test_split\n",
    "\n",
    "# Modelos para validación cruzada con cross_val_score y cross_validate\n",
    "from sklearn.ensemble import RandomForestClassifier # Elegido\n",
    "from sklearn.linear_model import LinearRegression\n",
    "from sklearn import svm\n",
    "from sklearn.svm import SVR\n",
    "from sklearn.ensemble import GradientBoostingClassifier\n",
    "from sklearn.neural_network import MLPClassifier\n",
    "from sklearn.neighbors import KNeighborsClassifier\n",
    "from sklearn.tree import DecisionTreeClassifier\n",
    "\n",
    "# Modelos para validar por regresión\n",
    "from sklearn.ensemble import RandomForestRegressor\n",
    "from sklearn.linear_model import ElasticNet\n",
    "from sklearn.tree import DecisionTreeRegressor\n",
    "\n",
    "# Validación de modelos:\n",
    "from sklearn.model_selection import cross_val_score\n",
    "from sklearn.model_selection import cross_validate\n",
    "from sklearn.model_selection import StratifiedKFold\n",
    "from sklearn.model_selection import GridSearchCV\n",
    "\n",
    "# Calificación de modelos\n",
    "from sklearn.metrics import classification_report\n",
    "from sklearn.metrics import mean_squared_error, mean_absolute_error, r2_score\n",
    "from sklearn.metrics import make_scorer\n",
    "from sklearn.metrics import SCORERS\n",
    "\n",
    "# Para imputación categórica a numérica y predicción de columna numérica Destruction Level en Pipeline\n",
    "from sklearn.compose import ColumnTransformer\n",
    "from sklearn.preprocessing import MinMaxScaler, StandardScaler, OneHotEncoder\n",
    "\n",
    "from sklearn.impute import SimpleImputer\n",
    "from sklearn.neighbors import KNeighborsRegressor\n",
    "\n",
    "# Convertir columnas categóricas (Disaster Subtype, Origin, Associated Disaster) a numéricas para predecir Destruction Level Dis o Mag Value\n",
    "from sklearn.preprocessing import LabelEncoder\n",
    "from sklearn.cluster import KMeans\n",
    "\n",
    "# Pipeline\n",
    "from sklearn.pipeline import Pipeline\n",
    "import joblib # guardar pipeline"
   ]
  },
  {
   "cell_type": "markdown",
   "metadata": {},
   "source": [
    "## Cargar datos"
   ]
  },
  {
   "cell_type": "code",
   "execution_count": 214,
   "metadata": {},
   "outputs": [
    {
     "data": {
      "text/html": [
       "<div>\n",
       "<style scoped>\n",
       "    .dataframe tbody tr th:only-of-type {\n",
       "        vertical-align: middle;\n",
       "    }\n",
       "\n",
       "    .dataframe tbody tr th {\n",
       "        vertical-align: top;\n",
       "    }\n",
       "\n",
       "    .dataframe thead th {\n",
       "        text-align: right;\n",
       "    }\n",
       "</style>\n",
       "<table border=\"1\" class=\"dataframe\">\n",
       "  <thead>\n",
       "    <tr style=\"text-align: right;\">\n",
       "      <th></th>\n",
       "      <th>Dis No</th>\n",
       "      <th>Year</th>\n",
       "      <th>Seq</th>\n",
       "      <th>Disaster Subgroup</th>\n",
       "      <th>Disaster Type</th>\n",
       "      <th>Disaster Subtype</th>\n",
       "      <th>Country</th>\n",
       "      <th>ISO</th>\n",
       "      <th>Region</th>\n",
       "      <th>Continent</th>\n",
       "      <th>...</th>\n",
       "      <th>Longitude</th>\n",
       "      <th>Start Year</th>\n",
       "      <th>Start Month</th>\n",
       "      <th>Start Day</th>\n",
       "      <th>End Year</th>\n",
       "      <th>End Month</th>\n",
       "      <th>End Day</th>\n",
       "      <th>Total Deaths</th>\n",
       "      <th>Total Affected</th>\n",
       "      <th>Total Damages Adj</th>\n",
       "    </tr>\n",
       "  </thead>\n",
       "  <tbody>\n",
       "    <tr>\n",
       "      <th>0</th>\n",
       "      <td>1900-9002-CPV</td>\n",
       "      <td>1900</td>\n",
       "      <td>9002</td>\n",
       "      <td>Climatological</td>\n",
       "      <td>Drought</td>\n",
       "      <td>Drought</td>\n",
       "      <td>Cabo Verde</td>\n",
       "      <td>CPV</td>\n",
       "      <td>Western Africa</td>\n",
       "      <td>Africa</td>\n",
       "      <td>...</td>\n",
       "      <td>NaN</td>\n",
       "      <td>1900</td>\n",
       "      <td>0</td>\n",
       "      <td>0</td>\n",
       "      <td>1900</td>\n",
       "      <td>0</td>\n",
       "      <td>0</td>\n",
       "      <td>11000</td>\n",
       "      <td>0</td>\n",
       "      <td>0</td>\n",
       "    </tr>\n",
       "    <tr>\n",
       "      <th>1</th>\n",
       "      <td>1900-9001-IND</td>\n",
       "      <td>1900</td>\n",
       "      <td>9001</td>\n",
       "      <td>Climatological</td>\n",
       "      <td>Drought</td>\n",
       "      <td>Drought</td>\n",
       "      <td>India</td>\n",
       "      <td>IND</td>\n",
       "      <td>Southern Asia</td>\n",
       "      <td>Asia</td>\n",
       "      <td>...</td>\n",
       "      <td>NaN</td>\n",
       "      <td>1900</td>\n",
       "      <td>0</td>\n",
       "      <td>0</td>\n",
       "      <td>1900</td>\n",
       "      <td>0</td>\n",
       "      <td>0</td>\n",
       "      <td>1250000</td>\n",
       "      <td>0</td>\n",
       "      <td>0</td>\n",
       "    </tr>\n",
       "    <tr>\n",
       "      <th>2</th>\n",
       "      <td>1902-0012-GTM</td>\n",
       "      <td>1902</td>\n",
       "      <td>12</td>\n",
       "      <td>Geophysical</td>\n",
       "      <td>Earthquake</td>\n",
       "      <td>Ground movement</td>\n",
       "      <td>Guatemala</td>\n",
       "      <td>GTM</td>\n",
       "      <td>Central America</td>\n",
       "      <td>Americas</td>\n",
       "      <td>...</td>\n",
       "      <td>-91</td>\n",
       "      <td>1902</td>\n",
       "      <td>4</td>\n",
       "      <td>18</td>\n",
       "      <td>1902</td>\n",
       "      <td>4</td>\n",
       "      <td>18</td>\n",
       "      <td>2000</td>\n",
       "      <td>0</td>\n",
       "      <td>843726</td>\n",
       "    </tr>\n",
       "    <tr>\n",
       "      <th>3</th>\n",
       "      <td>1902-0003-GTM</td>\n",
       "      <td>1902</td>\n",
       "      <td>3</td>\n",
       "      <td>Geophysical</td>\n",
       "      <td>Volcanic activity</td>\n",
       "      <td>Ash fall</td>\n",
       "      <td>Guatemala</td>\n",
       "      <td>GTM</td>\n",
       "      <td>Central America</td>\n",
       "      <td>Americas</td>\n",
       "      <td>...</td>\n",
       "      <td>NaN</td>\n",
       "      <td>1902</td>\n",
       "      <td>4</td>\n",
       "      <td>8</td>\n",
       "      <td>1902</td>\n",
       "      <td>4</td>\n",
       "      <td>8</td>\n",
       "      <td>1000</td>\n",
       "      <td>0</td>\n",
       "      <td>0</td>\n",
       "    </tr>\n",
       "    <tr>\n",
       "      <th>4</th>\n",
       "      <td>1902-0010-GTM</td>\n",
       "      <td>1902</td>\n",
       "      <td>10</td>\n",
       "      <td>Geophysical</td>\n",
       "      <td>Volcanic activity</td>\n",
       "      <td>Ash fall</td>\n",
       "      <td>Guatemala</td>\n",
       "      <td>GTM</td>\n",
       "      <td>Central America</td>\n",
       "      <td>Americas</td>\n",
       "      <td>...</td>\n",
       "      <td>NaN</td>\n",
       "      <td>1902</td>\n",
       "      <td>10</td>\n",
       "      <td>24</td>\n",
       "      <td>1902</td>\n",
       "      <td>10</td>\n",
       "      <td>24</td>\n",
       "      <td>6000</td>\n",
       "      <td>0</td>\n",
       "      <td>0</td>\n",
       "    </tr>\n",
       "    <tr>\n",
       "      <th>5</th>\n",
       "      <td>1903-0006-CAN</td>\n",
       "      <td>1903</td>\n",
       "      <td>6</td>\n",
       "      <td>Geophysical</td>\n",
       "      <td>Mass movement (dry)</td>\n",
       "      <td>Rockfall</td>\n",
       "      <td>Canada</td>\n",
       "      <td>CAN</td>\n",
       "      <td>Northern America</td>\n",
       "      <td>Americas</td>\n",
       "      <td>...</td>\n",
       "      <td>NaN</td>\n",
       "      <td>1903</td>\n",
       "      <td>4</td>\n",
       "      <td>29</td>\n",
       "      <td>1903</td>\n",
       "      <td>4</td>\n",
       "      <td>29</td>\n",
       "      <td>76</td>\n",
       "      <td>23</td>\n",
       "      <td>0</td>\n",
       "    </tr>\n",
       "    <tr>\n",
       "      <th>6</th>\n",
       "      <td>1903-0012-COM</td>\n",
       "      <td>1903</td>\n",
       "      <td>12</td>\n",
       "      <td>Geophysical</td>\n",
       "      <td>Volcanic activity</td>\n",
       "      <td>Ash fall</td>\n",
       "      <td>Comoros (the)</td>\n",
       "      <td>COM</td>\n",
       "      <td>Eastern Africa</td>\n",
       "      <td>Africa</td>\n",
       "      <td>...</td>\n",
       "      <td>NaN</td>\n",
       "      <td>1903</td>\n",
       "      <td>0</td>\n",
       "      <td>0</td>\n",
       "      <td>1903</td>\n",
       "      <td>0</td>\n",
       "      <td>0</td>\n",
       "      <td>17</td>\n",
       "      <td>0</td>\n",
       "      <td>0</td>\n",
       "    </tr>\n",
       "    <tr>\n",
       "      <th>7</th>\n",
       "      <td>1904-0003-BGD</td>\n",
       "      <td>1904</td>\n",
       "      <td>3</td>\n",
       "      <td>Meteorological</td>\n",
       "      <td>Storm</td>\n",
       "      <td>Tropical cyclone</td>\n",
       "      <td>Bangladesh</td>\n",
       "      <td>BGD</td>\n",
       "      <td>Southern Asia</td>\n",
       "      <td>Asia</td>\n",
       "      <td>...</td>\n",
       "      <td>NaN</td>\n",
       "      <td>1904</td>\n",
       "      <td>11</td>\n",
       "      <td>0</td>\n",
       "      <td>1904</td>\n",
       "      <td>11</td>\n",
       "      <td>0</td>\n",
       "      <td>0</td>\n",
       "      <td>0</td>\n",
       "      <td>0</td>\n",
       "    </tr>\n",
       "    <tr>\n",
       "      <th>8</th>\n",
       "      <td>1905-0005-CAN</td>\n",
       "      <td>1905</td>\n",
       "      <td>5</td>\n",
       "      <td>Geophysical</td>\n",
       "      <td>Mass movement (dry)</td>\n",
       "      <td>Rockfall</td>\n",
       "      <td>Canada</td>\n",
       "      <td>CAN</td>\n",
       "      <td>Northern America</td>\n",
       "      <td>Americas</td>\n",
       "      <td>...</td>\n",
       "      <td>NaN</td>\n",
       "      <td>1905</td>\n",
       "      <td>8</td>\n",
       "      <td>13</td>\n",
       "      <td>1905</td>\n",
       "      <td>8</td>\n",
       "      <td>13</td>\n",
       "      <td>18</td>\n",
       "      <td>18</td>\n",
       "      <td>0</td>\n",
       "    </tr>\n",
       "    <tr>\n",
       "      <th>9</th>\n",
       "      <td>1905-0003-IND</td>\n",
       "      <td>1905</td>\n",
       "      <td>3</td>\n",
       "      <td>Geophysical</td>\n",
       "      <td>Earthquake</td>\n",
       "      <td>Ground movement</td>\n",
       "      <td>India</td>\n",
       "      <td>IND</td>\n",
       "      <td>Southern Asia</td>\n",
       "      <td>Asia</td>\n",
       "      <td>...</td>\n",
       "      <td>76.16</td>\n",
       "      <td>1905</td>\n",
       "      <td>4</td>\n",
       "      <td>4</td>\n",
       "      <td>1905</td>\n",
       "      <td>4</td>\n",
       "      <td>4</td>\n",
       "      <td>20000</td>\n",
       "      <td>0</td>\n",
       "      <td>812477</td>\n",
       "    </tr>\n",
       "  </tbody>\n",
       "</table>\n",
       "<p>10 rows × 26 columns</p>\n",
       "</div>"
      ],
      "text/plain": [
       "          Dis No  Year   Seq Disaster Subgroup        Disaster Type  \\\n",
       "0  1900-9002-CPV  1900  9002    Climatological              Drought   \n",
       "1  1900-9001-IND  1900  9001    Climatological              Drought   \n",
       "2  1902-0012-GTM  1902    12       Geophysical           Earthquake   \n",
       "3  1902-0003-GTM  1902     3       Geophysical    Volcanic activity   \n",
       "4  1902-0010-GTM  1902    10       Geophysical    Volcanic activity   \n",
       "5  1903-0006-CAN  1903     6       Geophysical  Mass movement (dry)   \n",
       "6  1903-0012-COM  1903    12       Geophysical    Volcanic activity   \n",
       "7  1904-0003-BGD  1904     3    Meteorological                Storm   \n",
       "8  1905-0005-CAN  1905     5       Geophysical  Mass movement (dry)   \n",
       "9  1905-0003-IND  1905     3       Geophysical           Earthquake   \n",
       "\n",
       "   Disaster Subtype        Country  ISO            Region Continent  ...  \\\n",
       "0           Drought     Cabo Verde  CPV    Western Africa    Africa  ...   \n",
       "1           Drought          India  IND     Southern Asia      Asia  ...   \n",
       "2   Ground movement      Guatemala  GTM   Central America  Americas  ...   \n",
       "3          Ash fall      Guatemala  GTM   Central America  Americas  ...   \n",
       "4          Ash fall      Guatemala  GTM   Central America  Americas  ...   \n",
       "5          Rockfall         Canada  CAN  Northern America  Americas  ...   \n",
       "6          Ash fall  Comoros (the)  COM    Eastern Africa    Africa  ...   \n",
       "7  Tropical cyclone     Bangladesh  BGD     Southern Asia      Asia  ...   \n",
       "8          Rockfall         Canada  CAN  Northern America  Americas  ...   \n",
       "9   Ground movement          India  IND     Southern Asia      Asia  ...   \n",
       "\n",
       "  Longitude Start Year Start Month  Start Day End Year End Month End Day  \\\n",
       "0       NaN       1900           0          0     1900         0       0   \n",
       "1       NaN       1900           0          0     1900         0       0   \n",
       "2       -91       1902           4         18     1902         4      18   \n",
       "3       NaN       1902           4          8     1902         4       8   \n",
       "4       NaN       1902          10         24     1902        10      24   \n",
       "5       NaN       1903           4         29     1903         4      29   \n",
       "6       NaN       1903           0          0     1903         0       0   \n",
       "7       NaN       1904          11          0     1904        11       0   \n",
       "8       NaN       1905           8         13     1905         8      13   \n",
       "9     76.16       1905           4          4     1905         4       4   \n",
       "\n",
       "   Total Deaths  Total Affected  Total Damages Adj  \n",
       "0         11000               0                  0  \n",
       "1       1250000               0                  0  \n",
       "2          2000               0             843726  \n",
       "3          1000               0                  0  \n",
       "4          6000               0                  0  \n",
       "5            76              23                  0  \n",
       "6            17               0                  0  \n",
       "7             0               0                  0  \n",
       "8            18              18                  0  \n",
       "9         20000               0             812477  \n",
       "\n",
       "[10 rows x 26 columns]"
      ]
     },
     "execution_count": 214,
     "metadata": {},
     "output_type": "execute_result"
    }
   ],
   "source": [
    "df = pd.read_csv('../../Data/03Limpio/03desastreslimpio.csv')\n",
    "df.head(10)"
   ]
  },
  {
   "cell_type": "markdown",
   "metadata": {},
   "source": [
    "## Comprobación Básica df"
   ]
  },
  {
   "cell_type": "code",
   "execution_count": 215,
   "metadata": {},
   "outputs": [
    {
     "data": {
      "text/plain": [
       "(16636, 26)"
      ]
     },
     "execution_count": 215,
     "metadata": {},
     "output_type": "execute_result"
    }
   ],
   "source": [
    "df.shape"
   ]
  },
  {
   "cell_type": "code",
   "execution_count": 216,
   "metadata": {},
   "outputs": [
    {
     "name": "stdout",
     "output_type": "stream",
     "text": [
      "<class 'pandas.core.frame.DataFrame'>\n",
      "RangeIndex: 16636 entries, 0 to 16635\n",
      "Data columns (total 26 columns):\n",
      " #   Column             Non-Null Count  Dtype \n",
      "---  ------             --------------  ----- \n",
      " 0   Dis No             16636 non-null  object\n",
      " 1   Year               16636 non-null  int64 \n",
      " 2   Seq                16636 non-null  int64 \n",
      " 3   Disaster Subgroup  16636 non-null  object\n",
      " 4   Disaster Type      16636 non-null  object\n",
      " 5   Disaster Subtype   13313 non-null  object\n",
      " 6   Country            16636 non-null  object\n",
      " 7   ISO                16636 non-null  object\n",
      " 8   Region             16636 non-null  object\n",
      " 9   Continent          16636 non-null  object\n",
      " 10  Location           14825 non-null  object\n",
      " 11  Origin             4085 non-null   object\n",
      " 12  Associated Dis     3593 non-null   object\n",
      " 13  Dis Mag Value      16636 non-null  int64 \n",
      " 14  Dis Mag Scale      15416 non-null  object\n",
      " 15  Latitude           2775 non-null   object\n",
      " 16  Longitude          2775 non-null   object\n",
      " 17  Start Year         16636 non-null  int64 \n",
      " 18  Start Month        16636 non-null  int64 \n",
      " 19  Start Day          16636 non-null  int64 \n",
      " 20  End Year           16636 non-null  int64 \n",
      " 21  End Month          16636 non-null  int64 \n",
      " 22  End Day            16636 non-null  int64 \n",
      " 23  Total Deaths       16636 non-null  int64 \n",
      " 24  Total Affected     16636 non-null  int64 \n",
      " 25  Total Damages Adj  16636 non-null  int64 \n",
      "dtypes: int64(12), object(14)\n",
      "memory usage: 3.3+ MB\n"
     ]
    }
   ],
   "source": [
    "df.info()"
   ]
  },
  {
   "cell_type": "code",
   "execution_count": 217,
   "metadata": {},
   "outputs": [
    {
     "data": {
      "text/plain": [
       "Index(['Dis No', 'Year', 'Seq', 'Disaster Subgroup', 'Disaster Type',\n",
       "       'Disaster Subtype', 'Country', 'ISO', 'Region', 'Continent', 'Location',\n",
       "       'Origin', 'Associated Dis', 'Dis Mag Value', 'Dis Mag Scale',\n",
       "       'Latitude', 'Longitude', 'Start Year', 'Start Month', 'Start Day',\n",
       "       'End Year', 'End Month', 'End Day', 'Total Deaths', 'Total Affected',\n",
       "       'Total Damages Adj'],\n",
       "      dtype='object')"
      ]
     },
     "execution_count": 217,
     "metadata": {},
     "output_type": "execute_result"
    }
   ],
   "source": [
    "df.columns"
   ]
  },
  {
   "cell_type": "code",
   "execution_count": 218,
   "metadata": {},
   "outputs": [
    {
     "name": "stdout",
     "output_type": "stream",
     "text": [
      "Dis No                   0\n",
      "Year                     0\n",
      "Seq                      0\n",
      "Disaster Subgroup        0\n",
      "Disaster Type            0\n",
      "Disaster Subtype      3323\n",
      "Country                  0\n",
      "ISO                      0\n",
      "Region                   0\n",
      "Continent                0\n",
      "Location              1811\n",
      "Origin               12551\n",
      "Associated Dis       13043\n",
      "Dis Mag Value            0\n",
      "Dis Mag Scale         1220\n",
      "Latitude             13861\n",
      "Longitude            13861\n",
      "Start Year               0\n",
      "Start Month              0\n",
      "Start Day                0\n",
      "End Year                 0\n",
      "End Month                0\n",
      "End Day                  0\n",
      "Total Deaths             0\n",
      "Total Affected           0\n",
      "Total Damages Adj        0\n",
      "dtype: int64\n",
      "Dis No                   0\n",
      "Year                     0\n",
      "Seq                      0\n",
      "Disaster Subgroup        0\n",
      "Disaster Type            0\n",
      "Disaster Subtype      3323\n",
      "Country                  0\n",
      "ISO                      0\n",
      "Region                   0\n",
      "Continent                0\n",
      "Location              1811\n",
      "Origin               12551\n",
      "Associated Dis       13043\n",
      "Dis Mag Value            0\n",
      "Dis Mag Scale         1220\n",
      "Latitude             13861\n",
      "Longitude            13861\n",
      "Start Year               0\n",
      "Start Month              0\n",
      "Start Day                0\n",
      "End Year                 0\n",
      "End Month                0\n",
      "End Day                  0\n",
      "Total Deaths             0\n",
      "Total Affected           0\n",
      "Total Damages Adj        0\n",
      "dtype: int64\n"
     ]
    }
   ],
   "source": [
    "print(df.isnull().sum())\n",
    "print(df.isna().sum())"
   ]
  },
  {
   "cell_type": "markdown",
   "metadata": {},
   "source": [
    "# Preparación de dataset"
   ]
  },
  {
   "cell_type": "markdown",
   "metadata": {},
   "source": [
    "### Filtro Flood"
   ]
  },
  {
   "cell_type": "code",
   "execution_count": 219,
   "metadata": {},
   "outputs": [],
   "source": [
    "# Filtro principal para Flood\n",
    "df_flood = df[df['Disaster Type'] == 'Flood']"
   ]
  },
  {
   "cell_type": "markdown",
   "metadata": {},
   "source": [
    "### Limpieza"
   ]
  },
  {
   "cell_type": "markdown",
   "metadata": {},
   "source": [
    "#### Borrar columnas"
   ]
  },
  {
   "cell_type": "code",
   "execution_count": 220,
   "metadata": {},
   "outputs": [
    {
     "name": "stderr",
     "output_type": "stream",
     "text": [
      "C:\\Users\\AleEng\\AppData\\Local\\Temp\\ipykernel_16488\\2601801454.py:1: SettingWithCopyWarning: \n",
      "A value is trying to be set on a copy of a slice from a DataFrame\n",
      "\n",
      "See the caveats in the documentation: https://pandas.pydata.org/pandas-docs/stable/user_guide/indexing.html#returning-a-view-versus-a-copy\n",
      "  df_flood.drop(columns=['Dis No', 'Year', 'Seq', 'Disaster Subgroup', 'Latitude', 'Longitude', 'ISO'], inplace=True)\n"
     ]
    }
   ],
   "source": [
    "df_flood.drop(columns=['Dis No', 'Year', 'Seq', 'Disaster Subgroup', 'Latitude', 'Longitude', 'ISO'], inplace=True)"
   ]
  },
  {
   "cell_type": "code",
   "execution_count": 221,
   "metadata": {},
   "outputs": [
    {
     "data": {
      "text/html": [
       "<div>\n",
       "<style scoped>\n",
       "    .dataframe tbody tr th:only-of-type {\n",
       "        vertical-align: middle;\n",
       "    }\n",
       "\n",
       "    .dataframe tbody tr th {\n",
       "        vertical-align: top;\n",
       "    }\n",
       "\n",
       "    .dataframe thead th {\n",
       "        text-align: right;\n",
       "    }\n",
       "</style>\n",
       "<table border=\"1\" class=\"dataframe\">\n",
       "  <thead>\n",
       "    <tr style=\"text-align: right;\">\n",
       "      <th></th>\n",
       "      <th>Disaster Type</th>\n",
       "      <th>Disaster Subtype</th>\n",
       "      <th>Country</th>\n",
       "      <th>Region</th>\n",
       "      <th>Continent</th>\n",
       "      <th>Location</th>\n",
       "      <th>Origin</th>\n",
       "      <th>Associated Dis</th>\n",
       "      <th>Dis Mag Value</th>\n",
       "      <th>Dis Mag Scale</th>\n",
       "      <th>Start Year</th>\n",
       "      <th>Start Month</th>\n",
       "      <th>Start Day</th>\n",
       "      <th>End Year</th>\n",
       "      <th>End Month</th>\n",
       "      <th>End Day</th>\n",
       "      <th>Total Deaths</th>\n",
       "      <th>Total Affected</th>\n",
       "      <th>Total Damages Adj</th>\n",
       "    </tr>\n",
       "  </thead>\n",
       "  <tbody>\n",
       "    <tr>\n",
       "      <th>12</th>\n",
       "      <td>Flood</td>\n",
       "      <td>NaN</td>\n",
       "      <td>Belgium</td>\n",
       "      <td>Western Europe</td>\n",
       "      <td>Europe</td>\n",
       "      <td>Louvain region</td>\n",
       "      <td>NaN</td>\n",
       "      <td>NaN</td>\n",
       "      <td>0</td>\n",
       "      <td>Km2</td>\n",
       "      <td>1906</td>\n",
       "      <td>5</td>\n",
       "      <td>14</td>\n",
       "      <td>1906</td>\n",
       "      <td>5</td>\n",
       "      <td>14</td>\n",
       "      <td>6</td>\n",
       "      <td>0</td>\n",
       "      <td>0</td>\n",
       "    </tr>\n",
       "    <tr>\n",
       "      <th>13</th>\n",
       "      <td>Flood</td>\n",
       "      <td>NaN</td>\n",
       "      <td>Belgium</td>\n",
       "      <td>Western Europe</td>\n",
       "      <td>Europe</td>\n",
       "      <td>NaN</td>\n",
       "      <td>NaN</td>\n",
       "      <td>NaN</td>\n",
       "      <td>0</td>\n",
       "      <td>Km2</td>\n",
       "      <td>1906</td>\n",
       "      <td>4</td>\n",
       "      <td>0</td>\n",
       "      <td>1906</td>\n",
       "      <td>4</td>\n",
       "      <td>0</td>\n",
       "      <td>0</td>\n",
       "      <td>0</td>\n",
       "      <td>0</td>\n",
       "    </tr>\n",
       "  </tbody>\n",
       "</table>\n",
       "</div>"
      ],
      "text/plain": [
       "   Disaster Type Disaster Subtype  Country          Region Continent  \\\n",
       "12         Flood              NaN  Belgium  Western Europe    Europe   \n",
       "13         Flood              NaN  Belgium  Western Europe    Europe   \n",
       "\n",
       "          Location Origin Associated Dis  Dis Mag Value Dis Mag Scale  \\\n",
       "12  Louvain region    NaN            NaN              0           Km2   \n",
       "13             NaN    NaN            NaN              0           Km2   \n",
       "\n",
       "    Start Year  Start Month  Start Day  End Year  End Month  End Day  \\\n",
       "12        1906            5         14      1906          5       14   \n",
       "13        1906            4          0      1906          4        0   \n",
       "\n",
       "    Total Deaths  Total Affected  Total Damages Adj  \n",
       "12             6               0                  0  \n",
       "13             0               0                  0  "
      ]
     },
     "execution_count": 221,
     "metadata": {},
     "output_type": "execute_result"
    }
   ],
   "source": [
    "df_flood.head(2)"
   ]
  },
  {
   "cell_type": "markdown",
   "metadata": {},
   "source": [
    "### Valores faltantes"
   ]
  },
  {
   "cell_type": "code",
   "execution_count": 222,
   "metadata": {},
   "outputs": [],
   "source": [
    "# # Rellenar valores faltantes y nulls con 0, después, borrar filas con valores faltantes\n",
    "# df_flood = df_flood.copy()\n",
    "# df_flood.fillna(0, inplace=True)"
   ]
  },
  {
   "cell_type": "markdown",
   "metadata": {},
   "source": [
    "## Preprocessing"
   ]
  },
  {
   "cell_type": "markdown",
   "metadata": {},
   "source": [
    "## Preprocessing 1: crear columna categórica Flood Type y codificar columna numérica Destruction Level con OneHotEncoder para predecir y"
   ]
  },
  {
   "cell_type": "markdown",
   "metadata": {},
   "source": [
    "### Filtro para excluir filas con valores 0 en 'Dis Mag Value', 'Total Deaths', 'Total Affected' y 'Total Damages Adj'"
   ]
  },
  {
   "cell_type": "code",
   "execution_count": 223,
   "metadata": {},
   "outputs": [],
   "source": [
    "# df_flood = df[(df['Dis Mag Value'] > 0) & \n",
    "#                  (df['Total Deaths'] > 0) & \n",
    "#                  (df['Total Affected'] > 0) & \n",
    "#                  (df['Total Damages Adj'] > 0)]"
   ]
  },
  {
   "cell_type": "code",
   "execution_count": 224,
   "metadata": {},
   "outputs": [
    {
     "data": {
      "text/plain": [
       "0"
      ]
     },
     "execution_count": 224,
     "metadata": {},
     "output_type": "execute_result"
    }
   ],
   "source": [
    "df_flood['Dis Mag Value'].min()"
   ]
  },
  {
   "cell_type": "code",
   "execution_count": 225,
   "metadata": {},
   "outputs": [
    {
     "data": {
      "text/plain": [
       "(5808, 19)"
      ]
     },
     "execution_count": 225,
     "metadata": {},
     "output_type": "execute_result"
    }
   ],
   "source": [
    "df_flood.shape"
   ]
  },
  {
   "cell_type": "markdown",
   "metadata": {},
   "source": [
    "### Condiciones estadísticas para determinar umbrales de clasificación para Tipo de Inundación y su Nivel de Destrucción"
   ]
  },
  {
   "cell_type": "code",
   "execution_count": 226,
   "metadata": {},
   "outputs": [],
   "source": [
    "min_dis_mag = df_flood['Dis Mag Value'].loc[df_flood['Dis Mag Value'].gt(0)].min()\n",
    "max_dis_mag = df_flood['Dis Mag Value'].loc[df_flood['Dis Mag Value'].gt(0)].max()\n",
    "std_dis_mag = df_flood['Dis Mag Value'].loc[df_flood['Dis Mag Value'].gt(0)].std()\n",
    "mean_dis_mag = df_flood['Dis Mag Value'].loc[df_flood['Dis Mag Value'].gt(0)].mean()\n",
    "median_dis_mag = df_flood['Dis Mag Value'].loc[df_flood['Dis Mag Value'].gt(0)].median()\n",
    "\n",
    "min_tot_deaths = df_flood['Total Deaths'].loc[df_flood['Total Deaths'].gt(0)].min()\n",
    "max_tot_deaths = df_flood['Total Deaths'].loc[df_flood['Total Deaths'].gt(0)].max()\n",
    "std_tot_deaths = df_flood['Total Deaths'].loc[df_flood['Total Deaths'].gt(0)].std()\n",
    "mean_tot_deaths = df_flood['Total Deaths'].loc[df_flood['Total Deaths'].gt(0)].mean()\n",
    "median_tot_deaths = df_flood['Total Deaths'].loc[df_flood['Total Deaths'].gt(0)].median()\n",
    "\n",
    "min_tot_affect = df_flood['Total Affected'].loc[df_flood['Total Affected'].gt(0)].min()\n",
    "max_tot_affect = df_flood['Total Affected'].loc[df_flood['Total Affected'].gt(0)].max()\n",
    "std_tot_affect = df_flood['Total Affected'].loc[df_flood['Total Affected'].gt(0)].std()\n",
    "mean_tot_affect = df_flood['Total Affected'].loc[df_flood['Total Affected'].gt(0)].mean()\n",
    "median_tot_affect = df_flood['Total Affected'].loc[df_flood['Total Affected'].gt(0)].median()\n",
    "\n",
    "min_tot_damages = df_flood['Total Damages Adj'].loc[df_flood['Total Damages Adj'].gt(0)].min()\n",
    "max_tot_damages = df_flood['Total Damages Adj'].loc[df_flood['Total Damages Adj'].gt(0)].max()\n",
    "std_tot_damages = df_flood['Total Damages Adj'].loc[df_flood['Total Damages Adj'].gt(0)].std()\n",
    "mean_tot_damages = df_flood['Total Damages Adj'].loc[df_flood['Total Damages Adj'].gt(0)].mean()\n",
    "median_tot_damages = df_flood['Total Damages Adj'].loc[df_flood['Total Damages Adj'].gt(0)].median()"
   ]
  },
  {
   "cell_type": "markdown",
   "metadata": {},
   "source": [
    ".loc[df_flood['Dis Mag Value'].gt(0)]: El método .loc se usa para acceder a filas específicas del DataFrame según una condición. En este caso, la condición es df_flood['Dis Mag Value'].gt(0), que verifica si los valores en la columna 'Dis Mag Value' son mayores que 0. Esta condición crea una máscara booleana, donde cada elemento en el DataFrame se reemplaza con True si es mayor que 0 y False en caso contrario."
   ]
  },
  {
   "cell_type": "code",
   "execution_count": 227,
   "metadata": {},
   "outputs": [
    {
     "name": "stdout",
     "output_type": "stream",
     "text": [
      "2\n",
      "2857000\n",
      "206861.50686270732\n",
      "92063.0765334834\n",
      "24681.0\n",
      "1\n",
      "3700000\n",
      "65196.51587469585\n",
      "1656.5946073793757\n",
      "16.0\n",
      "2\n",
      "238973000\n",
      "7561334.5755781615\n",
      "811324.9760785116\n",
      "11000.0\n",
      "5\n",
      "53860097\n",
      "3156399.414884343\n",
      "861012.3965244866\n",
      "87845.0\n"
     ]
    }
   ],
   "source": [
    "print(df_flood['Dis Mag Value'].loc[df_flood['Dis Mag Value'].gt(0)].min())\n",
    "print(df_flood['Dis Mag Value'].loc[df_flood['Dis Mag Value'].gt(0)].max())\n",
    "print(df_flood['Dis Mag Value'].loc[df_flood['Dis Mag Value'].gt(0)].std())\n",
    "print(df_flood['Dis Mag Value'].loc[df_flood['Dis Mag Value'].gt(0)].mean())\n",
    "print(df_flood['Dis Mag Value'].loc[df_flood['Dis Mag Value'].gt(0)].median())\n",
    "\n",
    "print(df_flood['Total Deaths'].loc[df_flood['Total Deaths'].gt(0)].min())\n",
    "print(df_flood['Total Deaths'].loc[df_flood['Total Deaths'].gt(0)].max())\n",
    "print(df_flood['Total Deaths'].loc[df_flood['Total Deaths'].gt(0)].std())\n",
    "print(df_flood['Total Deaths'].loc[df_flood['Total Deaths'].gt(0)].mean())\n",
    "print(df_flood['Total Deaths'].loc[df_flood['Total Deaths'].gt(0)].median())\n",
    "\n",
    "print(df_flood['Total Affected'].loc[df_flood['Total Affected'].gt(0)].min())\n",
    "print(df_flood['Total Affected'].loc[df_flood['Total Affected'].gt(0)].max())\n",
    "print(df_flood['Total Affected'].loc[df_flood['Total Affected'].gt(0)].std())\n",
    "print(df_flood['Total Affected'].loc[df_flood['Total Affected'].gt(0)].mean())\n",
    "print(df_flood['Total Affected'].loc[df_flood['Total Affected'].gt(0)].median())\n",
    "\n",
    "print(df_flood['Total Damages Adj'].loc[df_flood['Total Damages Adj'].gt(0)].min())\n",
    "print(df_flood['Total Damages Adj'].loc[df_flood['Total Damages Adj'].gt(0)].max())\n",
    "print(df_flood['Total Damages Adj'].loc[df_flood['Total Damages Adj'].gt(0)].std())\n",
    "print(df_flood['Total Damages Adj'].loc[df_flood['Total Damages Adj'].gt(0)].mean())\n",
    "print(df_flood['Total Damages Adj'].loc[df_flood['Total Damages Adj'].gt(0)].median())"
   ]
  },
  {
   "cell_type": "markdown",
   "metadata": {},
   "source": [
    "### Tipos de umbrales para clasificar impacto de extensión de inundación"
   ]
  },
  {
   "cell_type": "markdown",
   "metadata": {},
   "source": [
    "Según algunas clasificaciones, las inundaciones pueden clasificarse según su extensión. Los umbrales sugieren que las inundaciones con diferentes escalas de impacto pueden afectar varios tipos de áreas, desde cuencas fluviales y llanuras aluviales hasta grandes regiones costeras e incluso países enteros. Cuanto mayor sea el área de impacto, más catastrófica y menos común podría ser la inundación. No obstante, los factores locales, las características geográficas, los patrones climáticos y la infraestructura pueden influir significativamente en la ocurrencia de inundaciones y los impactos en diferentes regiones."
   ]
  },
  {
   "cell_type": "code",
   "execution_count": 228,
   "metadata": {},
   "outputs": [],
   "source": [
    "# dis_mag\n",
    "# min 2 (Dos kilómetros cuadrados)\n",
    "# max 2.857.000 (Dos millones ochoscientos cincuenta y siete mil kilómetros cuadrados)\n",
    "# std 206.861,50686270732 (Doscientos seis mil ochoscientos sesenta y uno coma cincuenta)"
   ]
  },
  {
   "cell_type": "code",
   "execution_count": 229,
   "metadata": {},
   "outputs": [],
   "source": [
    "dis_mag_values = df_flood['Dis Mag Value'].loc[df_flood['Dis Mag Value'].gt(0)]"
   ]
  },
  {
   "cell_type": "markdown",
   "metadata": {},
   "source": [
    "Umbral de inundaciones Tipo 1:\n",
    "\n",
    "Umbral: min_dis_mag + std_dis_mag\n",
    "Explicación: Las inundaciones de tipo 1 son la categoría menos grave. Para determinar el umbral para inundaciones Tipo 1, se tomó el valor mínimo de la columna \"Dis Mag Value\" (que es 2) y se agregó la desviación estándar de esta columna (que es aproximadamente 206.862,00). Por lo tanto, cualquier evento de inundación con un \"Valor Dis Mag\" mayor o igual a aproximadamente 206.862,00 se clasificará como una inundación Tipo 1."
   ]
  },
  {
   "cell_type": "markdown",
   "metadata": {},
   "source": [
    "Umbral tipo 1 (206.862,00 km2): Las áreas con un tamaño de impacto alrededor de este umbral podrían representar grandes cuencas fluviales, extensas llanuras aluviales o regiones propensas a grandes inundaciones debido a fuertes lluvias o temporadas de monzones. Estas áreas pueden incluir llanuras aluviales cerca de ríos."
   ]
  },
  {
   "cell_type": "code",
   "execution_count": 230,
   "metadata": {},
   "outputs": [],
   "source": [
    "type1_threshold = min_dis_mag + std_dis_mag"
   ]
  },
  {
   "cell_type": "code",
   "execution_count": 231,
   "metadata": {},
   "outputs": [
    {
     "data": {
      "text/plain": [
       "206863.50686270732"
      ]
     },
     "execution_count": 231,
     "metadata": {},
     "output_type": "execute_result"
    }
   ],
   "source": [
    "min_dis_mag + std_dis_mag #206861.51 Doscientos seis mil ochocientos sesenta y tres coma cincuenta"
   ]
  },
  {
   "cell_type": "markdown",
   "metadata": {},
   "source": [
    "Umbral de inundaciones Tipo 2:\n",
    "Umbral: min_dis_mag + (2 * std_dis_mag)\n",
    "Explicación: Las inundaciones de tipo 2 son moderadamente severas. Para determinar el umbral para las inundaciones de Tipo 2, nuevamente tomamos el valor mínimo de la columna \"Dis Mag Value\" (que es 2) y agregamos el doble de la desviación estándar de esta columna (que es aproximadamente 206.862,00). Esto nos da un umbral de aproximadamente 413.726. Por lo tanto, cualquier evento de inundación con un \"Valor Dis Mag\" entre 206.864,00 y 413.726,00 se clasificará como una inundación Tipo 2."
   ]
  },
  {
   "cell_type": "markdown",
   "metadata": {},
   "source": [
    "Umbral tipo 2 (2.857.000 km2): las áreas de impacto más cercanas a este umbral podrían indicar inundaciones que afectan regiones más grandes, como países enteros o grandes áreas costeras. Los ejemplos pueden incluir inundaciones en países bajos o regiones que rodean grandes deltas de ríos."
   ]
  },
  {
   "cell_type": "code",
   "execution_count": 232,
   "metadata": {},
   "outputs": [],
   "source": [
    "type2_threshold = min_dis_mag + (2 * std_dis_mag)"
   ]
  },
  {
   "cell_type": "code",
   "execution_count": 233,
   "metadata": {},
   "outputs": [
    {
     "data": {
      "text/plain": [
       "413725.01372541464"
      ]
     },
     "execution_count": 233,
     "metadata": {},
     "output_type": "execute_result"
    }
   ],
   "source": [
    "min_dis_mag + (2 * std_dis_mag) # 413.725,01372541464 Cuatrocientos trece mil setecientos veinticinco coma cero trece"
   ]
  },
  {
   "cell_type": "markdown",
   "metadata": {},
   "source": [
    "Umbral de inundaciones Tipo 3:\n",
    "Umbral: max_dis_mag - std_dis_mag\n",
    "Explicación: Las inundaciones de tipo 3 son la categoría más severa. Para determinar el umbral para inundaciones Tipo 3, se tomó el valor máximo de la columna \"Dis Mag Value\" (que es 2.857.000,00) y se restó la desviación estándar de esta columna (que es aproximadamente 206.862,00). Esto nos da un umbral de aproximadamente 2.650.138,00 km2. Por lo tanto, cualquier evento de inundación con un \"Valor Dis Mag\" menor o igual a aproximadamente 2.650.138,00 se clasificará como una inundación Tipo 3."
   ]
  },
  {
   "cell_type": "markdown",
   "metadata": {},
   "source": [
    "Umbral de tipo 3 (desviación estándar máx.): el valor máximo menos la desviación estándar representa un área de impacto significativamente grande. Esto podría indicar inundaciones raras y catastróficas que afectan a vastos territorios. Podría incluir inundaciones históricas que afectaron extensas regiones y causaron una devastación generalizada."
   ]
  },
  {
   "cell_type": "code",
   "execution_count": 234,
   "metadata": {},
   "outputs": [
    {
     "data": {
      "text/plain": [
       "2650138.4931372926"
      ]
     },
     "execution_count": 234,
     "metadata": {},
     "output_type": "execute_result"
    }
   ],
   "source": [
    "max_dis_mag - std_dis_mag # 2.650.138,4931372926 o Dos millones seiscientos cincuenta mil ciento treinta y ocho coma cuarenta y nueve"
   ]
  },
  {
   "cell_type": "code",
   "execution_count": 235,
   "metadata": {},
   "outputs": [],
   "source": [
    "type3_threshold = max_dis_mag - std_dis_mag"
   ]
  },
  {
   "cell_type": "code",
   "execution_count": 236,
   "metadata": {},
   "outputs": [
    {
     "data": {
      "image/png": "[encoded data removed]",
      "text/plain": [
       "<Figure size 1000x600 with 1 Axes>"
      ]
     },
     "metadata": {},
     "output_type": "display_data"
    }
   ],
   "source": [
    "# Dis Mag Values\n",
    "dis_mag_values = df_flood['Dis Mag Value'].loc[df_flood['Dis Mag Value'].gt(0)]\n",
    "\n",
    "# Umbral 1\n",
    "min_dis_mag = min(dis_mag_values)\n",
    "std_dis_mag = 206861.51\n",
    "type1_threshold = min_dis_mag + std_dis_mag\n",
    "\n",
    "# Umbral 2\n",
    "type2_threshold = min_dis_mag + 2 * std_dis_mag\n",
    "\n",
    "# Umbral 3\n",
    "max_dis_mag = max(dis_mag_values)\n",
    "type3_threshold = max_dis_mag - std_dis_mag\n",
    "\n",
    "# Histograma\n",
    "plt.figure(figsize=(10, 6))\n",
    "plt.hist(dis_mag_values, bins=10, edgecolor='black', alpha=0.7)\n",
    "plt.axvline(type1_threshold, color='red', linestyle='dashed', linewidth=2, label='Umbral 1')\n",
    "plt.axvline(type2_threshold, color='green', linestyle='dashed', linewidth=2, label='Umbral 2')\n",
    "plt.axvline(type3_threshold, color='blue', linestyle='dashed', linewidth=2, label='Umbral 3')\n",
    "plt.xlabel('Valor de magnitud de inundación (km2)')\n",
    "plt.ylabel('Frecuencia')\n",
    "plt.title('Distribución de Impacto de Área (Dis Mag Value)')\n",
    "plt.legend()\n",
    "plt.show()\n"
   ]
  },
  {
   "cell_type": "markdown",
   "metadata": {},
   "source": [
    "La línea discontinua roja representa el umbral de tipo 1, comenzando en el valor mínimo y terminando en una desviación estándar por encima del mínimo.\n",
    "La línea discontinua verde representa el umbral de tipo 2, comenzando en el valor mínimo y terminando en dos desviaciones estándar por encima del mínimo.\n",
    "La línea discontinua azul representa el umbral de tipo 3, comenzando en el valor máximo y terminando en una desviación estándar por debajo del máximo.\n",
    "Al comparar las líneas de umbral con la distribución del histograma, puede observar cómo se distribuyen los puntos de datos en relación con estos valores de umbral."
   ]
  },
  {
   "cell_type": "markdown",
   "metadata": {},
   "source": [
    "En resumen, estos umbrales son una clasificación sencilla (a falta de datos más específicos) y se calculan en función de las propiedades estadísticas de la columna \"Dis Mag Value\" en el conjunto de datos de inundaciones. Ayudan a clasificar las inundaciones en diferentes niveles de gravedad: Tipo 1 (menos grave), Tipo 2 (moderadamente grave) y Tipo 3 (más grave) inundaciones. Los valores de umbral se utilizan para definir los límites entre estos diferentes tipos de inundaciones en función de la magnitud de su impacto."
   ]
  },
  {
   "cell_type": "markdown",
   "metadata": {},
   "source": [
    "### Función para crear columna categórica de nivel de impacto: Flood Type"
   ]
  },
  {
   "cell_type": "code",
   "execution_count": 237,
   "metadata": {},
   "outputs": [],
   "source": [
    "# def assign_flood_type(row):\n",
    "#     dis_mag_value = row['Dis Mag Value']\n",
    "#     total_deaths = row['Total Deaths']\n",
    "#     total_affected = row['Total Affected']\n",
    "#     total_damages = row['Total Damages Adj']\n",
    "    \n",
    "#     if dis_mag_value == 0:\n",
    "#         return 'No Impact'\n",
    "#     elif dis_mag_value < type1_threshold and total_deaths < 100 and total_affected < 10000 and total_damages < 1000000:\n",
    "#         return 'Low' # 1\n",
    "#     elif dis_mag_value < type2_threshold and total_deaths < 500 and total_affected < 100000 and total_damages < 10000000:\n",
    "#         return 'Moderate' # 2\n",
    "#     elif dis_mag_value < type3_threshold and total_deaths < 1000 and total_affected < 500000 and total_damages < 100000000:\n",
    "#         return 'High' # 3\n",
    "#     else:\n",
    "#         return 'Very High' # 4"
   ]
  },
  {
   "cell_type": "code",
   "execution_count": 238,
   "metadata": {},
   "outputs": [],
   "source": [
    "# Función previa que no considera valores nulos\n",
    "def assign_flood_type(row):\n",
    "    if row['Dis Mag Value'] < type1_threshold and row['Total Deaths'] < 100 and row['Total Affected'] < 10000 and row['Total Damages Adj'] < 1000000:\n",
    "        return 'Low' # 1\n",
    "    elif row['Dis Mag Value'] < type2_threshold and row['Total Deaths'] < 500 and row['Total Affected'] < 100000 and row['Total Damages Adj'] < 10000000:\n",
    "        return 'Moderate' # 2\n",
    "    elif row['Dis Mag Value'] < type3_threshold and row['Total Deaths'] < 1000 and row['Total Affected'] < 500000 and row['Total Damages Adj'] < 100000000:\n",
    "        return 'High' # 3\n",
    "    else:\n",
    "        return 'Very High' # 4"
   ]
  },
  {
   "cell_type": "code",
   "execution_count": 239,
   "metadata": {},
   "outputs": [
    {
     "name": "stderr",
     "output_type": "stream",
     "text": [
      "C:\\Users\\AleEng\\AppData\\Local\\Temp\\ipykernel_16488\\3488395721.py:1: SettingWithCopyWarning: \n",
      "A value is trying to be set on a copy of a slice from a DataFrame.\n",
      "Try using .loc[row_indexer,col_indexer] = value instead\n",
      "\n",
      "See the caveats in the documentation: https://pandas.pydata.org/pandas-docs/stable/user_guide/indexing.html#returning-a-view-versus-a-copy\n",
      "  df_flood['Flood Type'] = df_flood.apply(assign_flood_type, axis=1)\n"
     ]
    },
    {
     "data": {
      "text/html": [
       "<div>\n",
       "<style scoped>\n",
       "    .dataframe tbody tr th:only-of-type {\n",
       "        vertical-align: middle;\n",
       "    }\n",
       "\n",
       "    .dataframe tbody tr th {\n",
       "        vertical-align: top;\n",
       "    }\n",
       "\n",
       "    .dataframe thead th {\n",
       "        text-align: right;\n",
       "    }\n",
       "</style>\n",
       "<table border=\"1\" class=\"dataframe\">\n",
       "  <thead>\n",
       "    <tr style=\"text-align: right;\">\n",
       "      <th></th>\n",
       "      <th>Disaster Type</th>\n",
       "      <th>Disaster Subtype</th>\n",
       "      <th>Country</th>\n",
       "      <th>Region</th>\n",
       "      <th>Continent</th>\n",
       "      <th>Location</th>\n",
       "      <th>Origin</th>\n",
       "      <th>Associated Dis</th>\n",
       "      <th>Dis Mag Value</th>\n",
       "      <th>Dis Mag Scale</th>\n",
       "      <th>Start Year</th>\n",
       "      <th>Start Month</th>\n",
       "      <th>Start Day</th>\n",
       "      <th>End Year</th>\n",
       "      <th>End Month</th>\n",
       "      <th>End Day</th>\n",
       "      <th>Total Deaths</th>\n",
       "      <th>Total Affected</th>\n",
       "      <th>Total Damages Adj</th>\n",
       "      <th>Flood Type</th>\n",
       "    </tr>\n",
       "  </thead>\n",
       "  <tbody>\n",
       "    <tr>\n",
       "      <th>12</th>\n",
       "      <td>Flood</td>\n",
       "      <td>NaN</td>\n",
       "      <td>Belgium</td>\n",
       "      <td>Western Europe</td>\n",
       "      <td>Europe</td>\n",
       "      <td>Louvain region</td>\n",
       "      <td>NaN</td>\n",
       "      <td>NaN</td>\n",
       "      <td>0</td>\n",
       "      <td>Km2</td>\n",
       "      <td>1906</td>\n",
       "      <td>5</td>\n",
       "      <td>14</td>\n",
       "      <td>1906</td>\n",
       "      <td>5</td>\n",
       "      <td>14</td>\n",
       "      <td>6</td>\n",
       "      <td>0</td>\n",
       "      <td>0</td>\n",
       "      <td>Low</td>\n",
       "    </tr>\n",
       "    <tr>\n",
       "      <th>13</th>\n",
       "      <td>Flood</td>\n",
       "      <td>NaN</td>\n",
       "      <td>Belgium</td>\n",
       "      <td>Western Europe</td>\n",
       "      <td>Europe</td>\n",
       "      <td>NaN</td>\n",
       "      <td>NaN</td>\n",
       "      <td>NaN</td>\n",
       "      <td>0</td>\n",
       "      <td>Km2</td>\n",
       "      <td>1906</td>\n",
       "      <td>4</td>\n",
       "      <td>0</td>\n",
       "      <td>1906</td>\n",
       "      <td>4</td>\n",
       "      <td>0</td>\n",
       "      <td>0</td>\n",
       "      <td>0</td>\n",
       "      <td>0</td>\n",
       "      <td>Low</td>\n",
       "    </tr>\n",
       "    <tr>\n",
       "      <th>34</th>\n",
       "      <td>Flood</td>\n",
       "      <td>Riverine flood</td>\n",
       "      <td>China</td>\n",
       "      <td>Eastern Asia</td>\n",
       "      <td>Asia</td>\n",
       "      <td>NaN</td>\n",
       "      <td>NaN</td>\n",
       "      <td>NaN</td>\n",
       "      <td>0</td>\n",
       "      <td>Km2</td>\n",
       "      <td>1911</td>\n",
       "      <td>0</td>\n",
       "      <td>0</td>\n",
       "      <td>1911</td>\n",
       "      <td>0</td>\n",
       "      <td>0</td>\n",
       "      <td>100000</td>\n",
       "      <td>0</td>\n",
       "      <td>0</td>\n",
       "      <td>Very High</td>\n",
       "    </tr>\n",
       "    <tr>\n",
       "      <th>39</th>\n",
       "      <td>Flood</td>\n",
       "      <td>Riverine flood</td>\n",
       "      <td>China</td>\n",
       "      <td>Eastern Asia</td>\n",
       "      <td>Asia</td>\n",
       "      <td>Guangzhou</td>\n",
       "      <td>NaN</td>\n",
       "      <td>NaN</td>\n",
       "      <td>3000</td>\n",
       "      <td>Km2</td>\n",
       "      <td>1915</td>\n",
       "      <td>0</td>\n",
       "      <td>0</td>\n",
       "      <td>1915</td>\n",
       "      <td>0</td>\n",
       "      <td>0</td>\n",
       "      <td>0</td>\n",
       "      <td>3000000</td>\n",
       "      <td>0</td>\n",
       "      <td>Very High</td>\n",
       "    </tr>\n",
       "    <tr>\n",
       "      <th>43</th>\n",
       "      <td>Flood</td>\n",
       "      <td>Riverine flood</td>\n",
       "      <td>China</td>\n",
       "      <td>Eastern Asia</td>\n",
       "      <td>Asia</td>\n",
       "      <td>Tianjin</td>\n",
       "      <td>NaN</td>\n",
       "      <td>NaN</td>\n",
       "      <td>0</td>\n",
       "      <td>Km2</td>\n",
       "      <td>1917</td>\n",
       "      <td>0</td>\n",
       "      <td>0</td>\n",
       "      <td>1917</td>\n",
       "      <td>0</td>\n",
       "      <td>0</td>\n",
       "      <td>0</td>\n",
       "      <td>635000</td>\n",
       "      <td>0</td>\n",
       "      <td>Very High</td>\n",
       "    </tr>\n",
       "    <tr>\n",
       "      <th>57</th>\n",
       "      <td>Flood</td>\n",
       "      <td>NaN</td>\n",
       "      <td>Germany Fed Rep</td>\n",
       "      <td>Western Europe</td>\n",
       "      <td>Europe</td>\n",
       "      <td>Danube area</td>\n",
       "      <td>NaN</td>\n",
       "      <td>NaN</td>\n",
       "      <td>0</td>\n",
       "      <td>Km2</td>\n",
       "      <td>1920</td>\n",
       "      <td>8</td>\n",
       "      <td>0</td>\n",
       "      <td>1920</td>\n",
       "      <td>8</td>\n",
       "      <td>0</td>\n",
       "      <td>0</td>\n",
       "      <td>0</td>\n",
       "      <td>291520</td>\n",
       "      <td>Low</td>\n",
       "    </tr>\n",
       "    <tr>\n",
       "      <th>75</th>\n",
       "      <td>Flood</td>\n",
       "      <td>NaN</td>\n",
       "      <td>Germany Fed Rep</td>\n",
       "      <td>Western Europe</td>\n",
       "      <td>Europe</td>\n",
       "      <td>Rhine area</td>\n",
       "      <td>NaN</td>\n",
       "      <td>NaN</td>\n",
       "      <td>0</td>\n",
       "      <td>Km2</td>\n",
       "      <td>1925</td>\n",
       "      <td>12</td>\n",
       "      <td>0</td>\n",
       "      <td>1925</td>\n",
       "      <td>12</td>\n",
       "      <td>0</td>\n",
       "      <td>0</td>\n",
       "      <td>0</td>\n",
       "      <td>316357</td>\n",
       "      <td>Low</td>\n",
       "    </tr>\n",
       "    <tr>\n",
       "      <th>81</th>\n",
       "      <td>Flood</td>\n",
       "      <td>NaN</td>\n",
       "      <td>Germany Fed Rep</td>\n",
       "      <td>Western Europe</td>\n",
       "      <td>Europe</td>\n",
       "      <td>Rhine area</td>\n",
       "      <td>NaN</td>\n",
       "      <td>NaN</td>\n",
       "      <td>0</td>\n",
       "      <td>Km2</td>\n",
       "      <td>1926</td>\n",
       "      <td>6</td>\n",
       "      <td>0</td>\n",
       "      <td>1926</td>\n",
       "      <td>6</td>\n",
       "      <td>0</td>\n",
       "      <td>0</td>\n",
       "      <td>0</td>\n",
       "      <td>511311</td>\n",
       "      <td>Low</td>\n",
       "    </tr>\n",
       "    <tr>\n",
       "      <th>84</th>\n",
       "      <td>Flood</td>\n",
       "      <td>Riverine flood</td>\n",
       "      <td>India</td>\n",
       "      <td>Southern Asia</td>\n",
       "      <td>Asia</td>\n",
       "      <td>Bengal</td>\n",
       "      <td>NaN</td>\n",
       "      <td>NaN</td>\n",
       "      <td>0</td>\n",
       "      <td>Km2</td>\n",
       "      <td>1926</td>\n",
       "      <td>7</td>\n",
       "      <td>19</td>\n",
       "      <td>1926</td>\n",
       "      <td>7</td>\n",
       "      <td>19</td>\n",
       "      <td>0</td>\n",
       "      <td>0</td>\n",
       "      <td>0</td>\n",
       "      <td>Low</td>\n",
       "    </tr>\n",
       "    <tr>\n",
       "      <th>89</th>\n",
       "      <td>Flood</td>\n",
       "      <td>NaN</td>\n",
       "      <td>Algeria</td>\n",
       "      <td>Northern Africa</td>\n",
       "      <td>Africa</td>\n",
       "      <td>Mostaganem</td>\n",
       "      <td>NaN</td>\n",
       "      <td>NaN</td>\n",
       "      <td>0</td>\n",
       "      <td>Km2</td>\n",
       "      <td>1927</td>\n",
       "      <td>11</td>\n",
       "      <td>1</td>\n",
       "      <td>1927</td>\n",
       "      <td>11</td>\n",
       "      <td>1</td>\n",
       "      <td>3000</td>\n",
       "      <td>0</td>\n",
       "      <td>0</td>\n",
       "      <td>Very High</td>\n",
       "    </tr>\n",
       "    <tr>\n",
       "      <th>92</th>\n",
       "      <td>Flood</td>\n",
       "      <td>NaN</td>\n",
       "      <td>Belgium</td>\n",
       "      <td>Western Europe</td>\n",
       "      <td>Europe</td>\n",
       "      <td>NaN</td>\n",
       "      <td>NaN</td>\n",
       "      <td>NaN</td>\n",
       "      <td>0</td>\n",
       "      <td>Km2</td>\n",
       "      <td>1928</td>\n",
       "      <td>0</td>\n",
       "      <td>0</td>\n",
       "      <td>1928</td>\n",
       "      <td>0</td>\n",
       "      <td>0</td>\n",
       "      <td>0</td>\n",
       "      <td>6000</td>\n",
       "      <td>0</td>\n",
       "      <td>Low</td>\n",
       "    </tr>\n",
       "    <tr>\n",
       "      <th>100</th>\n",
       "      <td>Flood</td>\n",
       "      <td>NaN</td>\n",
       "      <td>India</td>\n",
       "      <td>Southern Asia</td>\n",
       "      <td>Asia</td>\n",
       "      <td>Godavari, Vizagapatnam</td>\n",
       "      <td>NaN</td>\n",
       "      <td>NaN</td>\n",
       "      <td>0</td>\n",
       "      <td>Km2</td>\n",
       "      <td>1928</td>\n",
       "      <td>10</td>\n",
       "      <td>19</td>\n",
       "      <td>1928</td>\n",
       "      <td>10</td>\n",
       "      <td>19</td>\n",
       "      <td>36</td>\n",
       "      <td>2000</td>\n",
       "      <td>0</td>\n",
       "      <td>Low</td>\n",
       "    </tr>\n",
       "    <tr>\n",
       "      <th>110</th>\n",
       "      <td>Flood</td>\n",
       "      <td>Riverine flood</td>\n",
       "      <td>China</td>\n",
       "      <td>Eastern Asia</td>\n",
       "      <td>Asia</td>\n",
       "      <td>NaN</td>\n",
       "      <td>NaN</td>\n",
       "      <td>Famine</td>\n",
       "      <td>0</td>\n",
       "      <td>Km2</td>\n",
       "      <td>1931</td>\n",
       "      <td>7</td>\n",
       "      <td>0</td>\n",
       "      <td>1931</td>\n",
       "      <td>8</td>\n",
       "      <td>0</td>\n",
       "      <td>3700000</td>\n",
       "      <td>0</td>\n",
       "      <td>26881069</td>\n",
       "      <td>Very High</td>\n",
       "    </tr>\n",
       "    <tr>\n",
       "      <th>120</th>\n",
       "      <td>Flood</td>\n",
       "      <td>Riverine flood</td>\n",
       "      <td>China</td>\n",
       "      <td>Eastern Asia</td>\n",
       "      <td>Asia</td>\n",
       "      <td>Henan, Hebei, Shandong, Jiangsy</td>\n",
       "      <td>NaN</td>\n",
       "      <td>NaN</td>\n",
       "      <td>0</td>\n",
       "      <td>Km2</td>\n",
       "      <td>1933</td>\n",
       "      <td>0</td>\n",
       "      <td>0</td>\n",
       "      <td>1933</td>\n",
       "      <td>0</td>\n",
       "      <td>0</td>\n",
       "      <td>18000</td>\n",
       "      <td>3600000</td>\n",
       "      <td>0</td>\n",
       "      <td>Very High</td>\n",
       "    </tr>\n",
       "    <tr>\n",
       "      <th>123</th>\n",
       "      <td>Flood</td>\n",
       "      <td>NaN</td>\n",
       "      <td>China</td>\n",
       "      <td>Eastern Asia</td>\n",
       "      <td>Asia</td>\n",
       "      <td>NaN</td>\n",
       "      <td>NaN</td>\n",
       "      <td>NaN</td>\n",
       "      <td>150000</td>\n",
       "      <td>Km2</td>\n",
       "      <td>1935</td>\n",
       "      <td>0</td>\n",
       "      <td>0</td>\n",
       "      <td>1935</td>\n",
       "      <td>0</td>\n",
       "      <td>0</td>\n",
       "      <td>142000</td>\n",
       "      <td>10030000</td>\n",
       "      <td>0</td>\n",
       "      <td>Very High</td>\n",
       "    </tr>\n",
       "    <tr>\n",
       "      <th>138</th>\n",
       "      <td>Flood</td>\n",
       "      <td>Riverine flood</td>\n",
       "      <td>China</td>\n",
       "      <td>Eastern Asia</td>\n",
       "      <td>Asia</td>\n",
       "      <td>Honan province</td>\n",
       "      <td>NaN</td>\n",
       "      <td>NaN</td>\n",
       "      <td>0</td>\n",
       "      <td>Km2</td>\n",
       "      <td>1939</td>\n",
       "      <td>7</td>\n",
       "      <td>0</td>\n",
       "      <td>1939</td>\n",
       "      <td>7</td>\n",
       "      <td>0</td>\n",
       "      <td>500000</td>\n",
       "      <td>0</td>\n",
       "      <td>0</td>\n",
       "      <td>Very High</td>\n",
       "    </tr>\n",
       "    <tr>\n",
       "      <th>176</th>\n",
       "      <td>Flood</td>\n",
       "      <td>NaN</td>\n",
       "      <td>Brazil</td>\n",
       "      <td>South America</td>\n",
       "      <td>Americas</td>\n",
       "      <td>NaN</td>\n",
       "      <td>NaN</td>\n",
       "      <td>NaN</td>\n",
       "      <td>0</td>\n",
       "      <td>Km2</td>\n",
       "      <td>1948</td>\n",
       "      <td>12</td>\n",
       "      <td>0</td>\n",
       "      <td>1948</td>\n",
       "      <td>12</td>\n",
       "      <td>0</td>\n",
       "      <td>200</td>\n",
       "      <td>0</td>\n",
       "      <td>0</td>\n",
       "      <td>Moderate</td>\n",
       "    </tr>\n",
       "    <tr>\n",
       "      <th>180</th>\n",
       "      <td>Flood</td>\n",
       "      <td>NaN</td>\n",
       "      <td>China</td>\n",
       "      <td>Eastern Asia</td>\n",
       "      <td>Asia</td>\n",
       "      <td>NaN</td>\n",
       "      <td>NaN</td>\n",
       "      <td>NaN</td>\n",
       "      <td>0</td>\n",
       "      <td>Km2</td>\n",
       "      <td>1948</td>\n",
       "      <td>5</td>\n",
       "      <td>0</td>\n",
       "      <td>1948</td>\n",
       "      <td>5</td>\n",
       "      <td>0</td>\n",
       "      <td>330</td>\n",
       "      <td>0</td>\n",
       "      <td>0</td>\n",
       "      <td>Moderate</td>\n",
       "    </tr>\n",
       "    <tr>\n",
       "      <th>188</th>\n",
       "      <td>Flood</td>\n",
       "      <td>NaN</td>\n",
       "      <td>China</td>\n",
       "      <td>Eastern Asia</td>\n",
       "      <td>Asia</td>\n",
       "      <td>NaN</td>\n",
       "      <td>NaN</td>\n",
       "      <td>NaN</td>\n",
       "      <td>0</td>\n",
       "      <td>Km2</td>\n",
       "      <td>1949</td>\n",
       "      <td>7</td>\n",
       "      <td>0</td>\n",
       "      <td>1949</td>\n",
       "      <td>7</td>\n",
       "      <td>0</td>\n",
       "      <td>57000</td>\n",
       "      <td>0</td>\n",
       "      <td>0</td>\n",
       "      <td>Very High</td>\n",
       "    </tr>\n",
       "    <tr>\n",
       "      <th>191</th>\n",
       "      <td>Flood</td>\n",
       "      <td>NaN</td>\n",
       "      <td>Guatemala</td>\n",
       "      <td>Central America</td>\n",
       "      <td>Americas</td>\n",
       "      <td>East</td>\n",
       "      <td>NaN</td>\n",
       "      <td>NaN</td>\n",
       "      <td>0</td>\n",
       "      <td>Km2</td>\n",
       "      <td>1949</td>\n",
       "      <td>10</td>\n",
       "      <td>0</td>\n",
       "      <td>1949</td>\n",
       "      <td>10</td>\n",
       "      <td>0</td>\n",
       "      <td>40000</td>\n",
       "      <td>0</td>\n",
       "      <td>184086</td>\n",
       "      <td>Very High</td>\n",
       "    </tr>\n",
       "  </tbody>\n",
       "</table>\n",
       "</div>"
      ],
      "text/plain": [
       "    Disaster Type Disaster Subtype          Country           Region  \\\n",
       "12          Flood              NaN          Belgium   Western Europe   \n",
       "13          Flood              NaN          Belgium   Western Europe   \n",
       "34          Flood   Riverine flood            China     Eastern Asia   \n",
       "39          Flood   Riverine flood            China     Eastern Asia   \n",
       "43          Flood   Riverine flood            China     Eastern Asia   \n",
       "57          Flood              NaN  Germany Fed Rep   Western Europe   \n",
       "75          Flood              NaN  Germany Fed Rep   Western Europe   \n",
       "81          Flood              NaN  Germany Fed Rep   Western Europe   \n",
       "84          Flood   Riverine flood            India    Southern Asia   \n",
       "89          Flood              NaN          Algeria  Northern Africa   \n",
       "92          Flood              NaN          Belgium   Western Europe   \n",
       "100         Flood              NaN            India    Southern Asia   \n",
       "110         Flood   Riverine flood            China     Eastern Asia   \n",
       "120         Flood   Riverine flood            China     Eastern Asia   \n",
       "123         Flood              NaN            China     Eastern Asia   \n",
       "138         Flood   Riverine flood            China     Eastern Asia   \n",
       "176         Flood              NaN           Brazil    South America   \n",
       "180         Flood              NaN            China     Eastern Asia   \n",
       "188         Flood              NaN            China     Eastern Asia   \n",
       "191         Flood              NaN        Guatemala  Central America   \n",
       "\n",
       "    Continent                         Location Origin Associated Dis  \\\n",
       "12     Europe                   Louvain region    NaN            NaN   \n",
       "13     Europe                              NaN    NaN            NaN   \n",
       "34       Asia                              NaN    NaN            NaN   \n",
       "39       Asia                        Guangzhou    NaN            NaN   \n",
       "43       Asia                          Tianjin    NaN            NaN   \n",
       "57     Europe                      Danube area    NaN            NaN   \n",
       "75     Europe                       Rhine area    NaN            NaN   \n",
       "81     Europe                       Rhine area    NaN            NaN   \n",
       "84       Asia                           Bengal    NaN            NaN   \n",
       "89     Africa                       Mostaganem    NaN            NaN   \n",
       "92     Europe                              NaN    NaN            NaN   \n",
       "100      Asia           Godavari, Vizagapatnam    NaN            NaN   \n",
       "110      Asia                              NaN    NaN         Famine   \n",
       "120      Asia  Henan, Hebei, Shandong, Jiangsy    NaN            NaN   \n",
       "123      Asia                              NaN    NaN            NaN   \n",
       "138      Asia                   Honan province    NaN            NaN   \n",
       "176  Americas                              NaN    NaN            NaN   \n",
       "180      Asia                              NaN    NaN            NaN   \n",
       "188      Asia                              NaN    NaN            NaN   \n",
       "191  Americas                             East    NaN            NaN   \n",
       "\n",
       "     Dis Mag Value Dis Mag Scale  Start Year  Start Month  Start Day  \\\n",
       "12               0           Km2        1906            5         14   \n",
       "13               0           Km2        1906            4          0   \n",
       "34               0           Km2        1911            0          0   \n",
       "39            3000           Km2        1915            0          0   \n",
       "43               0           Km2        1917            0          0   \n",
       "57               0           Km2        1920            8          0   \n",
       "75               0           Km2        1925           12          0   \n",
       "81               0           Km2        1926            6          0   \n",
       "84               0           Km2        1926            7         19   \n",
       "89               0           Km2        1927           11          1   \n",
       "92               0           Km2        1928            0          0   \n",
       "100              0           Km2        1928           10         19   \n",
       "110              0           Km2        1931            7          0   \n",
       "120              0           Km2        1933            0          0   \n",
       "123         150000           Km2        1935            0          0   \n",
       "138              0           Km2        1939            7          0   \n",
       "176              0           Km2        1948           12          0   \n",
       "180              0           Km2        1948            5          0   \n",
       "188              0           Km2        1949            7          0   \n",
       "191              0           Km2        1949           10          0   \n",
       "\n",
       "     End Year  End Month  End Day  Total Deaths  Total Affected  \\\n",
       "12       1906          5       14             6               0   \n",
       "13       1906          4        0             0               0   \n",
       "34       1911          0        0        100000               0   \n",
       "39       1915          0        0             0         3000000   \n",
       "43       1917          0        0             0          635000   \n",
       "57       1920          8        0             0               0   \n",
       "75       1925         12        0             0               0   \n",
       "81       1926          6        0             0               0   \n",
       "84       1926          7       19             0               0   \n",
       "89       1927         11        1          3000               0   \n",
       "92       1928          0        0             0            6000   \n",
       "100      1928         10       19            36            2000   \n",
       "110      1931          8        0       3700000               0   \n",
       "120      1933          0        0         18000         3600000   \n",
       "123      1935          0        0        142000        10030000   \n",
       "138      1939          7        0        500000               0   \n",
       "176      1948         12        0           200               0   \n",
       "180      1948          5        0           330               0   \n",
       "188      1949          7        0         57000               0   \n",
       "191      1949         10        0         40000               0   \n",
       "\n",
       "     Total Damages Adj Flood Type  \n",
       "12                   0        Low  \n",
       "13                   0        Low  \n",
       "34                   0  Very High  \n",
       "39                   0  Very High  \n",
       "43                   0  Very High  \n",
       "57              291520        Low  \n",
       "75              316357        Low  \n",
       "81              511311        Low  \n",
       "84                   0        Low  \n",
       "89                   0  Very High  \n",
       "92                   0        Low  \n",
       "100                  0        Low  \n",
       "110           26881069  Very High  \n",
       "120                  0  Very High  \n",
       "123                  0  Very High  \n",
       "138                  0  Very High  \n",
       "176                  0   Moderate  \n",
       "180                  0   Moderate  \n",
       "188                  0  Very High  \n",
       "191             184086  Very High  "
      ]
     },
     "execution_count": 239,
     "metadata": {},
     "output_type": "execute_result"
    }
   ],
   "source": [
    "df_flood['Flood Type'] = df_flood.apply(assign_flood_type, axis=1)\n",
    "df_flood.head(20)"
   ]
  },
  {
   "cell_type": "markdown",
   "metadata": {},
   "source": [
    "### Codificación categórica a numérica"
   ]
  },
  {
   "cell_type": "markdown",
   "metadata": {},
   "source": [
    "#### Convertir Flood Type a Destruction Level numérica con OneHotEncoder"
   ]
  },
  {
   "cell_type": "code",
   "execution_count": 240,
   "metadata": {},
   "outputs": [
    {
     "name": "stdout",
     "output_type": "stream",
     "text": [
      "   Disaster Type Disaster Subtype  Country          Region Continent  \\\n",
      "12         Flood              NaN  Belgium  Western Europe    Europe   \n",
      "13         Flood              NaN  Belgium  Western Europe    Europe   \n",
      "34         Flood   Riverine flood    China    Eastern Asia      Asia   \n",
      "39         Flood   Riverine flood    China    Eastern Asia      Asia   \n",
      "43         Flood   Riverine flood    China    Eastern Asia      Asia   \n",
      "\n",
      "          Location Origin Associated Dis  Dis Mag Value Dis Mag Scale  ...  \\\n",
      "12  Louvain region    NaN            NaN              0           Km2  ...   \n",
      "13             NaN    NaN            NaN              0           Km2  ...   \n",
      "34             NaN    NaN            NaN              0           Km2  ...   \n",
      "39       Guangzhou    NaN            NaN           3000           Km2  ...   \n",
      "43         Tianjin    NaN            NaN              0           Km2  ...   \n",
      "\n",
      "    End Day  Total Deaths  Total Affected  Total Damages Adj  Flood Type  \\\n",
      "12       14             6               0                  0         Low   \n",
      "13        0             0               0                  0         Low   \n",
      "34        0        100000               0                  0   Very High   \n",
      "39        0             0         3000000                  0   Very High   \n",
      "43        0             0          635000                  0   Very High   \n",
      "\n",
      "    Destruction Level  Destruction_1  Destruction_2  Destruction_3  \\\n",
      "12                  1              1              0              0   \n",
      "13                  1              1              0              0   \n",
      "34                  4              0              0              0   \n",
      "39                  4              0              0              0   \n",
      "43                  4              0              0              0   \n",
      "\n",
      "   Destruction_4  \n",
      "12             0  \n",
      "13             0  \n",
      "34             1  \n",
      "39             1  \n",
      "43             1  \n",
      "\n",
      "[5 rows x 25 columns]\n"
     ]
    },
    {
     "name": "stderr",
     "output_type": "stream",
     "text": [
      "C:\\Users\\AleEng\\AppData\\Local\\Temp\\ipykernel_16488\\974773360.py:29: SettingWithCopyWarning: \n",
      "A value is trying to be set on a copy of a slice from a DataFrame.\n",
      "Try using .loc[row_indexer,col_indexer] = value instead\n",
      "\n",
      "See the caveats in the documentation: https://pandas.pydata.org/pandas-docs/stable/user_guide/indexing.html#returning-a-view-versus-a-copy\n",
      "  df_flood['Destruction Level'] = df_flood['Flood Type'].map(destruction_mapping)\n"
     ]
    }
   ],
   "source": [
    "# Crear instancia de OneHotEncoder\n",
    "encoder = OneHotEncoder()\n",
    "\n",
    "# Ajustar y transformar la columna 'Flood Type' con el encoder OneHotEncoder()\n",
    "flood_type_encoded = encoder.fit_transform(df_flood[['Flood Type']]).toarray()\n",
    "\n",
    "# Obtener valores únicos en columna 'Flood Type'\n",
    "unique_flood_types = df_flood['Flood Type'].unique()\n",
    "\n",
    "# # Crear nuevos nombres de columna para las columnas codificadas\n",
    "# encoded_feature_names = [f'Flood Type_{flood_type}' for flood_type in unique_flood_types]\n",
    "\n",
    "# # Crear nuevo DataFrame para las columnas codificadas\n",
    "# df_encoded = pd.DataFrame(flood_type_encoded, columns=encoded_feature_names)\n",
    "\n",
    "# # Aplicar one-hot encoding a columna 'Flood Type'\n",
    "# flood_type_encoded = pd.get_dummies(df_flood['Flood Type'], prefix='Flood Type')\n",
    "\n",
    "# # Concatenar el DataFrame codificado con el original\n",
    "# df_flood_encoded = pd.concat([df_flood, flood_type_encoded], axis=1)\n",
    "\n",
    "# # DataFrame actualizado\n",
    "# print(df_flood_encoded.head())\n",
    "\n",
    "# Definir un diccionario de mapeo para las categorías en 'Flood Type' a valores numéricos\n",
    "destruction_mapping = {'Low': 1, 'Moderate': 2, 'High': 3, 'Very High': 4}\n",
    "\n",
    "# Crear una nueva columna 'Destruction Level' mapeando las categorías 'Flood Type' a valores numéricos\n",
    "df_flood['Destruction Level'] = df_flood['Flood Type'].map(destruction_mapping)\n",
    "\n",
    "# Aplicar get_dummies a columna 'Flood Type'\n",
    "destruction_encoded = pd.get_dummies(df_flood['Destruction Level'], prefix='Destruction')\n",
    "\n",
    "# Concatenar el DataFrame codificado con el original\n",
    "df_flood_encoded = pd.concat([df_flood, destruction_encoded], axis=1)\n",
    "\n",
    "# DataFrame actualizado\n",
    "print(df_flood_encoded.head())\n"
   ]
  },
  {
   "cell_type": "markdown",
   "metadata": {},
   "source": [
    "#### Revisión df_flood_encoded"
   ]
  },
  {
   "cell_type": "code",
   "execution_count": 241,
   "metadata": {},
   "outputs": [
    {
     "data": {
      "text/plain": [
       "(5808, 25)"
      ]
     },
     "execution_count": 241,
     "metadata": {},
     "output_type": "execute_result"
    }
   ],
   "source": [
    "df_flood_encoded.shape"
   ]
  },
  {
   "cell_type": "code",
   "execution_count": 242,
   "metadata": {},
   "outputs": [
    {
     "data": {
      "text/plain": [
       "5808"
      ]
     },
     "execution_count": 242,
     "metadata": {},
     "output_type": "execute_result"
    }
   ],
   "source": [
    "len(df_flood_encoded)"
   ]
  },
  {
   "cell_type": "code",
   "execution_count": 243,
   "metadata": {},
   "outputs": [
    {
     "name": "stdout",
     "output_type": "stream",
     "text": [
      "<class 'pandas.core.frame.DataFrame'>\n",
      "Int64Index: 5808 entries, 12 to 16634\n",
      "Data columns (total 25 columns):\n",
      " #   Column             Non-Null Count  Dtype \n",
      "---  ------             --------------  ----- \n",
      " 0   Disaster Type      5808 non-null   object\n",
      " 1   Disaster Subtype   3564 non-null   object\n",
      " 2   Country            5808 non-null   object\n",
      " 3   Region             5808 non-null   object\n",
      " 4   Continent          5808 non-null   object\n",
      " 5   Location           5512 non-null   object\n",
      " 6   Origin             3446 non-null   object\n",
      " 7   Associated Dis     1383 non-null   object\n",
      " 8   Dis Mag Value      5808 non-null   int64 \n",
      " 9   Dis Mag Scale      5808 non-null   object\n",
      " 10  Start Year         5808 non-null   int64 \n",
      " 11  Start Month        5808 non-null   int64 \n",
      " 12  Start Day          5808 non-null   int64 \n",
      " 13  End Year           5808 non-null   int64 \n",
      " 14  End Month          5808 non-null   int64 \n",
      " 15  End Day            5808 non-null   int64 \n",
      " 16  Total Deaths       5808 non-null   int64 \n",
      " 17  Total Affected     5808 non-null   int64 \n",
      " 18  Total Damages Adj  5808 non-null   int64 \n",
      " 19  Flood Type         5808 non-null   object\n",
      " 20  Destruction Level  5808 non-null   int64 \n",
      " 21  Destruction_1      5808 non-null   uint8 \n",
      " 22  Destruction_2      5808 non-null   uint8 \n",
      " 23  Destruction_3      5808 non-null   uint8 \n",
      " 24  Destruction_4      5808 non-null   uint8 \n",
      "dtypes: int64(11), object(10), uint8(4)\n",
      "memory usage: 1020.9+ KB\n"
     ]
    }
   ],
   "source": [
    "df_flood_encoded.info()"
   ]
  },
  {
   "cell_type": "code",
   "execution_count": 244,
   "metadata": {},
   "outputs": [
    {
     "data": {
      "text/plain": [
       "Index(['Disaster Type', 'Disaster Subtype', 'Country', 'Region', 'Continent',\n",
       "       'Location', 'Origin', 'Associated Dis', 'Dis Mag Value',\n",
       "       'Dis Mag Scale', 'Start Year', 'Start Month', 'Start Day', 'End Year',\n",
       "       'End Month', 'End Day', 'Total Deaths', 'Total Affected',\n",
       "       'Total Damages Adj', 'Flood Type', 'Destruction Level'],\n",
       "      dtype='object')"
      ]
     },
     "execution_count": 244,
     "metadata": {},
     "output_type": "execute_result"
    }
   ],
   "source": [
    "df_flood.columns"
   ]
  },
  {
   "cell_type": "code",
   "execution_count": 245,
   "metadata": {},
   "outputs": [
    {
     "data": {
      "text/plain": [
       "12       1\n",
       "13       1\n",
       "34       4\n",
       "39       4\n",
       "43       4\n",
       "        ..\n",
       "16620    1\n",
       "16628    1\n",
       "16629    1\n",
       "16631    3\n",
       "16634    1\n",
       "Name: Destruction Level, Length: 5808, dtype: int64"
      ]
     },
     "execution_count": 245,
     "metadata": {},
     "output_type": "execute_result"
    }
   ],
   "source": [
    "df_flood['Destruction Level']"
   ]
  },
  {
   "cell_type": "code",
   "execution_count": 246,
   "metadata": {},
   "outputs": [
    {
     "data": {
      "text/plain": [
       "0"
      ]
     },
     "execution_count": 246,
     "metadata": {},
     "output_type": "execute_result"
    }
   ],
   "source": [
    "df_flood['Destruction Level'].isnull().sum()"
   ]
  },
  {
   "cell_type": "markdown",
   "metadata": {},
   "source": [
    "#### Imputación de nulos en columna salida (y) Destruction Level con Simple Imputer"
   ]
  },
  {
   "cell_type": "code",
   "execution_count": 247,
   "metadata": {},
   "outputs": [
    {
     "name": "stderr",
     "output_type": "stream",
     "text": [
      "C:\\Users\\AleEng\\AppData\\Local\\Temp\\ipykernel_16488\\2005245492.py:2: SettingWithCopyWarning: \n",
      "A value is trying to be set on a copy of a slice from a DataFrame.\n",
      "Try using .loc[row_indexer,col_indexer] = value instead\n",
      "\n",
      "See the caveats in the documentation: https://pandas.pydata.org/pandas-docs/stable/user_guide/indexing.html#returning-a-view-versus-a-copy\n",
      "  df_flood['Destruction Level'] = SimpleImputer(missing_values=np.nan, strategy='most_frequent').fit_transform(df_flood[['Destruction Level']])\n"
     ]
    },
    {
     "data": {
      "text/plain": [
       "12       1\n",
       "13       1\n",
       "34       4\n",
       "39       4\n",
       "43       4\n",
       "        ..\n",
       "16620    1\n",
       "16628    1\n",
       "16629    1\n",
       "16631    3\n",
       "16634    1\n",
       "Name: Destruction Level, Length: 5808, dtype: int64"
      ]
     },
     "execution_count": 247,
     "metadata": {},
     "output_type": "execute_result"
    }
   ],
   "source": [
    "# Imputar nulos en la columna de salida (y) que es Destruction Level\n",
    "df_flood['Destruction Level'] = SimpleImputer(missing_values=np.nan, strategy='most_frequent').fit_transform(df_flood[['Destruction Level']])\n",
    "df_flood['Destruction Level']\n",
    "# borrar en lugar de imputar\n",
    "# df = df.dropna('Flood Type')"
   ]
  },
  {
   "cell_type": "code",
   "execution_count": 248,
   "metadata": {},
   "outputs": [
    {
     "data": {
      "text/plain": [
       "5808"
      ]
     },
     "execution_count": 248,
     "metadata": {},
     "output_type": "execute_result"
    }
   ],
   "source": [
    "df_flood['Flood Type'].isna().sum()\n",
    "df_flood['Flood Type'].unique()\n",
    "len(df_flood['Flood Type'])"
   ]
  },
  {
   "cell_type": "markdown",
   "metadata": {},
   "source": [
    "### EDA Visualizaciones de 'Destruction Level' o Nivel de Destrucción"
   ]
  },
  {
   "cell_type": "code",
   "execution_count": 249,
   "metadata": {},
   "outputs": [
    {
     "data": {
      "image/png": "[encoded data removed]",
      "text/plain": [
       "<Figure size 640x480 with 1 Axes>"
      ]
     },
     "metadata": {},
     "output_type": "display_data"
    }
   ],
   "source": [
    "sns.countplot(data=df_flood, x='Destruction Level')\n",
    "plt.title('Conteo de Nivel de Destrucción - Destruction Level')\n",
    "plt.xlabel('Destruction Level')\n",
    "plt.ylabel('Conteo')\n",
    "plt.show()"
   ]
  },
  {
   "cell_type": "code",
   "execution_count": 250,
   "metadata": {},
   "outputs": [
    {
     "data": {
      "image/png": "[encoded data removed]",
      "text/plain": [
       "<Figure size 640x480 with 1 Axes>"
      ]
     },
     "metadata": {},
     "output_type": "display_data"
    }
   ],
   "source": [
    "sns.histplot(data=df_flood, x='Destruction Level', kde=True)\n",
    "plt.title(f'Distribución de Nivel de Destrucción')\n",
    "plt.xlabel('Destruction Level')\n",
    "plt.ylabel('Densidad')\n",
    "plt.show()"
   ]
  },
  {
   "cell_type": "code",
   "execution_count": 251,
   "metadata": {},
   "outputs": [
    {
     "data": {
      "image/png": "[encoded data removed]",
      "text/plain": [
       "<Figure size 640x480 with 1 Axes>"
      ]
     },
     "metadata": {},
     "output_type": "display_data"
    },
    {
     "data": {
      "image/png": "[encoded data removed]",
      "text/plain": [
       "<Figure size 640x480 with 1 Axes>"
      ]
     },
     "metadata": {},
     "output_type": "display_data"
    },
    {
     "data": {
      "image/png": "[encoded data removed]",
      "text/plain": [
       "<Figure size 640x480 with 1 Axes>"
      ]
     },
     "metadata": {},
     "output_type": "display_data"
    },
    {
     "data": {
      "image/png": "[encoded data removed]",
      "text/plain": [
       "<Figure size 640x480 with 1 Axes>"
      ]
     },
     "metadata": {},
     "output_type": "display_data"
    },
    {
     "data": {
      "image/png": "[encoded data removed]",
      "text/plain": [
       "<Figure size 640x480 with 1 Axes>"
      ]
     },
     "metadata": {},
     "output_type": "display_data"
    },
    {
     "data": {
      "image/png": "[encoded data removed]",
      "text/plain": [
       "<Figure size 640x480 with 1 Axes>"
      ]
     },
     "metadata": {},
     "output_type": "display_data"
    }
   ],
   "source": [
    "num_cols = ['Dis Mag Value', 'Start Month', 'Start Year', 'Total Deaths', 'Total Affected', 'Total Damages Adj']\n",
    "for col in num_cols:\n",
    "    sns.boxplot(data=df_flood, x='Destruction Level', y=col)\n",
    "    plt.title(f'Distribución de {col} por Nivel de Destrucción')\n",
    "    plt.xlabel('Nivel de Destrucción')\n",
    "    plt.ylabel(col)\n",
    "    plt.show()"
   ]
  },
  {
   "cell_type": "code",
   "execution_count": 252,
   "metadata": {},
   "outputs": [],
   "source": [
    "# sns.pairplot(df_flood)\n",
    "# Demasiado tiempo para procesar"
   ]
  },
  {
   "cell_type": "code",
   "execution_count": 253,
   "metadata": {},
   "outputs": [
    {
     "data": {
      "image/png": "[encoded data removed]",
      "text/plain": [
       "<Figure size 1000x600 with 2 Axes>"
      ]
     },
     "metadata": {},
     "output_type": "display_data"
    }
   ],
   "source": [
    "plt.figure(figsize=(10, 6))\n",
    "df_corr = df_flood.corr(numeric_only=True).round(2)\n",
    "sns.heatmap(df_corr, cmap='viridis', annot=True);"
   ]
  },
  {
   "cell_type": "code",
   "execution_count": 254,
   "metadata": {},
   "outputs": [
    {
     "data": {
      "text/plain": [
       "<Axes: xlabel='Dis Mag Value', ylabel='Destruction Level'>"
      ]
     },
     "execution_count": 254,
     "metadata": {},
     "output_type": "execute_result"
    },
    {
     "data": {
      "image/png": "[encoded data removed]",
      "text/plain": [
       "<Figure size 640x480 with 1 Axes>"
      ]
     },
     "metadata": {},
     "output_type": "display_data"
    }
   ],
   "source": [
    "sns.scatterplot(data=df_flood, x='Dis Mag Value', y='Destruction Level', hue='Dis Mag Value', palette='rocket_r')"
   ]
  },
  {
   "cell_type": "code",
   "execution_count": 255,
   "metadata": {},
   "outputs": [
    {
     "data": {
      "text/plain": [
       "<Axes: xlabel='Start Month', ylabel='Destruction Level'>"
      ]
     },
     "execution_count": 255,
     "metadata": {},
     "output_type": "execute_result"
    },
    {
     "data": {
      "image/png": "[encoded data removed]",
      "text/plain": [
       "<Figure size 640x480 with 1 Axes>"
      ]
     },
     "metadata": {},
     "output_type": "display_data"
    }
   ],
   "source": [
    "sns.scatterplot(data=df_flood, x='Start Month', y='Destruction Level', hue='Start Month', palette='rocket_r')"
   ]
  },
  {
   "cell_type": "code",
   "execution_count": 256,
   "metadata": {},
   "outputs": [
    {
     "data": {
      "text/plain": [
       "<Axes: xlabel='Start Year', ylabel='Destruction Level'>"
      ]
     },
     "execution_count": 256,
     "metadata": {},
     "output_type": "execute_result"
    },
    {
     "data": {
      "image/png": "[encoded data removed]",
      "text/plain": [
       "<Figure size 640x480 with 1 Axes>"
      ]
     },
     "metadata": {},
     "output_type": "display_data"
    }
   ],
   "source": [
    "sns.scatterplot(data=df_flood, x='Start Year', y='Destruction Level', hue='Start Year', palette='rocket_r')"
   ]
  },
  {
   "cell_type": "code",
   "execution_count": 257,
   "metadata": {},
   "outputs": [
    {
     "data": {
      "text/plain": [
       "<Axes: xlabel='Total Deaths', ylabel='Destruction Level'>"
      ]
     },
     "execution_count": 257,
     "metadata": {},
     "output_type": "execute_result"
    },
    {
     "data": {
      "image/png": "[encoded data removed]",
      "text/plain": [
       "<Figure size 640x480 with 1 Axes>"
      ]
     },
     "metadata": {},
     "output_type": "display_data"
    }
   ],
   "source": [
    "sns.scatterplot(data=df_flood, x='Total Deaths', y='Destruction Level', hue='Total Deaths', palette='rocket_r')"
   ]
  },
  {
   "cell_type": "code",
   "execution_count": 258,
   "metadata": {},
   "outputs": [
    {
     "data": {
      "text/plain": [
       "<Axes: xlabel='Total Affected', ylabel='Destruction Level'>"
      ]
     },
     "execution_count": 258,
     "metadata": {},
     "output_type": "execute_result"
    },
    {
     "data": {
      "image/png": "[encoded data removed]",
      "text/plain": [
       "<Figure size 640x480 with 1 Axes>"
      ]
     },
     "metadata": {},
     "output_type": "display_data"
    }
   ],
   "source": [
    "sns.scatterplot(data=df_flood, x='Total Affected', y='Destruction Level', hue='Total Affected', palette='rocket_r')"
   ]
  },
  {
   "cell_type": "code",
   "execution_count": 259,
   "metadata": {},
   "outputs": [
    {
     "data": {
      "text/plain": [
       "<Axes: xlabel='Total Damages Adj', ylabel='Destruction Level'>"
      ]
     },
     "execution_count": 259,
     "metadata": {},
     "output_type": "execute_result"
    },
    {
     "data": {
      "image/png": "[encoded data removed]",
      "text/plain": [
       "<Figure size 640x480 with 1 Axes>"
      ]
     },
     "metadata": {},
     "output_type": "display_data"
    }
   ],
   "source": [
    "sns.scatterplot(data=df_flood, x='Total Damages Adj', y='Destruction Level', hue='Total Damages Adj', palette='rocket_r')"
   ]
  },
  {
   "cell_type": "markdown",
   "metadata": {},
   "source": [
    "* La primera visualización muestra la relación entre 'Dis Mag Value' y 'Destruction Level'. Sugiere que existe una fuerte correlación entre estas dos variables, ya que el 'Nivel de destrucción' tiende a aumentar con un 'Valor de Magnitud de Desastre' más alto.\n",
    "* La segunda visualización muestra la relación entre el 'Mes de inicio' y el 'Nivel de destrucción'. Indica que podría haber alguna variación en el 'Nivel de destrucción' entre diferentes meses, aunque el patrón no está explícitamente claro.\n",
    "* La tercera visualización representa la relación entre el 'Año de inicio' y el 'Nivel de destrucción'. Sugiere que podría haber algunas tendencias o patrones en el 'Nivel de destrucción' a lo largo de los años, aunque una visión más específica requeriría un análisis más profundo, dado que influye la capacidad de recolección de datos por el incremento y mejora en conocimientos estadísticos e implementación de nuevas tecnologías.\n",
    "* La cuarta visualización muestra la relación entre 'Muertes Totales' y 'Nivel de Destrucción'. Indica que un 'Total de muertes' más alto generalmente corresponde a un 'Nivel de destrucción' más alto.\n",
    "* La quinta visualización muestra la relación entre 'Total de afectados' y 'Nivel de destrucción'. Sugiere que un 'total afectado' más alto tiende a asociarse con un 'nivel de destrucción' más alto.\n",
    "* La sexta visualización representa la relación entre 'Total Damages Adj' y 'Destruction Level'. Indica que un 'Ajuste total de daños' más alto generalmente corresponde a un 'Nivel de destrucción' más alto."
   ]
  },
  {
   "cell_type": "markdown",
   "metadata": {},
   "source": [
    "## Preparar X y"
   ]
  },
  {
   "cell_type": "code",
   "execution_count": 260,
   "metadata": {},
   "outputs": [],
   "source": [
    "# X = df_flood.drop(['Destruction Level', 'Destruction_1', 'Destruction_2', 'Destruction_3', 'Destruction_4'], axis=1)\n",
    "# Dio problemas porque 'Destruction_1', 'Destruction_2', 'Destruction_3', 'Destruction_4' no existen en df_flood\n",
    "\n",
    "X = df_flood.select_dtypes(exclude=['object'])  # Excluir columnas categóricas\n",
    "X = X.drop('Destruction Level', axis=1)  # Quitar 'Destruction Level' de X\n",
    "y = df_flood['Destruction Level']"
   ]
  },
  {
   "cell_type": "markdown",
   "metadata": {},
   "source": [
    "## train_test_split"
   ]
  },
  {
   "cell_type": "code",
   "execution_count": 261,
   "metadata": {},
   "outputs": [
    {
     "name": "stdout",
     "output_type": "stream",
     "text": [
      "train: (4646, 10), (4646,)\n",
      "test: (1162, 10), (1162,)\n"
     ]
    }
   ],
   "source": [
    "X_train, X_test, y_train, y_test = train_test_split(X, y, test_size=0.20, random_state=42)\n",
    "\n",
    "print(f\"train: {X_train.shape}, {y_train.shape}\")\n",
    "print(f\"test: {X_test.shape}, {y_test.shape}\")"
   ]
  },
  {
   "cell_type": "markdown",
   "metadata": {},
   "source": [
    "# Modelo"
   ]
  },
  {
   "cell_type": "markdown",
   "metadata": {},
   "source": [
    "## Definir el Modelo"
   ]
  },
  {
   "cell_type": "markdown",
   "metadata": {},
   "source": [
    "#### Pipeline columnas numéricas"
   ]
  },
  {
   "cell_type": "code",
   "execution_count": 262,
   "metadata": {},
   "outputs": [],
   "source": [
    "pipeline = Pipeline([\n",
    "    ('imputer', SimpleImputer(strategy='most_frequent')),  # Imputar valores faltantes usando most_frequent\n",
    "    ('scaler', StandardScaler()),  # Escalar características numéricas\n",
    "    ('classifier', RandomForestClassifier()) # Modelo elegido a partir de validación al ser el mejor del ranking\n",
    "])"
   ]
  },
  {
   "cell_type": "markdown",
   "metadata": {},
   "source": [
    "## Ejecución de pipeline"
   ]
  },
  {
   "cell_type": "markdown",
   "metadata": {},
   "source": [
    "### Entrenar el modelo"
   ]
  },
  {
   "cell_type": "code",
   "execution_count": 263,
   "metadata": {},
   "outputs": [
    {
     "data": {
      "text/html": [
       "<style>#sk-container-id-4 {color: black;background-color: white;}#sk-container-id-4 pre{padding: 0;}#sk-container-id-4 div.sk-toggleable {background-color: white;}#sk-container-id-4 label.sk-toggleable__label {cursor: pointer;display: block;width: 100%;margin-bottom: 0;padding: 0.3em;box-sizing: border-box;text-align: center;}#sk-container-id-4 label.sk-toggleable__label-arrow:before {content: \"▸\";float: left;margin-right: 0.25em;color: #696969;}#sk-container-id-4 label.sk-toggleable__label-arrow:hover:before {color: black;}#sk-container-id-4 div.sk-estimator:hover label.sk-toggleable__label-arrow:before {color: black;}#sk-container-id-4 div.sk-toggleable__content {max-height: 0;max-width: 0;overflow: hidden;text-align: left;background-color: #f0f8ff;}#sk-container-id-4 div.sk-toggleable__content pre {margin: 0.2em;color: black;border-radius: 0.25em;background-color: #f0f8ff;}#sk-container-id-4 input.sk-toggleable__control:checked~div.sk-toggleable__content {max-height: 200px;max-width: 100%;overflow: auto;}#sk-container-id-4 input.sk-toggleable__control:checked~label.sk-toggleable__label-arrow:before {content: \"▾\";}#sk-container-id-4 div.sk-estimator input.sk-toggleable__control:checked~label.sk-toggleable__label {background-color: #d4ebff;}#sk-container-id-4 div.sk-label input.sk-toggleable__control:checked~label.sk-toggleable__label {background-color: #d4ebff;}#sk-container-id-4 input.sk-hidden--visually {border: 0;clip: rect(1px 1px 1px 1px);clip: rect(1px, 1px, 1px, 1px);height: 1px;margin: -1px;overflow: hidden;padding: 0;position: absolute;width: 1px;}#sk-container-id-4 div.sk-estimator {font-family: monospace;background-color: #f0f8ff;border: 1px dotted black;border-radius: 0.25em;box-sizing: border-box;margin-bottom: 0.5em;}#sk-container-id-4 div.sk-estimator:hover {background-color: #d4ebff;}#sk-container-id-4 div.sk-parallel-item::after {content: \"\";width: 100%;border-bottom: 1px solid gray;flex-grow: 1;}#sk-container-id-4 div.sk-label:hover label.sk-toggleable__label {background-color: #d4ebff;}#sk-container-id-4 div.sk-serial::before {content: \"\";position: absolute;border-left: 1px solid gray;box-sizing: border-box;top: 0;bottom: 0;left: 50%;z-index: 0;}#sk-container-id-4 div.sk-serial {display: flex;flex-direction: column;align-items: center;background-color: white;padding-right: 0.2em;padding-left: 0.2em;position: relative;}#sk-container-id-4 div.sk-item {position: relative;z-index: 1;}#sk-container-id-4 div.sk-parallel {display: flex;align-items: stretch;justify-content: center;background-color: white;position: relative;}#sk-container-id-4 div.sk-item::before, #sk-container-id-4 div.sk-parallel-item::before {content: \"\";position: absolute;border-left: 1px solid gray;box-sizing: border-box;top: 0;bottom: 0;left: 50%;z-index: -1;}#sk-container-id-4 div.sk-parallel-item {display: flex;flex-direction: column;z-index: 1;position: relative;background-color: white;}#sk-container-id-4 div.sk-parallel-item:first-child::after {align-self: flex-end;width: 50%;}#sk-container-id-4 div.sk-parallel-item:last-child::after {align-self: flex-start;width: 50%;}#sk-container-id-4 div.sk-parallel-item:only-child::after {width: 0;}#sk-container-id-4 div.sk-dashed-wrapped {border: 1px dashed gray;margin: 0 0.4em 0.5em 0.4em;box-sizing: border-box;padding-bottom: 0.4em;background-color: white;}#sk-container-id-4 div.sk-label label {font-family: monospace;font-weight: bold;display: inline-block;line-height: 1.2em;}#sk-container-id-4 div.sk-label-container {text-align: center;}#sk-container-id-4 div.sk-container {/* jupyter's `normalize.less` sets `[hidden] { display: none; }` but bootstrap.min.css set `[hidden] { display: none !important; }` so we also need the `!important` here to be able to override the default hidden behavior on the sphinx rendered scikit-learn.org. See: https://github.com/scikit-learn/scikit-learn/issues/21755 */display: inline-block !important;position: relative;}#sk-container-id-4 div.sk-text-repr-fallback {display: none;}</style><div id=\"sk-container-id-4\" class=\"sk-top-container\"><div class=\"sk-text-repr-fallback\"><pre>Pipeline(steps=[(&#x27;imputer&#x27;, SimpleImputer(strategy=&#x27;most_frequent&#x27;)),\n",
       "                (&#x27;scaler&#x27;, StandardScaler()),\n",
       "                (&#x27;classifier&#x27;, RandomForestClassifier())])</pre><b>In a Jupyter environment, please rerun this cell to show the HTML representation or trust the notebook. <br />On GitHub, the HTML representation is unable to render, please try loading this page with nbviewer.org.</b></div><div class=\"sk-container\" hidden><div class=\"sk-item sk-dashed-wrapped\"><div class=\"sk-label-container\"><div class=\"sk-label sk-toggleable\"><input class=\"sk-toggleable__control sk-hidden--visually\" id=\"sk-estimator-id-13\" type=\"checkbox\" ><label for=\"sk-estimator-id-13\" class=\"sk-toggleable__label sk-toggleable__label-arrow\">Pipeline</label><div class=\"sk-toggleable__content\"><pre>Pipeline(steps=[(&#x27;imputer&#x27;, SimpleImputer(strategy=&#x27;most_frequent&#x27;)),\n",
       "                (&#x27;scaler&#x27;, StandardScaler()),\n",
       "                (&#x27;classifier&#x27;, RandomForestClassifier())])</pre></div></div></div><div class=\"sk-serial\"><div class=\"sk-item\"><div class=\"sk-estimator sk-toggleable\"><input class=\"sk-toggleable__control sk-hidden--visually\" id=\"sk-estimator-id-14\" type=\"checkbox\" ><label for=\"sk-estimator-id-14\" class=\"sk-toggleable__label sk-toggleable__label-arrow\">SimpleImputer</label><div class=\"sk-toggleable__content\"><pre>SimpleImputer(strategy=&#x27;most_frequent&#x27;)</pre></div></div></div><div class=\"sk-item\"><div class=\"sk-estimator sk-toggleable\"><input class=\"sk-toggleable__control sk-hidden--visually\" id=\"sk-estimator-id-15\" type=\"checkbox\" ><label for=\"sk-estimator-id-15\" class=\"sk-toggleable__label sk-toggleable__label-arrow\">StandardScaler</label><div class=\"sk-toggleable__content\"><pre>StandardScaler()</pre></div></div></div><div class=\"sk-item\"><div class=\"sk-estimator sk-toggleable\"><input class=\"sk-toggleable__control sk-hidden--visually\" id=\"sk-estimator-id-16\" type=\"checkbox\" ><label for=\"sk-estimator-id-16\" class=\"sk-toggleable__label sk-toggleable__label-arrow\">RandomForestClassifier</label><div class=\"sk-toggleable__content\"><pre>RandomForestClassifier()</pre></div></div></div></div></div></div></div>"
      ],
      "text/plain": [
       "Pipeline(steps=[('imputer', SimpleImputer(strategy='most_frequent')),\n",
       "                ('scaler', StandardScaler()),\n",
       "                ('classifier', RandomForestClassifier())])"
      ]
     },
     "execution_count": 263,
     "metadata": {},
     "output_type": "execute_result"
    }
   ],
   "source": [
    "pipeline.fit(X_train, y_train)"
   ]
  },
  {
   "cell_type": "markdown",
   "metadata": {},
   "source": [
    "#### Explicación de pipeline:\n",
    "Incluye los siguientes pasos: SimpleImputer, StandardScaler y RandomForestClassifier.\n",
    "* SimpleImputer para manejar los valores faltantes en los datos.\n",
    "* StandardScaler para estandarizar las características numéricas, asegurando que tengan una media cero y una varianza unitaria.\n",
    "* RandomForestClassifier es el modelo de clasificación elegido."
   ]
  },
  {
   "cell_type": "markdown",
   "metadata": {},
   "source": [
    "## Ejecución de pipeline"
   ]
  },
  {
   "cell_type": "code",
   "execution_count": 264,
   "metadata": {},
   "outputs": [],
   "source": [
    "pipeline.fit(X_train, y_train)\n",
    "y_pred = pipeline.predict(X_test)"
   ]
  },
  {
   "cell_type": "markdown",
   "metadata": {},
   "source": [
    "## Guardar pipeline"
   ]
  },
  {
   "cell_type": "markdown",
   "metadata": {},
   "source": [
    "Se usa joblib para guardar modelos o pipelines.\n",
    "\n",
    "Serializa un modelo o pipeline (objeto Python) a una secuencia de bytes que se almacenan en un archivo\n",
    "\n",
    "* joblib.dump()\n",
    "* joblib.load()"
   ]
  },
  {
   "cell_type": "code",
   "execution_count": 265,
   "metadata": {},
   "outputs": [],
   "source": [
    "# # pickle .pkl o .joblib\n",
    "# joblib.dump(pipeline, 'pipelineRFC_Flood_DestructionLvl.pkl') # más genérico\n",
    "# joblib.dump(pipeline, 'pipelineRFC_Flood_DestructionLvl.joblib') # más eficiente con muchos datos"
   ]
  },
  {
   "cell_type": "markdown",
   "metadata": {},
   "source": [
    "## Cargar pipeline"
   ]
  },
  {
   "cell_type": "code",
   "execution_count": 266,
   "metadata": {},
   "outputs": [
    {
     "ename": "FileNotFoundError",
     "evalue": "[Errno 2] No such file or directory: 'pipelineRFC_Flood_DestructionLvl.joblib'",
     "output_type": "error",
     "traceback": [
      "\u001b[1;31m---------------------------------------------------------------------------\u001b[0m",
      "\u001b[1;31mFileNotFoundError\u001b[0m                         Traceback (most recent call last)",
      "Cell \u001b[1;32mIn[266], line 1\u001b[0m\n\u001b[1;32m----> 1\u001b[0m pipeline \u001b[39m=\u001b[39m joblib\u001b[39m.\u001b[39;49mload(\u001b[39m'\u001b[39;49m\u001b[39mpipelineRFC_Flood_DestructionLvl.joblib\u001b[39;49m\u001b[39m'\u001b[39;49m)\n\u001b[0;32m      2\u001b[0m pipeline\u001b[39m.\u001b[39mpredict(X_test)[:\u001b[39m10\u001b[39m]\n",
      "File \u001b[1;32mc:\\Users\\AleEng\\AppData\\Local\\Programs\\Python\\Python310\\lib\\site-packages\\joblib\\numpy_pickle.py:650\u001b[0m, in \u001b[0;36mload\u001b[1;34m(filename, mmap_mode)\u001b[0m\n\u001b[0;32m    648\u001b[0m         obj \u001b[39m=\u001b[39m _unpickle(fobj)\n\u001b[0;32m    649\u001b[0m \u001b[39melse\u001b[39;00m:\n\u001b[1;32m--> 650\u001b[0m     \u001b[39mwith\u001b[39;00m \u001b[39mopen\u001b[39;49m(filename, \u001b[39m'\u001b[39;49m\u001b[39mrb\u001b[39;49m\u001b[39m'\u001b[39;49m) \u001b[39mas\u001b[39;00m f:\n\u001b[0;32m    651\u001b[0m         \u001b[39mwith\u001b[39;00m _read_fileobject(f, filename, mmap_mode) \u001b[39mas\u001b[39;00m fobj:\n\u001b[0;32m    652\u001b[0m             \u001b[39mif\u001b[39;00m \u001b[39misinstance\u001b[39m(fobj, \u001b[39mstr\u001b[39m):\n\u001b[0;32m    653\u001b[0m                 \u001b[39m# if the returned file object is a string, this means we\u001b[39;00m\n\u001b[0;32m    654\u001b[0m                 \u001b[39m# try to load a pickle file generated with an version of\u001b[39;00m\n\u001b[0;32m    655\u001b[0m                 \u001b[39m# Joblib so we load it with joblib compatibility function.\u001b[39;00m\n",
      "\u001b[1;31mFileNotFoundError\u001b[0m: [Errno 2] No such file or directory: 'pipelineRFC_Flood_DestructionLvl.joblib'"
     ]
    }
   ],
   "source": [
    "pipeline = joblib.load('pipelineRFC_Flood_DestructionLvl.joblib')\n",
    "pipeline.predict(X_test)[:10]"
   ]
  },
  {
   "cell_type": "markdown",
   "metadata": {},
   "source": [
    "# Evaluar Modelo"
   ]
  },
  {
   "cell_type": "markdown",
   "metadata": {},
   "source": [
    "### Predicción y_pred"
   ]
  },
  {
   "cell_type": "code",
   "execution_count": null,
   "metadata": {},
   "outputs": [],
   "source": [
    "y_pred = pipeline.predict(X_test)"
   ]
  },
  {
   "cell_type": "code",
   "execution_count": null,
   "metadata": {},
   "outputs": [
    {
     "data": {
      "text/plain": [
       "(1162,)"
      ]
     },
     "execution_count": 196,
     "metadata": {},
     "output_type": "execute_result"
    }
   ],
   "source": [
    "y_pred.shape"
   ]
  },
  {
   "cell_type": "markdown",
   "metadata": {},
   "source": [
    "# Últimas comprobaciones dataframe"
   ]
  },
  {
   "cell_type": "code",
   "execution_count": null,
   "metadata": {},
   "outputs": [
    {
     "data": {
      "text/html": [
       "<div>\n",
       "<style scoped>\n",
       "    .dataframe tbody tr th:only-of-type {\n",
       "        vertical-align: middle;\n",
       "    }\n",
       "\n",
       "    .dataframe tbody tr th {\n",
       "        vertical-align: top;\n",
       "    }\n",
       "\n",
       "    .dataframe thead th {\n",
       "        text-align: right;\n",
       "    }\n",
       "</style>\n",
       "<table border=\"1\" class=\"dataframe\">\n",
       "  <thead>\n",
       "    <tr style=\"text-align: right;\">\n",
       "      <th></th>\n",
       "      <th>Disaster Type</th>\n",
       "      <th>Disaster Subtype</th>\n",
       "      <th>Country</th>\n",
       "      <th>Region</th>\n",
       "      <th>Continent</th>\n",
       "      <th>Location</th>\n",
       "      <th>Origin</th>\n",
       "      <th>Associated Dis</th>\n",
       "      <th>Dis Mag Value</th>\n",
       "      <th>Dis Mag Scale</th>\n",
       "      <th>...</th>\n",
       "      <th>Start Month</th>\n",
       "      <th>Start Day</th>\n",
       "      <th>End Year</th>\n",
       "      <th>End Month</th>\n",
       "      <th>End Day</th>\n",
       "      <th>Total Deaths</th>\n",
       "      <th>Total Affected</th>\n",
       "      <th>Total Damages Adj</th>\n",
       "      <th>Flood Type</th>\n",
       "      <th>Destruction Level</th>\n",
       "    </tr>\n",
       "  </thead>\n",
       "  <tbody>\n",
       "    <tr>\n",
       "      <th>12</th>\n",
       "      <td>Flood</td>\n",
       "      <td>NaN</td>\n",
       "      <td>Belgium</td>\n",
       "      <td>Western Europe</td>\n",
       "      <td>Europe</td>\n",
       "      <td>Louvain region</td>\n",
       "      <td>NaN</td>\n",
       "      <td>NaN</td>\n",
       "      <td>0</td>\n",
       "      <td>Km2</td>\n",
       "      <td>...</td>\n",
       "      <td>5</td>\n",
       "      <td>14</td>\n",
       "      <td>1906</td>\n",
       "      <td>5</td>\n",
       "      <td>14</td>\n",
       "      <td>6</td>\n",
       "      <td>0</td>\n",
       "      <td>0</td>\n",
       "      <td>Low</td>\n",
       "      <td>1</td>\n",
       "    </tr>\n",
       "    <tr>\n",
       "      <th>13</th>\n",
       "      <td>Flood</td>\n",
       "      <td>NaN</td>\n",
       "      <td>Belgium</td>\n",
       "      <td>Western Europe</td>\n",
       "      <td>Europe</td>\n",
       "      <td>NaN</td>\n",
       "      <td>NaN</td>\n",
       "      <td>NaN</td>\n",
       "      <td>0</td>\n",
       "      <td>Km2</td>\n",
       "      <td>...</td>\n",
       "      <td>4</td>\n",
       "      <td>0</td>\n",
       "      <td>1906</td>\n",
       "      <td>4</td>\n",
       "      <td>0</td>\n",
       "      <td>0</td>\n",
       "      <td>0</td>\n",
       "      <td>0</td>\n",
       "      <td>Low</td>\n",
       "      <td>1</td>\n",
       "    </tr>\n",
       "    <tr>\n",
       "      <th>34</th>\n",
       "      <td>Flood</td>\n",
       "      <td>Riverine flood</td>\n",
       "      <td>China</td>\n",
       "      <td>Eastern Asia</td>\n",
       "      <td>Asia</td>\n",
       "      <td>NaN</td>\n",
       "      <td>NaN</td>\n",
       "      <td>NaN</td>\n",
       "      <td>0</td>\n",
       "      <td>Km2</td>\n",
       "      <td>...</td>\n",
       "      <td>0</td>\n",
       "      <td>0</td>\n",
       "      <td>1911</td>\n",
       "      <td>0</td>\n",
       "      <td>0</td>\n",
       "      <td>100000</td>\n",
       "      <td>0</td>\n",
       "      <td>0</td>\n",
       "      <td>Very High</td>\n",
       "      <td>4</td>\n",
       "    </tr>\n",
       "    <tr>\n",
       "      <th>39</th>\n",
       "      <td>Flood</td>\n",
       "      <td>Riverine flood</td>\n",
       "      <td>China</td>\n",
       "      <td>Eastern Asia</td>\n",
       "      <td>Asia</td>\n",
       "      <td>Guangzhou</td>\n",
       "      <td>NaN</td>\n",
       "      <td>NaN</td>\n",
       "      <td>3000</td>\n",
       "      <td>Km2</td>\n",
       "      <td>...</td>\n",
       "      <td>0</td>\n",
       "      <td>0</td>\n",
       "      <td>1915</td>\n",
       "      <td>0</td>\n",
       "      <td>0</td>\n",
       "      <td>0</td>\n",
       "      <td>3000000</td>\n",
       "      <td>0</td>\n",
       "      <td>Very High</td>\n",
       "      <td>4</td>\n",
       "    </tr>\n",
       "    <tr>\n",
       "      <th>43</th>\n",
       "      <td>Flood</td>\n",
       "      <td>Riverine flood</td>\n",
       "      <td>China</td>\n",
       "      <td>Eastern Asia</td>\n",
       "      <td>Asia</td>\n",
       "      <td>Tianjin</td>\n",
       "      <td>NaN</td>\n",
       "      <td>NaN</td>\n",
       "      <td>0</td>\n",
       "      <td>Km2</td>\n",
       "      <td>...</td>\n",
       "      <td>0</td>\n",
       "      <td>0</td>\n",
       "      <td>1917</td>\n",
       "      <td>0</td>\n",
       "      <td>0</td>\n",
       "      <td>0</td>\n",
       "      <td>635000</td>\n",
       "      <td>0</td>\n",
       "      <td>Very High</td>\n",
       "      <td>4</td>\n",
       "    </tr>\n",
       "    <tr>\n",
       "      <th>...</th>\n",
       "      <td>...</td>\n",
       "      <td>...</td>\n",
       "      <td>...</td>\n",
       "      <td>...</td>\n",
       "      <td>...</td>\n",
       "      <td>...</td>\n",
       "      <td>...</td>\n",
       "      <td>...</td>\n",
       "      <td>...</td>\n",
       "      <td>...</td>\n",
       "      <td>...</td>\n",
       "      <td>...</td>\n",
       "      <td>...</td>\n",
       "      <td>...</td>\n",
       "      <td>...</td>\n",
       "      <td>...</td>\n",
       "      <td>...</td>\n",
       "      <td>...</td>\n",
       "      <td>...</td>\n",
       "      <td>...</td>\n",
       "      <td>...</td>\n",
       "    </tr>\n",
       "    <tr>\n",
       "      <th>450</th>\n",
       "      <td>Flood</td>\n",
       "      <td>NaN</td>\n",
       "      <td>Brazil</td>\n",
       "      <td>South America</td>\n",
       "      <td>Americas</td>\n",
       "      <td>South, South West Bahia</td>\n",
       "      <td>NaN</td>\n",
       "      <td>NaN</td>\n",
       "      <td>0</td>\n",
       "      <td>Km2</td>\n",
       "      <td>...</td>\n",
       "      <td>12</td>\n",
       "      <td>28</td>\n",
       "      <td>1967</td>\n",
       "      <td>12</td>\n",
       "      <td>28</td>\n",
       "      <td>35</td>\n",
       "      <td>65450</td>\n",
       "      <td>13160</td>\n",
       "      <td>Moderate</td>\n",
       "      <td>2</td>\n",
       "    </tr>\n",
       "    <tr>\n",
       "      <th>454</th>\n",
       "      <td>Flood</td>\n",
       "      <td>NaN</td>\n",
       "      <td>Algeria</td>\n",
       "      <td>Northern Africa</td>\n",
       "      <td>Africa</td>\n",
       "      <td>Aures Samura Constantine</td>\n",
       "      <td>NaN</td>\n",
       "      <td>NaN</td>\n",
       "      <td>0</td>\n",
       "      <td>Km2</td>\n",
       "      <td>...</td>\n",
       "      <td>11</td>\n",
       "      <td>0</td>\n",
       "      <td>1967</td>\n",
       "      <td>11</td>\n",
       "      <td>0</td>\n",
       "      <td>20</td>\n",
       "      <td>30000</td>\n",
       "      <td>26319</td>\n",
       "      <td>Moderate</td>\n",
       "      <td>2</td>\n",
       "    </tr>\n",
       "    <tr>\n",
       "      <th>456</th>\n",
       "      <td>Flood</td>\n",
       "      <td>NaN</td>\n",
       "      <td>Ecuador</td>\n",
       "      <td>South America</td>\n",
       "      <td>Americas</td>\n",
       "      <td>Milagro</td>\n",
       "      <td>NaN</td>\n",
       "      <td>NaN</td>\n",
       "      <td>0</td>\n",
       "      <td>Km2</td>\n",
       "      <td>...</td>\n",
       "      <td>2</td>\n",
       "      <td>8</td>\n",
       "      <td>1967</td>\n",
       "      <td>2</td>\n",
       "      <td>8</td>\n",
       "      <td>0</td>\n",
       "      <td>20500</td>\n",
       "      <td>877</td>\n",
       "      <td>Moderate</td>\n",
       "      <td>2</td>\n",
       "    </tr>\n",
       "    <tr>\n",
       "      <th>462</th>\n",
       "      <td>Flood</td>\n",
       "      <td>NaN</td>\n",
       "      <td>Indonesia</td>\n",
       "      <td>South-Eastern Asia</td>\n",
       "      <td>Asia</td>\n",
       "      <td>East Java</td>\n",
       "      <td>NaN</td>\n",
       "      <td>NaN</td>\n",
       "      <td>0</td>\n",
       "      <td>Km2</td>\n",
       "      <td>...</td>\n",
       "      <td>1</td>\n",
       "      <td>0</td>\n",
       "      <td>1967</td>\n",
       "      <td>1</td>\n",
       "      <td>0</td>\n",
       "      <td>0</td>\n",
       "      <td>55000</td>\n",
       "      <td>0</td>\n",
       "      <td>Moderate</td>\n",
       "      <td>2</td>\n",
       "    </tr>\n",
       "    <tr>\n",
       "      <th>463</th>\n",
       "      <td>Flood</td>\n",
       "      <td>NaN</td>\n",
       "      <td>Indonesia</td>\n",
       "      <td>South-Eastern Asia</td>\n",
       "      <td>Asia</td>\n",
       "      <td>Jakarta</td>\n",
       "      <td>NaN</td>\n",
       "      <td>NaN</td>\n",
       "      <td>0</td>\n",
       "      <td>Km2</td>\n",
       "      <td>...</td>\n",
       "      <td>1</td>\n",
       "      <td>9</td>\n",
       "      <td>1967</td>\n",
       "      <td>1</td>\n",
       "      <td>9</td>\n",
       "      <td>0</td>\n",
       "      <td>142000</td>\n",
       "      <td>0</td>\n",
       "      <td>High</td>\n",
       "      <td>3</td>\n",
       "    </tr>\n",
       "  </tbody>\n",
       "</table>\n",
       "<p>100 rows × 21 columns</p>\n",
       "</div>"
      ],
      "text/plain": [
       "    Disaster Type Disaster Subtype    Country              Region Continent  \\\n",
       "12          Flood              NaN    Belgium      Western Europe    Europe   \n",
       "13          Flood              NaN    Belgium      Western Europe    Europe   \n",
       "34          Flood   Riverine flood      China        Eastern Asia      Asia   \n",
       "39          Flood   Riverine flood      China        Eastern Asia      Asia   \n",
       "43          Flood   Riverine flood      China        Eastern Asia      Asia   \n",
       "..            ...              ...        ...                 ...       ...   \n",
       "450         Flood              NaN     Brazil       South America  Americas   \n",
       "454         Flood              NaN    Algeria     Northern Africa    Africa   \n",
       "456         Flood              NaN    Ecuador       South America  Americas   \n",
       "462         Flood              NaN  Indonesia  South-Eastern Asia      Asia   \n",
       "463         Flood              NaN  Indonesia  South-Eastern Asia      Asia   \n",
       "\n",
       "                     Location Origin Associated Dis  Dis Mag Value  \\\n",
       "12             Louvain region    NaN            NaN              0   \n",
       "13                        NaN    NaN            NaN              0   \n",
       "34                        NaN    NaN            NaN              0   \n",
       "39                  Guangzhou    NaN            NaN           3000   \n",
       "43                    Tianjin    NaN            NaN              0   \n",
       "..                        ...    ...            ...            ...   \n",
       "450   South, South West Bahia    NaN            NaN              0   \n",
       "454  Aures Samura Constantine    NaN            NaN              0   \n",
       "456                   Milagro    NaN            NaN              0   \n",
       "462                 East Java    NaN            NaN              0   \n",
       "463                   Jakarta    NaN            NaN              0   \n",
       "\n",
       "    Dis Mag Scale  ...  Start Month  Start Day  End Year  End Month  End Day  \\\n",
       "12            Km2  ...            5         14      1906          5       14   \n",
       "13            Km2  ...            4          0      1906          4        0   \n",
       "34            Km2  ...            0          0      1911          0        0   \n",
       "39            Km2  ...            0          0      1915          0        0   \n",
       "43            Km2  ...            0          0      1917          0        0   \n",
       "..            ...  ...          ...        ...       ...        ...      ...   \n",
       "450           Km2  ...           12         28      1967         12       28   \n",
       "454           Km2  ...           11          0      1967         11        0   \n",
       "456           Km2  ...            2          8      1967          2        8   \n",
       "462           Km2  ...            1          0      1967          1        0   \n",
       "463           Km2  ...            1          9      1967          1        9   \n",
       "\n",
       "     Total Deaths  Total Affected  Total Damages Adj  Flood Type  \\\n",
       "12              6               0                  0         Low   \n",
       "13              0               0                  0         Low   \n",
       "34         100000               0                  0   Very High   \n",
       "39              0         3000000                  0   Very High   \n",
       "43              0          635000                  0   Very High   \n",
       "..            ...             ...                ...         ...   \n",
       "450            35           65450              13160    Moderate   \n",
       "454            20           30000              26319    Moderate   \n",
       "456             0           20500                877    Moderate   \n",
       "462             0           55000                  0    Moderate   \n",
       "463             0          142000                  0        High   \n",
       "\n",
       "    Destruction Level  \n",
       "12                  1  \n",
       "13                  1  \n",
       "34                  4  \n",
       "39                  4  \n",
       "43                  4  \n",
       "..                ...  \n",
       "450                 2  \n",
       "454                 2  \n",
       "456                 2  \n",
       "462                 2  \n",
       "463                 3  \n",
       "\n",
       "[100 rows x 21 columns]"
      ]
     },
     "execution_count": 197,
     "metadata": {},
     "output_type": "execute_result"
    }
   ],
   "source": [
    "df_flood.head(100)"
   ]
  },
  {
   "cell_type": "code",
   "execution_count": null,
   "metadata": {},
   "outputs": [
    {
     "data": {
      "text/plain": [
       "Index(['Disaster Type', 'Disaster Subtype', 'Country', 'Region', 'Continent',\n",
       "       'Location', 'Origin', 'Associated Dis', 'Dis Mag Value',\n",
       "       'Dis Mag Scale', 'Start Year', 'Start Month', 'Start Day', 'End Year',\n",
       "       'End Month', 'End Day', 'Total Deaths', 'Total Affected',\n",
       "       'Total Damages Adj', 'Flood Type', 'Destruction Level'],\n",
       "      dtype='object')"
      ]
     },
     "execution_count": 198,
     "metadata": {},
     "output_type": "execute_result"
    }
   ],
   "source": [
    "df_flood.columns"
   ]
  },
  {
   "cell_type": "code",
   "execution_count": null,
   "metadata": {},
   "outputs": [
    {
     "data": {
      "text/plain": [
       "Disaster Type           0\n",
       "Disaster Subtype     2244\n",
       "Country                 0\n",
       "Region                  0\n",
       "Continent               0\n",
       "Location              296\n",
       "Origin               2362\n",
       "Associated Dis       4425\n",
       "Dis Mag Value           0\n",
       "Dis Mag Scale           0\n",
       "Start Year              0\n",
       "Start Month             0\n",
       "Start Day               0\n",
       "End Year                0\n",
       "End Month               0\n",
       "End Day                 0\n",
       "Total Deaths            0\n",
       "Total Affected          0\n",
       "Total Damages Adj       0\n",
       "Flood Type              0\n",
       "Destruction Level       0\n",
       "dtype: int64"
      ]
     },
     "execution_count": 199,
     "metadata": {},
     "output_type": "execute_result"
    }
   ],
   "source": [
    "df_flood.isnull().sum()"
   ]
  },
  {
   "cell_type": "code",
   "execution_count": null,
   "metadata": {},
   "outputs": [
    {
     "data": {
      "text/plain": [
       "1"
      ]
     },
     "execution_count": 200,
     "metadata": {},
     "output_type": "execute_result"
    }
   ],
   "source": [
    "df_flood['Destruction Level'].min()"
   ]
  },
  {
   "cell_type": "markdown",
   "metadata": {},
   "source": [
    "### Pivot Tables"
   ]
  },
  {
   "cell_type": "code",
   "execution_count": null,
   "metadata": {},
   "outputs": [
    {
     "data": {
      "text/html": [
       "<div>\n",
       "<style scoped>\n",
       "    .dataframe tbody tr th:only-of-type {\n",
       "        vertical-align: middle;\n",
       "    }\n",
       "\n",
       "    .dataframe tbody tr th {\n",
       "        vertical-align: top;\n",
       "    }\n",
       "\n",
       "    .dataframe thead th {\n",
       "        text-align: right;\n",
       "    }\n",
       "</style>\n",
       "<table border=\"1\" class=\"dataframe\">\n",
       "  <thead>\n",
       "    <tr style=\"text-align: right;\">\n",
       "      <th></th>\n",
       "      <th>Dis Mag Value</th>\n",
       "      <th>Total Affected</th>\n",
       "      <th>Total Damages Adj</th>\n",
       "      <th>Total Deaths</th>\n",
       "    </tr>\n",
       "    <tr>\n",
       "      <th>Destruction Level</th>\n",
       "      <th></th>\n",
       "      <th></th>\n",
       "      <th></th>\n",
       "      <th></th>\n",
       "    </tr>\n",
       "  </thead>\n",
       "  <tbody>\n",
       "    <tr>\n",
       "      <th>1</th>\n",
       "      <td>0</td>\n",
       "      <td>0</td>\n",
       "      <td>0</td>\n",
       "      <td>0</td>\n",
       "    </tr>\n",
       "    <tr>\n",
       "      <th>2</th>\n",
       "      <td>0</td>\n",
       "      <td>0</td>\n",
       "      <td>0</td>\n",
       "      <td>0</td>\n",
       "    </tr>\n",
       "    <tr>\n",
       "      <th>3</th>\n",
       "      <td>0</td>\n",
       "      <td>0</td>\n",
       "      <td>0</td>\n",
       "      <td>0</td>\n",
       "    </tr>\n",
       "    <tr>\n",
       "      <th>4</th>\n",
       "      <td>0</td>\n",
       "      <td>0</td>\n",
       "      <td>0</td>\n",
       "      <td>0</td>\n",
       "    </tr>\n",
       "  </tbody>\n",
       "</table>\n",
       "</div>"
      ],
      "text/plain": [
       "                   Dis Mag Value  Total Affected  Total Damages Adj  \\\n",
       "Destruction Level                                                     \n",
       "1                              0               0                  0   \n",
       "2                              0               0                  0   \n",
       "3                              0               0                  0   \n",
       "4                              0               0                  0   \n",
       "\n",
       "                   Total Deaths  \n",
       "Destruction Level                \n",
       "1                             0  \n",
       "2                             0  \n",
       "3                             0  \n",
       "4                             0  "
      ]
     },
     "execution_count": 201,
     "metadata": {},
     "output_type": "execute_result"
    }
   ],
   "source": [
    "df_floodresult_pivot_table = pd.pivot_table(df_flood, index='Destruction Level', values=['Dis Mag Value', 'Total Deaths', 'Total Affected', 'Total Damages Adj'], aggfunc='min')\n",
    "df_floodresult_pivot_table"
   ]
  },
  {
   "cell_type": "code",
   "execution_count": null,
   "metadata": {},
   "outputs": [
    {
     "data": {
      "text/html": [
       "<div>\n",
       "<style scoped>\n",
       "    .dataframe tbody tr th:only-of-type {\n",
       "        vertical-align: middle;\n",
       "    }\n",
       "\n",
       "    .dataframe tbody tr th {\n",
       "        vertical-align: top;\n",
       "    }\n",
       "\n",
       "    .dataframe thead th {\n",
       "        text-align: right;\n",
       "    }\n",
       "</style>\n",
       "<table border=\"1\" class=\"dataframe\">\n",
       "  <thead>\n",
       "    <tr style=\"text-align: right;\">\n",
       "      <th></th>\n",
       "      <th>Dis Mag Value</th>\n",
       "      <th>Total Affected</th>\n",
       "      <th>Total Damages Adj</th>\n",
       "      <th>Total Deaths</th>\n",
       "    </tr>\n",
       "    <tr>\n",
       "      <th>Destruction Level</th>\n",
       "      <th></th>\n",
       "      <th></th>\n",
       "      <th></th>\n",
       "      <th></th>\n",
       "    </tr>\n",
       "  </thead>\n",
       "  <tbody>\n",
       "    <tr>\n",
       "      <th>1</th>\n",
       "      <td>205000</td>\n",
       "      <td>9993</td>\n",
       "      <td>979883</td>\n",
       "      <td>99</td>\n",
       "    </tr>\n",
       "    <tr>\n",
       "      <th>2</th>\n",
       "      <td>413323</td>\n",
       "      <td>99185</td>\n",
       "      <td>9116027</td>\n",
       "      <td>498</td>\n",
       "    </tr>\n",
       "    <tr>\n",
       "      <th>3</th>\n",
       "      <td>2440002</td>\n",
       "      <td>498924</td>\n",
       "      <td>43201120</td>\n",
       "      <td>992</td>\n",
       "    </tr>\n",
       "    <tr>\n",
       "      <th>4</th>\n",
       "      <td>2857000</td>\n",
       "      <td>238973000</td>\n",
       "      <td>53860097</td>\n",
       "      <td>3700000</td>\n",
       "    </tr>\n",
       "  </tbody>\n",
       "</table>\n",
       "</div>"
      ],
      "text/plain": [
       "                   Dis Mag Value  Total Affected  Total Damages Adj  \\\n",
       "Destruction Level                                                     \n",
       "1                         205000            9993             979883   \n",
       "2                         413323           99185            9116027   \n",
       "3                        2440002          498924           43201120   \n",
       "4                        2857000       238973000           53860097   \n",
       "\n",
       "                   Total Deaths  \n",
       "Destruction Level                \n",
       "1                            99  \n",
       "2                           498  \n",
       "3                           992  \n",
       "4                       3700000  "
      ]
     },
     "execution_count": 202,
     "metadata": {},
     "output_type": "execute_result"
    }
   ],
   "source": [
    "df_floodresult_pivot_table = pd.pivot_table(df_flood, index='Destruction Level', values=['Dis Mag Value', 'Total Deaths', 'Total Affected', 'Total Damages Adj'], aggfunc='max')\n",
    "df_floodresult_pivot_table"
   ]
  },
  {
   "cell_type": "code",
   "execution_count": null,
   "metadata": {},
   "outputs": [
    {
     "data": {
      "text/html": [
       "<div>\n",
       "<style scoped>\n",
       "    .dataframe tbody tr th:only-of-type {\n",
       "        vertical-align: middle;\n",
       "    }\n",
       "\n",
       "    .dataframe tbody tr th {\n",
       "        vertical-align: top;\n",
       "    }\n",
       "\n",
       "    .dataframe thead th {\n",
       "        text-align: right;\n",
       "    }\n",
       "</style>\n",
       "<table border=\"1\" class=\"dataframe\">\n",
       "  <thead>\n",
       "    <tr style=\"text-align: right;\">\n",
       "      <th></th>\n",
       "      <th>Dis Mag Value</th>\n",
       "      <th>Total Affected</th>\n",
       "      <th>Total Damages Adj</th>\n",
       "      <th>Total Deaths</th>\n",
       "    </tr>\n",
       "    <tr>\n",
       "      <th>Destruction Level</th>\n",
       "      <th></th>\n",
       "      <th></th>\n",
       "      <th></th>\n",
       "      <th></th>\n",
       "    </tr>\n",
       "  </thead>\n",
       "  <tbody>\n",
       "    <tr>\n",
       "      <th>1</th>\n",
       "      <td>24292595</td>\n",
       "      <td>5230244</td>\n",
       "      <td>87334486</td>\n",
       "      <td>31864</td>\n",
       "    </tr>\n",
       "    <tr>\n",
       "      <th>2</th>\n",
       "      <td>38993303</td>\n",
       "      <td>48833323</td>\n",
       "      <td>273884142</td>\n",
       "      <td>61108</td>\n",
       "    </tr>\n",
       "    <tr>\n",
       "      <th>3</th>\n",
       "      <td>62272290</td>\n",
       "      <td>144274093</td>\n",
       "      <td>465652694</td>\n",
       "      <td>53067</td>\n",
       "    </tr>\n",
       "    <tr>\n",
       "      <th>4</th>\n",
       "      <td>38037899</td>\n",
       "      <td>3769852798</td>\n",
       "      <td>808191219</td>\n",
       "      <td>6858043</td>\n",
       "    </tr>\n",
       "  </tbody>\n",
       "</table>\n",
       "</div>"
      ],
      "text/plain": [
       "                   Dis Mag Value  Total Affected  Total Damages Adj  \\\n",
       "Destruction Level                                                     \n",
       "1                       24292595         5230244           87334486   \n",
       "2                       38993303        48833323          273884142   \n",
       "3                       62272290       144274093          465652694   \n",
       "4                       38037899      3769852798          808191219   \n",
       "\n",
       "                   Total Deaths  \n",
       "Destruction Level                \n",
       "1                         31864  \n",
       "2                         61108  \n",
       "3                         53067  \n",
       "4                       6858043  "
      ]
     },
     "execution_count": 203,
     "metadata": {},
     "output_type": "execute_result"
    }
   ],
   "source": [
    "df_floodresult_pivot_table = pd.pivot_table(df_flood, index='Destruction Level', values=['Dis Mag Value', 'Total Deaths', 'Total Affected', 'Total Damages Adj'], aggfunc='sum')\n",
    "df_floodresult_pivot_table"
   ]
  },
  {
   "cell_type": "code",
   "execution_count": null,
   "metadata": {},
   "outputs": [
    {
     "data": {
      "text/html": [
       "<div>\n",
       "<style scoped>\n",
       "    .dataframe tbody tr th:only-of-type {\n",
       "        vertical-align: middle;\n",
       "    }\n",
       "\n",
       "    .dataframe tbody tr th {\n",
       "        vertical-align: top;\n",
       "    }\n",
       "\n",
       "    .dataframe thead th {\n",
       "        text-align: right;\n",
       "    }\n",
       "</style>\n",
       "<table border=\"1\" class=\"dataframe\">\n",
       "  <thead>\n",
       "    <tr style=\"text-align: right;\">\n",
       "      <th></th>\n",
       "      <th>Dis Mag Value</th>\n",
       "      <th>Total Affected</th>\n",
       "      <th>Total Damages Adj</th>\n",
       "      <th>Total Deaths</th>\n",
       "    </tr>\n",
       "    <tr>\n",
       "      <th>Destruction Level</th>\n",
       "      <th></th>\n",
       "      <th></th>\n",
       "      <th></th>\n",
       "      <th></th>\n",
       "    </tr>\n",
       "  </thead>\n",
       "  <tbody>\n",
       "    <tr>\n",
       "      <th>1</th>\n",
       "      <td>8218.063261</td>\n",
       "      <td>1.769365e+03</td>\n",
       "      <td>2.954482e+04</td>\n",
       "      <td>10.779432</td>\n",
       "    </tr>\n",
       "    <tr>\n",
       "      <th>2</th>\n",
       "      <td>23922.271779</td>\n",
       "      <td>2.995909e+04</td>\n",
       "      <td>1.680271e+05</td>\n",
       "      <td>37.489571</td>\n",
       "    </tr>\n",
       "    <tr>\n",
       "      <th>3</th>\n",
       "      <td>85538.859890</td>\n",
       "      <td>1.981787e+05</td>\n",
       "      <td>6.396328e+05</td>\n",
       "      <td>72.894231</td>\n",
       "    </tr>\n",
       "    <tr>\n",
       "      <th>4</th>\n",
       "      <td>76999.795547</td>\n",
       "      <td>7.631281e+06</td>\n",
       "      <td>1.636015e+06</td>\n",
       "      <td>13882.678138</td>\n",
       "    </tr>\n",
       "  </tbody>\n",
       "</table>\n",
       "</div>"
      ],
      "text/plain": [
       "                   Dis Mag Value  Total Affected  Total Damages Adj  \\\n",
       "Destruction Level                                                     \n",
       "1                    8218.063261    1.769365e+03       2.954482e+04   \n",
       "2                   23922.271779    2.995909e+04       1.680271e+05   \n",
       "3                   85538.859890    1.981787e+05       6.396328e+05   \n",
       "4                   76999.795547    7.631281e+06       1.636015e+06   \n",
       "\n",
       "                   Total Deaths  \n",
       "Destruction Level                \n",
       "1                     10.779432  \n",
       "2                     37.489571  \n",
       "3                     72.894231  \n",
       "4                  13882.678138  "
      ]
     },
     "execution_count": 204,
     "metadata": {},
     "output_type": "execute_result"
    }
   ],
   "source": [
    "df_floodresult_pivot_table = pd.pivot_table(df_flood, index='Destruction Level', values=['Dis Mag Value', 'Total Deaths', 'Total Affected', 'Total Damages Adj'], aggfunc='mean')\n",
    "df_floodresult_pivot_table"
   ]
  },
  {
   "cell_type": "code",
   "execution_count": null,
   "metadata": {},
   "outputs": [
    {
     "data": {
      "text/html": [
       "<div>\n",
       "<style scoped>\n",
       "    .dataframe tbody tr th:only-of-type {\n",
       "        vertical-align: middle;\n",
       "    }\n",
       "\n",
       "    .dataframe tbody tr th {\n",
       "        vertical-align: top;\n",
       "    }\n",
       "\n",
       "    .dataframe thead th {\n",
       "        text-align: right;\n",
       "    }\n",
       "</style>\n",
       "<table border=\"1\" class=\"dataframe\">\n",
       "  <thead>\n",
       "    <tr style=\"text-align: right;\">\n",
       "      <th></th>\n",
       "      <th>Dis Mag Value</th>\n",
       "      <th>Total Affected</th>\n",
       "      <th>Total Damages Adj</th>\n",
       "      <th>Total Deaths</th>\n",
       "    </tr>\n",
       "    <tr>\n",
       "      <th>Destruction Level</th>\n",
       "      <th></th>\n",
       "      <th></th>\n",
       "      <th></th>\n",
       "      <th></th>\n",
       "    </tr>\n",
       "  </thead>\n",
       "  <tbody>\n",
       "    <tr>\n",
       "      <th>1</th>\n",
       "      <td>0</td>\n",
       "      <td>600</td>\n",
       "      <td>0.0</td>\n",
       "      <td>3</td>\n",
       "    </tr>\n",
       "    <tr>\n",
       "      <th>2</th>\n",
       "      <td>0</td>\n",
       "      <td>22105</td>\n",
       "      <td>0.0</td>\n",
       "      <td>8</td>\n",
       "    </tr>\n",
       "    <tr>\n",
       "      <th>3</th>\n",
       "      <td>0</td>\n",
       "      <td>185608</td>\n",
       "      <td>470.0</td>\n",
       "      <td>21</td>\n",
       "    </tr>\n",
       "    <tr>\n",
       "      <th>4</th>\n",
       "      <td>0</td>\n",
       "      <td>1400000</td>\n",
       "      <td>69118.5</td>\n",
       "      <td>100</td>\n",
       "    </tr>\n",
       "  </tbody>\n",
       "</table>\n",
       "</div>"
      ],
      "text/plain": [
       "                   Dis Mag Value  Total Affected  Total Damages Adj  \\\n",
       "Destruction Level                                                     \n",
       "1                              0             600                0.0   \n",
       "2                              0           22105                0.0   \n",
       "3                              0          185608              470.0   \n",
       "4                              0         1400000            69118.5   \n",
       "\n",
       "                   Total Deaths  \n",
       "Destruction Level                \n",
       "1                             3  \n",
       "2                             8  \n",
       "3                            21  \n",
       "4                           100  "
      ]
     },
     "execution_count": 205,
     "metadata": {},
     "output_type": "execute_result"
    }
   ],
   "source": [
    "df_floodresult_pivot_table = pd.pivot_table(df_flood, index='Destruction Level', values=['Dis Mag Value', 'Total Deaths', 'Total Affected', 'Total Damages Adj'], aggfunc='median')\n",
    "df_floodresult_pivot_table"
   ]
  },
  {
   "cell_type": "markdown",
   "metadata": {},
   "source": [
    "# Reporte de Clasificación"
   ]
  },
  {
   "cell_type": "markdown",
   "metadata": {},
   "source": [
    "La precisión, la recuperación y la puntuación F1 son métricas de evaluación de uso común en modelos de aprendizaje automático, particularmente en tareas de clasificación. Estas métricas brindan información sobre el rendimiento del modelo y su capacidad para clasificar correctamente las instancias.\n",
    "\n",
    "* Precision: la precisión mide la proporción de instancias positivas pronosticadas correctamente (positivos verdaderos) de todas las instancias pronosticadas como positivas (positivos verdaderos + positivos falsos). En otras palabras, la precisión indica qué tan preciso o exacto es el modelo cuando predice una clase positiva. Una puntuación de alta precisión sugiere que el modelo tiene una baja tasa de falsos positivos.\n",
    "\n",
    "* Recall: la recuperación, también conocida como sensibilidad o tasa de verdaderos positivos, mide la proporción de instancias positivas pronosticadas correctamente (verdaderos positivos) de todas las instancias positivas reales (verdaderos positivos + falsos negativos). Representa la capacidad del modelo para identificar o capturar instancias positivas. Una puntuación de recuerdo alta sugiere que el modelo tiene una tasa baja de falsos negativos.\n",
    "\n",
    "* f1-score: La puntuación F1 es la media armónica de precisión y recuperación. Proporciona una medida equilibrada que considera simultáneamente la precisión y la recuperación. La puntuación F1 combina precisión y recuperación en una sola métrica y proporciona una evaluación más completa del rendimiento del modelo. Es especialmente útil cuando se trata de conjuntos de datos desequilibrados, donde la distribución de clases es desigual.\n",
    "\n",
    "Al interpretar estas métricas, es fundamental tener en cuenta los objetivos y requisitos específicos de la tarea de clasificación. Es deseable una puntuación de alta precisión cuando es crucial minimizar los falsos positivos. Por otro lado, una puntuación alta de recuerdo es deseable cuando la captura de tantos positivos verdaderos como sea posible es una prioridad. La puntuación F1 proporciona una vista equilibrada, teniendo en cuenta tanto la precisión como la recuperación.\n",
    "\n",
    "En resumen, la precisión, la recuperación y la puntuación F1 son métricas valiosas para evaluar el rendimiento de un modelo de clasificación, que brindan información sobre su precisión, capacidad para capturar instancias positivas y rendimiento general equilibrado."
   ]
  },
  {
   "cell_type": "code",
   "execution_count": null,
   "metadata": {},
   "outputs": [
    {
     "name": "stdout",
     "output_type": "stream",
     "text": [
      "Reporte de Clasificación:\n",
      "              precision    recall  f1-score   support\n",
      "\n",
      "           1       1.00      1.00      1.00       584\n",
      "           2       0.99      1.00      0.99       312\n",
      "           3       0.99      0.99      0.99       155\n",
      "           4       0.99      0.99      0.99       111\n",
      "\n",
      "    accuracy                           0.99      1162\n",
      "   macro avg       0.99      0.99      0.99      1162\n",
      "weighted avg       0.99      0.99      0.99      1162\n",
      "\n"
     ]
    }
   ],
   "source": [
    "report = classification_report(y_test, y_pred)\n",
    "print(\"Reporte de Clasificación:\")\n",
    "print(report)"
   ]
  },
  {
   "cell_type": "markdown",
   "metadata": {},
   "source": [
    "Resultados de 1er reporte de clasificación"
   ]
  },
  {
   "cell_type": "markdown",
   "metadata": {},
   "source": [
    "Reporte de Clasificación 1:\n",
    "              precision    recall  f1-score   support\n",
    "\n",
    "           1       1.00      0.99      1.00       584\n",
    "           2       0.98      1.00      0.99       312\n",
    "           3       0.99      0.99      0.99       155\n",
    "           4       1.00      0.99      1.00       111\n",
    "\n",
    "    accuracy                           0.99      1162\n",
    "   macro avg       0.99      0.99      0.99      1162\n",
    "weighted avg       0.99      0.99      0.99      1162"
   ]
  },
  {
   "cell_type": "markdown",
   "metadata": {},
   "source": [
    "Según el informe de clasificación, el modelo parece funcionar bien, logrando una alta precisión, recuperación y puntuación F1 para cada clase. La alta precisión sugiere que el modelo es capaz de predecir el 'Nivel de destrucción' con un alto grado de corrección. Sin embargo, es importante tener en cuenta que sería necesario un mayor análisis y consideración de otras métricas de evaluación, como la validación cruzada o la validación de datos no vistos, para obtener una evaluación integral del rendimiento del modelo."
   ]
  },
  {
   "cell_type": "markdown",
   "metadata": {},
   "source": [
    "#### Interpretación de primer Reporte de Clasificación con RandomForestClassifier:"
   ]
  },
  {
   "cell_type": "markdown",
   "metadata": {},
   "source": [
    "### Evaluación con mae, rmse y r2"
   ]
  },
  {
   "cell_type": "code",
   "execution_count": null,
   "metadata": {},
   "outputs": [
    {
     "name": "stdout",
     "output_type": "stream",
     "text": [
      "Mean Absolute Error (MAE): 0.006024096385542169\n",
      "Root Mean Squared Error (RMSE): 0.08800719732732863\n",
      "Coefficient of Determination (R^2): 0.9921474519014535\n"
     ]
    }
   ],
   "source": [
    "mae = mean_absolute_error(y_test, y_pred)\n",
    "rmse = mean_squared_error(y_test, y_pred, squared=False)\n",
    "r2 = r2_score(y_test, y_pred)\n",
    "\n",
    "print(\"Mean Absolute Error (MAE):\", mae)\n",
    "print(\"Root Mean Squared Error (RMSE):\", rmse)\n",
    "print(\"Coefficient of Determination (R^2):\", r2)"
   ]
  },
  {
   "cell_type": "markdown",
   "metadata": {},
   "source": [
    "#### Resultados de mae, rmse y r2\n",
    "* Los valores varían cada vez que se vuelve a cargar el notebook"
   ]
  },
  {
   "cell_type": "markdown",
   "metadata": {},
   "source": [
    "Mean Absolute Error (MAE): 0.006024096385542169\n",
    "+ El MAE representa la diferencia absoluta promedio entre los valores pronosticados y los valores reales. En este caso, la diferencia absoluta promedio es muy pequeña, lo que indica que las predicciones del modelo son, en promedio, muy cercanas a los valores reales.\n",
    "\n",
    "\n",
    "Error cuadrático medio (RMSE): 0.08800719732732863\n",
    "* El RMSE mide la desviación estándar de los residuos, que representa la distancia promedio entre los valores predichos y los valores reales. El valor RMSE de 0,0718 indica que, en promedio, los valores pronosticados están muy cerca de los valores reales.\n",
    "\n",
    "\n",
    "Coeficiente de Determinación (R^2): 0.9921474519014535\n",
    "\n",
    "* La puntuación R^2, también conocida como coeficiente de determinación, mide la proporción de varianza en la variable dependiente que puede ser explicada por las variables independientes. Un valor de 0,9947 indica que el modelo explica aproximadamente el 99,47% de la varianza de la variable objetivo. Esto sugiere que el modelo funciona muy bien al capturar los patrones y tendencias subyacentes en los datos."
   ]
  },
  {
   "cell_type": "markdown",
   "metadata": {},
   "source": [
    "El informe de clasificación proporciona métricas de evaluación para el modelo RandomForestClassifier.\n",
    "La precisión, el recuerdo (recall) y la puntuación F1 (f1-score) se informan para cada clase (1, 2, 3, 4), junto con el soporte (número de muestras) para cada clase.\n",
    "También se informa la precisión del modelo: 1, lo que indica la corrección general de las predicciones.\n",
    "Las métricas de macro avg o macropromedio y weighted avg o promedio ponderado proporcionan medidas de rendimiento agregadas en todas las clases."
   ]
  },
  {
   "cell_type": "markdown",
   "metadata": {},
   "source": [
    "# Conclusiones de la versión 1 o Test A"
   ]
  },
  {
   "cell_type": "markdown",
   "metadata": {},
   "source": [
    "## Sobre resultados del modelo y comparación con versión 2"
   ]
  },
  {
   "cell_type": "markdown",
   "metadata": {},
   "source": [
    "De acuerdo al reporte de clasificación, los resultados de la evaluación indican que el modelo RandomForestClassifier v1 tiene una alta precisión y funciona bien en la predicción del Nivel de Destrucción ('Destruction Level') en función de la mezcla de características dadas por Total Deaths, Total Affected, Total Damages Adj. Los valores pequeños de MAE y RMSE, así como la puntuación alta de R^2, demuestran la eficacia del modelo para capturar las relaciones entre las variables independientes y dependientes.\n",
    "\n",
    "Sin embargo, cabe recordar que en el test B o versión 2 se realizó un filtro previo para excluir los valores de 0 en columnas de Dis Mag Value, Total Deaths, Total Affected y Total Damages Adj, provocando que los resultados de densidad de los Niveles de Destrucción varíen mucho respecto a los del test A donde se conservaron valores íntegros, es decir, también se consideraron las filas con 0 que mostraban alguna relación o valor perteneciente a Filtro Flood.\n",
    "\n",
    "El test A o versión 1 se desempeña mejor que test B o versión 2 en los resultados, aunque la duda de si deben conservarse los valores totales persiste."
   ]
  },
  {
   "cell_type": "markdown",
   "metadata": {},
   "source": [
    "# Recomendaciones"
   ]
  },
  {
   "cell_type": "markdown",
   "metadata": {},
   "source": [
    "Para mejorar el modelo, hay que buscar una solución o fórmula más fiable para definir los umbrales de Tipo de Inundación o Nivel de Destrucción, previos a implementar cualquier modelo, ya que, de momento, los rangos son un tanto indiscriminados, aunque se apoyan en la distribución entre todas las columnas de impacto.\n",
    "\n",
    "Puede ser que este modelo esté siendo sesgado en cuanto al reparto de Tipos de Inundación, ya que está considerando los 0 en nivel 1, produciendo un incremento en el Nivel de Destrucción para este tipo.\n",
    "\n",
    "Aunque en el desempeño parezca que el Test A funciona mejor, es más confiable excluir los valores 0 previamente, aunque se reduzca la muestra considerablemente.\n",
    "\n",
    "Si el 'Valor Dis Mag' de 0 indica datos faltantes o desconocidos, podría ser mejor excluir esas filas de la predicción del modelo. Al hacerlo, se asegura de que el modelo haga predicciones solo en función de datos significativos y confiables. Incluir filas con valores faltantes o desconocidos en la predicción puede generar ruido y afectar potencialmente la precisión de las predicciones del modelo.\n",
    "\n",
    "Por otro lado, el modelo también podría estar aprendendiendo de datos disponibles de otras columnas donde sí hay valores relacionados al evento Flood (recordemos que se realizó un filtro previo específico) aunque en 'Dis Mag Value' aparezca 0, y hacer predicciones en consecuencia.\n",
    "\n",
    "En resumen, la decisión de filtrar filas de manera segmentada con 'Dis Mag Value' u otras columnas pretende abordar el reto específico de nuestro dataset que es la inconsistencia de los mismos, debido a que no son fenómenos que ocurran de una forma constante ni ordenada, sino más bien aleatoria y dependiente de otros factores con los que no contamos, incluyendo muchos que no se recolectaron."
   ]
  }
 ],
 "metadata": {
  "kernelspec": {
   "display_name": "Python 3",
   "language": "python",
   "name": "python3"
  },
  "language_info": {
   "codemirror_mode": {
    "name": "ipython",
    "version": 3
   },
   "file_extension": ".py",
   "mimetype": "text/x-python",
   "name": "python",
   "nbconvert_exporter": "python",
   "pygments_lexer": "ipython3",
   "version": "3.10.11"
  },
  "orig_nbformat": 4
 },
 "nbformat": 4,
 "nbformat_minor": 2
}

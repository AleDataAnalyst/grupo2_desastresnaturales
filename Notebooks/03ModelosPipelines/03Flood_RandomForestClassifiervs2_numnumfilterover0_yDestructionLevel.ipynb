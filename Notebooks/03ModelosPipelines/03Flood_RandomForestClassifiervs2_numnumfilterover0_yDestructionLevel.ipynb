{
 "cells": [
  {
   "cell_type": "markdown",
   "metadata": {},
   "source": [
    "# ML Pipeline de Operaciones en Flood para Predecir Destruction Level con RandomForestClassifier"
   ]
  },
  {
   "cell_type": "markdown",
   "metadata": {},
   "source": [
    "## Versión 2 o Test B\n",
    "Diferencia respecto a original: Este aplica filtro > 0 para excluir filas con valores 0 en 'Dis Mag Value', 'Total Deaths', 'Total Affected' y 'Total Damages Adj'"
   ]
  },
  {
   "cell_type": "markdown",
   "metadata": {},
   "source": [
    "## Objetivos"
   ]
  },
  {
   "cell_type": "markdown",
   "metadata": {},
   "source": [
    "### Predecir Destruction Level (y numérica) a partir de X con features numéricas.\n",
    "\n",
    "Agrupar múltiples operaciones en un mismo objeto:\n",
    "\n",
    "* Borrar columnas, imputar valores faltantes\n",
    "* Preprocessing: Umbrales y función estadística para determinar niveles de bajo a muy alto a imputar en columna categórica Flood Type.\n",
    "* OneHotEncoder para pasar de columna categórica Flood Type a numérica Destruction Level.\n",
    "* Pipeline:\n",
    "    + Imputar most_frequent a nulos con SimpleImputer\n",
    "    + Escalar características numéricas\n",
    "    + RandomForestClassifier\n",
    "* Modelado para predecir Destruction Level"
   ]
  },
  {
   "cell_type": "markdown",
   "metadata": {},
   "source": [
    "## Importar librerías"
   ]
  },
  {
   "cell_type": "code",
   "execution_count": 60,
   "metadata": {},
   "outputs": [],
   "source": [
    "import numpy as np\n",
    "import pandas as pd\n",
    "import matplotlib.pyplot as plt\n",
    "import seaborn as sns\n",
    "\n",
    "# Split X train y test\n",
    "from sklearn.model_selection import train_test_split\n",
    "\n",
    "# Modelos para validación cruzada con cross_val_score y cross_validate\n",
    "from sklearn.ensemble import RandomForestClassifier # Elegido\n",
    "from sklearn.linear_model import LinearRegression\n",
    "from sklearn import svm\n",
    "from sklearn.svm import SVR\n",
    "from sklearn.ensemble import GradientBoostingClassifier\n",
    "from sklearn.neural_network import MLPClassifier\n",
    "from sklearn.neighbors import KNeighborsClassifier\n",
    "from sklearn.tree import DecisionTreeClassifier\n",
    "\n",
    "# Modelos para validar por regresión\n",
    "from sklearn.ensemble import RandomForestRegressor\n",
    "from sklearn.linear_model import ElasticNet\n",
    "from sklearn.tree import DecisionTreeRegressor\n",
    "\n",
    "# Validación de modelos:\n",
    "from sklearn.model_selection import cross_val_score\n",
    "from sklearn.model_selection import cross_validate\n",
    "from sklearn.model_selection import StratifiedKFold\n",
    "from sklearn.model_selection import GridSearchCV\n",
    "\n",
    "# Calificación de modelos\n",
    "from sklearn.metrics import classification_report\n",
    "from sklearn.metrics import mean_squared_error, mean_absolute_error, r2_score\n",
    "from sklearn.metrics import make_scorer\n",
    "from sklearn.metrics import SCORERS\n",
    "\n",
    "# Para imputación categórica a numérica y predicción de columna numérica Destruction Level en Pipeline\n",
    "from sklearn.compose import ColumnTransformer\n",
    "from sklearn.preprocessing import MinMaxScaler, StandardScaler, OneHotEncoder\n",
    "\n",
    "from sklearn.impute import SimpleImputer\n",
    "from sklearn.neighbors import KNeighborsRegressor\n",
    "\n",
    "# Convertir columnas categóricas (Disaster Subtype, Origin, Associated Disaster) a numéricas para predecir Destruction Level Dis o Mag Value\n",
    "from sklearn.preprocessing import LabelEncoder\n",
    "from sklearn.cluster import KMeans\n",
    "\n",
    "# Pipeline\n",
    "from sklearn.pipeline import Pipeline\n",
    "import joblib # guardar pipeline"
   ]
  },
  {
   "cell_type": "markdown",
   "metadata": {},
   "source": [
    "## Cargar datos"
   ]
  },
  {
   "cell_type": "code",
   "execution_count": 61,
   "metadata": {},
   "outputs": [
    {
     "data": {
      "text/html": [
       "<div>\n",
       "<style scoped>\n",
       "    .dataframe tbody tr th:only-of-type {\n",
       "        vertical-align: middle;\n",
       "    }\n",
       "\n",
       "    .dataframe tbody tr th {\n",
       "        vertical-align: top;\n",
       "    }\n",
       "\n",
       "    .dataframe thead th {\n",
       "        text-align: right;\n",
       "    }\n",
       "</style>\n",
       "<table border=\"1\" class=\"dataframe\">\n",
       "  <thead>\n",
       "    <tr style=\"text-align: right;\">\n",
       "      <th></th>\n",
       "      <th>Dis No</th>\n",
       "      <th>Year</th>\n",
       "      <th>Seq</th>\n",
       "      <th>Disaster Subgroup</th>\n",
       "      <th>Disaster Type</th>\n",
       "      <th>Disaster Subtype</th>\n",
       "      <th>Country</th>\n",
       "      <th>ISO</th>\n",
       "      <th>Region</th>\n",
       "      <th>Continent</th>\n",
       "      <th>...</th>\n",
       "      <th>Longitude</th>\n",
       "      <th>Start Year</th>\n",
       "      <th>Start Month</th>\n",
       "      <th>Start Day</th>\n",
       "      <th>End Year</th>\n",
       "      <th>End Month</th>\n",
       "      <th>End Day</th>\n",
       "      <th>Total Deaths</th>\n",
       "      <th>Total Affected</th>\n",
       "      <th>Total Damages Adj</th>\n",
       "    </tr>\n",
       "  </thead>\n",
       "  <tbody>\n",
       "    <tr>\n",
       "      <th>0</th>\n",
       "      <td>1900-9002-CPV</td>\n",
       "      <td>1900</td>\n",
       "      <td>9002</td>\n",
       "      <td>Climatological</td>\n",
       "      <td>Drought</td>\n",
       "      <td>Drought</td>\n",
       "      <td>Cabo Verde</td>\n",
       "      <td>CPV</td>\n",
       "      <td>Western Africa</td>\n",
       "      <td>Africa</td>\n",
       "      <td>...</td>\n",
       "      <td>NaN</td>\n",
       "      <td>1900</td>\n",
       "      <td>0</td>\n",
       "      <td>0</td>\n",
       "      <td>1900</td>\n",
       "      <td>0</td>\n",
       "      <td>0</td>\n",
       "      <td>11000</td>\n",
       "      <td>0</td>\n",
       "      <td>0</td>\n",
       "    </tr>\n",
       "    <tr>\n",
       "      <th>1</th>\n",
       "      <td>1900-9001-IND</td>\n",
       "      <td>1900</td>\n",
       "      <td>9001</td>\n",
       "      <td>Climatological</td>\n",
       "      <td>Drought</td>\n",
       "      <td>Drought</td>\n",
       "      <td>India</td>\n",
       "      <td>IND</td>\n",
       "      <td>Southern Asia</td>\n",
       "      <td>Asia</td>\n",
       "      <td>...</td>\n",
       "      <td>NaN</td>\n",
       "      <td>1900</td>\n",
       "      <td>0</td>\n",
       "      <td>0</td>\n",
       "      <td>1900</td>\n",
       "      <td>0</td>\n",
       "      <td>0</td>\n",
       "      <td>1250000</td>\n",
       "      <td>0</td>\n",
       "      <td>0</td>\n",
       "    </tr>\n",
       "    <tr>\n",
       "      <th>2</th>\n",
       "      <td>1902-0012-GTM</td>\n",
       "      <td>1902</td>\n",
       "      <td>12</td>\n",
       "      <td>Geophysical</td>\n",
       "      <td>Earthquake</td>\n",
       "      <td>Ground movement</td>\n",
       "      <td>Guatemala</td>\n",
       "      <td>GTM</td>\n",
       "      <td>Central America</td>\n",
       "      <td>Americas</td>\n",
       "      <td>...</td>\n",
       "      <td>-91</td>\n",
       "      <td>1902</td>\n",
       "      <td>4</td>\n",
       "      <td>18</td>\n",
       "      <td>1902</td>\n",
       "      <td>4</td>\n",
       "      <td>18</td>\n",
       "      <td>2000</td>\n",
       "      <td>0</td>\n",
       "      <td>843726</td>\n",
       "    </tr>\n",
       "    <tr>\n",
       "      <th>3</th>\n",
       "      <td>1902-0003-GTM</td>\n",
       "      <td>1902</td>\n",
       "      <td>3</td>\n",
       "      <td>Geophysical</td>\n",
       "      <td>Volcanic activity</td>\n",
       "      <td>Ash fall</td>\n",
       "      <td>Guatemala</td>\n",
       "      <td>GTM</td>\n",
       "      <td>Central America</td>\n",
       "      <td>Americas</td>\n",
       "      <td>...</td>\n",
       "      <td>NaN</td>\n",
       "      <td>1902</td>\n",
       "      <td>4</td>\n",
       "      <td>8</td>\n",
       "      <td>1902</td>\n",
       "      <td>4</td>\n",
       "      <td>8</td>\n",
       "      <td>1000</td>\n",
       "      <td>0</td>\n",
       "      <td>0</td>\n",
       "    </tr>\n",
       "    <tr>\n",
       "      <th>4</th>\n",
       "      <td>1902-0010-GTM</td>\n",
       "      <td>1902</td>\n",
       "      <td>10</td>\n",
       "      <td>Geophysical</td>\n",
       "      <td>Volcanic activity</td>\n",
       "      <td>Ash fall</td>\n",
       "      <td>Guatemala</td>\n",
       "      <td>GTM</td>\n",
       "      <td>Central America</td>\n",
       "      <td>Americas</td>\n",
       "      <td>...</td>\n",
       "      <td>NaN</td>\n",
       "      <td>1902</td>\n",
       "      <td>10</td>\n",
       "      <td>24</td>\n",
       "      <td>1902</td>\n",
       "      <td>10</td>\n",
       "      <td>24</td>\n",
       "      <td>6000</td>\n",
       "      <td>0</td>\n",
       "      <td>0</td>\n",
       "    </tr>\n",
       "    <tr>\n",
       "      <th>5</th>\n",
       "      <td>1903-0006-CAN</td>\n",
       "      <td>1903</td>\n",
       "      <td>6</td>\n",
       "      <td>Geophysical</td>\n",
       "      <td>Mass movement (dry)</td>\n",
       "      <td>Rockfall</td>\n",
       "      <td>Canada</td>\n",
       "      <td>CAN</td>\n",
       "      <td>Northern America</td>\n",
       "      <td>Americas</td>\n",
       "      <td>...</td>\n",
       "      <td>NaN</td>\n",
       "      <td>1903</td>\n",
       "      <td>4</td>\n",
       "      <td>29</td>\n",
       "      <td>1903</td>\n",
       "      <td>4</td>\n",
       "      <td>29</td>\n",
       "      <td>76</td>\n",
       "      <td>23</td>\n",
       "      <td>0</td>\n",
       "    </tr>\n",
       "    <tr>\n",
       "      <th>6</th>\n",
       "      <td>1903-0012-COM</td>\n",
       "      <td>1903</td>\n",
       "      <td>12</td>\n",
       "      <td>Geophysical</td>\n",
       "      <td>Volcanic activity</td>\n",
       "      <td>Ash fall</td>\n",
       "      <td>Comoros (the)</td>\n",
       "      <td>COM</td>\n",
       "      <td>Eastern Africa</td>\n",
       "      <td>Africa</td>\n",
       "      <td>...</td>\n",
       "      <td>NaN</td>\n",
       "      <td>1903</td>\n",
       "      <td>0</td>\n",
       "      <td>0</td>\n",
       "      <td>1903</td>\n",
       "      <td>0</td>\n",
       "      <td>0</td>\n",
       "      <td>17</td>\n",
       "      <td>0</td>\n",
       "      <td>0</td>\n",
       "    </tr>\n",
       "    <tr>\n",
       "      <th>7</th>\n",
       "      <td>1904-0003-BGD</td>\n",
       "      <td>1904</td>\n",
       "      <td>3</td>\n",
       "      <td>Meteorological</td>\n",
       "      <td>Storm</td>\n",
       "      <td>Tropical cyclone</td>\n",
       "      <td>Bangladesh</td>\n",
       "      <td>BGD</td>\n",
       "      <td>Southern Asia</td>\n",
       "      <td>Asia</td>\n",
       "      <td>...</td>\n",
       "      <td>NaN</td>\n",
       "      <td>1904</td>\n",
       "      <td>11</td>\n",
       "      <td>0</td>\n",
       "      <td>1904</td>\n",
       "      <td>11</td>\n",
       "      <td>0</td>\n",
       "      <td>0</td>\n",
       "      <td>0</td>\n",
       "      <td>0</td>\n",
       "    </tr>\n",
       "    <tr>\n",
       "      <th>8</th>\n",
       "      <td>1905-0005-CAN</td>\n",
       "      <td>1905</td>\n",
       "      <td>5</td>\n",
       "      <td>Geophysical</td>\n",
       "      <td>Mass movement (dry)</td>\n",
       "      <td>Rockfall</td>\n",
       "      <td>Canada</td>\n",
       "      <td>CAN</td>\n",
       "      <td>Northern America</td>\n",
       "      <td>Americas</td>\n",
       "      <td>...</td>\n",
       "      <td>NaN</td>\n",
       "      <td>1905</td>\n",
       "      <td>8</td>\n",
       "      <td>13</td>\n",
       "      <td>1905</td>\n",
       "      <td>8</td>\n",
       "      <td>13</td>\n",
       "      <td>18</td>\n",
       "      <td>18</td>\n",
       "      <td>0</td>\n",
       "    </tr>\n",
       "    <tr>\n",
       "      <th>9</th>\n",
       "      <td>1905-0003-IND</td>\n",
       "      <td>1905</td>\n",
       "      <td>3</td>\n",
       "      <td>Geophysical</td>\n",
       "      <td>Earthquake</td>\n",
       "      <td>Ground movement</td>\n",
       "      <td>India</td>\n",
       "      <td>IND</td>\n",
       "      <td>Southern Asia</td>\n",
       "      <td>Asia</td>\n",
       "      <td>...</td>\n",
       "      <td>76.16</td>\n",
       "      <td>1905</td>\n",
       "      <td>4</td>\n",
       "      <td>4</td>\n",
       "      <td>1905</td>\n",
       "      <td>4</td>\n",
       "      <td>4</td>\n",
       "      <td>20000</td>\n",
       "      <td>0</td>\n",
       "      <td>812477</td>\n",
       "    </tr>\n",
       "  </tbody>\n",
       "</table>\n",
       "<p>10 rows × 26 columns</p>\n",
       "</div>"
      ],
      "text/plain": [
       "          Dis No  Year   Seq Disaster Subgroup        Disaster Type  \\\n",
       "0  1900-9002-CPV  1900  9002    Climatological              Drought   \n",
       "1  1900-9001-IND  1900  9001    Climatological              Drought   \n",
       "2  1902-0012-GTM  1902    12       Geophysical           Earthquake   \n",
       "3  1902-0003-GTM  1902     3       Geophysical    Volcanic activity   \n",
       "4  1902-0010-GTM  1902    10       Geophysical    Volcanic activity   \n",
       "5  1903-0006-CAN  1903     6       Geophysical  Mass movement (dry)   \n",
       "6  1903-0012-COM  1903    12       Geophysical    Volcanic activity   \n",
       "7  1904-0003-BGD  1904     3    Meteorological                Storm   \n",
       "8  1905-0005-CAN  1905     5       Geophysical  Mass movement (dry)   \n",
       "9  1905-0003-IND  1905     3       Geophysical           Earthquake   \n",
       "\n",
       "   Disaster Subtype        Country  ISO            Region Continent  ...  \\\n",
       "0           Drought     Cabo Verde  CPV    Western Africa    Africa  ...   \n",
       "1           Drought          India  IND     Southern Asia      Asia  ...   \n",
       "2   Ground movement      Guatemala  GTM   Central America  Americas  ...   \n",
       "3          Ash fall      Guatemala  GTM   Central America  Americas  ...   \n",
       "4          Ash fall      Guatemala  GTM   Central America  Americas  ...   \n",
       "5          Rockfall         Canada  CAN  Northern America  Americas  ...   \n",
       "6          Ash fall  Comoros (the)  COM    Eastern Africa    Africa  ...   \n",
       "7  Tropical cyclone     Bangladesh  BGD     Southern Asia      Asia  ...   \n",
       "8          Rockfall         Canada  CAN  Northern America  Americas  ...   \n",
       "9   Ground movement          India  IND     Southern Asia      Asia  ...   \n",
       "\n",
       "  Longitude Start Year Start Month  Start Day End Year End Month End Day  \\\n",
       "0       NaN       1900           0          0     1900         0       0   \n",
       "1       NaN       1900           0          0     1900         0       0   \n",
       "2       -91       1902           4         18     1902         4      18   \n",
       "3       NaN       1902           4          8     1902         4       8   \n",
       "4       NaN       1902          10         24     1902        10      24   \n",
       "5       NaN       1903           4         29     1903         4      29   \n",
       "6       NaN       1903           0          0     1903         0       0   \n",
       "7       NaN       1904          11          0     1904        11       0   \n",
       "8       NaN       1905           8         13     1905         8      13   \n",
       "9     76.16       1905           4          4     1905         4       4   \n",
       "\n",
       "   Total Deaths  Total Affected  Total Damages Adj  \n",
       "0         11000               0                  0  \n",
       "1       1250000               0                  0  \n",
       "2          2000               0             843726  \n",
       "3          1000               0                  0  \n",
       "4          6000               0                  0  \n",
       "5            76              23                  0  \n",
       "6            17               0                  0  \n",
       "7             0               0                  0  \n",
       "8            18              18                  0  \n",
       "9         20000               0             812477  \n",
       "\n",
       "[10 rows x 26 columns]"
      ]
     },
     "execution_count": 61,
     "metadata": {},
     "output_type": "execute_result"
    }
   ],
   "source": [
    "df = pd.read_csv('../../Data/03Limpio/03desastreslimpio.csv')\n",
    "df.head(10)"
   ]
  },
  {
   "cell_type": "markdown",
   "metadata": {},
   "source": [
    "## Comprobación Básica df"
   ]
  },
  {
   "cell_type": "code",
   "execution_count": 62,
   "metadata": {},
   "outputs": [
    {
     "data": {
      "text/plain": [
       "(16636, 26)"
      ]
     },
     "execution_count": 62,
     "metadata": {},
     "output_type": "execute_result"
    }
   ],
   "source": [
    "df.shape"
   ]
  },
  {
   "cell_type": "code",
   "execution_count": 63,
   "metadata": {},
   "outputs": [
    {
     "name": "stdout",
     "output_type": "stream",
     "text": [
      "<class 'pandas.core.frame.DataFrame'>\n",
      "RangeIndex: 16636 entries, 0 to 16635\n",
      "Data columns (total 26 columns):\n",
      " #   Column             Non-Null Count  Dtype \n",
      "---  ------             --------------  ----- \n",
      " 0   Dis No             16636 non-null  object\n",
      " 1   Year               16636 non-null  int64 \n",
      " 2   Seq                16636 non-null  int64 \n",
      " 3   Disaster Subgroup  16636 non-null  object\n",
      " 4   Disaster Type      16636 non-null  object\n",
      " 5   Disaster Subtype   13313 non-null  object\n",
      " 6   Country            16636 non-null  object\n",
      " 7   ISO                16636 non-null  object\n",
      " 8   Region             16636 non-null  object\n",
      " 9   Continent          16636 non-null  object\n",
      " 10  Location           14825 non-null  object\n",
      " 11  Origin             4085 non-null   object\n",
      " 12  Associated Dis     3593 non-null   object\n",
      " 13  Dis Mag Value      16636 non-null  int64 \n",
      " 14  Dis Mag Scale      15416 non-null  object\n",
      " 15  Latitude           2775 non-null   object\n",
      " 16  Longitude          2775 non-null   object\n",
      " 17  Start Year         16636 non-null  int64 \n",
      " 18  Start Month        16636 non-null  int64 \n",
      " 19  Start Day          16636 non-null  int64 \n",
      " 20  End Year           16636 non-null  int64 \n",
      " 21  End Month          16636 non-null  int64 \n",
      " 22  End Day            16636 non-null  int64 \n",
      " 23  Total Deaths       16636 non-null  int64 \n",
      " 24  Total Affected     16636 non-null  int64 \n",
      " 25  Total Damages Adj  16636 non-null  int64 \n",
      "dtypes: int64(12), object(14)\n",
      "memory usage: 3.3+ MB\n"
     ]
    }
   ],
   "source": [
    "df.info()"
   ]
  },
  {
   "cell_type": "code",
   "execution_count": 64,
   "metadata": {},
   "outputs": [
    {
     "data": {
      "text/plain": [
       "Index(['Dis No', 'Year', 'Seq', 'Disaster Subgroup', 'Disaster Type',\n",
       "       'Disaster Subtype', 'Country', 'ISO', 'Region', 'Continent', 'Location',\n",
       "       'Origin', 'Associated Dis', 'Dis Mag Value', 'Dis Mag Scale',\n",
       "       'Latitude', 'Longitude', 'Start Year', 'Start Month', 'Start Day',\n",
       "       'End Year', 'End Month', 'End Day', 'Total Deaths', 'Total Affected',\n",
       "       'Total Damages Adj'],\n",
       "      dtype='object')"
      ]
     },
     "execution_count": 64,
     "metadata": {},
     "output_type": "execute_result"
    }
   ],
   "source": [
    "df.columns"
   ]
  },
  {
   "cell_type": "code",
   "execution_count": 65,
   "metadata": {},
   "outputs": [
    {
     "name": "stdout",
     "output_type": "stream",
     "text": [
      "Dis No                   0\n",
      "Year                     0\n",
      "Seq                      0\n",
      "Disaster Subgroup        0\n",
      "Disaster Type            0\n",
      "Disaster Subtype      3323\n",
      "Country                  0\n",
      "ISO                      0\n",
      "Region                   0\n",
      "Continent                0\n",
      "Location              1811\n",
      "Origin               12551\n",
      "Associated Dis       13043\n",
      "Dis Mag Value            0\n",
      "Dis Mag Scale         1220\n",
      "Latitude             13861\n",
      "Longitude            13861\n",
      "Start Year               0\n",
      "Start Month              0\n",
      "Start Day                0\n",
      "End Year                 0\n",
      "End Month                0\n",
      "End Day                  0\n",
      "Total Deaths             0\n",
      "Total Affected           0\n",
      "Total Damages Adj        0\n",
      "dtype: int64\n",
      "Dis No                   0\n",
      "Year                     0\n",
      "Seq                      0\n",
      "Disaster Subgroup        0\n",
      "Disaster Type            0\n",
      "Disaster Subtype      3323\n",
      "Country                  0\n",
      "ISO                      0\n",
      "Region                   0\n",
      "Continent                0\n",
      "Location              1811\n",
      "Origin               12551\n",
      "Associated Dis       13043\n",
      "Dis Mag Value            0\n",
      "Dis Mag Scale         1220\n",
      "Latitude             13861\n",
      "Longitude            13861\n",
      "Start Year               0\n",
      "Start Month              0\n",
      "Start Day                0\n",
      "End Year                 0\n",
      "End Month                0\n",
      "End Day                  0\n",
      "Total Deaths             0\n",
      "Total Affected           0\n",
      "Total Damages Adj        0\n",
      "dtype: int64\n"
     ]
    }
   ],
   "source": [
    "print(df.isnull().sum())\n",
    "print(df.isna().sum())"
   ]
  },
  {
   "cell_type": "markdown",
   "metadata": {},
   "source": [
    "# Preparación de dataset"
   ]
  },
  {
   "cell_type": "markdown",
   "metadata": {},
   "source": [
    "### Filtro Flood"
   ]
  },
  {
   "cell_type": "code",
   "execution_count": 66,
   "metadata": {},
   "outputs": [],
   "source": [
    "# Filtro principal para Flood\n",
    "df_flood = df[df['Disaster Type'] == 'Flood']"
   ]
  },
  {
   "cell_type": "markdown",
   "metadata": {},
   "source": [
    "### Limpieza"
   ]
  },
  {
   "cell_type": "markdown",
   "metadata": {},
   "source": [
    "#### Borrar columnas"
   ]
  },
  {
   "cell_type": "code",
   "execution_count": 67,
   "metadata": {},
   "outputs": [
    {
     "name": "stderr",
     "output_type": "stream",
     "text": [
      "C:\\Users\\AleEng\\AppData\\Local\\Temp\\ipykernel_14540\\2601801454.py:1: SettingWithCopyWarning: \n",
      "A value is trying to be set on a copy of a slice from a DataFrame\n",
      "\n",
      "See the caveats in the documentation: https://pandas.pydata.org/pandas-docs/stable/user_guide/indexing.html#returning-a-view-versus-a-copy\n",
      "  df_flood.drop(columns=['Dis No', 'Year', 'Seq', 'Disaster Subgroup', 'Latitude', 'Longitude', 'ISO'], inplace=True)\n"
     ]
    }
   ],
   "source": [
    "df_flood.drop(columns=['Dis No', 'Year', 'Seq', 'Disaster Subgroup', 'Latitude', 'Longitude', 'ISO'], inplace=True)"
   ]
  },
  {
   "cell_type": "code",
   "execution_count": 68,
   "metadata": {},
   "outputs": [
    {
     "data": {
      "text/html": [
       "<div>\n",
       "<style scoped>\n",
       "    .dataframe tbody tr th:only-of-type {\n",
       "        vertical-align: middle;\n",
       "    }\n",
       "\n",
       "    .dataframe tbody tr th {\n",
       "        vertical-align: top;\n",
       "    }\n",
       "\n",
       "    .dataframe thead th {\n",
       "        text-align: right;\n",
       "    }\n",
       "</style>\n",
       "<table border=\"1\" class=\"dataframe\">\n",
       "  <thead>\n",
       "    <tr style=\"text-align: right;\">\n",
       "      <th></th>\n",
       "      <th>Disaster Type</th>\n",
       "      <th>Disaster Subtype</th>\n",
       "      <th>Country</th>\n",
       "      <th>Region</th>\n",
       "      <th>Continent</th>\n",
       "      <th>Location</th>\n",
       "      <th>Origin</th>\n",
       "      <th>Associated Dis</th>\n",
       "      <th>Dis Mag Value</th>\n",
       "      <th>Dis Mag Scale</th>\n",
       "      <th>Start Year</th>\n",
       "      <th>Start Month</th>\n",
       "      <th>Start Day</th>\n",
       "      <th>End Year</th>\n",
       "      <th>End Month</th>\n",
       "      <th>End Day</th>\n",
       "      <th>Total Deaths</th>\n",
       "      <th>Total Affected</th>\n",
       "      <th>Total Damages Adj</th>\n",
       "    </tr>\n",
       "  </thead>\n",
       "  <tbody>\n",
       "    <tr>\n",
       "      <th>12</th>\n",
       "      <td>Flood</td>\n",
       "      <td>NaN</td>\n",
       "      <td>Belgium</td>\n",
       "      <td>Western Europe</td>\n",
       "      <td>Europe</td>\n",
       "      <td>Louvain region</td>\n",
       "      <td>NaN</td>\n",
       "      <td>NaN</td>\n",
       "      <td>0</td>\n",
       "      <td>Km2</td>\n",
       "      <td>1906</td>\n",
       "      <td>5</td>\n",
       "      <td>14</td>\n",
       "      <td>1906</td>\n",
       "      <td>5</td>\n",
       "      <td>14</td>\n",
       "      <td>6</td>\n",
       "      <td>0</td>\n",
       "      <td>0</td>\n",
       "    </tr>\n",
       "    <tr>\n",
       "      <th>13</th>\n",
       "      <td>Flood</td>\n",
       "      <td>NaN</td>\n",
       "      <td>Belgium</td>\n",
       "      <td>Western Europe</td>\n",
       "      <td>Europe</td>\n",
       "      <td>NaN</td>\n",
       "      <td>NaN</td>\n",
       "      <td>NaN</td>\n",
       "      <td>0</td>\n",
       "      <td>Km2</td>\n",
       "      <td>1906</td>\n",
       "      <td>4</td>\n",
       "      <td>0</td>\n",
       "      <td>1906</td>\n",
       "      <td>4</td>\n",
       "      <td>0</td>\n",
       "      <td>0</td>\n",
       "      <td>0</td>\n",
       "      <td>0</td>\n",
       "    </tr>\n",
       "  </tbody>\n",
       "</table>\n",
       "</div>"
      ],
      "text/plain": [
       "   Disaster Type Disaster Subtype  Country          Region Continent  \\\n",
       "12         Flood              NaN  Belgium  Western Europe    Europe   \n",
       "13         Flood              NaN  Belgium  Western Europe    Europe   \n",
       "\n",
       "          Location Origin Associated Dis  Dis Mag Value Dis Mag Scale  \\\n",
       "12  Louvain region    NaN            NaN              0           Km2   \n",
       "13             NaN    NaN            NaN              0           Km2   \n",
       "\n",
       "    Start Year  Start Month  Start Day  End Year  End Month  End Day  \\\n",
       "12        1906            5         14      1906          5       14   \n",
       "13        1906            4          0      1906          4        0   \n",
       "\n",
       "    Total Deaths  Total Affected  Total Damages Adj  \n",
       "12             6               0                  0  \n",
       "13             0               0                  0  "
      ]
     },
     "execution_count": 68,
     "metadata": {},
     "output_type": "execute_result"
    }
   ],
   "source": [
    "df_flood.head(2)"
   ]
  },
  {
   "cell_type": "markdown",
   "metadata": {},
   "source": [
    "### Valores faltantes"
   ]
  },
  {
   "cell_type": "code",
   "execution_count": 69,
   "metadata": {},
   "outputs": [],
   "source": [
    "# # Rellenar valores faltantes y nulls con 0, después, borrar filas con valores faltantes\n",
    "# df_flood = df_flood.copy()\n",
    "# df_flood.fillna(0, inplace=True)"
   ]
  },
  {
   "cell_type": "markdown",
   "metadata": {},
   "source": [
    "## Preprocessing"
   ]
  },
  {
   "cell_type": "markdown",
   "metadata": {},
   "source": [
    "## Preprocessing 1: crear columna categórica Flood Type y codificar columna numérica Destruction Level con OneHotEncoder para predecir y"
   ]
  },
  {
   "cell_type": "markdown",
   "metadata": {},
   "source": [
    "### Filtro para excluir filas con valores 0 en 'Dis Mag Value', 'Total Deaths', 'Total Affected' y 'Total Damages Adj'"
   ]
  },
  {
   "cell_type": "code",
   "execution_count": 70,
   "metadata": {},
   "outputs": [],
   "source": [
    "df_flood = df[(df['Dis Mag Value'] > 0) & \n",
    "                 (df['Total Deaths'] > 0) & \n",
    "                 (df['Total Affected'] > 0) & \n",
    "                 (df['Total Damages Adj'] > 0)]"
   ]
  },
  {
   "cell_type": "code",
   "execution_count": 71,
   "metadata": {},
   "outputs": [
    {
     "data": {
      "text/plain": [
       "1"
      ]
     },
     "execution_count": 71,
     "metadata": {},
     "output_type": "execute_result"
    }
   ],
   "source": [
    "df_flood['Dis Mag Value'].min()"
   ]
  },
  {
   "cell_type": "code",
   "execution_count": 72,
   "metadata": {},
   "outputs": [
    {
     "data": {
      "text/plain": [
       "(1727, 26)"
      ]
     },
     "execution_count": 72,
     "metadata": {},
     "output_type": "execute_result"
    }
   ],
   "source": [
    "df_flood.shape"
   ]
  },
  {
   "cell_type": "markdown",
   "metadata": {},
   "source": [
    "### Condiciones estadísticas para determinar umbrales de clasificación para Tipo de Inundación y su Nivel de Destrucción"
   ]
  },
  {
   "cell_type": "code",
   "execution_count": 73,
   "metadata": {},
   "outputs": [],
   "source": [
    "min_dis_mag = df_flood['Dis Mag Value'].loc[df_flood['Dis Mag Value'].gt(0)].min()\n",
    "max_dis_mag = df_flood['Dis Mag Value'].loc[df_flood['Dis Mag Value'].gt(0)].max()\n",
    "std_dis_mag = df_flood['Dis Mag Value'].loc[df_flood['Dis Mag Value'].gt(0)].std()\n",
    "mean_dis_mag = df_flood['Dis Mag Value'].loc[df_flood['Dis Mag Value'].gt(0)].mean()\n",
    "median_dis_mag = df_flood['Dis Mag Value'].loc[df_flood['Dis Mag Value'].gt(0)].median()\n",
    "\n",
    "min_tot_deaths = df_flood['Total Deaths'].loc[df_flood['Total Deaths'].gt(0)].min()\n",
    "max_tot_deaths = df_flood['Total Deaths'].loc[df_flood['Total Deaths'].gt(0)].max()\n",
    "std_tot_deaths = df_flood['Total Deaths'].loc[df_flood['Total Deaths'].gt(0)].std()\n",
    "mean_tot_deaths = df_flood['Total Deaths'].loc[df_flood['Total Deaths'].gt(0)].mean()\n",
    "median_tot_deaths = df_flood['Total Deaths'].loc[df_flood['Total Deaths'].gt(0)].median()\n",
    "\n",
    "min_tot_affect = df_flood['Total Affected'].loc[df_flood['Total Affected'].gt(0)].min()\n",
    "max_tot_affect = df_flood['Total Affected'].loc[df_flood['Total Affected'].gt(0)].max()\n",
    "std_tot_affect = df_flood['Total Affected'].loc[df_flood['Total Affected'].gt(0)].std()\n",
    "mean_tot_affect = df_flood['Total Affected'].loc[df_flood['Total Affected'].gt(0)].mean()\n",
    "median_tot_affect = df_flood['Total Affected'].loc[df_flood['Total Affected'].gt(0)].median()\n",
    "\n",
    "min_tot_damages = df_flood['Total Damages Adj'].loc[df_flood['Total Damages Adj'].gt(0)].min()\n",
    "max_tot_damages = df_flood['Total Damages Adj'].loc[df_flood['Total Damages Adj'].gt(0)].max()\n",
    "std_tot_damages = df_flood['Total Damages Adj'].loc[df_flood['Total Damages Adj'].gt(0)].std()\n",
    "mean_tot_damages = df_flood['Total Damages Adj'].loc[df_flood['Total Damages Adj'].gt(0)].mean()\n",
    "median_tot_damages = df_flood['Total Damages Adj'].loc[df_flood['Total Damages Adj'].gt(0)].median()"
   ]
  },
  {
   "cell_type": "code",
   "execution_count": 74,
   "metadata": {},
   "outputs": [
    {
     "name": "stdout",
     "output_type": "stream",
     "text": [
      "1\n",
      "2857000\n",
      "173961.97483786722\n",
      "47611.13607411696\n",
      "210.0\n",
      "1\n",
      "242000\n",
      "11460.354803714767\n",
      "1235.348002316155\n",
      "23.0\n",
      "2\n",
      "238973000\n",
      "9656036.828331122\n",
      "1480856.2733063116\n",
      "36900.0\n",
      "2\n",
      "273218373\n",
      "11529641.319038434\n",
      "2140629.5645628255\n",
      "146323.0\n"
     ]
    }
   ],
   "source": [
    "print(df_flood['Dis Mag Value'].loc[df_flood['Dis Mag Value'].gt(0)].min())\n",
    "print(df_flood['Dis Mag Value'].loc[df_flood['Dis Mag Value'].gt(0)].max())\n",
    "print(df_flood['Dis Mag Value'].loc[df_flood['Dis Mag Value'].gt(0)].std())\n",
    "print(df_flood['Dis Mag Value'].loc[df_flood['Dis Mag Value'].gt(0)].mean())\n",
    "print(df_flood['Dis Mag Value'].loc[df_flood['Dis Mag Value'].gt(0)].median())\n",
    "\n",
    "print(df_flood['Total Deaths'].loc[df_flood['Total Deaths'].gt(0)].min())\n",
    "print(df_flood['Total Deaths'].loc[df_flood['Total Deaths'].gt(0)].max())\n",
    "print(df_flood['Total Deaths'].loc[df_flood['Total Deaths'].gt(0)].std())\n",
    "print(df_flood['Total Deaths'].loc[df_flood['Total Deaths'].gt(0)].mean())\n",
    "print(df_flood['Total Deaths'].loc[df_flood['Total Deaths'].gt(0)].median())\n",
    "\n",
    "print(df_flood['Total Affected'].loc[df_flood['Total Affected'].gt(0)].min())\n",
    "print(df_flood['Total Affected'].loc[df_flood['Total Affected'].gt(0)].max())\n",
    "print(df_flood['Total Affected'].loc[df_flood['Total Affected'].gt(0)].std())\n",
    "print(df_flood['Total Affected'].loc[df_flood['Total Affected'].gt(0)].mean())\n",
    "print(df_flood['Total Affected'].loc[df_flood['Total Affected'].gt(0)].median())\n",
    "\n",
    "print(df_flood['Total Damages Adj'].loc[df_flood['Total Damages Adj'].gt(0)].min())\n",
    "print(df_flood['Total Damages Adj'].loc[df_flood['Total Damages Adj'].gt(0)].max())\n",
    "print(df_flood['Total Damages Adj'].loc[df_flood['Total Damages Adj'].gt(0)].std())\n",
    "print(df_flood['Total Damages Adj'].loc[df_flood['Total Damages Adj'].gt(0)].mean())\n",
    "print(df_flood['Total Damages Adj'].loc[df_flood['Total Damages Adj'].gt(0)].median())"
   ]
  },
  {
   "cell_type": "markdown",
   "metadata": {},
   "source": [
    "### Tipos de umbrales de peligrosidad de inundación"
   ]
  },
  {
   "cell_type": "code",
   "execution_count": 75,
   "metadata": {},
   "outputs": [],
   "source": [
    "type1_threshold = min_dis_mag + std_dis_mag\n",
    "type2_threshold = min_dis_mag + (2 * std_dis_mag)\n",
    "type3_threshold = max_dis_mag - std_dis_mag"
   ]
  },
  {
   "cell_type": "markdown",
   "metadata": {},
   "source": [
    "### Función para crear columna categórica de nivel de impacto: Flood Type"
   ]
  },
  {
   "cell_type": "code",
   "execution_count": 76,
   "metadata": {},
   "outputs": [],
   "source": [
    "# def assign_flood_type(row):\n",
    "#     dis_mag_value = row['Dis Mag Value']\n",
    "#     total_deaths = row['Total Deaths']\n",
    "#     total_affected = row['Total Affected']\n",
    "#     total_damages = row['Total Damages Adj']\n",
    "    \n",
    "#     if dis_mag_value == 0:\n",
    "#         return 'No Impact'\n",
    "#     elif dis_mag_value < type1_threshold and total_deaths < 100 and total_affected < 10000 and total_damages < 1000000:\n",
    "#         return 'Low' # 1\n",
    "#     elif dis_mag_value < type2_threshold and total_deaths < 500 and total_affected < 100000 and total_damages < 10000000:\n",
    "#         return 'Moderate' # 2\n",
    "#     elif dis_mag_value < type3_threshold and total_deaths < 1000 and total_affected < 500000 and total_damages < 100000000:\n",
    "#         return 'High' # 3\n",
    "#     else:\n",
    "#         return 'Very High' # 4"
   ]
  },
  {
   "cell_type": "code",
   "execution_count": 77,
   "metadata": {},
   "outputs": [],
   "source": [
    "# Función previa que no considera valores nulos\n",
    "def assign_flood_type(row):\n",
    "    if row['Dis Mag Value'] < type1_threshold and row['Total Deaths'] < 100 and row['Total Affected'] < 10000 and row['Total Damages Adj'] < 1000000:\n",
    "        return 'Low' # 1\n",
    "    elif row['Dis Mag Value'] < type2_threshold and row['Total Deaths'] < 500 and row['Total Affected'] < 100000 and row['Total Damages Adj'] < 10000000:\n",
    "        return 'Moderate' # 2\n",
    "    elif row['Dis Mag Value'] < type3_threshold and row['Total Deaths'] < 1000 and row['Total Affected'] < 500000 and row['Total Damages Adj'] < 100000000:\n",
    "        return 'High' # 3\n",
    "    else:\n",
    "        return 'Very High' # 4"
   ]
  },
  {
   "cell_type": "code",
   "execution_count": 78,
   "metadata": {},
   "outputs": [
    {
     "name": "stderr",
     "output_type": "stream",
     "text": [
      "C:\\Users\\AleEng\\AppData\\Local\\Temp\\ipykernel_14540\\3488395721.py:1: SettingWithCopyWarning: \n",
      "A value is trying to be set on a copy of a slice from a DataFrame.\n",
      "Try using .loc[row_indexer,col_indexer] = value instead\n",
      "\n",
      "See the caveats in the documentation: https://pandas.pydata.org/pandas-docs/stable/user_guide/indexing.html#returning-a-view-versus-a-copy\n",
      "  df_flood['Flood Type'] = df_flood.apply(assign_flood_type, axis=1)\n"
     ]
    },
    {
     "data": {
      "text/html": [
       "<div>\n",
       "<style scoped>\n",
       "    .dataframe tbody tr th:only-of-type {\n",
       "        vertical-align: middle;\n",
       "    }\n",
       "\n",
       "    .dataframe tbody tr th {\n",
       "        vertical-align: top;\n",
       "    }\n",
       "\n",
       "    .dataframe thead th {\n",
       "        text-align: right;\n",
       "    }\n",
       "</style>\n",
       "<table border=\"1\" class=\"dataframe\">\n",
       "  <thead>\n",
       "    <tr style=\"text-align: right;\">\n",
       "      <th></th>\n",
       "      <th>Dis No</th>\n",
       "      <th>Year</th>\n",
       "      <th>Seq</th>\n",
       "      <th>Disaster Subgroup</th>\n",
       "      <th>Disaster Type</th>\n",
       "      <th>Disaster Subtype</th>\n",
       "      <th>Country</th>\n",
       "      <th>ISO</th>\n",
       "      <th>Region</th>\n",
       "      <th>Continent</th>\n",
       "      <th>...</th>\n",
       "      <th>Start Year</th>\n",
       "      <th>Start Month</th>\n",
       "      <th>Start Day</th>\n",
       "      <th>End Year</th>\n",
       "      <th>End Month</th>\n",
       "      <th>End Day</th>\n",
       "      <th>Total Deaths</th>\n",
       "      <th>Total Affected</th>\n",
       "      <th>Total Damages Adj</th>\n",
       "      <th>Flood Type</th>\n",
       "    </tr>\n",
       "  </thead>\n",
       "  <tbody>\n",
       "    <tr>\n",
       "      <th>64</th>\n",
       "      <td>1922-0011-CAN</td>\n",
       "      <td>1922</td>\n",
       "      <td>11</td>\n",
       "      <td>Climatological</td>\n",
       "      <td>Wildfire</td>\n",
       "      <td>Forest fire</td>\n",
       "      <td>Canada</td>\n",
       "      <td>CAN</td>\n",
       "      <td>Northern America</td>\n",
       "      <td>Americas</td>\n",
       "      <td>...</td>\n",
       "      <td>1922</td>\n",
       "      <td>9</td>\n",
       "      <td>30</td>\n",
       "      <td>1922</td>\n",
       "      <td>9</td>\n",
       "      <td>30</td>\n",
       "      <td>43</td>\n",
       "      <td>11000</td>\n",
       "      <td>139559</td>\n",
       "      <td>Moderate</td>\n",
       "    </tr>\n",
       "    <tr>\n",
       "      <th>135</th>\n",
       "      <td>1939-0001-CHL</td>\n",
       "      <td>1939</td>\n",
       "      <td>1</td>\n",
       "      <td>Geophysical</td>\n",
       "      <td>Earthquake</td>\n",
       "      <td>Ground movement</td>\n",
       "      <td>Chile</td>\n",
       "      <td>CHL</td>\n",
       "      <td>South America</td>\n",
       "      <td>Americas</td>\n",
       "      <td>...</td>\n",
       "      <td>1939</td>\n",
       "      <td>1</td>\n",
       "      <td>24</td>\n",
       "      <td>1939</td>\n",
       "      <td>1</td>\n",
       "      <td>24</td>\n",
       "      <td>30000</td>\n",
       "      <td>58500</td>\n",
       "      <td>19312844</td>\n",
       "      <td>Very High</td>\n",
       "    </tr>\n",
       "    <tr>\n",
       "      <th>151</th>\n",
       "      <td>1943-0010-CHL</td>\n",
       "      <td>1943</td>\n",
       "      <td>10</td>\n",
       "      <td>Geophysical</td>\n",
       "      <td>Earthquake</td>\n",
       "      <td>Ground movement</td>\n",
       "      <td>Chile</td>\n",
       "      <td>CHL</td>\n",
       "      <td>South America</td>\n",
       "      <td>Americas</td>\n",
       "      <td>...</td>\n",
       "      <td>1943</td>\n",
       "      <td>4</td>\n",
       "      <td>6</td>\n",
       "      <td>1943</td>\n",
       "      <td>4</td>\n",
       "      <td>6</td>\n",
       "      <td>12</td>\n",
       "      <td>35</td>\n",
       "      <td>1687452</td>\n",
       "      <td>Moderate</td>\n",
       "    </tr>\n",
       "    <tr>\n",
       "      <th>158</th>\n",
       "      <td>1944-0002-ARG</td>\n",
       "      <td>1944</td>\n",
       "      <td>2</td>\n",
       "      <td>Geophysical</td>\n",
       "      <td>Earthquake</td>\n",
       "      <td>Ground movement</td>\n",
       "      <td>Argentina</td>\n",
       "      <td>ARG</td>\n",
       "      <td>South America</td>\n",
       "      <td>Americas</td>\n",
       "      <td>...</td>\n",
       "      <td>1944</td>\n",
       "      <td>1</td>\n",
       "      <td>15</td>\n",
       "      <td>1944</td>\n",
       "      <td>1</td>\n",
       "      <td>15</td>\n",
       "      <td>10000</td>\n",
       "      <td>155000</td>\n",
       "      <td>1658743</td>\n",
       "      <td>Very High</td>\n",
       "    </tr>\n",
       "    <tr>\n",
       "      <th>184</th>\n",
       "      <td>1949-0010-ECU</td>\n",
       "      <td>1949</td>\n",
       "      <td>10</td>\n",
       "      <td>Geophysical</td>\n",
       "      <td>Earthquake</td>\n",
       "      <td>Ground movement</td>\n",
       "      <td>Ecuador</td>\n",
       "      <td>ECU</td>\n",
       "      <td>South America</td>\n",
       "      <td>Americas</td>\n",
       "      <td>...</td>\n",
       "      <td>1949</td>\n",
       "      <td>8</td>\n",
       "      <td>5</td>\n",
       "      <td>1949</td>\n",
       "      <td>8</td>\n",
       "      <td>5</td>\n",
       "      <td>6000</td>\n",
       "      <td>100000</td>\n",
       "      <td>245448</td>\n",
       "      <td>Very High</td>\n",
       "    </tr>\n",
       "    <tr>\n",
       "      <th>185</th>\n",
       "      <td>1949-0005-CHL</td>\n",
       "      <td>1949</td>\n",
       "      <td>5</td>\n",
       "      <td>Geophysical</td>\n",
       "      <td>Earthquake</td>\n",
       "      <td>Ground movement</td>\n",
       "      <td>Chile</td>\n",
       "      <td>CHL</td>\n",
       "      <td>South America</td>\n",
       "      <td>Americas</td>\n",
       "      <td>...</td>\n",
       "      <td>1949</td>\n",
       "      <td>4</td>\n",
       "      <td>19</td>\n",
       "      <td>1949</td>\n",
       "      <td>4</td>\n",
       "      <td>19</td>\n",
       "      <td>35</td>\n",
       "      <td>155</td>\n",
       "      <td>478623</td>\n",
       "      <td>Low</td>\n",
       "    </tr>\n",
       "    <tr>\n",
       "      <th>186</th>\n",
       "      <td>1949-0015-CHL</td>\n",
       "      <td>1949</td>\n",
       "      <td>15</td>\n",
       "      <td>Geophysical</td>\n",
       "      <td>Earthquake</td>\n",
       "      <td>Ground movement</td>\n",
       "      <td>Chile</td>\n",
       "      <td>CHL</td>\n",
       "      <td>South America</td>\n",
       "      <td>Americas</td>\n",
       "      <td>...</td>\n",
       "      <td>1949</td>\n",
       "      <td>12</td>\n",
       "      <td>17</td>\n",
       "      <td>1949</td>\n",
       "      <td>12</td>\n",
       "      <td>17</td>\n",
       "      <td>6</td>\n",
       "      <td>18</td>\n",
       "      <td>63816</td>\n",
       "      <td>Low</td>\n",
       "    </tr>\n",
       "    <tr>\n",
       "      <th>216</th>\n",
       "      <td>1953-0012-CHL</td>\n",
       "      <td>1953</td>\n",
       "      <td>12</td>\n",
       "      <td>Geophysical</td>\n",
       "      <td>Earthquake</td>\n",
       "      <td>Ground movement</td>\n",
       "      <td>Chile</td>\n",
       "      <td>CHL</td>\n",
       "      <td>South America</td>\n",
       "      <td>Americas</td>\n",
       "      <td>...</td>\n",
       "      <td>1953</td>\n",
       "      <td>5</td>\n",
       "      <td>6</td>\n",
       "      <td>1953</td>\n",
       "      <td>5</td>\n",
       "      <td>6</td>\n",
       "      <td>12</td>\n",
       "      <td>40</td>\n",
       "      <td>5456933</td>\n",
       "      <td>Moderate</td>\n",
       "    </tr>\n",
       "    <tr>\n",
       "      <th>218</th>\n",
       "      <td>1953-0001-GRC</td>\n",
       "      <td>1953</td>\n",
       "      <td>1</td>\n",
       "      <td>Geophysical</td>\n",
       "      <td>Earthquake</td>\n",
       "      <td>Ground movement</td>\n",
       "      <td>Greece</td>\n",
       "      <td>GRC</td>\n",
       "      <td>Southern Europe</td>\n",
       "      <td>Europe</td>\n",
       "      <td>...</td>\n",
       "      <td>1953</td>\n",
       "      <td>8</td>\n",
       "      <td>12</td>\n",
       "      <td>1953</td>\n",
       "      <td>8</td>\n",
       "      <td>12</td>\n",
       "      <td>476</td>\n",
       "      <td>141277</td>\n",
       "      <td>1091387</td>\n",
       "      <td>High</td>\n",
       "    </tr>\n",
       "    <tr>\n",
       "      <th>221</th>\n",
       "      <td>1953-0021-CHL</td>\n",
       "      <td>1953</td>\n",
       "      <td>21</td>\n",
       "      <td>Geophysical</td>\n",
       "      <td>Earthquake</td>\n",
       "      <td>Ground movement</td>\n",
       "      <td>Chile</td>\n",
       "      <td>CHL</td>\n",
       "      <td>South America</td>\n",
       "      <td>Americas</td>\n",
       "      <td>...</td>\n",
       "      <td>1953</td>\n",
       "      <td>12</td>\n",
       "      <td>6</td>\n",
       "      <td>1953</td>\n",
       "      <td>12</td>\n",
       "      <td>6</td>\n",
       "      <td>3</td>\n",
       "      <td>15</td>\n",
       "      <td>79780</td>\n",
       "      <td>Low</td>\n",
       "    </tr>\n",
       "    <tr>\n",
       "      <th>228</th>\n",
       "      <td>1954-0017-DZA</td>\n",
       "      <td>1954</td>\n",
       "      <td>17</td>\n",
       "      <td>Geophysical</td>\n",
       "      <td>Earthquake</td>\n",
       "      <td>Ground movement</td>\n",
       "      <td>Algeria</td>\n",
       "      <td>DZA</td>\n",
       "      <td>Northern Africa</td>\n",
       "      <td>Africa</td>\n",
       "      <td>...</td>\n",
       "      <td>1954</td>\n",
       "      <td>9</td>\n",
       "      <td>9</td>\n",
       "      <td>1954</td>\n",
       "      <td>9</td>\n",
       "      <td>9</td>\n",
       "      <td>1250</td>\n",
       "      <td>134250</td>\n",
       "      <td>65240</td>\n",
       "      <td>Very High</td>\n",
       "    </tr>\n",
       "    <tr>\n",
       "      <th>239</th>\n",
       "      <td>1954-0044-GRC</td>\n",
       "      <td>1954</td>\n",
       "      <td>44</td>\n",
       "      <td>Geophysical</td>\n",
       "      <td>Earthquake</td>\n",
       "      <td>Ground movement</td>\n",
       "      <td>Greece</td>\n",
       "      <td>GRC</td>\n",
       "      <td>Southern Europe</td>\n",
       "      <td>Europe</td>\n",
       "      <td>...</td>\n",
       "      <td>1954</td>\n",
       "      <td>4</td>\n",
       "      <td>30</td>\n",
       "      <td>1954</td>\n",
       "      <td>4</td>\n",
       "      <td>30</td>\n",
       "      <td>31</td>\n",
       "      <td>200</td>\n",
       "      <td>34251</td>\n",
       "      <td>Low</td>\n",
       "    </tr>\n",
       "    <tr>\n",
       "      <th>256</th>\n",
       "      <td>1956-0008-AFG</td>\n",
       "      <td>1956</td>\n",
       "      <td>8</td>\n",
       "      <td>Geophysical</td>\n",
       "      <td>Earthquake</td>\n",
       "      <td>Ground movement</td>\n",
       "      <td>Afghanistan</td>\n",
       "      <td>AFG</td>\n",
       "      <td>Southern Asia</td>\n",
       "      <td>Asia</td>\n",
       "      <td>...</td>\n",
       "      <td>1956</td>\n",
       "      <td>6</td>\n",
       "      <td>10</td>\n",
       "      <td>1956</td>\n",
       "      <td>6</td>\n",
       "      <td>10</td>\n",
       "      <td>100</td>\n",
       "      <td>2000</td>\n",
       "      <td>269149</td>\n",
       "      <td>Moderate</td>\n",
       "    </tr>\n",
       "    <tr>\n",
       "      <th>303</th>\n",
       "      <td>1960-0013-CHL</td>\n",
       "      <td>1960</td>\n",
       "      <td>13</td>\n",
       "      <td>Geophysical</td>\n",
       "      <td>Earthquake</td>\n",
       "      <td>Tsunami</td>\n",
       "      <td>Chile</td>\n",
       "      <td>CHL</td>\n",
       "      <td>South America</td>\n",
       "      <td>Americas</td>\n",
       "      <td>...</td>\n",
       "      <td>1960</td>\n",
       "      <td>5</td>\n",
       "      <td>22</td>\n",
       "      <td>1960</td>\n",
       "      <td>5</td>\n",
       "      <td>22</td>\n",
       "      <td>6000</td>\n",
       "      <td>2003000</td>\n",
       "      <td>5442439</td>\n",
       "      <td>Very High</td>\n",
       "    </tr>\n",
       "    <tr>\n",
       "      <th>386</th>\n",
       "      <td>1965-0016-CHL</td>\n",
       "      <td>1965</td>\n",
       "      <td>16</td>\n",
       "      <td>Geophysical</td>\n",
       "      <td>Earthquake</td>\n",
       "      <td>Ground movement</td>\n",
       "      <td>Chile</td>\n",
       "      <td>CHL</td>\n",
       "      <td>South America</td>\n",
       "      <td>Americas</td>\n",
       "      <td>...</td>\n",
       "      <td>1965</td>\n",
       "      <td>3</td>\n",
       "      <td>28</td>\n",
       "      <td>1965</td>\n",
       "      <td>3</td>\n",
       "      <td>28</td>\n",
       "      <td>400</td>\n",
       "      <td>20350</td>\n",
       "      <td>1161022</td>\n",
       "      <td>Moderate</td>\n",
       "    </tr>\n",
       "    <tr>\n",
       "      <th>393</th>\n",
       "      <td>1965-0002-DZA</td>\n",
       "      <td>1965</td>\n",
       "      <td>2</td>\n",
       "      <td>Geophysical</td>\n",
       "      <td>Earthquake</td>\n",
       "      <td>Ground movement</td>\n",
       "      <td>Algeria</td>\n",
       "      <td>DZA</td>\n",
       "      <td>Northern Africa</td>\n",
       "      <td>Africa</td>\n",
       "      <td>...</td>\n",
       "      <td>1965</td>\n",
       "      <td>1</td>\n",
       "      <td>1</td>\n",
       "      <td>1965</td>\n",
       "      <td>1</td>\n",
       "      <td>1</td>\n",
       "      <td>2</td>\n",
       "      <td>49350</td>\n",
       "      <td>18576</td>\n",
       "      <td>Moderate</td>\n",
       "    </tr>\n",
       "    <tr>\n",
       "      <th>397</th>\n",
       "      <td>1965-0015-GRC</td>\n",
       "      <td>1965</td>\n",
       "      <td>15</td>\n",
       "      <td>Geophysical</td>\n",
       "      <td>Earthquake</td>\n",
       "      <td>Ground movement</td>\n",
       "      <td>Greece</td>\n",
       "      <td>GRC</td>\n",
       "      <td>Southern Europe</td>\n",
       "      <td>Europe</td>\n",
       "      <td>...</td>\n",
       "      <td>1965</td>\n",
       "      <td>3</td>\n",
       "      <td>9</td>\n",
       "      <td>1965</td>\n",
       "      <td>3</td>\n",
       "      <td>9</td>\n",
       "      <td>38</td>\n",
       "      <td>30253</td>\n",
       "      <td>74305</td>\n",
       "      <td>Moderate</td>\n",
       "    </tr>\n",
       "    <tr>\n",
       "      <th>420</th>\n",
       "      <td>1966-0090-CHL</td>\n",
       "      <td>1966</td>\n",
       "      <td>90</td>\n",
       "      <td>Geophysical</td>\n",
       "      <td>Earthquake</td>\n",
       "      <td>Ground movement</td>\n",
       "      <td>Chile</td>\n",
       "      <td>CHL</td>\n",
       "      <td>South America</td>\n",
       "      <td>Americas</td>\n",
       "      <td>...</td>\n",
       "      <td>1966</td>\n",
       "      <td>12</td>\n",
       "      <td>28</td>\n",
       "      <td>1966</td>\n",
       "      <td>12</td>\n",
       "      <td>28</td>\n",
       "      <td>4</td>\n",
       "      <td>3006</td>\n",
       "      <td>3607</td>\n",
       "      <td>Low</td>\n",
       "    </tr>\n",
       "    <tr>\n",
       "      <th>427</th>\n",
       "      <td>1966-0026-GRC</td>\n",
       "      <td>1966</td>\n",
       "      <td>26</td>\n",
       "      <td>Geophysical</td>\n",
       "      <td>Earthquake</td>\n",
       "      <td>Ground movement</td>\n",
       "      <td>Greece</td>\n",
       "      <td>GRC</td>\n",
       "      <td>Southern Europe</td>\n",
       "      <td>Europe</td>\n",
       "      <td>...</td>\n",
       "      <td>1966</td>\n",
       "      <td>2</td>\n",
       "      <td>5</td>\n",
       "      <td>1966</td>\n",
       "      <td>2</td>\n",
       "      <td>5</td>\n",
       "      <td>1</td>\n",
       "      <td>11050</td>\n",
       "      <td>36065</td>\n",
       "      <td>Moderate</td>\n",
       "    </tr>\n",
       "    <tr>\n",
       "      <th>428</th>\n",
       "      <td>1966-0068-GRC</td>\n",
       "      <td>1966</td>\n",
       "      <td>68</td>\n",
       "      <td>Geophysical</td>\n",
       "      <td>Earthquake</td>\n",
       "      <td>Ground movement</td>\n",
       "      <td>Greece</td>\n",
       "      <td>GRC</td>\n",
       "      <td>Southern Europe</td>\n",
       "      <td>Europe</td>\n",
       "      <td>...</td>\n",
       "      <td>1966</td>\n",
       "      <td>9</td>\n",
       "      <td>1</td>\n",
       "      <td>1966</td>\n",
       "      <td>9</td>\n",
       "      <td>1</td>\n",
       "      <td>1</td>\n",
       "      <td>15123</td>\n",
       "      <td>126229</td>\n",
       "      <td>Moderate</td>\n",
       "    </tr>\n",
       "  </tbody>\n",
       "</table>\n",
       "<p>20 rows × 27 columns</p>\n",
       "</div>"
      ],
      "text/plain": [
       "            Dis No  Year  Seq Disaster Subgroup Disaster Type  \\\n",
       "64   1922-0011-CAN  1922   11    Climatological      Wildfire   \n",
       "135  1939-0001-CHL  1939    1       Geophysical    Earthquake   \n",
       "151  1943-0010-CHL  1943   10       Geophysical    Earthquake   \n",
       "158  1944-0002-ARG  1944    2       Geophysical    Earthquake   \n",
       "184  1949-0010-ECU  1949   10       Geophysical    Earthquake   \n",
       "185  1949-0005-CHL  1949    5       Geophysical    Earthquake   \n",
       "186  1949-0015-CHL  1949   15       Geophysical    Earthquake   \n",
       "216  1953-0012-CHL  1953   12       Geophysical    Earthquake   \n",
       "218  1953-0001-GRC  1953    1       Geophysical    Earthquake   \n",
       "221  1953-0021-CHL  1953   21       Geophysical    Earthquake   \n",
       "228  1954-0017-DZA  1954   17       Geophysical    Earthquake   \n",
       "239  1954-0044-GRC  1954   44       Geophysical    Earthquake   \n",
       "256  1956-0008-AFG  1956    8       Geophysical    Earthquake   \n",
       "303  1960-0013-CHL  1960   13       Geophysical    Earthquake   \n",
       "386  1965-0016-CHL  1965   16       Geophysical    Earthquake   \n",
       "393  1965-0002-DZA  1965    2       Geophysical    Earthquake   \n",
       "397  1965-0015-GRC  1965   15       Geophysical    Earthquake   \n",
       "420  1966-0090-CHL  1966   90       Geophysical    Earthquake   \n",
       "427  1966-0026-GRC  1966   26       Geophysical    Earthquake   \n",
       "428  1966-0068-GRC  1966   68       Geophysical    Earthquake   \n",
       "\n",
       "    Disaster Subtype      Country  ISO            Region Continent  ...  \\\n",
       "64       Forest fire       Canada  CAN  Northern America  Americas  ...   \n",
       "135  Ground movement        Chile  CHL     South America  Americas  ...   \n",
       "151  Ground movement        Chile  CHL     South America  Americas  ...   \n",
       "158  Ground movement    Argentina  ARG     South America  Americas  ...   \n",
       "184  Ground movement      Ecuador  ECU     South America  Americas  ...   \n",
       "185  Ground movement        Chile  CHL     South America  Americas  ...   \n",
       "186  Ground movement        Chile  CHL     South America  Americas  ...   \n",
       "216  Ground movement        Chile  CHL     South America  Americas  ...   \n",
       "218  Ground movement       Greece  GRC   Southern Europe    Europe  ...   \n",
       "221  Ground movement        Chile  CHL     South America  Americas  ...   \n",
       "228  Ground movement      Algeria  DZA   Northern Africa    Africa  ...   \n",
       "239  Ground movement       Greece  GRC   Southern Europe    Europe  ...   \n",
       "256  Ground movement  Afghanistan  AFG     Southern Asia      Asia  ...   \n",
       "303          Tsunami        Chile  CHL     South America  Americas  ...   \n",
       "386  Ground movement        Chile  CHL     South America  Americas  ...   \n",
       "393  Ground movement      Algeria  DZA   Northern Africa    Africa  ...   \n",
       "397  Ground movement       Greece  GRC   Southern Europe    Europe  ...   \n",
       "420  Ground movement        Chile  CHL     South America  Americas  ...   \n",
       "427  Ground movement       Greece  GRC   Southern Europe    Europe  ...   \n",
       "428  Ground movement       Greece  GRC   Southern Europe    Europe  ...   \n",
       "\n",
       "    Start Year Start Month Start Day  End Year End Month End Day Total Deaths  \\\n",
       "64        1922           9        30      1922         9      30           43   \n",
       "135       1939           1        24      1939         1      24        30000   \n",
       "151       1943           4         6      1943         4       6           12   \n",
       "158       1944           1        15      1944         1      15        10000   \n",
       "184       1949           8         5      1949         8       5         6000   \n",
       "185       1949           4        19      1949         4      19           35   \n",
       "186       1949          12        17      1949        12      17            6   \n",
       "216       1953           5         6      1953         5       6           12   \n",
       "218       1953           8        12      1953         8      12          476   \n",
       "221       1953          12         6      1953        12       6            3   \n",
       "228       1954           9         9      1954         9       9         1250   \n",
       "239       1954           4        30      1954         4      30           31   \n",
       "256       1956           6        10      1956         6      10          100   \n",
       "303       1960           5        22      1960         5      22         6000   \n",
       "386       1965           3        28      1965         3      28          400   \n",
       "393       1965           1         1      1965         1       1            2   \n",
       "397       1965           3         9      1965         3       9           38   \n",
       "420       1966          12        28      1966        12      28            4   \n",
       "427       1966           2         5      1966         2       5            1   \n",
       "428       1966           9         1      1966         9       1            1   \n",
       "\n",
       "     Total Affected  Total Damages Adj  Flood Type  \n",
       "64            11000             139559    Moderate  \n",
       "135           58500           19312844   Very High  \n",
       "151              35            1687452    Moderate  \n",
       "158          155000            1658743   Very High  \n",
       "184          100000             245448   Very High  \n",
       "185             155             478623         Low  \n",
       "186              18              63816         Low  \n",
       "216              40            5456933    Moderate  \n",
       "218          141277            1091387        High  \n",
       "221              15              79780         Low  \n",
       "228          134250              65240   Very High  \n",
       "239             200              34251         Low  \n",
       "256            2000             269149    Moderate  \n",
       "303         2003000            5442439   Very High  \n",
       "386           20350            1161022    Moderate  \n",
       "393           49350              18576    Moderate  \n",
       "397           30253              74305    Moderate  \n",
       "420            3006               3607         Low  \n",
       "427           11050              36065    Moderate  \n",
       "428           15123             126229    Moderate  \n",
       "\n",
       "[20 rows x 27 columns]"
      ]
     },
     "execution_count": 78,
     "metadata": {},
     "output_type": "execute_result"
    }
   ],
   "source": [
    "df_flood['Flood Type'] = df_flood.apply(assign_flood_type, axis=1)\n",
    "df_flood.head(20)"
   ]
  },
  {
   "cell_type": "markdown",
   "metadata": {},
   "source": [
    "### Codificación categórica a numérica"
   ]
  },
  {
   "cell_type": "markdown",
   "metadata": {},
   "source": [
    "#### Convertir Flood Type a Destruction Level numérica con OneHotEncoder"
   ]
  },
  {
   "cell_type": "code",
   "execution_count": 79,
   "metadata": {},
   "outputs": [
    {
     "name": "stdout",
     "output_type": "stream",
     "text": [
      "            Dis No  Year  Seq Disaster Subgroup Disaster Type  \\\n",
      "64   1922-0011-CAN  1922   11    Climatological      Wildfire   \n",
      "135  1939-0001-CHL  1939    1       Geophysical    Earthquake   \n",
      "151  1943-0010-CHL  1943   10       Geophysical    Earthquake   \n",
      "158  1944-0002-ARG  1944    2       Geophysical    Earthquake   \n",
      "184  1949-0010-ECU  1949   10       Geophysical    Earthquake   \n",
      "\n",
      "    Disaster Subtype    Country  ISO            Region Continent  ... End Day  \\\n",
      "64       Forest fire     Canada  CAN  Northern America  Americas  ...      30   \n",
      "135  Ground movement      Chile  CHL     South America  Americas  ...      24   \n",
      "151  Ground movement      Chile  CHL     South America  Americas  ...       6   \n",
      "158  Ground movement  Argentina  ARG     South America  Americas  ...      15   \n",
      "184  Ground movement    Ecuador  ECU     South America  Americas  ...       5   \n",
      "\n",
      "    Total Deaths Total Affected  Total Damages Adj Flood Type  \\\n",
      "64            43          11000             139559   Moderate   \n",
      "135        30000          58500           19312844  Very High   \n",
      "151           12             35            1687452   Moderate   \n",
      "158        10000         155000            1658743  Very High   \n",
      "184         6000         100000             245448  Very High   \n",
      "\n",
      "    Destruction Level Destruction_1  Destruction_2  Destruction_3  \\\n",
      "64                  2             0              1              0   \n",
      "135                 4             0              0              0   \n",
      "151                 2             0              1              0   \n",
      "158                 4             0              0              0   \n",
      "184                 4             0              0              0   \n",
      "\n",
      "     Destruction_4  \n",
      "64               0  \n",
      "135              1  \n",
      "151              0  \n",
      "158              1  \n",
      "184              1  \n",
      "\n",
      "[5 rows x 32 columns]\n"
     ]
    },
    {
     "name": "stderr",
     "output_type": "stream",
     "text": [
      "C:\\Users\\AleEng\\AppData\\Local\\Temp\\ipykernel_14540\\2008063618.py:29: SettingWithCopyWarning: \n",
      "A value is trying to be set on a copy of a slice from a DataFrame.\n",
      "Try using .loc[row_indexer,col_indexer] = value instead\n",
      "\n",
      "See the caveats in the documentation: https://pandas.pydata.org/pandas-docs/stable/user_guide/indexing.html#returning-a-view-versus-a-copy\n",
      "  df_flood['Destruction Level'] = df_flood['Flood Type'].map(destruction_mapping)\n"
     ]
    }
   ],
   "source": [
    "# Crear instancia de OneHotEncoder\n",
    "encoder = OneHotEncoder()\n",
    "\n",
    "# Ajustar y transformar la columna 'Flood Type'\n",
    "flood_type_encoded = encoder.fit_transform(df_flood[['Flood Type']]).toarray()\n",
    "\n",
    "# Obtener valores únicos en columna 'Flood Type'\n",
    "unique_flood_types = df_flood['Flood Type'].unique()\n",
    "\n",
    "# # Crear nuevos nombres de columna para las columnas codificadas\n",
    "# encoded_feature_names = [f'Flood Type_{flood_type}' for flood_type in unique_flood_types]\n",
    "\n",
    "# # Crear nuevo DataFrame para las columnas codificadas\n",
    "# df_encoded = pd.DataFrame(flood_type_encoded, columns=encoded_feature_names)\n",
    "\n",
    "# # Aplicar one-hot encoding a columna 'Flood Type'\n",
    "# flood_type_encoded = pd.get_dummies(df_flood['Flood Type'], prefix='Flood Type')\n",
    "\n",
    "# # Concatenar el DataFrame codificado con el original\n",
    "# df_flood_encoded = pd.concat([df_flood, flood_type_encoded], axis=1)\n",
    "\n",
    "# # DataFrame actualizado\n",
    "# print(df_flood_encoded.head())\n",
    "\n",
    "# Definir un diccionario de mapeo para las categorías en 'Flood Type' a valores numéricos\n",
    "destruction_mapping = {'Low': 1, 'Moderate': 2, 'High': 3, 'Very High': 4}\n",
    "\n",
    "# Crear una nueva columna 'Destruction Level' mapeando las categorías 'Flood Type' a valores numéricos\n",
    "df_flood['Destruction Level'] = df_flood['Flood Type'].map(destruction_mapping)\n",
    "\n",
    "# Aplicar one-hot encoding a columna 'Flood Type'\n",
    "destruction_encoded = pd.get_dummies(df_flood['Destruction Level'], prefix='Destruction')\n",
    "\n",
    "# Concatenar el DataFrame codificado con el original\n",
    "df_flood_encoded = pd.concat([df_flood, destruction_encoded], axis=1)\n",
    "\n",
    "# DataFrame actualizado\n",
    "print(df_flood_encoded.head())\n"
   ]
  },
  {
   "cell_type": "markdown",
   "metadata": {},
   "source": [
    "#### Revisión df_flood_encoded"
   ]
  },
  {
   "cell_type": "code",
   "execution_count": 80,
   "metadata": {},
   "outputs": [
    {
     "data": {
      "text/plain": [
       "(1727, 32)"
      ]
     },
     "execution_count": 80,
     "metadata": {},
     "output_type": "execute_result"
    }
   ],
   "source": [
    "df_flood_encoded.shape"
   ]
  },
  {
   "cell_type": "code",
   "execution_count": 81,
   "metadata": {},
   "outputs": [
    {
     "data": {
      "text/plain": [
       "1727"
      ]
     },
     "execution_count": 81,
     "metadata": {},
     "output_type": "execute_result"
    }
   ],
   "source": [
    "len(df_flood_encoded)"
   ]
  },
  {
   "cell_type": "code",
   "execution_count": 82,
   "metadata": {},
   "outputs": [
    {
     "name": "stdout",
     "output_type": "stream",
     "text": [
      "<class 'pandas.core.frame.DataFrame'>\n",
      "Int64Index: 1727 entries, 64 to 16539\n",
      "Data columns (total 32 columns):\n",
      " #   Column             Non-Null Count  Dtype \n",
      "---  ------             --------------  ----- \n",
      " 0   Dis No             1727 non-null   object\n",
      " 1   Year               1727 non-null   int64 \n",
      " 2   Seq                1727 non-null   int64 \n",
      " 3   Disaster Subgroup  1727 non-null   object\n",
      " 4   Disaster Type      1727 non-null   object\n",
      " 5   Disaster Subtype   1624 non-null   object\n",
      " 6   Country            1727 non-null   object\n",
      " 7   ISO                1727 non-null   object\n",
      " 8   Region             1727 non-null   object\n",
      " 9   Continent          1727 non-null   object\n",
      " 10  Location           1699 non-null   object\n",
      " 11  Origin             607 non-null    object\n",
      " 12  Associated Dis     671 non-null    object\n",
      " 13  Dis Mag Value      1727 non-null   int64 \n",
      " 14  Dis Mag Scale      1723 non-null   object\n",
      " 15  Latitude           757 non-null    object\n",
      " 16  Longitude          757 non-null    object\n",
      " 17  Start Year         1727 non-null   int64 \n",
      " 18  Start Month        1727 non-null   int64 \n",
      " 19  Start Day          1727 non-null   int64 \n",
      " 20  End Year           1727 non-null   int64 \n",
      " 21  End Month          1727 non-null   int64 \n",
      " 22  End Day            1727 non-null   int64 \n",
      " 23  Total Deaths       1727 non-null   int64 \n",
      " 24  Total Affected     1727 non-null   int64 \n",
      " 25  Total Damages Adj  1727 non-null   int64 \n",
      " 26  Flood Type         1727 non-null   object\n",
      " 27  Destruction Level  1727 non-null   int64 \n",
      " 28  Destruction_1      1727 non-null   uint8 \n",
      " 29  Destruction_2      1727 non-null   uint8 \n",
      " 30  Destruction_3      1727 non-null   uint8 \n",
      " 31  Destruction_4      1727 non-null   uint8 \n",
      "dtypes: int64(13), object(15), uint8(4)\n",
      "memory usage: 398.0+ KB\n"
     ]
    }
   ],
   "source": [
    "df_flood_encoded.info()"
   ]
  },
  {
   "cell_type": "code",
   "execution_count": 83,
   "metadata": {},
   "outputs": [
    {
     "data": {
      "text/plain": [
       "Index(['Dis No', 'Year', 'Seq', 'Disaster Subgroup', 'Disaster Type',\n",
       "       'Disaster Subtype', 'Country', 'ISO', 'Region', 'Continent', 'Location',\n",
       "       'Origin', 'Associated Dis', 'Dis Mag Value', 'Dis Mag Scale',\n",
       "       'Latitude', 'Longitude', 'Start Year', 'Start Month', 'Start Day',\n",
       "       'End Year', 'End Month', 'End Day', 'Total Deaths', 'Total Affected',\n",
       "       'Total Damages Adj', 'Flood Type', 'Destruction Level'],\n",
       "      dtype='object')"
      ]
     },
     "execution_count": 83,
     "metadata": {},
     "output_type": "execute_result"
    }
   ],
   "source": [
    "df_flood.columns"
   ]
  },
  {
   "cell_type": "code",
   "execution_count": 84,
   "metadata": {},
   "outputs": [
    {
     "data": {
      "text/plain": [
       "64       2\n",
       "135      4\n",
       "151      2\n",
       "158      4\n",
       "184      4\n",
       "        ..\n",
       "16495    4\n",
       "16524    1\n",
       "16527    1\n",
       "16537    1\n",
       "16539    2\n",
       "Name: Destruction Level, Length: 1727, dtype: int64"
      ]
     },
     "execution_count": 84,
     "metadata": {},
     "output_type": "execute_result"
    }
   ],
   "source": [
    "df_flood['Destruction Level']"
   ]
  },
  {
   "cell_type": "code",
   "execution_count": 85,
   "metadata": {},
   "outputs": [
    {
     "data": {
      "text/plain": [
       "0"
      ]
     },
     "execution_count": 85,
     "metadata": {},
     "output_type": "execute_result"
    }
   ],
   "source": [
    "df_flood['Destruction Level'].isnull().sum()"
   ]
  },
  {
   "cell_type": "markdown",
   "metadata": {},
   "source": [
    "#### Imputación de nulos en columna salida (y) Destruction Level con Simple Imputer"
   ]
  },
  {
   "cell_type": "code",
   "execution_count": 86,
   "metadata": {},
   "outputs": [
    {
     "name": "stderr",
     "output_type": "stream",
     "text": [
      "C:\\Users\\AleEng\\AppData\\Local\\Temp\\ipykernel_14540\\2005245492.py:2: SettingWithCopyWarning: \n",
      "A value is trying to be set on a copy of a slice from a DataFrame.\n",
      "Try using .loc[row_indexer,col_indexer] = value instead\n",
      "\n",
      "See the caveats in the documentation: https://pandas.pydata.org/pandas-docs/stable/user_guide/indexing.html#returning-a-view-versus-a-copy\n",
      "  df_flood['Destruction Level'] = SimpleImputer(missing_values=np.nan, strategy='most_frequent').fit_transform(df_flood[['Destruction Level']])\n"
     ]
    },
    {
     "data": {
      "text/plain": [
       "64       2\n",
       "135      4\n",
       "151      2\n",
       "158      4\n",
       "184      4\n",
       "        ..\n",
       "16495    4\n",
       "16524    1\n",
       "16527    1\n",
       "16537    1\n",
       "16539    2\n",
       "Name: Destruction Level, Length: 1727, dtype: int64"
      ]
     },
     "execution_count": 86,
     "metadata": {},
     "output_type": "execute_result"
    }
   ],
   "source": [
    "# Imputar nulos en la columna de salida (y) que es Destruction Level\n",
    "df_flood['Destruction Level'] = SimpleImputer(missing_values=np.nan, strategy='most_frequent').fit_transform(df_flood[['Destruction Level']])\n",
    "df_flood['Destruction Level']\n",
    "# borrar en lugar de imputar\n",
    "# df = df.dropna('Flood Type')"
   ]
  },
  {
   "cell_type": "code",
   "execution_count": 87,
   "metadata": {},
   "outputs": [
    {
     "data": {
      "text/plain": [
       "1727"
      ]
     },
     "execution_count": 87,
     "metadata": {},
     "output_type": "execute_result"
    }
   ],
   "source": [
    "df_flood['Flood Type'].isna().sum()\n",
    "df_flood['Flood Type'].unique()\n",
    "len(df_flood['Flood Type'])"
   ]
  },
  {
   "cell_type": "markdown",
   "metadata": {},
   "source": [
    "### EDA Visualizaciones de 'Destruction Level' o Nivel de Destrucción"
   ]
  },
  {
   "cell_type": "code",
   "execution_count": 88,
   "metadata": {},
   "outputs": [
    {
     "data": {
      "image/png": "[encoded data removed]",
      "text/plain": [
       "<Figure size 640x480 with 1 Axes>"
      ]
     },
     "metadata": {},
     "output_type": "display_data"
    }
   ],
   "source": [
    "sns.countplot(data=df_flood, x='Destruction Level')\n",
    "plt.title('Conteo de Nivel de Destrucción - Destruction Level')\n",
    "plt.xlabel('Destruction Level')\n",
    "plt.ylabel('Conteo')\n",
    "plt.show()"
   ]
  },
  {
   "cell_type": "code",
   "execution_count": 89,
   "metadata": {},
   "outputs": [
    {
     "data": {
      "image/png": "[encoded data removed]",
      "text/plain": [
       "<Figure size 640x480 with 1 Axes>"
      ]
     },
     "metadata": {},
     "output_type": "display_data"
    }
   ],
   "source": [
    "sns.histplot(data=df_flood, x='Destruction Level', kde=True)\n",
    "plt.title(f'Distribución de Nivel de Destrucción')\n",
    "plt.xlabel('Destruction Level')\n",
    "plt.ylabel('Densidad')\n",
    "plt.show()"
   ]
  },
  {
   "cell_type": "markdown",
   "metadata": {},
   "source": [
    "Con el filtro > 0 cambia la densidad por nivel de destrucción, siendo 2 la más alta, seguida de 1 y 4."
   ]
  },
  {
   "cell_type": "code",
   "execution_count": 90,
   "metadata": {},
   "outputs": [
    {
     "data": {
      "image/png": "[encoded data removed]",
      "text/plain": [
       "<Figure size 640x480 with 1 Axes>"
      ]
     },
     "metadata": {},
     "output_type": "display_data"
    },
    {
     "data": {
      "image/png": "[encoded data removed]",
      "text/plain": [
       "<Figure size 640x480 with 1 Axes>"
      ]
     },
     "metadata": {},
     "output_type": "display_data"
    },
    {
     "data": {
      "image/png": "[encoded data removed]",
      "text/plain": [
       "<Figure size 640x480 with 1 Axes>"
      ]
     },
     "metadata": {},
     "output_type": "display_data"
    },
    {
     "data": {
      "image/png": "[encoded data removed]",
      "text/plain": [
       "<Figure size 640x480 with 1 Axes>"
      ]
     },
     "metadata": {},
     "output_type": "display_data"
    },
    {
     "data": {
      "image/png": "[encoded data removed]",
      "text/plain": [
       "<Figure size 640x480 with 1 Axes>"
      ]
     },
     "metadata": {},
     "output_type": "display_data"
    },
    {
     "data": {
      "image/png": "[encoded data removed]",
      "text/plain": [
       "<Figure size 640x480 with 1 Axes>"
      ]
     },
     "metadata": {},
     "output_type": "display_data"
    }
   ],
   "source": [
    "num_cols = ['Dis Mag Value', 'Start Month', 'Start Year', 'Total Deaths', 'Total Affected', 'Total Damages Adj']\n",
    "for col in num_cols:\n",
    "    sns.boxplot(data=df_flood, x='Destruction Level', y=col)\n",
    "    plt.title(f'Distribución de {col} por Nivel de Destrucción')\n",
    "    plt.xlabel('Nivel de Destrucción')\n",
    "    plt.ylabel(col)\n",
    "    plt.show()"
   ]
  },
  {
   "cell_type": "code",
   "execution_count": 91,
   "metadata": {},
   "outputs": [],
   "source": [
    "# sns.pairplot(df_flood)\n",
    "# Demasiado tiempo para procesar"
   ]
  },
  {
   "cell_type": "code",
   "execution_count": 92,
   "metadata": {},
   "outputs": [
    {
     "data": {
      "image/png": "[encoded data removed]",
      "text/plain": [
       "<Figure size 1000x600 with 2 Axes>"
      ]
     },
     "metadata": {},
     "output_type": "display_data"
    }
   ],
   "source": [
    "plt.figure(figsize=(10, 6))\n",
    "df_corr = df_flood.corr(numeric_only=True).round(2)\n",
    "sns.heatmap(df_corr, cmap='viridis', annot=True);"
   ]
  },
  {
   "cell_type": "code",
   "execution_count": 93,
   "metadata": {},
   "outputs": [
    {
     "data": {
      "text/plain": [
       "<Axes: xlabel='Dis Mag Value', ylabel='Destruction Level'>"
      ]
     },
     "execution_count": 93,
     "metadata": {},
     "output_type": "execute_result"
    },
    {
     "data": {
      "image/png": "[encoded data removed]",
      "text/plain": [
       "<Figure size 640x480 with 1 Axes>"
      ]
     },
     "metadata": {},
     "output_type": "display_data"
    }
   ],
   "source": [
    "sns.scatterplot(data=df_flood, x='Dis Mag Value', y='Destruction Level', hue='Dis Mag Value', palette='rocket_r')"
   ]
  },
  {
   "cell_type": "code",
   "execution_count": 94,
   "metadata": {},
   "outputs": [
    {
     "data": {
      "text/plain": [
       "<Axes: xlabel='Start Month', ylabel='Destruction Level'>"
      ]
     },
     "execution_count": 94,
     "metadata": {},
     "output_type": "execute_result"
    },
    {
     "data": {
      "image/png": "[encoded data removed]",
      "text/plain": [
       "<Figure size 640x480 with 1 Axes>"
      ]
     },
     "metadata": {},
     "output_type": "display_data"
    }
   ],
   "source": [
    "sns.scatterplot(data=df_flood, x='Start Month', y='Destruction Level', hue='Start Month', palette='rocket_r')"
   ]
  },
  {
   "cell_type": "code",
   "execution_count": 95,
   "metadata": {},
   "outputs": [
    {
     "data": {
      "text/plain": [
       "<Axes: xlabel='Start Year', ylabel='Destruction Level'>"
      ]
     },
     "execution_count": 95,
     "metadata": {},
     "output_type": "execute_result"
    },
    {
     "data": {
      "image/png": "[encoded data removed]",
      "text/plain": [
       "<Figure size 640x480 with 1 Axes>"
      ]
     },
     "metadata": {},
     "output_type": "display_data"
    }
   ],
   "source": [
    "sns.scatterplot(data=df_flood, x='Start Year', y='Destruction Level', hue='Start Year', palette='rocket_r')"
   ]
  },
  {
   "cell_type": "code",
   "execution_count": 96,
   "metadata": {},
   "outputs": [
    {
     "data": {
      "text/plain": [
       "<Axes: xlabel='Total Deaths', ylabel='Destruction Level'>"
      ]
     },
     "execution_count": 96,
     "metadata": {},
     "output_type": "execute_result"
    },
    {
     "data": {
      "image/png": "[encoded data removed]",
      "text/plain": [
       "<Figure size 640x480 with 1 Axes>"
      ]
     },
     "metadata": {},
     "output_type": "display_data"
    }
   ],
   "source": [
    "sns.scatterplot(data=df_flood, x='Total Deaths', y='Destruction Level', hue='Total Deaths', palette='rocket_r')"
   ]
  },
  {
   "cell_type": "code",
   "execution_count": 97,
   "metadata": {},
   "outputs": [
    {
     "data": {
      "text/plain": [
       "<Axes: xlabel='Total Affected', ylabel='Destruction Level'>"
      ]
     },
     "execution_count": 97,
     "metadata": {},
     "output_type": "execute_result"
    },
    {
     "data": {
      "image/png": "[encoded data removed]",
      "text/plain": [
       "<Figure size 640x480 with 1 Axes>"
      ]
     },
     "metadata": {},
     "output_type": "display_data"
    }
   ],
   "source": [
    "sns.scatterplot(data=df_flood, x='Total Affected', y='Destruction Level', hue='Total Affected', palette='rocket_r')"
   ]
  },
  {
   "cell_type": "code",
   "execution_count": 98,
   "metadata": {},
   "outputs": [
    {
     "data": {
      "text/plain": [
       "<Axes: xlabel='Total Damages Adj', ylabel='Destruction Level'>"
      ]
     },
     "execution_count": 98,
     "metadata": {},
     "output_type": "execute_result"
    },
    {
     "data": {
      "image/png": "[encoded data removed]",
      "text/plain": [
       "<Figure size 640x480 with 1 Axes>"
      ]
     },
     "metadata": {},
     "output_type": "display_data"
    }
   ],
   "source": [
    "sns.scatterplot(data=df_flood, x='Total Damages Adj', y='Destruction Level', hue='Total Damages Adj', palette='rocket_r')"
   ]
  },
  {
   "cell_type": "markdown",
   "metadata": {},
   "source": [
    "* La primera visualización muestra la relación entre 'Dis Mag Value' y 'Destruction Level'. Sugiere que existe una fuerte correlación entre estas dos variables, ya que el 'Nivel de destrucción' tiende a aumentar con un 'Valor de Magnitud de Desastre' más alto.\n",
    "* La segunda visualización muestra la relación entre el 'Mes de inicio' y el 'Nivel de destrucción'. Indica que podría haber alguna variación en el 'Nivel de destrucción' entre diferentes meses, aunque el patrón no está explícitamente claro.\n",
    "* La tercera visualización representa la relación entre el 'Año de inicio' y el 'Nivel de destrucción'. Sugiere que podría haber algunas tendencias o patrones en el 'Nivel de destrucción' a lo largo de los años, aunque una visión más específica requeriría un análisis más profundo, dado que influye la capacidad de recolección de datos por el incremento y mejora en conocimientos estadísticos e implementación de nuevas tecnologías.\n",
    "* La cuarta visualización muestra la relación entre 'Muertes Totales' y 'Nivel de Destrucción'. Indica que un 'Total de muertes' más alto generalmente corresponde a un 'Nivel de destrucción' más alto.\n",
    "* La quinta visualización muestra la relación entre 'Total de afectados' y 'Nivel de destrucción'. Sugiere que un 'total afectado' más alto tiende a asociarse con un 'nivel de destrucción' más alto.\n",
    "* La sexta visualización representa la relación entre 'Total Damages Adj' y 'Destruction Level'. Indica que un 'Ajuste total de daños' más alto generalmente corresponde a un 'Nivel de destrucción' más alto."
   ]
  },
  {
   "cell_type": "markdown",
   "metadata": {},
   "source": [
    "## Preparar X y"
   ]
  },
  {
   "cell_type": "code",
   "execution_count": 99,
   "metadata": {},
   "outputs": [],
   "source": [
    "# X = df_flood.drop(['Destruction Level', 'Destruction_1', 'Destruction_2', 'Destruction_3', 'Destruction_4'], axis=1)\n",
    "# Dio problemas porque 'Destruction_1', 'Destruction_2', 'Destruction_3', 'Destruction_4' no existen en df_flood\n",
    "\n",
    "X = df_flood.select_dtypes(exclude=['object'])  # Excluir columnas categóricas\n",
    "X = X.drop('Destruction Level', axis=1)  # Quitar 'Destruction Level' de X\n",
    "y = df_flood['Destruction Level']"
   ]
  },
  {
   "cell_type": "markdown",
   "metadata": {},
   "source": [
    "## train_test_split"
   ]
  },
  {
   "cell_type": "code",
   "execution_count": 100,
   "metadata": {},
   "outputs": [
    {
     "name": "stdout",
     "output_type": "stream",
     "text": [
      "train: (1381, 12), (1381,)\n",
      "test: (346, 12), (346,)\n"
     ]
    }
   ],
   "source": [
    "X_train, X_test, y_train, y_test = train_test_split(X, y, test_size=0.20, random_state=42)\n",
    "\n",
    "print(f\"train: {X_train.shape}, {y_train.shape}\")\n",
    "print(f\"test: {X_test.shape}, {y_test.shape}\")"
   ]
  },
  {
   "cell_type": "markdown",
   "metadata": {},
   "source": [
    "# Modelo"
   ]
  },
  {
   "cell_type": "markdown",
   "metadata": {},
   "source": [
    "## Definir el Modelo"
   ]
  },
  {
   "cell_type": "markdown",
   "metadata": {},
   "source": [
    "#### Pipeline columnas numéricas"
   ]
  },
  {
   "cell_type": "code",
   "execution_count": 101,
   "metadata": {},
   "outputs": [],
   "source": [
    "pipeline = Pipeline([\n",
    "    ('imputer', SimpleImputer(strategy='most_frequent')),  # Imputar valores faltantes usando most_frequent\n",
    "    ('scaler', StandardScaler()),  # Escalar características numéricas\n",
    "    ('classifier', RandomForestClassifier()) # Modelo elegido a partir de validación al ser el mejor del ranking\n",
    "])"
   ]
  },
  {
   "cell_type": "markdown",
   "metadata": {},
   "source": [
    "## Ejecución de pipeline"
   ]
  },
  {
   "cell_type": "markdown",
   "metadata": {},
   "source": [
    "### Entrenar el modelo"
   ]
  },
  {
   "cell_type": "code",
   "execution_count": 102,
   "metadata": {},
   "outputs": [
    {
     "data": {
      "text/html": [
       "<style>#sk-container-id-2 {color: black;background-color: white;}#sk-container-id-2 pre{padding: 0;}#sk-container-id-2 div.sk-toggleable {background-color: white;}#sk-container-id-2 label.sk-toggleable__label {cursor: pointer;display: block;width: 100%;margin-bottom: 0;padding: 0.3em;box-sizing: border-box;text-align: center;}#sk-container-id-2 label.sk-toggleable__label-arrow:before {content: \"▸\";float: left;margin-right: 0.25em;color: #696969;}#sk-container-id-2 label.sk-toggleable__label-arrow:hover:before {color: black;}#sk-container-id-2 div.sk-estimator:hover label.sk-toggleable__label-arrow:before {color: black;}#sk-container-id-2 div.sk-toggleable__content {max-height: 0;max-width: 0;overflow: hidden;text-align: left;background-color: #f0f8ff;}#sk-container-id-2 div.sk-toggleable__content pre {margin: 0.2em;color: black;border-radius: 0.25em;background-color: #f0f8ff;}#sk-container-id-2 input.sk-toggleable__control:checked~div.sk-toggleable__content {max-height: 200px;max-width: 100%;overflow: auto;}#sk-container-id-2 input.sk-toggleable__control:checked~label.sk-toggleable__label-arrow:before {content: \"▾\";}#sk-container-id-2 div.sk-estimator input.sk-toggleable__control:checked~label.sk-toggleable__label {background-color: #d4ebff;}#sk-container-id-2 div.sk-label input.sk-toggleable__control:checked~label.sk-toggleable__label {background-color: #d4ebff;}#sk-container-id-2 input.sk-hidden--visually {border: 0;clip: rect(1px 1px 1px 1px);clip: rect(1px, 1px, 1px, 1px);height: 1px;margin: -1px;overflow: hidden;padding: 0;position: absolute;width: 1px;}#sk-container-id-2 div.sk-estimator {font-family: monospace;background-color: #f0f8ff;border: 1px dotted black;border-radius: 0.25em;box-sizing: border-box;margin-bottom: 0.5em;}#sk-container-id-2 div.sk-estimator:hover {background-color: #d4ebff;}#sk-container-id-2 div.sk-parallel-item::after {content: \"\";width: 100%;border-bottom: 1px solid gray;flex-grow: 1;}#sk-container-id-2 div.sk-label:hover label.sk-toggleable__label {background-color: #d4ebff;}#sk-container-id-2 div.sk-serial::before {content: \"\";position: absolute;border-left: 1px solid gray;box-sizing: border-box;top: 0;bottom: 0;left: 50%;z-index: 0;}#sk-container-id-2 div.sk-serial {display: flex;flex-direction: column;align-items: center;background-color: white;padding-right: 0.2em;padding-left: 0.2em;position: relative;}#sk-container-id-2 div.sk-item {position: relative;z-index: 1;}#sk-container-id-2 div.sk-parallel {display: flex;align-items: stretch;justify-content: center;background-color: white;position: relative;}#sk-container-id-2 div.sk-item::before, #sk-container-id-2 div.sk-parallel-item::before {content: \"\";position: absolute;border-left: 1px solid gray;box-sizing: border-box;top: 0;bottom: 0;left: 50%;z-index: -1;}#sk-container-id-2 div.sk-parallel-item {display: flex;flex-direction: column;z-index: 1;position: relative;background-color: white;}#sk-container-id-2 div.sk-parallel-item:first-child::after {align-self: flex-end;width: 50%;}#sk-container-id-2 div.sk-parallel-item:last-child::after {align-self: flex-start;width: 50%;}#sk-container-id-2 div.sk-parallel-item:only-child::after {width: 0;}#sk-container-id-2 div.sk-dashed-wrapped {border: 1px dashed gray;margin: 0 0.4em 0.5em 0.4em;box-sizing: border-box;padding-bottom: 0.4em;background-color: white;}#sk-container-id-2 div.sk-label label {font-family: monospace;font-weight: bold;display: inline-block;line-height: 1.2em;}#sk-container-id-2 div.sk-label-container {text-align: center;}#sk-container-id-2 div.sk-container {/* jupyter's `normalize.less` sets `[hidden] { display: none; }` but bootstrap.min.css set `[hidden] { display: none !important; }` so we also need the `!important` here to be able to override the default hidden behavior on the sphinx rendered scikit-learn.org. See: https://github.com/scikit-learn/scikit-learn/issues/21755 */display: inline-block !important;position: relative;}#sk-container-id-2 div.sk-text-repr-fallback {display: none;}</style><div id=\"sk-container-id-2\" class=\"sk-top-container\"><div class=\"sk-text-repr-fallback\"><pre>Pipeline(steps=[(&#x27;imputer&#x27;, SimpleImputer(strategy=&#x27;most_frequent&#x27;)),\n",
       "                (&#x27;scaler&#x27;, StandardScaler()),\n",
       "                (&#x27;classifier&#x27;, RandomForestClassifier())])</pre><b>In a Jupyter environment, please rerun this cell to show the HTML representation or trust the notebook. <br />On GitHub, the HTML representation is unable to render, please try loading this page with nbviewer.org.</b></div><div class=\"sk-container\" hidden><div class=\"sk-item sk-dashed-wrapped\"><div class=\"sk-label-container\"><div class=\"sk-label sk-toggleable\"><input class=\"sk-toggleable__control sk-hidden--visually\" id=\"sk-estimator-id-5\" type=\"checkbox\" ><label for=\"sk-estimator-id-5\" class=\"sk-toggleable__label sk-toggleable__label-arrow\">Pipeline</label><div class=\"sk-toggleable__content\"><pre>Pipeline(steps=[(&#x27;imputer&#x27;, SimpleImputer(strategy=&#x27;most_frequent&#x27;)),\n",
       "                (&#x27;scaler&#x27;, StandardScaler()),\n",
       "                (&#x27;classifier&#x27;, RandomForestClassifier())])</pre></div></div></div><div class=\"sk-serial\"><div class=\"sk-item\"><div class=\"sk-estimator sk-toggleable\"><input class=\"sk-toggleable__control sk-hidden--visually\" id=\"sk-estimator-id-6\" type=\"checkbox\" ><label for=\"sk-estimator-id-6\" class=\"sk-toggleable__label sk-toggleable__label-arrow\">SimpleImputer</label><div class=\"sk-toggleable__content\"><pre>SimpleImputer(strategy=&#x27;most_frequent&#x27;)</pre></div></div></div><div class=\"sk-item\"><div class=\"sk-estimator sk-toggleable\"><input class=\"sk-toggleable__control sk-hidden--visually\" id=\"sk-estimator-id-7\" type=\"checkbox\" ><label for=\"sk-estimator-id-7\" class=\"sk-toggleable__label sk-toggleable__label-arrow\">StandardScaler</label><div class=\"sk-toggleable__content\"><pre>StandardScaler()</pre></div></div></div><div class=\"sk-item\"><div class=\"sk-estimator sk-toggleable\"><input class=\"sk-toggleable__control sk-hidden--visually\" id=\"sk-estimator-id-8\" type=\"checkbox\" ><label for=\"sk-estimator-id-8\" class=\"sk-toggleable__label sk-toggleable__label-arrow\">RandomForestClassifier</label><div class=\"sk-toggleable__content\"><pre>RandomForestClassifier()</pre></div></div></div></div></div></div></div>"
      ],
      "text/plain": [
       "Pipeline(steps=[('imputer', SimpleImputer(strategy='most_frequent')),\n",
       "                ('scaler', StandardScaler()),\n",
       "                ('classifier', RandomForestClassifier())])"
      ]
     },
     "execution_count": 102,
     "metadata": {},
     "output_type": "execute_result"
    }
   ],
   "source": [
    "pipeline.fit(X_train, y_train)"
   ]
  },
  {
   "cell_type": "markdown",
   "metadata": {},
   "source": [
    "#### Explicación de pipeline:\n",
    "Incluye los siguientes pasos: SimpleImputer, StandardScaler y RandomForestClassifier.\n",
    "* SimpleImputer para manejar los valores faltantes en los datos.\n",
    "* StandardScaler para estandarizar las características numéricas, asegurando que tengan una media cero y una varianza unitaria.\n",
    "* RandomForestClassifier es el modelo de clasificación elegido."
   ]
  },
  {
   "cell_type": "markdown",
   "metadata": {},
   "source": [
    "## Ejecución de pipeline"
   ]
  },
  {
   "cell_type": "code",
   "execution_count": 103,
   "metadata": {},
   "outputs": [],
   "source": [
    "pipeline.fit(X_train, y_train)\n",
    "y_pred = pipeline.predict(X_test)"
   ]
  },
  {
   "cell_type": "markdown",
   "metadata": {},
   "source": [
    "## Guardar pipeline"
   ]
  },
  {
   "cell_type": "markdown",
   "metadata": {},
   "source": [
    "Se usa joblib para guardar modelos o pipelines.\n",
    "\n",
    "Serializa un modelo o pipeline (objeto Python) a una secuencia de bytes que se almacenan en un archivo\n",
    "\n",
    "* joblib.dump()\n",
    "* joblib.load()"
   ]
  },
  {
   "cell_type": "code",
   "execution_count": 104,
   "metadata": {},
   "outputs": [
    {
     "data": {
      "text/plain": [
       "['pipelineRFC_Flood_DestructionLv2.joblib']"
      ]
     },
     "execution_count": 104,
     "metadata": {},
     "output_type": "execute_result"
    }
   ],
   "source": [
    "# pickle .pkl o .joblib\n",
    "joblib.dump(pipeline, 'pipelineRFC_Flood_DestructionLv2.pkl') # más genérico\n",
    "joblib.dump(pipeline, 'pipelineRFC_Flood_DestructionLv2.joblib') # más eficiente con muchos datos"
   ]
  },
  {
   "cell_type": "markdown",
   "metadata": {},
   "source": [
    "## Cargar pipeline"
   ]
  },
  {
   "cell_type": "code",
   "execution_count": 105,
   "metadata": {},
   "outputs": [
    {
     "data": {
      "text/plain": [
       "array([2, 1, 1, 3, 2, 1, 2, 2, 2, 4], dtype=int64)"
      ]
     },
     "execution_count": 105,
     "metadata": {},
     "output_type": "execute_result"
    }
   ],
   "source": [
    "pipeline = joblib.load('pipelineRFC_Flood_DestructionLv2.joblib')\n",
    "pipeline.predict(X_test)[:10]"
   ]
  },
  {
   "cell_type": "markdown",
   "metadata": {},
   "source": [
    "# Evaluar Modelo"
   ]
  },
  {
   "cell_type": "markdown",
   "metadata": {},
   "source": [
    "### Predicción y_pred"
   ]
  },
  {
   "cell_type": "code",
   "execution_count": 106,
   "metadata": {},
   "outputs": [],
   "source": [
    "y_pred = pipeline.predict(X_test)"
   ]
  },
  {
   "cell_type": "code",
   "execution_count": 107,
   "metadata": {},
   "outputs": [
    {
     "data": {
      "text/plain": [
       "(346,)"
      ]
     },
     "execution_count": 107,
     "metadata": {},
     "output_type": "execute_result"
    }
   ],
   "source": [
    "y_pred.shape"
   ]
  },
  {
   "cell_type": "markdown",
   "metadata": {},
   "source": [
    "# Últimas comprobaciones dataframe"
   ]
  },
  {
   "cell_type": "code",
   "execution_count": 108,
   "metadata": {},
   "outputs": [
    {
     "data": {
      "text/html": [
       "<div>\n",
       "<style scoped>\n",
       "    .dataframe tbody tr th:only-of-type {\n",
       "        vertical-align: middle;\n",
       "    }\n",
       "\n",
       "    .dataframe tbody tr th {\n",
       "        vertical-align: top;\n",
       "    }\n",
       "\n",
       "    .dataframe thead th {\n",
       "        text-align: right;\n",
       "    }\n",
       "</style>\n",
       "<table border=\"1\" class=\"dataframe\">\n",
       "  <thead>\n",
       "    <tr style=\"text-align: right;\">\n",
       "      <th></th>\n",
       "      <th>Dis No</th>\n",
       "      <th>Year</th>\n",
       "      <th>Seq</th>\n",
       "      <th>Disaster Subgroup</th>\n",
       "      <th>Disaster Type</th>\n",
       "      <th>Disaster Subtype</th>\n",
       "      <th>Country</th>\n",
       "      <th>ISO</th>\n",
       "      <th>Region</th>\n",
       "      <th>Continent</th>\n",
       "      <th>...</th>\n",
       "      <th>Start Month</th>\n",
       "      <th>Start Day</th>\n",
       "      <th>End Year</th>\n",
       "      <th>End Month</th>\n",
       "      <th>End Day</th>\n",
       "      <th>Total Deaths</th>\n",
       "      <th>Total Affected</th>\n",
       "      <th>Total Damages Adj</th>\n",
       "      <th>Flood Type</th>\n",
       "      <th>Destruction Level</th>\n",
       "    </tr>\n",
       "  </thead>\n",
       "  <tbody>\n",
       "    <tr>\n",
       "      <th>64</th>\n",
       "      <td>1922-0011-CAN</td>\n",
       "      <td>1922</td>\n",
       "      <td>11</td>\n",
       "      <td>Climatological</td>\n",
       "      <td>Wildfire</td>\n",
       "      <td>Forest fire</td>\n",
       "      <td>Canada</td>\n",
       "      <td>CAN</td>\n",
       "      <td>Northern America</td>\n",
       "      <td>Americas</td>\n",
       "      <td>...</td>\n",
       "      <td>9</td>\n",
       "      <td>30</td>\n",
       "      <td>1922</td>\n",
       "      <td>9</td>\n",
       "      <td>30</td>\n",
       "      <td>43</td>\n",
       "      <td>11000</td>\n",
       "      <td>139559</td>\n",
       "      <td>Moderate</td>\n",
       "      <td>2</td>\n",
       "    </tr>\n",
       "    <tr>\n",
       "      <th>135</th>\n",
       "      <td>1939-0001-CHL</td>\n",
       "      <td>1939</td>\n",
       "      <td>1</td>\n",
       "      <td>Geophysical</td>\n",
       "      <td>Earthquake</td>\n",
       "      <td>Ground movement</td>\n",
       "      <td>Chile</td>\n",
       "      <td>CHL</td>\n",
       "      <td>South America</td>\n",
       "      <td>Americas</td>\n",
       "      <td>...</td>\n",
       "      <td>1</td>\n",
       "      <td>24</td>\n",
       "      <td>1939</td>\n",
       "      <td>1</td>\n",
       "      <td>24</td>\n",
       "      <td>30000</td>\n",
       "      <td>58500</td>\n",
       "      <td>19312844</td>\n",
       "      <td>Very High</td>\n",
       "      <td>4</td>\n",
       "    </tr>\n",
       "    <tr>\n",
       "      <th>151</th>\n",
       "      <td>1943-0010-CHL</td>\n",
       "      <td>1943</td>\n",
       "      <td>10</td>\n",
       "      <td>Geophysical</td>\n",
       "      <td>Earthquake</td>\n",
       "      <td>Ground movement</td>\n",
       "      <td>Chile</td>\n",
       "      <td>CHL</td>\n",
       "      <td>South America</td>\n",
       "      <td>Americas</td>\n",
       "      <td>...</td>\n",
       "      <td>4</td>\n",
       "      <td>6</td>\n",
       "      <td>1943</td>\n",
       "      <td>4</td>\n",
       "      <td>6</td>\n",
       "      <td>12</td>\n",
       "      <td>35</td>\n",
       "      <td>1687452</td>\n",
       "      <td>Moderate</td>\n",
       "      <td>2</td>\n",
       "    </tr>\n",
       "    <tr>\n",
       "      <th>158</th>\n",
       "      <td>1944-0002-ARG</td>\n",
       "      <td>1944</td>\n",
       "      <td>2</td>\n",
       "      <td>Geophysical</td>\n",
       "      <td>Earthquake</td>\n",
       "      <td>Ground movement</td>\n",
       "      <td>Argentina</td>\n",
       "      <td>ARG</td>\n",
       "      <td>South America</td>\n",
       "      <td>Americas</td>\n",
       "      <td>...</td>\n",
       "      <td>1</td>\n",
       "      <td>15</td>\n",
       "      <td>1944</td>\n",
       "      <td>1</td>\n",
       "      <td>15</td>\n",
       "      <td>10000</td>\n",
       "      <td>155000</td>\n",
       "      <td>1658743</td>\n",
       "      <td>Very High</td>\n",
       "      <td>4</td>\n",
       "    </tr>\n",
       "    <tr>\n",
       "      <th>184</th>\n",
       "      <td>1949-0010-ECU</td>\n",
       "      <td>1949</td>\n",
       "      <td>10</td>\n",
       "      <td>Geophysical</td>\n",
       "      <td>Earthquake</td>\n",
       "      <td>Ground movement</td>\n",
       "      <td>Ecuador</td>\n",
       "      <td>ECU</td>\n",
       "      <td>South America</td>\n",
       "      <td>Americas</td>\n",
       "      <td>...</td>\n",
       "      <td>8</td>\n",
       "      <td>5</td>\n",
       "      <td>1949</td>\n",
       "      <td>8</td>\n",
       "      <td>5</td>\n",
       "      <td>6000</td>\n",
       "      <td>100000</td>\n",
       "      <td>245448</td>\n",
       "      <td>Very High</td>\n",
       "      <td>4</td>\n",
       "    </tr>\n",
       "    <tr>\n",
       "      <th>...</th>\n",
       "      <td>...</td>\n",
       "      <td>...</td>\n",
       "      <td>...</td>\n",
       "      <td>...</td>\n",
       "      <td>...</td>\n",
       "      <td>...</td>\n",
       "      <td>...</td>\n",
       "      <td>...</td>\n",
       "      <td>...</td>\n",
       "      <td>...</td>\n",
       "      <td>...</td>\n",
       "      <td>...</td>\n",
       "      <td>...</td>\n",
       "      <td>...</td>\n",
       "      <td>...</td>\n",
       "      <td>...</td>\n",
       "      <td>...</td>\n",
       "      <td>...</td>\n",
       "      <td>...</td>\n",
       "      <td>...</td>\n",
       "      <td>...</td>\n",
       "    </tr>\n",
       "    <tr>\n",
       "      <th>1796</th>\n",
       "      <td>1977-0078-TON</td>\n",
       "      <td>1977</td>\n",
       "      <td>78</td>\n",
       "      <td>Geophysical</td>\n",
       "      <td>Earthquake</td>\n",
       "      <td>Ground movement</td>\n",
       "      <td>Tonga</td>\n",
       "      <td>TON</td>\n",
       "      <td>Polynesia</td>\n",
       "      <td>Oceania</td>\n",
       "      <td>...</td>\n",
       "      <td>6</td>\n",
       "      <td>23</td>\n",
       "      <td>1977</td>\n",
       "      <td>6</td>\n",
       "      <td>23</td>\n",
       "      <td>1</td>\n",
       "      <td>5505</td>\n",
       "      <td>5794</td>\n",
       "      <td>Low</td>\n",
       "      <td>1</td>\n",
       "    </tr>\n",
       "    <tr>\n",
       "      <th>1814</th>\n",
       "      <td>1978-0115-IRN</td>\n",
       "      <td>1978</td>\n",
       "      <td>115</td>\n",
       "      <td>Geophysical</td>\n",
       "      <td>Earthquake</td>\n",
       "      <td>Ground movement</td>\n",
       "      <td>Iran (Islamic Republic of)</td>\n",
       "      <td>IRN</td>\n",
       "      <td>Southern Asia</td>\n",
       "      <td>Asia</td>\n",
       "      <td>...</td>\n",
       "      <td>9</td>\n",
       "      <td>16</td>\n",
       "      <td>1978</td>\n",
       "      <td>9</td>\n",
       "      <td>16</td>\n",
       "      <td>25000</td>\n",
       "      <td>40000</td>\n",
       "      <td>224314</td>\n",
       "      <td>Very High</td>\n",
       "      <td>4</td>\n",
       "    </tr>\n",
       "    <tr>\n",
       "      <th>1818</th>\n",
       "      <td>1978-0080-JPN</td>\n",
       "      <td>1978</td>\n",
       "      <td>80</td>\n",
       "      <td>Geophysical</td>\n",
       "      <td>Earthquake</td>\n",
       "      <td>Ground movement</td>\n",
       "      <td>Japan</td>\n",
       "      <td>JPN</td>\n",
       "      <td>Eastern Asia</td>\n",
       "      <td>Asia</td>\n",
       "      <td>...</td>\n",
       "      <td>6</td>\n",
       "      <td>12</td>\n",
       "      <td>1978</td>\n",
       "      <td>6</td>\n",
       "      <td>12</td>\n",
       "      <td>28</td>\n",
       "      <td>2500</td>\n",
       "      <td>3880630</td>\n",
       "      <td>Moderate</td>\n",
       "      <td>2</td>\n",
       "    </tr>\n",
       "    <tr>\n",
       "      <th>1830</th>\n",
       "      <td>1978-0040-MOZ</td>\n",
       "      <td>1978</td>\n",
       "      <td>40</td>\n",
       "      <td>Hydrological</td>\n",
       "      <td>Flood</td>\n",
       "      <td>NaN</td>\n",
       "      <td>Mozambique</td>\n",
       "      <td>MOZ</td>\n",
       "      <td>Eastern Africa</td>\n",
       "      <td>Africa</td>\n",
       "      <td>...</td>\n",
       "      <td>3</td>\n",
       "      <td>0</td>\n",
       "      <td>1978</td>\n",
       "      <td>3</td>\n",
       "      <td>0</td>\n",
       "      <td>40</td>\n",
       "      <td>200000</td>\n",
       "      <td>282635</td>\n",
       "      <td>High</td>\n",
       "      <td>3</td>\n",
       "    </tr>\n",
       "    <tr>\n",
       "      <th>1838</th>\n",
       "      <td>1978-0126-PHL</td>\n",
       "      <td>1978</td>\n",
       "      <td>126</td>\n",
       "      <td>Meteorological</td>\n",
       "      <td>Storm</td>\n",
       "      <td>Tropical cyclone</td>\n",
       "      <td>Philippines (the)</td>\n",
       "      <td>PHL</td>\n",
       "      <td>South-Eastern Asia</td>\n",
       "      <td>Asia</td>\n",
       "      <td>...</td>\n",
       "      <td>10</td>\n",
       "      <td>26</td>\n",
       "      <td>1978</td>\n",
       "      <td>10</td>\n",
       "      <td>26</td>\n",
       "      <td>340</td>\n",
       "      <td>1500749</td>\n",
       "      <td>515922</td>\n",
       "      <td>Very High</td>\n",
       "      <td>4</td>\n",
       "    </tr>\n",
       "  </tbody>\n",
       "</table>\n",
       "<p>100 rows × 28 columns</p>\n",
       "</div>"
      ],
      "text/plain": [
       "             Dis No  Year  Seq Disaster Subgroup Disaster Type  \\\n",
       "64    1922-0011-CAN  1922   11    Climatological      Wildfire   \n",
       "135   1939-0001-CHL  1939    1       Geophysical    Earthquake   \n",
       "151   1943-0010-CHL  1943   10       Geophysical    Earthquake   \n",
       "158   1944-0002-ARG  1944    2       Geophysical    Earthquake   \n",
       "184   1949-0010-ECU  1949   10       Geophysical    Earthquake   \n",
       "...             ...   ...  ...               ...           ...   \n",
       "1796  1977-0078-TON  1977   78       Geophysical    Earthquake   \n",
       "1814  1978-0115-IRN  1978  115       Geophysical    Earthquake   \n",
       "1818  1978-0080-JPN  1978   80       Geophysical    Earthquake   \n",
       "1830  1978-0040-MOZ  1978   40      Hydrological         Flood   \n",
       "1838  1978-0126-PHL  1978  126    Meteorological         Storm   \n",
       "\n",
       "      Disaster Subtype                     Country  ISO              Region  \\\n",
       "64         Forest fire                      Canada  CAN    Northern America   \n",
       "135    Ground movement                       Chile  CHL       South America   \n",
       "151    Ground movement                       Chile  CHL       South America   \n",
       "158    Ground movement                   Argentina  ARG       South America   \n",
       "184    Ground movement                     Ecuador  ECU       South America   \n",
       "...                ...                         ...  ...                 ...   \n",
       "1796   Ground movement                       Tonga  TON           Polynesia   \n",
       "1814   Ground movement  Iran (Islamic Republic of)  IRN       Southern Asia   \n",
       "1818   Ground movement                       Japan  JPN        Eastern Asia   \n",
       "1830               NaN                  Mozambique  MOZ      Eastern Africa   \n",
       "1838  Tropical cyclone           Philippines (the)  PHL  South-Eastern Asia   \n",
       "\n",
       "     Continent  ... Start Month Start Day End Year  End Month End Day  \\\n",
       "64    Americas  ...           9        30     1922          9      30   \n",
       "135   Americas  ...           1        24     1939          1      24   \n",
       "151   Americas  ...           4         6     1943          4       6   \n",
       "158   Americas  ...           1        15     1944          1      15   \n",
       "184   Americas  ...           8         5     1949          8       5   \n",
       "...        ...  ...         ...       ...      ...        ...     ...   \n",
       "1796   Oceania  ...           6        23     1977          6      23   \n",
       "1814      Asia  ...           9        16     1978          9      16   \n",
       "1818      Asia  ...           6        12     1978          6      12   \n",
       "1830    Africa  ...           3         0     1978          3       0   \n",
       "1838      Asia  ...          10        26     1978         10      26   \n",
       "\n",
       "     Total Deaths Total Affected  Total Damages Adj  Flood Type  \\\n",
       "64             43          11000             139559    Moderate   \n",
       "135         30000          58500           19312844   Very High   \n",
       "151            12             35            1687452    Moderate   \n",
       "158         10000         155000            1658743   Very High   \n",
       "184          6000         100000             245448   Very High   \n",
       "...           ...            ...                ...         ...   \n",
       "1796            1           5505               5794         Low   \n",
       "1814        25000          40000             224314   Very High   \n",
       "1818           28           2500            3880630    Moderate   \n",
       "1830           40         200000             282635        High   \n",
       "1838          340        1500749             515922   Very High   \n",
       "\n",
       "      Destruction Level  \n",
       "64                    2  \n",
       "135                   4  \n",
       "151                   2  \n",
       "158                   4  \n",
       "184                   4  \n",
       "...                 ...  \n",
       "1796                  1  \n",
       "1814                  4  \n",
       "1818                  2  \n",
       "1830                  3  \n",
       "1838                  4  \n",
       "\n",
       "[100 rows x 28 columns]"
      ]
     },
     "execution_count": 108,
     "metadata": {},
     "output_type": "execute_result"
    }
   ],
   "source": [
    "df_flood.head(100)"
   ]
  },
  {
   "cell_type": "code",
   "execution_count": 109,
   "metadata": {},
   "outputs": [
    {
     "data": {
      "text/plain": [
       "Index(['Dis No', 'Year', 'Seq', 'Disaster Subgroup', 'Disaster Type',\n",
       "       'Disaster Subtype', 'Country', 'ISO', 'Region', 'Continent', 'Location',\n",
       "       'Origin', 'Associated Dis', 'Dis Mag Value', 'Dis Mag Scale',\n",
       "       'Latitude', 'Longitude', 'Start Year', 'Start Month', 'Start Day',\n",
       "       'End Year', 'End Month', 'End Day', 'Total Deaths', 'Total Affected',\n",
       "       'Total Damages Adj', 'Flood Type', 'Destruction Level'],\n",
       "      dtype='object')"
      ]
     },
     "execution_count": 109,
     "metadata": {},
     "output_type": "execute_result"
    }
   ],
   "source": [
    "df_flood.columns"
   ]
  },
  {
   "cell_type": "code",
   "execution_count": 110,
   "metadata": {},
   "outputs": [
    {
     "data": {
      "text/plain": [
       "Dis No                  0\n",
       "Year                    0\n",
       "Seq                     0\n",
       "Disaster Subgroup       0\n",
       "Disaster Type           0\n",
       "Disaster Subtype      103\n",
       "Country                 0\n",
       "ISO                     0\n",
       "Region                  0\n",
       "Continent               0\n",
       "Location               28\n",
       "Origin               1120\n",
       "Associated Dis       1056\n",
       "Dis Mag Value           0\n",
       "Dis Mag Scale           4\n",
       "Latitude              970\n",
       "Longitude             970\n",
       "Start Year              0\n",
       "Start Month             0\n",
       "Start Day               0\n",
       "End Year                0\n",
       "End Month               0\n",
       "End Day                 0\n",
       "Total Deaths            0\n",
       "Total Affected          0\n",
       "Total Damages Adj       0\n",
       "Flood Type              0\n",
       "Destruction Level       0\n",
       "dtype: int64"
      ]
     },
     "execution_count": 110,
     "metadata": {},
     "output_type": "execute_result"
    }
   ],
   "source": [
    "df_flood.isnull().sum()"
   ]
  },
  {
   "cell_type": "code",
   "execution_count": 111,
   "metadata": {},
   "outputs": [
    {
     "data": {
      "text/plain": [
       "1"
      ]
     },
     "execution_count": 111,
     "metadata": {},
     "output_type": "execute_result"
    }
   ],
   "source": [
    "df_flood['Destruction Level'].min()"
   ]
  },
  {
   "cell_type": "markdown",
   "metadata": {},
   "source": [
    "### Pivot Tables"
   ]
  },
  {
   "cell_type": "code",
   "execution_count": 112,
   "metadata": {},
   "outputs": [
    {
     "data": {
      "text/html": [
       "<div>\n",
       "<style scoped>\n",
       "    .dataframe tbody tr th:only-of-type {\n",
       "        vertical-align: middle;\n",
       "    }\n",
       "\n",
       "    .dataframe tbody tr th {\n",
       "        vertical-align: top;\n",
       "    }\n",
       "\n",
       "    .dataframe thead th {\n",
       "        text-align: right;\n",
       "    }\n",
       "</style>\n",
       "<table border=\"1\" class=\"dataframe\">\n",
       "  <thead>\n",
       "    <tr style=\"text-align: right;\">\n",
       "      <th></th>\n",
       "      <th>Dis Mag Value</th>\n",
       "      <th>Total Affected</th>\n",
       "      <th>Total Damages Adj</th>\n",
       "      <th>Total Deaths</th>\n",
       "    </tr>\n",
       "    <tr>\n",
       "      <th>Destruction Level</th>\n",
       "      <th></th>\n",
       "      <th></th>\n",
       "      <th></th>\n",
       "      <th></th>\n",
       "    </tr>\n",
       "  </thead>\n",
       "  <tbody>\n",
       "    <tr>\n",
       "      <th>1</th>\n",
       "      <td>4</td>\n",
       "      <td>2</td>\n",
       "      <td>2</td>\n",
       "      <td>1</td>\n",
       "    </tr>\n",
       "    <tr>\n",
       "      <th>2</th>\n",
       "      <td>1</td>\n",
       "      <td>2</td>\n",
       "      <td>90</td>\n",
       "      <td>1</td>\n",
       "    </tr>\n",
       "    <tr>\n",
       "      <th>3</th>\n",
       "      <td>5</td>\n",
       "      <td>280</td>\n",
       "      <td>71</td>\n",
       "      <td>1</td>\n",
       "    </tr>\n",
       "    <tr>\n",
       "      <th>4</th>\n",
       "      <td>6</td>\n",
       "      <td>750</td>\n",
       "      <td>480</td>\n",
       "      <td>2</td>\n",
       "    </tr>\n",
       "  </tbody>\n",
       "</table>\n",
       "</div>"
      ],
      "text/plain": [
       "                   Dis Mag Value  Total Affected  Total Damages Adj  \\\n",
       "Destruction Level                                                     \n",
       "1                              4               2                  2   \n",
       "2                              1               2                 90   \n",
       "3                              5             280                 71   \n",
       "4                              6             750                480   \n",
       "\n",
       "                   Total Deaths  \n",
       "Destruction Level                \n",
       "1                             1  \n",
       "2                             1  \n",
       "3                             1  \n",
       "4                             2  "
      ]
     },
     "execution_count": 112,
     "metadata": {},
     "output_type": "execute_result"
    }
   ],
   "source": [
    "df_floodresult_pivot_table = pd.pivot_table(df_flood, index='Destruction Level', values=['Dis Mag Value', 'Total Deaths', 'Total Affected', 'Total Damages Adj'], aggfunc='min')\n",
    "df_floodresult_pivot_table"
   ]
  },
  {
   "cell_type": "code",
   "execution_count": 113,
   "metadata": {},
   "outputs": [
    {
     "data": {
      "text/html": [
       "<div>\n",
       "<style scoped>\n",
       "    .dataframe tbody tr th:only-of-type {\n",
       "        vertical-align: middle;\n",
       "    }\n",
       "\n",
       "    .dataframe tbody tr th {\n",
       "        vertical-align: top;\n",
       "    }\n",
       "\n",
       "    .dataframe thead th {\n",
       "        text-align: right;\n",
       "    }\n",
       "</style>\n",
       "<table border=\"1\" class=\"dataframe\">\n",
       "  <thead>\n",
       "    <tr style=\"text-align: right;\">\n",
       "      <th></th>\n",
       "      <th>Dis Mag Value</th>\n",
       "      <th>Total Affected</th>\n",
       "      <th>Total Damages Adj</th>\n",
       "      <th>Total Deaths</th>\n",
       "    </tr>\n",
       "    <tr>\n",
       "      <th>Destruction Level</th>\n",
       "      <th></th>\n",
       "      <th></th>\n",
       "      <th></th>\n",
       "      <th></th>\n",
       "    </tr>\n",
       "  </thead>\n",
       "  <tbody>\n",
       "    <tr>\n",
       "      <th>1</th>\n",
       "      <td>162400</td>\n",
       "      <td>9480</td>\n",
       "      <td>979883</td>\n",
       "      <td>98</td>\n",
       "    </tr>\n",
       "    <tr>\n",
       "      <th>2</th>\n",
       "      <td>340197</td>\n",
       "      <td>95008</td>\n",
       "      <td>9915168</td>\n",
       "      <td>498</td>\n",
       "    </tr>\n",
       "    <tr>\n",
       "      <th>3</th>\n",
       "      <td>1829701</td>\n",
       "      <td>498924</td>\n",
       "      <td>70201819</td>\n",
       "      <td>922</td>\n",
       "    </tr>\n",
       "    <tr>\n",
       "      <th>4</th>\n",
       "      <td>2857000</td>\n",
       "      <td>238973000</td>\n",
       "      <td>273218373</td>\n",
       "      <td>242000</td>\n",
       "    </tr>\n",
       "  </tbody>\n",
       "</table>\n",
       "</div>"
      ],
      "text/plain": [
       "                   Dis Mag Value  Total Affected  Total Damages Adj  \\\n",
       "Destruction Level                                                     \n",
       "1                         162400            9480             979883   \n",
       "2                         340197           95008            9915168   \n",
       "3                        1829701          498924           70201819   \n",
       "4                        2857000       238973000          273218373   \n",
       "\n",
       "                   Total Deaths  \n",
       "Destruction Level                \n",
       "1                            98  \n",
       "2                           498  \n",
       "3                           922  \n",
       "4                        242000  "
      ]
     },
     "execution_count": 113,
     "metadata": {},
     "output_type": "execute_result"
    }
   ],
   "source": [
    "df_floodresult_pivot_table = pd.pivot_table(df_flood, index='Destruction Level', values=['Dis Mag Value', 'Total Deaths', 'Total Affected', 'Total Damages Adj'], aggfunc='max')\n",
    "df_floodresult_pivot_table"
   ]
  },
  {
   "cell_type": "code",
   "execution_count": 114,
   "metadata": {},
   "outputs": [
    {
     "data": {
      "text/html": [
       "<div>\n",
       "<style scoped>\n",
       "    .dataframe tbody tr th:only-of-type {\n",
       "        vertical-align: middle;\n",
       "    }\n",
       "\n",
       "    .dataframe tbody tr th {\n",
       "        vertical-align: top;\n",
       "    }\n",
       "\n",
       "    .dataframe thead th {\n",
       "        text-align: right;\n",
       "    }\n",
       "</style>\n",
       "<table border=\"1\" class=\"dataframe\">\n",
       "  <thead>\n",
       "    <tr style=\"text-align: right;\">\n",
       "      <th></th>\n",
       "      <th>Dis Mag Value</th>\n",
       "      <th>Total Affected</th>\n",
       "      <th>Total Damages Adj</th>\n",
       "      <th>Total Deaths</th>\n",
       "    </tr>\n",
       "    <tr>\n",
       "      <th>Destruction Level</th>\n",
       "      <th></th>\n",
       "      <th></th>\n",
       "      <th></th>\n",
       "      <th></th>\n",
       "    </tr>\n",
       "  </thead>\n",
       "  <tbody>\n",
       "    <tr>\n",
       "      <th>1</th>\n",
       "      <td>4453762</td>\n",
       "      <td>951047</td>\n",
       "      <td>67236606</td>\n",
       "      <td>5479</td>\n",
       "    </tr>\n",
       "    <tr>\n",
       "      <th>2</th>\n",
       "      <td>13056798</td>\n",
       "      <td>15235233</td>\n",
       "      <td>456982586</td>\n",
       "      <td>25929</td>\n",
       "    </tr>\n",
       "    <tr>\n",
       "      <th>3</th>\n",
       "      <td>31887631</td>\n",
       "      <td>73563365</td>\n",
       "      <td>1101409095</td>\n",
       "      <td>36568</td>\n",
       "    </tr>\n",
       "    <tr>\n",
       "      <th>4</th>\n",
       "      <td>32826241</td>\n",
       "      <td>2467689139</td>\n",
       "      <td>2071238971</td>\n",
       "      <td>2065470</td>\n",
       "    </tr>\n",
       "  </tbody>\n",
       "</table>\n",
       "</div>"
      ],
      "text/plain": [
       "                   Dis Mag Value  Total Affected  Total Damages Adj  \\\n",
       "Destruction Level                                                     \n",
       "1                        4453762          951047           67236606   \n",
       "2                       13056798        15235233          456982586   \n",
       "3                       31887631        73563365         1101409095   \n",
       "4                       32826241      2467689139         2071238971   \n",
       "\n",
       "                   Total Deaths  \n",
       "Destruction Level                \n",
       "1                          5479  \n",
       "2                         25929  \n",
       "3                         36568  \n",
       "4                       2065470  "
      ]
     },
     "execution_count": 114,
     "metadata": {},
     "output_type": "execute_result"
    }
   ],
   "source": [
    "df_floodresult_pivot_table = pd.pivot_table(df_flood, index='Destruction Level', values=['Dis Mag Value', 'Total Deaths', 'Total Affected', 'Total Damages Adj'], aggfunc='sum')\n",
    "df_floodresult_pivot_table"
   ]
  },
  {
   "cell_type": "code",
   "execution_count": 115,
   "metadata": {},
   "outputs": [
    {
     "data": {
      "text/html": [
       "<div>\n",
       "<style scoped>\n",
       "    .dataframe tbody tr th:only-of-type {\n",
       "        vertical-align: middle;\n",
       "    }\n",
       "\n",
       "    .dataframe tbody tr th {\n",
       "        vertical-align: top;\n",
       "    }\n",
       "\n",
       "    .dataframe thead th {\n",
       "        text-align: right;\n",
       "    }\n",
       "</style>\n",
       "<table border=\"1\" class=\"dataframe\">\n",
       "  <thead>\n",
       "    <tr style=\"text-align: right;\">\n",
       "      <th></th>\n",
       "      <th>Dis Mag Value</th>\n",
       "      <th>Total Affected</th>\n",
       "      <th>Total Damages Adj</th>\n",
       "      <th>Total Deaths</th>\n",
       "    </tr>\n",
       "    <tr>\n",
       "      <th>Destruction Level</th>\n",
       "      <th></th>\n",
       "      <th></th>\n",
       "      <th></th>\n",
       "      <th></th>\n",
       "    </tr>\n",
       "  </thead>\n",
       "  <tbody>\n",
       "    <tr>\n",
       "      <th>1</th>\n",
       "      <td>10168.406393</td>\n",
       "      <td>2.171340e+03</td>\n",
       "      <td>1.535082e+05</td>\n",
       "      <td>12.509132</td>\n",
       "    </tr>\n",
       "    <tr>\n",
       "      <th>2</th>\n",
       "      <td>24405.229907</td>\n",
       "      <td>2.847707e+04</td>\n",
       "      <td>8.541731e+05</td>\n",
       "      <td>48.465421</td>\n",
       "    </tr>\n",
       "    <tr>\n",
       "      <th>3</th>\n",
       "      <td>89571.997191</td>\n",
       "      <td>2.066387e+05</td>\n",
       "      <td>3.093846e+06</td>\n",
       "      <td>102.719101</td>\n",
       "    </tr>\n",
       "    <tr>\n",
       "      <th>4</th>\n",
       "      <td>82477.992462</td>\n",
       "      <td>6.200224e+06</td>\n",
       "      <td>5.204118e+06</td>\n",
       "      <td>5189.623116</td>\n",
       "    </tr>\n",
       "  </tbody>\n",
       "</table>\n",
       "</div>"
      ],
      "text/plain": [
       "                   Dis Mag Value  Total Affected  Total Damages Adj  \\\n",
       "Destruction Level                                                     \n",
       "1                   10168.406393    2.171340e+03       1.535082e+05   \n",
       "2                   24405.229907    2.847707e+04       8.541731e+05   \n",
       "3                   89571.997191    2.066387e+05       3.093846e+06   \n",
       "4                   82477.992462    6.200224e+06       5.204118e+06   \n",
       "\n",
       "                   Total Deaths  \n",
       "Destruction Level                \n",
       "1                     12.509132  \n",
       "2                     48.465421  \n",
       "3                    102.719101  \n",
       "4                   5189.623116  "
      ]
     },
     "execution_count": 115,
     "metadata": {},
     "output_type": "execute_result"
    }
   ],
   "source": [
    "df_floodresult_pivot_table = pd.pivot_table(df_flood, index='Destruction Level', values=['Dis Mag Value', 'Total Deaths', 'Total Affected', 'Total Damages Adj'], aggfunc='mean')\n",
    "df_floodresult_pivot_table"
   ]
  },
  {
   "cell_type": "code",
   "execution_count": 116,
   "metadata": {},
   "outputs": [
    {
     "data": {
      "text/html": [
       "<div>\n",
       "<style scoped>\n",
       "    .dataframe tbody tr th:only-of-type {\n",
       "        vertical-align: middle;\n",
       "    }\n",
       "\n",
       "    .dataframe tbody tr th {\n",
       "        vertical-align: top;\n",
       "    }\n",
       "\n",
       "    .dataframe thead th {\n",
       "        text-align: right;\n",
       "    }\n",
       "</style>\n",
       "<table border=\"1\" class=\"dataframe\">\n",
       "  <thead>\n",
       "    <tr style=\"text-align: right;\">\n",
       "      <th></th>\n",
       "      <th>Dis Mag Value</th>\n",
       "      <th>Total Affected</th>\n",
       "      <th>Total Damages Adj</th>\n",
       "      <th>Total Deaths</th>\n",
       "    </tr>\n",
       "    <tr>\n",
       "      <th>Destruction Level</th>\n",
       "      <th></th>\n",
       "      <th></th>\n",
       "      <th></th>\n",
       "      <th></th>\n",
       "    </tr>\n",
       "  </thead>\n",
       "  <tbody>\n",
       "    <tr>\n",
       "      <th>1</th>\n",
       "      <td>160.5</td>\n",
       "      <td>1207.5</td>\n",
       "      <td>44981.0</td>\n",
       "      <td>5.0</td>\n",
       "    </tr>\n",
       "    <tr>\n",
       "      <th>2</th>\n",
       "      <td>180.0</td>\n",
       "      <td>20030.0</td>\n",
       "      <td>121936.0</td>\n",
       "      <td>15.0</td>\n",
       "    </tr>\n",
       "    <tr>\n",
       "      <th>3</th>\n",
       "      <td>310.0</td>\n",
       "      <td>200000.0</td>\n",
       "      <td>243915.0</td>\n",
       "      <td>38.5</td>\n",
       "    </tr>\n",
       "    <tr>\n",
       "      <th>4</th>\n",
       "      <td>215.5</td>\n",
       "      <td>1489994.5</td>\n",
       "      <td>525727.5</td>\n",
       "      <td>189.0</td>\n",
       "    </tr>\n",
       "  </tbody>\n",
       "</table>\n",
       "</div>"
      ],
      "text/plain": [
       "                   Dis Mag Value  Total Affected  Total Damages Adj  \\\n",
       "Destruction Level                                                     \n",
       "1                          160.5          1207.5            44981.0   \n",
       "2                          180.0         20030.0           121936.0   \n",
       "3                          310.0        200000.0           243915.0   \n",
       "4                          215.5       1489994.5           525727.5   \n",
       "\n",
       "                   Total Deaths  \n",
       "Destruction Level                \n",
       "1                           5.0  \n",
       "2                          15.0  \n",
       "3                          38.5  \n",
       "4                         189.0  "
      ]
     },
     "execution_count": 116,
     "metadata": {},
     "output_type": "execute_result"
    }
   ],
   "source": [
    "df_floodresult_pivot_table = pd.pivot_table(df_flood, index='Destruction Level', values=['Dis Mag Value', 'Total Deaths', 'Total Affected', 'Total Damages Adj'], aggfunc='median')\n",
    "df_floodresult_pivot_table"
   ]
  },
  {
   "cell_type": "markdown",
   "metadata": {},
   "source": [
    "# Reporte de Clasificación"
   ]
  },
  {
   "cell_type": "markdown",
   "metadata": {},
   "source": [
    "La precisión, la recuperación y la puntuación F1 son métricas de evaluación de uso común en modelos de aprendizaje automático, particularmente en tareas de clasificación. Estas métricas brindan información sobre el rendimiento del modelo y su capacidad para clasificar correctamente las instancias.\n",
    "\n",
    "* Precision: la precisión mide la proporción de instancias positivas pronosticadas correctamente (positivos verdaderos) de todas las instancias pronosticadas como positivas (positivos verdaderos + positivos falsos). En otras palabras, la precisión indica qué tan preciso o exacto es el modelo cuando predice una clase positiva. Una puntuación de alta precisión sugiere que el modelo tiene una baja tasa de falsos positivos.\n",
    "\n",
    "* Recall: la recuperación, también conocida como sensibilidad o tasa de verdaderos positivos, mide la proporción de instancias positivas pronosticadas correctamente (verdaderos positivos) de todas las instancias positivas reales (verdaderos positivos + falsos negativos). Representa la capacidad del modelo para identificar o capturar instancias positivas. Una puntuación de recuerdo alta sugiere que el modelo tiene una tasa baja de falsos negativos.\n",
    "\n",
    "* f1-score: La puntuación F1 es la media armónica de precisión y recuperación. Proporciona una medida equilibrada que considera simultáneamente la precisión y la recuperación. La puntuación F1 combina precisión y recuperación en una sola métrica y proporciona una evaluación más completa del rendimiento del modelo. Es especialmente útil cuando se trata de conjuntos de datos desequilibrados, donde la distribución de clases es desigual.\n",
    "\n",
    "Al interpretar estas métricas, es fundamental tener en cuenta los objetivos y requisitos específicos de la tarea de clasificación. Es deseable una puntuación de alta precisión cuando es crucial minimizar los falsos positivos. Por otro lado, una puntuación alta de recuerdo es deseable cuando la captura de tantos positivos verdaderos como sea posible es una prioridad. La puntuación F1 proporciona una vista equilibrada, teniendo en cuenta tanto la precisión como la recuperación.\n",
    "\n",
    "En resumen, la precisión, la recuperación y la puntuación F1 son métricas valiosas para evaluar el rendimiento de un modelo de clasificación, que brindan información sobre su precisión, capacidad para capturar instancias positivas y rendimiento general equilibrado."
   ]
  },
  {
   "cell_type": "code",
   "execution_count": 117,
   "metadata": {},
   "outputs": [
    {
     "name": "stdout",
     "output_type": "stream",
     "text": [
      "Reporte de Clasificación:\n",
      "              precision    recall  f1-score   support\n",
      "\n",
      "           1       0.98      1.00      0.99        90\n",
      "           2       0.97      0.98      0.98       115\n",
      "           3       1.00      0.97      0.99        69\n",
      "           4       1.00      0.99      0.99        72\n",
      "\n",
      "    accuracy                           0.99       346\n",
      "   macro avg       0.99      0.98      0.99       346\n",
      "weighted avg       0.99      0.99      0.99       346\n",
      "\n"
     ]
    }
   ],
   "source": [
    "report = classification_report(y_test, y_pred)\n",
    "print(\"Reporte de Clasificación:\")\n",
    "print(report)"
   ]
  },
  {
   "cell_type": "markdown",
   "metadata": {},
   "source": [
    "Resultados de 1er reporte de clasificación"
   ]
  },
  {
   "cell_type": "markdown",
   "metadata": {},
   "source": [
    "Reporte de Clasificación 1:\n",
    "              precision    recall  f1-score   support\n",
    "\n",
    "           1       0.98      1.00      0.99        90\n",
    "           2       0.97      0.98      0.97       115\n",
    "           3       1.00      0.94      0.97        69\n",
    "           4       1.00      1.00      1.00        72\n",
    "\n",
    "    accuracy                           0.98       346\n",
    "   macro avg       0.99      0.98      0.98       346\n",
    "weighted avg       0.98      0.98      0.98       346"
   ]
  },
  {
   "cell_type": "markdown",
   "metadata": {},
   "source": [
    "Según el informe de clasificación, el modelo parece funcionar bien, logrando una alta precisión, recuperación y puntuación F1 para cada clase. La alta precisión sugiere que el modelo es capaz de predecir el 'Nivel de destrucción' con un alto grado de corrección. Sin embargo, es importante tener en cuenta que sería necesario un mayor análisis y consideración de otras métricas de evaluación, como la validación cruzada o la validación de datos no vistos, para obtener una evaluación integral del rendimiento del modelo."
   ]
  },
  {
   "cell_type": "markdown",
   "metadata": {},
   "source": [
    "#### Interpretación de primer Reporte de Clasificación con RandomForestClassifier:"
   ]
  },
  {
   "cell_type": "markdown",
   "metadata": {},
   "source": [
    "### Evaluación con mae, rmse y r2"
   ]
  },
  {
   "cell_type": "code",
   "execution_count": 118,
   "metadata": {},
   "outputs": [
    {
     "name": "stdout",
     "output_type": "stream",
     "text": [
      "Mean Absolute Error (MAE): 0.017341040462427744\n",
      "Root Mean Squared Error (RMSE): 0.1520571842539411\n",
      "Coefficient of Determination (R^2): 0.9801623988590513\n"
     ]
    }
   ],
   "source": [
    "mae = mean_absolute_error(y_test, y_pred)\n",
    "rmse = mean_squared_error(y_test, y_pred, squared=False)\n",
    "r2 = r2_score(y_test, y_pred)\n",
    "\n",
    "print(\"Mean Absolute Error (MAE):\", mae)\n",
    "print(\"Root Mean Squared Error (RMSE):\", rmse)\n",
    "print(\"Coefficient of Determination (R^2):\", r2)"
   ]
  },
  {
   "cell_type": "markdown",
   "metadata": {},
   "source": [
    "#### Resultados de mae, rmse y r2"
   ]
  },
  {
   "cell_type": "markdown",
   "metadata": {},
   "source": [
    "Mean Absolute Error (MAE): 0.017341040462427744\n",
    "+ El error absoluto medio representa la diferencia absoluta media entre los valores predichos y los valores reales. En este caso, la diferencia absoluta media es de aproximadamente 0.0173. Los valores más bajos de MAE indican que las predicciones del modelo están más cerca de los valores reales y, por lo tanto, el modelo tiene una buena precisión al hacer predicciones.\n",
    "\n",
    "\n",
    "Error cuadrático medio (RMSE): 0.13168538439184413\n",
    "* El error cuadrático medio es otra métrica que mide la diferencia promedio entre los valores predichos y los valores reales, pero penaliza los errores grandes más que MAE. En este caso, el RMSE es de aproximadamente 0.1317, siendo superior al MAE, aunque los valores más bajos de RMSE indican que las predicciones del modelo están más cerca de los valores reales, lo que sugiere una buena precisión.\n",
    "\n",
    "\n",
    "Coeficiente de Determinación (R^2): 0.9851217991442884\n",
    "\n",
    "* El valor R-cuadrado, también conocido como coeficiente de determinación, mide qué tan bien el modelo explica la varianza en la variable objetivo. Va de 0 a 1, donde 1 indica un ajuste perfecto a los datos. En este caso, el valor de R-cuadrado es de aproximadamente 0,9851, que está muy cerca de 1. Esto indica que el modelo explica alrededor del 98,51 % de la varianza en la variable objetivo, y se considera un ajuste fuerte del modelo."
   ]
  },
  {
   "cell_type": "markdown",
   "metadata": {},
   "source": [
    "El informe de clasificación proporciona métricas de evaluación para el modelo RandomForestClassifier.\n",
    "La precisión, el recuerdo (recall) y la puntuación F1 (f1-score) se informan para cada clase (1, 2, 3, 4), junto con el soporte (número de muestras) para cada clase.\n",
    "También se informa la precisión del modelo: 1, lo que indica la corrección general de las predicciones.\n",
    "Las métricas de macro avg o macropromedio y weighted avg o promedio ponderado proporcionan medidas de rendimiento agregadas en todas las clases."
   ]
  },
  {
   "cell_type": "markdown",
   "metadata": {},
   "source": [
    "# Conclusiones de la versión 2 o Test B"
   ]
  },
  {
   "cell_type": "markdown",
   "metadata": {},
   "source": [
    "De acuerdo al reporte de clasificación, el modelo RandomForestClassifier v2 funciona muy bien al hacer predicciones, como lo indican los valores bajos de MAE y RMSE y el valor alto de R-cuadrado. Parece estar capturando los patrones subyacentes en los datos de manera efectiva y proporcionando predicciones precisas para el 'Nivel de Destrucción' en función de las características de entrada.\n",
    "\n",
    "Sin embargo, cabe recordar que en este test B o versión 2 se realizó un filtro previo para excluir los valores de 0 en columnas de Dis Mag Value, Total Deaths, Total Affected y Total Damages Adj, provocando que los resultados de densidad de los Niveles de Destrucción varíen mucho respecto a los del test A donde se conservaron valores íntegros, es decir, también se consideraron las filas con 0 que mostraban alguna relación o valor perteneciente a Filtro Flood.\n",
    "\n",
    "El test A o versión 1 se desempeña mejor que este, test B o versión 2 en los resultados, aunque la duda de si deben conservarse los valores totales persiste."
   ]
  },
  {
   "cell_type": "markdown",
   "metadata": {},
   "source": [
    "# Recomendaciones"
   ]
  },
  {
   "cell_type": "markdown",
   "metadata": {},
   "source": [
    "Aunque en el desempeño parezca que el Test A funciona mejor, es más confiable excluir los valores 0 previamente, aunque se reduzca la muestra considerablemente, como en el caso de este Test B.\n",
    "\n",
    "Si el 'Valor Dis Mag' de 0 indica datos faltantes o desconocidos, podría ser mejor excluir esas filas de la predicción del modelo. Al hacerlo, se asegura de que el modelo haga predicciones solo en función de datos significativos y confiables. Incluir filas con valores faltantes o desconocidos en la predicción puede generar ruido y afectar potencialmente la precisión de las predicciones del modelo.\n",
    "\n",
    "Por otro lado, el modelo también podría estar aprendendiendo de datos disponibles de otras columnas donde sí hay valores relacionados al evento Flood (recordemos que se realizó un filtro previo específico) aunque en 'Dis Mag Value' aparezca 0, y hacer predicciones en consecuencia.\n",
    "\n",
    "En resumen, la decisión de filtrar filas de manera segmentada con 'Dis Mag Value' u otras columnas pretende abordar el reto específico de nuestro dataset que es la inconsistencia de los mismos, debido a que no son fenómenos que ocurran de una forma constante ni ordenada, sino más bien aleatoria y dependiente de otros factores con los que no contamos, incluyendo muchos que no se recolectaron."
   ]
  }
 ],
 "metadata": {
  "kernelspec": {
   "display_name": "Python 3",
   "language": "python",
   "name": "python3"
  },
  "language_info": {
   "codemirror_mode": {
    "name": "ipython",
    "version": 3
   },
   "file_extension": ".py",
   "mimetype": "text/x-python",
   "name": "python",
   "nbconvert_exporter": "python",
   "pygments_lexer": "ipython3",
   "version": "3.10.11"
  },
  "orig_nbformat": 4
 },
 "nbformat": 4,
 "nbformat_minor": 2
}
